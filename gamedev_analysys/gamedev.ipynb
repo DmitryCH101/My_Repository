{
 "cells": [
  {
   "cell_type": "markdown",
   "metadata": {},
   "source": [
    "# Исследование закономерностей, определяющих успешность продукта на рынке видеоигр"
   ]
  },
  {
   "cell_type": "markdown",
   "metadata": {},
   "source": [
    "Проведем исследование для интернет-магазина «Стримчик», продающего по всему миру компьютерные игры. Из открытых источников доступны исторические данные о продажах игр, оценки пользователей и экспертов, жанры и платформы (например, Xbox или PlayStation). Нужно выявить определяющие успешность игры закономерности. Это позволит сделать ставку на потенциально популярный продукт и спланировать рекламные кампании.\n",
    "\n",
    "В ходе работы необходимо будет провести исследовательский анализ, составить портрет пользователя по каждому региону и проверить две гипотезы в финальной части проекта.\n",
    "Гипотезы следующие:\n",
    "\n",
    "- Средние пользовательские рейтинги платформ Xbox One и PC одинаковые;\n",
    "- Средние пользовательские рейтинги жанров Action (англ. «действие», экшен-игры) и Sports (англ. «спортивные соревнования») разные."
   ]
  },
  {
   "cell_type": "markdown",
   "metadata": {},
   "source": [
    "## Обзор даных"
   ]
  },
  {
   "cell_type": "markdown",
   "metadata": {},
   "source": [
    "Действия на данном этапе:\n",
    "\n",
    "- открыть таблицу и изучить информацию о ней;\n",
    "- изучить информацию о пропусках;"
   ]
  },
  {
   "cell_type": "markdown",
   "metadata": {},
   "source": [
    "### Начало работы"
   ]
  },
  {
   "cell_type": "code",
   "execution_count": 15,
   "metadata": {},
   "outputs": [],
   "source": [
    "import pandas as pd\n",
    "import matplotlib.pyplot as plt\n",
    "import numpy as np\n",
    "from math import factorial\n",
    "from scipy import stats as st\n",
    "import warnings # на всякий случай отключим преудпреждения\n",
    "warnings.filterwarnings('ignore')"
   ]
  },
  {
   "cell_type": "code",
   "execution_count": 16,
   "metadata": {},
   "outputs": [
    {
     "data": {
      "text/html": [
       "<div>\n",
       "<style scoped>\n",
       "    .dataframe tbody tr th:only-of-type {\n",
       "        vertical-align: middle;\n",
       "    }\n",
       "\n",
       "    .dataframe tbody tr th {\n",
       "        vertical-align: top;\n",
       "    }\n",
       "\n",
       "    .dataframe thead th {\n",
       "        text-align: right;\n",
       "    }\n",
       "</style>\n",
       "<table border=\"1\" class=\"dataframe\">\n",
       "  <thead>\n",
       "    <tr style=\"text-align: right;\">\n",
       "      <th></th>\n",
       "      <th>Name</th>\n",
       "      <th>Platform</th>\n",
       "      <th>Year_of_Release</th>\n",
       "      <th>Genre</th>\n",
       "      <th>NA_sales</th>\n",
       "      <th>EU_sales</th>\n",
       "      <th>JP_sales</th>\n",
       "      <th>Other_sales</th>\n",
       "      <th>Critic_Score</th>\n",
       "      <th>User_Score</th>\n",
       "      <th>Rating</th>\n",
       "    </tr>\n",
       "  </thead>\n",
       "  <tbody>\n",
       "    <tr>\n",
       "      <td>0</td>\n",
       "      <td>Wii Sports</td>\n",
       "      <td>Wii</td>\n",
       "      <td>2006.0</td>\n",
       "      <td>Sports</td>\n",
       "      <td>41.36</td>\n",
       "      <td>28.96</td>\n",
       "      <td>3.77</td>\n",
       "      <td>8.45</td>\n",
       "      <td>76.0</td>\n",
       "      <td>8</td>\n",
       "      <td>E</td>\n",
       "    </tr>\n",
       "    <tr>\n",
       "      <td>1</td>\n",
       "      <td>Super Mario Bros.</td>\n",
       "      <td>NES</td>\n",
       "      <td>1985.0</td>\n",
       "      <td>Platform</td>\n",
       "      <td>29.08</td>\n",
       "      <td>3.58</td>\n",
       "      <td>6.81</td>\n",
       "      <td>0.77</td>\n",
       "      <td>NaN</td>\n",
       "      <td>NaN</td>\n",
       "      <td>NaN</td>\n",
       "    </tr>\n",
       "    <tr>\n",
       "      <td>2</td>\n",
       "      <td>Mario Kart Wii</td>\n",
       "      <td>Wii</td>\n",
       "      <td>2008.0</td>\n",
       "      <td>Racing</td>\n",
       "      <td>15.68</td>\n",
       "      <td>12.76</td>\n",
       "      <td>3.79</td>\n",
       "      <td>3.29</td>\n",
       "      <td>82.0</td>\n",
       "      <td>8.3</td>\n",
       "      <td>E</td>\n",
       "    </tr>\n",
       "    <tr>\n",
       "      <td>3</td>\n",
       "      <td>Wii Sports Resort</td>\n",
       "      <td>Wii</td>\n",
       "      <td>2009.0</td>\n",
       "      <td>Sports</td>\n",
       "      <td>15.61</td>\n",
       "      <td>10.93</td>\n",
       "      <td>3.28</td>\n",
       "      <td>2.95</td>\n",
       "      <td>80.0</td>\n",
       "      <td>8</td>\n",
       "      <td>E</td>\n",
       "    </tr>\n",
       "    <tr>\n",
       "      <td>4</td>\n",
       "      <td>Pokemon Red/Pokemon Blue</td>\n",
       "      <td>GB</td>\n",
       "      <td>1996.0</td>\n",
       "      <td>Role-Playing</td>\n",
       "      <td>11.27</td>\n",
       "      <td>8.89</td>\n",
       "      <td>10.22</td>\n",
       "      <td>1.00</td>\n",
       "      <td>NaN</td>\n",
       "      <td>NaN</td>\n",
       "      <td>NaN</td>\n",
       "    </tr>\n",
       "    <tr>\n",
       "      <td>5</td>\n",
       "      <td>Tetris</td>\n",
       "      <td>GB</td>\n",
       "      <td>1989.0</td>\n",
       "      <td>Puzzle</td>\n",
       "      <td>23.20</td>\n",
       "      <td>2.26</td>\n",
       "      <td>4.22</td>\n",
       "      <td>0.58</td>\n",
       "      <td>NaN</td>\n",
       "      <td>NaN</td>\n",
       "      <td>NaN</td>\n",
       "    </tr>\n",
       "    <tr>\n",
       "      <td>6</td>\n",
       "      <td>New Super Mario Bros.</td>\n",
       "      <td>DS</td>\n",
       "      <td>2006.0</td>\n",
       "      <td>Platform</td>\n",
       "      <td>11.28</td>\n",
       "      <td>9.14</td>\n",
       "      <td>6.50</td>\n",
       "      <td>2.88</td>\n",
       "      <td>89.0</td>\n",
       "      <td>8.5</td>\n",
       "      <td>E</td>\n",
       "    </tr>\n",
       "    <tr>\n",
       "      <td>7</td>\n",
       "      <td>Wii Play</td>\n",
       "      <td>Wii</td>\n",
       "      <td>2006.0</td>\n",
       "      <td>Misc</td>\n",
       "      <td>13.96</td>\n",
       "      <td>9.18</td>\n",
       "      <td>2.93</td>\n",
       "      <td>2.84</td>\n",
       "      <td>58.0</td>\n",
       "      <td>6.6</td>\n",
       "      <td>E</td>\n",
       "    </tr>\n",
       "    <tr>\n",
       "      <td>8</td>\n",
       "      <td>New Super Mario Bros. Wii</td>\n",
       "      <td>Wii</td>\n",
       "      <td>2009.0</td>\n",
       "      <td>Platform</td>\n",
       "      <td>14.44</td>\n",
       "      <td>6.94</td>\n",
       "      <td>4.70</td>\n",
       "      <td>2.24</td>\n",
       "      <td>87.0</td>\n",
       "      <td>8.4</td>\n",
       "      <td>E</td>\n",
       "    </tr>\n",
       "    <tr>\n",
       "      <td>9</td>\n",
       "      <td>Duck Hunt</td>\n",
       "      <td>NES</td>\n",
       "      <td>1984.0</td>\n",
       "      <td>Shooter</td>\n",
       "      <td>26.93</td>\n",
       "      <td>0.63</td>\n",
       "      <td>0.28</td>\n",
       "      <td>0.47</td>\n",
       "      <td>NaN</td>\n",
       "      <td>NaN</td>\n",
       "      <td>NaN</td>\n",
       "    </tr>\n",
       "  </tbody>\n",
       "</table>\n",
       "</div>"
      ],
      "text/plain": [
       "                        Name Platform  Year_of_Release         Genre  \\\n",
       "0                 Wii Sports      Wii           2006.0        Sports   \n",
       "1          Super Mario Bros.      NES           1985.0      Platform   \n",
       "2             Mario Kart Wii      Wii           2008.0        Racing   \n",
       "3          Wii Sports Resort      Wii           2009.0        Sports   \n",
       "4   Pokemon Red/Pokemon Blue       GB           1996.0  Role-Playing   \n",
       "5                     Tetris       GB           1989.0        Puzzle   \n",
       "6      New Super Mario Bros.       DS           2006.0      Platform   \n",
       "7                   Wii Play      Wii           2006.0          Misc   \n",
       "8  New Super Mario Bros. Wii      Wii           2009.0      Platform   \n",
       "9                  Duck Hunt      NES           1984.0       Shooter   \n",
       "\n",
       "   NA_sales  EU_sales  JP_sales  Other_sales  Critic_Score User_Score Rating  \n",
       "0     41.36     28.96      3.77         8.45          76.0          8      E  \n",
       "1     29.08      3.58      6.81         0.77           NaN        NaN    NaN  \n",
       "2     15.68     12.76      3.79         3.29          82.0        8.3      E  \n",
       "3     15.61     10.93      3.28         2.95          80.0          8      E  \n",
       "4     11.27      8.89     10.22         1.00           NaN        NaN    NaN  \n",
       "5     23.20      2.26      4.22         0.58           NaN        NaN    NaN  \n",
       "6     11.28      9.14      6.50         2.88          89.0        8.5      E  \n",
       "7     13.96      9.18      2.93         2.84          58.0        6.6      E  \n",
       "8     14.44      6.94      4.70         2.24          87.0        8.4      E  \n",
       "9     26.93      0.63      0.28         0.47           NaN        NaN    NaN  "
      ]
     },
     "execution_count": 16,
     "metadata": {},
     "output_type": "execute_result"
    }
   ],
   "source": [
    "data = pd.read_csv('/datasets/games.csv')\n",
    "data.head(10)"
   ]
  },
  {
   "cell_type": "code",
   "execution_count": 17,
   "metadata": {},
   "outputs": [
    {
     "name": "stdout",
     "output_type": "stream",
     "text": [
      "<class 'pandas.core.frame.DataFrame'>\n",
      "RangeIndex: 16715 entries, 0 to 16714\n",
      "Data columns (total 11 columns):\n",
      "Name               16713 non-null object\n",
      "Platform           16715 non-null object\n",
      "Year_of_Release    16446 non-null float64\n",
      "Genre              16713 non-null object\n",
      "NA_sales           16715 non-null float64\n",
      "EU_sales           16715 non-null float64\n",
      "JP_sales           16715 non-null float64\n",
      "Other_sales        16715 non-null float64\n",
      "Critic_Score       8137 non-null float64\n",
      "User_Score         10014 non-null object\n",
      "Rating             9949 non-null object\n",
      "dtypes: float64(6), object(5)\n",
      "memory usage: 1.4+ MB\n"
     ]
    }
   ],
   "source": [
    "data.info()"
   ]
  },
  {
   "cell_type": "code",
   "execution_count": 18,
   "metadata": {},
   "outputs": [
    {
     "data": {
      "text/html": [
       "<div>\n",
       "<style scoped>\n",
       "    .dataframe tbody tr th:only-of-type {\n",
       "        vertical-align: middle;\n",
       "    }\n",
       "\n",
       "    .dataframe tbody tr th {\n",
       "        vertical-align: top;\n",
       "    }\n",
       "\n",
       "    .dataframe thead th {\n",
       "        text-align: right;\n",
       "    }\n",
       "</style>\n",
       "<table border=\"1\" class=\"dataframe\">\n",
       "  <thead>\n",
       "    <tr style=\"text-align: right;\">\n",
       "      <th></th>\n",
       "      <th>Year_of_Release</th>\n",
       "      <th>NA_sales</th>\n",
       "      <th>EU_sales</th>\n",
       "      <th>JP_sales</th>\n",
       "      <th>Other_sales</th>\n",
       "      <th>Critic_Score</th>\n",
       "    </tr>\n",
       "  </thead>\n",
       "  <tbody>\n",
       "    <tr>\n",
       "      <td>count</td>\n",
       "      <td>16446.000000</td>\n",
       "      <td>16715.000000</td>\n",
       "      <td>16715.000000</td>\n",
       "      <td>16715.000000</td>\n",
       "      <td>16715.000000</td>\n",
       "      <td>8137.000000</td>\n",
       "    </tr>\n",
       "    <tr>\n",
       "      <td>mean</td>\n",
       "      <td>2006.484616</td>\n",
       "      <td>0.263377</td>\n",
       "      <td>0.145060</td>\n",
       "      <td>0.077617</td>\n",
       "      <td>0.047342</td>\n",
       "      <td>68.967679</td>\n",
       "    </tr>\n",
       "    <tr>\n",
       "      <td>std</td>\n",
       "      <td>5.877050</td>\n",
       "      <td>0.813604</td>\n",
       "      <td>0.503339</td>\n",
       "      <td>0.308853</td>\n",
       "      <td>0.186731</td>\n",
       "      <td>13.938165</td>\n",
       "    </tr>\n",
       "    <tr>\n",
       "      <td>min</td>\n",
       "      <td>1980.000000</td>\n",
       "      <td>0.000000</td>\n",
       "      <td>0.000000</td>\n",
       "      <td>0.000000</td>\n",
       "      <td>0.000000</td>\n",
       "      <td>13.000000</td>\n",
       "    </tr>\n",
       "    <tr>\n",
       "      <td>25%</td>\n",
       "      <td>2003.000000</td>\n",
       "      <td>0.000000</td>\n",
       "      <td>0.000000</td>\n",
       "      <td>0.000000</td>\n",
       "      <td>0.000000</td>\n",
       "      <td>60.000000</td>\n",
       "    </tr>\n",
       "    <tr>\n",
       "      <td>50%</td>\n",
       "      <td>2007.000000</td>\n",
       "      <td>0.080000</td>\n",
       "      <td>0.020000</td>\n",
       "      <td>0.000000</td>\n",
       "      <td>0.010000</td>\n",
       "      <td>71.000000</td>\n",
       "    </tr>\n",
       "    <tr>\n",
       "      <td>75%</td>\n",
       "      <td>2010.000000</td>\n",
       "      <td>0.240000</td>\n",
       "      <td>0.110000</td>\n",
       "      <td>0.040000</td>\n",
       "      <td>0.030000</td>\n",
       "      <td>79.000000</td>\n",
       "    </tr>\n",
       "    <tr>\n",
       "      <td>max</td>\n",
       "      <td>2016.000000</td>\n",
       "      <td>41.360000</td>\n",
       "      <td>28.960000</td>\n",
       "      <td>10.220000</td>\n",
       "      <td>10.570000</td>\n",
       "      <td>98.000000</td>\n",
       "    </tr>\n",
       "  </tbody>\n",
       "</table>\n",
       "</div>"
      ],
      "text/plain": [
       "       Year_of_Release      NA_sales      EU_sales      JP_sales  \\\n",
       "count     16446.000000  16715.000000  16715.000000  16715.000000   \n",
       "mean       2006.484616      0.263377      0.145060      0.077617   \n",
       "std           5.877050      0.813604      0.503339      0.308853   \n",
       "min        1980.000000      0.000000      0.000000      0.000000   \n",
       "25%        2003.000000      0.000000      0.000000      0.000000   \n",
       "50%        2007.000000      0.080000      0.020000      0.000000   \n",
       "75%        2010.000000      0.240000      0.110000      0.040000   \n",
       "max        2016.000000     41.360000     28.960000     10.220000   \n",
       "\n",
       "        Other_sales  Critic_Score  \n",
       "count  16715.000000   8137.000000  \n",
       "mean       0.047342     68.967679  \n",
       "std        0.186731     13.938165  \n",
       "min        0.000000     13.000000  \n",
       "25%        0.000000     60.000000  \n",
       "50%        0.010000     71.000000  \n",
       "75%        0.030000     79.000000  \n",
       "max       10.570000     98.000000  "
      ]
     },
     "execution_count": 18,
     "metadata": {},
     "output_type": "execute_result"
    }
   ],
   "source": [
    "data.describe()"
   ]
  },
  {
   "cell_type": "markdown",
   "metadata": {},
   "source": [
    "Описание столбцов таблицы.\n",
    "\n",
    "- `Name` — название игры\n",
    "- `Platform` — платформа\n",
    "- `Year_of_Release` — год выпуска\n",
    "- `Genre` — жанр игры\n",
    "- `NA_sales` — продажи в Северной Америке (миллионы проданных копий)\n",
    "- `EU_sales` — продажи в Европе (миллионы проданных копий)\n",
    "- `JP_sales` — продажи в Японии (миллионы проданных копий)\n",
    "- `Other_sales` — продажи в других странах (миллионы проданных копий)\n",
    "- `Critic_Score` — оценка критиков (максимум 100)\n",
    "- `User_Score` — оценка пользователей (максимум 10)\n",
    "- `Rating` — рейтинг от организации ESRB (англ. Entertainment Software Rating Board). Эта ассоциация определяет рейтинг компьютерных игр и присваивает им подходящую возрастную категорию."
   ]
  },
  {
   "cell_type": "markdown",
   "metadata": {},
   "source": [
    "### Вывод"
   ]
  },
  {
   "cell_type": "markdown",
   "metadata": {},
   "source": [
    "Первое, что можно увидеть, это названия столбоцв, написанные не в \"змеином регистре\". Нижние подчеркивания, разделяющие слова в составных названия присутствуют, но сами слова написаны с большой буквы. Это необходимо будет исправить. Далее можно обратить внимание на пропуски. Пропуски присутствуют в столбцах `Year_of_Release`, `Critic_Score`, `User_Score` и `Rating`. В данном случае, пропуски в столбцах с оценками заполнять нельзя, так как они могут исказить результаты дальнейших расчетов, поэтому просто заполним их нулями, чтобы избавиться от NaN. Пропуски в столбце `Rating` можно заполнить \"заглушками\" (например, пустыми строками) потому, что это категориальная переменная.  "
   ]
  },
  {
   "cell_type": "markdown",
   "metadata": {},
   "source": [
    "## Предобработка данных"
   ]
  },
  {
   "cell_type": "markdown",
   "metadata": {},
   "source": [
    "Действия на данном этапе:\n",
    "- заменим названия столбцов (приведем к нижнему регистру);\n",
    "- обработаем пропуски при необходимости;\n",
    "- преобразуем данные в нужные типы;\n",
    "- опишем причины, которые могли привести к пропускам;\n",
    "- разберемся с аббревиатурой `tbd` в столбце с оценкой пользователей. Отдельно разберем это значение;\n",
    "- посчитайте суммарные продажи во всех регионах и запишем их в отдельный столбец."
   ]
  },
  {
   "cell_type": "markdown",
   "metadata": {},
   "source": [
    "### Приведение названий столбцов к нижнему регистру"
   ]
  },
  {
   "cell_type": "markdown",
   "metadata": {},
   "source": [
    "Приведем названия столбцов к нижнему регистру. Сделать это достаточно просто, если применить функцию `map()`, передав ей соответствующие параметры."
   ]
  },
  {
   "cell_type": "code",
   "execution_count": 19,
   "metadata": {},
   "outputs": [
    {
     "data": {
      "text/html": [
       "<div>\n",
       "<style scoped>\n",
       "    .dataframe tbody tr th:only-of-type {\n",
       "        vertical-align: middle;\n",
       "    }\n",
       "\n",
       "    .dataframe tbody tr th {\n",
       "        vertical-align: top;\n",
       "    }\n",
       "\n",
       "    .dataframe thead th {\n",
       "        text-align: right;\n",
       "    }\n",
       "</style>\n",
       "<table border=\"1\" class=\"dataframe\">\n",
       "  <thead>\n",
       "    <tr style=\"text-align: right;\">\n",
       "      <th></th>\n",
       "      <th>name</th>\n",
       "      <th>platform</th>\n",
       "      <th>year_of_release</th>\n",
       "      <th>genre</th>\n",
       "      <th>na_sales</th>\n",
       "      <th>eu_sales</th>\n",
       "      <th>jp_sales</th>\n",
       "      <th>other_sales</th>\n",
       "      <th>critic_score</th>\n",
       "      <th>user_score</th>\n",
       "      <th>rating</th>\n",
       "    </tr>\n",
       "  </thead>\n",
       "  <tbody>\n",
       "    <tr>\n",
       "      <td>0</td>\n",
       "      <td>Wii Sports</td>\n",
       "      <td>Wii</td>\n",
       "      <td>2006.0</td>\n",
       "      <td>Sports</td>\n",
       "      <td>41.36</td>\n",
       "      <td>28.96</td>\n",
       "      <td>3.77</td>\n",
       "      <td>8.45</td>\n",
       "      <td>76.0</td>\n",
       "      <td>8</td>\n",
       "      <td>E</td>\n",
       "    </tr>\n",
       "    <tr>\n",
       "      <td>1</td>\n",
       "      <td>Super Mario Bros.</td>\n",
       "      <td>NES</td>\n",
       "      <td>1985.0</td>\n",
       "      <td>Platform</td>\n",
       "      <td>29.08</td>\n",
       "      <td>3.58</td>\n",
       "      <td>6.81</td>\n",
       "      <td>0.77</td>\n",
       "      <td>NaN</td>\n",
       "      <td>NaN</td>\n",
       "      <td>NaN</td>\n",
       "    </tr>\n",
       "    <tr>\n",
       "      <td>2</td>\n",
       "      <td>Mario Kart Wii</td>\n",
       "      <td>Wii</td>\n",
       "      <td>2008.0</td>\n",
       "      <td>Racing</td>\n",
       "      <td>15.68</td>\n",
       "      <td>12.76</td>\n",
       "      <td>3.79</td>\n",
       "      <td>3.29</td>\n",
       "      <td>82.0</td>\n",
       "      <td>8.3</td>\n",
       "      <td>E</td>\n",
       "    </tr>\n",
       "    <tr>\n",
       "      <td>3</td>\n",
       "      <td>Wii Sports Resort</td>\n",
       "      <td>Wii</td>\n",
       "      <td>2009.0</td>\n",
       "      <td>Sports</td>\n",
       "      <td>15.61</td>\n",
       "      <td>10.93</td>\n",
       "      <td>3.28</td>\n",
       "      <td>2.95</td>\n",
       "      <td>80.0</td>\n",
       "      <td>8</td>\n",
       "      <td>E</td>\n",
       "    </tr>\n",
       "    <tr>\n",
       "      <td>4</td>\n",
       "      <td>Pokemon Red/Pokemon Blue</td>\n",
       "      <td>GB</td>\n",
       "      <td>1996.0</td>\n",
       "      <td>Role-Playing</td>\n",
       "      <td>11.27</td>\n",
       "      <td>8.89</td>\n",
       "      <td>10.22</td>\n",
       "      <td>1.00</td>\n",
       "      <td>NaN</td>\n",
       "      <td>NaN</td>\n",
       "      <td>NaN</td>\n",
       "    </tr>\n",
       "  </tbody>\n",
       "</table>\n",
       "</div>"
      ],
      "text/plain": [
       "                       name platform  year_of_release         genre  na_sales  \\\n",
       "0                Wii Sports      Wii           2006.0        Sports     41.36   \n",
       "1         Super Mario Bros.      NES           1985.0      Platform     29.08   \n",
       "2            Mario Kart Wii      Wii           2008.0        Racing     15.68   \n",
       "3         Wii Sports Resort      Wii           2009.0        Sports     15.61   \n",
       "4  Pokemon Red/Pokemon Blue       GB           1996.0  Role-Playing     11.27   \n",
       "\n",
       "   eu_sales  jp_sales  other_sales  critic_score user_score rating  \n",
       "0     28.96      3.77         8.45          76.0          8      E  \n",
       "1      3.58      6.81         0.77           NaN        NaN    NaN  \n",
       "2     12.76      3.79         3.29          82.0        8.3      E  \n",
       "3     10.93      3.28         2.95          80.0          8      E  \n",
       "4      8.89     10.22         1.00           NaN        NaN    NaN  "
      ]
     },
     "execution_count": 19,
     "metadata": {},
     "output_type": "execute_result"
    }
   ],
   "source": [
    "data.columns = map(str.lower, data.columns)\n",
    "data.head()"
   ]
  },
  {
   "cell_type": "markdown",
   "metadata": {},
   "source": [
    "### Обработка пропусков"
   ]
  },
  {
   "cell_type": "markdown",
   "metadata": {},
   "source": [
    "Для дальнейшей работы на данном этапе необходимо избавиться от пропусков в данных. Замена пропусков на определенные значения может исказить результаты в дальнейшем, поэтому заменим их нулями а в некоторых случая удалим строки с пропусками."
   ]
  },
  {
   "cell_type": "code",
   "execution_count": 20,
   "metadata": {},
   "outputs": [],
   "source": [
    "data['year_of_release'] = data['year_of_release'].fillna(0)\n",
    "data = data.query('year_of_release != 0')"
   ]
  },
  {
   "cell_type": "code",
   "execution_count": 21,
   "metadata": {},
   "outputs": [],
   "source": [
    "data['critic_score'] = data['critic_score'].fillna(0)\n",
    "data['critic_score'] = data['critic_score'].astype(int)"
   ]
  },
  {
   "cell_type": "markdown",
   "metadata": {},
   "source": [
    "В столбце `user_score` присутствует значение `tbd`. Аббревиатура TBD в данном случае скорее всего обозначает \"To Be Determined\" (англ. \"Будет определено\"). Смысл здесь следующий. Скорее всего, некоторые пользователи составили мнение о какой-либо игре, но не оставили оценку на сайте. Для исследования эти данные можно считать пропусками и попросту заполнить пропущенные значения нулями."
   ]
  },
  {
   "cell_type": "code",
   "execution_count": 22,
   "metadata": {},
   "outputs": [],
   "source": [
    "data['user_score'] = data['user_score'].replace('tbd', 0)"
   ]
  },
  {
   "cell_type": "code",
   "execution_count": 23,
   "metadata": {},
   "outputs": [],
   "source": [
    "data['user_score'] = data['user_score'].fillna(0)"
   ]
  },
  {
   "cell_type": "code",
   "execution_count": 24,
   "metadata": {},
   "outputs": [
    {
     "data": {
      "text/plain": [
       "4.0"
      ]
     },
     "execution_count": 24,
     "metadata": {},
     "output_type": "execute_result"
    }
   ],
   "source": [
    "a = [3,5,np.nan,2,np.nan,6]\n",
    "pd.Series(a).mean()"
   ]
  },
  {
   "cell_type": "code",
   "execution_count": 25,
   "metadata": {},
   "outputs": [
    {
     "data": {
      "text/plain": [
       "2.6666666666666665"
      ]
     },
     "execution_count": 25,
     "metadata": {},
     "output_type": "execute_result"
    }
   ],
   "source": [
    "b = [3,5,0,2,0,6]\n",
    "pd.Series(b).mean()"
   ]
  },
  {
   "cell_type": "markdown",
   "metadata": {},
   "source": [
    "Заменим пропуски в столбце `rating` пустыми строками."
   ]
  },
  {
   "cell_type": "code",
   "execution_count": 26,
   "metadata": {},
   "outputs": [],
   "source": [
    "data['rating'] = data['rating'].fillna(' ')"
   ]
  },
  {
   "cell_type": "markdown",
   "metadata": {},
   "source": [
    "Заменим типы данных на подходящие."
   ]
  },
  {
   "cell_type": "code",
   "execution_count": 27,
   "metadata": {},
   "outputs": [],
   "source": [
    "data['year_of_release'] = data['year_of_release'].astype(int)\n",
    "data['user_score'] = data['user_score'].astype(float)"
   ]
  },
  {
   "cell_type": "code",
   "execution_count": 28,
   "metadata": {},
   "outputs": [
    {
     "name": "stdout",
     "output_type": "stream",
     "text": [
      "<class 'pandas.core.frame.DataFrame'>\n",
      "Int64Index: 16446 entries, 0 to 16714\n",
      "Data columns (total 11 columns):\n",
      "name               16444 non-null object\n",
      "platform           16446 non-null object\n",
      "year_of_release    16446 non-null int64\n",
      "genre              16444 non-null object\n",
      "na_sales           16446 non-null float64\n",
      "eu_sales           16446 non-null float64\n",
      "jp_sales           16446 non-null float64\n",
      "other_sales        16446 non-null float64\n",
      "critic_score       16446 non-null int64\n",
      "user_score         16446 non-null float64\n",
      "rating             16446 non-null object\n",
      "dtypes: float64(5), int64(2), object(4)\n",
      "memory usage: 1.5+ MB\n"
     ]
    }
   ],
   "source": [
    "data.info()"
   ]
  },
  {
   "cell_type": "markdown",
   "metadata": {},
   "source": [
    "В таблице осталось еще 4 пропущенных значения. Отфильтруем их при помощи `query`."
   ]
  },
  {
   "cell_type": "code",
   "execution_count": 29,
   "metadata": {},
   "outputs": [
    {
     "name": "stdout",
     "output_type": "stream",
     "text": [
      "<class 'pandas.core.frame.DataFrame'>\n",
      "Int64Index: 16444 entries, 0 to 16714\n",
      "Data columns (total 11 columns):\n",
      "name               16444 non-null object\n",
      "platform           16444 non-null object\n",
      "year_of_release    16444 non-null int64\n",
      "genre              16444 non-null object\n",
      "na_sales           16444 non-null float64\n",
      "eu_sales           16444 non-null float64\n",
      "jp_sales           16444 non-null float64\n",
      "other_sales        16444 non-null float64\n",
      "critic_score       16444 non-null int64\n",
      "user_score         16444 non-null float64\n",
      "rating             16444 non-null object\n",
      "dtypes: float64(5), int64(2), object(4)\n",
      "memory usage: 1.5+ MB\n"
     ]
    }
   ],
   "source": [
    "data.dropna(subset = ['name','genre'], inplace = True)\n",
    "data.info()"
   ]
  },
  {
   "cell_type": "markdown",
   "metadata": {},
   "source": [
    "Проверим таблицу на дубликаты т.е. на полностью индентичные друг другу строки."
   ]
  },
  {
   "cell_type": "code",
   "execution_count": 30,
   "metadata": {},
   "outputs": [
    {
     "data": {
      "text/plain": [
       "0"
      ]
     },
     "execution_count": 30,
     "metadata": {},
     "output_type": "execute_result"
    }
   ],
   "source": [
    "data.duplicated().sum()"
   ]
  },
  {
   "cell_type": "markdown",
   "metadata": {},
   "source": [
    "Выведем на экран таблицу, чтобы определиться в результатах преобразований."
   ]
  },
  {
   "cell_type": "code",
   "execution_count": 31,
   "metadata": {},
   "outputs": [
    {
     "data": {
      "text/html": [
       "<div>\n",
       "<style scoped>\n",
       "    .dataframe tbody tr th:only-of-type {\n",
       "        vertical-align: middle;\n",
       "    }\n",
       "\n",
       "    .dataframe tbody tr th {\n",
       "        vertical-align: top;\n",
       "    }\n",
       "\n",
       "    .dataframe thead th {\n",
       "        text-align: right;\n",
       "    }\n",
       "</style>\n",
       "<table border=\"1\" class=\"dataframe\">\n",
       "  <thead>\n",
       "    <tr style=\"text-align: right;\">\n",
       "      <th></th>\n",
       "      <th>name</th>\n",
       "      <th>platform</th>\n",
       "      <th>year_of_release</th>\n",
       "      <th>genre</th>\n",
       "      <th>na_sales</th>\n",
       "      <th>eu_sales</th>\n",
       "      <th>jp_sales</th>\n",
       "      <th>other_sales</th>\n",
       "      <th>critic_score</th>\n",
       "      <th>user_score</th>\n",
       "      <th>rating</th>\n",
       "    </tr>\n",
       "  </thead>\n",
       "  <tbody>\n",
       "    <tr>\n",
       "      <td>0</td>\n",
       "      <td>Wii Sports</td>\n",
       "      <td>Wii</td>\n",
       "      <td>2006</td>\n",
       "      <td>Sports</td>\n",
       "      <td>41.36</td>\n",
       "      <td>28.96</td>\n",
       "      <td>3.77</td>\n",
       "      <td>8.45</td>\n",
       "      <td>76</td>\n",
       "      <td>8.0</td>\n",
       "      <td>E</td>\n",
       "    </tr>\n",
       "    <tr>\n",
       "      <td>1</td>\n",
       "      <td>Super Mario Bros.</td>\n",
       "      <td>NES</td>\n",
       "      <td>1985</td>\n",
       "      <td>Platform</td>\n",
       "      <td>29.08</td>\n",
       "      <td>3.58</td>\n",
       "      <td>6.81</td>\n",
       "      <td>0.77</td>\n",
       "      <td>0</td>\n",
       "      <td>0.0</td>\n",
       "      <td></td>\n",
       "    </tr>\n",
       "    <tr>\n",
       "      <td>2</td>\n",
       "      <td>Mario Kart Wii</td>\n",
       "      <td>Wii</td>\n",
       "      <td>2008</td>\n",
       "      <td>Racing</td>\n",
       "      <td>15.68</td>\n",
       "      <td>12.76</td>\n",
       "      <td>3.79</td>\n",
       "      <td>3.29</td>\n",
       "      <td>82</td>\n",
       "      <td>8.3</td>\n",
       "      <td>E</td>\n",
       "    </tr>\n",
       "    <tr>\n",
       "      <td>3</td>\n",
       "      <td>Wii Sports Resort</td>\n",
       "      <td>Wii</td>\n",
       "      <td>2009</td>\n",
       "      <td>Sports</td>\n",
       "      <td>15.61</td>\n",
       "      <td>10.93</td>\n",
       "      <td>3.28</td>\n",
       "      <td>2.95</td>\n",
       "      <td>80</td>\n",
       "      <td>8.0</td>\n",
       "      <td>E</td>\n",
       "    </tr>\n",
       "    <tr>\n",
       "      <td>4</td>\n",
       "      <td>Pokemon Red/Pokemon Blue</td>\n",
       "      <td>GB</td>\n",
       "      <td>1996</td>\n",
       "      <td>Role-Playing</td>\n",
       "      <td>11.27</td>\n",
       "      <td>8.89</td>\n",
       "      <td>10.22</td>\n",
       "      <td>1.00</td>\n",
       "      <td>0</td>\n",
       "      <td>0.0</td>\n",
       "      <td></td>\n",
       "    </tr>\n",
       "    <tr>\n",
       "      <td>5</td>\n",
       "      <td>Tetris</td>\n",
       "      <td>GB</td>\n",
       "      <td>1989</td>\n",
       "      <td>Puzzle</td>\n",
       "      <td>23.20</td>\n",
       "      <td>2.26</td>\n",
       "      <td>4.22</td>\n",
       "      <td>0.58</td>\n",
       "      <td>0</td>\n",
       "      <td>0.0</td>\n",
       "      <td></td>\n",
       "    </tr>\n",
       "    <tr>\n",
       "      <td>6</td>\n",
       "      <td>New Super Mario Bros.</td>\n",
       "      <td>DS</td>\n",
       "      <td>2006</td>\n",
       "      <td>Platform</td>\n",
       "      <td>11.28</td>\n",
       "      <td>9.14</td>\n",
       "      <td>6.50</td>\n",
       "      <td>2.88</td>\n",
       "      <td>89</td>\n",
       "      <td>8.5</td>\n",
       "      <td>E</td>\n",
       "    </tr>\n",
       "    <tr>\n",
       "      <td>7</td>\n",
       "      <td>Wii Play</td>\n",
       "      <td>Wii</td>\n",
       "      <td>2006</td>\n",
       "      <td>Misc</td>\n",
       "      <td>13.96</td>\n",
       "      <td>9.18</td>\n",
       "      <td>2.93</td>\n",
       "      <td>2.84</td>\n",
       "      <td>58</td>\n",
       "      <td>6.6</td>\n",
       "      <td>E</td>\n",
       "    </tr>\n",
       "    <tr>\n",
       "      <td>8</td>\n",
       "      <td>New Super Mario Bros. Wii</td>\n",
       "      <td>Wii</td>\n",
       "      <td>2009</td>\n",
       "      <td>Platform</td>\n",
       "      <td>14.44</td>\n",
       "      <td>6.94</td>\n",
       "      <td>4.70</td>\n",
       "      <td>2.24</td>\n",
       "      <td>87</td>\n",
       "      <td>8.4</td>\n",
       "      <td>E</td>\n",
       "    </tr>\n",
       "    <tr>\n",
       "      <td>9</td>\n",
       "      <td>Duck Hunt</td>\n",
       "      <td>NES</td>\n",
       "      <td>1984</td>\n",
       "      <td>Shooter</td>\n",
       "      <td>26.93</td>\n",
       "      <td>0.63</td>\n",
       "      <td>0.28</td>\n",
       "      <td>0.47</td>\n",
       "      <td>0</td>\n",
       "      <td>0.0</td>\n",
       "      <td></td>\n",
       "    </tr>\n",
       "  </tbody>\n",
       "</table>\n",
       "</div>"
      ],
      "text/plain": [
       "                        name platform  year_of_release         genre  \\\n",
       "0                 Wii Sports      Wii             2006        Sports   \n",
       "1          Super Mario Bros.      NES             1985      Platform   \n",
       "2             Mario Kart Wii      Wii             2008        Racing   \n",
       "3          Wii Sports Resort      Wii             2009        Sports   \n",
       "4   Pokemon Red/Pokemon Blue       GB             1996  Role-Playing   \n",
       "5                     Tetris       GB             1989        Puzzle   \n",
       "6      New Super Mario Bros.       DS             2006      Platform   \n",
       "7                   Wii Play      Wii             2006          Misc   \n",
       "8  New Super Mario Bros. Wii      Wii             2009      Platform   \n",
       "9                  Duck Hunt      NES             1984       Shooter   \n",
       "\n",
       "   na_sales  eu_sales  jp_sales  other_sales  critic_score  user_score rating  \n",
       "0     41.36     28.96      3.77         8.45            76         8.0      E  \n",
       "1     29.08      3.58      6.81         0.77             0         0.0         \n",
       "2     15.68     12.76      3.79         3.29            82         8.3      E  \n",
       "3     15.61     10.93      3.28         2.95            80         8.0      E  \n",
       "4     11.27      8.89     10.22         1.00             0         0.0         \n",
       "5     23.20      2.26      4.22         0.58             0         0.0         \n",
       "6     11.28      9.14      6.50         2.88            89         8.5      E  \n",
       "7     13.96      9.18      2.93         2.84            58         6.6      E  \n",
       "8     14.44      6.94      4.70         2.24            87         8.4      E  \n",
       "9     26.93      0.63      0.28         0.47             0         0.0         "
      ]
     },
     "execution_count": 31,
     "metadata": {},
     "output_type": "execute_result"
    }
   ],
   "source": [
    "data.head(10)"
   ]
  },
  {
   "cell_type": "markdown",
   "metadata": {},
   "source": [
    "### Добавление информации в таблицу"
   ]
  },
  {
   "cell_type": "markdown",
   "metadata": {},
   "source": [
    "Предобработка завершена. Возможная причина появления пропусков в том, что для некоторых игр просто не выставили либо не успели выставить оценку. Теперь добавим в таблицу столбцы с суммарными продажами во всех регионах."
   ]
  },
  {
   "cell_type": "code",
   "execution_count": 32,
   "metadata": {},
   "outputs": [],
   "source": [
    "data['total_sales'] = data[['na_sales','eu_sales','jp_sales', 'other_sales']].sum(axis = 1)"
   ]
  },
  {
   "cell_type": "code",
   "execution_count": 33,
   "metadata": {},
   "outputs": [
    {
     "data": {
      "text/html": [
       "<div>\n",
       "<style scoped>\n",
       "    .dataframe tbody tr th:only-of-type {\n",
       "        vertical-align: middle;\n",
       "    }\n",
       "\n",
       "    .dataframe tbody tr th {\n",
       "        vertical-align: top;\n",
       "    }\n",
       "\n",
       "    .dataframe thead th {\n",
       "        text-align: right;\n",
       "    }\n",
       "</style>\n",
       "<table border=\"1\" class=\"dataframe\">\n",
       "  <thead>\n",
       "    <tr style=\"text-align: right;\">\n",
       "      <th></th>\n",
       "      <th>name</th>\n",
       "      <th>platform</th>\n",
       "      <th>year_of_release</th>\n",
       "      <th>genre</th>\n",
       "      <th>na_sales</th>\n",
       "      <th>eu_sales</th>\n",
       "      <th>jp_sales</th>\n",
       "      <th>other_sales</th>\n",
       "      <th>critic_score</th>\n",
       "      <th>user_score</th>\n",
       "      <th>rating</th>\n",
       "      <th>total_sales</th>\n",
       "    </tr>\n",
       "  </thead>\n",
       "  <tbody>\n",
       "    <tr>\n",
       "      <td>0</td>\n",
       "      <td>Wii Sports</td>\n",
       "      <td>Wii</td>\n",
       "      <td>2006</td>\n",
       "      <td>Sports</td>\n",
       "      <td>41.36</td>\n",
       "      <td>28.96</td>\n",
       "      <td>3.77</td>\n",
       "      <td>8.45</td>\n",
       "      <td>76</td>\n",
       "      <td>8.0</td>\n",
       "      <td>E</td>\n",
       "      <td>82.54</td>\n",
       "    </tr>\n",
       "    <tr>\n",
       "      <td>1</td>\n",
       "      <td>Super Mario Bros.</td>\n",
       "      <td>NES</td>\n",
       "      <td>1985</td>\n",
       "      <td>Platform</td>\n",
       "      <td>29.08</td>\n",
       "      <td>3.58</td>\n",
       "      <td>6.81</td>\n",
       "      <td>0.77</td>\n",
       "      <td>0</td>\n",
       "      <td>0.0</td>\n",
       "      <td></td>\n",
       "      <td>40.24</td>\n",
       "    </tr>\n",
       "    <tr>\n",
       "      <td>2</td>\n",
       "      <td>Mario Kart Wii</td>\n",
       "      <td>Wii</td>\n",
       "      <td>2008</td>\n",
       "      <td>Racing</td>\n",
       "      <td>15.68</td>\n",
       "      <td>12.76</td>\n",
       "      <td>3.79</td>\n",
       "      <td>3.29</td>\n",
       "      <td>82</td>\n",
       "      <td>8.3</td>\n",
       "      <td>E</td>\n",
       "      <td>35.52</td>\n",
       "    </tr>\n",
       "    <tr>\n",
       "      <td>3</td>\n",
       "      <td>Wii Sports Resort</td>\n",
       "      <td>Wii</td>\n",
       "      <td>2009</td>\n",
       "      <td>Sports</td>\n",
       "      <td>15.61</td>\n",
       "      <td>10.93</td>\n",
       "      <td>3.28</td>\n",
       "      <td>2.95</td>\n",
       "      <td>80</td>\n",
       "      <td>8.0</td>\n",
       "      <td>E</td>\n",
       "      <td>32.77</td>\n",
       "    </tr>\n",
       "    <tr>\n",
       "      <td>4</td>\n",
       "      <td>Pokemon Red/Pokemon Blue</td>\n",
       "      <td>GB</td>\n",
       "      <td>1996</td>\n",
       "      <td>Role-Playing</td>\n",
       "      <td>11.27</td>\n",
       "      <td>8.89</td>\n",
       "      <td>10.22</td>\n",
       "      <td>1.00</td>\n",
       "      <td>0</td>\n",
       "      <td>0.0</td>\n",
       "      <td></td>\n",
       "      <td>31.38</td>\n",
       "    </tr>\n",
       "  </tbody>\n",
       "</table>\n",
       "</div>"
      ],
      "text/plain": [
       "                       name platform  year_of_release         genre  na_sales  \\\n",
       "0                Wii Sports      Wii             2006        Sports     41.36   \n",
       "1         Super Mario Bros.      NES             1985      Platform     29.08   \n",
       "2            Mario Kart Wii      Wii             2008        Racing     15.68   \n",
       "3         Wii Sports Resort      Wii             2009        Sports     15.61   \n",
       "4  Pokemon Red/Pokemon Blue       GB             1996  Role-Playing     11.27   \n",
       "\n",
       "   eu_sales  jp_sales  other_sales  critic_score  user_score rating  \\\n",
       "0     28.96      3.77         8.45            76         8.0      E   \n",
       "1      3.58      6.81         0.77             0         0.0          \n",
       "2     12.76      3.79         3.29            82         8.3      E   \n",
       "3     10.93      3.28         2.95            80         8.0      E   \n",
       "4      8.89     10.22         1.00             0         0.0          \n",
       "\n",
       "   total_sales  \n",
       "0        82.54  \n",
       "1        40.24  \n",
       "2        35.52  \n",
       "3        32.77  \n",
       "4        31.38  "
      ]
     },
     "execution_count": 33,
     "metadata": {},
     "output_type": "execute_result"
    }
   ],
   "source": [
    "data.head()"
   ]
  },
  {
   "cell_type": "markdown",
   "metadata": {},
   "source": [
    "### Вывод"
   ]
  },
  {
   "cell_type": "markdown",
   "metadata": {},
   "source": [
    "Предобработка данных завершена. Названия столбцов были заменены на строчные, были удалены пропуски, в таблицу добавлен столбец с суммарным количеством продаж по каждой строке таблицы."
   ]
  },
  {
   "cell_type": "markdown",
   "metadata": {},
   "source": [
    "## Исследовательский анализ"
   ]
  },
  {
   "cell_type": "markdown",
   "metadata": {},
   "source": [
    "На данном этапе необходимо проверить:\n",
    "- сколько игр выпускалось в разные годы;\n",
    "- посмотреть, как менялись продажи по платформам и выделить платформы с наибольшими суммарными продажами;\n",
    "- выяснить какие платформы растут по продажам и выбрать несколько потенциально прибыльных;\n",
    "- построить график по продажам с разбивкой по платформам;\n",
    "- посмотреть, как отзыввы пользователей и критиков влияют на продажи;\n",
    "- выделить самы прибыльные жанры."
   ]
  },
  {
   "cell_type": "markdown",
   "metadata": {},
   "source": [
    "### Анализ количества выпущенных игр по годам"
   ]
  },
  {
   "cell_type": "markdown",
   "metadata": {},
   "source": [
    "Для того, чтобы посмотреть, сколько игр было выпущено в разное время, построим гистограмму и отбросим данные за те периоды, когда игр выпускалось совсем мало."
   ]
  },
  {
   "cell_type": "code",
   "execution_count": 34,
   "metadata": {},
   "outputs": [
    {
     "data": {
      "text/plain": [
       "<matplotlib.axes._subplots.AxesSubplot at 0x7f36396e18d0>"
      ]
     },
     "execution_count": 34,
     "metadata": {},
     "output_type": "execute_result"
    },
    {
     "data": {
      "image/png": "[encoded data removed]",
      "text/plain": [
       "<Figure size 648x648 with 1 Axes>"
      ]
     },
     "metadata": {
      "needs_background": "light"
     },
     "output_type": "display_data"
    }
   ],
   "source": [
    "data.plot(y='year_of_release', kind='hist', layout=(2, 2), figsize=(9, 9), grid=True, title='Распределение количества игр по годам')"
   ]
  },
  {
   "cell_type": "markdown",
   "metadata": {},
   "source": [
    "Глядя на график, можно сделать вывод, что наибольшее количество игр (более 4000) были выпущены в 2010-11 годах, а наименьшее количество игр - в 1990 году. Данные до 1993 года не представляют интереса для исследования, их можно обросить."
   ]
  },
  {
   "cell_type": "markdown",
   "metadata": {},
   "source": [
    "Перезапишем датасет основываясь на выводе выше."
   ]
  },
  {
   "cell_type": "code",
   "execution_count": 35,
   "metadata": {
    "scrolled": true
   },
   "outputs": [],
   "source": [
    "data = data.query('year_of_release > 1993')"
   ]
  },
  {
   "cell_type": "code",
   "execution_count": 36,
   "metadata": {},
   "outputs": [
    {
     "data": {
      "text/html": [
       "<div>\n",
       "<style scoped>\n",
       "    .dataframe tbody tr th:only-of-type {\n",
       "        vertical-align: middle;\n",
       "    }\n",
       "\n",
       "    .dataframe tbody tr th {\n",
       "        vertical-align: top;\n",
       "    }\n",
       "\n",
       "    .dataframe thead th {\n",
       "        text-align: right;\n",
       "    }\n",
       "</style>\n",
       "<table border=\"1\" class=\"dataframe\">\n",
       "  <thead>\n",
       "    <tr style=\"text-align: right;\">\n",
       "      <th></th>\n",
       "      <th>name</th>\n",
       "      <th>platform</th>\n",
       "      <th>year_of_release</th>\n",
       "      <th>genre</th>\n",
       "      <th>na_sales</th>\n",
       "      <th>eu_sales</th>\n",
       "      <th>jp_sales</th>\n",
       "      <th>other_sales</th>\n",
       "      <th>critic_score</th>\n",
       "      <th>user_score</th>\n",
       "      <th>rating</th>\n",
       "      <th>total_sales</th>\n",
       "    </tr>\n",
       "  </thead>\n",
       "  <tbody>\n",
       "    <tr>\n",
       "      <td>0</td>\n",
       "      <td>Wii Sports</td>\n",
       "      <td>Wii</td>\n",
       "      <td>2006</td>\n",
       "      <td>Sports</td>\n",
       "      <td>41.36</td>\n",
       "      <td>28.96</td>\n",
       "      <td>3.77</td>\n",
       "      <td>8.45</td>\n",
       "      <td>76</td>\n",
       "      <td>8.0</td>\n",
       "      <td>E</td>\n",
       "      <td>82.54</td>\n",
       "    </tr>\n",
       "    <tr>\n",
       "      <td>2</td>\n",
       "      <td>Mario Kart Wii</td>\n",
       "      <td>Wii</td>\n",
       "      <td>2008</td>\n",
       "      <td>Racing</td>\n",
       "      <td>15.68</td>\n",
       "      <td>12.76</td>\n",
       "      <td>3.79</td>\n",
       "      <td>3.29</td>\n",
       "      <td>82</td>\n",
       "      <td>8.3</td>\n",
       "      <td>E</td>\n",
       "      <td>35.52</td>\n",
       "    </tr>\n",
       "    <tr>\n",
       "      <td>3</td>\n",
       "      <td>Wii Sports Resort</td>\n",
       "      <td>Wii</td>\n",
       "      <td>2009</td>\n",
       "      <td>Sports</td>\n",
       "      <td>15.61</td>\n",
       "      <td>10.93</td>\n",
       "      <td>3.28</td>\n",
       "      <td>2.95</td>\n",
       "      <td>80</td>\n",
       "      <td>8.0</td>\n",
       "      <td>E</td>\n",
       "      <td>32.77</td>\n",
       "    </tr>\n",
       "    <tr>\n",
       "      <td>4</td>\n",
       "      <td>Pokemon Red/Pokemon Blue</td>\n",
       "      <td>GB</td>\n",
       "      <td>1996</td>\n",
       "      <td>Role-Playing</td>\n",
       "      <td>11.27</td>\n",
       "      <td>8.89</td>\n",
       "      <td>10.22</td>\n",
       "      <td>1.00</td>\n",
       "      <td>0</td>\n",
       "      <td>0.0</td>\n",
       "      <td></td>\n",
       "      <td>31.38</td>\n",
       "    </tr>\n",
       "    <tr>\n",
       "      <td>6</td>\n",
       "      <td>New Super Mario Bros.</td>\n",
       "      <td>DS</td>\n",
       "      <td>2006</td>\n",
       "      <td>Platform</td>\n",
       "      <td>11.28</td>\n",
       "      <td>9.14</td>\n",
       "      <td>6.50</td>\n",
       "      <td>2.88</td>\n",
       "      <td>89</td>\n",
       "      <td>8.5</td>\n",
       "      <td>E</td>\n",
       "      <td>29.80</td>\n",
       "    </tr>\n",
       "  </tbody>\n",
       "</table>\n",
       "</div>"
      ],
      "text/plain": [
       "                       name platform  year_of_release         genre  na_sales  \\\n",
       "0                Wii Sports      Wii             2006        Sports     41.36   \n",
       "2            Mario Kart Wii      Wii             2008        Racing     15.68   \n",
       "3         Wii Sports Resort      Wii             2009        Sports     15.61   \n",
       "4  Pokemon Red/Pokemon Blue       GB             1996  Role-Playing     11.27   \n",
       "6     New Super Mario Bros.       DS             2006      Platform     11.28   \n",
       "\n",
       "   eu_sales  jp_sales  other_sales  critic_score  user_score rating  \\\n",
       "0     28.96      3.77         8.45            76         8.0      E   \n",
       "2     12.76      3.79         3.29            82         8.3      E   \n",
       "3     10.93      3.28         2.95            80         8.0      E   \n",
       "4      8.89     10.22         1.00             0         0.0          \n",
       "6      9.14      6.50         2.88            89         8.5      E   \n",
       "\n",
       "   total_sales  \n",
       "0        82.54  \n",
       "2        35.52  \n",
       "3        32.77  \n",
       "4        31.38  \n",
       "6        29.80  "
      ]
     },
     "execution_count": 36,
     "metadata": {},
     "output_type": "execute_result"
    }
   ],
   "source": [
    "data.head()"
   ]
  },
  {
   "cell_type": "code",
   "execution_count": 37,
   "metadata": {},
   "outputs": [
    {
     "name": "stdout",
     "output_type": "stream",
     "text": [
      "<class 'pandas.core.frame.DataFrame'>\n",
      "Int64Index: 16079 entries, 0 to 16714\n",
      "Data columns (total 12 columns):\n",
      "name               16079 non-null object\n",
      "platform           16079 non-null object\n",
      "year_of_release    16079 non-null int64\n",
      "genre              16079 non-null object\n",
      "na_sales           16079 non-null float64\n",
      "eu_sales           16079 non-null float64\n",
      "jp_sales           16079 non-null float64\n",
      "other_sales        16079 non-null float64\n",
      "critic_score       16079 non-null int64\n",
      "user_score         16079 non-null float64\n",
      "rating             16079 non-null object\n",
      "total_sales        16079 non-null float64\n",
      "dtypes: float64(6), int64(2), object(4)\n",
      "memory usage: 1.6+ MB\n"
     ]
    }
   ],
   "source": [
    "data.info()"
   ]
  },
  {
   "cell_type": "markdown",
   "metadata": {},
   "source": [
    "Как можно заметить, потерялось небольшое количество данных, но такими потерями относительно всего количества данных в таблице можно пренебречь."
   ]
  },
  {
   "cell_type": "markdown",
   "metadata": {},
   "source": [
    "### Анализ по платформам"
   ]
  },
  {
   "cell_type": "markdown",
   "metadata": {},
   "source": [
    "Создадим переменную, в которую запишем топ-10 платформ по продажам и построим распределение по годам."
   ]
  },
  {
   "cell_type": "code",
   "execution_count": 38,
   "metadata": {},
   "outputs": [
    {
     "data": {
      "text/plain": [
       "<matplotlib.axes._subplots.AxesSubplot at 0x7f361be45fd0>"
      ]
     },
     "execution_count": 38,
     "metadata": {},
     "output_type": "execute_result"
    },
    {
     "data": {
      "image/png": "[encoded data removed]",
      "text/plain": [
       "<Figure size 1080x360 with 1 Axes>"
      ]
     },
     "metadata": {
      "needs_background": "light"
     },
     "output_type": "display_data"
    }
   ],
   "source": [
    "top_10 = data.groupby('platform').agg({'total_sales': 'sum'}).sort_values(by='total_sales').tail(10).index\n",
    "\n",
    "data.query('platform in @top_10').pivot_table(index='year_of_release', columns='platform', values='total_sales', aggfunc='sum').plot(figsize=(15, 5))"
   ]
  },
  {
   "cell_type": "markdown",
   "metadata": {},
   "source": [
    "Исходя из графика можно увидеть, что меньше всего времени просуществовали GBA (Game Boy Advanced) и PS4, остальные платформы существуют около 10 лет, затем сменяются более новыми. Платформами с наибольшими продажами игр, соответственно **наиболее прибыльными** являются PS, PS2 и Wii."
   ]
  },
  {
   "cell_type": "markdown",
   "metadata": {},
   "source": [
    "Актуальный период для дальнейшей работы с данными возьмем с 2002 года."
   ]
  },
  {
   "cell_type": "code",
   "execution_count": 39,
   "metadata": {},
   "outputs": [],
   "source": [
    "actual_top_data = data.query('platform in @top_10 and 2001 < year_of_release')"
   ]
  },
  {
   "cell_type": "code",
   "execution_count": 40,
   "metadata": {},
   "outputs": [
    {
     "data": {
      "text/html": [
       "<div>\n",
       "<style scoped>\n",
       "    .dataframe tbody tr th:only-of-type {\n",
       "        vertical-align: middle;\n",
       "    }\n",
       "\n",
       "    .dataframe tbody tr th {\n",
       "        vertical-align: top;\n",
       "    }\n",
       "\n",
       "    .dataframe thead th {\n",
       "        text-align: right;\n",
       "    }\n",
       "</style>\n",
       "<table border=\"1\" class=\"dataframe\">\n",
       "  <thead>\n",
       "    <tr style=\"text-align: right;\">\n",
       "      <th></th>\n",
       "      <th>name</th>\n",
       "      <th>platform</th>\n",
       "      <th>year_of_release</th>\n",
       "      <th>genre</th>\n",
       "      <th>na_sales</th>\n",
       "      <th>eu_sales</th>\n",
       "      <th>jp_sales</th>\n",
       "      <th>other_sales</th>\n",
       "      <th>critic_score</th>\n",
       "      <th>user_score</th>\n",
       "      <th>rating</th>\n",
       "      <th>total_sales</th>\n",
       "    </tr>\n",
       "  </thead>\n",
       "  <tbody>\n",
       "    <tr>\n",
       "      <td>0</td>\n",
       "      <td>Wii Sports</td>\n",
       "      <td>Wii</td>\n",
       "      <td>2006</td>\n",
       "      <td>Sports</td>\n",
       "      <td>41.36</td>\n",
       "      <td>28.96</td>\n",
       "      <td>3.77</td>\n",
       "      <td>8.45</td>\n",
       "      <td>76</td>\n",
       "      <td>8.0</td>\n",
       "      <td>E</td>\n",
       "      <td>82.54</td>\n",
       "    </tr>\n",
       "    <tr>\n",
       "      <td>2</td>\n",
       "      <td>Mario Kart Wii</td>\n",
       "      <td>Wii</td>\n",
       "      <td>2008</td>\n",
       "      <td>Racing</td>\n",
       "      <td>15.68</td>\n",
       "      <td>12.76</td>\n",
       "      <td>3.79</td>\n",
       "      <td>3.29</td>\n",
       "      <td>82</td>\n",
       "      <td>8.3</td>\n",
       "      <td>E</td>\n",
       "      <td>35.52</td>\n",
       "    </tr>\n",
       "    <tr>\n",
       "      <td>3</td>\n",
       "      <td>Wii Sports Resort</td>\n",
       "      <td>Wii</td>\n",
       "      <td>2009</td>\n",
       "      <td>Sports</td>\n",
       "      <td>15.61</td>\n",
       "      <td>10.93</td>\n",
       "      <td>3.28</td>\n",
       "      <td>2.95</td>\n",
       "      <td>80</td>\n",
       "      <td>8.0</td>\n",
       "      <td>E</td>\n",
       "      <td>32.77</td>\n",
       "    </tr>\n",
       "    <tr>\n",
       "      <td>6</td>\n",
       "      <td>New Super Mario Bros.</td>\n",
       "      <td>DS</td>\n",
       "      <td>2006</td>\n",
       "      <td>Platform</td>\n",
       "      <td>11.28</td>\n",
       "      <td>9.14</td>\n",
       "      <td>6.50</td>\n",
       "      <td>2.88</td>\n",
       "      <td>89</td>\n",
       "      <td>8.5</td>\n",
       "      <td>E</td>\n",
       "      <td>29.80</td>\n",
       "    </tr>\n",
       "    <tr>\n",
       "      <td>7</td>\n",
       "      <td>Wii Play</td>\n",
       "      <td>Wii</td>\n",
       "      <td>2006</td>\n",
       "      <td>Misc</td>\n",
       "      <td>13.96</td>\n",
       "      <td>9.18</td>\n",
       "      <td>2.93</td>\n",
       "      <td>2.84</td>\n",
       "      <td>58</td>\n",
       "      <td>6.6</td>\n",
       "      <td>E</td>\n",
       "      <td>28.91</td>\n",
       "    </tr>\n",
       "    <tr>\n",
       "      <td>8</td>\n",
       "      <td>New Super Mario Bros. Wii</td>\n",
       "      <td>Wii</td>\n",
       "      <td>2009</td>\n",
       "      <td>Platform</td>\n",
       "      <td>14.44</td>\n",
       "      <td>6.94</td>\n",
       "      <td>4.70</td>\n",
       "      <td>2.24</td>\n",
       "      <td>87</td>\n",
       "      <td>8.4</td>\n",
       "      <td>E</td>\n",
       "      <td>28.32</td>\n",
       "    </tr>\n",
       "    <tr>\n",
       "      <td>10</td>\n",
       "      <td>Nintendogs</td>\n",
       "      <td>DS</td>\n",
       "      <td>2005</td>\n",
       "      <td>Simulation</td>\n",
       "      <td>9.05</td>\n",
       "      <td>10.95</td>\n",
       "      <td>1.93</td>\n",
       "      <td>2.74</td>\n",
       "      <td>0</td>\n",
       "      <td>0.0</td>\n",
       "      <td></td>\n",
       "      <td>24.67</td>\n",
       "    </tr>\n",
       "    <tr>\n",
       "      <td>11</td>\n",
       "      <td>Mario Kart DS</td>\n",
       "      <td>DS</td>\n",
       "      <td>2005</td>\n",
       "      <td>Racing</td>\n",
       "      <td>9.71</td>\n",
       "      <td>7.47</td>\n",
       "      <td>4.13</td>\n",
       "      <td>1.90</td>\n",
       "      <td>91</td>\n",
       "      <td>8.6</td>\n",
       "      <td>E</td>\n",
       "      <td>23.21</td>\n",
       "    </tr>\n",
       "    <tr>\n",
       "      <td>13</td>\n",
       "      <td>Wii Fit</td>\n",
       "      <td>Wii</td>\n",
       "      <td>2007</td>\n",
       "      <td>Sports</td>\n",
       "      <td>8.92</td>\n",
       "      <td>8.03</td>\n",
       "      <td>3.60</td>\n",
       "      <td>2.15</td>\n",
       "      <td>80</td>\n",
       "      <td>7.7</td>\n",
       "      <td>E</td>\n",
       "      <td>22.70</td>\n",
       "    </tr>\n",
       "    <tr>\n",
       "      <td>14</td>\n",
       "      <td>Kinect Adventures!</td>\n",
       "      <td>X360</td>\n",
       "      <td>2010</td>\n",
       "      <td>Misc</td>\n",
       "      <td>15.00</td>\n",
       "      <td>4.89</td>\n",
       "      <td>0.24</td>\n",
       "      <td>1.69</td>\n",
       "      <td>61</td>\n",
       "      <td>6.3</td>\n",
       "      <td>E</td>\n",
       "      <td>21.82</td>\n",
       "    </tr>\n",
       "  </tbody>\n",
       "</table>\n",
       "</div>"
      ],
      "text/plain": [
       "                         name platform  year_of_release       genre  na_sales  \\\n",
       "0                  Wii Sports      Wii             2006      Sports     41.36   \n",
       "2              Mario Kart Wii      Wii             2008      Racing     15.68   \n",
       "3           Wii Sports Resort      Wii             2009      Sports     15.61   \n",
       "6       New Super Mario Bros.       DS             2006    Platform     11.28   \n",
       "7                    Wii Play      Wii             2006        Misc     13.96   \n",
       "8   New Super Mario Bros. Wii      Wii             2009    Platform     14.44   \n",
       "10                 Nintendogs       DS             2005  Simulation      9.05   \n",
       "11              Mario Kart DS       DS             2005      Racing      9.71   \n",
       "13                    Wii Fit      Wii             2007      Sports      8.92   \n",
       "14         Kinect Adventures!     X360             2010        Misc     15.00   \n",
       "\n",
       "    eu_sales  jp_sales  other_sales  critic_score  user_score rating  \\\n",
       "0      28.96      3.77         8.45            76         8.0      E   \n",
       "2      12.76      3.79         3.29            82         8.3      E   \n",
       "3      10.93      3.28         2.95            80         8.0      E   \n",
       "6       9.14      6.50         2.88            89         8.5      E   \n",
       "7       9.18      2.93         2.84            58         6.6      E   \n",
       "8       6.94      4.70         2.24            87         8.4      E   \n",
       "10     10.95      1.93         2.74             0         0.0          \n",
       "11      7.47      4.13         1.90            91         8.6      E   \n",
       "13      8.03      3.60         2.15            80         7.7      E   \n",
       "14      4.89      0.24         1.69            61         6.3      E   \n",
       "\n",
       "    total_sales  \n",
       "0         82.54  \n",
       "2         35.52  \n",
       "3         32.77  \n",
       "6         29.80  \n",
       "7         28.91  \n",
       "8         28.32  \n",
       "10        24.67  \n",
       "11        23.21  \n",
       "13        22.70  \n",
       "14        21.82  "
      ]
     },
     "execution_count": 40,
     "metadata": {},
     "output_type": "execute_result"
    }
   ],
   "source": [
    "actual_top_data.head(10)"
   ]
  },
  {
   "cell_type": "markdown",
   "metadata": {},
   "source": [
    "### Продажи с разбивкой по платформам"
   ]
  },
  {
   "cell_type": "markdown",
   "metadata": {},
   "source": [
    "Построим график по глобальным продажам топ-10 платформ за акутальный период. Для этого ограничим диапазон значений графика, чтобы сделать его более читаемым."
   ]
  },
  {
   "cell_type": "code",
   "execution_count": 41,
   "metadata": {},
   "outputs": [
    {
     "data": {
      "text/plain": [
       "<matplotlib.axes._subplots.AxesSubplot at 0x7f36136652d0>"
      ]
     },
     "execution_count": 41,
     "metadata": {},
     "output_type": "execute_result"
    },
    {
     "data": {
      "image/png": "[encoded data removed]",
      "text/plain": [
       "<Figure size 1008x648 with 1 Axes>"
      ]
     },
     "metadata": {
      "needs_background": "light"
     },
     "output_type": "display_data"
    }
   ],
   "source": [
    "actual_top_data.query('total_sales <= 20').boxplot(column='total_sales', by='platform', figsize=(14, 9))"
   ]
  },
  {
   "cell_type": "markdown",
   "metadata": {},
   "source": [
    "Судя по графику, наибольшие медианные продажи у PS4 и составляют примерно 3 млн. Наибольшее количество продаж принадлежит платформам DS, Wii, PS3 и Xbob 360. "
   ]
  },
  {
   "cell_type": "markdown",
   "metadata": {},
   "source": [
    "### Влияние отзывов на продажи у самых популярных платформ"
   ]
  },
  {
   "cell_type": "markdown",
   "metadata": {},
   "source": [
    "Решить эту задачу, для начала создадим переменную, в которую запишем предыдущий датасет с топ-10 платформами и применим фильтр."
   ]
  },
  {
   "cell_type": "code",
   "execution_count": 42,
   "metadata": {},
   "outputs": [
    {
     "data": {
      "text/html": [
       "<div>\n",
       "<style scoped>\n",
       "    .dataframe tbody tr th:only-of-type {\n",
       "        vertical-align: middle;\n",
       "    }\n",
       "\n",
       "    .dataframe tbody tr th {\n",
       "        vertical-align: top;\n",
       "    }\n",
       "\n",
       "    .dataframe thead th {\n",
       "        text-align: right;\n",
       "    }\n",
       "</style>\n",
       "<table border=\"1\" class=\"dataframe\">\n",
       "  <thead>\n",
       "    <tr style=\"text-align: right;\">\n",
       "      <th></th>\n",
       "      <th>name</th>\n",
       "      <th>platform</th>\n",
       "      <th>year_of_release</th>\n",
       "      <th>genre</th>\n",
       "      <th>na_sales</th>\n",
       "      <th>eu_sales</th>\n",
       "      <th>jp_sales</th>\n",
       "      <th>other_sales</th>\n",
       "      <th>critic_score</th>\n",
       "      <th>user_score</th>\n",
       "      <th>rating</th>\n",
       "      <th>total_sales</th>\n",
       "    </tr>\n",
       "  </thead>\n",
       "  <tbody>\n",
       "    <tr>\n",
       "      <td>0</td>\n",
       "      <td>Wii Sports</td>\n",
       "      <td>Wii</td>\n",
       "      <td>2006</td>\n",
       "      <td>Sports</td>\n",
       "      <td>41.36</td>\n",
       "      <td>28.96</td>\n",
       "      <td>3.77</td>\n",
       "      <td>8.45</td>\n",
       "      <td>76</td>\n",
       "      <td>8.0</td>\n",
       "      <td>E</td>\n",
       "      <td>82.54</td>\n",
       "    </tr>\n",
       "    <tr>\n",
       "      <td>2</td>\n",
       "      <td>Mario Kart Wii</td>\n",
       "      <td>Wii</td>\n",
       "      <td>2008</td>\n",
       "      <td>Racing</td>\n",
       "      <td>15.68</td>\n",
       "      <td>12.76</td>\n",
       "      <td>3.79</td>\n",
       "      <td>3.29</td>\n",
       "      <td>82</td>\n",
       "      <td>8.3</td>\n",
       "      <td>E</td>\n",
       "      <td>35.52</td>\n",
       "    </tr>\n",
       "    <tr>\n",
       "      <td>3</td>\n",
       "      <td>Wii Sports Resort</td>\n",
       "      <td>Wii</td>\n",
       "      <td>2009</td>\n",
       "      <td>Sports</td>\n",
       "      <td>15.61</td>\n",
       "      <td>10.93</td>\n",
       "      <td>3.28</td>\n",
       "      <td>2.95</td>\n",
       "      <td>80</td>\n",
       "      <td>8.0</td>\n",
       "      <td>E</td>\n",
       "      <td>32.77</td>\n",
       "    </tr>\n",
       "    <tr>\n",
       "      <td>7</td>\n",
       "      <td>Wii Play</td>\n",
       "      <td>Wii</td>\n",
       "      <td>2006</td>\n",
       "      <td>Misc</td>\n",
       "      <td>13.96</td>\n",
       "      <td>9.18</td>\n",
       "      <td>2.93</td>\n",
       "      <td>2.84</td>\n",
       "      <td>58</td>\n",
       "      <td>6.6</td>\n",
       "      <td>E</td>\n",
       "      <td>28.91</td>\n",
       "    </tr>\n",
       "    <tr>\n",
       "      <td>8</td>\n",
       "      <td>New Super Mario Bros. Wii</td>\n",
       "      <td>Wii</td>\n",
       "      <td>2009</td>\n",
       "      <td>Platform</td>\n",
       "      <td>14.44</td>\n",
       "      <td>6.94</td>\n",
       "      <td>4.70</td>\n",
       "      <td>2.24</td>\n",
       "      <td>87</td>\n",
       "      <td>8.4</td>\n",
       "      <td>E</td>\n",
       "      <td>28.32</td>\n",
       "    </tr>\n",
       "  </tbody>\n",
       "</table>\n",
       "</div>"
      ],
      "text/plain": [
       "                        name platform  year_of_release     genre  na_sales  \\\n",
       "0                 Wii Sports      Wii             2006    Sports     41.36   \n",
       "2             Mario Kart Wii      Wii             2008    Racing     15.68   \n",
       "3          Wii Sports Resort      Wii             2009    Sports     15.61   \n",
       "7                   Wii Play      Wii             2006      Misc     13.96   \n",
       "8  New Super Mario Bros. Wii      Wii             2009  Platform     14.44   \n",
       "\n",
       "   eu_sales  jp_sales  other_sales  critic_score  user_score rating  \\\n",
       "0     28.96      3.77         8.45            76         8.0      E   \n",
       "2     12.76      3.79         3.29            82         8.3      E   \n",
       "3     10.93      3.28         2.95            80         8.0      E   \n",
       "7      9.18      2.93         2.84            58         6.6      E   \n",
       "8      6.94      4.70         2.24            87         8.4      E   \n",
       "\n",
       "   total_sales  \n",
       "0        82.54  \n",
       "2        35.52  \n",
       "3        32.77  \n",
       "7        28.91  \n",
       "8        28.32  "
      ]
     },
     "execution_count": 42,
     "metadata": {},
     "output_type": "execute_result"
    }
   ],
   "source": [
    "top_one_data = actual_top_data.query('platform == \"Wii\"')\n",
    "top_one_data.head()"
   ]
  },
  {
   "cell_type": "markdown",
   "metadata": {},
   "source": [
    "Диаграмма рассеяния по платформе и отзывам критиков."
   ]
  },
  {
   "cell_type": "code",
   "execution_count": 43,
   "metadata": {},
   "outputs": [
    {
     "data": {
      "text/plain": [
       "<matplotlib.axes._subplots.AxesSubplot at 0x7f36119ad990>"
      ]
     },
     "execution_count": 43,
     "metadata": {},
     "output_type": "execute_result"
    },
    {
     "data": {
      "image/png": "[encoded data removed]",
      "text/plain": [
       "<Figure size 720x720 with 1 Axes>"
      ]
     },
     "metadata": {
      "needs_background": "light"
     },
     "output_type": "display_data"
    }
   ],
   "source": [
    "top_one_data.plot(x='critic_score', y='total_sales', kind='scatter', figsize=(10, 10))"
   ]
  },
  {
   "cell_type": "markdown",
   "metadata": {},
   "source": [
    "На графике видна слабая зависимость между отзывами критиков и продажами. Найдем коэффициент корреляции."
   ]
  },
  {
   "cell_type": "code",
   "execution_count": 44,
   "metadata": {},
   "outputs": [
    {
     "data": {
      "text/plain": [
       "0.1889438279968329"
      ]
     },
     "execution_count": 44,
     "metadata": {},
     "output_type": "execute_result"
    }
   ],
   "source": [
    "top_one_data['total_sales'].corr(top_one_data['critic_score'])"
   ]
  },
  {
   "cell_type": "markdown",
   "metadata": {},
   "source": [
    "Из результатов, полученных при расчете корреляции можно сделать вывод, что продажи мало зависят от оценок критиков. Посмотрим на зависимость объема продаж от оценок пользователй."
   ]
  },
  {
   "cell_type": "code",
   "execution_count": 45,
   "metadata": {},
   "outputs": [
    {
     "data": {
      "text/plain": [
       "<matplotlib.axes._subplots.AxesSubplot at 0x7f3611c51fd0>"
      ]
     },
     "execution_count": 45,
     "metadata": {},
     "output_type": "execute_result"
    },
    {
     "data": {
      "image/png": "[encoded data removed]",
      "text/plain": [
       "<Figure size 720x720 with 1 Axes>"
      ]
     },
     "metadata": {
      "needs_background": "light"
     },
     "output_type": "display_data"
    }
   ],
   "source": [
    "top_one_data.plot(x='user_score', y='total_sales', kind='scatter', figsize=(10, 10))"
   ]
  },
  {
   "cell_type": "code",
   "execution_count": 46,
   "metadata": {},
   "outputs": [
    {
     "data": {
      "text/plain": [
       "0.18452742791944807"
      ]
     },
     "execution_count": 46,
     "metadata": {},
     "output_type": "execute_result"
    }
   ],
   "source": [
    "top_one_data['total_sales'].corr(top_one_data['user_score'])"
   ]
  },
  {
   "cell_type": "markdown",
   "metadata": {},
   "source": [
    "Полученные результаты говорят о том, что оценки критиков и пользователй мало влияют на объемы продаж игр для Wii."
   ]
  },
  {
   "cell_type": "markdown",
   "metadata": {},
   "source": [
    "Проверим влияние оценок критиков на продажи игр для других топовых платформ. Помним, что наибольшее число проданных игр у следующих платформ: DS, Wii, PS3 и Xbox 360."
   ]
  },
  {
   "cell_type": "code",
   "execution_count": 47,
   "metadata": {},
   "outputs": [
    {
     "data": {
      "text/html": [
       "<div>\n",
       "<style scoped>\n",
       "    .dataframe tbody tr th:only-of-type {\n",
       "        vertical-align: middle;\n",
       "    }\n",
       "\n",
       "    .dataframe tbody tr th {\n",
       "        vertical-align: top;\n",
       "    }\n",
       "\n",
       "    .dataframe thead th {\n",
       "        text-align: right;\n",
       "    }\n",
       "</style>\n",
       "<table border=\"1\" class=\"dataframe\">\n",
       "  <thead>\n",
       "    <tr style=\"text-align: right;\">\n",
       "      <th></th>\n",
       "      <th>name</th>\n",
       "      <th>platform</th>\n",
       "      <th>year_of_release</th>\n",
       "      <th>genre</th>\n",
       "      <th>na_sales</th>\n",
       "      <th>eu_sales</th>\n",
       "      <th>jp_sales</th>\n",
       "      <th>other_sales</th>\n",
       "      <th>critic_score</th>\n",
       "      <th>user_score</th>\n",
       "      <th>rating</th>\n",
       "      <th>total_sales</th>\n",
       "    </tr>\n",
       "  </thead>\n",
       "  <tbody>\n",
       "    <tr>\n",
       "      <td>0</td>\n",
       "      <td>Wii Sports</td>\n",
       "      <td>Wii</td>\n",
       "      <td>2006</td>\n",
       "      <td>Sports</td>\n",
       "      <td>41.36</td>\n",
       "      <td>28.96</td>\n",
       "      <td>3.77</td>\n",
       "      <td>8.45</td>\n",
       "      <td>76</td>\n",
       "      <td>8.0</td>\n",
       "      <td>E</td>\n",
       "      <td>82.54</td>\n",
       "    </tr>\n",
       "    <tr>\n",
       "      <td>2</td>\n",
       "      <td>Mario Kart Wii</td>\n",
       "      <td>Wii</td>\n",
       "      <td>2008</td>\n",
       "      <td>Racing</td>\n",
       "      <td>15.68</td>\n",
       "      <td>12.76</td>\n",
       "      <td>3.79</td>\n",
       "      <td>3.29</td>\n",
       "      <td>82</td>\n",
       "      <td>8.3</td>\n",
       "      <td>E</td>\n",
       "      <td>35.52</td>\n",
       "    </tr>\n",
       "    <tr>\n",
       "      <td>3</td>\n",
       "      <td>Wii Sports Resort</td>\n",
       "      <td>Wii</td>\n",
       "      <td>2009</td>\n",
       "      <td>Sports</td>\n",
       "      <td>15.61</td>\n",
       "      <td>10.93</td>\n",
       "      <td>3.28</td>\n",
       "      <td>2.95</td>\n",
       "      <td>80</td>\n",
       "      <td>8.0</td>\n",
       "      <td>E</td>\n",
       "      <td>32.77</td>\n",
       "    </tr>\n",
       "    <tr>\n",
       "      <td>7</td>\n",
       "      <td>Wii Play</td>\n",
       "      <td>Wii</td>\n",
       "      <td>2006</td>\n",
       "      <td>Misc</td>\n",
       "      <td>13.96</td>\n",
       "      <td>9.18</td>\n",
       "      <td>2.93</td>\n",
       "      <td>2.84</td>\n",
       "      <td>58</td>\n",
       "      <td>6.6</td>\n",
       "      <td>E</td>\n",
       "      <td>28.91</td>\n",
       "    </tr>\n",
       "    <tr>\n",
       "      <td>8</td>\n",
       "      <td>New Super Mario Bros. Wii</td>\n",
       "      <td>Wii</td>\n",
       "      <td>2009</td>\n",
       "      <td>Platform</td>\n",
       "      <td>14.44</td>\n",
       "      <td>6.94</td>\n",
       "      <td>4.70</td>\n",
       "      <td>2.24</td>\n",
       "      <td>87</td>\n",
       "      <td>8.4</td>\n",
       "      <td>E</td>\n",
       "      <td>28.32</td>\n",
       "    </tr>\n",
       "    <tr>\n",
       "      <td>...</td>\n",
       "      <td>...</td>\n",
       "      <td>...</td>\n",
       "      <td>...</td>\n",
       "      <td>...</td>\n",
       "      <td>...</td>\n",
       "      <td>...</td>\n",
       "      <td>...</td>\n",
       "      <td>...</td>\n",
       "      <td>...</td>\n",
       "      <td>...</td>\n",
       "      <td>...</td>\n",
       "      <td>...</td>\n",
       "    </tr>\n",
       "    <tr>\n",
       "      <td>16589</td>\n",
       "      <td>Bomberman</td>\n",
       "      <td>Wii</td>\n",
       "      <td>2008</td>\n",
       "      <td>Puzzle</td>\n",
       "      <td>0.00</td>\n",
       "      <td>0.00</td>\n",
       "      <td>0.01</td>\n",
       "      <td>0.00</td>\n",
       "      <td>0</td>\n",
       "      <td>0.0</td>\n",
       "      <td></td>\n",
       "      <td>0.01</td>\n",
       "    </tr>\n",
       "    <tr>\n",
       "      <td>16626</td>\n",
       "      <td>The Ultimate Battle of the Sexes</td>\n",
       "      <td>Wii</td>\n",
       "      <td>2010</td>\n",
       "      <td>Misc</td>\n",
       "      <td>0.01</td>\n",
       "      <td>0.00</td>\n",
       "      <td>0.00</td>\n",
       "      <td>0.00</td>\n",
       "      <td>0</td>\n",
       "      <td>0.0</td>\n",
       "      <td>T</td>\n",
       "      <td>0.01</td>\n",
       "    </tr>\n",
       "    <tr>\n",
       "      <td>16664</td>\n",
       "      <td>Mahou Sensei Negima!? Neo-Pactio Fight!!</td>\n",
       "      <td>Wii</td>\n",
       "      <td>2007</td>\n",
       "      <td>Fighting</td>\n",
       "      <td>0.00</td>\n",
       "      <td>0.00</td>\n",
       "      <td>0.01</td>\n",
       "      <td>0.00</td>\n",
       "      <td>0</td>\n",
       "      <td>0.0</td>\n",
       "      <td></td>\n",
       "      <td>0.01</td>\n",
       "    </tr>\n",
       "    <tr>\n",
       "      <td>16685</td>\n",
       "      <td>Help Wanted: 50 Wacky Jobs (jp sales)</td>\n",
       "      <td>Wii</td>\n",
       "      <td>2008</td>\n",
       "      <td>Simulation</td>\n",
       "      <td>0.00</td>\n",
       "      <td>0.00</td>\n",
       "      <td>0.01</td>\n",
       "      <td>0.00</td>\n",
       "      <td>0</td>\n",
       "      <td>0.0</td>\n",
       "      <td></td>\n",
       "      <td>0.01</td>\n",
       "    </tr>\n",
       "    <tr>\n",
       "      <td>16686</td>\n",
       "      <td>Yattaman Wii: BikkuriDokkiri Machine de Mou Ra...</td>\n",
       "      <td>Wii</td>\n",
       "      <td>2008</td>\n",
       "      <td>Racing</td>\n",
       "      <td>0.00</td>\n",
       "      <td>0.00</td>\n",
       "      <td>0.01</td>\n",
       "      <td>0.00</td>\n",
       "      <td>0</td>\n",
       "      <td>0.0</td>\n",
       "      <td></td>\n",
       "      <td>0.01</td>\n",
       "    </tr>\n",
       "  </tbody>\n",
       "</table>\n",
       "<p>1286 rows × 12 columns</p>\n",
       "</div>"
      ],
      "text/plain": [
       "                                                    name platform  \\\n",
       "0                                             Wii Sports      Wii   \n",
       "2                                         Mario Kart Wii      Wii   \n",
       "3                                      Wii Sports Resort      Wii   \n",
       "7                                               Wii Play      Wii   \n",
       "8                              New Super Mario Bros. Wii      Wii   \n",
       "...                                                  ...      ...   \n",
       "16589                                          Bomberman      Wii   \n",
       "16626                   The Ultimate Battle of the Sexes      Wii   \n",
       "16664           Mahou Sensei Negima!? Neo-Pactio Fight!!      Wii   \n",
       "16685              Help Wanted: 50 Wacky Jobs (jp sales)      Wii   \n",
       "16686  Yattaman Wii: BikkuriDokkiri Machine de Mou Ra...      Wii   \n",
       "\n",
       "       year_of_release       genre  na_sales  eu_sales  jp_sales  other_sales  \\\n",
       "0                 2006      Sports     41.36     28.96      3.77         8.45   \n",
       "2                 2008      Racing     15.68     12.76      3.79         3.29   \n",
       "3                 2009      Sports     15.61     10.93      3.28         2.95   \n",
       "7                 2006        Misc     13.96      9.18      2.93         2.84   \n",
       "8                 2009    Platform     14.44      6.94      4.70         2.24   \n",
       "...                ...         ...       ...       ...       ...          ...   \n",
       "16589             2008      Puzzle      0.00      0.00      0.01         0.00   \n",
       "16626             2010        Misc      0.01      0.00      0.00         0.00   \n",
       "16664             2007    Fighting      0.00      0.00      0.01         0.00   \n",
       "16685             2008  Simulation      0.00      0.00      0.01         0.00   \n",
       "16686             2008      Racing      0.00      0.00      0.01         0.00   \n",
       "\n",
       "       critic_score  user_score rating  total_sales  \n",
       "0                76         8.0      E        82.54  \n",
       "2                82         8.3      E        35.52  \n",
       "3                80         8.0      E        32.77  \n",
       "7                58         6.6      E        28.91  \n",
       "8                87         8.4      E        28.32  \n",
       "...             ...         ...    ...          ...  \n",
       "16589             0         0.0                0.01  \n",
       "16626             0         0.0      T         0.01  \n",
       "16664             0         0.0                0.01  \n",
       "16685             0         0.0                0.01  \n",
       "16686             0         0.0                0.01  \n",
       "\n",
       "[1286 rows x 12 columns]"
      ]
     },
     "execution_count": 47,
     "metadata": {},
     "output_type": "execute_result"
    }
   ],
   "source": [
    "top_one_data"
   ]
  },
  {
   "cell_type": "code",
   "execution_count": 48,
   "metadata": {
    "scrolled": false
   },
   "outputs": [
    {
     "data": {
      "text/plain": [
       "platform\n",
       "3DS     AxesSubplot(0.125,0.125;0.775x0.755)\n",
       "DS      AxesSubplot(0.125,0.125;0.775x0.755)\n",
       "GBA     AxesSubplot(0.125,0.125;0.775x0.755)\n",
       "PS      AxesSubplot(0.125,0.125;0.775x0.755)\n",
       "PS2     AxesSubplot(0.125,0.125;0.775x0.755)\n",
       "PS3     AxesSubplot(0.125,0.125;0.775x0.755)\n",
       "PS4     AxesSubplot(0.125,0.125;0.775x0.755)\n",
       "PSP     AxesSubplot(0.125,0.125;0.775x0.755)\n",
       "Wii     AxesSubplot(0.125,0.125;0.775x0.755)\n",
       "X360    AxesSubplot(0.125,0.125;0.775x0.755)\n",
       "dtype: object"
      ]
     },
     "execution_count": 48,
     "metadata": {},
     "output_type": "execute_result"
    },
    {
     "data": {
      "image/png": "[encoded data removed]",
      "text/plain": [
       "<Figure size 504x504 with 1 Axes>"
      ]
     },
     "metadata": {
      "needs_background": "light"
     },
     "output_type": "display_data"
    },
    {
     "data": {
      "image/png": "[encoded data removed]",
      "text/plain": [
       "<Figure size 504x504 with 1 Axes>"
      ]
     },
     "metadata": {
      "needs_background": "light"
     },
     "output_type": "display_data"
    },
    {
     "data": {
      "image/png": "[encoded data removed]",
      "text/plain": [
       "<Figure size 504x504 with 1 Axes>"
      ]
     },
     "metadata": {
      "needs_background": "light"
     },
     "output_type": "display_data"
    },
    {
     "data": {
      "image/png": "[encoded data removed]",
      "text/plain": [
       "<Figure size 504x504 with 1 Axes>"
      ]
     },
     "metadata": {
      "needs_background": "light"
     },
     "output_type": "display_data"
    },
    {
     "data": {
      "image/png": "[encoded data removed]",
      "text/plain": [
       "<Figure size 504x504 with 1 Axes>"
      ]
     },
     "metadata": {
      "needs_background": "light"
     },
     "output_type": "display_data"
    },
    {
     "data": {
      "image/png": "[encoded data removed]",
      "text/plain": [
       "<Figure size 504x504 with 1 Axes>"
      ]
     },
     "metadata": {
      "needs_background": "light"
     },
     "output_type": "display_data"
    },
    {
     "data": {
      "image/png": "[encoded data removed]",
      "text/plain": [
       "<Figure size 504x504 with 1 Axes>"
      ]
     },
     "metadata": {
      "needs_background": "light"
     },
     "output_type": "display_data"
    },
    {
     "data": {
      "image/png": "[encoded data removed]",
      "text/plain": [
       "<Figure size 504x504 with 1 Axes>"
      ]
     },
     "metadata": {
      "needs_background": "light"
     },
     "output_type": "display_data"
    },
    {
     "data": {
      "image/png": "[encoded data removed]",
      "text/plain": [
       "<Figure size 504x504 with 1 Axes>"
      ]
     },
     "metadata": {
      "needs_background": "light"
     },
     "output_type": "display_data"
    },
    {
     "data": {
      "image/png": "[encoded data removed]",
      "text/plain": [
       "<Figure size 504x504 with 1 Axes>"
      ]
     },
     "metadata": {
      "needs_background": "light"
     },
     "output_type": "display_data"
    }
   ],
   "source": [
    "actual_top_data.groupby('platform').plot(x='user_score', y='total_sales', kind='scatter', figsize=(7, 7))"
   ]
  },
  {
   "cell_type": "markdown",
   "metadata": {},
   "source": [
    "Глядя на графики можно сделать вывод, что на продажи игр на остальных платформах оценки также особо не влияют."
   ]
  },
  {
   "cell_type": "markdown",
   "metadata": {},
   "source": [
    "### Влияние жанра на продажи игр"
   ]
  },
  {
   "cell_type": "code",
   "execution_count": 49,
   "metadata": {},
   "outputs": [
    {
     "data": {
      "text/plain": [
       "<matplotlib.axes._subplots.AxesSubplot at 0x7f361154a650>"
      ]
     },
     "execution_count": 49,
     "metadata": {},
     "output_type": "execute_result"
    },
    {
     "data": {
      "image/png": "[encoded data removed]",
      "text/plain": [
       "<Figure size 1008x648 with 1 Axes>"
      ]
     },
     "metadata": {
      "needs_background": "light"
     },
     "output_type": "display_data"
    }
   ],
   "source": [
    "actual_top_data.query('total_sales < 20').boxplot(column='total_sales', by='genre', figsize=(14, 9))"
   ]
  },
  {
   "cell_type": "markdown",
   "metadata": {},
   "source": [
    "Глядя на график, можно сказать, что играми с наибольшим числом продаж являются игры жанров Action, Misc, Role_Playing и Shooter. Играми с самыми низкими продажами являются игры жанра Adventure, Fighting, Puzzle, симуляторы и стратегии."
   ]
  },
  {
   "cell_type": "markdown",
   "metadata": {},
   "source": [
    "### Вывод"
   ]
  },
  {
   "cell_type": "markdown",
   "metadata": {},
   "source": [
    "Мы провели анализ количества выпущенных игр по годам, проанализировали продажи с разбивкой по платформам, выявили влияние отзывов на продажи у самых популярных платформ а также выяснили, есть ли зависимость между продажами игр и их жанрами."
   ]
  },
  {
   "cell_type": "markdown",
   "metadata": {},
   "source": [
    "## Портрет пользователей по регионам"
   ]
  },
  {
   "cell_type": "markdown",
   "metadata": {},
   "source": [
    "Определим для пользователей каждого региона:\n",
    "- самые популярные платформы (топ-5). Опишитем различия в долях продаж;\n",
    "- самые популярные жанры (топ-5);\n",
    "- в конце выясним, влияет ли рейтинг ESRB на продажи в отдельном регионе."
   ]
  },
  {
   "cell_type": "markdown",
   "metadata": {},
   "source": [
    "### Северная Америка"
   ]
  },
  {
   "cell_type": "markdown",
   "metadata": {},
   "source": [
    "Начнем с Северной Америки. Для того, чтобы определить топ-5 наиболее популярных платформ используем сводную таблицу."
   ]
  },
  {
   "cell_type": "code",
   "execution_count": 50,
   "metadata": {},
   "outputs": [
    {
     "data": {
      "text/html": [
       "<div>\n",
       "<style scoped>\n",
       "    .dataframe tbody tr th:only-of-type {\n",
       "        vertical-align: middle;\n",
       "    }\n",
       "\n",
       "    .dataframe tbody tr th {\n",
       "        vertical-align: top;\n",
       "    }\n",
       "\n",
       "    .dataframe thead th {\n",
       "        text-align: right;\n",
       "    }\n",
       "</style>\n",
       "<table border=\"1\" class=\"dataframe\">\n",
       "  <thead>\n",
       "    <tr style=\"text-align: right;\">\n",
       "      <th></th>\n",
       "      <th>na_sales</th>\n",
       "    </tr>\n",
       "    <tr>\n",
       "      <th>platform</th>\n",
       "      <th></th>\n",
       "    </tr>\n",
       "  </thead>\n",
       "  <tbody>\n",
       "    <tr>\n",
       "      <td>X360</td>\n",
       "      <td>595.74</td>\n",
       "    </tr>\n",
       "    <tr>\n",
       "      <td>Wii</td>\n",
       "      <td>486.87</td>\n",
       "    </tr>\n",
       "    <tr>\n",
       "      <td>PS2</td>\n",
       "      <td>477.35</td>\n",
       "    </tr>\n",
       "    <tr>\n",
       "      <td>PS3</td>\n",
       "      <td>390.13</td>\n",
       "    </tr>\n",
       "    <tr>\n",
       "      <td>DS</td>\n",
       "      <td>380.31</td>\n",
       "    </tr>\n",
       "    <tr>\n",
       "      <td>GBA</td>\n",
       "      <td>147.83</td>\n",
       "    </tr>\n",
       "    <tr>\n",
       "      <td>PS4</td>\n",
       "      <td>108.74</td>\n",
       "    </tr>\n",
       "    <tr>\n",
       "      <td>PSP</td>\n",
       "      <td>107.27</td>\n",
       "    </tr>\n",
       "    <tr>\n",
       "      <td>3DS</td>\n",
       "      <td>82.65</td>\n",
       "    </tr>\n",
       "    <tr>\n",
       "      <td>PS</td>\n",
       "      <td>3.93</td>\n",
       "    </tr>\n",
       "  </tbody>\n",
       "</table>\n",
       "</div>"
      ],
      "text/plain": [
       "          na_sales\n",
       "platform          \n",
       "X360        595.74\n",
       "Wii         486.87\n",
       "PS2         477.35\n",
       "PS3         390.13\n",
       "DS          380.31\n",
       "GBA         147.83\n",
       "PS4         108.74\n",
       "PSP         107.27\n",
       "3DS          82.65\n",
       "PS            3.93"
      ]
     },
     "execution_count": 50,
     "metadata": {},
     "output_type": "execute_result"
    }
   ],
   "source": [
    "actual_top_data.pivot_table(index='platform', values='na_sales', aggfunc='sum').sort_values(by='na_sales', ascending=False)"
   ]
  },
  {
   "cell_type": "markdown",
   "metadata": {},
   "source": [
    "Наиболее популярной платформой в Северной Америке является Xbox 360 с 567.4 млн. проданных копий игр. Наименее же популярная платформа - PlayStation 3 с 368 млн. проданных копий игр."
   ]
  },
  {
   "cell_type": "markdown",
   "metadata": {},
   "source": [
    "Теперь посмотрим на топ-5 самых популярных жанров игр в Северной Америке. Также применим сводную таблицу."
   ]
  },
  {
   "cell_type": "code",
   "execution_count": 51,
   "metadata": {},
   "outputs": [
    {
     "data": {
      "text/html": [
       "<div>\n",
       "<style scoped>\n",
       "    .dataframe tbody tr th:only-of-type {\n",
       "        vertical-align: middle;\n",
       "    }\n",
       "\n",
       "    .dataframe tbody tr th {\n",
       "        vertical-align: top;\n",
       "    }\n",
       "\n",
       "    .dataframe thead th {\n",
       "        text-align: right;\n",
       "    }\n",
       "</style>\n",
       "<table border=\"1\" class=\"dataframe\">\n",
       "  <thead>\n",
       "    <tr style=\"text-align: right;\">\n",
       "      <th></th>\n",
       "      <th>na_sales</th>\n",
       "    </tr>\n",
       "    <tr>\n",
       "      <th>genre</th>\n",
       "      <th></th>\n",
       "    </tr>\n",
       "  </thead>\n",
       "  <tbody>\n",
       "    <tr>\n",
       "      <td>Action</td>\n",
       "      <td>607.23</td>\n",
       "    </tr>\n",
       "    <tr>\n",
       "      <td>Sports</td>\n",
       "      <td>466.97</td>\n",
       "    </tr>\n",
       "    <tr>\n",
       "      <td>Shooter</td>\n",
       "      <td>375.84</td>\n",
       "    </tr>\n",
       "    <tr>\n",
       "      <td>Misc</td>\n",
       "      <td>321.63</td>\n",
       "    </tr>\n",
       "    <tr>\n",
       "      <td>Role-Playing</td>\n",
       "      <td>224.47</td>\n",
       "    </tr>\n",
       "    <tr>\n",
       "      <td>Platform</td>\n",
       "      <td>192.45</td>\n",
       "    </tr>\n",
       "    <tr>\n",
       "      <td>Racing</td>\n",
       "      <td>191.03</td>\n",
       "    </tr>\n",
       "    <tr>\n",
       "      <td>Simulation</td>\n",
       "      <td>130.13</td>\n",
       "    </tr>\n",
       "    <tr>\n",
       "      <td>Fighting</td>\n",
       "      <td>120.76</td>\n",
       "    </tr>\n",
       "    <tr>\n",
       "      <td>Adventure</td>\n",
       "      <td>69.23</td>\n",
       "    </tr>\n",
       "    <tr>\n",
       "      <td>Puzzle</td>\n",
       "      <td>54.10</td>\n",
       "    </tr>\n",
       "    <tr>\n",
       "      <td>Strategy</td>\n",
       "      <td>26.98</td>\n",
       "    </tr>\n",
       "  </tbody>\n",
       "</table>\n",
       "</div>"
      ],
      "text/plain": [
       "              na_sales\n",
       "genre                 \n",
       "Action          607.23\n",
       "Sports          466.97\n",
       "Shooter         375.84\n",
       "Misc            321.63\n",
       "Role-Playing    224.47\n",
       "Platform        192.45\n",
       "Racing          191.03\n",
       "Simulation      130.13\n",
       "Fighting        120.76\n",
       "Adventure        69.23\n",
       "Puzzle           54.10\n",
       "Strategy         26.98"
      ]
     },
     "execution_count": 51,
     "metadata": {},
     "output_type": "execute_result"
    }
   ],
   "source": [
    "actual_top_data.pivot_table(index='genre', values='na_sales', aggfunc='sum').sort_values(by='na_sales', ascending=False)"
   ]
  },
  {
   "cell_type": "markdown",
   "metadata": {},
   "source": [
    "Наиболее популярным жанром в Северной Америке является Action с 559.3 млн. проданных копий игр. Наименее популярным - Role-Playing с 200 млн. проданных копий игр. "
   ]
  },
  {
   "cell_type": "markdown",
   "metadata": {},
   "source": [
    "Таким же образом поступим с остальными регионами."
   ]
  },
  {
   "cell_type": "markdown",
   "metadata": {},
   "source": [
    "### Европа"
   ]
  },
  {
   "cell_type": "markdown",
   "metadata": {},
   "source": [
    "Определим топ-5 самых популярных платформ на рынке Европы."
   ]
  },
  {
   "cell_type": "code",
   "execution_count": 52,
   "metadata": {},
   "outputs": [
    {
     "data": {
      "text/html": [
       "<div>\n",
       "<style scoped>\n",
       "    .dataframe tbody tr th:only-of-type {\n",
       "        vertical-align: middle;\n",
       "    }\n",
       "\n",
       "    .dataframe tbody tr th {\n",
       "        vertical-align: top;\n",
       "    }\n",
       "\n",
       "    .dataframe thead th {\n",
       "        text-align: right;\n",
       "    }\n",
       "</style>\n",
       "<table border=\"1\" class=\"dataframe\">\n",
       "  <thead>\n",
       "    <tr style=\"text-align: right;\">\n",
       "      <th></th>\n",
       "      <th>eu_sales</th>\n",
       "    </tr>\n",
       "    <tr>\n",
       "      <th>platform</th>\n",
       "      <th></th>\n",
       "    </tr>\n",
       "  </thead>\n",
       "  <tbody>\n",
       "    <tr>\n",
       "      <td>PS3</td>\n",
       "      <td>327.21</td>\n",
       "    </tr>\n",
       "    <tr>\n",
       "      <td>PS2</td>\n",
       "      <td>269.62</td>\n",
       "    </tr>\n",
       "    <tr>\n",
       "      <td>X360</td>\n",
       "      <td>268.32</td>\n",
       "    </tr>\n",
       "    <tr>\n",
       "      <td>Wii</td>\n",
       "      <td>258.32</td>\n",
       "    </tr>\n",
       "    <tr>\n",
       "      <td>DS</td>\n",
       "      <td>188.41</td>\n",
       "    </tr>\n",
       "  </tbody>\n",
       "</table>\n",
       "</div>"
      ],
      "text/plain": [
       "          eu_sales\n",
       "platform          \n",
       "PS3         327.21\n",
       "PS2         269.62\n",
       "X360        268.32\n",
       "Wii         258.32\n",
       "DS          188.41"
      ]
     },
     "execution_count": 52,
     "metadata": {},
     "output_type": "execute_result"
    }
   ],
   "source": [
    "actual_top_data.pivot_table(index='platform', values='eu_sales', aggfunc='sum').sort_values(by='eu_sales', ascending=False).head()"
   ]
  },
  {
   "cell_type": "markdown",
   "metadata": {},
   "source": [
    "Наиболее популярной платформой в Европе является PlayStation 3 с 301.6 млн. проданных копий игр. Наименее же популярная платформа - Nintendo DS  с 188.4 млн. проданных копий игр."
   ]
  },
  {
   "cell_type": "markdown",
   "metadata": {},
   "source": [
    "Посмотрим на топ-5 самых популярных жанров в Европе."
   ]
  },
  {
   "cell_type": "code",
   "execution_count": 53,
   "metadata": {},
   "outputs": [
    {
     "data": {
      "text/html": [
       "<div>\n",
       "<style scoped>\n",
       "    .dataframe tbody tr th:only-of-type {\n",
       "        vertical-align: middle;\n",
       "    }\n",
       "\n",
       "    .dataframe tbody tr th {\n",
       "        vertical-align: top;\n",
       "    }\n",
       "\n",
       "    .dataframe thead th {\n",
       "        text-align: right;\n",
       "    }\n",
       "</style>\n",
       "<table border=\"1\" class=\"dataframe\">\n",
       "  <thead>\n",
       "    <tr style=\"text-align: right;\">\n",
       "      <th></th>\n",
       "      <th>eu_sales</th>\n",
       "    </tr>\n",
       "    <tr>\n",
       "      <th>genre</th>\n",
       "      <th></th>\n",
       "    </tr>\n",
       "  </thead>\n",
       "  <tbody>\n",
       "    <tr>\n",
       "      <td>Action</td>\n",
       "      <td>377.66</td>\n",
       "    </tr>\n",
       "    <tr>\n",
       "      <td>Sports</td>\n",
       "      <td>281.46</td>\n",
       "    </tr>\n",
       "    <tr>\n",
       "      <td>Shooter</td>\n",
       "      <td>227.47</td>\n",
       "    </tr>\n",
       "    <tr>\n",
       "      <td>Misc</td>\n",
       "      <td>176.28</td>\n",
       "    </tr>\n",
       "    <tr>\n",
       "      <td>Racing</td>\n",
       "      <td>144.47</td>\n",
       "    </tr>\n",
       "  </tbody>\n",
       "</table>\n",
       "</div>"
      ],
      "text/plain": [
       "         eu_sales\n",
       "genre            \n",
       "Action     377.66\n",
       "Sports     281.46\n",
       "Shooter    227.47\n",
       "Misc       176.28\n",
       "Racing     144.47"
      ]
     },
     "execution_count": 53,
     "metadata": {},
     "output_type": "execute_result"
    }
   ],
   "source": [
    "actual_top_data.pivot_table(index='genre', values='eu_sales', aggfunc='sum').sort_values(by='eu_sales', ascending=False).head()"
   ]
  },
  {
   "cell_type": "markdown",
   "metadata": {},
   "source": [
    "Наиболее популярным жанром в Европе является Action с 322 млн. проданных копий игр. Наименее популярным - Racing с 136.7 млн. проданных копий игр."
   ]
  },
  {
   "cell_type": "markdown",
   "metadata": {},
   "source": [
    "Теперь посмотрим на рынок игр в Японии."
   ]
  },
  {
   "cell_type": "markdown",
   "metadata": {},
   "source": [
    "### Япония"
   ]
  },
  {
   "cell_type": "markdown",
   "metadata": {},
   "source": [
    "Посмотрим на топ-5 популярных платформ."
   ]
  },
  {
   "cell_type": "code",
   "execution_count": 54,
   "metadata": {},
   "outputs": [
    {
     "data": {
      "text/html": [
       "<div>\n",
       "<style scoped>\n",
       "    .dataframe tbody tr th:only-of-type {\n",
       "        vertical-align: middle;\n",
       "    }\n",
       "\n",
       "    .dataframe tbody tr th {\n",
       "        vertical-align: top;\n",
       "    }\n",
       "\n",
       "    .dataframe thead th {\n",
       "        text-align: right;\n",
       "    }\n",
       "</style>\n",
       "<table border=\"1\" class=\"dataframe\">\n",
       "  <thead>\n",
       "    <tr style=\"text-align: right;\">\n",
       "      <th></th>\n",
       "      <th>jp_sales</th>\n",
       "    </tr>\n",
       "    <tr>\n",
       "      <th>platform</th>\n",
       "      <th></th>\n",
       "    </tr>\n",
       "  </thead>\n",
       "  <tbody>\n",
       "    <tr>\n",
       "      <td>DS</td>\n",
       "      <td>175.00</td>\n",
       "    </tr>\n",
       "    <tr>\n",
       "      <td>PS2</td>\n",
       "      <td>110.88</td>\n",
       "    </tr>\n",
       "    <tr>\n",
       "      <td>3DS</td>\n",
       "      <td>100.62</td>\n",
       "    </tr>\n",
       "    <tr>\n",
       "      <td>PS3</td>\n",
       "      <td>79.41</td>\n",
       "    </tr>\n",
       "    <tr>\n",
       "      <td>PSP</td>\n",
       "      <td>75.88</td>\n",
       "    </tr>\n",
       "  </tbody>\n",
       "</table>\n",
       "</div>"
      ],
      "text/plain": [
       "          jp_sales\n",
       "platform          \n",
       "DS          175.00\n",
       "PS2         110.88\n",
       "3DS         100.62\n",
       "PS3          79.41\n",
       "PSP          75.88"
      ]
     },
     "execution_count": 54,
     "metadata": {},
     "output_type": "execute_result"
    }
   ],
   "source": [
    "actual_top_data.pivot_table(index='platform', values='jp_sales', aggfunc='sum').sort_values(by='jp_sales', ascending=False).head()"
   ]
  },
  {
   "cell_type": "markdown",
   "metadata": {},
   "source": [
    "Самой популярной платформой в Японии является Nintendo DS cо 175 млн. проданных копий игр. Наименее популярная - Wii с 64.5 млн. проданных копий игр."
   ]
  },
  {
   "cell_type": "markdown",
   "metadata": {},
   "source": [
    "Посмотрим на топ-5 жанров."
   ]
  },
  {
   "cell_type": "code",
   "execution_count": 55,
   "metadata": {},
   "outputs": [
    {
     "data": {
      "text/html": [
       "<div>\n",
       "<style scoped>\n",
       "    .dataframe tbody tr th:only-of-type {\n",
       "        vertical-align: middle;\n",
       "    }\n",
       "\n",
       "    .dataframe tbody tr th {\n",
       "        vertical-align: top;\n",
       "    }\n",
       "\n",
       "    .dataframe thead th {\n",
       "        text-align: right;\n",
       "    }\n",
       "</style>\n",
       "<table border=\"1\" class=\"dataframe\">\n",
       "  <thead>\n",
       "    <tr style=\"text-align: right;\">\n",
       "      <th></th>\n",
       "      <th>jp_sales</th>\n",
       "    </tr>\n",
       "    <tr>\n",
       "      <th>genre</th>\n",
       "      <th></th>\n",
       "    </tr>\n",
       "  </thead>\n",
       "  <tbody>\n",
       "    <tr>\n",
       "      <td>Role-Playing</td>\n",
       "      <td>205.24</td>\n",
       "    </tr>\n",
       "    <tr>\n",
       "      <td>Action</td>\n",
       "      <td>111.82</td>\n",
       "    </tr>\n",
       "    <tr>\n",
       "      <td>Misc</td>\n",
       "      <td>73.05</td>\n",
       "    </tr>\n",
       "    <tr>\n",
       "      <td>Sports</td>\n",
       "      <td>62.24</td>\n",
       "    </tr>\n",
       "    <tr>\n",
       "      <td>Platform</td>\n",
       "      <td>44.13</td>\n",
       "    </tr>\n",
       "  </tbody>\n",
       "</table>\n",
       "</div>"
      ],
      "text/plain": [
       "              jp_sales\n",
       "genre                 \n",
       "Role-Playing    205.24\n",
       "Action          111.82\n",
       "Misc             73.05\n",
       "Sports           62.24\n",
       "Platform         44.13"
      ]
     },
     "execution_count": 55,
     "metadata": {},
     "output_type": "execute_result"
    }
   ],
   "source": [
    "actual_top_data.pivot_table(index='genre', values='jp_sales', aggfunc='sum').sort_values(by='jp_sales', ascending=False).head()"
   ]
  },
  {
   "cell_type": "markdown",
   "metadata": {},
   "source": [
    "Наиболее популярный жанр в Японии - Role-Playing с 179 млн. проданных копий игр, наименее популярный - Platform с 42.8 млн. проданных копий игр."
   ]
  },
  {
   "cell_type": "markdown",
   "metadata": {},
   "source": [
    "### Другие регионы"
   ]
  },
  {
   "cell_type": "markdown",
   "metadata": {},
   "source": [
    "В исследовании присутствуют регионы помимо Северной Амерки, Европы и Японии. Повторим исследование для них."
   ]
  },
  {
   "cell_type": "markdown",
   "metadata": {},
   "source": [
    "Топ-5 популярных платформ."
   ]
  },
  {
   "cell_type": "code",
   "execution_count": 56,
   "metadata": {},
   "outputs": [
    {
     "data": {
      "text/html": [
       "<div>\n",
       "<style scoped>\n",
       "    .dataframe tbody tr th:only-of-type {\n",
       "        vertical-align: middle;\n",
       "    }\n",
       "\n",
       "    .dataframe tbody tr th {\n",
       "        vertical-align: top;\n",
       "    }\n",
       "\n",
       "    .dataframe thead th {\n",
       "        text-align: right;\n",
       "    }\n",
       "</style>\n",
       "<table border=\"1\" class=\"dataframe\">\n",
       "  <thead>\n",
       "    <tr style=\"text-align: right;\">\n",
       "      <th></th>\n",
       "      <th>other_sales</th>\n",
       "    </tr>\n",
       "    <tr>\n",
       "      <th>platform</th>\n",
       "      <th></th>\n",
       "    </tr>\n",
       "  </thead>\n",
       "  <tbody>\n",
       "    <tr>\n",
       "      <td>PS2</td>\n",
       "      <td>170.11</td>\n",
       "    </tr>\n",
       "    <tr>\n",
       "      <td>PS3</td>\n",
       "      <td>134.59</td>\n",
       "    </tr>\n",
       "    <tr>\n",
       "      <td>X360</td>\n",
       "      <td>84.88</td>\n",
       "    </tr>\n",
       "    <tr>\n",
       "      <td>Wii</td>\n",
       "      <td>77.71</td>\n",
       "    </tr>\n",
       "    <tr>\n",
       "      <td>DS</td>\n",
       "      <td>59.04</td>\n",
       "    </tr>\n",
       "  </tbody>\n",
       "</table>\n",
       "</div>"
      ],
      "text/plain": [
       "          other_sales\n",
       "platform             \n",
       "PS2            170.11\n",
       "PS3            134.59\n",
       "X360            84.88\n",
       "Wii             77.71\n",
       "DS              59.04"
      ]
     },
     "execution_count": 56,
     "metadata": {},
     "output_type": "execute_result"
    }
   ],
   "source": [
    "actual_top_data.pivot_table(index='platform', values='other_sales', aggfunc='sum').sort_values(by='other_sales', ascending=False).head()"
   ]
  },
  {
   "cell_type": "markdown",
   "metadata": {},
   "source": [
    "Наиболее популярной платформой в других регионах является PlayStation 2 с 170 млн. проданных копий игр, наименее популярная в топе-5 - Nintendo DS с 59 млн. проданных копий игр."
   ]
  },
  {
   "cell_type": "markdown",
   "metadata": {},
   "source": [
    "Топ-5 популярных жанров."
   ]
  },
  {
   "cell_type": "code",
   "execution_count": 57,
   "metadata": {},
   "outputs": [
    {
     "data": {
      "text/html": [
       "<div>\n",
       "<style scoped>\n",
       "    .dataframe tbody tr th:only-of-type {\n",
       "        vertical-align: middle;\n",
       "    }\n",
       "\n",
       "    .dataframe tbody tr th {\n",
       "        vertical-align: top;\n",
       "    }\n",
       "\n",
       "    .dataframe thead th {\n",
       "        text-align: right;\n",
       "    }\n",
       "</style>\n",
       "<table border=\"1\" class=\"dataframe\">\n",
       "  <thead>\n",
       "    <tr style=\"text-align: right;\">\n",
       "      <th></th>\n",
       "      <th>other_sales</th>\n",
       "    </tr>\n",
       "    <tr>\n",
       "      <th>genre</th>\n",
       "      <th></th>\n",
       "    </tr>\n",
       "  </thead>\n",
       "  <tbody>\n",
       "    <tr>\n",
       "      <td>Action</td>\n",
       "      <td>156.80</td>\n",
       "    </tr>\n",
       "    <tr>\n",
       "      <td>Sports</td>\n",
       "      <td>112.29</td>\n",
       "    </tr>\n",
       "    <tr>\n",
       "      <td>Shooter</td>\n",
       "      <td>86.02</td>\n",
       "    </tr>\n",
       "    <tr>\n",
       "      <td>Misc</td>\n",
       "      <td>66.62</td>\n",
       "    </tr>\n",
       "    <tr>\n",
       "      <td>Racing</td>\n",
       "      <td>59.39</td>\n",
       "    </tr>\n",
       "  </tbody>\n",
       "</table>\n",
       "</div>"
      ],
      "text/plain": [
       "         other_sales\n",
       "genre               \n",
       "Action        156.80\n",
       "Sports        112.29\n",
       "Shooter        86.02\n",
       "Misc           66.62\n",
       "Racing         59.39"
      ]
     },
     "execution_count": 57,
     "metadata": {},
     "output_type": "execute_result"
    }
   ],
   "source": [
    "actual_top_data.pivot_table(index='genre', values='other_sales', aggfunc='sum').sort_values(by='other_sales', ascending=False).head()"
   ]
  },
  {
   "cell_type": "markdown",
   "metadata": {},
   "source": [
    "Также как и в предыдущих случаях, наиболее популярным жанром является Action со 138.7 млн. проданных копий игр. Наименее популярный жанр - Racing c 57.8 млн. проданных копий игр."
   ]
  },
  {
   "cell_type": "markdown",
   "metadata": {},
   "source": [
    "### Построение графиков по регионам"
   ]
  },
  {
   "cell_type": "markdown",
   "metadata": {},
   "source": [
    "Построим графики продаж игр с разбивкой по платформам и регионам. Графики располагаются по порядку - Северная Америка, Европа, Япония, другие регионы."
   ]
  },
  {
   "cell_type": "code",
   "execution_count": 58,
   "metadata": {},
   "outputs": [
    {
     "data": {
      "text/plain": [
       "array([<matplotlib.axes._subplots.AxesSubplot object at 0x7f3611378390>,\n",
       "       <matplotlib.axes._subplots.AxesSubplot object at 0x7f361139add0>,\n",
       "       <matplotlib.axes._subplots.AxesSubplot object at 0x7f361134e910>,\n",
       "       <matplotlib.axes._subplots.AxesSubplot object at 0x7f3611303f90>],\n",
       "      dtype=object)"
      ]
     },
     "execution_count": 58,
     "metadata": {},
     "output_type": "execute_result"
    },
    {
     "data": {
      "image/png": "[encoded data removed]",
      "text/plain": [
       "<Figure size 1080x720 with 4 Axes>"
      ]
     },
     "metadata": {},
     "output_type": "display_data"
    }
   ],
   "source": [
    "actual_top_data.groupby('platform')[['na_sales', 'eu_sales', 'jp_sales', 'other_sales']].sum().plot.pie(subplots=True, figsize=(15, 10))"
   ]
  },
  {
   "cell_type": "markdown",
   "metadata": {},
   "source": [
    "Графики подтверждают и наглядно визуализируют выводы при построении сводных таблиц."
   ]
  },
  {
   "cell_type": "markdown",
   "metadata": {},
   "source": [
    "Посмотрим на количество проданных игр в зависимости от их рейтинга."
   ]
  },
  {
   "cell_type": "code",
   "execution_count": 59,
   "metadata": {},
   "outputs": [
    {
     "data": {
      "text/plain": [
       "<matplotlib.axes._subplots.AxesSubplot at 0x7f3610e8eb50>"
      ]
     },
     "execution_count": 59,
     "metadata": {},
     "output_type": "execute_result"
    },
    {
     "data": {
      "image/png": "[encoded data removed]",
      "text/plain": [
       "<Figure size 720x720 with 1 Axes>"
      ]
     },
     "metadata": {
      "needs_background": "light"
     },
     "output_type": "display_data"
    }
   ],
   "source": [
    "(actual_top_data.pivot_table(index='rating', values=['na_sales', 'eu_sales', 'jp_sales', 'other_sales'])\n",
    " .sort_values('na_sales').plot(kind='bar', title='Продажи игр по регионам с разбивкой по рейтингам', figsize=(10, 10))\n",
    ")"
   ]
  },
  {
   "cell_type": "markdown",
   "metadata": {},
   "source": [
    "Посмотрим на график. Наибольшее количество игр, проданных в Америке - с рейтингом M; наибольшее количество игр, проданных в Европе - также с рейтингом М; наибольшее количество игр, проданных в Японии - с рейтингом Т."
   ]
  },
  {
   "cell_type": "markdown",
   "metadata": {},
   "source": [
    "### Вывод"
   ]
  },
  {
   "cell_type": "markdown",
   "metadata": {},
   "source": [
    "Мы проанализировали рынки видеоигр в Северной Америке, Европе, Японии и других регионах. Нашли для каждого региона топ-5 самых популярных платформ, топ-5 самых популярных жанров а также выяснили, влияет ли рейтинг ESRB на продажи игр по каждому из перечисленных регионов."
   ]
  },
  {
   "cell_type": "markdown",
   "metadata": {},
   "source": [
    "## Проверка гипотез"
   ]
  },
  {
   "cell_type": "markdown",
   "metadata": {},
   "source": [
    "На данном этапе нам предствоит проверить две гипотезы:\n",
    "- средние пользовательские рейтинги платформ Xbox One и PC одинаковые;\n",
    "- средние пользовательские рейтинги жанров Action (англ. «действие», экшен-игры) и Sports (англ. «спортивные соревнования») разные."
   ]
  },
  {
   "cell_type": "markdown",
   "metadata": {},
   "source": [
    "### Проверка первой гипотезы"
   ]
  },
  {
   "cell_type": "markdown",
   "metadata": {},
   "source": [
    "Сформулируем нулевую и альтернативную гипотезы для первого случая.\n",
    "- Нулевая гипотеза - средние пользовательские рейтинги платформ Xbox One и PC **не различаются**;\n",
    "- альтернативная гипотеза - средние пользовательские рейтинги платформ Xbox One и PC **различаются**."
   ]
  },
  {
   "cell_type": "markdown",
   "metadata": {},
   "source": [
    "Для проверки гипотез применим стат-тест для проверки равенства двух неравных массивов данных."
   ]
  },
  {
   "cell_type": "code",
   "execution_count": 60,
   "metadata": {},
   "outputs": [],
   "source": [
    "xbox_data = data[data['platform'] == 'XOne']['user_score']"
   ]
  },
  {
   "cell_type": "code",
   "execution_count": 70,
   "metadata": {},
   "outputs": [
    {
     "data": {
      "text/plain": [
       "4.805263157894737"
      ]
     },
     "execution_count": 70,
     "metadata": {},
     "output_type": "execute_result"
    }
   ],
   "source": [
    "xbox_data.mean()"
   ]
  },
  {
   "cell_type": "code",
   "execution_count": 61,
   "metadata": {},
   "outputs": [],
   "source": [
    "pc_data = data[data['platform'] == 'PC']['user_score']"
   ]
  },
  {
   "cell_type": "code",
   "execution_count": 71,
   "metadata": {},
   "outputs": [
    {
     "data": {
      "text/plain": [
       "5.598526315789474"
      ]
     },
     "execution_count": 71,
     "metadata": {},
     "output_type": "execute_result"
    }
   ],
   "source": [
    "pc_data.mean()"
   ]
  },
  {
   "cell_type": "markdown",
   "metadata": {},
   "source": [
    "Проверим полученные датасеты на пропуски. Чтобы стат-тест сработал, пропусков быть не должно."
   ]
  },
  {
   "cell_type": "code",
   "execution_count": 62,
   "metadata": {},
   "outputs": [
    {
     "data": {
      "text/plain": [
       "0"
      ]
     },
     "execution_count": 62,
     "metadata": {},
     "output_type": "execute_result"
    }
   ],
   "source": [
    "xbox_data.isna().sum()"
   ]
  },
  {
   "cell_type": "code",
   "execution_count": 63,
   "metadata": {},
   "outputs": [
    {
     "data": {
      "text/plain": [
       "0"
      ]
     },
     "execution_count": 63,
     "metadata": {},
     "output_type": "execute_result"
    }
   ],
   "source": [
    "pc_data.isna().sum()"
   ]
  },
  {
   "cell_type": "markdown",
   "metadata": {},
   "source": [
    "Пропусков в данных нет, значит стат-тест точно покажет результат."
   ]
  },
  {
   "cell_type": "code",
   "execution_count": 64,
   "metadata": {},
   "outputs": [
    {
     "name": "stdout",
     "output_type": "stream",
     "text": [
      "p-значение: 0.0004652379265680001\n",
      "Отвергаем нулевую гипотезу\n"
     ]
    }
   ],
   "source": [
    "alpha = 0.05\n",
    "\n",
    "results = st.ttest_ind(xbox_data, pc_data)\n",
    "\n",
    "print('p-значение:', results.pvalue)\n",
    "\n",
    "if results.pvalue < alpha:\n",
    "    print('Отвергаем нулевую гипотезу')\n",
    "else:\n",
    "    print('Нулевую гипотезу отвергнуть нельзя')"
   ]
  },
  {
   "cell_type": "markdown",
   "metadata": {},
   "source": [
    "Исходя из результатов стат-теста можно сделать вывод, что нулевая гипотеза отвергнута, соответствуенно средние пользовательские рейтинги платформ Xbox One и PC различаются."
   ]
  },
  {
   "cell_type": "markdown",
   "metadata": {},
   "source": [
    "Перейдем к проверке второй гипотезы."
   ]
  },
  {
   "cell_type": "markdown",
   "metadata": {},
   "source": [
    "### Проверка второй гипотезы"
   ]
  },
  {
   "cell_type": "markdown",
   "metadata": {},
   "source": [
    "Сформулируем нулевую и альтернативную гипотезы:\n",
    "- средние пользовательские рейтинги жанров Action и Sports **не различаются**;\n",
    "- средние пользовательские рейтинги жанров Action и Sports **различаются**."
   ]
  },
  {
   "cell_type": "code",
   "execution_count": 65,
   "metadata": {},
   "outputs": [],
   "source": [
    "action_data = data[data['genre'] == 'Action']['user_score']"
   ]
  },
  {
   "cell_type": "code",
   "execution_count": 66,
   "metadata": {},
   "outputs": [],
   "source": [
    "sports_data = data[data['genre'] == 'Sports']['user_score']"
   ]
  },
  {
   "cell_type": "markdown",
   "metadata": {},
   "source": [
    "Проверим полученные массивы на пропуски."
   ]
  },
  {
   "cell_type": "code",
   "execution_count": 67,
   "metadata": {},
   "outputs": [
    {
     "data": {
      "text/plain": [
       "0"
      ]
     },
     "execution_count": 67,
     "metadata": {},
     "output_type": "execute_result"
    }
   ],
   "source": [
    "action_data.isna().sum()"
   ]
  },
  {
   "cell_type": "code",
   "execution_count": 68,
   "metadata": {},
   "outputs": [
    {
     "data": {
      "text/plain": [
       "0"
      ]
     },
     "execution_count": 68,
     "metadata": {},
     "output_type": "execute_result"
    }
   ],
   "source": [
    "sports_data.isna().sum()"
   ]
  },
  {
   "cell_type": "markdown",
   "metadata": {},
   "source": [
    "Пропусков в данных нет, значит стат-тест сработает."
   ]
  },
  {
   "cell_type": "code",
   "execution_count": 69,
   "metadata": {},
   "outputs": [
    {
     "name": "stdout",
     "output_type": "stream",
     "text": [
      "p-значение: 1.8150403493636263e-09\n",
      "Отвергаем нулевую гипотезу\n"
     ]
    }
   ],
   "source": [
    "alpha = 0.05\n",
    "\n",
    "results = st.ttest_ind(action_data, sports_data)\n",
    "\n",
    "print('p-значение:', results.pvalue)\n",
    "\n",
    "if results.pvalue < alpha:\n",
    "    print('Отвергаем нулевую гипотезу')\n",
    "else:\n",
    "    print('Нулевую гипотезу отвергнуть нельзя')"
   ]
  },
  {
   "cell_type": "markdown",
   "metadata": {},
   "source": [
    "По результатам стат-теста можно сделать вывод, что средние пользовательские рейтинги жанров Action и Sports различаются."
   ]
  },
  {
   "cell_type": "markdown",
   "metadata": {},
   "source": [
    "### Вывод"
   ]
  },
  {
   "cell_type": "markdown",
   "metadata": {},
   "source": [
    "Мы завершили этап проверки гипотез. Обе гипотезы были отвергнуты."
   ]
  },
  {
   "cell_type": "markdown",
   "metadata": {},
   "source": [
    "## Общий вывод"
   ]
  },
  {
   "cell_type": "markdown",
   "metadata": {},
   "source": [
    "Было проведено масштабное исследование рынка видеоигр разных регионов. Данные для исследования были преобработаны, в исходную таблицу добавлен столбец с информацией о общих продажах по всем регионам. Далее был проведен исследовательский анализ, в ходе которого было сделано следующее:\n",
    "\n",
    "- проведя анализ количества выпущенных игр по годам было выяснено, что наибольшее число игр (более 4000) были выпущены в 2010-11 годах, а наименьшее количество игр - в 1990 году;\n",
    "- проведен анализ по платформам. В ходе него было выяснено, что меньше всего времени просуществовали GBA (Game Boy Advanced) и PS4, остальные платформы существуют около 10 лет, затем сменяются более новыми. Платформами с наибольшими продажами игр, соответственно наиболее прибыльными являются PS, PS2 и Wii;\n",
    "- построен график с разбивкой продаж по платформам. Судя по графику, наибольшие медианные продажи у PS4 и составляют примерно 3 млн. Наибольшее количество продаж принадлежит платформам DS, Wii, PS3 и Xbob 360;\n",
    "- был построен график распределения продаж игр по жанрам. Судя по графику, можно сказать, что играми с наибольшим числом продаж являются игры жанров Action, Misc, Role_Playing и Shooter. Играми с самыми низкими продажами являются игры жанра Adventure, Fighting, Puzzle, симуляторы и стратегии;\n",
    "- был проведен анализ рынков видеоигр в разных регионах. Чаще всего встречающийся возрастной рейтинг - M; наиболее популярные платформы - PS3 и Xbox 360; наиболее популярный жанр - Action.\n",
    "\n",
    "В конце исследования были проверены две гипотезы:\n",
    "- средние пользовательские рейтинги платформ Xbox One и PC одинаковые;\n",
    "- средние пользовательские рейтинги жанров Action (англ. «действие», экшен-игры) и Sports (англ. «спортивные соревнования») разные.\n",
    "\n",
    "В результате работы стат-тестов обе гипотезы были отвергнуты.\n",
    "\n",
    "***Отвечая на вопрос*** \"какие факторы определяют успешность игры\" - наибольшим успехом будет пользоваться игра с рейтингом М, выпущенная на актуальных игровых консолях (последние PS, Xbox) а также на платформе Wii, таким образом будет охвачен наиболее широкий рынок."
   ]
  },
  {
   "cell_type": "code",
   "execution_count": null,
   "metadata": {},
   "outputs": [],
   "source": []
  }
 ],
 "metadata": {
  "ExecuteTimeLog": [
   {
    "duration": 1245,
    "start_time": "2021-12-27T10:48:18.648Z"
   },
   {
    "duration": 142,
    "start_time": "2021-12-27T10:49:03.849Z"
   },
   {
    "duration": 73,
    "start_time": "2021-12-27T10:50:02.129Z"
   },
   {
    "duration": 16,
    "start_time": "2021-12-27T10:50:49.737Z"
   },
   {
    "duration": 50,
    "start_time": "2021-12-27T10:52:16.967Z"
   },
   {
    "duration": 31,
    "start_time": "2021-12-27T11:44:09.532Z"
   },
   {
    "duration": 446,
    "start_time": "2021-12-27T11:59:48.175Z"
   },
   {
    "duration": 458,
    "start_time": "2021-12-27T12:08:05.968Z"
   },
   {
    "duration": 705,
    "start_time": "2021-12-27T12:15:12.976Z"
   },
   {
    "duration": 476,
    "start_time": "2021-12-27T12:18:39.264Z"
   },
   {
    "duration": 7,
    "start_time": "2021-12-27T12:18:56.377Z"
   },
   {
    "duration": 15,
    "start_time": "2021-12-27T12:19:16.860Z"
   },
   {
    "duration": 5,
    "start_time": "2021-12-27T12:21:05.754Z"
   },
   {
    "duration": 15,
    "start_time": "2021-12-27T12:21:42.310Z"
   },
   {
    "duration": 15,
    "start_time": "2021-12-27T12:21:45.937Z"
   },
   {
    "duration": 12,
    "start_time": "2021-12-27T12:22:28.904Z"
   },
   {
    "duration": 10,
    "start_time": "2021-12-27T12:30:32.883Z"
   },
   {
    "duration": 14,
    "start_time": "2021-12-27T12:30:43.100Z"
   },
   {
    "duration": 15,
    "start_time": "2021-12-27T12:31:29.792Z"
   },
   {
    "duration": 1238,
    "start_time": "2021-12-27T12:33:52.864Z"
   },
   {
    "duration": 78,
    "start_time": "2021-12-27T12:33:54.105Z"
   },
   {
    "duration": 14,
    "start_time": "2021-12-27T12:33:54.187Z"
   },
   {
    "duration": 77,
    "start_time": "2021-12-27T12:33:54.204Z"
   },
   {
    "duration": 20,
    "start_time": "2021-12-27T12:33:54.284Z"
   },
   {
    "duration": 7,
    "start_time": "2021-12-27T12:33:54.307Z"
   },
   {
    "duration": 13,
    "start_time": "2021-12-27T12:33:54.316Z"
   },
   {
    "duration": 1244,
    "start_time": "2021-12-27T12:34:15.143Z"
   },
   {
    "duration": 72,
    "start_time": "2021-12-27T12:34:16.390Z"
   },
   {
    "duration": 18,
    "start_time": "2021-12-27T12:34:16.464Z"
   },
   {
    "duration": 46,
    "start_time": "2021-12-27T12:34:16.486Z"
   },
   {
    "duration": 58,
    "start_time": "2021-12-27T12:34:16.535Z"
   },
   {
    "duration": 11,
    "start_time": "2021-12-27T12:34:16.596Z"
   },
   {
    "duration": 20,
    "start_time": "2021-12-27T12:34:16.610Z"
   },
   {
    "duration": 15,
    "start_time": "2021-12-27T12:34:51.714Z"
   },
   {
    "duration": 14,
    "start_time": "2021-12-27T12:34:54.083Z"
   },
   {
    "duration": 6,
    "start_time": "2021-12-27T12:35:41.585Z"
   },
   {
    "duration": 16,
    "start_time": "2021-12-27T12:35:55.196Z"
   },
   {
    "duration": 404,
    "start_time": "2021-12-27T12:36:46.568Z"
   },
   {
    "duration": 259,
    "start_time": "2021-12-27T12:38:03.823Z"
   },
   {
    "duration": 8,
    "start_time": "2021-12-27T12:38:12.591Z"
   },
   {
    "duration": 12,
    "start_time": "2021-12-27T12:38:27.764Z"
   },
   {
    "duration": 6,
    "start_time": "2021-12-27T12:39:55.884Z"
   },
   {
    "duration": 6,
    "start_time": "2021-12-27T12:40:26.125Z"
   },
   {
    "duration": 15,
    "start_time": "2021-12-27T12:40:36.444Z"
   },
   {
    "duration": 4,
    "start_time": "2021-12-27T12:41:17.084Z"
   },
   {
    "duration": 12,
    "start_time": "2021-12-27T12:41:28.256Z"
   },
   {
    "duration": 1224,
    "start_time": "2021-12-27T13:34:59.181Z"
   },
   {
    "duration": 85,
    "start_time": "2021-12-27T13:35:00.407Z"
   },
   {
    "duration": 14,
    "start_time": "2021-12-27T13:35:00.495Z"
   },
   {
    "duration": 66,
    "start_time": "2021-12-27T13:35:00.512Z"
   },
   {
    "duration": 22,
    "start_time": "2021-12-27T13:35:00.581Z"
   },
   {
    "duration": 16,
    "start_time": "2021-12-27T13:35:00.606Z"
   },
   {
    "duration": 23,
    "start_time": "2021-12-27T13:35:00.625Z"
   },
   {
    "duration": 25,
    "start_time": "2021-12-27T13:35:00.650Z"
   },
   {
    "duration": 26,
    "start_time": "2021-12-27T13:35:00.679Z"
   },
   {
    "duration": 10,
    "start_time": "2021-12-27T13:35:00.708Z"
   },
   {
    "duration": 18,
    "start_time": "2021-12-27T13:35:00.720Z"
   },
   {
    "duration": 18,
    "start_time": "2021-12-27T13:35:00.741Z"
   },
   {
    "duration": 19,
    "start_time": "2021-12-27T13:35:00.762Z"
   },
   {
    "duration": 15,
    "start_time": "2021-12-27T13:35:24.410Z"
   },
   {
    "duration": 23,
    "start_time": "2021-12-27T13:39:44.033Z"
   },
   {
    "duration": 1242,
    "start_time": "2021-12-27T13:48:29.743Z"
   },
   {
    "duration": 74,
    "start_time": "2021-12-27T13:48:30.988Z"
   },
   {
    "duration": 20,
    "start_time": "2021-12-27T13:48:31.067Z"
   },
   {
    "duration": 48,
    "start_time": "2021-12-27T13:48:31.090Z"
   },
   {
    "duration": 48,
    "start_time": "2021-12-27T13:48:31.140Z"
   },
   {
    "duration": 12,
    "start_time": "2021-12-27T13:48:31.191Z"
   },
   {
    "duration": 45,
    "start_time": "2021-12-27T13:48:31.206Z"
   },
   {
    "duration": 43,
    "start_time": "2021-12-27T13:48:31.253Z"
   },
   {
    "duration": 26,
    "start_time": "2021-12-27T13:48:31.300Z"
   },
   {
    "duration": 72,
    "start_time": "2021-12-27T13:48:31.329Z"
   },
   {
    "duration": 42,
    "start_time": "2021-12-27T13:48:31.404Z"
   },
   {
    "duration": 40,
    "start_time": "2021-12-27T13:48:31.449Z"
   },
   {
    "duration": 28,
    "start_time": "2021-12-27T13:48:31.492Z"
   },
   {
    "duration": 35,
    "start_time": "2021-12-27T13:48:31.522Z"
   },
   {
    "duration": 152,
    "start_time": "2021-12-27T13:48:31.560Z"
   },
   {
    "duration": 1193,
    "start_time": "2021-12-27T13:50:59.200Z"
   },
   {
    "duration": 84,
    "start_time": "2021-12-27T13:51:00.396Z"
   },
   {
    "duration": 15,
    "start_time": "2021-12-27T13:51:00.484Z"
   },
   {
    "duration": 74,
    "start_time": "2021-12-27T13:51:00.502Z"
   },
   {
    "duration": 22,
    "start_time": "2021-12-27T13:51:00.579Z"
   },
   {
    "duration": 18,
    "start_time": "2021-12-27T13:51:00.604Z"
   },
   {
    "duration": 9,
    "start_time": "2021-12-27T13:51:00.624Z"
   },
   {
    "duration": 41,
    "start_time": "2021-12-27T13:51:00.636Z"
   },
   {
    "duration": 16,
    "start_time": "2021-12-27T13:51:00.681Z"
   },
   {
    "duration": 15,
    "start_time": "2021-12-27T13:51:00.700Z"
   },
   {
    "duration": 28,
    "start_time": "2021-12-27T13:51:00.718Z"
   },
   {
    "duration": 32,
    "start_time": "2021-12-27T13:51:00.749Z"
   },
   {
    "duration": 21,
    "start_time": "2021-12-27T13:51:00.784Z"
   },
   {
    "duration": 102,
    "start_time": "2021-12-27T13:51:00.807Z"
   },
   {
    "duration": 10,
    "start_time": "2021-12-27T13:54:00.783Z"
   },
   {
    "duration": 21,
    "start_time": "2021-12-27T13:54:10.441Z"
   },
   {
    "duration": 5,
    "start_time": "2021-12-27T13:54:33.143Z"
   },
   {
    "duration": 24,
    "start_time": "2021-12-27T13:54:35.360Z"
   },
   {
    "duration": 6,
    "start_time": "2021-12-27T13:58:43.106Z"
   },
   {
    "duration": 22,
    "start_time": "2021-12-27T13:58:45.024Z"
   },
   {
    "duration": 6,
    "start_time": "2021-12-27T13:59:02.431Z"
   },
   {
    "duration": 21,
    "start_time": "2021-12-27T13:59:04.215Z"
   },
   {
    "duration": 381,
    "start_time": "2021-12-28T07:30:51.609Z"
   },
   {
    "duration": 1237,
    "start_time": "2021-12-28T07:30:59.646Z"
   },
   {
    "duration": 77,
    "start_time": "2021-12-28T07:31:00.886Z"
   },
   {
    "duration": 14,
    "start_time": "2021-12-28T07:31:00.966Z"
   },
   {
    "duration": 44,
    "start_time": "2021-12-28T07:31:00.984Z"
   },
   {
    "duration": 45,
    "start_time": "2021-12-28T07:31:01.030Z"
   },
   {
    "duration": 12,
    "start_time": "2021-12-28T07:31:01.077Z"
   },
   {
    "duration": 7,
    "start_time": "2021-12-28T07:31:01.092Z"
   },
   {
    "duration": 8,
    "start_time": "2021-12-28T07:31:01.101Z"
   },
   {
    "duration": 6,
    "start_time": "2021-12-28T07:31:01.113Z"
   },
   {
    "duration": 41,
    "start_time": "2021-12-28T07:31:01.122Z"
   },
   {
    "duration": 13,
    "start_time": "2021-12-28T07:31:01.165Z"
   },
   {
    "duration": 18,
    "start_time": "2021-12-28T07:31:01.180Z"
   },
   {
    "duration": 20,
    "start_time": "2021-12-28T07:31:01.201Z"
   },
   {
    "duration": 9,
    "start_time": "2021-12-28T07:31:01.223Z"
   },
   {
    "duration": 20,
    "start_time": "2021-12-28T07:31:01.264Z"
   },
   {
    "duration": 604,
    "start_time": "2021-12-28T07:31:01.287Z"
   },
   {
    "duration": 482,
    "start_time": "2021-12-28T07:38:14.023Z"
   },
   {
    "duration": 13,
    "start_time": "2021-12-28T07:38:52.921Z"
   },
   {
    "duration": 21,
    "start_time": "2021-12-28T07:39:00.201Z"
   },
   {
    "duration": 16,
    "start_time": "2021-12-28T07:39:13.901Z"
   },
   {
    "duration": 22,
    "start_time": "2021-12-28T07:43:13.510Z"
   },
   {
    "duration": 310,
    "start_time": "2021-12-28T07:43:36.781Z"
   },
   {
    "duration": 23,
    "start_time": "2021-12-28T07:44:37.910Z"
   },
   {
    "duration": 1078,
    "start_time": "2021-12-28T07:47:38.923Z"
   },
   {
    "duration": 1092,
    "start_time": "2021-12-28T07:48:13.984Z"
   },
   {
    "duration": 1183,
    "start_time": "2021-12-28T07:48:25.443Z"
   },
   {
    "duration": 1200,
    "start_time": "2021-12-28T07:48:59.964Z"
   },
   {
    "duration": 1299,
    "start_time": "2021-12-28T07:52:25.256Z"
   },
   {
    "duration": 1275,
    "start_time": "2021-12-28T07:58:00.768Z"
   },
   {
    "duration": 1195,
    "start_time": "2021-12-28T07:58:28.781Z"
   },
   {
    "duration": 75,
    "start_time": "2021-12-28T07:58:29.979Z"
   },
   {
    "duration": 17,
    "start_time": "2021-12-28T07:58:30.057Z"
   },
   {
    "duration": 44,
    "start_time": "2021-12-28T07:58:30.077Z"
   },
   {
    "duration": 45,
    "start_time": "2021-12-28T07:58:30.124Z"
   },
   {
    "duration": 24,
    "start_time": "2021-12-28T07:58:30.171Z"
   },
   {
    "duration": 8,
    "start_time": "2021-12-28T07:58:30.197Z"
   },
   {
    "duration": 8,
    "start_time": "2021-12-28T07:58:30.208Z"
   },
   {
    "duration": 11,
    "start_time": "2021-12-28T07:58:30.219Z"
   },
   {
    "duration": 30,
    "start_time": "2021-12-28T07:58:30.233Z"
   },
   {
    "duration": 8,
    "start_time": "2021-12-28T07:58:30.265Z"
   },
   {
    "duration": 28,
    "start_time": "2021-12-28T07:58:30.275Z"
   },
   {
    "duration": 33,
    "start_time": "2021-12-28T07:58:30.306Z"
   },
   {
    "duration": 13,
    "start_time": "2021-12-28T07:58:30.341Z"
   },
   {
    "duration": 21,
    "start_time": "2021-12-28T07:58:30.363Z"
   },
   {
    "duration": 636,
    "start_time": "2021-12-28T07:58:30.387Z"
   },
   {
    "duration": 15,
    "start_time": "2021-12-28T07:58:31.026Z"
   },
   {
    "duration": 42,
    "start_time": "2021-12-28T07:58:31.045Z"
   },
   {
    "duration": 17,
    "start_time": "2021-12-28T07:58:31.090Z"
   },
   {
    "duration": 1242,
    "start_time": "2021-12-28T07:58:31.110Z"
   },
   {
    "duration": 1248,
    "start_time": "2021-12-28T07:58:32.354Z"
   },
   {
    "duration": 1159,
    "start_time": "2021-12-28T08:14:26.410Z"
   },
   {
    "duration": 72,
    "start_time": "2021-12-28T08:14:27.572Z"
   },
   {
    "duration": 17,
    "start_time": "2021-12-28T08:14:27.648Z"
   },
   {
    "duration": 45,
    "start_time": "2021-12-28T08:14:27.668Z"
   },
   {
    "duration": 47,
    "start_time": "2021-12-28T08:14:27.716Z"
   },
   {
    "duration": 13,
    "start_time": "2021-12-28T08:14:27.766Z"
   },
   {
    "duration": 8,
    "start_time": "2021-12-28T08:14:27.782Z"
   },
   {
    "duration": 6,
    "start_time": "2021-12-28T08:14:27.795Z"
   },
   {
    "duration": 7,
    "start_time": "2021-12-28T08:14:27.805Z"
   },
   {
    "duration": 9,
    "start_time": "2021-12-28T08:14:27.864Z"
   },
   {
    "duration": 9,
    "start_time": "2021-12-28T08:14:27.876Z"
   },
   {
    "duration": 17,
    "start_time": "2021-12-28T08:14:27.888Z"
   },
   {
    "duration": 56,
    "start_time": "2021-12-28T08:14:27.908Z"
   },
   {
    "duration": 8,
    "start_time": "2021-12-28T08:14:27.967Z"
   },
   {
    "duration": 22,
    "start_time": "2021-12-28T08:14:27.978Z"
   },
   {
    "duration": 627,
    "start_time": "2021-12-28T08:14:28.003Z"
   },
   {
    "duration": 12,
    "start_time": "2021-12-28T08:14:28.632Z"
   },
   {
    "duration": 36,
    "start_time": "2021-12-28T08:14:28.647Z"
   },
   {
    "duration": 15,
    "start_time": "2021-12-28T08:14:28.686Z"
   },
   {
    "duration": 1292,
    "start_time": "2021-12-28T08:14:28.704Z"
   },
   {
    "duration": 1264,
    "start_time": "2021-12-28T08:14:29.999Z"
   },
   {
    "duration": 561,
    "start_time": "2021-12-28T08:14:31.266Z"
   },
   {
    "duration": 13,
    "start_time": "2021-12-28T08:48:21.632Z"
   },
   {
    "duration": 23,
    "start_time": "2021-12-28T08:48:46.815Z"
   },
   {
    "duration": 821,
    "start_time": "2021-12-28T08:55:22.810Z"
   },
   {
    "duration": 27,
    "start_time": "2021-12-28T10:27:29.533Z"
   },
   {
    "duration": 27,
    "start_time": "2021-12-28T10:30:00.545Z"
   },
   {
    "duration": 7417,
    "start_time": "2021-12-28T10:32:55.553Z"
   },
   {
    "duration": 711,
    "start_time": "2021-12-28T10:33:14.605Z"
   },
   {
    "duration": 452,
    "start_time": "2021-12-28T10:33:27.813Z"
   },
   {
    "duration": 691,
    "start_time": "2021-12-28T10:33:43.473Z"
   },
   {
    "duration": 423,
    "start_time": "2021-12-28T10:33:56.733Z"
   },
   {
    "duration": 444,
    "start_time": "2021-12-28T10:34:12.593Z"
   },
   {
    "duration": 7398,
    "start_time": "2021-12-28T10:35:49.412Z"
   },
   {
    "duration": 418,
    "start_time": "2021-12-28T10:36:07.745Z"
   },
   {
    "duration": 429,
    "start_time": "2021-12-28T10:36:36.444Z"
   },
   {
    "duration": 552,
    "start_time": "2021-12-28T10:37:26.613Z"
   },
   {
    "duration": 94,
    "start_time": "2021-12-28T10:42:55.560Z"
   },
   {
    "duration": 8,
    "start_time": "2021-12-28T10:43:01.773Z"
   },
   {
    "duration": 7,
    "start_time": "2021-12-28T10:43:31.073Z"
   },
   {
    "duration": 6,
    "start_time": "2021-12-28T10:44:03.493Z"
   },
   {
    "duration": 541,
    "start_time": "2021-12-28T10:46:12.653Z"
   },
   {
    "duration": 8,
    "start_time": "2021-12-28T10:46:46.824Z"
   },
   {
    "duration": 5217,
    "start_time": "2021-12-28T10:49:59.830Z"
   },
   {
    "duration": 4411,
    "start_time": "2021-12-28T10:50:28.885Z"
   },
   {
    "duration": 773,
    "start_time": "2021-12-28T12:00:23.077Z"
   },
   {
    "duration": 28,
    "start_time": "2021-12-28T13:25:43.997Z"
   },
   {
    "duration": 28,
    "start_time": "2021-12-28T13:26:08.456Z"
   },
   {
    "duration": 39,
    "start_time": "2021-12-28T13:26:22.347Z"
   },
   {
    "duration": 160,
    "start_time": "2021-12-28T13:38:23.267Z"
   },
   {
    "duration": 36,
    "start_time": "2021-12-28T13:39:37.952Z"
   },
   {
    "duration": 24,
    "start_time": "2021-12-28T13:44:51.014Z"
   },
   {
    "duration": 37,
    "start_time": "2021-12-28T14:08:00.365Z"
   },
   {
    "duration": 21,
    "start_time": "2021-12-28T14:11:32.033Z"
   },
   {
    "duration": 59,
    "start_time": "2021-12-28T14:12:13.387Z"
   },
   {
    "duration": 907,
    "start_time": "2021-12-28T14:20:08.152Z"
   },
   {
    "duration": 304,
    "start_time": "2021-12-28T14:21:28.404Z"
   },
   {
    "duration": 293,
    "start_time": "2021-12-28T14:21:48.593Z"
   },
   {
    "duration": 560,
    "start_time": "2021-12-28T15:38:41.523Z"
   },
   {
    "duration": 31,
    "start_time": "2021-12-28T15:56:19.599Z"
   },
   {
    "duration": 23,
    "start_time": "2021-12-28T15:58:49.591Z"
   },
   {
    "duration": 625,
    "start_time": "2021-12-28T16:02:27.071Z"
   },
   {
    "duration": 23,
    "start_time": "2021-12-28T16:07:06.832Z"
   },
   {
    "duration": 26,
    "start_time": "2021-12-28T16:10:28.143Z"
   },
   {
    "duration": 636,
    "start_time": "2021-12-28T16:14:21.599Z"
   },
   {
    "duration": 32,
    "start_time": "2021-12-28T16:18:56.904Z"
   },
   {
    "duration": 27,
    "start_time": "2021-12-28T16:22:07.144Z"
   },
   {
    "duration": 559,
    "start_time": "2021-12-28T16:26:24.640Z"
   },
   {
    "duration": 8,
    "start_time": "2021-12-28T16:37:38.735Z"
   },
   {
    "duration": 7,
    "start_time": "2021-12-28T16:38:26.624Z"
   },
   {
    "duration": 8,
    "start_time": "2021-12-28T16:39:00.112Z"
   },
   {
    "duration": 7,
    "start_time": "2021-12-28T16:39:45.424Z"
   },
   {
    "duration": 9,
    "start_time": "2021-12-28T16:39:53.664Z"
   },
   {
    "duration": 58,
    "start_time": "2021-12-28T16:41:07.792Z"
   },
   {
    "duration": 9,
    "start_time": "2021-12-28T16:46:12.671Z"
   },
   {
    "duration": 8,
    "start_time": "2021-12-28T16:46:20.344Z"
   },
   {
    "duration": 6,
    "start_time": "2021-12-28T16:46:27.904Z"
   },
   {
    "duration": 7,
    "start_time": "2021-12-28T16:46:39.375Z"
   },
   {
    "duration": 6,
    "start_time": "2021-12-28T16:47:53.824Z"
   },
   {
    "duration": 8,
    "start_time": "2021-12-28T16:51:48.079Z"
   },
   {
    "duration": 7,
    "start_time": "2021-12-28T16:52:03.423Z"
   },
   {
    "duration": 7,
    "start_time": "2021-12-28T16:52:29.903Z"
   },
   {
    "duration": 8,
    "start_time": "2021-12-28T16:52:41.856Z"
   },
   {
    "duration": 9,
    "start_time": "2021-12-28T16:53:24.176Z"
   },
   {
    "duration": 21,
    "start_time": "2021-12-28T16:58:28.334Z"
   },
   {
    "duration": 1209,
    "start_time": "2021-12-29T13:35:42.718Z"
   },
   {
    "duration": 70,
    "start_time": "2021-12-29T13:35:43.930Z"
   },
   {
    "duration": 14,
    "start_time": "2021-12-29T13:35:44.127Z"
   },
   {
    "duration": 42,
    "start_time": "2021-12-29T13:35:44.727Z"
   },
   {
    "duration": 135,
    "start_time": "2021-12-29T13:36:19.463Z"
   },
   {
    "duration": 25,
    "start_time": "2021-12-29T13:36:27.038Z"
   },
   {
    "duration": 16,
    "start_time": "2021-12-29T13:37:55.429Z"
   },
   {
    "duration": 7,
    "start_time": "2021-12-29T13:37:56.164Z"
   },
   {
    "duration": 7,
    "start_time": "2021-12-29T13:38:20.797Z"
   },
   {
    "duration": 7,
    "start_time": "2021-12-29T13:38:22.741Z"
   },
   {
    "duration": 7,
    "start_time": "2021-12-29T13:45:36.963Z"
   },
   {
    "duration": 8,
    "start_time": "2021-12-29T13:45:44.733Z"
   },
   {
    "duration": 14,
    "start_time": "2021-12-29T13:45:45.500Z"
   },
   {
    "duration": 19,
    "start_time": "2021-12-29T13:45:53.114Z"
   },
   {
    "duration": 6,
    "start_time": "2021-12-29T13:48:40.104Z"
   },
   {
    "duration": 21,
    "start_time": "2021-12-29T13:48:40.361Z"
   },
   {
    "duration": 565,
    "start_time": "2021-12-29T13:49:23.594Z"
   },
   {
    "duration": 11,
    "start_time": "2021-12-29T13:52:29.093Z"
   },
   {
    "duration": 18,
    "start_time": "2021-12-29T13:52:29.607Z"
   },
   {
    "duration": 12,
    "start_time": "2021-12-29T13:52:31.359Z"
   },
   {
    "duration": 513,
    "start_time": "2021-12-29T13:54:32.061Z"
   },
   {
    "duration": 11,
    "start_time": "2021-12-29T14:01:24.952Z"
   },
   {
    "duration": 20,
    "start_time": "2021-12-29T14:01:57.695Z"
   },
   {
    "duration": 644,
    "start_time": "2021-12-29T14:09:07.581Z"
   },
   {
    "duration": 25,
    "start_time": "2021-12-29T14:17:30.319Z"
   },
   {
    "duration": 549,
    "start_time": "2021-12-29T14:18:11.800Z"
   },
   {
    "duration": 6,
    "start_time": "2021-12-29T14:18:16.880Z"
   },
   {
    "duration": 532,
    "start_time": "2021-12-29T14:18:21.808Z"
   },
   {
    "duration": 7,
    "start_time": "2021-12-29T14:18:24.108Z"
   },
   {
    "duration": 4743,
    "start_time": "2021-12-29T14:21:31.100Z"
   },
   {
    "duration": 153,
    "start_time": "2021-12-29T14:22:16.052Z"
   },
   {
    "duration": 720,
    "start_time": "2021-12-29T14:22:32.459Z"
   },
   {
    "duration": 20,
    "start_time": "2021-12-29T14:28:19.408Z"
   },
   {
    "duration": 19,
    "start_time": "2021-12-29T14:28:23.406Z"
   },
   {
    "duration": 467,
    "start_time": "2021-12-29T14:28:44.805Z"
   },
   {
    "duration": 21,
    "start_time": "2021-12-29T14:32:16.209Z"
   },
   {
    "duration": 19,
    "start_time": "2021-12-29T14:32:17.818Z"
   },
   {
    "duration": 479,
    "start_time": "2021-12-29T14:32:19.018Z"
   },
   {
    "duration": 19,
    "start_time": "2021-12-29T14:32:21.994Z"
   },
   {
    "duration": 19,
    "start_time": "2021-12-29T14:32:22.666Z"
   },
   {
    "duration": 486,
    "start_time": "2021-12-29T14:32:23.371Z"
   },
   {
    "duration": 21,
    "start_time": "2021-12-29T14:32:39.483Z"
   },
   {
    "duration": 20,
    "start_time": "2021-12-29T14:32:40.138Z"
   },
   {
    "duration": 481,
    "start_time": "2021-12-29T14:32:41.065Z"
   },
   {
    "duration": 7,
    "start_time": "2021-12-29T14:42:52.634Z"
   },
   {
    "duration": 8,
    "start_time": "2021-12-29T14:42:52.996Z"
   },
   {
    "duration": 6,
    "start_time": "2021-12-29T14:42:56.743Z"
   },
   {
    "duration": 6,
    "start_time": "2021-12-29T14:42:57.000Z"
   },
   {
    "duration": 9,
    "start_time": "2021-12-29T14:43:00.865Z"
   },
   {
    "duration": 8,
    "start_time": "2021-12-29T14:43:15.496Z"
   },
   {
    "duration": 8,
    "start_time": "2021-12-29T14:43:16.193Z"
   },
   {
    "duration": 6,
    "start_time": "2021-12-29T14:43:17.128Z"
   },
   {
    "duration": 6,
    "start_time": "2021-12-29T14:43:17.336Z"
   },
   {
    "duration": 8,
    "start_time": "2021-12-29T14:43:17.672Z"
   },
   {
    "duration": 1173,
    "start_time": "2021-12-29T15:26:37.365Z"
   },
   {
    "duration": 70,
    "start_time": "2021-12-29T15:26:38.541Z"
   },
   {
    "duration": 19,
    "start_time": "2021-12-29T15:26:38.614Z"
   },
   {
    "duration": 43,
    "start_time": "2021-12-29T15:26:38.637Z"
   },
   {
    "duration": 41,
    "start_time": "2021-12-29T15:26:38.682Z"
   },
   {
    "duration": 10,
    "start_time": "2021-12-29T15:26:38.725Z"
   },
   {
    "duration": 13,
    "start_time": "2021-12-29T15:26:38.737Z"
   },
   {
    "duration": 13,
    "start_time": "2021-12-29T15:26:38.753Z"
   },
   {
    "duration": 15,
    "start_time": "2021-12-29T15:26:38.769Z"
   },
   {
    "duration": 18,
    "start_time": "2021-12-29T15:26:38.786Z"
   },
   {
    "duration": 27,
    "start_time": "2021-12-29T15:26:38.807Z"
   },
   {
    "duration": 26,
    "start_time": "2021-12-29T15:26:38.837Z"
   },
   {
    "duration": 31,
    "start_time": "2021-12-29T15:26:38.866Z"
   },
   {
    "duration": 15,
    "start_time": "2021-12-29T15:26:38.900Z"
   },
   {
    "duration": 44,
    "start_time": "2021-12-29T15:26:38.917Z"
   },
   {
    "duration": 565,
    "start_time": "2021-12-29T15:26:38.963Z"
   },
   {
    "duration": 14,
    "start_time": "2021-12-29T15:26:39.530Z"
   },
   {
    "duration": 30,
    "start_time": "2021-12-29T15:26:39.547Z"
   },
   {
    "duration": 53,
    "start_time": "2021-12-29T15:26:39.580Z"
   },
   {
    "duration": 554,
    "start_time": "2021-12-29T15:26:39.636Z"
   },
   {
    "duration": 13,
    "start_time": "2021-12-29T15:26:40.193Z"
   },
   {
    "duration": 24,
    "start_time": "2021-12-29T15:26:40.223Z"
   },
   {
    "duration": 663,
    "start_time": "2021-12-29T15:26:40.254Z"
   },
   {
    "duration": 22,
    "start_time": "2021-12-29T15:26:40.924Z"
   },
   {
    "duration": 492,
    "start_time": "2021-12-29T15:26:40.948Z"
   },
   {
    "duration": 7,
    "start_time": "2021-12-29T15:26:41.442Z"
   },
   {
    "duration": 608,
    "start_time": "2021-12-29T15:26:41.452Z"
   },
   {
    "duration": 8,
    "start_time": "2021-12-29T15:26:42.063Z"
   },
   {
    "duration": 3972,
    "start_time": "2021-12-29T15:26:42.074Z"
   },
   {
    "duration": 734,
    "start_time": "2021-12-29T15:26:46.048Z"
   },
   {
    "duration": 21,
    "start_time": "2021-12-29T15:26:46.784Z"
   },
   {
    "duration": 19,
    "start_time": "2021-12-29T15:26:46.823Z"
   },
   {
    "duration": 506,
    "start_time": "2021-12-29T15:26:46.845Z"
   },
   {
    "duration": 20,
    "start_time": "2021-12-29T15:26:47.353Z"
   },
   {
    "duration": 19,
    "start_time": "2021-12-29T15:26:47.375Z"
   },
   {
    "duration": 520,
    "start_time": "2021-12-29T15:26:47.396Z"
   },
   {
    "duration": 20,
    "start_time": "2021-12-29T15:26:47.923Z"
   },
   {
    "duration": 20,
    "start_time": "2021-12-29T15:26:47.945Z"
   },
   {
    "duration": 538,
    "start_time": "2021-12-29T15:26:47.968Z"
   },
   {
    "duration": 29,
    "start_time": "2021-12-29T15:26:48.509Z"
   },
   {
    "duration": 20,
    "start_time": "2021-12-29T15:26:48.541Z"
   },
   {
    "duration": 513,
    "start_time": "2021-12-29T15:26:48.564Z"
   },
   {
    "duration": 7,
    "start_time": "2021-12-29T15:26:49.081Z"
   },
   {
    "duration": 10,
    "start_time": "2021-12-29T15:26:49.091Z"
   },
   {
    "duration": 25,
    "start_time": "2021-12-29T15:26:49.103Z"
   },
   {
    "duration": 8,
    "start_time": "2021-12-29T15:26:49.131Z"
   },
   {
    "duration": 7,
    "start_time": "2021-12-29T15:26:49.141Z"
   },
   {
    "duration": 8,
    "start_time": "2021-12-29T15:26:49.151Z"
   },
   {
    "duration": 7,
    "start_time": "2021-12-29T15:26:49.162Z"
   },
   {
    "duration": 6,
    "start_time": "2021-12-29T15:26:49.223Z"
   },
   {
    "duration": 8,
    "start_time": "2021-12-29T15:26:49.231Z"
   },
   {
    "duration": 10,
    "start_time": "2021-12-29T15:26:49.241Z"
   },
   {
    "duration": 1376,
    "start_time": "2021-12-29T15:38:53.967Z"
   },
   {
    "duration": 74,
    "start_time": "2021-12-29T15:38:55.346Z"
   },
   {
    "duration": 14,
    "start_time": "2021-12-29T15:38:55.423Z"
   },
   {
    "duration": 45,
    "start_time": "2021-12-29T15:38:55.440Z"
   },
   {
    "duration": 55,
    "start_time": "2021-12-29T15:38:55.487Z"
   },
   {
    "duration": 17,
    "start_time": "2021-12-29T15:38:55.544Z"
   },
   {
    "duration": 6,
    "start_time": "2021-12-29T15:38:55.563Z"
   },
   {
    "duration": 7,
    "start_time": "2021-12-29T15:38:55.571Z"
   },
   {
    "duration": 42,
    "start_time": "2021-12-29T15:38:55.581Z"
   },
   {
    "duration": 10,
    "start_time": "2021-12-29T15:38:55.626Z"
   },
   {
    "duration": 11,
    "start_time": "2021-12-29T15:38:55.639Z"
   },
   {
    "duration": 13,
    "start_time": "2021-12-29T15:38:55.653Z"
   },
   {
    "duration": 20,
    "start_time": "2021-12-29T15:38:55.669Z"
   },
   {
    "duration": 36,
    "start_time": "2021-12-29T15:38:55.691Z"
   },
   {
    "duration": 19,
    "start_time": "2021-12-29T15:38:55.729Z"
   },
   {
    "duration": 556,
    "start_time": "2021-12-29T15:38:55.750Z"
   },
   {
    "duration": 19,
    "start_time": "2021-12-29T15:38:56.309Z"
   },
   {
    "duration": 19,
    "start_time": "2021-12-29T15:38:56.331Z"
   },
   {
    "duration": 16,
    "start_time": "2021-12-29T15:38:56.353Z"
   },
   {
    "duration": 537,
    "start_time": "2021-12-29T15:38:56.372Z"
   },
   {
    "duration": 12,
    "start_time": "2021-12-29T15:38:56.922Z"
   },
   {
    "duration": 23,
    "start_time": "2021-12-29T15:38:56.937Z"
   },
   {
    "duration": 662,
    "start_time": "2021-12-29T15:38:56.963Z"
   },
   {
    "duration": 26,
    "start_time": "2021-12-29T15:38:57.628Z"
   },
   {
    "duration": 569,
    "start_time": "2021-12-29T15:38:57.657Z"
   },
   {
    "duration": 9,
    "start_time": "2021-12-29T15:38:58.230Z"
   },
   {
    "duration": 504,
    "start_time": "2021-12-29T15:38:58.248Z"
   },
   {
    "duration": 7,
    "start_time": "2021-12-29T15:38:58.755Z"
   },
   {
    "duration": 4137,
    "start_time": "2021-12-29T15:38:58.766Z"
   },
   {
    "duration": 779,
    "start_time": "2021-12-29T15:39:02.906Z"
   },
   {
    "duration": 35,
    "start_time": "2021-12-29T15:39:03.688Z"
   },
   {
    "duration": 19,
    "start_time": "2021-12-29T15:39:03.725Z"
   },
   {
    "duration": 545,
    "start_time": "2021-12-29T15:39:03.747Z"
   },
   {
    "duration": 32,
    "start_time": "2021-12-29T15:39:04.294Z"
   },
   {
    "duration": 18,
    "start_time": "2021-12-29T15:39:04.328Z"
   },
   {
    "duration": 530,
    "start_time": "2021-12-29T15:39:04.349Z"
   },
   {
    "duration": 43,
    "start_time": "2021-12-29T15:39:04.882Z"
   },
   {
    "duration": 28,
    "start_time": "2021-12-29T15:39:04.928Z"
   },
   {
    "duration": 805,
    "start_time": "2021-12-29T15:39:04.959Z"
   },
   {
    "duration": 20,
    "start_time": "2021-12-29T15:39:05.766Z"
   },
   {
    "duration": 39,
    "start_time": "2021-12-29T15:39:05.788Z"
   },
   {
    "duration": 504,
    "start_time": "2021-12-29T15:39:05.829Z"
   },
   {
    "duration": 6,
    "start_time": "2021-12-29T15:39:06.336Z"
   },
   {
    "duration": 8,
    "start_time": "2021-12-29T15:39:06.344Z"
   },
   {
    "duration": 8,
    "start_time": "2021-12-29T15:39:06.355Z"
   },
   {
    "duration": 10,
    "start_time": "2021-12-29T15:39:06.365Z"
   },
   {
    "duration": 13,
    "start_time": "2021-12-29T15:39:06.377Z"
   },
   {
    "duration": 10,
    "start_time": "2021-12-29T15:39:06.428Z"
   },
   {
    "duration": 9,
    "start_time": "2021-12-29T15:39:06.440Z"
   },
   {
    "duration": 9,
    "start_time": "2021-12-29T15:39:06.451Z"
   },
   {
    "duration": 7,
    "start_time": "2021-12-29T15:39:06.463Z"
   },
   {
    "duration": 54,
    "start_time": "2021-12-29T15:39:06.473Z"
   },
   {
    "duration": 1204,
    "start_time": "2021-12-31T15:52:34.904Z"
   },
   {
    "duration": 76,
    "start_time": "2021-12-31T15:52:36.111Z"
   },
   {
    "duration": 13,
    "start_time": "2021-12-31T15:52:36.190Z"
   },
   {
    "duration": 62,
    "start_time": "2021-12-31T15:52:36.206Z"
   },
   {
    "duration": 18,
    "start_time": "2021-12-31T15:52:36.271Z"
   },
   {
    "duration": 24,
    "start_time": "2021-12-31T15:52:36.291Z"
   },
   {
    "duration": 16,
    "start_time": "2021-12-31T15:52:36.318Z"
   },
   {
    "duration": 20,
    "start_time": "2021-12-31T15:52:36.336Z"
   },
   {
    "duration": 31,
    "start_time": "2021-12-31T15:52:36.360Z"
   },
   {
    "duration": 13,
    "start_time": "2021-12-31T15:52:36.394Z"
   },
   {
    "duration": 29,
    "start_time": "2021-12-31T15:52:36.409Z"
   },
   {
    "duration": 18,
    "start_time": "2021-12-31T15:52:36.440Z"
   },
   {
    "duration": 519,
    "start_time": "2021-12-31T15:52:36.460Z"
   },
   {
    "duration": -13354,
    "start_time": "2021-12-31T15:52:50.337Z"
   },
   {
    "duration": -13356,
    "start_time": "2021-12-31T15:52:50.341Z"
   },
   {
    "duration": -13437,
    "start_time": "2021-12-31T15:52:50.423Z"
   },
   {
    "duration": -13439,
    "start_time": "2021-12-31T15:52:50.427Z"
   },
   {
    "duration": -13443,
    "start_time": "2021-12-31T15:52:50.432Z"
   },
   {
    "duration": -13446,
    "start_time": "2021-12-31T15:52:50.436Z"
   },
   {
    "duration": -13448,
    "start_time": "2021-12-31T15:52:50.440Z"
   },
   {
    "duration": -13451,
    "start_time": "2021-12-31T15:52:50.444Z"
   },
   {
    "duration": -13453,
    "start_time": "2021-12-31T15:52:50.447Z"
   },
   {
    "duration": -13462,
    "start_time": "2021-12-31T15:52:50.457Z"
   },
   {
    "duration": -13463,
    "start_time": "2021-12-31T15:52:50.460Z"
   },
   {
    "duration": -13466,
    "start_time": "2021-12-31T15:52:50.464Z"
   },
   {
    "duration": -13492,
    "start_time": "2021-12-31T15:52:50.491Z"
   },
   {
    "duration": -13543,
    "start_time": "2021-12-31T15:52:50.544Z"
   },
   {
    "duration": -13546,
    "start_time": "2021-12-31T15:52:50.548Z"
   },
   {
    "duration": -13554,
    "start_time": "2021-12-31T15:52:50.557Z"
   },
   {
    "duration": -13556,
    "start_time": "2021-12-31T15:52:50.561Z"
   },
   {
    "duration": -13559,
    "start_time": "2021-12-31T15:52:50.565Z"
   },
   {
    "duration": -13562,
    "start_time": "2021-12-31T15:52:50.569Z"
   },
   {
    "duration": -13564,
    "start_time": "2021-12-31T15:52:50.573Z"
   },
   {
    "duration": -13567,
    "start_time": "2021-12-31T15:52:50.577Z"
   },
   {
    "duration": -13570,
    "start_time": "2021-12-31T15:52:50.581Z"
   },
   {
    "duration": -13571,
    "start_time": "2021-12-31T15:52:50.584Z"
   },
   {
    "duration": -13575,
    "start_time": "2021-12-31T15:52:50.589Z"
   },
   {
    "duration": -13577,
    "start_time": "2021-12-31T15:52:50.592Z"
   },
   {
    "duration": -13581,
    "start_time": "2021-12-31T15:52:50.597Z"
   },
   {
    "duration": -13583,
    "start_time": "2021-12-31T15:52:50.600Z"
   },
   {
    "duration": -13623,
    "start_time": "2021-12-31T15:52:50.682Z"
   },
   {
    "duration": -13626,
    "start_time": "2021-12-31T15:52:50.686Z"
   },
   {
    "duration": -13628,
    "start_time": "2021-12-31T15:52:50.690Z"
   },
   {
    "duration": -13631,
    "start_time": "2021-12-31T15:52:50.694Z"
   },
   {
    "duration": -13634,
    "start_time": "2021-12-31T15:52:50.698Z"
   },
   {
    "duration": -13636,
    "start_time": "2021-12-31T15:52:50.702Z"
   },
   {
    "duration": -13639,
    "start_time": "2021-12-31T15:52:50.706Z"
   },
   {
    "duration": -13642,
    "start_time": "2021-12-31T15:52:50.710Z"
   },
   {
    "duration": -13645,
    "start_time": "2021-12-31T15:52:50.715Z"
   },
   {
    "duration": -13647,
    "start_time": "2021-12-31T15:52:50.718Z"
   },
   {
    "duration": -13649,
    "start_time": "2021-12-31T15:52:50.722Z"
   },
   {
    "duration": -13652,
    "start_time": "2021-12-31T15:52:50.726Z"
   },
   {
    "duration": -13661,
    "start_time": "2021-12-31T15:52:50.736Z"
   },
   {
    "duration": 1169,
    "start_time": "2021-12-31T15:53:04.093Z"
   },
   {
    "duration": 75,
    "start_time": "2021-12-31T15:53:05.265Z"
   },
   {
    "duration": 25,
    "start_time": "2021-12-31T15:53:05.344Z"
   },
   {
    "duration": 44,
    "start_time": "2021-12-31T15:53:05.372Z"
   },
   {
    "duration": 43,
    "start_time": "2021-12-31T15:53:05.419Z"
   },
   {
    "duration": 14,
    "start_time": "2021-12-31T15:53:05.465Z"
   },
   {
    "duration": 8,
    "start_time": "2021-12-31T15:53:05.482Z"
   },
   {
    "duration": 5,
    "start_time": "2021-12-31T15:53:05.495Z"
   },
   {
    "duration": 56,
    "start_time": "2021-12-31T15:53:05.504Z"
   },
   {
    "duration": 9,
    "start_time": "2021-12-31T15:53:05.562Z"
   },
   {
    "duration": 10,
    "start_time": "2021-12-31T15:53:05.573Z"
   },
   {
    "duration": 12,
    "start_time": "2021-12-31T15:53:05.585Z"
   },
   {
    "duration": 19,
    "start_time": "2021-12-31T15:53:05.600Z"
   },
   {
    "duration": 49,
    "start_time": "2021-12-31T15:53:05.622Z"
   },
   {
    "duration": 11,
    "start_time": "2021-12-31T15:53:05.674Z"
   },
   {
    "duration": 32,
    "start_time": "2021-12-31T15:53:05.687Z"
   },
   {
    "duration": 589,
    "start_time": "2021-12-31T15:53:05.721Z"
   },
   {
    "duration": 11,
    "start_time": "2021-12-31T15:53:06.313Z"
   },
   {
    "duration": 40,
    "start_time": "2021-12-31T15:53:06.327Z"
   },
   {
    "duration": 17,
    "start_time": "2021-12-31T15:53:06.369Z"
   },
   {
    "duration": 533,
    "start_time": "2021-12-31T15:53:06.388Z"
   },
   {
    "duration": 11,
    "start_time": "2021-12-31T15:53:06.924Z"
   },
   {
    "duration": 22,
    "start_time": "2021-12-31T15:53:06.961Z"
   },
   {
    "duration": 764,
    "start_time": "2021-12-31T15:53:06.987Z"
   },
   {
    "duration": 29,
    "start_time": "2021-12-31T15:53:07.753Z"
   },
   {
    "duration": 508,
    "start_time": "2021-12-31T15:53:07.784Z"
   },
   {
    "duration": 9,
    "start_time": "2021-12-31T15:53:08.295Z"
   },
   {
    "duration": 569,
    "start_time": "2021-12-31T15:53:08.307Z"
   },
   {
    "duration": 9,
    "start_time": "2021-12-31T15:53:08.879Z"
   },
   {
    "duration": 4831,
    "start_time": "2021-12-31T15:53:08.891Z"
   },
   {
    "duration": 734,
    "start_time": "2021-12-31T15:53:13.725Z"
   },
   {
    "duration": 20,
    "start_time": "2021-12-31T15:53:14.461Z"
   },
   {
    "duration": 18,
    "start_time": "2021-12-31T15:53:14.483Z"
   },
   {
    "duration": 518,
    "start_time": "2021-12-31T15:53:14.503Z"
   },
   {
    "duration": 35,
    "start_time": "2021-12-31T15:53:15.024Z"
   },
   {
    "duration": 22,
    "start_time": "2021-12-31T15:53:15.062Z"
   },
   {
    "duration": 531,
    "start_time": "2021-12-31T15:53:15.087Z"
   },
   {
    "duration": 20,
    "start_time": "2021-12-31T15:53:15.621Z"
   },
   {
    "duration": 21,
    "start_time": "2021-12-31T15:53:15.660Z"
   },
   {
    "duration": 603,
    "start_time": "2021-12-31T15:53:15.683Z"
   },
   {
    "duration": 22,
    "start_time": "2021-12-31T15:53:16.288Z"
   },
   {
    "duration": 21,
    "start_time": "2021-12-31T15:53:16.312Z"
   },
   {
    "duration": 516,
    "start_time": "2021-12-31T15:53:16.360Z"
   },
   {
    "duration": 6,
    "start_time": "2021-12-31T15:53:16.879Z"
   },
   {
    "duration": 7,
    "start_time": "2021-12-31T15:53:16.887Z"
   },
   {
    "duration": 6,
    "start_time": "2021-12-31T15:53:16.897Z"
   },
   {
    "duration": 6,
    "start_time": "2021-12-31T15:53:16.906Z"
   },
   {
    "duration": 46,
    "start_time": "2021-12-31T15:53:16.914Z"
   },
   {
    "duration": 7,
    "start_time": "2021-12-31T15:53:16.963Z"
   },
   {
    "duration": 7,
    "start_time": "2021-12-31T15:53:16.972Z"
   },
   {
    "duration": 7,
    "start_time": "2021-12-31T15:53:16.981Z"
   },
   {
    "duration": 7,
    "start_time": "2021-12-31T15:53:16.990Z"
   },
   {
    "duration": 8,
    "start_time": "2021-12-31T15:53:16.999Z"
   },
   {
    "duration": 9,
    "start_time": "2021-12-31T15:54:05.447Z"
   },
   {
    "duration": 1165,
    "start_time": "2021-12-31T15:54:13.807Z"
   },
   {
    "duration": 74,
    "start_time": "2021-12-31T15:54:14.975Z"
   },
   {
    "duration": 18,
    "start_time": "2021-12-31T15:54:15.052Z"
   },
   {
    "duration": 43,
    "start_time": "2021-12-31T15:54:15.073Z"
   },
   {
    "duration": 41,
    "start_time": "2021-12-31T15:54:15.118Z"
   },
   {
    "duration": 11,
    "start_time": "2021-12-31T15:54:15.162Z"
   },
   {
    "duration": 6,
    "start_time": "2021-12-31T15:54:15.175Z"
   },
   {
    "duration": 6,
    "start_time": "2021-12-31T15:54:15.183Z"
   },
   {
    "duration": 7,
    "start_time": "2021-12-31T15:54:15.195Z"
   },
   {
    "duration": 6,
    "start_time": "2021-12-31T15:54:15.206Z"
   },
   {
    "duration": 9,
    "start_time": "2021-12-31T15:54:15.260Z"
   },
   {
    "duration": 15,
    "start_time": "2021-12-31T15:54:15.272Z"
   },
   {
    "duration": 9,
    "start_time": "2021-12-31T15:54:15.290Z"
   },
   {
    "duration": 71,
    "start_time": "2021-12-31T15:54:15.302Z"
   },
   {
    "duration": 9,
    "start_time": "2021-12-31T15:54:15.376Z"
   },
   {
    "duration": 21,
    "start_time": "2021-12-31T15:54:15.387Z"
   },
   {
    "duration": 615,
    "start_time": "2021-12-31T15:54:15.411Z"
   },
   {
    "duration": 11,
    "start_time": "2021-12-31T15:54:16.029Z"
   },
   {
    "duration": 33,
    "start_time": "2021-12-31T15:54:16.042Z"
   },
   {
    "duration": 13,
    "start_time": "2021-12-31T15:54:16.078Z"
   },
   {
    "duration": 542,
    "start_time": "2021-12-31T15:54:16.093Z"
   },
   {
    "duration": 25,
    "start_time": "2021-12-31T15:54:16.638Z"
   },
   {
    "duration": 27,
    "start_time": "2021-12-31T15:54:16.665Z"
   },
   {
    "duration": 742,
    "start_time": "2021-12-31T15:54:16.694Z"
   },
   {
    "duration": 31,
    "start_time": "2021-12-31T15:54:17.438Z"
   },
   {
    "duration": 505,
    "start_time": "2021-12-31T15:54:17.472Z"
   },
   {
    "duration": 7,
    "start_time": "2021-12-31T15:54:17.983Z"
   },
   {
    "duration": 495,
    "start_time": "2021-12-31T15:54:17.993Z"
   },
   {
    "duration": 9,
    "start_time": "2021-12-31T15:54:18.491Z"
   },
   {
    "duration": 4392,
    "start_time": "2021-12-31T15:54:18.503Z"
   },
   {
    "duration": 720,
    "start_time": "2021-12-31T15:54:22.898Z"
   },
   {
    "duration": 20,
    "start_time": "2021-12-31T15:54:23.621Z"
   },
   {
    "duration": 33,
    "start_time": "2021-12-31T15:54:23.643Z"
   },
   {
    "duration": 511,
    "start_time": "2021-12-31T15:54:23.678Z"
   },
   {
    "duration": 20,
    "start_time": "2021-12-31T15:54:24.192Z"
   },
   {
    "duration": 47,
    "start_time": "2021-12-31T15:54:24.214Z"
   },
   {
    "duration": 492,
    "start_time": "2021-12-31T15:54:24.263Z"
   },
   {
    "duration": 20,
    "start_time": "2021-12-31T15:54:24.760Z"
   },
   {
    "duration": 21,
    "start_time": "2021-12-31T15:54:24.782Z"
   },
   {
    "duration": 537,
    "start_time": "2021-12-31T15:54:24.805Z"
   },
   {
    "duration": 33,
    "start_time": "2021-12-31T15:54:25.345Z"
   },
   {
    "duration": 19,
    "start_time": "2021-12-31T15:54:25.380Z"
   },
   {
    "duration": 606,
    "start_time": "2021-12-31T15:54:25.402Z"
   },
   {
    "duration": 6,
    "start_time": "2021-12-31T15:54:26.010Z"
   },
   {
    "duration": 18,
    "start_time": "2021-12-31T15:54:26.019Z"
   },
   {
    "duration": 23,
    "start_time": "2021-12-31T15:54:26.040Z"
   },
   {
    "duration": 8,
    "start_time": "2021-12-31T15:54:26.066Z"
   },
   {
    "duration": 9,
    "start_time": "2021-12-31T15:54:26.077Z"
   },
   {
    "duration": 9,
    "start_time": "2021-12-31T15:54:26.089Z"
   },
   {
    "duration": 9,
    "start_time": "2021-12-31T15:54:26.101Z"
   },
   {
    "duration": 8,
    "start_time": "2021-12-31T15:54:26.160Z"
   },
   {
    "duration": 8,
    "start_time": "2021-12-31T15:54:26.171Z"
   },
   {
    "duration": 7,
    "start_time": "2021-12-31T15:54:26.182Z"
   },
   {
    "duration": 1223,
    "start_time": "2021-12-31T15:55:54.143Z"
   },
   {
    "duration": 73,
    "start_time": "2021-12-31T15:55:55.368Z"
   },
   {
    "duration": 17,
    "start_time": "2021-12-31T15:55:55.444Z"
   },
   {
    "duration": 41,
    "start_time": "2021-12-31T15:55:55.463Z"
   },
   {
    "duration": 17,
    "start_time": "2021-12-31T15:55:55.507Z"
   },
   {
    "duration": 40,
    "start_time": "2021-12-31T15:55:55.526Z"
   },
   {
    "duration": 6,
    "start_time": "2021-12-31T15:55:55.568Z"
   },
   {
    "duration": 7,
    "start_time": "2021-12-31T15:55:55.578Z"
   },
   {
    "duration": 6,
    "start_time": "2021-12-31T15:55:55.588Z"
   },
   {
    "duration": 7,
    "start_time": "2021-12-31T15:55:55.596Z"
   },
   {
    "duration": 9,
    "start_time": "2021-12-31T15:55:55.605Z"
   },
   {
    "duration": 52,
    "start_time": "2021-12-31T15:55:55.617Z"
   },
   {
    "duration": 20,
    "start_time": "2021-12-31T15:55:55.671Z"
   },
   {
    "duration": 19,
    "start_time": "2021-12-31T15:55:55.693Z"
   },
   {
    "duration": 6,
    "start_time": "2021-12-31T15:55:55.714Z"
   },
   {
    "duration": 53,
    "start_time": "2021-12-31T15:55:55.723Z"
   },
   {
    "duration": 666,
    "start_time": "2021-12-31T15:55:55.779Z"
   },
   {
    "duration": 16,
    "start_time": "2021-12-31T15:55:56.448Z"
   },
   {
    "duration": 18,
    "start_time": "2021-12-31T15:55:56.467Z"
   },
   {
    "duration": 13,
    "start_time": "2021-12-31T15:55:56.487Z"
   },
   {
    "duration": 549,
    "start_time": "2021-12-31T15:55:56.502Z"
   },
   {
    "duration": 11,
    "start_time": "2021-12-31T15:55:57.059Z"
   },
   {
    "duration": 22,
    "start_time": "2021-12-31T15:55:57.075Z"
   },
   {
    "duration": 680,
    "start_time": "2021-12-31T15:55:57.100Z"
   },
   {
    "duration": 23,
    "start_time": "2021-12-31T15:55:57.783Z"
   },
   {
    "duration": 562,
    "start_time": "2021-12-31T15:55:57.808Z"
   },
   {
    "duration": 7,
    "start_time": "2021-12-31T15:55:58.372Z"
   },
   {
    "duration": 498,
    "start_time": "2021-12-31T15:55:58.381Z"
   },
   {
    "duration": 6,
    "start_time": "2021-12-31T15:55:58.881Z"
   },
   {
    "duration": 4132,
    "start_time": "2021-12-31T15:55:58.890Z"
   },
   {
    "duration": 739,
    "start_time": "2021-12-31T15:56:03.026Z"
   },
   {
    "duration": 21,
    "start_time": "2021-12-31T15:56:03.769Z"
   },
   {
    "duration": 23,
    "start_time": "2021-12-31T15:56:03.793Z"
   },
   {
    "duration": 521,
    "start_time": "2021-12-31T15:56:03.818Z"
   },
   {
    "duration": 28,
    "start_time": "2021-12-31T15:56:04.342Z"
   },
   {
    "duration": 20,
    "start_time": "2021-12-31T15:56:04.372Z"
   },
   {
    "duration": 538,
    "start_time": "2021-12-31T15:56:04.395Z"
   },
   {
    "duration": 56,
    "start_time": "2021-12-31T15:56:04.935Z"
   },
   {
    "duration": 35,
    "start_time": "2021-12-31T15:56:04.994Z"
   },
   {
    "duration": 849,
    "start_time": "2021-12-31T15:56:05.033Z"
   },
   {
    "duration": 20,
    "start_time": "2021-12-31T15:56:05.885Z"
   },
   {
    "duration": 19,
    "start_time": "2021-12-31T15:56:05.907Z"
   },
   {
    "duration": 614,
    "start_time": "2021-12-31T15:56:05.928Z"
   },
   {
    "duration": 15,
    "start_time": "2021-12-31T15:56:06.544Z"
   },
   {
    "duration": 6,
    "start_time": "2021-12-31T15:56:06.561Z"
   },
   {
    "duration": 9,
    "start_time": "2021-12-31T15:56:06.569Z"
   },
   {
    "duration": 8,
    "start_time": "2021-12-31T15:56:06.580Z"
   },
   {
    "duration": 7,
    "start_time": "2021-12-31T15:56:06.590Z"
   },
   {
    "duration": 9,
    "start_time": "2021-12-31T15:56:06.599Z"
   },
   {
    "duration": 51,
    "start_time": "2021-12-31T15:56:06.611Z"
   },
   {
    "duration": 5,
    "start_time": "2021-12-31T15:56:06.665Z"
   },
   {
    "duration": 6,
    "start_time": "2021-12-31T15:56:06.672Z"
   },
   {
    "duration": 8,
    "start_time": "2021-12-31T15:56:06.680Z"
   },
   {
    "duration": 1303,
    "start_time": "2021-12-31T15:57:55.969Z"
   },
   {
    "duration": 76,
    "start_time": "2021-12-31T15:57:57.274Z"
   },
   {
    "duration": 16,
    "start_time": "2021-12-31T15:57:57.360Z"
   },
   {
    "duration": 43,
    "start_time": "2021-12-31T15:57:57.379Z"
   },
   {
    "duration": 50,
    "start_time": "2021-12-31T15:57:57.425Z"
   },
   {
    "duration": 11,
    "start_time": "2021-12-31T15:57:57.477Z"
   },
   {
    "duration": 6,
    "start_time": "2021-12-31T15:57:57.490Z"
   },
   {
    "duration": 6,
    "start_time": "2021-12-31T15:57:57.498Z"
   },
   {
    "duration": 6,
    "start_time": "2021-12-31T15:57:57.508Z"
   },
   {
    "duration": 46,
    "start_time": "2021-12-31T15:57:57.517Z"
   },
   {
    "duration": 9,
    "start_time": "2021-12-31T15:57:57.566Z"
   },
   {
    "duration": 13,
    "start_time": "2021-12-31T15:57:57.577Z"
   },
   {
    "duration": 19,
    "start_time": "2021-12-31T15:57:57.592Z"
   },
   {
    "duration": 57,
    "start_time": "2021-12-31T15:57:57.613Z"
   },
   {
    "duration": 20,
    "start_time": "2021-12-31T15:57:57.672Z"
   },
   {
    "duration": 7,
    "start_time": "2021-12-31T15:57:57.694Z"
   },
   {
    "duration": 19,
    "start_time": "2021-12-31T15:57:57.703Z"
   },
   {
    "duration": 599,
    "start_time": "2021-12-31T15:57:57.724Z"
   },
   {
    "duration": 13,
    "start_time": "2021-12-31T15:57:58.326Z"
   },
   {
    "duration": 34,
    "start_time": "2021-12-31T15:57:58.342Z"
   },
   {
    "duration": 13,
    "start_time": "2021-12-31T15:57:58.379Z"
   },
   {
    "duration": 538,
    "start_time": "2021-12-31T15:57:58.394Z"
   },
   {
    "duration": 24,
    "start_time": "2021-12-31T15:57:58.935Z"
   },
   {
    "duration": 22,
    "start_time": "2021-12-31T15:57:58.961Z"
   },
   {
    "duration": 654,
    "start_time": "2021-12-31T15:57:58.985Z"
   },
   {
    "duration": 35,
    "start_time": "2021-12-31T15:57:59.642Z"
   },
   {
    "duration": 516,
    "start_time": "2021-12-31T15:57:59.683Z"
   },
   {
    "duration": 7,
    "start_time": "2021-12-31T15:58:00.202Z"
   },
   {
    "duration": 569,
    "start_time": "2021-12-31T15:58:00.211Z"
   },
   {
    "duration": 6,
    "start_time": "2021-12-31T15:58:00.783Z"
   },
   {
    "duration": 1241,
    "start_time": "2021-12-31T15:59:54.423Z"
   },
   {
    "duration": 74,
    "start_time": "2021-12-31T15:59:55.667Z"
   },
   {
    "duration": 21,
    "start_time": "2021-12-31T15:59:55.744Z"
   },
   {
    "duration": 42,
    "start_time": "2021-12-31T15:59:55.767Z"
   },
   {
    "duration": 18,
    "start_time": "2021-12-31T15:59:55.811Z"
   },
   {
    "duration": 31,
    "start_time": "2021-12-31T15:59:55.831Z"
   },
   {
    "duration": 6,
    "start_time": "2021-12-31T15:59:55.865Z"
   },
   {
    "duration": 6,
    "start_time": "2021-12-31T15:59:55.873Z"
   },
   {
    "duration": 5,
    "start_time": "2021-12-31T15:59:55.883Z"
   },
   {
    "duration": 6,
    "start_time": "2021-12-31T15:59:55.892Z"
   },
   {
    "duration": 9,
    "start_time": "2021-12-31T15:59:55.900Z"
   },
   {
    "duration": 59,
    "start_time": "2021-12-31T15:59:55.911Z"
   },
   {
    "duration": 21,
    "start_time": "2021-12-31T15:59:55.972Z"
   },
   {
    "duration": 19,
    "start_time": "2021-12-31T15:59:55.996Z"
   },
   {
    "duration": 57,
    "start_time": "2021-12-31T15:59:56.018Z"
   },
   {
    "duration": 6,
    "start_time": "2021-12-31T15:59:56.077Z"
   },
   {
    "duration": 22,
    "start_time": "2021-12-31T15:59:56.086Z"
   },
   {
    "duration": 593,
    "start_time": "2021-12-31T15:59:56.110Z"
   },
   {
    "duration": 11,
    "start_time": "2021-12-31T15:59:56.705Z"
   },
   {
    "duration": 18,
    "start_time": "2021-12-31T15:59:56.718Z"
   },
   {
    "duration": 32,
    "start_time": "2021-12-31T15:59:56.739Z"
   },
   {
    "duration": 547,
    "start_time": "2021-12-31T15:59:56.773Z"
   },
   {
    "duration": 11,
    "start_time": "2021-12-31T15:59:57.322Z"
   },
   {
    "duration": 37,
    "start_time": "2021-12-31T15:59:57.336Z"
   },
   {
    "duration": 641,
    "start_time": "2021-12-31T15:59:57.375Z"
   },
   {
    "duration": 41,
    "start_time": "2021-12-31T15:59:58.020Z"
   },
   {
    "duration": 524,
    "start_time": "2021-12-31T15:59:58.069Z"
   },
   {
    "duration": 7,
    "start_time": "2021-12-31T15:59:58.596Z"
   },
   {
    "duration": 539,
    "start_time": "2021-12-31T15:59:58.605Z"
   },
   {
    "duration": 15,
    "start_time": "2021-12-31T15:59:59.147Z"
   },
   {
    "duration": 4251,
    "start_time": "2021-12-31T15:59:59.164Z"
   },
   {
    "duration": 825,
    "start_time": "2021-12-31T16:00:03.417Z"
   },
   {
    "duration": 29,
    "start_time": "2021-12-31T16:00:04.244Z"
   },
   {
    "duration": 21,
    "start_time": "2021-12-31T16:00:04.276Z"
   },
   {
    "duration": 501,
    "start_time": "2021-12-31T16:00:04.300Z"
   },
   {
    "duration": 21,
    "start_time": "2021-12-31T16:00:04.803Z"
   },
   {
    "duration": 43,
    "start_time": "2021-12-31T16:00:04.826Z"
   },
   {
    "duration": 491,
    "start_time": "2021-12-31T16:00:04.871Z"
   },
   {
    "duration": 21,
    "start_time": "2021-12-31T16:00:05.364Z"
   },
   {
    "duration": 20,
    "start_time": "2021-12-31T16:00:05.387Z"
   },
   {
    "duration": 512,
    "start_time": "2021-12-31T16:00:05.409Z"
   },
   {
    "duration": 35,
    "start_time": "2021-12-31T16:00:05.924Z"
   },
   {
    "duration": 21,
    "start_time": "2021-12-31T16:00:05.961Z"
   },
   {
    "duration": 710,
    "start_time": "2021-12-31T16:00:05.984Z"
   },
   {
    "duration": 10,
    "start_time": "2021-12-31T16:00:06.697Z"
   },
   {
    "duration": 71,
    "start_time": "2021-12-31T16:00:06.710Z"
   },
   {
    "duration": 9,
    "start_time": "2021-12-31T16:00:06.784Z"
   },
   {
    "duration": 7,
    "start_time": "2021-12-31T16:00:06.795Z"
   },
   {
    "duration": 8,
    "start_time": "2021-12-31T16:00:06.804Z"
   },
   {
    "duration": 11,
    "start_time": "2021-12-31T16:00:06.814Z"
   },
   {
    "duration": 9,
    "start_time": "2021-12-31T16:00:06.828Z"
   },
   {
    "duration": 6,
    "start_time": "2021-12-31T16:00:06.860Z"
   },
   {
    "duration": 8,
    "start_time": "2021-12-31T16:00:06.869Z"
   },
   {
    "duration": 9,
    "start_time": "2021-12-31T16:00:06.879Z"
   },
   {
    "duration": 1221,
    "start_time": "2021-12-31T16:02:41.153Z"
   },
   {
    "duration": 77,
    "start_time": "2021-12-31T16:02:42.377Z"
   },
   {
    "duration": 14,
    "start_time": "2021-12-31T16:02:42.457Z"
   },
   {
    "duration": 43,
    "start_time": "2021-12-31T16:02:42.474Z"
   },
   {
    "duration": 44,
    "start_time": "2021-12-31T16:02:42.519Z"
   },
   {
    "duration": 12,
    "start_time": "2021-12-31T16:02:42.565Z"
   },
   {
    "duration": 6,
    "start_time": "2021-12-31T16:02:42.579Z"
   },
   {
    "duration": 5,
    "start_time": "2021-12-31T16:02:42.588Z"
   },
   {
    "duration": 6,
    "start_time": "2021-12-31T16:02:42.597Z"
   },
   {
    "duration": 7,
    "start_time": "2021-12-31T16:02:42.606Z"
   },
   {
    "duration": 51,
    "start_time": "2021-12-31T16:02:42.615Z"
   },
   {
    "duration": 13,
    "start_time": "2021-12-31T16:02:42.668Z"
   },
   {
    "duration": 20,
    "start_time": "2021-12-31T16:02:42.683Z"
   },
   {
    "duration": 55,
    "start_time": "2021-12-31T16:02:42.705Z"
   },
   {
    "duration": 24,
    "start_time": "2021-12-31T16:02:42.763Z"
   },
   {
    "duration": 8,
    "start_time": "2021-12-31T16:02:42.789Z"
   },
   {
    "duration": 19,
    "start_time": "2021-12-31T16:02:42.799Z"
   },
   {
    "duration": 597,
    "start_time": "2021-12-31T16:02:42.821Z"
   },
   {
    "duration": 10,
    "start_time": "2021-12-31T16:02:43.421Z"
   },
   {
    "duration": 31,
    "start_time": "2021-12-31T16:02:43.433Z"
   },
   {
    "duration": 14,
    "start_time": "2021-12-31T16:02:43.466Z"
   },
   {
    "duration": 547,
    "start_time": "2021-12-31T16:02:43.482Z"
   },
   {
    "duration": 27,
    "start_time": "2021-12-31T16:02:44.032Z"
   },
   {
    "duration": 22,
    "start_time": "2021-12-31T16:02:44.062Z"
   },
   {
    "duration": 663,
    "start_time": "2021-12-31T16:02:44.087Z"
   },
   {
    "duration": 23,
    "start_time": "2021-12-31T16:02:44.759Z"
   },
   {
    "duration": 500,
    "start_time": "2021-12-31T16:02:44.788Z"
   },
   {
    "duration": 6,
    "start_time": "2021-12-31T16:02:45.291Z"
   },
   {
    "duration": 511,
    "start_time": "2021-12-31T16:02:45.299Z"
   },
   {
    "duration": 7,
    "start_time": "2021-12-31T16:02:45.812Z"
   },
   {
    "duration": 4807,
    "start_time": "2021-12-31T16:02:45.821Z"
   },
   {
    "duration": 729,
    "start_time": "2021-12-31T16:02:50.630Z"
   },
   {
    "duration": 19,
    "start_time": "2021-12-31T16:02:51.362Z"
   },
   {
    "duration": 21,
    "start_time": "2021-12-31T16:02:51.383Z"
   },
   {
    "duration": 501,
    "start_time": "2021-12-31T16:02:51.407Z"
   },
   {
    "duration": 20,
    "start_time": "2021-12-31T16:02:51.910Z"
   },
   {
    "duration": 35,
    "start_time": "2021-12-31T16:02:51.932Z"
   },
   {
    "duration": 522,
    "start_time": "2021-12-31T16:02:51.970Z"
   },
   {
    "duration": 20,
    "start_time": "2021-12-31T16:02:52.494Z"
   },
   {
    "duration": 43,
    "start_time": "2021-12-31T16:02:52.516Z"
   },
   {
    "duration": 500,
    "start_time": "2021-12-31T16:02:52.562Z"
   },
   {
    "duration": 20,
    "start_time": "2021-12-31T16:02:53.065Z"
   },
   {
    "duration": 20,
    "start_time": "2021-12-31T16:02:53.087Z"
   },
   {
    "duration": 528,
    "start_time": "2021-12-31T16:02:53.110Z"
   },
   {
    "duration": 6,
    "start_time": "2021-12-31T16:02:53.641Z"
   },
   {
    "duration": 6,
    "start_time": "2021-12-31T16:02:53.659Z"
   },
   {
    "duration": 8,
    "start_time": "2021-12-31T16:02:53.667Z"
   },
   {
    "duration": 7,
    "start_time": "2021-12-31T16:02:53.678Z"
   },
   {
    "duration": 7,
    "start_time": "2021-12-31T16:02:53.688Z"
   },
   {
    "duration": 61,
    "start_time": "2021-12-31T16:02:53.698Z"
   },
   {
    "duration": 10,
    "start_time": "2021-12-31T16:02:53.762Z"
   },
   {
    "duration": 10,
    "start_time": "2021-12-31T16:02:53.774Z"
   },
   {
    "duration": 8,
    "start_time": "2021-12-31T16:02:53.787Z"
   },
   {
    "duration": 10,
    "start_time": "2021-12-31T16:02:53.797Z"
   },
   {
    "duration": 1207,
    "start_time": "2021-12-31T16:09:54.258Z"
   },
   {
    "duration": 73,
    "start_time": "2021-12-31T16:09:55.468Z"
   },
   {
    "duration": 18,
    "start_time": "2021-12-31T16:09:55.544Z"
   },
   {
    "duration": 41,
    "start_time": "2021-12-31T16:09:55.565Z"
   },
   {
    "duration": 17,
    "start_time": "2021-12-31T16:09:55.609Z"
   },
   {
    "duration": 39,
    "start_time": "2021-12-31T16:09:55.628Z"
   },
   {
    "duration": 6,
    "start_time": "2021-12-31T16:09:55.669Z"
   },
   {
    "duration": 6,
    "start_time": "2021-12-31T16:09:55.677Z"
   },
   {
    "duration": 5,
    "start_time": "2021-12-31T16:09:55.687Z"
   },
   {
    "duration": 7,
    "start_time": "2021-12-31T16:09:55.695Z"
   },
   {
    "duration": 9,
    "start_time": "2021-12-31T16:09:55.704Z"
   },
   {
    "duration": 54,
    "start_time": "2021-12-31T16:09:55.715Z"
   },
   {
    "duration": 21,
    "start_time": "2021-12-31T16:09:55.772Z"
   },
   {
    "duration": 20,
    "start_time": "2021-12-31T16:09:55.795Z"
   },
   {
    "duration": 52,
    "start_time": "2021-12-31T16:09:55.818Z"
   },
   {
    "duration": 8,
    "start_time": "2021-12-31T16:09:55.872Z"
   },
   {
    "duration": 19,
    "start_time": "2021-12-31T16:09:55.883Z"
   },
   {
    "duration": 733,
    "start_time": "2021-12-31T16:09:55.904Z"
   },
   {
    "duration": 9,
    "start_time": "2021-12-31T16:09:56.640Z"
   },
   {
    "duration": 19,
    "start_time": "2021-12-31T16:09:56.660Z"
   },
   {
    "duration": 13,
    "start_time": "2021-12-31T16:09:56.681Z"
   },
   {
    "duration": 564,
    "start_time": "2021-12-31T16:09:56.696Z"
   },
   {
    "duration": 13,
    "start_time": "2021-12-31T16:09:57.263Z"
   },
   {
    "duration": 22,
    "start_time": "2021-12-31T16:09:57.278Z"
   },
   {
    "duration": 710,
    "start_time": "2021-12-31T16:09:57.302Z"
   },
   {
    "duration": 23,
    "start_time": "2021-12-31T16:09:58.014Z"
   },
   {
    "duration": 527,
    "start_time": "2021-12-31T16:09:58.060Z"
   },
   {
    "duration": 6,
    "start_time": "2021-12-31T16:09:58.590Z"
   },
   {
    "duration": 524,
    "start_time": "2021-12-31T16:09:58.599Z"
   },
   {
    "duration": 6,
    "start_time": "2021-12-31T16:09:59.125Z"
   },
   {
    "duration": 4588,
    "start_time": "2021-12-31T16:09:59.134Z"
   },
   {
    "duration": 746,
    "start_time": "2021-12-31T16:10:03.725Z"
   },
   {
    "duration": 20,
    "start_time": "2021-12-31T16:10:04.474Z"
   },
   {
    "duration": 18,
    "start_time": "2021-12-31T16:10:04.496Z"
   },
   {
    "duration": 542,
    "start_time": "2021-12-31T16:10:04.517Z"
   },
   {
    "duration": 21,
    "start_time": "2021-12-31T16:10:05.062Z"
   },
   {
    "duration": 20,
    "start_time": "2021-12-31T16:10:05.085Z"
   },
   {
    "duration": 552,
    "start_time": "2021-12-31T16:10:05.107Z"
   },
   {
    "duration": 20,
    "start_time": "2021-12-31T16:10:05.661Z"
   },
   {
    "duration": 29,
    "start_time": "2021-12-31T16:10:05.683Z"
   },
   {
    "duration": 542,
    "start_time": "2021-12-31T16:10:05.714Z"
   },
   {
    "duration": 21,
    "start_time": "2021-12-31T16:10:06.260Z"
   },
   {
    "duration": 19,
    "start_time": "2021-12-31T16:10:06.283Z"
   },
   {
    "duration": 545,
    "start_time": "2021-12-31T16:10:06.304Z"
   },
   {
    "duration": 5,
    "start_time": "2021-12-31T16:10:06.860Z"
   },
   {
    "duration": 8,
    "start_time": "2021-12-31T16:10:06.868Z"
   },
   {
    "duration": 7,
    "start_time": "2021-12-31T16:10:06.878Z"
   },
   {
    "duration": 6,
    "start_time": "2021-12-31T16:10:06.887Z"
   },
   {
    "duration": 6,
    "start_time": "2021-12-31T16:10:06.896Z"
   },
   {
    "duration": 7,
    "start_time": "2021-12-31T16:10:06.905Z"
   },
   {
    "duration": 50,
    "start_time": "2021-12-31T16:10:06.914Z"
   },
   {
    "duration": 6,
    "start_time": "2021-12-31T16:10:06.966Z"
   },
   {
    "duration": 7,
    "start_time": "2021-12-31T16:10:06.974Z"
   },
   {
    "duration": 12,
    "start_time": "2021-12-31T16:10:06.983Z"
   },
   {
    "duration": 1262,
    "start_time": "2021-12-31T16:17:30.343Z"
   },
   {
    "duration": 72,
    "start_time": "2021-12-31T16:17:31.608Z"
   },
   {
    "duration": 14,
    "start_time": "2021-12-31T16:17:31.683Z"
   },
   {
    "duration": 59,
    "start_time": "2021-12-31T16:17:31.700Z"
   },
   {
    "duration": 19,
    "start_time": "2021-12-31T16:17:31.762Z"
   },
   {
    "duration": 11,
    "start_time": "2021-12-31T16:17:31.783Z"
   },
   {
    "duration": 6,
    "start_time": "2021-12-31T16:17:31.797Z"
   },
   {
    "duration": 7,
    "start_time": "2021-12-31T16:17:31.805Z"
   },
   {
    "duration": 45,
    "start_time": "2021-12-31T16:17:31.815Z"
   },
   {
    "duration": 7,
    "start_time": "2021-12-31T16:17:31.863Z"
   },
   {
    "duration": 8,
    "start_time": "2021-12-31T16:17:31.872Z"
   },
   {
    "duration": 14,
    "start_time": "2021-12-31T16:17:31.882Z"
   },
   {
    "duration": 19,
    "start_time": "2021-12-31T16:17:31.898Z"
   },
   {
    "duration": 55,
    "start_time": "2021-12-31T16:17:31.919Z"
   },
   {
    "duration": 19,
    "start_time": "2021-12-31T16:17:31.977Z"
   },
   {
    "duration": 9,
    "start_time": "2021-12-31T16:17:31.998Z"
   },
   {
    "duration": 17,
    "start_time": "2021-12-31T16:17:32.009Z"
   },
   {
    "duration": 591,
    "start_time": "2021-12-31T16:17:32.060Z"
   },
   {
    "duration": 10,
    "start_time": "2021-12-31T16:17:32.653Z"
   },
   {
    "duration": 19,
    "start_time": "2021-12-31T16:17:32.666Z"
   },
   {
    "duration": 14,
    "start_time": "2021-12-31T16:17:32.687Z"
   },
   {
    "duration": 557,
    "start_time": "2021-12-31T16:17:32.703Z"
   },
   {
    "duration": 10,
    "start_time": "2021-12-31T16:17:33.262Z"
   },
   {
    "duration": 22,
    "start_time": "2021-12-31T16:17:33.275Z"
   },
   {
    "duration": 667,
    "start_time": "2021-12-31T16:17:33.300Z"
   },
   {
    "duration": 25,
    "start_time": "2021-12-31T16:17:33.971Z"
   },
   {
    "duration": 556,
    "start_time": "2021-12-31T16:17:34.004Z"
   },
   {
    "duration": 7,
    "start_time": "2021-12-31T16:17:34.565Z"
   },
   {
    "duration": 505,
    "start_time": "2021-12-31T16:17:34.575Z"
   },
   {
    "duration": 7,
    "start_time": "2021-12-31T16:17:35.082Z"
   },
   {
    "duration": 4352,
    "start_time": "2021-12-31T16:17:35.091Z"
   },
   {
    "duration": 14,
    "start_time": "2021-12-31T16:17:39.445Z"
   },
   {
    "duration": 962,
    "start_time": "2021-12-31T16:17:39.461Z"
   },
   {
    "duration": 35,
    "start_time": "2021-12-31T16:17:40.425Z"
   },
   {
    "duration": 19,
    "start_time": "2021-12-31T16:17:40.463Z"
   },
   {
    "duration": 529,
    "start_time": "2021-12-31T16:17:40.484Z"
   },
   {
    "duration": 20,
    "start_time": "2021-12-31T16:17:41.015Z"
   },
   {
    "duration": 39,
    "start_time": "2021-12-31T16:17:41.037Z"
   },
   {
    "duration": 527,
    "start_time": "2021-12-31T16:17:41.079Z"
   },
   {
    "duration": 21,
    "start_time": "2021-12-31T16:17:41.609Z"
   },
   {
    "duration": 34,
    "start_time": "2021-12-31T16:17:41.632Z"
   },
   {
    "duration": 517,
    "start_time": "2021-12-31T16:17:41.668Z"
   },
   {
    "duration": 20,
    "start_time": "2021-12-31T16:17:42.187Z"
   },
   {
    "duration": 18,
    "start_time": "2021-12-31T16:17:42.210Z"
   },
   {
    "duration": 540,
    "start_time": "2021-12-31T16:17:42.230Z"
   },
   {
    "duration": 6,
    "start_time": "2021-12-31T16:17:42.773Z"
   },
   {
    "duration": 8,
    "start_time": "2021-12-31T16:17:42.781Z"
   },
   {
    "duration": 9,
    "start_time": "2021-12-31T16:17:42.791Z"
   },
   {
    "duration": 6,
    "start_time": "2021-12-31T16:17:42.802Z"
   },
   {
    "duration": 7,
    "start_time": "2021-12-31T16:17:42.810Z"
   },
   {
    "duration": 44,
    "start_time": "2021-12-31T16:17:42.819Z"
   },
   {
    "duration": 6,
    "start_time": "2021-12-31T16:17:42.866Z"
   },
   {
    "duration": 7,
    "start_time": "2021-12-31T16:17:42.874Z"
   },
   {
    "duration": 7,
    "start_time": "2021-12-31T16:17:42.883Z"
   },
   {
    "duration": 7,
    "start_time": "2021-12-31T16:17:42.893Z"
   },
   {
    "duration": 1220,
    "start_time": "2021-12-31T16:34:54.341Z"
   },
   {
    "duration": 74,
    "start_time": "2021-12-31T16:34:55.563Z"
   },
   {
    "duration": 13,
    "start_time": "2021-12-31T16:34:55.640Z"
   },
   {
    "duration": 47,
    "start_time": "2021-12-31T16:34:55.660Z"
   },
   {
    "duration": 18,
    "start_time": "2021-12-31T16:34:55.709Z"
   },
   {
    "duration": 33,
    "start_time": "2021-12-31T16:34:55.729Z"
   },
   {
    "duration": 6,
    "start_time": "2021-12-31T16:34:55.764Z"
   },
   {
    "duration": 5,
    "start_time": "2021-12-31T16:34:55.774Z"
   },
   {
    "duration": 7,
    "start_time": "2021-12-31T16:34:55.782Z"
   },
   {
    "duration": 6,
    "start_time": "2021-12-31T16:34:55.792Z"
   },
   {
    "duration": 9,
    "start_time": "2021-12-31T16:34:55.800Z"
   },
   {
    "duration": 52,
    "start_time": "2021-12-31T16:34:55.812Z"
   },
   {
    "duration": 19,
    "start_time": "2021-12-31T16:34:55.867Z"
   },
   {
    "duration": 20,
    "start_time": "2021-12-31T16:34:55.889Z"
   },
   {
    "duration": 53,
    "start_time": "2021-12-31T16:34:55.911Z"
   },
   {
    "duration": 7,
    "start_time": "2021-12-31T16:34:55.966Z"
   },
   {
    "duration": 19,
    "start_time": "2021-12-31T16:34:55.976Z"
   },
   {
    "duration": 616,
    "start_time": "2021-12-31T16:34:55.997Z"
   },
   {
    "duration": 9,
    "start_time": "2021-12-31T16:34:56.616Z"
   },
   {
    "duration": 37,
    "start_time": "2021-12-31T16:34:56.627Z"
   },
   {
    "duration": 14,
    "start_time": "2021-12-31T16:34:56.666Z"
   },
   {
    "duration": 531,
    "start_time": "2021-12-31T16:34:56.682Z"
   },
   {
    "duration": 10,
    "start_time": "2021-12-31T16:34:57.218Z"
   },
   {
    "duration": 42,
    "start_time": "2021-12-31T16:34:57.232Z"
   },
   {
    "duration": 640,
    "start_time": "2021-12-31T16:34:57.276Z"
   },
   {
    "duration": 23,
    "start_time": "2021-12-31T16:34:57.919Z"
   },
   {
    "duration": 528,
    "start_time": "2021-12-31T16:34:57.960Z"
   },
   {
    "duration": 7,
    "start_time": "2021-12-31T16:34:58.491Z"
   },
   {
    "duration": 542,
    "start_time": "2021-12-31T16:34:58.500Z"
   },
   {
    "duration": 16,
    "start_time": "2021-12-31T16:34:59.044Z"
   },
   {
    "duration": 4102,
    "start_time": "2021-12-31T16:34:59.062Z"
   },
   {
    "duration": 8,
    "start_time": "2021-12-31T16:35:03.167Z"
   },
   {
    "duration": 16906,
    "start_time": "2021-12-31T16:35:03.177Z"
   },
   {
    "duration": -10301,
    "start_time": "2021-12-31T16:35:30.386Z"
   },
   {
    "duration": -10303,
    "start_time": "2021-12-31T16:35:30.390Z"
   },
   {
    "duration": -10313,
    "start_time": "2021-12-31T16:35:30.401Z"
   },
   {
    "duration": -10324,
    "start_time": "2021-12-31T16:35:30.414Z"
   },
   {
    "duration": -10327,
    "start_time": "2021-12-31T16:35:30.418Z"
   },
   {
    "duration": -10332,
    "start_time": "2021-12-31T16:35:30.424Z"
   },
   {
    "duration": -10343,
    "start_time": "2021-12-31T16:35:30.436Z"
   },
   {
    "duration": -10346,
    "start_time": "2021-12-31T16:35:30.441Z"
   },
   {
    "duration": -10358,
    "start_time": "2021-12-31T16:35:30.454Z"
   },
   {
    "duration": -10361,
    "start_time": "2021-12-31T16:35:30.458Z"
   },
   {
    "duration": -10370,
    "start_time": "2021-12-31T16:35:30.469Z"
   },
   {
    "duration": -10374,
    "start_time": "2021-12-31T16:35:30.475Z"
   },
   {
    "duration": -10606,
    "start_time": "2021-12-31T16:35:30.708Z"
   },
   {
    "duration": -10613,
    "start_time": "2021-12-31T16:35:30.717Z"
   },
   {
    "duration": -10615,
    "start_time": "2021-12-31T16:35:30.721Z"
   },
   {
    "duration": -10623,
    "start_time": "2021-12-31T16:35:30.731Z"
   },
   {
    "duration": -10626,
    "start_time": "2021-12-31T16:35:30.735Z"
   },
   {
    "duration": -10629,
    "start_time": "2021-12-31T16:35:30.740Z"
   },
   {
    "duration": -10636,
    "start_time": "2021-12-31T16:35:30.748Z"
   },
   {
    "duration": -10638,
    "start_time": "2021-12-31T16:35:30.752Z"
   },
   {
    "duration": -10642,
    "start_time": "2021-12-31T16:35:30.757Z"
   },
   {
    "duration": -10648,
    "start_time": "2021-12-31T16:35:30.765Z"
   },
   {
    "duration": -10651,
    "start_time": "2021-12-31T16:35:30.769Z"
   },
   {
    "duration": 1229,
    "start_time": "2021-12-31T16:35:42.938Z"
   },
   {
    "duration": 75,
    "start_time": "2021-12-31T16:35:44.169Z"
   },
   {
    "duration": 17,
    "start_time": "2021-12-31T16:35:44.247Z"
   },
   {
    "duration": 43,
    "start_time": "2021-12-31T16:35:44.267Z"
   },
   {
    "duration": 19,
    "start_time": "2021-12-31T16:35:44.312Z"
   },
   {
    "duration": 11,
    "start_time": "2021-12-31T16:35:44.360Z"
   },
   {
    "duration": 5,
    "start_time": "2021-12-31T16:35:44.374Z"
   },
   {
    "duration": 5,
    "start_time": "2021-12-31T16:35:44.382Z"
   },
   {
    "duration": 7,
    "start_time": "2021-12-31T16:35:44.391Z"
   },
   {
    "duration": 6,
    "start_time": "2021-12-31T16:35:44.401Z"
   },
   {
    "duration": 53,
    "start_time": "2021-12-31T16:35:44.409Z"
   },
   {
    "duration": 13,
    "start_time": "2021-12-31T16:35:44.464Z"
   },
   {
    "duration": 21,
    "start_time": "2021-12-31T16:35:44.480Z"
   },
   {
    "duration": 18,
    "start_time": "2021-12-31T16:35:44.504Z"
   },
   {
    "duration": 54,
    "start_time": "2021-12-31T16:35:44.524Z"
   },
   {
    "duration": 8,
    "start_time": "2021-12-31T16:35:44.581Z"
   },
   {
    "duration": 22,
    "start_time": "2021-12-31T16:35:44.591Z"
   },
   {
    "duration": 653,
    "start_time": "2021-12-31T16:35:44.616Z"
   },
   {
    "duration": 10,
    "start_time": "2021-12-31T16:35:45.271Z"
   },
   {
    "duration": 19,
    "start_time": "2021-12-31T16:35:45.284Z"
   },
   {
    "duration": 12,
    "start_time": "2021-12-31T16:35:45.305Z"
   },
   {
    "duration": 601,
    "start_time": "2021-12-31T16:35:45.320Z"
   },
   {
    "duration": 13,
    "start_time": "2021-12-31T16:35:45.924Z"
   },
   {
    "duration": 22,
    "start_time": "2021-12-31T16:35:45.959Z"
   },
   {
    "duration": 819,
    "start_time": "2021-12-31T16:35:45.984Z"
   },
   {
    "duration": 31,
    "start_time": "2021-12-31T16:35:46.805Z"
   },
   {
    "duration": 540,
    "start_time": "2021-12-31T16:35:46.860Z"
   },
   {
    "duration": 7,
    "start_time": "2021-12-31T16:35:47.403Z"
   },
   {
    "duration": 573,
    "start_time": "2021-12-31T16:35:47.412Z"
   },
   {
    "duration": 6,
    "start_time": "2021-12-31T16:35:47.987Z"
   },
   {
    "duration": 4753,
    "start_time": "2021-12-31T16:35:47.995Z"
   },
   {
    "duration": 9,
    "start_time": "2021-12-31T16:35:52.750Z"
   },
   {
    "duration": 549,
    "start_time": "2021-12-31T16:35:52.761Z"
   },
   {
    "duration": -11800,
    "start_time": "2021-12-31T16:36:05.112Z"
   },
   {
    "duration": -11803,
    "start_time": "2021-12-31T16:36:05.117Z"
   },
   {
    "duration": -11808,
    "start_time": "2021-12-31T16:36:05.123Z"
   },
   {
    "duration": -11813,
    "start_time": "2021-12-31T16:36:05.130Z"
   },
   {
    "duration": -11818,
    "start_time": "2021-12-31T16:36:05.136Z"
   },
   {
    "duration": -11821,
    "start_time": "2021-12-31T16:36:05.141Z"
   },
   {
    "duration": -11826,
    "start_time": "2021-12-31T16:36:05.147Z"
   },
   {
    "duration": -11830,
    "start_time": "2021-12-31T16:36:05.152Z"
   },
   {
    "duration": -11834,
    "start_time": "2021-12-31T16:36:05.158Z"
   },
   {
    "duration": -11838,
    "start_time": "2021-12-31T16:36:05.163Z"
   },
   {
    "duration": -11842,
    "start_time": "2021-12-31T16:36:05.168Z"
   },
   {
    "duration": -11845,
    "start_time": "2021-12-31T16:36:05.173Z"
   },
   {
    "duration": -11850,
    "start_time": "2021-12-31T16:36:05.179Z"
   },
   {
    "duration": -11862,
    "start_time": "2021-12-31T16:36:05.192Z"
   },
   {
    "duration": -11866,
    "start_time": "2021-12-31T16:36:05.197Z"
   },
   {
    "duration": -11874,
    "start_time": "2021-12-31T16:36:05.207Z"
   },
   {
    "duration": -11878,
    "start_time": "2021-12-31T16:36:05.212Z"
   },
   {
    "duration": -11881,
    "start_time": "2021-12-31T16:36:05.216Z"
   },
   {
    "duration": -11884,
    "start_time": "2021-12-31T16:36:05.220Z"
   },
   {
    "duration": -11887,
    "start_time": "2021-12-31T16:36:05.224Z"
   },
   {
    "duration": -11889,
    "start_time": "2021-12-31T16:36:05.228Z"
   },
   {
    "duration": -11892,
    "start_time": "2021-12-31T16:36:05.232Z"
   },
   {
    "duration": -11895,
    "start_time": "2021-12-31T16:36:05.236Z"
   },
   {
    "duration": 1211,
    "start_time": "2021-12-31T16:47:13.657Z"
   },
   {
    "duration": 74,
    "start_time": "2021-12-31T16:47:14.871Z"
   },
   {
    "duration": 18,
    "start_time": "2021-12-31T16:47:14.948Z"
   },
   {
    "duration": 41,
    "start_time": "2021-12-31T16:47:14.968Z"
   },
   {
    "duration": 19,
    "start_time": "2021-12-31T16:47:15.012Z"
   },
   {
    "duration": 37,
    "start_time": "2021-12-31T16:47:15.033Z"
   },
   {
    "duration": 6,
    "start_time": "2021-12-31T16:47:15.074Z"
   },
   {
    "duration": 6,
    "start_time": "2021-12-31T16:47:15.083Z"
   },
   {
    "duration": 7,
    "start_time": "2021-12-31T16:47:15.091Z"
   },
   {
    "duration": 8,
    "start_time": "2021-12-31T16:47:15.100Z"
   },
   {
    "duration": 49,
    "start_time": "2021-12-31T16:47:15.110Z"
   },
   {
    "duration": 14,
    "start_time": "2021-12-31T16:47:15.161Z"
   },
   {
    "duration": 20,
    "start_time": "2021-12-31T16:47:15.177Z"
   },
   {
    "duration": 21,
    "start_time": "2021-12-31T16:47:15.199Z"
   },
   {
    "duration": 54,
    "start_time": "2021-12-31T16:47:15.222Z"
   },
   {
    "duration": 7,
    "start_time": "2021-12-31T16:47:15.278Z"
   },
   {
    "duration": 18,
    "start_time": "2021-12-31T16:47:15.288Z"
   },
   {
    "duration": 626,
    "start_time": "2021-12-31T16:47:15.308Z"
   },
   {
    "duration": 9,
    "start_time": "2021-12-31T16:47:15.936Z"
   },
   {
    "duration": 18,
    "start_time": "2021-12-31T16:47:15.960Z"
   },
   {
    "duration": 19,
    "start_time": "2021-12-31T16:47:15.980Z"
   },
   {
    "duration": 559,
    "start_time": "2021-12-31T16:47:16.005Z"
   },
   {
    "duration": 11,
    "start_time": "2021-12-31T16:47:16.567Z"
   },
   {
    "duration": 21,
    "start_time": "2021-12-31T16:47:16.580Z"
   },
   {
    "duration": 701,
    "start_time": "2021-12-31T16:47:16.603Z"
   },
   {
    "duration": 22,
    "start_time": "2021-12-31T16:47:17.307Z"
   },
   {
    "duration": 559,
    "start_time": "2021-12-31T16:47:17.331Z"
   },
   {
    "duration": 6,
    "start_time": "2021-12-31T16:47:17.893Z"
   },
   {
    "duration": 507,
    "start_time": "2021-12-31T16:47:17.901Z"
   },
   {
    "duration": 6,
    "start_time": "2021-12-31T16:47:18.411Z"
   },
   {
    "duration": 4026,
    "start_time": "2021-12-31T16:47:18.420Z"
   },
   {
    "duration": 17,
    "start_time": "2021-12-31T16:47:22.448Z"
   },
   {
    "duration": 782,
    "start_time": "2021-12-31T16:47:22.467Z"
   },
   {
    "duration": 19,
    "start_time": "2021-12-31T16:47:23.252Z"
   },
   {
    "duration": 19,
    "start_time": "2021-12-31T16:47:23.273Z"
   },
   {
    "duration": 528,
    "start_time": "2021-12-31T16:47:23.294Z"
   },
   {
    "duration": 20,
    "start_time": "2021-12-31T16:47:23.824Z"
   },
   {
    "duration": 28,
    "start_time": "2021-12-31T16:47:23.847Z"
   },
   {
    "duration": 667,
    "start_time": "2021-12-31T16:47:23.877Z"
   },
   {
    "duration": 28,
    "start_time": "2021-12-31T16:47:24.547Z"
   },
   {
    "duration": 22,
    "start_time": "2021-12-31T16:47:24.578Z"
   },
   {
    "duration": 642,
    "start_time": "2021-12-31T16:47:24.602Z"
   },
   {
    "duration": 25,
    "start_time": "2021-12-31T16:47:25.246Z"
   },
   {
    "duration": 19,
    "start_time": "2021-12-31T16:47:25.273Z"
   },
   {
    "duration": 521,
    "start_time": "2021-12-31T16:47:25.294Z"
   },
   {
    "duration": 6,
    "start_time": "2021-12-31T16:47:25.817Z"
   },
   {
    "duration": 11,
    "start_time": "2021-12-31T16:47:25.825Z"
   },
   {
    "duration": 22,
    "start_time": "2021-12-31T16:47:25.838Z"
   },
   {
    "duration": 6,
    "start_time": "2021-12-31T16:47:25.862Z"
   },
   {
    "duration": 7,
    "start_time": "2021-12-31T16:47:25.870Z"
   },
   {
    "duration": 8,
    "start_time": "2021-12-31T16:47:25.879Z"
   },
   {
    "duration": 8,
    "start_time": "2021-12-31T16:47:25.890Z"
   },
   {
    "duration": 7,
    "start_time": "2021-12-31T16:47:25.900Z"
   },
   {
    "duration": 54,
    "start_time": "2021-12-31T16:47:25.909Z"
   },
   {
    "duration": 8,
    "start_time": "2021-12-31T16:47:25.966Z"
   },
   {
    "duration": 1249,
    "start_time": "2021-12-31T16:49:25.621Z"
   },
   {
    "duration": 72,
    "start_time": "2021-12-31T16:49:26.873Z"
   },
   {
    "duration": 17,
    "start_time": "2021-12-31T16:49:26.949Z"
   },
   {
    "duration": 44,
    "start_time": "2021-12-31T16:49:26.968Z"
   },
   {
    "duration": 45,
    "start_time": "2021-12-31T16:49:27.014Z"
   },
   {
    "duration": 11,
    "start_time": "2021-12-31T16:49:27.062Z"
   },
   {
    "duration": 5,
    "start_time": "2021-12-31T16:49:27.075Z"
   },
   {
    "duration": 5,
    "start_time": "2021-12-31T16:49:27.083Z"
   },
   {
    "duration": 5,
    "start_time": "2021-12-31T16:49:27.092Z"
   },
   {
    "duration": 7,
    "start_time": "2021-12-31T16:49:27.100Z"
   },
   {
    "duration": 8,
    "start_time": "2021-12-31T16:49:27.109Z"
   },
   {
    "duration": 13,
    "start_time": "2021-12-31T16:49:27.160Z"
   },
   {
    "duration": 20,
    "start_time": "2021-12-31T16:49:27.176Z"
   },
   {
    "duration": 19,
    "start_time": "2021-12-31T16:49:27.198Z"
   },
   {
    "duration": 53,
    "start_time": "2021-12-31T16:49:27.220Z"
   },
   {
    "duration": 8,
    "start_time": "2021-12-31T16:49:27.275Z"
   },
   {
    "duration": 25,
    "start_time": "2021-12-31T16:49:27.285Z"
   },
   {
    "duration": 606,
    "start_time": "2021-12-31T16:49:27.312Z"
   },
   {
    "duration": 10,
    "start_time": "2021-12-31T16:49:27.921Z"
   },
   {
    "duration": 31,
    "start_time": "2021-12-31T16:49:27.933Z"
   },
   {
    "duration": 15,
    "start_time": "2021-12-31T16:49:27.966Z"
   },
   {
    "duration": 561,
    "start_time": "2021-12-31T16:49:27.983Z"
   },
   {
    "duration": 11,
    "start_time": "2021-12-31T16:49:28.558Z"
   },
   {
    "duration": 22,
    "start_time": "2021-12-31T16:49:28.571Z"
   },
   {
    "duration": 716,
    "start_time": "2021-12-31T16:49:28.595Z"
   },
   {
    "duration": 45,
    "start_time": "2021-12-31T16:49:29.314Z"
   },
   {
    "duration": 542,
    "start_time": "2021-12-31T16:49:29.365Z"
   },
   {
    "duration": 6,
    "start_time": "2021-12-31T16:49:29.910Z"
   },
   {
    "duration": 602,
    "start_time": "2021-12-31T16:49:29.919Z"
   },
   {
    "duration": 7,
    "start_time": "2021-12-31T16:49:30.524Z"
   },
   {
    "duration": 4803,
    "start_time": "2021-12-31T16:49:30.533Z"
   },
   {
    "duration": 768,
    "start_time": "2021-12-31T16:49:35.339Z"
   },
   {
    "duration": 29,
    "start_time": "2021-12-31T16:49:36.110Z"
   },
   {
    "duration": 23,
    "start_time": "2021-12-31T16:49:36.158Z"
   },
   {
    "duration": 507,
    "start_time": "2021-12-31T16:49:36.186Z"
   },
   {
    "duration": 21,
    "start_time": "2021-12-31T16:49:36.695Z"
   },
   {
    "duration": 42,
    "start_time": "2021-12-31T16:49:36.719Z"
   },
   {
    "duration": 699,
    "start_time": "2021-12-31T16:49:36.764Z"
   },
   {
    "duration": 22,
    "start_time": "2021-12-31T16:49:37.466Z"
   },
   {
    "duration": 19,
    "start_time": "2021-12-31T16:49:37.490Z"
   },
   {
    "duration": 530,
    "start_time": "2021-12-31T16:49:37.511Z"
   },
   {
    "duration": 28,
    "start_time": "2021-12-31T16:49:38.044Z"
   },
   {
    "duration": 26,
    "start_time": "2021-12-31T16:49:38.075Z"
   },
   {
    "duration": 507,
    "start_time": "2021-12-31T16:49:38.103Z"
   },
   {
    "duration": 7,
    "start_time": "2021-12-31T16:49:38.613Z"
   },
   {
    "duration": 7,
    "start_time": "2021-12-31T16:49:38.623Z"
   },
   {
    "duration": 27,
    "start_time": "2021-12-31T16:49:38.633Z"
   },
   {
    "duration": 5,
    "start_time": "2021-12-31T16:49:38.663Z"
   },
   {
    "duration": 6,
    "start_time": "2021-12-31T16:49:38.670Z"
   },
   {
    "duration": 7,
    "start_time": "2021-12-31T16:49:38.678Z"
   },
   {
    "duration": 7,
    "start_time": "2021-12-31T16:49:38.687Z"
   },
   {
    "duration": 5,
    "start_time": "2021-12-31T16:49:38.697Z"
   },
   {
    "duration": 6,
    "start_time": "2021-12-31T16:49:38.704Z"
   },
   {
    "duration": 6,
    "start_time": "2021-12-31T16:49:38.760Z"
   },
   {
    "duration": 1283,
    "start_time": "2021-12-31T16:50:50.791Z"
   },
   {
    "duration": 76,
    "start_time": "2021-12-31T16:50:52.077Z"
   },
   {
    "duration": 15,
    "start_time": "2021-12-31T16:50:52.157Z"
   },
   {
    "duration": 43,
    "start_time": "2021-12-31T16:50:52.175Z"
   },
   {
    "duration": 48,
    "start_time": "2021-12-31T16:50:52.220Z"
   },
   {
    "duration": 15,
    "start_time": "2021-12-31T16:50:52.271Z"
   },
   {
    "duration": 7,
    "start_time": "2021-12-31T16:50:52.288Z"
   },
   {
    "duration": 10,
    "start_time": "2021-12-31T16:50:52.297Z"
   },
   {
    "duration": 7,
    "start_time": "2021-12-31T16:50:52.311Z"
   },
   {
    "duration": 40,
    "start_time": "2021-12-31T16:50:52.321Z"
   },
   {
    "duration": 8,
    "start_time": "2021-12-31T16:50:52.364Z"
   },
   {
    "duration": 14,
    "start_time": "2021-12-31T16:50:52.375Z"
   },
   {
    "duration": 21,
    "start_time": "2021-12-31T16:50:52.391Z"
   },
   {
    "duration": 58,
    "start_time": "2021-12-31T16:50:52.415Z"
   },
   {
    "duration": 21,
    "start_time": "2021-12-31T16:50:52.476Z"
   },
   {
    "duration": 10,
    "start_time": "2021-12-31T16:50:52.500Z"
   },
   {
    "duration": 59,
    "start_time": "2021-12-31T16:50:52.513Z"
   },
   {
    "duration": 612,
    "start_time": "2021-12-31T16:50:52.576Z"
   },
   {
    "duration": 11,
    "start_time": "2021-12-31T16:50:53.191Z"
   },
   {
    "duration": 20,
    "start_time": "2021-12-31T16:50:53.204Z"
   },
   {
    "duration": 39,
    "start_time": "2021-12-31T16:50:53.226Z"
   },
   {
    "duration": 645,
    "start_time": "2021-12-31T16:50:53.268Z"
   },
   {
    "duration": 11,
    "start_time": "2021-12-31T16:50:53.915Z"
   },
   {
    "duration": 42,
    "start_time": "2021-12-31T16:50:53.928Z"
   },
   {
    "duration": 688,
    "start_time": "2021-12-31T16:50:53.973Z"
   },
   {
    "duration": 24,
    "start_time": "2021-12-31T16:50:54.664Z"
   },
   {
    "duration": 579,
    "start_time": "2021-12-31T16:50:54.694Z"
   },
   {
    "duration": 7,
    "start_time": "2021-12-31T16:50:55.276Z"
   },
   {
    "duration": 504,
    "start_time": "2021-12-31T16:50:55.286Z"
   },
   {
    "duration": 7,
    "start_time": "2021-12-31T16:50:55.793Z"
   },
   {
    "duration": 4240,
    "start_time": "2021-12-31T16:50:55.803Z"
   },
   {
    "duration": 829,
    "start_time": "2021-12-31T16:51:00.046Z"
   },
   {
    "duration": 22,
    "start_time": "2021-12-31T16:51:00.877Z"
   },
   {
    "duration": 21,
    "start_time": "2021-12-31T16:51:00.902Z"
   },
   {
    "duration": 550,
    "start_time": "2021-12-31T16:51:00.925Z"
   },
   {
    "duration": 23,
    "start_time": "2021-12-31T16:51:01.479Z"
   },
   {
    "duration": 56,
    "start_time": "2021-12-31T16:51:01.505Z"
   },
   {
    "duration": 548,
    "start_time": "2021-12-31T16:51:01.564Z"
   },
   {
    "duration": 21,
    "start_time": "2021-12-31T16:51:02.114Z"
   },
   {
    "duration": 39,
    "start_time": "2021-12-31T16:51:02.137Z"
   },
   {
    "duration": 514,
    "start_time": "2021-12-31T16:51:02.178Z"
   },
   {
    "duration": 21,
    "start_time": "2021-12-31T16:51:02.695Z"
   },
   {
    "duration": 43,
    "start_time": "2021-12-31T16:51:02.718Z"
   },
   {
    "duration": 508,
    "start_time": "2021-12-31T16:51:02.763Z"
   },
   {
    "duration": 6,
    "start_time": "2021-12-31T16:51:03.273Z"
   },
   {
    "duration": 8,
    "start_time": "2021-12-31T16:51:03.282Z"
   },
   {
    "duration": 12,
    "start_time": "2021-12-31T16:51:03.292Z"
   },
   {
    "duration": 16,
    "start_time": "2021-12-31T16:51:03.306Z"
   },
   {
    "duration": 14,
    "start_time": "2021-12-31T16:51:03.324Z"
   },
   {
    "duration": 8,
    "start_time": "2021-12-31T16:51:03.360Z"
   },
   {
    "duration": 11,
    "start_time": "2021-12-31T16:51:03.370Z"
   },
   {
    "duration": 8,
    "start_time": "2021-12-31T16:51:03.384Z"
   },
   {
    "duration": 9,
    "start_time": "2021-12-31T16:51:03.394Z"
   },
   {
    "duration": 13,
    "start_time": "2021-12-31T16:51:03.405Z"
   },
   {
    "duration": 1120,
    "start_time": "2022-01-05T18:37:07.737Z"
   },
   {
    "duration": 51,
    "start_time": "2022-01-05T18:37:08.859Z"
   },
   {
    "duration": 9,
    "start_time": "2022-01-05T18:37:08.912Z"
   },
   {
    "duration": 30,
    "start_time": "2022-01-05T18:37:08.923Z"
   },
   {
    "duration": 11,
    "start_time": "2022-01-05T18:37:08.955Z"
   },
   {
    "duration": 12,
    "start_time": "2022-01-05T18:37:08.968Z"
   },
   {
    "duration": 5,
    "start_time": "2022-01-05T18:37:08.982Z"
   },
   {
    "duration": 5,
    "start_time": "2022-01-05T18:37:08.990Z"
   },
   {
    "duration": 7,
    "start_time": "2022-01-05T18:37:08.997Z"
   },
   {
    "duration": 8,
    "start_time": "2022-01-05T18:37:09.005Z"
   },
   {
    "duration": 31,
    "start_time": "2022-01-05T18:37:09.014Z"
   },
   {
    "duration": 13,
    "start_time": "2022-01-05T18:37:09.047Z"
   },
   {
    "duration": 18,
    "start_time": "2022-01-05T18:37:09.062Z"
   },
   {
    "duration": 16,
    "start_time": "2022-01-05T18:37:09.082Z"
   },
   {
    "duration": 42,
    "start_time": "2022-01-05T18:37:09.100Z"
   },
   {
    "duration": 6,
    "start_time": "2022-01-05T18:37:09.144Z"
   },
   {
    "duration": 14,
    "start_time": "2022-01-05T18:37:09.151Z"
   },
   {
    "duration": 263,
    "start_time": "2022-01-05T18:37:09.167Z"
   },
   {
    "duration": 14,
    "start_time": "2022-01-05T18:37:09.432Z"
   },
   {
    "duration": 14,
    "start_time": "2022-01-05T18:37:09.448Z"
   },
   {
    "duration": 17,
    "start_time": "2022-01-05T18:37:09.464Z"
   },
   {
    "duration": 307,
    "start_time": "2022-01-05T18:37:09.482Z"
   },
   {
    "duration": 7,
    "start_time": "2022-01-05T18:37:09.792Z"
   },
   {
    "duration": 15,
    "start_time": "2022-01-05T18:37:09.801Z"
   },
   {
    "duration": 403,
    "start_time": "2022-01-05T18:37:09.817Z"
   },
   {
    "duration": 22,
    "start_time": "2022-01-05T18:37:10.222Z"
   },
   {
    "duration": 342,
    "start_time": "2022-01-05T18:37:10.245Z"
   },
   {
    "duration": 5,
    "start_time": "2022-01-05T18:37:10.589Z"
   },
   {
    "duration": 346,
    "start_time": "2022-01-05T18:37:10.596Z"
   },
   {
    "duration": 4,
    "start_time": "2022-01-05T18:37:10.944Z"
   },
   {
    "duration": 2348,
    "start_time": "2022-01-05T18:37:10.950Z"
   },
   {
    "duration": 437,
    "start_time": "2022-01-05T18:37:13.299Z"
   },
   {
    "duration": 15,
    "start_time": "2022-01-05T18:37:13.740Z"
   },
   {
    "duration": 12,
    "start_time": "2022-01-05T18:37:13.756Z"
   },
   {
    "duration": 309,
    "start_time": "2022-01-05T18:37:13.770Z"
   },
   {
    "duration": -7458,
    "start_time": "2022-01-05T18:37:21.538Z"
   },
   {
    "duration": -7462,
    "start_time": "2022-01-05T18:37:21.544Z"
   },
   {
    "duration": -7466,
    "start_time": "2022-01-05T18:37:21.549Z"
   },
   {
    "duration": -7469,
    "start_time": "2022-01-05T18:37:21.553Z"
   },
   {
    "duration": -7472,
    "start_time": "2022-01-05T18:37:21.557Z"
   },
   {
    "duration": -7475,
    "start_time": "2022-01-05T18:37:21.561Z"
   },
   {
    "duration": -7478,
    "start_time": "2022-01-05T18:37:21.565Z"
   },
   {
    "duration": -7481,
    "start_time": "2022-01-05T18:37:21.569Z"
   },
   {
    "duration": -7485,
    "start_time": "2022-01-05T18:37:21.574Z"
   },
   {
    "duration": -7492,
    "start_time": "2022-01-05T18:37:21.582Z"
   },
   {
    "duration": -7496,
    "start_time": "2022-01-05T18:37:21.587Z"
   },
   {
    "duration": -7499,
    "start_time": "2022-01-05T18:37:21.591Z"
   },
   {
    "duration": -7502,
    "start_time": "2022-01-05T18:37:21.595Z"
   },
   {
    "duration": -7505,
    "start_time": "2022-01-05T18:37:21.599Z"
   },
   {
    "duration": -7509,
    "start_time": "2022-01-05T18:37:21.604Z"
   },
   {
    "duration": -7511,
    "start_time": "2022-01-05T18:37:21.607Z"
   },
   {
    "duration": -7515,
    "start_time": "2022-01-05T18:37:21.612Z"
   },
   {
    "duration": -7518,
    "start_time": "2022-01-05T18:37:21.616Z"
   },
   {
    "duration": -7521,
    "start_time": "2022-01-05T18:37:21.620Z"
   },
   {
    "duration": 1079,
    "start_time": "2022-01-05T18:39:17.472Z"
   },
   {
    "duration": 55,
    "start_time": "2022-01-05T18:39:18.553Z"
   },
   {
    "duration": 12,
    "start_time": "2022-01-05T18:39:18.611Z"
   },
   {
    "duration": 45,
    "start_time": "2022-01-05T18:39:18.625Z"
   },
   {
    "duration": 12,
    "start_time": "2022-01-05T18:39:18.672Z"
   },
   {
    "duration": 22,
    "start_time": "2022-01-05T18:39:18.686Z"
   },
   {
    "duration": 5,
    "start_time": "2022-01-05T18:39:18.710Z"
   },
   {
    "duration": 24,
    "start_time": "2022-01-05T18:39:18.718Z"
   },
   {
    "duration": 9,
    "start_time": "2022-01-05T18:39:18.745Z"
   },
   {
    "duration": 9,
    "start_time": "2022-01-05T18:39:18.756Z"
   },
   {
    "duration": 12,
    "start_time": "2022-01-05T18:39:18.767Z"
   },
   {
    "duration": 15,
    "start_time": "2022-01-05T18:39:18.781Z"
   },
   {
    "duration": 16,
    "start_time": "2022-01-05T18:39:18.797Z"
   },
   {
    "duration": 36,
    "start_time": "2022-01-05T18:39:18.815Z"
   },
   {
    "duration": 14,
    "start_time": "2022-01-05T18:39:18.853Z"
   },
   {
    "duration": 11,
    "start_time": "2022-01-05T18:39:18.869Z"
   },
   {
    "duration": 23,
    "start_time": "2022-01-05T18:39:18.882Z"
   },
   {
    "duration": 450,
    "start_time": "2022-01-05T18:39:18.907Z"
   },
   {
    "duration": 10,
    "start_time": "2022-01-05T18:39:19.359Z"
   },
   {
    "duration": 19,
    "start_time": "2022-01-05T18:39:19.371Z"
   },
   {
    "duration": 12,
    "start_time": "2022-01-05T18:39:19.392Z"
   },
   {
    "duration": 372,
    "start_time": "2022-01-05T18:39:19.406Z"
   },
   {
    "duration": 9,
    "start_time": "2022-01-05T18:39:19.783Z"
   },
   {
    "duration": 36,
    "start_time": "2022-01-05T18:39:19.795Z"
   },
   {
    "duration": 460,
    "start_time": "2022-01-05T18:39:19.834Z"
   },
   {
    "duration": 17,
    "start_time": "2022-01-05T18:39:20.296Z"
   },
   {
    "duration": 425,
    "start_time": "2022-01-05T18:39:20.315Z"
   },
   {
    "duration": 6,
    "start_time": "2022-01-05T18:39:20.742Z"
   },
   {
    "duration": 488,
    "start_time": "2022-01-05T18:39:20.750Z"
   },
   {
    "duration": 6,
    "start_time": "2022-01-05T18:39:21.241Z"
   },
   {
    "duration": 3145,
    "start_time": "2022-01-05T18:39:21.249Z"
   },
   {
    "duration": 496,
    "start_time": "2022-01-05T18:39:24.396Z"
   },
   {
    "duration": 14,
    "start_time": "2022-01-05T18:39:24.893Z"
   },
   {
    "duration": 35,
    "start_time": "2022-01-05T18:39:24.909Z"
   },
   {
    "duration": 358,
    "start_time": "2022-01-05T18:39:24.946Z"
   },
   {
    "duration": -7546,
    "start_time": "2022-01-05T18:39:32.852Z"
   },
   {
    "duration": -7549,
    "start_time": "2022-01-05T18:39:32.856Z"
   },
   {
    "duration": -7553,
    "start_time": "2022-01-05T18:39:32.860Z"
   },
   {
    "duration": -7557,
    "start_time": "2022-01-05T18:39:32.865Z"
   },
   {
    "duration": -7560,
    "start_time": "2022-01-05T18:39:32.869Z"
   },
   {
    "duration": -7564,
    "start_time": "2022-01-05T18:39:32.873Z"
   },
   {
    "duration": -7566,
    "start_time": "2022-01-05T18:39:32.876Z"
   },
   {
    "duration": -7571,
    "start_time": "2022-01-05T18:39:32.881Z"
   },
   {
    "duration": -7574,
    "start_time": "2022-01-05T18:39:32.885Z"
   },
   {
    "duration": -7577,
    "start_time": "2022-01-05T18:39:32.889Z"
   },
   {
    "duration": -7580,
    "start_time": "2022-01-05T18:39:32.893Z"
   },
   {
    "duration": -7583,
    "start_time": "2022-01-05T18:39:32.897Z"
   },
   {
    "duration": -7585,
    "start_time": "2022-01-05T18:39:32.901Z"
   },
   {
    "duration": -7589,
    "start_time": "2022-01-05T18:39:32.906Z"
   },
   {
    "duration": -7592,
    "start_time": "2022-01-05T18:39:32.910Z"
   },
   {
    "duration": -7596,
    "start_time": "2022-01-05T18:39:32.915Z"
   },
   {
    "duration": -7599,
    "start_time": "2022-01-05T18:39:32.919Z"
   },
   {
    "duration": -7602,
    "start_time": "2022-01-05T18:39:32.923Z"
   },
   {
    "duration": -7605,
    "start_time": "2022-01-05T18:39:32.927Z"
   },
   {
    "duration": 1123,
    "start_time": "2022-01-05T18:40:06.716Z"
   },
   {
    "duration": 53,
    "start_time": "2022-01-05T18:40:07.841Z"
   },
   {
    "duration": 10,
    "start_time": "2022-01-05T18:40:07.896Z"
   },
   {
    "duration": 38,
    "start_time": "2022-01-05T18:40:07.908Z"
   },
   {
    "duration": 13,
    "start_time": "2022-01-05T18:40:07.947Z"
   },
   {
    "duration": 12,
    "start_time": "2022-01-05T18:40:07.962Z"
   },
   {
    "duration": 6,
    "start_time": "2022-01-05T18:40:07.975Z"
   },
   {
    "duration": 5,
    "start_time": "2022-01-05T18:40:07.984Z"
   },
   {
    "duration": 9,
    "start_time": "2022-01-05T18:40:07.991Z"
   },
   {
    "duration": 20,
    "start_time": "2022-01-05T18:40:08.002Z"
   },
   {
    "duration": 32,
    "start_time": "2022-01-05T18:40:08.024Z"
   },
   {
    "duration": 35,
    "start_time": "2022-01-05T18:40:08.057Z"
   },
   {
    "duration": 21,
    "start_time": "2022-01-05T18:40:08.094Z"
   },
   {
    "duration": 28,
    "start_time": "2022-01-05T18:40:08.116Z"
   },
   {
    "duration": 28,
    "start_time": "2022-01-05T18:40:08.145Z"
   },
   {
    "duration": 23,
    "start_time": "2022-01-05T18:40:08.174Z"
   },
   {
    "duration": 39,
    "start_time": "2022-01-05T18:40:08.199Z"
   },
   {
    "duration": 287,
    "start_time": "2022-01-05T18:40:08.240Z"
   },
   {
    "duration": 15,
    "start_time": "2022-01-05T18:40:08.529Z"
   },
   {
    "duration": 44,
    "start_time": "2022-01-05T18:40:08.546Z"
   },
   {
    "duration": 36,
    "start_time": "2022-01-05T18:40:08.592Z"
   },
   {
    "duration": 339,
    "start_time": "2022-01-05T18:40:08.630Z"
   },
   {
    "duration": 8,
    "start_time": "2022-01-05T18:40:08.973Z"
   },
   {
    "duration": 41,
    "start_time": "2022-01-05T18:40:08.983Z"
   },
   {
    "duration": 444,
    "start_time": "2022-01-05T18:40:09.026Z"
   },
   {
    "duration": 23,
    "start_time": "2022-01-05T18:40:09.472Z"
   },
   {
    "duration": 419,
    "start_time": "2022-01-05T18:40:09.497Z"
   },
   {
    "duration": 5,
    "start_time": "2022-01-05T18:40:09.918Z"
   },
   {
    "duration": 424,
    "start_time": "2022-01-05T18:40:09.925Z"
   },
   {
    "duration": 6,
    "start_time": "2022-01-05T18:40:10.352Z"
   },
   {
    "duration": 2951,
    "start_time": "2022-01-05T18:40:10.360Z"
   },
   {
    "duration": 451,
    "start_time": "2022-01-05T18:40:13.313Z"
   },
   {
    "duration": 15,
    "start_time": "2022-01-05T18:40:13.767Z"
   },
   {
    "duration": 14,
    "start_time": "2022-01-05T18:40:13.784Z"
   },
   {
    "duration": 1036,
    "start_time": "2022-01-05T18:40:13.800Z"
   },
   {
    "duration": -7435,
    "start_time": "2022-01-05T18:40:22.274Z"
   },
   {
    "duration": -7439,
    "start_time": "2022-01-05T18:40:22.279Z"
   },
   {
    "duration": -7442,
    "start_time": "2022-01-05T18:40:22.284Z"
   },
   {
    "duration": -7445,
    "start_time": "2022-01-05T18:40:22.288Z"
   },
   {
    "duration": -7448,
    "start_time": "2022-01-05T18:40:22.292Z"
   },
   {
    "duration": -7452,
    "start_time": "2022-01-05T18:40:22.297Z"
   },
   {
    "duration": -7454,
    "start_time": "2022-01-05T18:40:22.301Z"
   },
   {
    "duration": -7463,
    "start_time": "2022-01-05T18:40:22.311Z"
   },
   {
    "duration": -7466,
    "start_time": "2022-01-05T18:40:22.315Z"
   },
   {
    "duration": -7468,
    "start_time": "2022-01-05T18:40:22.319Z"
   },
   {
    "duration": -7471,
    "start_time": "2022-01-05T18:40:22.323Z"
   },
   {
    "duration": -7474,
    "start_time": "2022-01-05T18:40:22.327Z"
   },
   {
    "duration": -7477,
    "start_time": "2022-01-05T18:40:22.331Z"
   },
   {
    "duration": -7480,
    "start_time": "2022-01-05T18:40:22.336Z"
   },
   {
    "duration": -7483,
    "start_time": "2022-01-05T18:40:22.340Z"
   },
   {
    "duration": -7486,
    "start_time": "2022-01-05T18:40:22.344Z"
   },
   {
    "duration": -7488,
    "start_time": "2022-01-05T18:40:22.348Z"
   },
   {
    "duration": -7492,
    "start_time": "2022-01-05T18:40:22.353Z"
   },
   {
    "duration": -7494,
    "start_time": "2022-01-05T18:40:22.357Z"
   },
   {
    "duration": 1121,
    "start_time": "2022-01-05T18:42:29.126Z"
   },
   {
    "duration": 62,
    "start_time": "2022-01-05T18:42:30.249Z"
   },
   {
    "duration": 11,
    "start_time": "2022-01-05T18:42:30.316Z"
   },
   {
    "duration": 33,
    "start_time": "2022-01-05T18:42:30.329Z"
   },
   {
    "duration": 12,
    "start_time": "2022-01-05T18:42:30.364Z"
   },
   {
    "duration": 12,
    "start_time": "2022-01-05T18:42:30.378Z"
   },
   {
    "duration": 4,
    "start_time": "2022-01-05T18:42:30.393Z"
   },
   {
    "duration": 7,
    "start_time": "2022-01-05T18:42:30.399Z"
   },
   {
    "duration": 8,
    "start_time": "2022-01-05T18:42:30.408Z"
   },
   {
    "duration": 23,
    "start_time": "2022-01-05T18:42:30.418Z"
   },
   {
    "duration": 6,
    "start_time": "2022-01-05T18:42:30.443Z"
   },
   {
    "duration": 12,
    "start_time": "2022-01-05T18:42:30.451Z"
   },
   {
    "duration": 16,
    "start_time": "2022-01-05T18:42:30.465Z"
   },
   {
    "duration": 18,
    "start_time": "2022-01-05T18:42:30.483Z"
   },
   {
    "duration": 43,
    "start_time": "2022-01-05T18:42:30.503Z"
   },
   {
    "duration": 18,
    "start_time": "2022-01-05T18:42:30.548Z"
   },
   {
    "duration": 23,
    "start_time": "2022-01-05T18:42:30.569Z"
   },
   {
    "duration": 260,
    "start_time": "2022-01-05T18:42:30.594Z"
   },
   {
    "duration": 7,
    "start_time": "2022-01-05T18:42:30.856Z"
   },
   {
    "duration": 30,
    "start_time": "2022-01-05T18:42:30.865Z"
   },
   {
    "duration": 54,
    "start_time": "2022-01-05T18:42:30.897Z"
   },
   {
    "duration": 334,
    "start_time": "2022-01-05T18:42:30.955Z"
   },
   {
    "duration": 7,
    "start_time": "2022-01-05T18:42:31.292Z"
   },
   {
    "duration": 18,
    "start_time": "2022-01-05T18:42:31.301Z"
   },
   {
    "duration": 427,
    "start_time": "2022-01-05T18:42:31.321Z"
   },
   {
    "duration": 16,
    "start_time": "2022-01-05T18:42:31.749Z"
   },
   {
    "duration": 367,
    "start_time": "2022-01-05T18:42:31.766Z"
   },
   {
    "duration": 7,
    "start_time": "2022-01-05T18:42:32.135Z"
   },
   {
    "duration": 378,
    "start_time": "2022-01-05T18:42:32.144Z"
   },
   {
    "duration": 5,
    "start_time": "2022-01-05T18:42:32.524Z"
   },
   {
    "duration": 3102,
    "start_time": "2022-01-05T18:42:32.541Z"
   },
   {
    "duration": 500,
    "start_time": "2022-01-05T18:42:35.645Z"
   },
   {
    "duration": 14,
    "start_time": "2022-01-05T18:42:36.147Z"
   },
   {
    "duration": 14,
    "start_time": "2022-01-05T18:42:36.162Z"
   },
   {
    "duration": 383,
    "start_time": "2022-01-05T18:42:36.178Z"
   },
   {
    "duration": -7429,
    "start_time": "2022-01-05T18:42:43.992Z"
   },
   {
    "duration": -7432,
    "start_time": "2022-01-05T18:42:43.997Z"
   },
   {
    "duration": -7437,
    "start_time": "2022-01-05T18:42:44.003Z"
   },
   {
    "duration": -7441,
    "start_time": "2022-01-05T18:42:44.008Z"
   },
   {
    "duration": -7444,
    "start_time": "2022-01-05T18:42:44.012Z"
   },
   {
    "duration": -7448,
    "start_time": "2022-01-05T18:42:44.018Z"
   },
   {
    "duration": -7451,
    "start_time": "2022-01-05T18:42:44.022Z"
   },
   {
    "duration": -7454,
    "start_time": "2022-01-05T18:42:44.026Z"
   },
   {
    "duration": -7456,
    "start_time": "2022-01-05T18:42:44.030Z"
   },
   {
    "duration": -7460,
    "start_time": "2022-01-05T18:42:44.035Z"
   },
   {
    "duration": -7463,
    "start_time": "2022-01-05T18:42:44.039Z"
   },
   {
    "duration": -7468,
    "start_time": "2022-01-05T18:42:44.045Z"
   },
   {
    "duration": -7471,
    "start_time": "2022-01-05T18:42:44.050Z"
   },
   {
    "duration": -7474,
    "start_time": "2022-01-05T18:42:44.054Z"
   },
   {
    "duration": -7477,
    "start_time": "2022-01-05T18:42:44.058Z"
   },
   {
    "duration": -7481,
    "start_time": "2022-01-05T18:42:44.063Z"
   },
   {
    "duration": -7483,
    "start_time": "2022-01-05T18:42:44.067Z"
   },
   {
    "duration": -7486,
    "start_time": "2022-01-05T18:42:44.071Z"
   },
   {
    "duration": -7489,
    "start_time": "2022-01-05T18:42:44.076Z"
   },
   {
    "duration": 1069,
    "start_time": "2022-01-05T18:51:35.327Z"
   },
   {
    "duration": 49,
    "start_time": "2022-01-05T18:51:36.397Z"
   },
   {
    "duration": 9,
    "start_time": "2022-01-05T18:51:36.448Z"
   },
   {
    "duration": 28,
    "start_time": "2022-01-05T18:51:36.458Z"
   },
   {
    "duration": 10,
    "start_time": "2022-01-05T18:51:36.487Z"
   },
   {
    "duration": 12,
    "start_time": "2022-01-05T18:51:36.499Z"
   },
   {
    "duration": 4,
    "start_time": "2022-01-05T18:51:36.513Z"
   },
   {
    "duration": 23,
    "start_time": "2022-01-05T18:51:36.520Z"
   },
   {
    "duration": 6,
    "start_time": "2022-01-05T18:51:36.545Z"
   },
   {
    "duration": 5,
    "start_time": "2022-01-05T18:51:36.553Z"
   },
   {
    "duration": 8,
    "start_time": "2022-01-05T18:51:36.559Z"
   },
   {
    "duration": 11,
    "start_time": "2022-01-05T18:51:36.569Z"
   },
   {
    "duration": 13,
    "start_time": "2022-01-05T18:51:36.581Z"
   },
   {
    "duration": 11,
    "start_time": "2022-01-05T18:51:36.596Z"
   },
   {
    "duration": 38,
    "start_time": "2022-01-05T18:51:36.608Z"
   },
   {
    "duration": 7,
    "start_time": "2022-01-05T18:51:36.648Z"
   },
   {
    "duration": 10,
    "start_time": "2022-01-05T18:51:36.657Z"
   },
   {
    "duration": 261,
    "start_time": "2022-01-05T18:51:36.669Z"
   },
   {
    "duration": 13,
    "start_time": "2022-01-05T18:51:36.931Z"
   },
   {
    "duration": 12,
    "start_time": "2022-01-05T18:51:36.946Z"
   },
   {
    "duration": 11,
    "start_time": "2022-01-05T18:51:36.960Z"
   },
   {
    "duration": 331,
    "start_time": "2022-01-05T18:51:36.972Z"
   },
   {
    "duration": 8,
    "start_time": "2022-01-05T18:51:37.306Z"
   },
   {
    "duration": 29,
    "start_time": "2022-01-05T18:51:37.316Z"
   },
   {
    "duration": 385,
    "start_time": "2022-01-05T18:51:37.347Z"
   },
   {
    "duration": 19,
    "start_time": "2022-01-05T18:51:37.734Z"
   },
   {
    "duration": 364,
    "start_time": "2022-01-05T18:51:37.755Z"
   },
   {
    "duration": 4,
    "start_time": "2022-01-05T18:51:38.121Z"
   },
   {
    "duration": 356,
    "start_time": "2022-01-05T18:51:38.127Z"
   },
   {
    "duration": 4,
    "start_time": "2022-01-05T18:51:38.484Z"
   },
   {
    "duration": 2408,
    "start_time": "2022-01-05T18:51:38.490Z"
   },
   {
    "duration": 519,
    "start_time": "2022-01-05T18:51:40.899Z"
   },
   {
    "duration": 23,
    "start_time": "2022-01-05T18:51:41.419Z"
   },
   {
    "duration": 31,
    "start_time": "2022-01-05T18:51:41.443Z"
   },
   {
    "duration": 19,
    "start_time": "2022-01-05T18:51:41.475Z"
   },
   {
    "duration": 12,
    "start_time": "2022-01-05T18:51:41.496Z"
   },
   {
    "duration": 12,
    "start_time": "2022-01-05T18:51:41.509Z"
   },
   {
    "duration": 16,
    "start_time": "2022-01-05T18:51:41.522Z"
   },
   {
    "duration": 15,
    "start_time": "2022-01-05T18:51:41.539Z"
   },
   {
    "duration": 11,
    "start_time": "2022-01-05T18:51:41.555Z"
   },
   {
    "duration": 451,
    "start_time": "2022-01-05T18:51:41.567Z"
   },
   {
    "duration": 5,
    "start_time": "2022-01-05T18:51:42.019Z"
   },
   {
    "duration": 17,
    "start_time": "2022-01-05T18:51:42.025Z"
   },
   {
    "duration": 6,
    "start_time": "2022-01-05T18:51:42.043Z"
   },
   {
    "duration": 5,
    "start_time": "2022-01-05T18:51:42.050Z"
   },
   {
    "duration": 6,
    "start_time": "2022-01-05T18:51:42.057Z"
   },
   {
    "duration": 6,
    "start_time": "2022-01-05T18:51:42.064Z"
   },
   {
    "duration": 9,
    "start_time": "2022-01-05T18:51:42.071Z"
   },
   {
    "duration": 12,
    "start_time": "2022-01-05T18:51:42.082Z"
   },
   {
    "duration": 9,
    "start_time": "2022-01-05T18:51:42.096Z"
   },
   {
    "duration": 8,
    "start_time": "2022-01-05T18:51:42.107Z"
   },
   {
    "duration": 1033,
    "start_time": "2022-01-05T19:10:18.802Z"
   },
   {
    "duration": 51,
    "start_time": "2022-01-05T19:10:19.837Z"
   },
   {
    "duration": 9,
    "start_time": "2022-01-05T19:10:19.890Z"
   },
   {
    "duration": 29,
    "start_time": "2022-01-05T19:10:19.901Z"
   },
   {
    "duration": 12,
    "start_time": "2022-01-05T19:10:19.931Z"
   },
   {
    "duration": 13,
    "start_time": "2022-01-05T19:10:19.944Z"
   },
   {
    "duration": 5,
    "start_time": "2022-01-05T19:10:19.959Z"
   },
   {
    "duration": 4,
    "start_time": "2022-01-05T19:10:19.967Z"
   },
   {
    "duration": 5,
    "start_time": "2022-01-05T19:10:19.973Z"
   },
   {
    "duration": 8,
    "start_time": "2022-01-05T19:10:19.980Z"
   },
   {
    "duration": 12,
    "start_time": "2022-01-05T19:10:19.989Z"
   },
   {
    "duration": 24,
    "start_time": "2022-01-05T19:10:20.002Z"
   },
   {
    "duration": 27,
    "start_time": "2022-01-05T19:10:20.028Z"
   },
   {
    "duration": 14,
    "start_time": "2022-01-05T19:10:20.056Z"
   },
   {
    "duration": 15,
    "start_time": "2022-01-05T19:10:20.072Z"
   },
   {
    "duration": 5,
    "start_time": "2022-01-05T19:10:20.088Z"
   },
   {
    "duration": 19,
    "start_time": "2022-01-05T19:10:20.094Z"
   },
   {
    "duration": 277,
    "start_time": "2022-01-05T19:10:20.115Z"
   },
   {
    "duration": 7,
    "start_time": "2022-01-05T19:10:20.393Z"
   },
   {
    "duration": 15,
    "start_time": "2022-01-05T19:10:20.402Z"
   },
   {
    "duration": 27,
    "start_time": "2022-01-05T19:10:20.418Z"
   },
   {
    "duration": 310,
    "start_time": "2022-01-05T19:10:20.446Z"
   },
   {
    "duration": 7,
    "start_time": "2022-01-05T19:10:20.759Z"
   },
   {
    "duration": 17,
    "start_time": "2022-01-05T19:10:20.768Z"
   },
   {
    "duration": 402,
    "start_time": "2022-01-05T19:10:20.787Z"
   },
   {
    "duration": 15,
    "start_time": "2022-01-05T19:10:21.190Z"
   },
   {
    "duration": 397,
    "start_time": "2022-01-05T19:10:21.207Z"
   },
   {
    "duration": 5,
    "start_time": "2022-01-05T19:10:21.606Z"
   },
   {
    "duration": 374,
    "start_time": "2022-01-05T19:10:21.612Z"
   },
   {
    "duration": 4,
    "start_time": "2022-01-05T19:10:21.988Z"
   },
   {
    "duration": 2472,
    "start_time": "2022-01-05T19:10:21.994Z"
   },
   {
    "duration": 461,
    "start_time": "2022-01-05T19:10:24.468Z"
   },
   {
    "duration": 18,
    "start_time": "2022-01-05T19:10:24.931Z"
   },
   {
    "duration": 12,
    "start_time": "2022-01-05T19:10:24.950Z"
   },
   {
    "duration": 12,
    "start_time": "2022-01-05T19:10:24.963Z"
   },
   {
    "duration": 12,
    "start_time": "2022-01-05T19:10:24.976Z"
   },
   {
    "duration": 12,
    "start_time": "2022-01-05T19:10:24.989Z"
   },
   {
    "duration": 44,
    "start_time": "2022-01-05T19:10:25.002Z"
   },
   {
    "duration": 11,
    "start_time": "2022-01-05T19:10:25.048Z"
   },
   {
    "duration": 11,
    "start_time": "2022-01-05T19:10:25.061Z"
   },
   {
    "duration": 814,
    "start_time": "2022-01-05T19:10:25.074Z"
   },
   {
    "duration": -7547,
    "start_time": "2022-01-05T19:10:33.437Z"
   },
   {
    "duration": -7551,
    "start_time": "2022-01-05T19:10:33.442Z"
   },
   {
    "duration": -7555,
    "start_time": "2022-01-05T19:10:33.446Z"
   },
   {
    "duration": -7559,
    "start_time": "2022-01-05T19:10:33.451Z"
   },
   {
    "duration": -7562,
    "start_time": "2022-01-05T19:10:33.455Z"
   },
   {
    "duration": -7565,
    "start_time": "2022-01-05T19:10:33.459Z"
   },
   {
    "duration": -7568,
    "start_time": "2022-01-05T19:10:33.463Z"
   },
   {
    "duration": -7571,
    "start_time": "2022-01-05T19:10:33.467Z"
   },
   {
    "duration": -7573,
    "start_time": "2022-01-05T19:10:33.471Z"
   },
   {
    "duration": -7577,
    "start_time": "2022-01-05T19:10:33.476Z"
   },
   {
    "duration": -7579,
    "start_time": "2022-01-05T19:10:33.479Z"
   },
   {
    "duration": 1038,
    "start_time": "2022-01-05T19:10:54.382Z"
   },
   {
    "duration": 53,
    "start_time": "2022-01-05T19:10:55.422Z"
   },
   {
    "duration": 10,
    "start_time": "2022-01-05T19:10:55.477Z"
   },
   {
    "duration": 25,
    "start_time": "2022-01-05T19:10:55.489Z"
   },
   {
    "duration": 27,
    "start_time": "2022-01-05T19:10:55.515Z"
   },
   {
    "duration": 8,
    "start_time": "2022-01-05T19:10:55.543Z"
   },
   {
    "duration": 5,
    "start_time": "2022-01-05T19:10:55.552Z"
   },
   {
    "duration": 4,
    "start_time": "2022-01-05T19:10:55.558Z"
   },
   {
    "duration": 4,
    "start_time": "2022-01-05T19:10:55.564Z"
   },
   {
    "duration": 4,
    "start_time": "2022-01-05T19:10:55.570Z"
   },
   {
    "duration": 9,
    "start_time": "2022-01-05T19:10:55.576Z"
   },
   {
    "duration": 14,
    "start_time": "2022-01-05T19:10:55.586Z"
   },
   {
    "duration": 13,
    "start_time": "2022-01-05T19:10:55.602Z"
   },
   {
    "duration": 13,
    "start_time": "2022-01-05T19:10:55.641Z"
   },
   {
    "duration": 12,
    "start_time": "2022-01-05T19:10:55.656Z"
   },
   {
    "duration": 8,
    "start_time": "2022-01-05T19:10:55.670Z"
   },
   {
    "duration": 13,
    "start_time": "2022-01-05T19:10:55.680Z"
   },
   {
    "duration": 273,
    "start_time": "2022-01-05T19:10:55.694Z"
   },
   {
    "duration": 8,
    "start_time": "2022-01-05T19:10:55.968Z"
   },
   {
    "duration": 12,
    "start_time": "2022-01-05T19:10:55.977Z"
   },
   {
    "duration": 10,
    "start_time": "2022-01-05T19:10:55.990Z"
   },
   {
    "duration": 319,
    "start_time": "2022-01-05T19:10:56.001Z"
   },
   {
    "duration": 7,
    "start_time": "2022-01-05T19:10:56.322Z"
   },
   {
    "duration": 21,
    "start_time": "2022-01-05T19:10:56.330Z"
   },
   {
    "duration": 414,
    "start_time": "2022-01-05T19:10:56.352Z"
   },
   {
    "duration": 14,
    "start_time": "2022-01-05T19:10:56.768Z"
   },
   {
    "duration": 334,
    "start_time": "2022-01-05T19:10:56.786Z"
   },
   {
    "duration": 5,
    "start_time": "2022-01-05T19:10:57.123Z"
   },
   {
    "duration": 356,
    "start_time": "2022-01-05T19:10:57.130Z"
   },
   {
    "duration": 6,
    "start_time": "2022-01-05T19:10:57.488Z"
   },
   {
    "duration": 2855,
    "start_time": "2022-01-05T19:10:57.495Z"
   },
   {
    "duration": 433,
    "start_time": "2022-01-05T19:11:00.351Z"
   },
   {
    "duration": 13,
    "start_time": "2022-01-05T19:11:00.785Z"
   },
   {
    "duration": 17,
    "start_time": "2022-01-05T19:11:00.800Z"
   },
   {
    "duration": 30,
    "start_time": "2022-01-05T19:11:00.818Z"
   },
   {
    "duration": 12,
    "start_time": "2022-01-05T19:11:00.849Z"
   },
   {
    "duration": 13,
    "start_time": "2022-01-05T19:11:00.863Z"
   },
   {
    "duration": 12,
    "start_time": "2022-01-05T19:11:00.877Z"
   },
   {
    "duration": 14,
    "start_time": "2022-01-05T19:11:00.890Z"
   },
   {
    "duration": 40,
    "start_time": "2022-01-05T19:11:00.906Z"
   },
   {
    "duration": 555,
    "start_time": "2022-01-05T19:11:00.947Z"
   },
   {
    "duration": 830,
    "start_time": "2022-01-05T19:11:01.503Z"
   },
   {
    "duration": -7433,
    "start_time": "2022-01-05T19:11:09.767Z"
   },
   {
    "duration": -7437,
    "start_time": "2022-01-05T19:11:09.772Z"
   },
   {
    "duration": -7440,
    "start_time": "2022-01-05T19:11:09.776Z"
   },
   {
    "duration": -7443,
    "start_time": "2022-01-05T19:11:09.780Z"
   },
   {
    "duration": -7446,
    "start_time": "2022-01-05T19:11:09.784Z"
   },
   {
    "duration": -7450,
    "start_time": "2022-01-05T19:11:09.789Z"
   },
   {
    "duration": -7453,
    "start_time": "2022-01-05T19:11:09.793Z"
   },
   {
    "duration": -7456,
    "start_time": "2022-01-05T19:11:09.797Z"
   },
   {
    "duration": -7459,
    "start_time": "2022-01-05T19:11:09.801Z"
   },
   {
    "duration": -7462,
    "start_time": "2022-01-05T19:11:09.805Z"
   },
   {
    "duration": 1091,
    "start_time": "2022-01-05T19:16:24.726Z"
   },
   {
    "duration": 55,
    "start_time": "2022-01-05T19:16:25.819Z"
   },
   {
    "duration": 10,
    "start_time": "2022-01-05T19:16:25.876Z"
   },
   {
    "duration": 25,
    "start_time": "2022-01-05T19:16:25.888Z"
   },
   {
    "duration": 28,
    "start_time": "2022-01-05T19:16:25.914Z"
   },
   {
    "duration": 7,
    "start_time": "2022-01-05T19:16:25.943Z"
   },
   {
    "duration": 4,
    "start_time": "2022-01-05T19:16:25.952Z"
   },
   {
    "duration": 4,
    "start_time": "2022-01-05T19:16:25.959Z"
   },
   {
    "duration": 5,
    "start_time": "2022-01-05T19:16:25.965Z"
   },
   {
    "duration": 5,
    "start_time": "2022-01-05T19:16:25.972Z"
   },
   {
    "duration": 7,
    "start_time": "2022-01-05T19:16:25.978Z"
   },
   {
    "duration": 15,
    "start_time": "2022-01-05T19:16:25.986Z"
   },
   {
    "duration": 12,
    "start_time": "2022-01-05T19:16:26.002Z"
   },
   {
    "duration": 12,
    "start_time": "2022-01-05T19:16:26.041Z"
   },
   {
    "duration": 11,
    "start_time": "2022-01-05T19:16:26.055Z"
   },
   {
    "duration": 6,
    "start_time": "2022-01-05T19:16:26.067Z"
   },
   {
    "duration": 14,
    "start_time": "2022-01-05T19:16:26.074Z"
   },
   {
    "duration": 264,
    "start_time": "2022-01-05T19:16:26.090Z"
   },
   {
    "duration": 7,
    "start_time": "2022-01-05T19:16:26.356Z"
   },
   {
    "duration": 11,
    "start_time": "2022-01-05T19:16:26.365Z"
   },
   {
    "duration": 12,
    "start_time": "2022-01-05T19:16:26.377Z"
   },
   {
    "duration": 323,
    "start_time": "2022-01-05T19:16:26.390Z"
   },
   {
    "duration": 6,
    "start_time": "2022-01-05T19:16:26.717Z"
   },
   {
    "duration": 26,
    "start_time": "2022-01-05T19:16:26.725Z"
   },
   {
    "duration": 393,
    "start_time": "2022-01-05T19:16:26.753Z"
   },
   {
    "duration": 15,
    "start_time": "2022-01-05T19:16:27.147Z"
   },
   {
    "duration": 333,
    "start_time": "2022-01-05T19:16:27.163Z"
   },
   {
    "duration": 5,
    "start_time": "2022-01-05T19:16:27.498Z"
   },
   {
    "duration": 373,
    "start_time": "2022-01-05T19:16:27.505Z"
   },
   {
    "duration": 5,
    "start_time": "2022-01-05T19:16:27.880Z"
   },
   {
    "duration": 2454,
    "start_time": "2022-01-05T19:16:27.887Z"
   },
   {
    "duration": 433,
    "start_time": "2022-01-05T19:16:30.342Z"
   },
   {
    "duration": 14,
    "start_time": "2022-01-05T19:16:30.777Z"
   },
   {
    "duration": 23,
    "start_time": "2022-01-05T19:16:30.793Z"
   },
   {
    "duration": 29,
    "start_time": "2022-01-05T19:16:30.818Z"
   },
   {
    "duration": 36,
    "start_time": "2022-01-05T19:16:30.849Z"
   },
   {
    "duration": 23,
    "start_time": "2022-01-05T19:16:30.888Z"
   },
   {
    "duration": 52,
    "start_time": "2022-01-05T19:16:30.914Z"
   },
   {
    "duration": 44,
    "start_time": "2022-01-05T19:16:30.967Z"
   },
   {
    "duration": 39,
    "start_time": "2022-01-05T19:16:31.013Z"
   },
   {
    "duration": 495,
    "start_time": "2022-01-05T19:16:31.054Z"
   },
   {
    "duration": 78,
    "start_time": "2022-01-05T19:16:31.550Z"
   },
   {
    "duration": -7403,
    "start_time": "2022-01-05T19:16:39.032Z"
   },
   {
    "duration": -7406,
    "start_time": "2022-01-05T19:16:39.036Z"
   },
   {
    "duration": -7409,
    "start_time": "2022-01-05T19:16:39.040Z"
   },
   {
    "duration": -7412,
    "start_time": "2022-01-05T19:16:39.044Z"
   },
   {
    "duration": -7415,
    "start_time": "2022-01-05T19:16:39.048Z"
   },
   {
    "duration": -7418,
    "start_time": "2022-01-05T19:16:39.052Z"
   },
   {
    "duration": -7421,
    "start_time": "2022-01-05T19:16:39.056Z"
   },
   {
    "duration": -7424,
    "start_time": "2022-01-05T19:16:39.060Z"
   },
   {
    "duration": -7427,
    "start_time": "2022-01-05T19:16:39.064Z"
   },
   {
    "duration": -7431,
    "start_time": "2022-01-05T19:16:39.069Z"
   },
   {
    "duration": 990,
    "start_time": "2022-01-05T19:16:51.634Z"
   },
   {
    "duration": 50,
    "start_time": "2022-01-05T19:16:52.626Z"
   },
   {
    "duration": 9,
    "start_time": "2022-01-05T19:16:52.678Z"
   },
   {
    "duration": 46,
    "start_time": "2022-01-05T19:16:52.689Z"
   },
   {
    "duration": 11,
    "start_time": "2022-01-05T19:16:52.736Z"
   },
   {
    "duration": 24,
    "start_time": "2022-01-05T19:16:52.748Z"
   },
   {
    "duration": 13,
    "start_time": "2022-01-05T19:16:52.773Z"
   },
   {
    "duration": 21,
    "start_time": "2022-01-05T19:16:52.788Z"
   },
   {
    "duration": 31,
    "start_time": "2022-01-05T19:16:52.810Z"
   },
   {
    "duration": 24,
    "start_time": "2022-01-05T19:16:52.842Z"
   },
   {
    "duration": 24,
    "start_time": "2022-01-05T19:16:52.868Z"
   },
   {
    "duration": 23,
    "start_time": "2022-01-05T19:16:52.893Z"
   },
   {
    "duration": 29,
    "start_time": "2022-01-05T19:16:52.917Z"
   },
   {
    "duration": 17,
    "start_time": "2022-01-05T19:16:52.947Z"
   },
   {
    "duration": 17,
    "start_time": "2022-01-05T19:16:52.966Z"
   },
   {
    "duration": 24,
    "start_time": "2022-01-05T19:16:52.984Z"
   },
   {
    "duration": 23,
    "start_time": "2022-01-05T19:16:53.009Z"
   },
   {
    "duration": 247,
    "start_time": "2022-01-05T19:16:53.034Z"
   },
   {
    "duration": 6,
    "start_time": "2022-01-05T19:16:53.283Z"
   },
   {
    "duration": 21,
    "start_time": "2022-01-05T19:16:53.291Z"
   },
   {
    "duration": 34,
    "start_time": "2022-01-05T19:16:53.314Z"
   },
   {
    "duration": 310,
    "start_time": "2022-01-05T19:16:53.349Z"
   },
   {
    "duration": 7,
    "start_time": "2022-01-05T19:16:53.663Z"
   },
   {
    "duration": 25,
    "start_time": "2022-01-05T19:16:53.672Z"
   },
   {
    "duration": 496,
    "start_time": "2022-01-05T19:16:53.698Z"
   },
   {
    "duration": 14,
    "start_time": "2022-01-05T19:16:54.196Z"
   },
   {
    "duration": 396,
    "start_time": "2022-01-05T19:16:54.211Z"
   },
   {
    "duration": 4,
    "start_time": "2022-01-05T19:16:54.609Z"
   },
   {
    "duration": 359,
    "start_time": "2022-01-05T19:16:54.614Z"
   },
   {
    "duration": 5,
    "start_time": "2022-01-05T19:16:54.974Z"
   },
   {
    "duration": 2315,
    "start_time": "2022-01-05T19:16:54.981Z"
   },
   {
    "duration": 428,
    "start_time": "2022-01-05T19:16:57.298Z"
   },
   {
    "duration": 21,
    "start_time": "2022-01-05T19:16:57.728Z"
   },
   {
    "duration": 11,
    "start_time": "2022-01-05T19:16:57.751Z"
   },
   {
    "duration": 11,
    "start_time": "2022-01-05T19:16:57.763Z"
   },
   {
    "duration": 11,
    "start_time": "2022-01-05T19:16:57.775Z"
   },
   {
    "duration": 11,
    "start_time": "2022-01-05T19:16:57.788Z"
   },
   {
    "duration": 44,
    "start_time": "2022-01-05T19:16:57.801Z"
   },
   {
    "duration": 11,
    "start_time": "2022-01-05T19:16:57.847Z"
   },
   {
    "duration": 10,
    "start_time": "2022-01-05T19:16:57.860Z"
   },
   {
    "duration": 489,
    "start_time": "2022-01-05T19:16:57.872Z"
   },
   {
    "duration": 325,
    "start_time": "2022-01-05T19:16:58.362Z"
   },
   {
    "duration": -7448,
    "start_time": "2022-01-05T19:17:06.137Z"
   },
   {
    "duration": -7452,
    "start_time": "2022-01-05T19:17:06.142Z"
   },
   {
    "duration": -7455,
    "start_time": "2022-01-05T19:17:06.146Z"
   },
   {
    "duration": -7459,
    "start_time": "2022-01-05T19:17:06.150Z"
   },
   {
    "duration": -7462,
    "start_time": "2022-01-05T19:17:06.154Z"
   },
   {
    "duration": -7466,
    "start_time": "2022-01-05T19:17:06.159Z"
   },
   {
    "duration": -7470,
    "start_time": "2022-01-05T19:17:06.164Z"
   },
   {
    "duration": -7496,
    "start_time": "2022-01-05T19:17:06.191Z"
   },
   {
    "duration": -7500,
    "start_time": "2022-01-05T19:17:06.196Z"
   },
   {
    "duration": -7504,
    "start_time": "2022-01-05T19:17:06.200Z"
   },
   {
    "duration": 1120,
    "start_time": "2022-01-05T19:18:35.426Z"
   },
   {
    "duration": 55,
    "start_time": "2022-01-05T19:18:36.548Z"
   },
   {
    "duration": 10,
    "start_time": "2022-01-05T19:18:36.605Z"
   },
   {
    "duration": 37,
    "start_time": "2022-01-05T19:18:36.617Z"
   },
   {
    "duration": 12,
    "start_time": "2022-01-05T19:18:36.656Z"
   },
   {
    "duration": 9,
    "start_time": "2022-01-05T19:18:36.670Z"
   },
   {
    "duration": 4,
    "start_time": "2022-01-05T19:18:36.681Z"
   },
   {
    "duration": 5,
    "start_time": "2022-01-05T19:18:36.688Z"
   },
   {
    "duration": 5,
    "start_time": "2022-01-05T19:18:36.695Z"
   },
   {
    "duration": 5,
    "start_time": "2022-01-05T19:18:36.702Z"
   },
   {
    "duration": 37,
    "start_time": "2022-01-05T19:18:36.708Z"
   },
   {
    "duration": 10,
    "start_time": "2022-01-05T19:18:36.747Z"
   },
   {
    "duration": 15,
    "start_time": "2022-01-05T19:18:36.758Z"
   },
   {
    "duration": 14,
    "start_time": "2022-01-05T19:18:36.774Z"
   },
   {
    "duration": 13,
    "start_time": "2022-01-05T19:18:36.789Z"
   },
   {
    "duration": 37,
    "start_time": "2022-01-05T19:18:36.804Z"
   },
   {
    "duration": 13,
    "start_time": "2022-01-05T19:18:36.843Z"
   },
   {
    "duration": 302,
    "start_time": "2022-01-05T19:18:36.857Z"
   },
   {
    "duration": 7,
    "start_time": "2022-01-05T19:18:37.161Z"
   },
   {
    "duration": 24,
    "start_time": "2022-01-05T19:18:37.170Z"
   },
   {
    "duration": 27,
    "start_time": "2022-01-05T19:18:37.195Z"
   },
   {
    "duration": 348,
    "start_time": "2022-01-05T19:18:37.224Z"
   },
   {
    "duration": 9,
    "start_time": "2022-01-05T19:18:37.577Z"
   },
   {
    "duration": 15,
    "start_time": "2022-01-05T19:18:37.589Z"
   },
   {
    "duration": 451,
    "start_time": "2022-01-05T19:18:37.607Z"
   },
   {
    "duration": 17,
    "start_time": "2022-01-05T19:18:38.060Z"
   },
   {
    "duration": 354,
    "start_time": "2022-01-05T19:18:38.079Z"
   },
   {
    "duration": 9,
    "start_time": "2022-01-05T19:18:38.435Z"
   },
   {
    "duration": 363,
    "start_time": "2022-01-05T19:18:38.446Z"
   },
   {
    "duration": 6,
    "start_time": "2022-01-05T19:18:38.811Z"
   },
   {
    "duration": 3159,
    "start_time": "2022-01-05T19:18:38.819Z"
   },
   {
    "duration": 504,
    "start_time": "2022-01-05T19:18:41.980Z"
   },
   {
    "duration": 15,
    "start_time": "2022-01-05T19:18:42.486Z"
   },
   {
    "duration": 16,
    "start_time": "2022-01-05T19:18:42.502Z"
   },
   {
    "duration": 31,
    "start_time": "2022-01-05T19:18:42.520Z"
   },
   {
    "duration": 18,
    "start_time": "2022-01-05T19:18:42.552Z"
   },
   {
    "duration": 14,
    "start_time": "2022-01-05T19:18:42.571Z"
   },
   {
    "duration": 13,
    "start_time": "2022-01-05T19:18:42.587Z"
   },
   {
    "duration": 41,
    "start_time": "2022-01-05T19:18:42.601Z"
   },
   {
    "duration": 15,
    "start_time": "2022-01-05T19:18:42.644Z"
   },
   {
    "duration": 582,
    "start_time": "2022-01-05T19:18:42.661Z"
   },
   {
    "duration": 255,
    "start_time": "2022-01-05T19:18:43.245Z"
   },
   {
    "duration": 7,
    "start_time": "2022-01-05T19:18:43.502Z"
   },
   {
    "duration": 10,
    "start_time": "2022-01-05T19:18:43.511Z"
   },
   {
    "duration": 20,
    "start_time": "2022-01-05T19:18:43.523Z"
   },
   {
    "duration": 8,
    "start_time": "2022-01-05T19:18:43.545Z"
   },
   {
    "duration": 8,
    "start_time": "2022-01-05T19:18:43.554Z"
   },
   {
    "duration": 10,
    "start_time": "2022-01-05T19:18:43.564Z"
   },
   {
    "duration": 8,
    "start_time": "2022-01-05T19:18:43.575Z"
   },
   {
    "duration": 5,
    "start_time": "2022-01-05T19:18:43.584Z"
   },
   {
    "duration": 5,
    "start_time": "2022-01-05T19:18:43.591Z"
   },
   {
    "duration": 46,
    "start_time": "2022-01-05T19:18:43.597Z"
   },
   {
    "duration": 1122,
    "start_time": "2022-01-05T19:19:35.008Z"
   },
   {
    "duration": 52,
    "start_time": "2022-01-05T19:19:36.132Z"
   },
   {
    "duration": 9,
    "start_time": "2022-01-05T19:19:36.186Z"
   },
   {
    "duration": 28,
    "start_time": "2022-01-05T19:19:36.197Z"
   },
   {
    "duration": 19,
    "start_time": "2022-01-05T19:19:36.227Z"
   },
   {
    "duration": 15,
    "start_time": "2022-01-05T19:19:36.248Z"
   },
   {
    "duration": 4,
    "start_time": "2022-01-05T19:19:36.265Z"
   },
   {
    "duration": 7,
    "start_time": "2022-01-05T19:19:36.272Z"
   },
   {
    "duration": 13,
    "start_time": "2022-01-05T19:19:36.280Z"
   },
   {
    "duration": 22,
    "start_time": "2022-01-05T19:19:36.294Z"
   },
   {
    "duration": 14,
    "start_time": "2022-01-05T19:19:36.317Z"
   },
   {
    "duration": 15,
    "start_time": "2022-01-05T19:19:36.333Z"
   },
   {
    "duration": 14,
    "start_time": "2022-01-05T19:19:36.350Z"
   },
   {
    "duration": 12,
    "start_time": "2022-01-05T19:19:36.366Z"
   },
   {
    "duration": 12,
    "start_time": "2022-01-05T19:19:36.379Z"
   },
   {
    "duration": 12,
    "start_time": "2022-01-05T19:19:36.393Z"
   },
   {
    "duration": 16,
    "start_time": "2022-01-05T19:19:36.406Z"
   },
   {
    "duration": 281,
    "start_time": "2022-01-05T19:19:36.423Z"
   },
   {
    "duration": 7,
    "start_time": "2022-01-05T19:19:36.706Z"
   },
   {
    "duration": 26,
    "start_time": "2022-01-05T19:19:36.715Z"
   },
   {
    "duration": 9,
    "start_time": "2022-01-05T19:19:36.743Z"
   },
   {
    "duration": 334,
    "start_time": "2022-01-05T19:19:36.754Z"
   },
   {
    "duration": 8,
    "start_time": "2022-01-05T19:19:37.093Z"
   },
   {
    "duration": 17,
    "start_time": "2022-01-05T19:19:37.104Z"
   },
   {
    "duration": 439,
    "start_time": "2022-01-05T19:19:37.123Z"
   },
   {
    "duration": 15,
    "start_time": "2022-01-05T19:19:37.564Z"
   },
   {
    "duration": 334,
    "start_time": "2022-01-05T19:19:37.580Z"
   },
   {
    "duration": 5,
    "start_time": "2022-01-05T19:19:37.916Z"
   },
   {
    "duration": 363,
    "start_time": "2022-01-05T19:19:37.923Z"
   },
   {
    "duration": 5,
    "start_time": "2022-01-05T19:19:38.288Z"
   },
   {
    "duration": 2595,
    "start_time": "2022-01-05T19:19:38.295Z"
   },
   {
    "duration": 429,
    "start_time": "2022-01-05T19:19:40.892Z"
   },
   {
    "duration": 23,
    "start_time": "2022-01-05T19:19:41.323Z"
   },
   {
    "duration": 17,
    "start_time": "2022-01-05T19:19:41.348Z"
   },
   {
    "duration": 12,
    "start_time": "2022-01-05T19:19:41.367Z"
   },
   {
    "duration": 12,
    "start_time": "2022-01-05T19:19:41.381Z"
   },
   {
    "duration": 12,
    "start_time": "2022-01-05T19:19:41.395Z"
   },
   {
    "duration": 42,
    "start_time": "2022-01-05T19:19:41.409Z"
   },
   {
    "duration": 13,
    "start_time": "2022-01-05T19:19:41.453Z"
   },
   {
    "duration": 13,
    "start_time": "2022-01-05T19:19:41.468Z"
   },
   {
    "duration": 539,
    "start_time": "2022-01-05T19:19:41.482Z"
   },
   {
    "duration": 329,
    "start_time": "2022-01-05T19:19:42.023Z"
   },
   {
    "duration": 5,
    "start_time": "2022-01-05T19:19:42.354Z"
   },
   {
    "duration": 40,
    "start_time": "2022-01-05T19:19:42.361Z"
   },
   {
    "duration": 14,
    "start_time": "2022-01-05T19:19:42.403Z"
   },
   {
    "duration": 10,
    "start_time": "2022-01-05T19:19:42.419Z"
   },
   {
    "duration": 6,
    "start_time": "2022-01-05T19:19:42.430Z"
   },
   {
    "duration": 12,
    "start_time": "2022-01-05T19:19:42.438Z"
   },
   {
    "duration": 7,
    "start_time": "2022-01-05T19:19:42.452Z"
   },
   {
    "duration": 5,
    "start_time": "2022-01-05T19:19:42.461Z"
   },
   {
    "duration": 12,
    "start_time": "2022-01-05T19:19:42.467Z"
   },
   {
    "duration": 12,
    "start_time": "2022-01-05T19:19:42.480Z"
   },
   {
    "duration": 1006,
    "start_time": "2022-01-05T19:46:48.056Z"
   },
   {
    "duration": 51,
    "start_time": "2022-01-05T19:46:49.064Z"
   },
   {
    "duration": 10,
    "start_time": "2022-01-05T19:46:49.116Z"
   },
   {
    "duration": 29,
    "start_time": "2022-01-05T19:46:49.325Z"
   },
   {
    "duration": 12,
    "start_time": "2022-01-05T19:46:59.198Z"
   },
   {
    "duration": 11,
    "start_time": "2022-01-05T19:48:05.013Z"
   },
   {
    "duration": 4,
    "start_time": "2022-01-05T19:52:25.447Z"
   },
   {
    "duration": 263,
    "start_time": "2022-01-05T19:52:33.797Z"
   },
   {
    "duration": 178,
    "start_time": "2022-01-05T19:52:49.722Z"
   },
   {
    "duration": 5,
    "start_time": "2022-01-05T19:52:58.914Z"
   },
   {
    "duration": 5,
    "start_time": "2022-01-05T19:53:24.250Z"
   },
   {
    "duration": 5,
    "start_time": "2022-01-05T19:55:27.292Z"
   },
   {
    "duration": 258,
    "start_time": "2022-01-05T19:55:32.419Z"
   },
   {
    "duration": 10,
    "start_time": "2022-01-05T19:55:33.053Z"
   },
   {
    "duration": 3,
    "start_time": "2022-01-05T19:55:38.554Z"
   },
   {
    "duration": 45,
    "start_time": "2022-01-05T19:55:39.384Z"
   },
   {
    "duration": 11,
    "start_time": "2022-01-05T19:55:39.745Z"
   },
   {
    "duration": 33,
    "start_time": "2022-01-05T19:55:40.037Z"
   },
   {
    "duration": 12,
    "start_time": "2022-01-05T19:55:42.755Z"
   },
   {
    "duration": 7,
    "start_time": "2022-01-05T19:55:44.382Z"
   },
   {
    "duration": 6,
    "start_time": "2022-01-05T19:55:44.795Z"
   },
   {
    "duration": 4,
    "start_time": "2022-01-05T19:55:45.878Z"
   },
   {
    "duration": 5,
    "start_time": "2022-01-05T19:55:46.483Z"
   },
   {
    "duration": 6,
    "start_time": "2022-01-05T19:55:48.214Z"
   },
   {
    "duration": 5,
    "start_time": "2022-01-05T19:55:48.725Z"
   },
   {
    "duration": 4,
    "start_time": "2022-01-05T19:55:49.995Z"
   },
   {
    "duration": 5,
    "start_time": "2022-01-05T19:55:51.097Z"
   },
   {
    "duration": 10,
    "start_time": "2022-01-05T19:55:51.945Z"
   },
   {
    "duration": 19,
    "start_time": "2022-01-05T19:55:53.299Z"
   },
   {
    "duration": 13,
    "start_time": "2022-01-05T19:55:54.593Z"
   },
   {
    "duration": 13,
    "start_time": "2022-01-05T19:55:56.372Z"
   },
   {
    "duration": 6,
    "start_time": "2022-01-05T19:56:57.728Z"
   },
   {
    "duration": 13,
    "start_time": "2022-01-05T19:56:57.919Z"
   },
   {
    "duration": 272,
    "start_time": "2022-01-05T19:57:28.213Z"
   },
   {
    "duration": 7,
    "start_time": "2022-01-05T19:58:03.010Z"
   },
   {
    "duration": 13,
    "start_time": "2022-01-05T19:58:03.312Z"
   },
   {
    "duration": 9,
    "start_time": "2022-01-05T19:58:04.962Z"
   },
   {
    "duration": 346,
    "start_time": "2022-01-05T19:58:19.590Z"
   },
   {
    "duration": 8,
    "start_time": "2022-01-05T19:59:07.268Z"
   },
   {
    "duration": 14,
    "start_time": "2022-01-05T19:59:07.699Z"
   },
   {
    "duration": 445,
    "start_time": "2022-01-05T19:59:58.476Z"
   },
   {
    "duration": 16,
    "start_time": "2022-01-05T20:00:08.854Z"
   },
   {
    "duration": 395,
    "start_time": "2022-01-05T20:00:09.869Z"
   },
   {
    "duration": 5,
    "start_time": "2022-01-05T20:00:10.773Z"
   },
   {
    "duration": 378,
    "start_time": "2022-01-05T20:00:11.585Z"
   },
   {
    "duration": 6,
    "start_time": "2022-01-05T20:00:12.448Z"
   },
   {
    "duration": 22,
    "start_time": "2022-01-05T20:01:06.242Z"
   },
   {
    "duration": 2831,
    "start_time": "2022-01-05T20:04:01.596Z"
   },
   {
    "duration": 473,
    "start_time": "2022-01-05T20:04:26.545Z"
   },
   {
    "duration": 15,
    "start_time": "2022-01-05T20:05:50.653Z"
   },
   {
    "duration": 15,
    "start_time": "2022-01-05T20:05:59.151Z"
   },
   {
    "duration": 14,
    "start_time": "2022-01-05T20:06:55.447Z"
   },
   {
    "duration": 15,
    "start_time": "2022-01-05T20:06:57.438Z"
   },
   {
    "duration": 13,
    "start_time": "2022-01-05T20:07:04.079Z"
   },
   {
    "duration": 14,
    "start_time": "2022-01-05T20:07:06.733Z"
   },
   {
    "duration": 14,
    "start_time": "2022-01-05T20:07:18.655Z"
   },
   {
    "duration": 14,
    "start_time": "2022-01-05T20:07:22.814Z"
   },
   {
    "duration": 552,
    "start_time": "2022-01-05T20:07:27.121Z"
   },
   {
    "duration": 302,
    "start_time": "2022-01-05T20:07:47.766Z"
   },
   {
    "duration": 6,
    "start_time": "2022-01-05T20:14:09.814Z"
   },
   {
    "duration": 5,
    "start_time": "2022-01-05T20:14:10.401Z"
   },
   {
    "duration": 5,
    "start_time": "2022-01-05T20:14:12.517Z"
   },
   {
    "duration": 5,
    "start_time": "2022-01-05T20:14:12.753Z"
   },
   {
    "duration": 6,
    "start_time": "2022-01-05T20:14:24.205Z"
   },
   {
    "duration": 6,
    "start_time": "2022-01-05T20:14:40.061Z"
   },
   {
    "duration": 5,
    "start_time": "2022-01-05T20:14:40.447Z"
   },
   {
    "duration": 5,
    "start_time": "2022-01-05T20:14:42.522Z"
   },
   {
    "duration": 4,
    "start_time": "2022-01-05T20:14:42.928Z"
   },
   {
    "duration": 6,
    "start_time": "2022-01-05T20:14:45.364Z"
   },
   {
    "duration": 4,
    "start_time": "2022-01-05T20:23:25.164Z"
   },
   {
    "duration": 4,
    "start_time": "2022-01-05T20:23:34.793Z"
   }
  ],
  "kernelspec": {
   "display_name": "Python 3 (ipykernel)",
   "language": "python",
   "name": "python3"
  },
  "language_info": {
   "codemirror_mode": {
    "name": "ipython",
    "version": 3
   },
   "file_extension": ".py",
   "mimetype": "text/x-python",
   "name": "python",
   "nbconvert_exporter": "python",
   "pygments_lexer": "ipython3",
   "version": "3.9.5"
  },
  "toc": {
   "base_numbering": 1,
   "nav_menu": {},
   "number_sections": true,
   "sideBar": true,
   "skip_h1_title": true,
   "title_cell": "Table of Contents",
   "title_sidebar": "Contents",
   "toc_cell": false,
   "toc_position": {
    "height": "calc(100% - 180px)",
    "left": "10px",
    "top": "150px",
    "width": "315.014px"
   },
   "toc_section_display": true,
   "toc_window_display": true
  }
 },
 "nbformat": 4,
 "nbformat_minor": 2
}
