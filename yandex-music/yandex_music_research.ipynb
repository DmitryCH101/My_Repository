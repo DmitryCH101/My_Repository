{
 "cells": [
  {
   "cell_type": "markdown",
   "metadata": {
    "id": "E0vqbgi9ay0H"
   },
   "source": [
    "# Яндекс.Музыка"
   ]
  },
  {
   "cell_type": "markdown",
   "metadata": {
    "id": "VUC88oWjTJw2"
   },
   "source": [
    "На данных Яндекс.Музыки мы сравним поведение пользователей в приложении Яндекс.Музыка.\n",
    "\n",
    "**Цель исследования** — проверить три гипотезы:\n",
    "1. Активность пользователей зависит от дня недели. Причём в Москве и Петербурге это проявляется по-разному.\n",
    "2. В понедельник утром в Москве преобладают одни жанры, а в Петербурге — другие. Так же и вечером пятницы преобладают разные жанры — в зависимости от города. \n",
    "3. Москва и Петербург предпочитают разные жанры музыки. В Москве чаще слушают поп-музыку, в Петербурге — русский рэп.\n",
    "\n",
    "**Ход исследования**\n",
    "\n",
    "Данные о поведении пользователей мы получили из файла `yandex_music_project.csv`. \n",
    "\n",
    "Нужно проверить данные на ошибки и оценить их влияние на исследование. Затем, на этапе предобработки мы поищем возможность исправить самые критичные ошибки данных.\n",
    " \n",
    "Таким образом, исследование пройдёт в три этапа:\n",
    " 1. Обзор данных.\n",
    " 2. Предобработка данных.\n",
    " 3. Проверка гипотез.\n",
    "\n"
   ]
  },
  {
   "cell_type": "markdown",
   "metadata": {
    "id": "Ml1hmfXC_Zcs"
   },
   "source": [
    "## Обзор данных\n",
    "\n",
    "Составим первое представление о данных.\n",
    "\n",
    "\n"
   ]
  },
  {
   "cell_type": "code",
   "execution_count": 3,
   "metadata": {
    "id": "AXN7PHPN_Zcs"
   },
   "outputs": [],
   "source": [
    "import pandas as pd # импорт библиотеки pandas"
   ]
  },
  {
   "cell_type": "code",
   "execution_count": 4,
   "metadata": {
    "id": "fFVu7vqh_Zct"
   },
   "outputs": [],
   "source": [
    "df = pd.read_csv('/datasets/yandex_music_project.csv') # чтение файла с данными и сохранение в df"
   ]
  },
  {
   "cell_type": "code",
   "execution_count": 5,
   "metadata": {
    "id": "oWTVX3gW_Zct",
    "scrolled": true
   },
   "outputs": [
    {
     "data": {
      "text/html": [
       "<div>\n",
       "<style scoped>\n",
       "    .dataframe tbody tr th:only-of-type {\n",
       "        vertical-align: middle;\n",
       "    }\n",
       "\n",
       "    .dataframe tbody tr th {\n",
       "        vertical-align: top;\n",
       "    }\n",
       "\n",
       "    .dataframe thead th {\n",
       "        text-align: right;\n",
       "    }\n",
       "</style>\n",
       "<table border=\"1\" class=\"dataframe\">\n",
       "  <thead>\n",
       "    <tr style=\"text-align: right;\">\n",
       "      <th></th>\n",
       "      <th>userID</th>\n",
       "      <th>Track</th>\n",
       "      <th>artist</th>\n",
       "      <th>genre</th>\n",
       "      <th>City</th>\n",
       "      <th>time</th>\n",
       "      <th>Day</th>\n",
       "    </tr>\n",
       "  </thead>\n",
       "  <tbody>\n",
       "    <tr>\n",
       "      <td>0</td>\n",
       "      <td>FFB692EC</td>\n",
       "      <td>Kamigata To Boots</td>\n",
       "      <td>The Mass Missile</td>\n",
       "      <td>rock</td>\n",
       "      <td>Saint-Petersburg</td>\n",
       "      <td>20:28:33</td>\n",
       "      <td>Wednesday</td>\n",
       "    </tr>\n",
       "    <tr>\n",
       "      <td>1</td>\n",
       "      <td>55204538</td>\n",
       "      <td>Delayed Because of Accident</td>\n",
       "      <td>Andreas Rönnberg</td>\n",
       "      <td>rock</td>\n",
       "      <td>Moscow</td>\n",
       "      <td>14:07:09</td>\n",
       "      <td>Friday</td>\n",
       "    </tr>\n",
       "    <tr>\n",
       "      <td>2</td>\n",
       "      <td>20EC38</td>\n",
       "      <td>Funiculì funiculà</td>\n",
       "      <td>Mario Lanza</td>\n",
       "      <td>pop</td>\n",
       "      <td>Saint-Petersburg</td>\n",
       "      <td>20:58:07</td>\n",
       "      <td>Wednesday</td>\n",
       "    </tr>\n",
       "    <tr>\n",
       "      <td>3</td>\n",
       "      <td>A3DD03C9</td>\n",
       "      <td>Dragons in the Sunset</td>\n",
       "      <td>Fire + Ice</td>\n",
       "      <td>folk</td>\n",
       "      <td>Saint-Petersburg</td>\n",
       "      <td>08:37:09</td>\n",
       "      <td>Monday</td>\n",
       "    </tr>\n",
       "    <tr>\n",
       "      <td>4</td>\n",
       "      <td>E2DC1FAE</td>\n",
       "      <td>Soul People</td>\n",
       "      <td>Space Echo</td>\n",
       "      <td>dance</td>\n",
       "      <td>Moscow</td>\n",
       "      <td>08:34:34</td>\n",
       "      <td>Monday</td>\n",
       "    </tr>\n",
       "    <tr>\n",
       "      <td>5</td>\n",
       "      <td>842029A1</td>\n",
       "      <td>Преданная</td>\n",
       "      <td>IMPERVTOR</td>\n",
       "      <td>rusrap</td>\n",
       "      <td>Saint-Petersburg</td>\n",
       "      <td>13:09:41</td>\n",
       "      <td>Friday</td>\n",
       "    </tr>\n",
       "    <tr>\n",
       "      <td>6</td>\n",
       "      <td>4CB90AA5</td>\n",
       "      <td>True</td>\n",
       "      <td>Roman Messer</td>\n",
       "      <td>dance</td>\n",
       "      <td>Moscow</td>\n",
       "      <td>13:00:07</td>\n",
       "      <td>Wednesday</td>\n",
       "    </tr>\n",
       "    <tr>\n",
       "      <td>7</td>\n",
       "      <td>F03E1C1F</td>\n",
       "      <td>Feeling This Way</td>\n",
       "      <td>Polina Griffith</td>\n",
       "      <td>dance</td>\n",
       "      <td>Moscow</td>\n",
       "      <td>20:47:49</td>\n",
       "      <td>Wednesday</td>\n",
       "    </tr>\n",
       "    <tr>\n",
       "      <td>8</td>\n",
       "      <td>8FA1D3BE</td>\n",
       "      <td>И вновь продолжается бой</td>\n",
       "      <td>NaN</td>\n",
       "      <td>ruspop</td>\n",
       "      <td>Moscow</td>\n",
       "      <td>09:17:40</td>\n",
       "      <td>Friday</td>\n",
       "    </tr>\n",
       "    <tr>\n",
       "      <td>9</td>\n",
       "      <td>E772D5C0</td>\n",
       "      <td>Pessimist</td>\n",
       "      <td>NaN</td>\n",
       "      <td>dance</td>\n",
       "      <td>Saint-Petersburg</td>\n",
       "      <td>21:20:49</td>\n",
       "      <td>Wednesday</td>\n",
       "    </tr>\n",
       "  </tbody>\n",
       "</table>\n",
       "</div>"
      ],
      "text/plain": [
       "     userID                        Track            artist   genre  \\\n",
       "0  FFB692EC            Kamigata To Boots  The Mass Missile    rock   \n",
       "1  55204538  Delayed Because of Accident  Andreas Rönnberg    rock   \n",
       "2    20EC38            Funiculì funiculà       Mario Lanza     pop   \n",
       "3  A3DD03C9        Dragons in the Sunset        Fire + Ice    folk   \n",
       "4  E2DC1FAE                  Soul People        Space Echo   dance   \n",
       "5  842029A1                    Преданная         IMPERVTOR  rusrap   \n",
       "6  4CB90AA5                         True      Roman Messer   dance   \n",
       "7  F03E1C1F             Feeling This Way   Polina Griffith   dance   \n",
       "8  8FA1D3BE     И вновь продолжается бой               NaN  ruspop   \n",
       "9  E772D5C0                    Pessimist               NaN   dance   \n",
       "\n",
       "             City        time        Day  \n",
       "0  Saint-Petersburg  20:28:33  Wednesday  \n",
       "1            Moscow  14:07:09     Friday  \n",
       "2  Saint-Petersburg  20:58:07  Wednesday  \n",
       "3  Saint-Petersburg  08:37:09     Monday  \n",
       "4            Moscow  08:34:34     Monday  \n",
       "5  Saint-Petersburg  13:09:41     Friday  \n",
       "6            Moscow  13:00:07  Wednesday  \n",
       "7            Moscow  20:47:49  Wednesday  \n",
       "8            Moscow  09:17:40     Friday  \n",
       "9  Saint-Petersburg  21:20:49  Wednesday  "
      ]
     },
     "execution_count": 5,
     "metadata": {},
     "output_type": "execute_result"
    }
   ],
   "source": [
    "df.head(10) # получение первых 10 строк таблицы df"
   ]
  },
  {
   "cell_type": "markdown",
   "metadata": {
    "id": "EO73Kwic_Zct"
   },
   "source": [
    "Одной командой получим общую информацию о таблице:"
   ]
  },
  {
   "cell_type": "code",
   "execution_count": 6,
   "metadata": {
    "id": "DSf2kIb-_Zct"
   },
   "outputs": [
    {
     "name": "stdout",
     "output_type": "stream",
     "text": [
      "<class 'pandas.core.frame.DataFrame'>\n",
      "RangeIndex: 65079 entries, 0 to 65078\n",
      "Data columns (total 7 columns):\n",
      "  userID    65079 non-null object\n",
      "Track       63848 non-null object\n",
      "artist      57876 non-null object\n",
      "genre       63881 non-null object\n",
      "  City      65079 non-null object\n",
      "time        65079 non-null object\n",
      "Day         65079 non-null object\n",
      "dtypes: object(7)\n",
      "memory usage: 3.5+ MB\n"
     ]
    }
   ],
   "source": [
    "df.info() # получение общей информации о данных в таблице df"
   ]
  },
  {
   "cell_type": "markdown",
   "metadata": {
    "id": "TaQ2Iwbr_Zct"
   },
   "source": [
    "Итак, в таблице семь столбцов. Тип данных во всех столбцах — `object`.\n",
    "\n",
    "Согласно документации к данным:\n",
    "* `userID` — идентификатор пользователя;\n",
    "* `Track` — название трека;  \n",
    "* `artist` — имя исполнителя;\n",
    "* `genre` — название жанра;\n",
    "* `City` — город пользователя;\n",
    "* `time` — время начала прослушивания;\n",
    "* `Day` — день недели.\n",
    "\n",
    "В названиях колонок видны три нарушения стиля:\n",
    "1. Строчные буквы сочетаются с прописными.\n",
    "2. Встречаются пробелы.\n",
    "3. Некоторые названия столбцов не соответствуют \"хорошему стилю\".\n",
    "\n",
    "\n",
    "\n",
    "Количество значений в столбцах различается. Значит, в данных есть пропущенные значения.\n"
   ]
  },
  {
   "cell_type": "markdown",
   "metadata": {
    "id": "MCB6-dXG_Zct"
   },
   "source": [
    "**Выводы**\n",
    "\n",
    "В каждой строке таблицы — данные о прослушанном треке. Часть колонок описывает саму композицию: название, исполнителя и жанр. Остальные данные рассказывают о пользователе: из какого он города, когда он слушал музыку. \n",
    "\n",
    "Предварительно можно утверждать, что, данных достаточно для проверки гипотез. Но встречаются пропуски в данных, а в названиях колонок — расхождения с хорошим стилем.\n",
    "\n",
    "Чтобы двигаться дальше, нужно устранить проблемы в данных."
   ]
  },
  {
   "cell_type": "markdown",
   "metadata": {
    "id": "SjYF6Ub9_Zct"
   },
   "source": [
    "## Предобработка данных\n",
    "Исправим стиль в заголовках столбцов, исключите пропуски. Затем проверим данные на дубликаты."
   ]
  },
  {
   "cell_type": "markdown",
   "metadata": {
    "id": "dIaKXr29_Zct"
   },
   "source": [
    "### Стиль заголовков\n",
    "Выведем на экран названия столбцов:"
   ]
  },
  {
   "cell_type": "code",
   "execution_count": 7,
   "metadata": {
    "id": "oKOTdF_Q_Zct"
   },
   "outputs": [
    {
     "data": {
      "text/plain": [
       "Index(['  userID', 'Track', 'artist', 'genre', '  City  ', 'time', 'Day'], dtype='object')"
      ]
     },
     "execution_count": 7,
     "metadata": {},
     "output_type": "execute_result"
    }
   ],
   "source": [
    "df.columns # перечень названий столбцов таблицы df"
   ]
  },
  {
   "cell_type": "markdown",
   "metadata": {
    "id": "zj5534cv_Zct"
   },
   "source": [
    "Приведем названия в соответствие с хорошим стилем:\n",
    "* названия запишем в «змеином_регистре»,\n",
    "* все символы сделаем строчными,\n",
    "* устраним пробелы.\n",
    "\n",
    "Для этого переименуем колонки так:\n",
    "* `'  userID'` → `'user_id'`;\n",
    "* `'Track'` → `'track'`;\n",
    "* `'  City  '` → `'city'`;\n",
    "* `'Day'` → `'day'`."
   ]
  },
  {
   "cell_type": "code",
   "execution_count": 8,
   "metadata": {
    "id": "ISlFqs5y_Zct"
   },
   "outputs": [],
   "source": [
    "df = df.rename(columns={'  userID': 'user_id', 'Track': 'track', '  City  ': 'city', 'Day': 'day'}) # переименование столбцов"
   ]
  },
  {
   "cell_type": "markdown",
   "metadata": {
    "id": "1dqbh00J_Zct"
   },
   "source": [
    "Проверим результат. Для этого ещё раз выведем на экран названия столбцов:"
   ]
  },
  {
   "cell_type": "code",
   "execution_count": 9,
   "metadata": {
    "id": "d4NOAmTW_Zct"
   },
   "outputs": [
    {
     "data": {
      "text/plain": [
       "Index(['user_id', 'track', 'artist', 'genre', 'city', 'time', 'day'], dtype='object')"
      ]
     },
     "execution_count": 9,
     "metadata": {},
     "output_type": "execute_result"
    }
   ],
   "source": [
    "df.columns # проверка результатов"
   ]
  },
  {
   "cell_type": "markdown",
   "metadata": {
    "id": "5ISfbcfY_Zct"
   },
   "source": [
    "### Пропуски значений\n",
    "Сначала посчитаем, сколько в таблице пропущенных значений. Для этого достаточно двух методов `pandas`:"
   ]
  },
  {
   "cell_type": "code",
   "execution_count": 10,
   "metadata": {
    "id": "RskX29qr_Zct"
   },
   "outputs": [
    {
     "data": {
      "text/plain": [
       "user_id       0\n",
       "track      1231\n",
       "artist     7203\n",
       "genre      1198\n",
       "city          0\n",
       "time          0\n",
       "day           0\n",
       "dtype: int64"
      ]
     },
     "execution_count": 10,
     "metadata": {},
     "output_type": "execute_result"
    }
   ],
   "source": [
    "df.isna().sum() # подсчёт пропусков"
   ]
  },
  {
   "cell_type": "markdown",
   "metadata": {
    "id": "qubhgnlO_Zct"
   },
   "source": [
    "Не все пропущенные значения влияют на исследование. Так в `track` и `artist` пропуски не важны для вашей работы. Достаточно заменить их явными обозначениями.\n",
    "\n",
    "Но пропуски в `genre` могут помешать сравнению музыкальных вкусов в Москве и Санкт-Петербурге. Придётся:\n",
    "* заполнить и эти пропуски явными обозначениями,\n",
    "* оценить, насколько они повредят расчётам. "
   ]
  },
  {
   "cell_type": "markdown",
   "metadata": {
    "id": "fSv2laPA_Zct"
   },
   "source": [
    "Заменим пропущенные значения в столбцах `track`, `artist` и `genre` на строку `'unknown'`. Для этого создадим список со столбцами `columns_to_replace` и для каждого столбца выполним замену пропущенных значений:"
   ]
  },
  {
   "cell_type": "code",
   "execution_count": 11,
   "metadata": {
    "id": "KplB5qWs_Zct",
    "scrolled": true
   },
   "outputs": [],
   "source": [
    "columns_to_replace = ['track', 'artist', 'genre']\n",
    "for column in columns_to_replace: # перебор названий столбцов в цикле и замена пропущенных значений на 'unknown'\n",
    "    df[column] = df[column].fillna('unknown')"
   ]
  },
  {
   "cell_type": "markdown",
   "metadata": {
    "id": "Ilsm-MZo_Zct"
   },
   "source": [
    "Убедимся, что в таблице не осталось пропусков. Для этого ещё раз посчитаем пропущенные значения."
   ]
  },
  {
   "cell_type": "code",
   "execution_count": 12,
   "metadata": {
    "id": "Tq4nYRX4_Zct"
   },
   "outputs": [
    {
     "data": {
      "text/plain": [
       "user_id    0\n",
       "track      0\n",
       "artist     0\n",
       "genre      0\n",
       "city       0\n",
       "time       0\n",
       "day        0\n",
       "dtype: int64"
      ]
     },
     "execution_count": 12,
     "metadata": {},
     "output_type": "execute_result"
    }
   ],
   "source": [
    "df.isna().sum() # подсчёт пропусков"
   ]
  },
  {
   "cell_type": "markdown",
   "metadata": {
    "id": "BWKRtBJ3_Zct"
   },
   "source": [
    "### Дубликаты\n",
    "Посчитаем явные дубликаты в таблице одной командой:"
   ]
  },
  {
   "cell_type": "code",
   "execution_count": 13,
   "metadata": {
    "id": "36eES_S0_Zct"
   },
   "outputs": [
    {
     "data": {
      "text/plain": [
       "3826"
      ]
     },
     "execution_count": 13,
     "metadata": {},
     "output_type": "execute_result"
    }
   ],
   "source": [
    "df.duplicated().sum() # подсчёт явных дубликатов"
   ]
  },
  {
   "cell_type": "code",
   "execution_count": 122,
   "metadata": {},
   "outputs": [
    {
     "name": "stdout",
     "output_type": "stream",
     "text": [
      "Количество дубликатов: 0\n"
     ]
    }
   ],
   "source": [
    "print(\"Количество дубликатов: {}\".format(df.duplicated().sum()))"
   ]
  },
  {
   "cell_type": "markdown",
   "metadata": {
    "id": "Ot25h6XR_Zct"
   },
   "source": [
    "Вызовем специальный метод `pandas`, чтобы удалить явные дубликаты:"
   ]
  },
  {
   "cell_type": "code",
   "execution_count": 14,
   "metadata": {
    "id": "exFHq6tt_Zct"
   },
   "outputs": [],
   "source": [
    "df = df.drop_duplicates().reset_index(drop=True) # удаление явных дубликатов (с удалением старых индексов и формированием новых)"
   ]
  },
  {
   "cell_type": "markdown",
   "metadata": {
    "id": "Im2YwBEG_Zct"
   },
   "source": [
    "Ещё раз посчитаем явные дубликаты в таблице — убедимся, что полностью от них избавились:"
   ]
  },
  {
   "cell_type": "code",
   "execution_count": 15,
   "metadata": {
    "id": "-8PuNWQ0_Zct"
   },
   "outputs": [
    {
     "data": {
      "text/plain": [
       "0"
      ]
     },
     "execution_count": 15,
     "metadata": {},
     "output_type": "execute_result"
    }
   ],
   "source": [
    "df.duplicated().sum() # проверка на отсутствие дубликатов"
   ]
  },
  {
   "cell_type": "markdown",
   "metadata": {
    "id": "QlFBsxAr_Zct"
   },
   "source": [
    "Теперь избавимся от неявных дубликатов в колонке `genre`. Например, название одного и того же жанра может быть записано немного по-разному. Такие ошибки тоже повлияют на результат исследования."
   ]
  },
  {
   "cell_type": "markdown",
   "metadata": {
    "id": "eSjWwsOh_Zct"
   },
   "source": [
    "Выведем на экран список уникальных названий жанров, отсортированный в алфавитном порядке. Для этого:\n",
    "* извлечем нужный столбец датафрейма, \n",
    "* применим к нему метод сортировки,\n",
    "* для отсортированного столбца вызовем метод, который вернёт уникальные значения из столбца."
   ]
  },
  {
   "cell_type": "code",
   "execution_count": 16,
   "metadata": {
    "id": "JIUcqzZN_Zct"
   },
   "outputs": [
    {
     "data": {
      "text/plain": [
       "array(['acid', 'acoustic', 'action', 'adult', 'africa', 'afrikaans',\n",
       "       'alternative', 'alternativepunk', 'ambient', 'americana',\n",
       "       'animated', 'anime', 'arabesk', 'arabic', 'arena',\n",
       "       'argentinetango', 'art', 'audiobook', 'author', 'avantgarde',\n",
       "       'axé', 'baile', 'balkan', 'beats', 'bigroom', 'black', 'bluegrass',\n",
       "       'blues', 'bollywood', 'bossa', 'brazilian', 'breakbeat', 'breaks',\n",
       "       'broadway', 'cantautori', 'cantopop', 'canzone', 'caribbean',\n",
       "       'caucasian', 'celtic', 'chamber', 'chanson', 'children', 'chill',\n",
       "       'chinese', 'choral', 'christian', 'christmas', 'classical',\n",
       "       'classicmetal', 'club', 'colombian', 'comedy', 'conjazz',\n",
       "       'contemporary', 'country', 'cuban', 'dance', 'dancehall',\n",
       "       'dancepop', 'dark', 'death', 'deep', 'deutschrock', 'deutschspr',\n",
       "       'dirty', 'disco', 'dnb', 'documentary', 'downbeat', 'downtempo',\n",
       "       'drum', 'dub', 'dubstep', 'eastern', 'easy', 'electronic',\n",
       "       'electropop', 'emo', 'entehno', 'epicmetal', 'estrada', 'ethnic',\n",
       "       'eurofolk', 'european', 'experimental', 'extrememetal', 'fado',\n",
       "       'fairytail', 'film', 'fitness', 'flamenco', 'folk', 'folklore',\n",
       "       'folkmetal', 'folkrock', 'folktronica', 'forró', 'frankreich',\n",
       "       'französisch', 'french', 'funk', 'future', 'gangsta', 'garage',\n",
       "       'german', 'ghazal', 'gitarre', 'glitch', 'gospel', 'gothic',\n",
       "       'grime', 'grunge', 'gypsy', 'handsup', \"hard'n'heavy\", 'hardcore',\n",
       "       'hardstyle', 'hardtechno', 'hip', 'hip-hop', 'hiphop',\n",
       "       'historisch', 'holiday', 'hop', 'horror', 'house', 'hymn', 'idm',\n",
       "       'independent', 'indian', 'indie', 'indipop', 'industrial',\n",
       "       'inspirational', 'instrumental', 'international', 'irish', 'jam',\n",
       "       'japanese', 'jazz', 'jewish', 'jpop', 'jungle', 'k-pop',\n",
       "       'karadeniz', 'karaoke', 'kayokyoku', 'korean', 'laiko', 'latin',\n",
       "       'latino', 'leftfield', 'local', 'lounge', 'loungeelectronic',\n",
       "       'lovers', 'malaysian', 'mandopop', 'marschmusik', 'meditative',\n",
       "       'mediterranean', 'melodic', 'metal', 'metalcore', 'mexican',\n",
       "       'middle', 'minimal', 'miscellaneous', 'modern', 'mood', 'mpb',\n",
       "       'muslim', 'native', 'neoklassik', 'neue', 'new', 'newage',\n",
       "       'newwave', 'nu', 'nujazz', 'numetal', 'oceania', 'old', 'opera',\n",
       "       'orchestral', 'other', 'piano', 'podcasts', 'pop', 'popdance',\n",
       "       'popelectronic', 'popeurodance', 'poprussian', 'post',\n",
       "       'posthardcore', 'postrock', 'power', 'progmetal', 'progressive',\n",
       "       'psychedelic', 'punjabi', 'punk', 'quebecois', 'ragga', 'ram',\n",
       "       'rancheras', 'rap', 'rave', 'reggae', 'reggaeton', 'regional',\n",
       "       'relax', 'religious', 'retro', 'rhythm', 'rnb', 'rnr', 'rock',\n",
       "       'rockabilly', 'rockalternative', 'rockindie', 'rockother',\n",
       "       'romance', 'roots', 'ruspop', 'rusrap', 'rusrock', 'russian',\n",
       "       'salsa', 'samba', 'scenic', 'schlager', 'self', 'sertanejo',\n",
       "       'shanson', 'shoegazing', 'showtunes', 'singer', 'ska', 'skarock',\n",
       "       'slow', 'smooth', 'soft', 'soul', 'soulful', 'sound', 'soundtrack',\n",
       "       'southern', 'specialty', 'speech', 'spiritual', 'sport',\n",
       "       'stonerrock', 'surf', 'swing', 'synthpop', 'synthrock',\n",
       "       'sängerportrait', 'tango', 'tanzorchester', 'taraftar', 'tatar',\n",
       "       'tech', 'techno', 'teen', 'thrash', 'top', 'traditional',\n",
       "       'tradjazz', 'trance', 'tribal', 'trip', 'triphop', 'tropical',\n",
       "       'türk', 'türkçe', 'ukrrock', 'unknown', 'urban', 'uzbek',\n",
       "       'variété', 'vi', 'videogame', 'vocal', 'western', 'world',\n",
       "       'worldbeat', 'ïîï', 'электроника'], dtype=object)"
      ]
     },
     "execution_count": 16,
     "metadata": {},
     "output_type": "execute_result"
    }
   ],
   "source": [
    "df['genre'].sort_values().unique() # Просмотр всех уникальных названий жанров"
   ]
  },
  {
   "cell_type": "markdown",
   "metadata": {
    "id": "qej-Qmuo_Zct"
   },
   "source": [
    "Просмотрим список и найдем неявные дубликаты названия `hiphop`. Это могут быть названия с ошибками или альтернативные названия того же жанра.\n",
    "\n",
    "Можно увидеть следующие неявные дубликаты:\n",
    "* *hip*,\n",
    "* *hop*,\n",
    "* *hip-hop*.\n",
    "\n",
    "Чтобы очистить от них таблицу, напишем функцию `replace_wrong_genres()` с двумя параметрами: \n",
    "* `wrong_genres` — список дубликатов,\n",
    "* `correct_genre` — строка с правильным значением.\n",
    "\n",
    "Функция должна исправить колонку `genre` в таблице `df`: заменить каждое значение из списка `wrong_genres` на значение из `correct_genre`."
   ]
  },
  {
   "cell_type": "code",
   "execution_count": 17,
   "metadata": {
    "id": "ErNDkmns_Zct"
   },
   "outputs": [],
   "source": [
    "def replace_wrong_genres(wrong_genres, correct_genre): \n",
    "    for wrong_genre in wrong_genres: # перебираем неправильные имена\n",
    "        df['genre'] = df['genre'].replace(wrong_genre, correct_genre)\n",
    "\n",
    "wrong_genres = ['hip', 'hop', 'hip-hop'] # список неправильных имён\n",
    "correct_genre = 'hiphop' # правильное имя"
   ]
  },
  {
   "cell_type": "markdown",
   "metadata": {
    "id": "aDoBJxbA_Zct"
   },
   "source": [
    "Вызовем `replace_wrong_genres()` и передадим ей такие аргументы, чтобы она устранила неявные дубликаты: вместо `hip`, `hop` и `hip-hop` в таблице должно быть значение `hiphop`:"
   ]
  },
  {
   "cell_type": "code",
   "execution_count": 18,
   "metadata": {
    "id": "YN5i2hpmSo09",
    "scrolled": true
   },
   "outputs": [],
   "source": [
    "replace_wrong_genres(wrong_genres, correct_genre) # Устранение неявных дубликатов"
   ]
  },
  {
   "cell_type": "markdown",
   "metadata": {
    "id": "zQKF16_RG15m"
   },
   "source": [
    "Провер, что заменили неправильные названия. Выведите отсортированный список уникальных значений столбца `genre`:"
   ]
  },
  {
   "cell_type": "code",
   "execution_count": 19,
   "metadata": {
    "id": "wvixALnFG15m",
    "scrolled": false
   },
   "outputs": [
    {
     "data": {
      "text/plain": [
       "array(['acid', 'acoustic', 'action', 'adult', 'africa', 'afrikaans',\n",
       "       'alternative', 'alternativepunk', 'ambient', 'americana',\n",
       "       'animated', 'anime', 'arabesk', 'arabic', 'arena',\n",
       "       'argentinetango', 'art', 'audiobook', 'author', 'avantgarde',\n",
       "       'axé', 'baile', 'balkan', 'beats', 'bigroom', 'black', 'bluegrass',\n",
       "       'blues', 'bollywood', 'bossa', 'brazilian', 'breakbeat', 'breaks',\n",
       "       'broadway', 'cantautori', 'cantopop', 'canzone', 'caribbean',\n",
       "       'caucasian', 'celtic', 'chamber', 'chanson', 'children', 'chill',\n",
       "       'chinese', 'choral', 'christian', 'christmas', 'classical',\n",
       "       'classicmetal', 'club', 'colombian', 'comedy', 'conjazz',\n",
       "       'contemporary', 'country', 'cuban', 'dance', 'dancehall',\n",
       "       'dancepop', 'dark', 'death', 'deep', 'deutschrock', 'deutschspr',\n",
       "       'dirty', 'disco', 'dnb', 'documentary', 'downbeat', 'downtempo',\n",
       "       'drum', 'dub', 'dubstep', 'eastern', 'easy', 'electronic',\n",
       "       'electropop', 'emo', 'entehno', 'epicmetal', 'estrada', 'ethnic',\n",
       "       'eurofolk', 'european', 'experimental', 'extrememetal', 'fado',\n",
       "       'fairytail', 'film', 'fitness', 'flamenco', 'folk', 'folklore',\n",
       "       'folkmetal', 'folkrock', 'folktronica', 'forró', 'frankreich',\n",
       "       'französisch', 'french', 'funk', 'future', 'gangsta', 'garage',\n",
       "       'german', 'ghazal', 'gitarre', 'glitch', 'gospel', 'gothic',\n",
       "       'grime', 'grunge', 'gypsy', 'handsup', \"hard'n'heavy\", 'hardcore',\n",
       "       'hardstyle', 'hardtechno', 'hiphop', 'historisch', 'holiday',\n",
       "       'horror', 'house', 'hymn', 'idm', 'independent', 'indian', 'indie',\n",
       "       'indipop', 'industrial', 'inspirational', 'instrumental',\n",
       "       'international', 'irish', 'jam', 'japanese', 'jazz', 'jewish',\n",
       "       'jpop', 'jungle', 'k-pop', 'karadeniz', 'karaoke', 'kayokyoku',\n",
       "       'korean', 'laiko', 'latin', 'latino', 'leftfield', 'local',\n",
       "       'lounge', 'loungeelectronic', 'lovers', 'malaysian', 'mandopop',\n",
       "       'marschmusik', 'meditative', 'mediterranean', 'melodic', 'metal',\n",
       "       'metalcore', 'mexican', 'middle', 'minimal', 'miscellaneous',\n",
       "       'modern', 'mood', 'mpb', 'muslim', 'native', 'neoklassik', 'neue',\n",
       "       'new', 'newage', 'newwave', 'nu', 'nujazz', 'numetal', 'oceania',\n",
       "       'old', 'opera', 'orchestral', 'other', 'piano', 'podcasts', 'pop',\n",
       "       'popdance', 'popelectronic', 'popeurodance', 'poprussian', 'post',\n",
       "       'posthardcore', 'postrock', 'power', 'progmetal', 'progressive',\n",
       "       'psychedelic', 'punjabi', 'punk', 'quebecois', 'ragga', 'ram',\n",
       "       'rancheras', 'rap', 'rave', 'reggae', 'reggaeton', 'regional',\n",
       "       'relax', 'religious', 'retro', 'rhythm', 'rnb', 'rnr', 'rock',\n",
       "       'rockabilly', 'rockalternative', 'rockindie', 'rockother',\n",
       "       'romance', 'roots', 'ruspop', 'rusrap', 'rusrock', 'russian',\n",
       "       'salsa', 'samba', 'scenic', 'schlager', 'self', 'sertanejo',\n",
       "       'shanson', 'shoegazing', 'showtunes', 'singer', 'ska', 'skarock',\n",
       "       'slow', 'smooth', 'soft', 'soul', 'soulful', 'sound', 'soundtrack',\n",
       "       'southern', 'specialty', 'speech', 'spiritual', 'sport',\n",
       "       'stonerrock', 'surf', 'swing', 'synthpop', 'synthrock',\n",
       "       'sängerportrait', 'tango', 'tanzorchester', 'taraftar', 'tatar',\n",
       "       'tech', 'techno', 'teen', 'thrash', 'top', 'traditional',\n",
       "       'tradjazz', 'trance', 'tribal', 'trip', 'triphop', 'tropical',\n",
       "       'türk', 'türkçe', 'ukrrock', 'unknown', 'urban', 'uzbek',\n",
       "       'variété', 'vi', 'videogame', 'vocal', 'western', 'world',\n",
       "       'worldbeat', 'ïîï', 'электроника'], dtype=object)"
      ]
     },
     "execution_count": 19,
     "metadata": {},
     "output_type": "execute_result"
    }
   ],
   "source": [
    "df['genre'].sort_values().unique() # Проверка на неявные дубликаты"
   ]
  },
  {
   "cell_type": "markdown",
   "metadata": {
    "id": "jz6a9-7HQUDd"
   },
   "source": [
    "**Выводы**\n",
    "\n",
    "Предобработка обнаружила три проблемы в данных:\n",
    "\n",
    "- нарушения в стиле заголовков,\n",
    "- пропущенные значения,\n",
    "- дубликаты — явные и неявные.\n",
    "\n",
    "Мы исправили заголовки, чтобы упростить работу с таблицей. Без дубликатов исследование станет более точным.\n",
    "\n",
    "Пропущенные значения мы заменили на `'unknown'`. Ещё предстоит увидеть, не повредят ли исследованию пропуски в колонке `genre`.\n",
    "\n",
    "Теперь можно перейти к проверке гипотез. "
   ]
  },
  {
   "cell_type": "markdown",
   "metadata": {
    "id": "WttZHXH0SqKk"
   },
   "source": [
    "## Проверка гипотез"
   ]
  },
  {
   "cell_type": "markdown",
   "metadata": {
    "id": "Im936VVi_Zcu"
   },
   "source": [
    "### Сравнение поведения пользователей двух столиц"
   ]
  },
  {
   "cell_type": "markdown",
   "metadata": {
    "id": "nwt_MuaL_Zcu"
   },
   "source": [
    "Первая гипотеза утверждает, что пользователи по-разному слушают музыку в Москве и Санкт-Петербурге. Проверим это предположение по данным о трёх днях недели — понедельнике, среде и пятнице. Для этого:\n",
    "\n",
    "* Разделим пользователей Москвы и Санкт-Петербурга\n",
    "* Сравним, сколько треков послушала каждая группа пользователей в понедельник, среду и пятницу.\n"
   ]
  },
  {
   "cell_type": "markdown",
   "metadata": {
    "id": "8Dw_YMmT_Zcu"
   },
   "source": [
    " Оценим активность пользователей в каждом городе. Сгруппируем данные по городу и посчитаем прослушивания в каждой группе."
   ]
  },
  {
   "cell_type": "code",
   "execution_count": 20,
   "metadata": {
    "id": "0_Qs96oh_Zcu"
   },
   "outputs": [
    {
     "data": {
      "text/plain": [
       "city\n",
       "Moscow              42741\n",
       "Saint-Petersburg    18512\n",
       "Name: track, dtype: int64"
      ]
     },
     "execution_count": 20,
     "metadata": {},
     "output_type": "execute_result"
    }
   ],
   "source": [
    "df.groupby('city')['track'].count() # Подсчёт количества прослушиваний в каждом городе"
   ]
  },
  {
   "cell_type": "markdown",
   "metadata": {
    "id": "dzli3w8o_Zcu"
   },
   "source": [
    "В Москве прослушиваний больше, чем в Петербурге. Из этого не следует, что московские пользователи чаще слушают музыку. Просто самих пользователей в Москве больше.\n",
    "\n",
    "Теперь сгруппируем данные по дню недели и подсчитайте прослушивания в понедельник, среду и пятницу. Учтем, что в данных есть информация только о прослушиваниях только за эти дни."
   ]
  },
  {
   "cell_type": "code",
   "execution_count": 21,
   "metadata": {
    "id": "uZMKjiJz_Zcu"
   },
   "outputs": [
    {
     "data": {
      "text/plain": [
       "day\n",
       "Friday       21840\n",
       "Monday       21354\n",
       "Wednesday    18059\n",
       "Name: track, dtype: int64"
      ]
     },
     "execution_count": 21,
     "metadata": {},
     "output_type": "execute_result"
    }
   ],
   "source": [
    "df.groupby('day')['track'].count() # Подсчёт количества прослушиваний в каждый из трёх дней"
   ]
  },
  {
   "cell_type": "markdown",
   "metadata": {
    "id": "cC2tNrlL_Zcu"
   },
   "source": [
    "В среднем пользователи из двух городов менее активны по средам. Но картина может измениться, если рассмотреть каждый город в отдельности."
   ]
  },
  {
   "cell_type": "markdown",
   "metadata": {
    "id": "POzs8bGa_Zcu"
   },
   "source": [
    "Теперь напишите функцию, которая объединит два эти расчёта.\n",
    "\n",
    "Создадим функцию `number_tracks()`, которая посчитает прослушивания для заданного дня и города. Ей понадобятся два параметра:\n",
    "* день недели,\n",
    "* название города.\n",
    "\n",
    "В функции сохраним в переменную строки исходной таблицы, у которых значение:\n",
    "  * в колонке `day` равно параметру `day`,\n",
    "  * в колонке `city` равно параметру `city`.\n",
    "\n",
    "Для этого применим последовательную фильтрацию с логической индексацией.\n",
    "\n",
    "Затем посчитаем значения в столбце `user_id` получившейся таблицы. Результат сохраним в новую переменную. Вернем эту переменную из функции."
   ]
  },
  {
   "cell_type": "code",
   "execution_count": 22,
   "metadata": {
    "id": "Nz3GdQB1_Zcu"
   },
   "outputs": [],
   "source": [
    "def number_tracks(day,city): # Объявление функции для подсчёта прослушиваний для конкретного города и дня.\n",
    "    track_list = df[(df['day'] == day) & (df['city'] == city)] # Фильтрация с логической индексацией позволяет получить из исходной таблицы строки с нужным днём, затем из результата отфильтрует строки с нужным городом\n",
    "    track_list_count = track_list['user_id'].count() # Посчитает количество значений в колонке user_id методом count() \n",
    "    return track_list_count # Это количество функция вернёт в качестве результата"
   ]
  },
  {
   "cell_type": "markdown",
   "metadata": {
    "id": "ytf7xFrFJQ2r"
   },
   "source": [
    "Вызовем `number_tracks()` несколько раз, меняя значение параметров — так, чтобы получить данные для каждого города в каждый из трёх дней."
   ]
  },
  {
   "cell_type": "code",
   "execution_count": 23,
   "metadata": {
    "id": "rJcRATNQ_Zcu"
   },
   "outputs": [
    {
     "data": {
      "text/plain": [
       "15740"
      ]
     },
     "execution_count": 23,
     "metadata": {},
     "output_type": "execute_result"
    }
   ],
   "source": [
    "number_tracks('Monday', 'Moscow') # количество прослушиваний в Москве по понедельникам"
   ]
  },
  {
   "cell_type": "code",
   "execution_count": 24,
   "metadata": {
    "id": "hq_ncZ5T_Zcu"
   },
   "outputs": [
    {
     "data": {
      "text/plain": [
       "5614"
      ]
     },
     "execution_count": 24,
     "metadata": {},
     "output_type": "execute_result"
    }
   ],
   "source": [
    "number_tracks('Monday', 'Saint-Petersburg') # количество прослушиваний в Санкт-Петербурге по понедельникам"
   ]
  },
  {
   "cell_type": "code",
   "execution_count": 25,
   "metadata": {
    "id": "_NTy2VPU_Zcu"
   },
   "outputs": [
    {
     "data": {
      "text/plain": [
       "11056"
      ]
     },
     "execution_count": 25,
     "metadata": {},
     "output_type": "execute_result"
    }
   ],
   "source": [
    "number_tracks('Wednesday', 'Moscow') # количество прослушиваний в Москве по средам"
   ]
  },
  {
   "cell_type": "code",
   "execution_count": 26,
   "metadata": {
    "id": "j2y3TAwo_Zcu"
   },
   "outputs": [
    {
     "data": {
      "text/plain": [
       "7003"
      ]
     },
     "execution_count": 26,
     "metadata": {},
     "output_type": "execute_result"
    }
   ],
   "source": [
    "number_tracks('Wednesday', 'Saint-Petersburg') # количество прослушиваний в Санкт-Петербурге по средам"
   ]
  },
  {
   "cell_type": "code",
   "execution_count": 27,
   "metadata": {
    "id": "vYDw5u_K_Zcu"
   },
   "outputs": [
    {
     "data": {
      "text/plain": [
       "15945"
      ]
     },
     "execution_count": 27,
     "metadata": {},
     "output_type": "execute_result"
    }
   ],
   "source": [
    "number_tracks('Friday', 'Moscow') # количество прослушиваний в Москве по пятницам"
   ]
  },
  {
   "cell_type": "code",
   "execution_count": 28,
   "metadata": {
    "id": "8_yzFtW3_Zcu"
   },
   "outputs": [
    {
     "data": {
      "text/plain": [
       "5895"
      ]
     },
     "execution_count": 28,
     "metadata": {},
     "output_type": "execute_result"
    }
   ],
   "source": [
    "number_tracks('Friday', 'Saint-Petersburg') # количество прослушиваний в Санкт-Петербурге по пятницам"
   ]
  },
  {
   "cell_type": "markdown",
   "metadata": {
    "id": "7QXffbO-_Zcu"
   },
   "source": [
    "Создадим c помощью `pd.DataFrame` таблицу, где\n",
    "* названия колонок — `['city', 'monday', 'wednesday', 'friday']`;\n",
    "* данные — результаты, которые мы получили с помощью `number_tracks`."
   ]
  },
  {
   "cell_type": "code",
   "execution_count": 29,
   "metadata": {
    "id": "APAcLpOr_Zcu"
   },
   "outputs": [
    {
     "data": {
      "text/html": [
       "<div>\n",
       "<style scoped>\n",
       "    .dataframe tbody tr th:only-of-type {\n",
       "        vertical-align: middle;\n",
       "    }\n",
       "\n",
       "    .dataframe tbody tr th {\n",
       "        vertical-align: top;\n",
       "    }\n",
       "\n",
       "    .dataframe thead th {\n",
       "        text-align: right;\n",
       "    }\n",
       "</style>\n",
       "<table border=\"1\" class=\"dataframe\">\n",
       "  <thead>\n",
       "    <tr style=\"text-align: right;\">\n",
       "      <th></th>\n",
       "      <th>city</th>\n",
       "      <th>monday</th>\n",
       "      <th>wednesday</th>\n",
       "      <th>friday</th>\n",
       "    </tr>\n",
       "  </thead>\n",
       "  <tbody>\n",
       "    <tr>\n",
       "      <td>0</td>\n",
       "      <td>Moscow</td>\n",
       "      <td>15740</td>\n",
       "      <td>11056</td>\n",
       "      <td>15945</td>\n",
       "    </tr>\n",
       "    <tr>\n",
       "      <td>1</td>\n",
       "      <td>Saint-Petersburg</td>\n",
       "      <td>5614</td>\n",
       "      <td>7003</td>\n",
       "      <td>5895</td>\n",
       "    </tr>\n",
       "  </tbody>\n",
       "</table>\n",
       "</div>"
      ],
      "text/plain": [
       "               city monday wednesday friday\n",
       "0            Moscow  15740     11056  15945\n",
       "1  Saint-Petersburg   5614      7003   5895"
      ]
     },
     "execution_count": 29,
     "metadata": {},
     "output_type": "execute_result"
    }
   ],
   "source": [
    "number_tracks = [\n",
    "    ['Moscow', '15740', '11056', '15945'],\n",
    "    ['Saint-Petersburg', '5614', '7003', '5895']\n",
    "]\n",
    "\n",
    "pd.DataFrame(data = number_tracks, columns = ['city', 'monday', 'wednesday', 'friday']) # Таблица с результатами расчетов количества прослушиваний в каждом городе по дням"
   ]
  },
  {
   "cell_type": "markdown",
   "metadata": {
    "id": "-EgPIHYu_Zcu"
   },
   "source": [
    "**Выводы**\n",
    "\n",
    "Данные показывают разницу поведения пользователей:\n",
    "\n",
    "- В Москве пик прослушиваний приходится на понедельник и пятницу, а в среду заметен спад.\n",
    "- В Петербурге, наоборот, больше слушают музыку по средам. Активность в понедельник и пятницу здесь почти в равной мере уступает среде.\n",
    "\n",
    "Значит, данные говорят в пользу первой гипотезы."
   ]
  },
  {
   "cell_type": "markdown",
   "metadata": {
    "id": "atZAxtq4_Zcu"
   },
   "source": [
    "### Музыка в начале и в конце недели"
   ]
  },
  {
   "cell_type": "markdown",
   "metadata": {
    "id": "eXrQqXFH_Zcu"
   },
   "source": [
    "Согласно второй гипотезе, утром в понедельник в Москве преобладают одни жанры, а в Петербурге — другие. Так же и вечером пятницы преобладают разные жанры — в зависимости от города."
   ]
  },
  {
   "cell_type": "markdown",
   "metadata": {
    "id": "S8UcW6Hw_Zcu"
   },
   "source": [
    "Сохраним таблицы с данными в две переменные:\n",
    "* по Москве — в `moscow_general`;\n",
    "* по Санкт-Петербургу — в `spb_general`."
   ]
  },
  {
   "cell_type": "code",
   "execution_count": 30,
   "metadata": {
    "id": "qeaFfM_P_Zcu"
   },
   "outputs": [],
   "source": [
    "moscow_general = df[df['city'] == 'Moscow'] # получение таблицы с данными по Москве"
   ]
  },
  {
   "cell_type": "code",
   "execution_count": 31,
   "metadata": {
    "id": "ORaVRKto_Zcu"
   },
   "outputs": [],
   "source": [
    "spb_general = df[df['city'] == 'Saint-Petersburg'] # получение таблицы с данными по Санкт-Петербургу"
   ]
  },
  {
   "cell_type": "markdown",
   "metadata": {
    "id": "MEJV-CX2_Zcu"
   },
   "source": [
    "Создадим функцию `genre_weekday()` с четырьмя параметрами:\n",
    "* таблица (датафрейм) с данными,\n",
    "* день недели,\n",
    "* начальная временная метка в формате 'hh:mm', \n",
    "* последняя временная метка в формате 'hh:mm'.\n",
    "\n",
    "Функция должна вернуть информацию о топ-10 жанров тех треков, которые прослушивали в указанный день, в промежутке между двумя отметками времени."
   ]
  },
  {
   "cell_type": "code",
   "execution_count": 32,
   "metadata": {
    "id": "laJT9BYl_Zcu"
   },
   "outputs": [],
   "source": [
    "def genre_weekday(table, day, time1, time2): # Объявление функции для вывода топ-10 жанров\n",
    "    \n",
    "    genre_df = table[(table['day'] == day) & (table['time'] > time1) & (table['time'] < time2)] # в данную переменную при помощи логического сравнения заносятся строки таблицы, удовлетворяющие параметрам функции \n",
    "    \n",
    "    genre_df_count = genre_df.groupby('genre')['genre'].count() # происходит группировка датафрейма по столбцу ('genre'), затем подсчитывается количество значений (строк) у каждого из присутствующих жанров\n",
    "    \n",
    "    genre_df_sorted = genre_df_count.sort_values(ascending=False) # сортировка датафрейма по убыванию\n",
    "    \n",
    "    return genre_df_sorted.head(10) # вывод топ-10 популярных жанров за указанные день и время"
   ]
  },
  {
   "cell_type": "markdown",
   "metadata": {
    "id": "la2s2_PF_Zcu"
   },
   "source": [
    "Cравним результаты функции `genre_weekday()` для Москвы и Санкт-Петербурга в понедельник утром (с 7:00 до 11:00) и в пятницу вечером (с 17:00 до 23:00):"
   ]
  },
  {
   "cell_type": "code",
   "execution_count": 33,
   "metadata": {
    "id": "yz7itPUQ_Zcu"
   },
   "outputs": [
    {
     "data": {
      "text/plain": [
       "genre\n",
       "pop            781\n",
       "dance          549\n",
       "electronic     480\n",
       "rock           474\n",
       "hiphop         286\n",
       "ruspop         186\n",
       "world          181\n",
       "rusrap         175\n",
       "alternative    164\n",
       "unknown        161\n",
       "Name: genre, dtype: int64"
      ]
     },
     "execution_count": 33,
     "metadata": {},
     "output_type": "execute_result"
    }
   ],
   "source": [
    "genre_weekday(moscow_general, 'Monday', '07:00', '11:00') # вызов функции для утра понедельника в Москве"
   ]
  },
  {
   "cell_type": "code",
   "execution_count": 34,
   "metadata": {
    "id": "kwUcHPdy_Zcu"
   },
   "outputs": [
    {
     "data": {
      "text/plain": [
       "genre\n",
       "pop            218\n",
       "dance          182\n",
       "rock           162\n",
       "electronic     147\n",
       "hiphop          80\n",
       "ruspop          64\n",
       "alternative     58\n",
       "rusrap          55\n",
       "jazz            44\n",
       "classical       40\n",
       "Name: genre, dtype: int64"
      ]
     },
     "execution_count": 34,
     "metadata": {},
     "output_type": "execute_result"
    }
   ],
   "source": [
    "genre_weekday(spb_general, 'Monday', '07:00', '11:00') # вызов функции для утра понедельника в Петербурге"
   ]
  },
  {
   "cell_type": "code",
   "execution_count": 35,
   "metadata": {
    "id": "EzXVRE1o_Zcu"
   },
   "outputs": [
    {
     "data": {
      "text/plain": [
       "genre\n",
       "pop            713\n",
       "rock           517\n",
       "dance          495\n",
       "electronic     482\n",
       "hiphop         273\n",
       "world          208\n",
       "ruspop         170\n",
       "alternative    163\n",
       "classical      163\n",
       "rusrap         142\n",
       "Name: genre, dtype: int64"
      ]
     },
     "execution_count": 35,
     "metadata": {},
     "output_type": "execute_result"
    }
   ],
   "source": [
    "genre_weekday(moscow_general, 'Friday', '17:00', '23:00') # вызов функции для вечера пятницы в Москве"
   ]
  },
  {
   "cell_type": "code",
   "execution_count": 36,
   "metadata": {
    "id": "JZaEKu5v_Zcu"
   },
   "outputs": [
    {
     "data": {
      "text/plain": [
       "genre\n",
       "pop            256\n",
       "rock           216\n",
       "electronic     216\n",
       "dance          210\n",
       "hiphop          97\n",
       "alternative     63\n",
       "jazz            61\n",
       "classical       60\n",
       "rusrap          59\n",
       "world           54\n",
       "Name: genre, dtype: int64"
      ]
     },
     "execution_count": 36,
     "metadata": {},
     "output_type": "execute_result"
    }
   ],
   "source": [
    "genre_weekday(spb_general, 'Friday', '17:00', '23:00') # вызов функции для вечера пятницы в Петербурге"
   ]
  },
  {
   "cell_type": "markdown",
   "metadata": {
    "id": "wrCe4MNX_Zcu"
   },
   "source": [
    "**Выводы**\n",
    "\n",
    "Если сравнить топ-10 жанров в понедельник утром, можно сделать такие выводы:\n",
    "\n",
    "1. В Москве и Петербурге слушают похожую музыку. Единственное отличие — в московский рейтинг вошёл жанр “world”, а в петербургский — джаз и классика.\n",
    "\n",
    "2. В Москве пропущенных значений оказалось так много, что значение `'unknown'` заняло десятое место среди самых популярных жанров. Значит, пропущенные значения занимают существенную долю в данных и угрожают достоверности исследования.\n",
    "\n",
    "Вечер пятницы не меняет эту картину. Некоторые жанры поднимаются немного выше, другие спускаются, но в целом топ-10 остаётся тем же самым.\n",
    "\n",
    "Таким образом, вторая гипотеза подтвердилась лишь частично:\n",
    "* Пользователи слушают похожую музыку в начале недели и в конце.\n",
    "* Разница между Москвой и Петербургом не слишком выражена. В Москве чаще слушают русскую популярную музыку, в Петербурге — джаз.\n",
    "\n",
    "Однако пропуски в данных ставят под сомнение этот результат. В Москве их так много, что рейтинг топ-10 мог бы выглядеть иначе, если бы не утерянные  данные о жанрах."
   ]
  },
  {
   "cell_type": "markdown",
   "metadata": {
    "id": "JolODAqr_Zcu"
   },
   "source": [
    "### Жанровые предпочтения в Москве и Петербурге\n",
    "\n",
    "Гипотеза: Петербург — столица рэпа, музыку этого жанра там слушают чаще, чем в Москве.  А Москва — город контрастов, в котором, тем не менее, преобладает поп-музыка."
   ]
  },
  {
   "cell_type": "markdown",
   "metadata": {
    "id": "DlegSvaT_Zcu"
   },
   "source": [
    "Сгруппируем таблицу `moscow_general` по жанру и посчитаем прослушивания треков каждого жанра методом `count()`. Затем отсортируем результат в порядке убывания и сохраним его в таблице `moscow_genres`."
   ]
  },
  {
   "cell_type": "code",
   "execution_count": 37,
   "metadata": {
    "id": "r19lIPke_Zcu"
   },
   "outputs": [],
   "source": [
    "moscow_genres = moscow_general.groupby('genre')['genre'].count() # группировка по жанру и подсчет значений в таблице moscow_general \n",
    "moscow_genres = moscow_genres.sort_values(ascending=False) # сортировка получившихся значений по убыванию"
   ]
  },
  {
   "cell_type": "markdown",
   "metadata": {
    "id": "6kMuomxTiIr8"
   },
   "source": [
    "Выведем на экран первые десять строк `moscow_genres`:"
   ]
  },
  {
   "cell_type": "code",
   "execution_count": 38,
   "metadata": {
    "id": "WhCSooF8_Zcv"
   },
   "outputs": [
    {
     "data": {
      "text/plain": [
       "genre\n",
       "pop            5892\n",
       "dance          4435\n",
       "rock           3965\n",
       "electronic     3786\n",
       "hiphop         2096\n",
       "classical      1616\n",
       "world          1432\n",
       "alternative    1379\n",
       "ruspop         1372\n",
       "rusrap         1161\n",
       "Name: genre, dtype: int64"
      ]
     },
     "execution_count": 38,
     "metadata": {},
     "output_type": "execute_result"
    }
   ],
   "source": [
    "moscow_genres.head(10) # просмотр первых 10 строк moscow_genres"
   ]
  },
  {
   "cell_type": "markdown",
   "metadata": {
    "id": "cnPG2vnN_Zcv"
   },
   "source": [
    "Теперь повторим то же и для Петербурга.\n",
    "\n",
    "Сгруппируем таблицу `spb_general` по жанру. Посчитаем прослушивания треков каждого жанра. Результат отсортируем в порядке убывания и сохраните в таблице `spb_genres`:"
   ]
  },
  {
   "cell_type": "code",
   "execution_count": 39,
   "metadata": {
    "id": "gluLIpE7_Zcv"
   },
   "outputs": [],
   "source": [
    "spb_genres = spb_general.groupby('genre')['genre'].count() # группировка по жанру и подсчет значений в таблице spb_general \n",
    "spb_genres = spb_genres.sort_values(ascending=False) # сортировка получившихся значений по убыванию"
   ]
  },
  {
   "cell_type": "markdown",
   "metadata": {
    "id": "5Doha_ODgyQ8"
   },
   "source": [
    "Выведем на экран первые десять строк `spb_genres`:"
   ]
  },
  {
   "cell_type": "code",
   "execution_count": 40,
   "metadata": {
    "id": "uaGJHjVU_Zcv"
   },
   "outputs": [
    {
     "data": {
      "text/plain": [
       "genre\n",
       "pop            2431\n",
       "dance          1932\n",
       "rock           1879\n",
       "electronic     1736\n",
       "hiphop          960\n",
       "alternative     649\n",
       "classical       646\n",
       "rusrap          564\n",
       "ruspop          538\n",
       "world           515\n",
       "Name: genre, dtype: int64"
      ]
     },
     "execution_count": 40,
     "metadata": {},
     "output_type": "execute_result"
    }
   ],
   "source": [
    "spb_genres.head(10) # просмотр первых 10 строк spb_genres"
   ]
  },
  {
   "cell_type": "markdown",
   "metadata": {
    "id": "RY51YJYu_Zcv"
   },
   "source": [
    "**Выводы**"
   ]
  },
  {
   "cell_type": "markdown",
   "metadata": {
    "id": "nVhnJEm__Zcv"
   },
   "source": [
    "Гипотеза частично подтвердилась:\n",
    "* Поп-музыка — самый популярный жанр в Москве, как и предполагала гипотеза. Более того, в топ-10 жанров встречается близкий жанр — русская популярная музыка.\n",
    "* Вопреки ожиданиям, рэп одинаково популярен в Москве и Петербурге. \n"
   ]
  },
  {
   "cell_type": "markdown",
   "metadata": {
    "id": "ykKQ0N65_Zcv"
   },
   "source": [
    "## Итоги исследования"
   ]
  },
  {
   "cell_type": "markdown",
   "metadata": {
    "id": "tjUwbHb3_Zcv"
   },
   "source": [
    "Мы проверили три гипотезы и установили:\n",
    "\n",
    "1. День недели по-разному влияет на активность пользователей в Москве и Петербурге. \n",
    "\n",
    "Первая гипотеза полностью подтвердилась.\n",
    "\n",
    "2. Музыкальные предпочтения не сильно меняются в течение недели — будь то Москва или Петербург. Небольшие различия заметны в начале недели, по понедельникам:\n",
    "* в Москве слушают музыку жанра “world”,\n",
    "* в Петербурге — джаз и классику.\n",
    "\n",
    "Таким образом, вторая гипотеза подтвердилась лишь отчасти. Этот результат мог оказаться иным, если бы не пропуски в данных.\n",
    "\n",
    "3. Во вкусах пользователей Москвы и Петербурга больше общего чем различий. Вопреки ожиданиям, предпочтения жанров в Петербурге напоминают московские.\n",
    "\n",
    "Третья гипотеза не подтвердилась. Если различия в предпочтениях и существуют, на основной массе пользователей они незаметны."
   ]
  }
 ],
 "metadata": {
  "ExecuteTimeLog": [
   {
    "duration": 823,
    "start_time": "2021-11-08T17:48:11.695Z"
   },
   {
    "duration": 555,
    "start_time": "2021-11-08T17:51:49.797Z"
   },
   {
    "duration": 832,
    "start_time": "2021-11-08T17:51:57.043Z"
   },
   {
    "duration": 185,
    "start_time": "2021-11-08T17:52:02.363Z"
   },
   {
    "duration": 11,
    "start_time": "2021-11-08T17:52:06.458Z"
   },
   {
    "duration": 20,
    "start_time": "2021-11-08T17:53:59.704Z"
   },
   {
    "duration": 12,
    "start_time": "2021-11-08T17:54:31.916Z"
   },
   {
    "duration": 11,
    "start_time": "2021-11-08T17:55:19.500Z"
   },
   {
    "duration": 7,
    "start_time": "2021-11-08T18:07:03.912Z"
   },
   {
    "duration": 25,
    "start_time": "2021-11-08T18:10:27.676Z"
   },
   {
    "duration": 5,
    "start_time": "2021-11-08T18:10:43.412Z"
   },
   {
    "duration": 28,
    "start_time": "2021-11-08T18:11:15.847Z"
   },
   {
    "duration": 6,
    "start_time": "2021-11-08T18:11:21.006Z"
   },
   {
    "duration": 21,
    "start_time": "2021-11-08T18:12:27.480Z"
   },
   {
    "duration": 6,
    "start_time": "2021-11-08T18:12:30.370Z"
   },
   {
    "duration": 30,
    "start_time": "2021-11-08T18:14:27.730Z"
   },
   {
    "duration": 218,
    "start_time": "2021-11-08T18:23:25.800Z"
   },
   {
    "duration": 22,
    "start_time": "2021-11-08T18:23:39.614Z"
   },
   {
    "duration": 36,
    "start_time": "2021-11-08T18:23:55.828Z"
   },
   {
    "duration": 78,
    "start_time": "2021-11-08T18:24:55.211Z"
   },
   {
    "duration": 110,
    "start_time": "2021-11-08T18:26:31.177Z"
   },
   {
    "duration": 84,
    "start_time": "2021-11-08T18:27:14.041Z"
   },
   {
    "duration": 88,
    "start_time": "2021-11-08T18:28:49.280Z"
   },
   {
    "duration": 74,
    "start_time": "2021-11-08T18:28:54.664Z"
   },
   {
    "duration": 437,
    "start_time": "2021-11-08T18:34:11.411Z"
   },
   {
    "duration": 8,
    "start_time": "2021-11-08T18:34:23.486Z"
   },
   {
    "duration": 90,
    "start_time": "2021-11-08T18:42:47.421Z"
   },
   {
    "duration": 4876,
    "start_time": "2021-11-08T18:43:26.606Z"
   },
   {
    "duration": 5100,
    "start_time": "2021-11-08T18:43:44.120Z"
   },
   {
    "duration": 4984,
    "start_time": "2021-11-08T18:51:33.065Z"
   },
   {
    "duration": 5398,
    "start_time": "2021-11-08T18:51:48.324Z"
   },
   {
    "duration": 5511,
    "start_time": "2021-11-08T18:52:04.180Z"
   },
   {
    "duration": 786,
    "start_time": "2021-11-08T18:52:59.773Z"
   },
   {
    "duration": 199,
    "start_time": "2021-11-08T18:53:00.562Z"
   },
   {
    "duration": 10,
    "start_time": "2021-11-08T18:53:00.764Z"
   },
   {
    "duration": 25,
    "start_time": "2021-11-08T18:53:00.777Z"
   },
   {
    "duration": 12,
    "start_time": "2021-11-08T18:53:00.804Z"
   },
   {
    "duration": 73,
    "start_time": "2021-11-08T18:53:00.820Z"
   },
   {
    "duration": 14,
    "start_time": "2021-11-08T18:53:00.895Z"
   },
   {
    "duration": 39,
    "start_time": "2021-11-08T18:53:00.915Z"
   },
   {
    "duration": 35,
    "start_time": "2021-11-08T18:53:00.961Z"
   },
   {
    "duration": 35,
    "start_time": "2021-11-08T18:53:01.000Z"
   },
   {
    "duration": 110,
    "start_time": "2021-11-08T18:53:01.038Z"
   },
   {
    "duration": 128,
    "start_time": "2021-11-08T18:53:01.151Z"
   },
   {
    "duration": 112,
    "start_time": "2021-11-08T18:53:01.282Z"
   },
   {
    "duration": 7,
    "start_time": "2021-11-08T18:53:01.396Z"
   },
   {
    "duration": 12,
    "start_time": "2021-11-08T18:53:01.405Z"
   },
   {
    "duration": 7,
    "start_time": "2021-11-08T18:53:01.420Z"
   },
   {
    "duration": 42,
    "start_time": "2021-11-08T18:53:01.430Z"
   },
   {
    "duration": 8,
    "start_time": "2021-11-08T18:53:01.475Z"
   },
   {
    "duration": 7,
    "start_time": "2021-11-08T18:53:01.486Z"
   },
   {
    "duration": 11,
    "start_time": "2021-11-08T18:53:01.496Z"
   },
   {
    "duration": 15,
    "start_time": "2021-11-08T18:53:01.509Z"
   },
   {
    "duration": 10,
    "start_time": "2021-11-08T18:53:01.526Z"
   },
   {
    "duration": 7,
    "start_time": "2021-11-08T18:53:01.543Z"
   },
   {
    "duration": 3,
    "start_time": "2021-11-08T18:53:01.561Z"
   },
   {
    "duration": 11,
    "start_time": "2021-11-08T18:53:01.567Z"
   },
   {
    "duration": 17,
    "start_time": "2021-11-08T18:53:01.581Z"
   },
   {
    "duration": 14,
    "start_time": "2021-11-08T18:53:01.601Z"
   },
   {
    "duration": 7,
    "start_time": "2021-11-08T18:53:01.618Z"
   },
   {
    "duration": 12,
    "start_time": "2021-11-08T18:53:01.628Z"
   },
   {
    "duration": 25,
    "start_time": "2021-11-08T18:53:01.643Z"
   },
   {
    "duration": 20,
    "start_time": "2021-11-08T18:53:01.670Z"
   },
   {
    "duration": 10,
    "start_time": "2021-11-08T18:53:01.692Z"
   },
   {
    "duration": 13,
    "start_time": "2021-11-08T18:53:01.705Z"
   },
   {
    "duration": 19,
    "start_time": "2021-11-08T18:53:01.721Z"
   },
   {
    "duration": 20,
    "start_time": "2021-11-08T18:53:01.742Z"
   },
   {
    "duration": 11,
    "start_time": "2021-11-08T18:53:01.765Z"
   },
   {
    "duration": 9,
    "start_time": "2021-11-08T18:53:01.779Z"
   },
   {
    "duration": 7,
    "start_time": "2021-11-08T18:53:01.791Z"
   },
   {
    "duration": 504,
    "start_time": "2021-11-08T18:54:04.134Z"
   },
   {
    "duration": 11,
    "start_time": "2021-11-08T18:54:20.228Z"
   },
   {
    "duration": 649,
    "start_time": "2021-11-08T18:56:42.593Z"
   },
   {
    "duration": 394,
    "start_time": "2021-11-08T18:58:41.760Z"
   },
   {
    "duration": 7,
    "start_time": "2021-11-08T19:00:20.516Z"
   },
   {
    "duration": 751,
    "start_time": "2021-11-08T19:01:29.999Z"
   },
   {
    "duration": 56,
    "start_time": "2021-11-08T19:03:07.168Z"
   },
   {
    "duration": 54,
    "start_time": "2021-11-08T19:03:22.018Z"
   },
   {
    "duration": 8,
    "start_time": "2021-11-08T19:03:36.790Z"
   },
   {
    "duration": 53,
    "start_time": "2021-11-08T19:03:45.348Z"
   },
   {
    "duration": 55,
    "start_time": "2021-11-08T19:05:17.109Z"
   },
   {
    "duration": 59,
    "start_time": "2021-11-08T19:05:36.267Z"
   },
   {
    "duration": 51,
    "start_time": "2021-11-08T19:06:00.352Z"
   },
   {
    "duration": 54,
    "start_time": "2021-11-08T19:06:10.488Z"
   },
   {
    "duration": 58,
    "start_time": "2021-11-08T19:06:18.141Z"
   },
   {
    "duration": 943,
    "start_time": "2021-11-09T05:00:15.431Z"
   },
   {
    "duration": 191,
    "start_time": "2021-11-09T05:00:16.377Z"
   },
   {
    "duration": 12,
    "start_time": "2021-11-09T05:00:16.571Z"
   },
   {
    "duration": 27,
    "start_time": "2021-11-09T05:00:16.585Z"
   },
   {
    "duration": 7,
    "start_time": "2021-11-09T05:00:16.615Z"
   },
   {
    "duration": 57,
    "start_time": "2021-11-09T05:00:16.624Z"
   },
   {
    "duration": 6,
    "start_time": "2021-11-09T05:00:16.684Z"
   },
   {
    "duration": 36,
    "start_time": "2021-11-09T05:00:16.693Z"
   },
   {
    "duration": 43,
    "start_time": "2021-11-09T05:00:16.733Z"
   },
   {
    "duration": 30,
    "start_time": "2021-11-09T05:00:16.779Z"
   },
   {
    "duration": 108,
    "start_time": "2021-11-09T05:00:16.812Z"
   },
   {
    "duration": 156,
    "start_time": "2021-11-09T05:00:16.923Z"
   },
   {
    "duration": 131,
    "start_time": "2021-11-09T05:00:17.082Z"
   },
   {
    "duration": 108,
    "start_time": "2021-11-09T05:00:17.216Z"
   },
   {
    "duration": 88,
    "start_time": "2021-11-09T05:00:17.327Z"
   },
   {
    "duration": 2813,
    "start_time": "2021-11-09T05:00:14.607Z"
   },
   {
    "duration": 2804,
    "start_time": "2021-11-09T05:00:14.618Z"
   },
   {
    "duration": 2801,
    "start_time": "2021-11-09T05:00:14.623Z"
   },
   {
    "duration": 2798,
    "start_time": "2021-11-09T05:00:14.628Z"
   },
   {
    "duration": 2796,
    "start_time": "2021-11-09T05:00:14.632Z"
   },
   {
    "duration": 2793,
    "start_time": "2021-11-09T05:00:14.637Z"
   },
   {
    "duration": 2791,
    "start_time": "2021-11-09T05:00:14.641Z"
   },
   {
    "duration": 2789,
    "start_time": "2021-11-09T05:00:14.646Z"
   },
   {
    "duration": 2786,
    "start_time": "2021-11-09T05:00:14.651Z"
   },
   {
    "duration": 2784,
    "start_time": "2021-11-09T05:00:14.655Z"
   },
   {
    "duration": 2766,
    "start_time": "2021-11-09T05:00:14.674Z"
   },
   {
    "duration": 2756,
    "start_time": "2021-11-09T05:00:14.686Z"
   },
   {
    "duration": 2753,
    "start_time": "2021-11-09T05:00:14.691Z"
   },
   {
    "duration": 2750,
    "start_time": "2021-11-09T05:00:14.696Z"
   },
   {
    "duration": 2748,
    "start_time": "2021-11-09T05:00:14.700Z"
   },
   {
    "duration": 2744,
    "start_time": "2021-11-09T05:00:14.705Z"
   },
   {
    "duration": 2742,
    "start_time": "2021-11-09T05:00:14.709Z"
   },
   {
    "duration": 2739,
    "start_time": "2021-11-09T05:00:14.714Z"
   },
   {
    "duration": 2736,
    "start_time": "2021-11-09T05:00:14.718Z"
   },
   {
    "duration": 2726,
    "start_time": "2021-11-09T05:00:14.730Z"
   },
   {
    "duration": 2722,
    "start_time": "2021-11-09T05:00:14.735Z"
   },
   {
    "duration": 2716,
    "start_time": "2021-11-09T05:00:14.742Z"
   },
   {
    "duration": 2718,
    "start_time": "2021-11-09T05:00:14.748Z"
   },
   {
    "duration": 4,
    "start_time": "2021-11-09T05:44:51.511Z"
   },
   {
    "duration": 376,
    "start_time": "2021-11-09T05:46:28.114Z"
   },
   {
    "duration": 5,
    "start_time": "2021-11-09T05:56:46.060Z"
   },
   {
    "duration": 282,
    "start_time": "2021-11-09T05:56:51.584Z"
   },
   {
    "duration": 5,
    "start_time": "2021-11-09T06:06:27.066Z"
   },
   {
    "duration": 20,
    "start_time": "2021-11-09T06:08:18.256Z"
   },
   {
    "duration": 276,
    "start_time": "2021-11-09T06:08:53.315Z"
   },
   {
    "duration": 300,
    "start_time": "2021-11-09T06:09:18.575Z"
   },
   {
    "duration": 762,
    "start_time": "2021-11-09T06:09:46.256Z"
   },
   {
    "duration": 193,
    "start_time": "2021-11-09T06:09:47.021Z"
   },
   {
    "duration": 10,
    "start_time": "2021-11-09T06:09:47.217Z"
   },
   {
    "duration": 41,
    "start_time": "2021-11-09T06:09:47.230Z"
   },
   {
    "duration": 10,
    "start_time": "2021-11-09T06:09:47.274Z"
   },
   {
    "duration": 28,
    "start_time": "2021-11-09T06:09:47.287Z"
   },
   {
    "duration": 7,
    "start_time": "2021-11-09T06:09:47.318Z"
   },
   {
    "duration": 62,
    "start_time": "2021-11-09T06:09:47.330Z"
   },
   {
    "duration": 23,
    "start_time": "2021-11-09T06:09:47.395Z"
   },
   {
    "duration": 52,
    "start_time": "2021-11-09T06:09:47.420Z"
   },
   {
    "duration": 106,
    "start_time": "2021-11-09T06:09:47.475Z"
   },
   {
    "duration": 120,
    "start_time": "2021-11-09T06:09:47.584Z"
   },
   {
    "duration": 92,
    "start_time": "2021-11-09T06:09:47.707Z"
   },
   {
    "duration": 71,
    "start_time": "2021-11-09T06:09:47.801Z"
   },
   {
    "duration": 5,
    "start_time": "2021-11-09T06:09:47.875Z"
   },
   {
    "duration": 16,
    "start_time": "2021-11-09T06:09:47.883Z"
   },
   {
    "duration": 4,
    "start_time": "2021-11-09T06:09:47.901Z"
   },
   {
    "duration": 5,
    "start_time": "2021-11-09T06:09:47.907Z"
   },
   {
    "duration": 5,
    "start_time": "2021-11-09T06:09:47.914Z"
   },
   {
    "duration": 46,
    "start_time": "2021-11-09T06:09:47.922Z"
   },
   {
    "duration": 9,
    "start_time": "2021-11-09T06:09:47.971Z"
   },
   {
    "duration": 5,
    "start_time": "2021-11-09T06:09:47.983Z"
   },
   {
    "duration": 8,
    "start_time": "2021-11-09T06:09:47.993Z"
   },
   {
    "duration": 7,
    "start_time": "2021-11-09T06:09:48.004Z"
   },
   {
    "duration": 6,
    "start_time": "2021-11-09T06:09:48.013Z"
   },
   {
    "duration": 11,
    "start_time": "2021-11-09T06:09:48.021Z"
   },
   {
    "duration": 33,
    "start_time": "2021-11-09T06:09:48.034Z"
   },
   {
    "duration": 7,
    "start_time": "2021-11-09T06:09:48.070Z"
   },
   {
    "duration": 7,
    "start_time": "2021-11-09T06:09:48.080Z"
   },
   {
    "duration": 9,
    "start_time": "2021-11-09T06:09:48.089Z"
   },
   {
    "duration": 10,
    "start_time": "2021-11-09T06:09:48.100Z"
   },
   {
    "duration": 6,
    "start_time": "2021-11-09T06:09:48.112Z"
   },
   {
    "duration": 46,
    "start_time": "2021-11-09T06:09:48.121Z"
   },
   {
    "duration": 6,
    "start_time": "2021-11-09T06:09:48.170Z"
   },
   {
    "duration": 5,
    "start_time": "2021-11-09T06:09:48.179Z"
   },
   {
    "duration": 5,
    "start_time": "2021-11-09T06:09:48.187Z"
   },
   {
    "duration": 13,
    "start_time": "2021-11-09T06:09:48.195Z"
   },
   {
    "duration": 10,
    "start_time": "2021-11-09T06:09:48.210Z"
   },
   {
    "duration": 374,
    "start_time": "2021-11-09T06:10:40.352Z"
   },
   {
    "duration": 60,
    "start_time": "2021-11-09T06:10:57.909Z"
   },
   {
    "duration": 17,
    "start_time": "2021-11-09T06:16:56.951Z"
   },
   {
    "duration": 23,
    "start_time": "2021-11-09T06:18:17.941Z"
   },
   {
    "duration": 805,
    "start_time": "2021-11-09T06:34:06.081Z"
   },
   {
    "duration": 214,
    "start_time": "2021-11-09T06:34:06.889Z"
   },
   {
    "duration": 11,
    "start_time": "2021-11-09T06:34:07.106Z"
   },
   {
    "duration": 46,
    "start_time": "2021-11-09T06:34:07.121Z"
   },
   {
    "duration": 20,
    "start_time": "2021-11-09T06:34:07.170Z"
   },
   {
    "duration": 29,
    "start_time": "2021-11-09T06:34:07.193Z"
   },
   {
    "duration": 10,
    "start_time": "2021-11-09T06:34:07.224Z"
   },
   {
    "duration": 56,
    "start_time": "2021-11-09T06:34:07.241Z"
   },
   {
    "duration": 27,
    "start_time": "2021-11-09T06:34:07.301Z"
   },
   {
    "duration": 54,
    "start_time": "2021-11-09T06:34:07.330Z"
   },
   {
    "duration": 151,
    "start_time": "2021-11-09T06:34:07.387Z"
   },
   {
    "duration": 120,
    "start_time": "2021-11-09T06:34:07.540Z"
   },
   {
    "duration": 82,
    "start_time": "2021-11-09T06:34:07.663Z"
   },
   {
    "duration": 59,
    "start_time": "2021-11-09T06:34:07.768Z"
   },
   {
    "duration": 5,
    "start_time": "2021-11-09T06:34:07.830Z"
   },
   {
    "duration": 41,
    "start_time": "2021-11-09T06:34:07.838Z"
   },
   {
    "duration": 67,
    "start_time": "2021-11-09T06:34:07.881Z"
   },
   {
    "duration": 18,
    "start_time": "2021-11-09T06:34:07.967Z"
   },
   {
    "duration": 16,
    "start_time": "2021-11-09T06:34:07.987Z"
   },
   {
    "duration": 5,
    "start_time": "2021-11-09T06:34:08.006Z"
   },
   {
    "duration": 13,
    "start_time": "2021-11-09T06:34:08.014Z"
   },
   {
    "duration": 36,
    "start_time": "2021-11-09T06:34:08.032Z"
   },
   {
    "duration": 11,
    "start_time": "2021-11-09T06:34:08.073Z"
   },
   {
    "duration": 5,
    "start_time": "2021-11-09T06:34:08.087Z"
   },
   {
    "duration": 10,
    "start_time": "2021-11-09T06:34:08.094Z"
   },
   {
    "duration": 8,
    "start_time": "2021-11-09T06:34:08.107Z"
   },
   {
    "duration": 9,
    "start_time": "2021-11-09T06:34:08.118Z"
   },
   {
    "duration": 38,
    "start_time": "2021-11-09T06:34:08.129Z"
   },
   {
    "duration": 8,
    "start_time": "2021-11-09T06:34:08.170Z"
   },
   {
    "duration": 6,
    "start_time": "2021-11-09T06:34:08.180Z"
   },
   {
    "duration": 11,
    "start_time": "2021-11-09T06:34:08.188Z"
   },
   {
    "duration": 14,
    "start_time": "2021-11-09T06:34:08.201Z"
   },
   {
    "duration": 10,
    "start_time": "2021-11-09T06:34:08.218Z"
   },
   {
    "duration": 4,
    "start_time": "2021-11-09T06:34:08.231Z"
   },
   {
    "duration": 4,
    "start_time": "2021-11-09T06:34:08.267Z"
   },
   {
    "duration": 11,
    "start_time": "2021-11-09T06:34:08.274Z"
   },
   {
    "duration": 9,
    "start_time": "2021-11-09T06:34:08.287Z"
   },
   {
    "duration": 7,
    "start_time": "2021-11-09T06:34:08.299Z"
   },
   {
    "duration": 454,
    "start_time": "2021-11-09T07:14:05.696Z"
   },
   {
    "duration": 6,
    "start_time": "2021-11-09T07:15:36.110Z"
   },
   {
    "duration": 34,
    "start_time": "2021-11-09T07:15:39.710Z"
   },
   {
    "duration": 30,
    "start_time": "2021-11-09T07:16:56.406Z"
   },
   {
    "duration": 48,
    "start_time": "2021-11-09T07:17:30.615Z"
   },
   {
    "duration": 32,
    "start_time": "2021-11-09T07:18:01.537Z"
   },
   {
    "duration": 33,
    "start_time": "2021-11-09T07:18:23.729Z"
   },
   {
    "duration": 31,
    "start_time": "2021-11-09T07:18:44.649Z"
   },
   {
    "duration": 286,
    "start_time": "2021-11-09T07:25:41.604Z"
   },
   {
    "duration": 95,
    "start_time": "2021-11-09T08:33:54.608Z"
   },
   {
    "duration": 106,
    "start_time": "2021-11-09T10:48:49.183Z"
   },
   {
    "duration": 90,
    "start_time": "2021-11-09T11:41:45.106Z"
   },
   {
    "duration": 431,
    "start_time": "2021-11-09T11:42:11.317Z"
   },
   {
    "duration": 796,
    "start_time": "2021-11-09T11:44:12.753Z"
   },
   {
    "duration": 200,
    "start_time": "2021-11-09T11:44:13.552Z"
   },
   {
    "duration": 15,
    "start_time": "2021-11-09T11:44:13.756Z"
   },
   {
    "duration": 27,
    "start_time": "2021-11-09T11:44:13.773Z"
   },
   {
    "duration": 7,
    "start_time": "2021-11-09T11:44:13.803Z"
   },
   {
    "duration": 29,
    "start_time": "2021-11-09T11:44:13.813Z"
   },
   {
    "duration": 5,
    "start_time": "2021-11-09T11:44:13.868Z"
   },
   {
    "duration": 37,
    "start_time": "2021-11-09T11:44:13.878Z"
   },
   {
    "duration": 27,
    "start_time": "2021-11-09T11:44:13.919Z"
   },
   {
    "duration": 34,
    "start_time": "2021-11-09T11:44:13.967Z"
   },
   {
    "duration": 110,
    "start_time": "2021-11-09T11:44:14.004Z"
   },
   {
    "duration": 123,
    "start_time": "2021-11-09T11:44:14.117Z"
   },
   {
    "duration": 85,
    "start_time": "2021-11-09T11:44:14.243Z"
   },
   {
    "duration": 69,
    "start_time": "2021-11-09T11:44:14.330Z"
   },
   {
    "duration": 5,
    "start_time": "2021-11-09T11:44:14.401Z"
   },
   {
    "duration": 17,
    "start_time": "2021-11-09T11:44:14.409Z"
   },
   {
    "duration": 84,
    "start_time": "2021-11-09T11:44:14.429Z"
   },
   {
    "duration": 16,
    "start_time": "2021-11-09T11:44:14.516Z"
   },
   {
    "duration": 41,
    "start_time": "2021-11-09T11:44:14.536Z"
   },
   {
    "duration": 5,
    "start_time": "2021-11-09T11:44:14.579Z"
   },
   {
    "duration": 47,
    "start_time": "2021-11-09T11:44:14.586Z"
   },
   {
    "duration": 52,
    "start_time": "2021-11-09T11:44:14.635Z"
   },
   {
    "duration": 32,
    "start_time": "2021-11-09T11:44:14.694Z"
   },
   {
    "duration": 57,
    "start_time": "2021-11-09T11:44:14.729Z"
   },
   {
    "duration": 33,
    "start_time": "2021-11-09T11:44:14.789Z"
   },
   {
    "duration": 59,
    "start_time": "2021-11-09T11:44:14.824Z"
   },
   {
    "duration": 383,
    "start_time": "2021-11-09T11:44:14.885Z"
   },
   {
    "duration": 3134,
    "start_time": "2021-11-09T11:44:12.136Z"
   },
   {
    "duration": 3131,
    "start_time": "2021-11-09T11:44:12.141Z"
   },
   {
    "duration": 3107,
    "start_time": "2021-11-09T11:44:12.166Z"
   },
   {
    "duration": 3092,
    "start_time": "2021-11-09T11:44:12.183Z"
   },
   {
    "duration": 3085,
    "start_time": "2021-11-09T11:44:12.191Z"
   },
   {
    "duration": 3081,
    "start_time": "2021-11-09T11:44:12.196Z"
   },
   {
    "duration": 3076,
    "start_time": "2021-11-09T11:44:12.203Z"
   },
   {
    "duration": 3072,
    "start_time": "2021-11-09T11:44:12.208Z"
   },
   {
    "duration": 3067,
    "start_time": "2021-11-09T11:44:12.214Z"
   },
   {
    "duration": 3063,
    "start_time": "2021-11-09T11:44:12.220Z"
   },
   {
    "duration": 3059,
    "start_time": "2021-11-09T11:44:12.225Z"
   },
   {
    "duration": 279,
    "start_time": "2021-11-09T11:46:12.659Z"
   },
   {
    "duration": 320,
    "start_time": "2021-11-09T11:47:47.525Z"
   },
   {
    "duration": 13,
    "start_time": "2021-11-09T11:51:08.169Z"
   },
   {
    "duration": 15,
    "start_time": "2021-11-09T12:12:18.557Z"
   },
   {
    "duration": 18,
    "start_time": "2021-11-09T12:13:47.645Z"
   },
   {
    "duration": 808,
    "start_time": "2021-11-09T12:13:59.136Z"
   },
   {
    "duration": 204,
    "start_time": "2021-11-09T12:13:59.947Z"
   },
   {
    "duration": 20,
    "start_time": "2021-11-09T12:14:00.154Z"
   },
   {
    "duration": 48,
    "start_time": "2021-11-09T12:14:00.177Z"
   },
   {
    "duration": 5,
    "start_time": "2021-11-09T12:14:00.228Z"
   },
   {
    "duration": 49,
    "start_time": "2021-11-09T12:14:00.236Z"
   },
   {
    "duration": 24,
    "start_time": "2021-11-09T12:14:00.287Z"
   },
   {
    "duration": 48,
    "start_time": "2021-11-09T12:14:00.315Z"
   },
   {
    "duration": 31,
    "start_time": "2021-11-09T12:14:00.367Z"
   },
   {
    "duration": 31,
    "start_time": "2021-11-09T12:14:00.401Z"
   },
   {
    "duration": 113,
    "start_time": "2021-11-09T12:14:00.435Z"
   },
   {
    "duration": 116,
    "start_time": "2021-11-09T12:14:00.551Z"
   },
   {
    "duration": 88,
    "start_time": "2021-11-09T12:14:00.669Z"
   },
   {
    "duration": 65,
    "start_time": "2021-11-09T12:14:00.759Z"
   },
   {
    "duration": 14,
    "start_time": "2021-11-09T12:14:00.827Z"
   },
   {
    "duration": 30,
    "start_time": "2021-11-09T12:14:00.844Z"
   },
   {
    "duration": 100,
    "start_time": "2021-11-09T12:14:00.876Z"
   },
   {
    "duration": 29,
    "start_time": "2021-11-09T12:14:00.979Z"
   },
   {
    "duration": 37,
    "start_time": "2021-11-09T12:14:01.010Z"
   },
   {
    "duration": 13,
    "start_time": "2021-11-09T12:14:01.049Z"
   },
   {
    "duration": 63,
    "start_time": "2021-11-09T12:14:01.064Z"
   },
   {
    "duration": 33,
    "start_time": "2021-11-09T12:14:01.130Z"
   },
   {
    "duration": 38,
    "start_time": "2021-11-09T12:14:01.168Z"
   },
   {
    "duration": 30,
    "start_time": "2021-11-09T12:14:01.209Z"
   },
   {
    "duration": 47,
    "start_time": "2021-11-09T12:14:01.241Z"
   },
   {
    "duration": 62,
    "start_time": "2021-11-09T12:14:01.290Z"
   },
   {
    "duration": 18,
    "start_time": "2021-11-09T12:14:01.355Z"
   },
   {
    "duration": 34,
    "start_time": "2021-11-09T12:14:01.376Z"
   },
   {
    "duration": 4,
    "start_time": "2021-11-09T12:14:01.412Z"
   },
   {
    "duration": 11,
    "start_time": "2021-11-09T12:14:01.418Z"
   },
   {
    "duration": 13,
    "start_time": "2021-11-09T12:14:01.432Z"
   },
   {
    "duration": 10,
    "start_time": "2021-11-09T12:14:01.447Z"
   },
   {
    "duration": 24,
    "start_time": "2021-11-09T12:14:01.459Z"
   },
   {
    "duration": 12,
    "start_time": "2021-11-09T12:14:01.486Z"
   },
   {
    "duration": 29,
    "start_time": "2021-11-09T12:14:01.501Z"
   },
   {
    "duration": 21,
    "start_time": "2021-11-09T12:14:01.533Z"
   },
   {
    "duration": 16,
    "start_time": "2021-11-09T12:14:01.557Z"
   },
   {
    "duration": 28,
    "start_time": "2021-11-09T12:14:01.575Z"
   },
   {
    "duration": 34,
    "start_time": "2021-11-09T12:14:58.210Z"
   },
   {
    "duration": 94,
    "start_time": "2021-11-09T12:15:41.518Z"
   },
   {
    "duration": 30,
    "start_time": "2021-11-09T12:19:14.838Z"
   },
   {
    "duration": 95,
    "start_time": "2021-11-09T12:19:45.651Z"
   },
   {
    "duration": 28,
    "start_time": "2021-11-09T12:21:23.963Z"
   },
   {
    "duration": 24,
    "start_time": "2021-11-09T12:41:13.939Z"
   },
   {
    "duration": 19,
    "start_time": "2021-11-09T12:41:15.765Z"
   },
   {
    "duration": 375,
    "start_time": "2021-11-09T12:45:02.937Z"
   },
   {
    "duration": 394,
    "start_time": "2021-11-09T12:45:34.747Z"
   },
   {
    "duration": 305,
    "start_time": "2021-11-09T12:47:15.927Z"
   },
   {
    "duration": 6,
    "start_time": "2021-11-09T12:47:19.727Z"
   },
   {
    "duration": 40,
    "start_time": "2021-11-09T12:47:23.467Z"
   },
   {
    "duration": 19,
    "start_time": "2021-11-09T12:48:47.369Z"
   },
   {
    "duration": 24,
    "start_time": "2021-11-09T12:49:29.763Z"
   },
   {
    "duration": 19,
    "start_time": "2021-11-09T12:49:55.177Z"
   },
   {
    "duration": 296,
    "start_time": "2021-11-09T12:57:04.423Z"
   },
   {
    "duration": 282,
    "start_time": "2021-11-09T12:57:08.709Z"
   },
   {
    "duration": 332,
    "start_time": "2021-11-09T12:57:11.081Z"
   },
   {
    "duration": 357,
    "start_time": "2021-11-09T12:57:32.679Z"
   },
   {
    "duration": 73,
    "start_time": "2021-11-09T13:01:24.815Z"
   },
   {
    "duration": 17,
    "start_time": "2021-11-09T13:01:31.561Z"
   },
   {
    "duration": 68,
    "start_time": "2021-11-09T13:04:55.773Z"
   },
   {
    "duration": 7,
    "start_time": "2021-11-09T13:05:00.791Z"
   },
   {
    "duration": 7,
    "start_time": "2021-11-09T13:07:24.857Z"
   },
   {
    "duration": 4,
    "start_time": "2021-11-09T13:07:43.798Z"
   },
   {
    "duration": 809,
    "start_time": "2021-11-09T13:07:54.888Z"
   },
   {
    "duration": 199,
    "start_time": "2021-11-09T13:07:55.699Z"
   },
   {
    "duration": 10,
    "start_time": "2021-11-09T13:07:55.901Z"
   },
   {
    "duration": 31,
    "start_time": "2021-11-09T13:07:55.915Z"
   },
   {
    "duration": 6,
    "start_time": "2021-11-09T13:07:55.968Z"
   },
   {
    "duration": 35,
    "start_time": "2021-11-09T13:07:55.976Z"
   },
   {
    "duration": 6,
    "start_time": "2021-11-09T13:07:56.013Z"
   },
   {
    "duration": 64,
    "start_time": "2021-11-09T13:07:56.022Z"
   },
   {
    "duration": 34,
    "start_time": "2021-11-09T13:07:56.090Z"
   },
   {
    "duration": 40,
    "start_time": "2021-11-09T13:07:56.127Z"
   },
   {
    "duration": 100,
    "start_time": "2021-11-09T13:07:56.170Z"
   },
   {
    "duration": 120,
    "start_time": "2021-11-09T13:07:56.272Z"
   },
   {
    "duration": 88,
    "start_time": "2021-11-09T13:07:56.394Z"
   },
   {
    "duration": 62,
    "start_time": "2021-11-09T13:07:56.484Z"
   },
   {
    "duration": 6,
    "start_time": "2021-11-09T13:07:56.568Z"
   },
   {
    "duration": 18,
    "start_time": "2021-11-09T13:07:56.576Z"
   },
   {
    "duration": 116,
    "start_time": "2021-11-09T13:07:56.596Z"
   },
   {
    "duration": 23,
    "start_time": "2021-11-09T13:07:56.715Z"
   },
   {
    "duration": 44,
    "start_time": "2021-11-09T13:07:56.741Z"
   },
   {
    "duration": 6,
    "start_time": "2021-11-09T13:07:56.788Z"
   },
   {
    "duration": 75,
    "start_time": "2021-11-09T13:07:56.797Z"
   },
   {
    "duration": 32,
    "start_time": "2021-11-09T13:07:56.875Z"
   },
   {
    "duration": 58,
    "start_time": "2021-11-09T13:07:56.910Z"
   },
   {
    "duration": 32,
    "start_time": "2021-11-09T13:07:56.970Z"
   },
   {
    "duration": 33,
    "start_time": "2021-11-09T13:07:57.004Z"
   },
   {
    "duration": 33,
    "start_time": "2021-11-09T13:07:57.067Z"
   },
   {
    "duration": 15,
    "start_time": "2021-11-09T13:07:57.105Z"
   },
   {
    "duration": 16,
    "start_time": "2021-11-09T13:07:57.123Z"
   },
   {
    "duration": 12,
    "start_time": "2021-11-09T13:07:57.168Z"
   },
   {
    "duration": 6,
    "start_time": "2021-11-09T13:07:57.183Z"
   },
   {
    "duration": 54,
    "start_time": "2021-11-09T13:07:57.192Z"
   },
   {
    "duration": 41,
    "start_time": "2021-11-09T13:07:57.249Z"
   },
   {
    "duration": 38,
    "start_time": "2021-11-09T13:07:57.293Z"
   },
   {
    "duration": 49,
    "start_time": "2021-11-09T13:07:57.334Z"
   },
   {
    "duration": 409,
    "start_time": "2021-11-09T13:07:57.385Z"
   },
   {
    "duration": 3133,
    "start_time": "2021-11-09T13:07:54.664Z"
   },
   {
    "duration": 3131,
    "start_time": "2021-11-09T13:07:54.668Z"
   },
   {
    "duration": 3127,
    "start_time": "2021-11-09T13:07:54.674Z"
   },
   {
    "duration": 338,
    "start_time": "2021-11-09T13:10:16.886Z"
   },
   {
    "duration": 331,
    "start_time": "2021-11-09T13:10:27.251Z"
   },
   {
    "duration": 319,
    "start_time": "2021-11-09T13:17:41.292Z"
   },
   {
    "duration": 288,
    "start_time": "2021-11-09T13:20:46.023Z"
   },
   {
    "duration": 331,
    "start_time": "2021-11-09T13:23:40.520Z"
   },
   {
    "duration": 829,
    "start_time": "2021-11-09T13:26:39.638Z"
   },
   {
    "duration": 197,
    "start_time": "2021-11-09T13:26:40.470Z"
   },
   {
    "duration": 11,
    "start_time": "2021-11-09T13:26:40.670Z"
   },
   {
    "duration": 32,
    "start_time": "2021-11-09T13:26:40.685Z"
   },
   {
    "duration": 18,
    "start_time": "2021-11-09T13:26:40.720Z"
   },
   {
    "duration": 44,
    "start_time": "2021-11-09T13:26:40.741Z"
   },
   {
    "duration": 25,
    "start_time": "2021-11-09T13:26:40.787Z"
   },
   {
    "duration": 44,
    "start_time": "2021-11-09T13:26:40.818Z"
   },
   {
    "duration": 40,
    "start_time": "2021-11-09T13:26:40.865Z"
   },
   {
    "duration": 45,
    "start_time": "2021-11-09T13:26:40.908Z"
   },
   {
    "duration": 101,
    "start_time": "2021-11-09T13:26:40.955Z"
   },
   {
    "duration": 126,
    "start_time": "2021-11-09T13:26:41.058Z"
   },
   {
    "duration": 90,
    "start_time": "2021-11-09T13:26:41.186Z"
   },
   {
    "duration": 61,
    "start_time": "2021-11-09T13:26:41.278Z"
   },
   {
    "duration": 12,
    "start_time": "2021-11-09T13:26:41.341Z"
   },
   {
    "duration": 15,
    "start_time": "2021-11-09T13:26:41.368Z"
   },
   {
    "duration": 90,
    "start_time": "2021-11-09T13:26:41.385Z"
   },
   {
    "duration": 15,
    "start_time": "2021-11-09T13:26:41.477Z"
   },
   {
    "duration": 20,
    "start_time": "2021-11-09T13:26:41.495Z"
   },
   {
    "duration": 6,
    "start_time": "2021-11-09T13:26:41.518Z"
   },
   {
    "duration": 73,
    "start_time": "2021-11-09T13:26:41.526Z"
   },
   {
    "duration": 32,
    "start_time": "2021-11-09T13:26:41.601Z"
   },
   {
    "duration": 58,
    "start_time": "2021-11-09T13:26:41.638Z"
   },
   {
    "duration": 31,
    "start_time": "2021-11-09T13:26:41.699Z"
   },
   {
    "duration": 59,
    "start_time": "2021-11-09T13:26:41.732Z"
   },
   {
    "duration": 33,
    "start_time": "2021-11-09T13:26:41.794Z"
   },
   {
    "duration": 13,
    "start_time": "2021-11-09T13:26:41.829Z"
   },
   {
    "duration": 16,
    "start_time": "2021-11-09T13:26:41.868Z"
   },
   {
    "duration": 13,
    "start_time": "2021-11-09T13:26:41.886Z"
   },
   {
    "duration": 11,
    "start_time": "2021-11-09T13:26:41.902Z"
   },
   {
    "duration": 45,
    "start_time": "2021-11-09T13:26:41.916Z"
   },
   {
    "duration": 29,
    "start_time": "2021-11-09T13:26:41.968Z"
   },
   {
    "duration": 28,
    "start_time": "2021-11-09T13:26:41.999Z"
   },
   {
    "duration": 32,
    "start_time": "2021-11-09T13:26:42.029Z"
   },
   {
    "duration": 375,
    "start_time": "2021-11-09T13:26:42.067Z"
   },
   {
    "duration": 3183,
    "start_time": "2021-11-09T13:26:39.262Z"
   },
   {
    "duration": 3176,
    "start_time": "2021-11-09T13:26:39.270Z"
   },
   {
    "duration": 3174,
    "start_time": "2021-11-09T13:26:39.274Z"
   },
   {
    "duration": 318,
    "start_time": "2021-11-09T13:42:48.922Z"
   },
   {
    "duration": 1017,
    "start_time": "2021-11-09T13:43:44.257Z"
   },
   {
    "duration": 277,
    "start_time": "2021-11-09T13:43:45.278Z"
   },
   {
    "duration": 15,
    "start_time": "2021-11-09T13:43:45.559Z"
   },
   {
    "duration": 31,
    "start_time": "2021-11-09T13:43:45.578Z"
   },
   {
    "duration": 8,
    "start_time": "2021-11-09T13:43:45.612Z"
   },
   {
    "duration": 71,
    "start_time": "2021-11-09T13:43:45.623Z"
   },
   {
    "duration": 8,
    "start_time": "2021-11-09T13:43:45.698Z"
   },
   {
    "duration": 56,
    "start_time": "2021-11-09T13:43:45.712Z"
   },
   {
    "duration": 22,
    "start_time": "2021-11-09T13:43:45.771Z"
   },
   {
    "duration": 74,
    "start_time": "2021-11-09T13:43:45.796Z"
   },
   {
    "duration": 147,
    "start_time": "2021-11-09T13:43:45.873Z"
   },
   {
    "duration": 162,
    "start_time": "2021-11-09T13:43:46.023Z"
   },
   {
    "duration": 125,
    "start_time": "2021-11-09T13:43:46.189Z"
   },
   {
    "duration": 103,
    "start_time": "2021-11-09T13:43:46.316Z"
   },
   {
    "duration": 5,
    "start_time": "2021-11-09T13:43:46.422Z"
   },
   {
    "duration": 41,
    "start_time": "2021-11-09T13:43:46.429Z"
   },
   {
    "duration": 58,
    "start_time": "2021-11-09T13:43:46.473Z"
   },
   {
    "duration": 40,
    "start_time": "2021-11-09T13:43:46.534Z"
   },
   {
    "duration": 17,
    "start_time": "2021-11-09T13:43:46.576Z"
   },
   {
    "duration": 4,
    "start_time": "2021-11-09T13:43:46.596Z"
   },
   {
    "duration": 72,
    "start_time": "2021-11-09T13:43:46.603Z"
   },
   {
    "duration": 32,
    "start_time": "2021-11-09T13:43:46.678Z"
   },
   {
    "duration": 60,
    "start_time": "2021-11-09T13:43:46.718Z"
   },
   {
    "duration": 30,
    "start_time": "2021-11-09T13:43:46.781Z"
   },
   {
    "duration": 57,
    "start_time": "2021-11-09T13:43:46.813Z"
   },
   {
    "duration": 32,
    "start_time": "2021-11-09T13:43:46.873Z"
   },
   {
    "duration": 14,
    "start_time": "2021-11-09T13:43:46.907Z"
   },
   {
    "duration": 48,
    "start_time": "2021-11-09T13:43:46.924Z"
   },
   {
    "duration": 12,
    "start_time": "2021-11-09T13:43:46.975Z"
   },
   {
    "duration": 7,
    "start_time": "2021-11-09T13:43:46.990Z"
   },
   {
    "duration": 51,
    "start_time": "2021-11-09T13:43:47.000Z"
   },
   {
    "duration": 26,
    "start_time": "2021-11-09T13:43:47.069Z"
   },
   {
    "duration": 28,
    "start_time": "2021-11-09T13:43:47.097Z"
   },
   {
    "duration": 57,
    "start_time": "2021-11-09T13:43:47.127Z"
   },
   {
    "duration": 394,
    "start_time": "2021-11-09T13:43:47.187Z"
   },
   {
    "duration": 3153,
    "start_time": "2021-11-09T13:43:44.431Z"
   },
   {
    "duration": 3146,
    "start_time": "2021-11-09T13:43:44.439Z"
   },
   {
    "duration": 3141,
    "start_time": "2021-11-09T13:43:44.446Z"
   },
   {
    "duration": 15,
    "start_time": "2021-11-09T13:45:53.754Z"
   },
   {
    "duration": 362,
    "start_time": "2021-11-09T13:46:06.870Z"
   },
   {
    "duration": 296,
    "start_time": "2021-11-09T13:52:31.507Z"
   },
   {
    "duration": 10,
    "start_time": "2021-11-09T14:51:54.829Z"
   },
   {
    "duration": 7,
    "start_time": "2021-11-09T14:52:17.467Z"
   },
   {
    "duration": 12,
    "start_time": "2021-11-09T14:54:17.165Z"
   },
   {
    "duration": 9,
    "start_time": "2021-11-09T14:54:28.633Z"
   },
   {
    "duration": 8,
    "start_time": "2021-11-09T15:02:22.235Z"
   },
   {
    "duration": 7,
    "start_time": "2021-11-09T15:02:24.795Z"
   },
   {
    "duration": 792,
    "start_time": "2021-11-09T15:02:36.385Z"
   },
   {
    "duration": 190,
    "start_time": "2021-11-09T15:02:37.179Z"
   },
   {
    "duration": 11,
    "start_time": "2021-11-09T15:02:37.373Z"
   },
   {
    "duration": 23,
    "start_time": "2021-11-09T15:02:37.388Z"
   },
   {
    "duration": 11,
    "start_time": "2021-11-09T15:02:37.414Z"
   },
   {
    "duration": 77,
    "start_time": "2021-11-09T15:02:37.428Z"
   },
   {
    "duration": 10,
    "start_time": "2021-11-09T15:02:37.508Z"
   },
   {
    "duration": 64,
    "start_time": "2021-11-09T15:02:37.524Z"
   },
   {
    "duration": 33,
    "start_time": "2021-11-09T15:02:37.592Z"
   },
   {
    "duration": 64,
    "start_time": "2021-11-09T15:02:37.629Z"
   },
   {
    "duration": 105,
    "start_time": "2021-11-09T15:02:37.696Z"
   },
   {
    "duration": 119,
    "start_time": "2021-11-09T15:02:37.804Z"
   },
   {
    "duration": 88,
    "start_time": "2021-11-09T15:02:37.926Z"
   },
   {
    "duration": 67,
    "start_time": "2021-11-09T15:02:38.017Z"
   },
   {
    "duration": 5,
    "start_time": "2021-11-09T15:02:38.087Z"
   },
   {
    "duration": 24,
    "start_time": "2021-11-09T15:02:38.095Z"
   },
   {
    "duration": 78,
    "start_time": "2021-11-09T15:02:38.122Z"
   },
   {
    "duration": 16,
    "start_time": "2021-11-09T15:02:38.203Z"
   },
   {
    "duration": 20,
    "start_time": "2021-11-09T15:02:38.221Z"
   },
   {
    "duration": 5,
    "start_time": "2021-11-09T15:02:38.268Z"
   },
   {
    "duration": 68,
    "start_time": "2021-11-09T15:02:38.276Z"
   },
   {
    "duration": 52,
    "start_time": "2021-11-09T15:02:38.347Z"
   },
   {
    "duration": 32,
    "start_time": "2021-11-09T15:02:38.404Z"
   },
   {
    "duration": 54,
    "start_time": "2021-11-09T15:02:38.439Z"
   },
   {
    "duration": 35,
    "start_time": "2021-11-09T15:02:38.496Z"
   },
   {
    "duration": 62,
    "start_time": "2021-11-09T15:02:38.534Z"
   },
   {
    "duration": 13,
    "start_time": "2021-11-09T15:02:38.599Z"
   },
   {
    "duration": 20,
    "start_time": "2021-11-09T15:02:38.615Z"
   },
   {
    "duration": 43,
    "start_time": "2021-11-09T15:02:38.637Z"
   },
   {
    "duration": 5,
    "start_time": "2021-11-09T15:02:38.683Z"
   },
   {
    "duration": 33,
    "start_time": "2021-11-09T15:02:38.691Z"
   },
   {
    "duration": 50,
    "start_time": "2021-11-09T15:02:38.727Z"
   },
   {
    "duration": 27,
    "start_time": "2021-11-09T15:02:38.781Z"
   },
   {
    "duration": 19,
    "start_time": "2021-11-09T15:02:38.810Z"
   },
   {
    "duration": 48,
    "start_time": "2021-11-09T15:02:38.831Z"
   },
   {
    "duration": 6,
    "start_time": "2021-11-09T15:02:38.882Z"
   },
   {
    "duration": 22,
    "start_time": "2021-11-09T15:02:38.891Z"
   },
   {
    "duration": 9,
    "start_time": "2021-11-09T15:02:38.916Z"
   },
   {
    "duration": 12,
    "start_time": "2021-11-09T15:03:33.714Z"
   },
   {
    "duration": 7,
    "start_time": "2021-11-09T15:03:36.596Z"
   },
   {
    "duration": 8,
    "start_time": "2021-11-09T15:03:49.494Z"
   },
   {
    "duration": 6,
    "start_time": "2021-11-09T15:03:53.070Z"
   },
   {
    "duration": 11,
    "start_time": "2021-11-09T15:04:59.629Z"
   },
   {
    "duration": 7,
    "start_time": "2021-11-09T15:05:01.994Z"
   },
   {
    "duration": 11,
    "start_time": "2021-11-09T15:05:24.201Z"
   },
   {
    "duration": 7,
    "start_time": "2021-11-09T15:05:26.867Z"
   },
   {
    "duration": 15,
    "start_time": "2021-11-09T15:07:44.287Z"
   },
   {
    "duration": 7,
    "start_time": "2021-11-09T15:07:52.068Z"
   },
   {
    "duration": 14,
    "start_time": "2021-11-09T15:08:04.467Z"
   },
   {
    "duration": 6,
    "start_time": "2021-11-09T15:08:10.612Z"
   },
   {
    "duration": 12,
    "start_time": "2021-11-09T15:09:15.119Z"
   },
   {
    "duration": 7,
    "start_time": "2021-11-09T15:09:20.649Z"
   },
   {
    "duration": 10,
    "start_time": "2021-11-09T15:09:46.656Z"
   },
   {
    "duration": 6,
    "start_time": "2021-11-09T15:09:49.526Z"
   },
   {
    "duration": 912,
    "start_time": "2021-11-10T08:52:06.210Z"
   },
   {
    "duration": 181,
    "start_time": "2021-11-10T08:52:07.125Z"
   },
   {
    "duration": 10,
    "start_time": "2021-11-10T08:52:07.309Z"
   },
   {
    "duration": 38,
    "start_time": "2021-11-10T08:52:07.322Z"
   },
   {
    "duration": 19,
    "start_time": "2021-11-10T08:52:07.362Z"
   },
   {
    "duration": 43,
    "start_time": "2021-11-10T08:52:07.384Z"
   },
   {
    "duration": 20,
    "start_time": "2021-11-10T08:52:07.429Z"
   },
   {
    "duration": 47,
    "start_time": "2021-11-10T08:52:07.453Z"
   },
   {
    "duration": 37,
    "start_time": "2021-11-10T08:52:07.502Z"
   },
   {
    "duration": 35,
    "start_time": "2021-11-10T08:52:07.542Z"
   },
   {
    "duration": 91,
    "start_time": "2021-11-10T08:52:07.579Z"
   },
   {
    "duration": 109,
    "start_time": "2021-11-10T08:52:07.673Z"
   },
   {
    "duration": 85,
    "start_time": "2021-11-10T08:52:07.784Z"
   },
   {
    "duration": 56,
    "start_time": "2021-11-10T08:52:07.872Z"
   },
   {
    "duration": 12,
    "start_time": "2021-11-10T08:52:07.930Z"
   },
   {
    "duration": 27,
    "start_time": "2021-11-10T08:52:07.945Z"
   },
   {
    "duration": 64,
    "start_time": "2021-11-10T08:52:07.975Z"
   },
   {
    "duration": 24,
    "start_time": "2021-11-10T08:52:08.042Z"
   },
   {
    "duration": 15,
    "start_time": "2021-11-10T08:52:08.068Z"
   },
   {
    "duration": 11,
    "start_time": "2021-11-10T08:52:08.086Z"
   },
   {
    "duration": 52,
    "start_time": "2021-11-10T08:52:08.100Z"
   },
   {
    "duration": 28,
    "start_time": "2021-11-10T08:52:08.160Z"
   },
   {
    "duration": 38,
    "start_time": "2021-11-10T08:52:08.193Z"
   },
   {
    "duration": 45,
    "start_time": "2021-11-10T08:52:08.234Z"
   },
   {
    "duration": 30,
    "start_time": "2021-11-10T08:52:08.282Z"
   },
   {
    "duration": 52,
    "start_time": "2021-11-10T08:52:08.314Z"
   },
   {
    "duration": 12,
    "start_time": "2021-11-10T08:52:08.368Z"
   },
   {
    "duration": 23,
    "start_time": "2021-11-10T08:52:08.382Z"
   },
   {
    "duration": 16,
    "start_time": "2021-11-10T08:52:08.408Z"
   },
   {
    "duration": 5,
    "start_time": "2021-11-10T08:52:08.426Z"
   },
   {
    "duration": 43,
    "start_time": "2021-11-10T08:52:08.433Z"
   },
   {
    "duration": 22,
    "start_time": "2021-11-10T08:52:08.478Z"
   },
   {
    "duration": 34,
    "start_time": "2021-11-10T08:52:08.502Z"
   },
   {
    "duration": 35,
    "start_time": "2021-11-10T08:52:08.540Z"
   },
   {
    "duration": 23,
    "start_time": "2021-11-10T08:52:08.577Z"
   },
   {
    "duration": 10,
    "start_time": "2021-11-10T08:52:08.602Z"
   },
   {
    "duration": 16,
    "start_time": "2021-11-10T08:52:08.614Z"
   },
   {
    "duration": 29,
    "start_time": "2021-11-10T08:52:08.632Z"
   },
   {
    "duration": 30,
    "start_time": "2021-11-10T08:52:48.005Z"
   },
   {
    "duration": 11,
    "start_time": "2021-11-10T08:52:51.643Z"
   },
   {
    "duration": 16,
    "start_time": "2021-11-10T08:58:16.568Z"
   },
   {
    "duration": 9,
    "start_time": "2021-11-10T08:58:23.307Z"
   },
   {
    "duration": 4,
    "start_time": "2021-11-10T08:58:27.968Z"
   },
   {
    "duration": 203,
    "start_time": "2021-11-10T08:58:27.975Z"
   },
   {
    "duration": 9,
    "start_time": "2021-11-10T08:58:28.181Z"
   },
   {
    "duration": 21,
    "start_time": "2021-11-10T08:58:28.193Z"
   },
   {
    "duration": 21,
    "start_time": "2021-11-10T08:58:28.217Z"
   },
   {
    "duration": 36,
    "start_time": "2021-11-10T08:58:28.240Z"
   },
   {
    "duration": 6,
    "start_time": "2021-11-10T08:58:28.278Z"
   },
   {
    "duration": 34,
    "start_time": "2021-11-10T08:58:28.288Z"
   },
   {
    "duration": 46,
    "start_time": "2021-11-10T08:58:28.325Z"
   },
   {
    "duration": 27,
    "start_time": "2021-11-10T08:58:28.373Z"
   },
   {
    "duration": 98,
    "start_time": "2021-11-10T08:58:28.403Z"
   },
   {
    "duration": 96,
    "start_time": "2021-11-10T08:58:28.503Z"
   },
   {
    "duration": 79,
    "start_time": "2021-11-10T08:58:28.601Z"
   },
   {
    "duration": 55,
    "start_time": "2021-11-10T08:58:28.682Z"
   },
   {
    "duration": 20,
    "start_time": "2021-11-10T08:58:28.740Z"
   },
   {
    "duration": 22,
    "start_time": "2021-11-10T08:58:28.762Z"
   },
   {
    "duration": 58,
    "start_time": "2021-11-10T08:58:28.786Z"
   },
   {
    "duration": 15,
    "start_time": "2021-11-10T08:58:28.859Z"
   },
   {
    "duration": 15,
    "start_time": "2021-11-10T08:58:28.877Z"
   },
   {
    "duration": 4,
    "start_time": "2021-11-10T08:58:28.894Z"
   },
   {
    "duration": 66,
    "start_time": "2021-11-10T08:58:28.900Z"
   },
   {
    "duration": 33,
    "start_time": "2021-11-10T08:58:28.969Z"
   },
   {
    "duration": 67,
    "start_time": "2021-11-10T08:58:29.016Z"
   },
   {
    "duration": 46,
    "start_time": "2021-11-10T08:58:29.087Z"
   },
   {
    "duration": 52,
    "start_time": "2021-11-10T08:58:29.136Z"
   },
   {
    "duration": 30,
    "start_time": "2021-11-10T08:58:29.190Z"
   },
   {
    "duration": 38,
    "start_time": "2021-11-10T08:58:29.222Z"
   },
   {
    "duration": 19,
    "start_time": "2021-11-10T08:58:29.262Z"
   },
   {
    "duration": 13,
    "start_time": "2021-11-10T08:58:29.283Z"
   },
   {
    "duration": 5,
    "start_time": "2021-11-10T08:58:29.298Z"
   },
   {
    "duration": 55,
    "start_time": "2021-11-10T08:58:29.305Z"
   },
   {
    "duration": 17,
    "start_time": "2021-11-10T08:58:29.362Z"
   },
   {
    "duration": 25,
    "start_time": "2021-11-10T08:58:29.381Z"
   },
   {
    "duration": 27,
    "start_time": "2021-11-10T08:58:29.408Z"
   },
   {
    "duration": 30,
    "start_time": "2021-11-10T08:58:29.437Z"
   },
   {
    "duration": 14,
    "start_time": "2021-11-10T08:58:29.470Z"
   },
   {
    "duration": 17,
    "start_time": "2021-11-10T08:58:29.487Z"
   },
   {
    "duration": 16,
    "start_time": "2021-11-10T08:58:29.506Z"
   },
   {
    "duration": 373,
    "start_time": "2021-11-10T09:27:48.342Z"
   },
   {
    "duration": 6,
    "start_time": "2021-11-10T09:27:52.657Z"
   },
   {
    "duration": 4,
    "start_time": "2021-11-10T09:54:28.833Z"
   },
   {
    "duration": 246,
    "start_time": "2021-11-10T09:54:28.840Z"
   },
   {
    "duration": 14,
    "start_time": "2021-11-10T09:54:29.090Z"
   },
   {
    "duration": 18,
    "start_time": "2021-11-10T09:54:29.107Z"
   },
   {
    "duration": 32,
    "start_time": "2021-11-10T09:54:29.128Z"
   },
   {
    "duration": 21,
    "start_time": "2021-11-10T09:54:29.163Z"
   },
   {
    "duration": 5,
    "start_time": "2021-11-10T09:54:29.187Z"
   },
   {
    "duration": 31,
    "start_time": "2021-11-10T09:54:29.195Z"
   },
   {
    "duration": 49,
    "start_time": "2021-11-10T09:54:29.229Z"
   },
   {
    "duration": 43,
    "start_time": "2021-11-10T09:54:29.280Z"
   },
   {
    "duration": 92,
    "start_time": "2021-11-10T09:54:29.325Z"
   },
   {
    "duration": 98,
    "start_time": "2021-11-10T09:54:29.419Z"
   },
   {
    "duration": 77,
    "start_time": "2021-11-10T09:54:29.519Z"
   },
   {
    "duration": 62,
    "start_time": "2021-11-10T09:54:29.599Z"
   },
   {
    "duration": 4,
    "start_time": "2021-11-10T09:54:29.664Z"
   },
   {
    "duration": 16,
    "start_time": "2021-11-10T09:54:29.670Z"
   },
   {
    "duration": 77,
    "start_time": "2021-11-10T09:54:29.689Z"
   },
   {
    "duration": 16,
    "start_time": "2021-11-10T09:54:29.768Z"
   },
   {
    "duration": 14,
    "start_time": "2021-11-10T09:54:29.786Z"
   },
   {
    "duration": 4,
    "start_time": "2021-11-10T09:54:29.802Z"
   },
   {
    "duration": 72,
    "start_time": "2021-11-10T09:54:29.808Z"
   },
   {
    "duration": 29,
    "start_time": "2021-11-10T09:54:29.882Z"
   },
   {
    "duration": 50,
    "start_time": "2021-11-10T09:54:29.915Z"
   },
   {
    "duration": 29,
    "start_time": "2021-11-10T09:54:29.968Z"
   },
   {
    "duration": 31,
    "start_time": "2021-11-10T09:54:29.999Z"
   },
   {
    "duration": 32,
    "start_time": "2021-11-10T09:54:30.058Z"
   },
   {
    "duration": 13,
    "start_time": "2021-11-10T09:54:30.092Z"
   },
   {
    "duration": 43,
    "start_time": "2021-11-10T09:54:30.107Z"
   },
   {
    "duration": 18,
    "start_time": "2021-11-10T09:54:30.152Z"
   },
   {
    "duration": 6,
    "start_time": "2021-11-10T09:54:30.172Z"
   },
   {
    "duration": 30,
    "start_time": "2021-11-10T09:54:30.180Z"
   },
   {
    "duration": 18,
    "start_time": "2021-11-10T09:54:30.213Z"
   },
   {
    "duration": 24,
    "start_time": "2021-11-10T09:54:30.260Z"
   },
   {
    "duration": 32,
    "start_time": "2021-11-10T09:54:30.286Z"
   },
   {
    "duration": 12,
    "start_time": "2021-11-10T09:54:30.320Z"
   },
   {
    "duration": 27,
    "start_time": "2021-11-10T09:54:30.334Z"
   },
   {
    "duration": 24,
    "start_time": "2021-11-10T09:54:30.363Z"
   },
   {
    "duration": 19,
    "start_time": "2021-11-10T09:54:30.389Z"
   },
   {
    "duration": 72,
    "start_time": "2021-11-10T11:02:48.269Z"
   },
   {
    "duration": 72,
    "start_time": "2021-11-10T11:03:05.634Z"
   },
   {
    "duration": 309,
    "start_time": "2021-11-10T11:49:49.638Z"
   },
   {
    "duration": 270,
    "start_time": "2021-11-10T11:50:33.079Z"
   },
   {
    "duration": 686,
    "start_time": "2021-11-10T11:50:45.046Z"
   },
   {
    "duration": 156,
    "start_time": "2021-11-10T11:50:49.360Z"
   },
   {
    "duration": 17,
    "start_time": "2021-11-10T11:50:59.850Z"
   },
   {
    "duration": 26,
    "start_time": "2021-11-10T11:51:21.926Z"
   },
   {
    "duration": 4,
    "start_time": "2021-11-10T11:52:02.371Z"
   },
   {
    "duration": 22,
    "start_time": "2021-11-10T11:52:10.271Z"
   },
   {
    "duration": 5,
    "start_time": "2021-11-10T11:52:13.836Z"
   },
   {
    "duration": 25,
    "start_time": "2021-11-10T11:52:20.078Z"
   },
   {
    "duration": 20,
    "start_time": "2021-11-10T11:52:37.298Z"
   },
   {
    "duration": 24,
    "start_time": "2021-11-10T11:52:45.583Z"
   },
   {
    "duration": 67,
    "start_time": "2021-11-10T11:53:19.278Z"
   },
   {
    "duration": 79,
    "start_time": "2021-11-10T11:53:40.199Z"
   },
   {
    "duration": 56,
    "start_time": "2021-11-10T11:53:54.614Z"
   },
   {
    "duration": 68,
    "start_time": "2021-11-10T11:54:06.780Z"
   },
   {
    "duration": 5,
    "start_time": "2021-11-10T11:54:55.119Z"
   },
   {
    "duration": 16,
    "start_time": "2021-11-10T11:55:00.312Z"
   },
   {
    "duration": 69,
    "start_time": "2021-11-10T11:55:04.259Z"
   },
   {
    "duration": 20,
    "start_time": "2021-11-10T11:55:30.265Z"
   },
   {
    "duration": 13,
    "start_time": "2021-11-10T11:55:45.152Z"
   },
   {
    "duration": 4,
    "start_time": "2021-11-10T11:59:45.870Z"
   },
   {
    "duration": 19,
    "start_time": "2021-11-10T12:00:01.408Z"
   },
   {
    "duration": 16,
    "start_time": "2021-11-10T12:00:12.230Z"
   },
   {
    "duration": 17,
    "start_time": "2021-11-10T12:00:15.362Z"
   },
   {
    "duration": 16,
    "start_time": "2021-11-10T12:00:18.317Z"
   },
   {
    "duration": 18,
    "start_time": "2021-11-10T12:00:20.626Z"
   },
   {
    "duration": 17,
    "start_time": "2021-11-10T12:00:22.890Z"
   },
   {
    "duration": 10,
    "start_time": "2021-11-10T12:01:20.111Z"
   },
   {
    "duration": 14,
    "start_time": "2021-11-10T12:01:29.710Z"
   },
   {
    "duration": 11,
    "start_time": "2021-11-10T12:01:31.872Z"
   },
   {
    "duration": 4,
    "start_time": "2021-11-10T12:01:35.132Z"
   },
   {
    "duration": 22,
    "start_time": "2021-11-10T12:01:39.330Z"
   },
   {
    "duration": 15,
    "start_time": "2021-11-10T12:01:41.462Z"
   },
   {
    "duration": 20,
    "start_time": "2021-11-10T12:01:45.051Z"
   },
   {
    "duration": 15,
    "start_time": "2021-11-10T12:01:47.216Z"
   },
   {
    "duration": 10,
    "start_time": "2021-11-10T12:02:01.871Z"
   },
   {
    "duration": 5,
    "start_time": "2021-11-10T12:02:05.105Z"
   },
   {
    "duration": 7,
    "start_time": "2021-11-10T12:02:09.214Z"
   },
   {
    "duration": 5,
    "start_time": "2021-11-10T12:02:11.810Z"
   },
   {
    "duration": 109,
    "start_time": "2021-11-10T12:09:21.276Z"
   },
   {
    "duration": 87,
    "start_time": "2021-11-10T12:09:32.216Z"
   },
   {
    "duration": 116,
    "start_time": "2021-11-10T12:48:32.765Z"
   },
   {
    "duration": 82,
    "start_time": "2021-11-10T12:53:39.419Z"
   }
  ],
  "colab": {
   "collapsed_sections": [
    "E0vqbgi9ay0H",
    "VUC88oWjTJw2"
   ],
   "name": "yandex_music_project_2021.2.ipynb",
   "provenance": []
  },
  "kernelspec": {
   "display_name": "Python 3 (ipykernel)",
   "language": "python",
   "name": "python3"
  },
  "language_info": {
   "codemirror_mode": {
    "name": "ipython",
    "version": 3
   },
   "file_extension": ".py",
   "mimetype": "text/x-python",
   "name": "python",
   "nbconvert_exporter": "python",
   "pygments_lexer": "ipython3",
   "version": "3.9.5"
  },
  "toc": {
   "base_numbering": 1,
   "nav_menu": {},
   "number_sections": true,
   "sideBar": true,
   "skip_h1_title": true,
   "title_cell": "Table of Contents",
   "title_sidebar": "Contents",
   "toc_cell": false,
   "toc_position": {
    "height": "calc(100% - 180px)",
    "left": "10px",
    "top": "150px",
    "width": "188.6px"
   },
   "toc_section_display": true,
   "toc_window_display": true
  }
 },
 "nbformat": 4,
 "nbformat_minor": 1
}
