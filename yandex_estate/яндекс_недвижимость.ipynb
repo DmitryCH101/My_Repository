{
 "cells": [
  {
   "cell_type": "markdown",
   "metadata": {
    "toc": true
   },
   "source": [
    "<h1>Содержание<span class=\"tocSkip\"></span></h1>\n",
    "<div class=\"toc\"><ul class=\"toc-item\"><li><span><a href=\"#Изучение-данных-из-файла\" data-toc-modified-id=\"Изучение-данных-из-файла-1\"><span class=\"toc-item-num\">1&nbsp;&nbsp;</span>Изучение данных из файла</a></span><ul class=\"toc-item\"><li><span><a href=\"#Вывод\" data-toc-modified-id=\"Вывод-1.1\"><span class=\"toc-item-num\">1.1&nbsp;&nbsp;</span>Вывод</a></span></li></ul></li><li><span><a href=\"#Предобработка-данных\" data-toc-modified-id=\"Предобработка-данных-2\"><span class=\"toc-item-num\">2&nbsp;&nbsp;</span>Предобработка данных</a></span><ul class=\"toc-item\"><li><span><a href=\"#Преобразования\" data-toc-modified-id=\"Преобразования-2.1\"><span class=\"toc-item-num\">2.1&nbsp;&nbsp;</span>Преобразования</a></span></li><li><span><a href=\"#Подсчет-и-удаление-пропусков\" data-toc-modified-id=\"Подсчет-и-удаление-пропусков-2.2\"><span class=\"toc-item-num\">2.2&nbsp;&nbsp;</span>Подсчет и удаление пропусков</a></span></li><li><span><a href=\"#Работа-с-дубликатами\" data-toc-modified-id=\"Работа-с-дубликатами-2.3\"><span class=\"toc-item-num\">2.3&nbsp;&nbsp;</span>Работа с дубликатами</a></span></li></ul></li><li><span><a href=\"#Расчёты-и-добавление-результатов-в-таблицу\" data-toc-modified-id=\"Расчёты-и-добавление-результатов-в-таблицу-3\"><span class=\"toc-item-num\">3&nbsp;&nbsp;</span>Расчёты и добавление результатов в таблицу</a></span><ul class=\"toc-item\"><li><span><a href=\"#Добавление-в-таблицу-столбца-с-ценой-квадратного-метра-недвижимости\" data-toc-modified-id=\"Добавление-в-таблицу-столбца-с-ценой-квадратного-метра-недвижимости-3.1\"><span class=\"toc-item-num\">3.1&nbsp;&nbsp;</span>Добавление в таблицу столбца с ценой квадратного метра недвижимости</a></span></li><li><span><a href=\"#Добавление-в-таблицу-столбцов-с-датой-публакции-объявления-по-году,-месяцу-и-дню\" data-toc-modified-id=\"Добавление-в-таблицу-столбцов-с-датой-публакции-объявления-по-году,-месяцу-и-дню-3.2\"><span class=\"toc-item-num\">3.2&nbsp;&nbsp;</span>Добавление в таблицу столбцов с датой публакции объявления по году, месяцу и дню</a></span></li><li><span><a href=\"#Добавление-в-таблицу-столбца-с-категориями-этажей\" data-toc-modified-id=\"Добавление-в-таблицу-столбца-с-категориями-этажей-3.3\"><span class=\"toc-item-num\">3.3&nbsp;&nbsp;</span>Добавление в таблицу столбца с категориями этажей</a></span></li><li><span><a href=\"#Добавление-в-таблицу-столбцов-с-соотношениями-жилой-площади-и-площади-кухни-к-общей\" data-toc-modified-id=\"Добавление-в-таблицу-столбцов-с-соотношениями-жилой-площади-и-площади-кухни-к-общей-3.4\"><span class=\"toc-item-num\">3.4&nbsp;&nbsp;</span>Добавление в таблицу столбцов с соотношениями жилой площади и площади кухни к общей</a></span></li></ul></li><li><span><a href=\"#Исследовательский-анализ-данных\" data-toc-modified-id=\"Исследовательский-анализ-данных-4\"><span class=\"toc-item-num\">4&nbsp;&nbsp;</span>Исследовательский анализ данных</a></span><ul class=\"toc-item\"><li><span><a href=\"#Построение-гистограмм\" data-toc-modified-id=\"Построение-гистограмм-4.1\"><span class=\"toc-item-num\">4.1&nbsp;&nbsp;</span>Построение гистограмм</a></span></li><li><span><a href=\"#Исследовательский-анализ\" data-toc-modified-id=\"Исследовательский-анализ-4.2\"><span class=\"toc-item-num\">4.2&nbsp;&nbsp;</span>Исследовательский анализ</a></span></li><li><span><a href=\"#Перезапись-датасета\" data-toc-modified-id=\"Перезапись-датасета-4.3\"><span class=\"toc-item-num\">4.3&nbsp;&nbsp;</span>Перезапись датасета</a></span></li><li><span><a href=\"#Выявление-зависимостей-(корреляции)\" data-toc-modified-id=\"Выявление-зависимостей-(корреляции)-4.4\"><span class=\"toc-item-num\">4.4&nbsp;&nbsp;</span>Выявление зависимостей (корреляции)</a></span></li><li><span><a href=\"#Исследование-данных-по-Санкт-Петербургу\" data-toc-modified-id=\"Исследование-данных-по-Санкт-Петербургу-4.5\"><span class=\"toc-item-num\">4.5&nbsp;&nbsp;</span>Исследование данных по Санкт-Петербургу</a></span></li><li><span><a href=\"#Сужение-выборки-для-продолжения-исследовательского-анализа\" data-toc-modified-id=\"Сужение-выборки-для-продолжения-исследовательского-анализа-4.6\"><span class=\"toc-item-num\">4.6&nbsp;&nbsp;</span>Сужение выборки для продолжения исследовательского анализа</a></span></li></ul></li><li><span><a href=\"#Общий-вывод\" data-toc-modified-id=\"Общий-вывод-5\"><span class=\"toc-item-num\">5&nbsp;&nbsp;</span>Общий вывод</a></span></li></ul></div>"
   ]
  },
  {
   "cell_type": "markdown",
   "metadata": {},
   "source": [
    "# Исследование объявлений о продаже квартир\n",
    "\n",
    "В вашем распоряжении данные сервиса Яндекс.Недвижимость — архив объявлений о продаже квартир в Санкт-Петербурге и соседних населённых пунктах за несколько лет. Нужно научиться определять рыночную стоимость объектов недвижимости. Ваша задача — установить параметры. Это позволит построить автоматизированную систему: она отследит аномалии и мошенническую деятельность. \n",
    "\n",
    "По каждой квартире на продажу доступны два вида данных. Первые вписаны пользователем, вторые получены автоматически на основе картографических данных. Например, расстояние до центра, аэропорта, ближайшего парка и водоёма. "
   ]
  },
  {
   "cell_type": "markdown",
   "metadata": {},
   "source": [
    "## Изучение данных из файла"
   ]
  },
  {
   "cell_type": "code",
   "execution_count": 1,
   "metadata": {},
   "outputs": [],
   "source": [
    "import pandas as pd\n",
    "import warnings # на всякий случай отключим преудпреждения\n",
    "warnings.filterwarnings('ignore')"
   ]
  },
  {
   "cell_type": "code",
   "execution_count": 2,
   "metadata": {},
   "outputs": [],
   "source": [
    "data = pd.read_csv('/datasets/real_estate_data.csv', sep='\\t')"
   ]
  },
  {
   "cell_type": "code",
   "execution_count": 3,
   "metadata": {},
   "outputs": [
    {
     "data": {
      "text/html": [
       "<div>\n",
       "<style scoped>\n",
       "    .dataframe tbody tr th:only-of-type {\n",
       "        vertical-align: middle;\n",
       "    }\n",
       "\n",
       "    .dataframe tbody tr th {\n",
       "        vertical-align: top;\n",
       "    }\n",
       "\n",
       "    .dataframe thead th {\n",
       "        text-align: right;\n",
       "    }\n",
       "</style>\n",
       "<table border=\"1\" class=\"dataframe\">\n",
       "  <thead>\n",
       "    <tr style=\"text-align: right;\">\n",
       "      <th></th>\n",
       "      <th>total_images</th>\n",
       "      <th>last_price</th>\n",
       "      <th>total_area</th>\n",
       "      <th>first_day_exposition</th>\n",
       "      <th>rooms</th>\n",
       "      <th>ceiling_height</th>\n",
       "      <th>floors_total</th>\n",
       "      <th>living_area</th>\n",
       "      <th>floor</th>\n",
       "      <th>is_apartment</th>\n",
       "      <th>...</th>\n",
       "      <th>kitchen_area</th>\n",
       "      <th>balcony</th>\n",
       "      <th>locality_name</th>\n",
       "      <th>airports_nearest</th>\n",
       "      <th>cityCenters_nearest</th>\n",
       "      <th>parks_around3000</th>\n",
       "      <th>parks_nearest</th>\n",
       "      <th>ponds_around3000</th>\n",
       "      <th>ponds_nearest</th>\n",
       "      <th>days_exposition</th>\n",
       "    </tr>\n",
       "  </thead>\n",
       "  <tbody>\n",
       "    <tr>\n",
       "      <td>0</td>\n",
       "      <td>20</td>\n",
       "      <td>13000000.0</td>\n",
       "      <td>108.00</td>\n",
       "      <td>2019-03-07T00:00:00</td>\n",
       "      <td>3</td>\n",
       "      <td>2.70</td>\n",
       "      <td>16.0</td>\n",
       "      <td>51.00</td>\n",
       "      <td>8</td>\n",
       "      <td>NaN</td>\n",
       "      <td>...</td>\n",
       "      <td>25.00</td>\n",
       "      <td>NaN</td>\n",
       "      <td>Санкт-Петербург</td>\n",
       "      <td>18863.0</td>\n",
       "      <td>16028.0</td>\n",
       "      <td>1.0</td>\n",
       "      <td>482.0</td>\n",
       "      <td>2.0</td>\n",
       "      <td>755.0</td>\n",
       "      <td>NaN</td>\n",
       "    </tr>\n",
       "    <tr>\n",
       "      <td>1</td>\n",
       "      <td>7</td>\n",
       "      <td>3350000.0</td>\n",
       "      <td>40.40</td>\n",
       "      <td>2018-12-04T00:00:00</td>\n",
       "      <td>1</td>\n",
       "      <td>NaN</td>\n",
       "      <td>11.0</td>\n",
       "      <td>18.60</td>\n",
       "      <td>1</td>\n",
       "      <td>NaN</td>\n",
       "      <td>...</td>\n",
       "      <td>11.00</td>\n",
       "      <td>2.0</td>\n",
       "      <td>посёлок Шушары</td>\n",
       "      <td>12817.0</td>\n",
       "      <td>18603.0</td>\n",
       "      <td>0.0</td>\n",
       "      <td>NaN</td>\n",
       "      <td>0.0</td>\n",
       "      <td>NaN</td>\n",
       "      <td>81.0</td>\n",
       "    </tr>\n",
       "    <tr>\n",
       "      <td>2</td>\n",
       "      <td>10</td>\n",
       "      <td>5196000.0</td>\n",
       "      <td>56.00</td>\n",
       "      <td>2015-08-20T00:00:00</td>\n",
       "      <td>2</td>\n",
       "      <td>NaN</td>\n",
       "      <td>5.0</td>\n",
       "      <td>34.30</td>\n",
       "      <td>4</td>\n",
       "      <td>NaN</td>\n",
       "      <td>...</td>\n",
       "      <td>8.30</td>\n",
       "      <td>0.0</td>\n",
       "      <td>Санкт-Петербург</td>\n",
       "      <td>21741.0</td>\n",
       "      <td>13933.0</td>\n",
       "      <td>1.0</td>\n",
       "      <td>90.0</td>\n",
       "      <td>2.0</td>\n",
       "      <td>574.0</td>\n",
       "      <td>558.0</td>\n",
       "    </tr>\n",
       "    <tr>\n",
       "      <td>3</td>\n",
       "      <td>0</td>\n",
       "      <td>64900000.0</td>\n",
       "      <td>159.00</td>\n",
       "      <td>2015-07-24T00:00:00</td>\n",
       "      <td>3</td>\n",
       "      <td>NaN</td>\n",
       "      <td>14.0</td>\n",
       "      <td>NaN</td>\n",
       "      <td>9</td>\n",
       "      <td>NaN</td>\n",
       "      <td>...</td>\n",
       "      <td>NaN</td>\n",
       "      <td>0.0</td>\n",
       "      <td>Санкт-Петербург</td>\n",
       "      <td>28098.0</td>\n",
       "      <td>6800.0</td>\n",
       "      <td>2.0</td>\n",
       "      <td>84.0</td>\n",
       "      <td>3.0</td>\n",
       "      <td>234.0</td>\n",
       "      <td>424.0</td>\n",
       "    </tr>\n",
       "    <tr>\n",
       "      <td>4</td>\n",
       "      <td>2</td>\n",
       "      <td>10000000.0</td>\n",
       "      <td>100.00</td>\n",
       "      <td>2018-06-19T00:00:00</td>\n",
       "      <td>2</td>\n",
       "      <td>3.03</td>\n",
       "      <td>14.0</td>\n",
       "      <td>32.00</td>\n",
       "      <td>13</td>\n",
       "      <td>NaN</td>\n",
       "      <td>...</td>\n",
       "      <td>41.00</td>\n",
       "      <td>NaN</td>\n",
       "      <td>Санкт-Петербург</td>\n",
       "      <td>31856.0</td>\n",
       "      <td>8098.0</td>\n",
       "      <td>2.0</td>\n",
       "      <td>112.0</td>\n",
       "      <td>1.0</td>\n",
       "      <td>48.0</td>\n",
       "      <td>121.0</td>\n",
       "    </tr>\n",
       "    <tr>\n",
       "      <td>5</td>\n",
       "      <td>10</td>\n",
       "      <td>2890000.0</td>\n",
       "      <td>30.40</td>\n",
       "      <td>2018-09-10T00:00:00</td>\n",
       "      <td>1</td>\n",
       "      <td>NaN</td>\n",
       "      <td>12.0</td>\n",
       "      <td>14.40</td>\n",
       "      <td>5</td>\n",
       "      <td>NaN</td>\n",
       "      <td>...</td>\n",
       "      <td>9.10</td>\n",
       "      <td>NaN</td>\n",
       "      <td>городской посёлок Янино-1</td>\n",
       "      <td>NaN</td>\n",
       "      <td>NaN</td>\n",
       "      <td>NaN</td>\n",
       "      <td>NaN</td>\n",
       "      <td>NaN</td>\n",
       "      <td>NaN</td>\n",
       "      <td>55.0</td>\n",
       "    </tr>\n",
       "    <tr>\n",
       "      <td>6</td>\n",
       "      <td>6</td>\n",
       "      <td>3700000.0</td>\n",
       "      <td>37.30</td>\n",
       "      <td>2017-11-02T00:00:00</td>\n",
       "      <td>1</td>\n",
       "      <td>NaN</td>\n",
       "      <td>26.0</td>\n",
       "      <td>10.60</td>\n",
       "      <td>6</td>\n",
       "      <td>NaN</td>\n",
       "      <td>...</td>\n",
       "      <td>14.40</td>\n",
       "      <td>1.0</td>\n",
       "      <td>посёлок Парголово</td>\n",
       "      <td>52996.0</td>\n",
       "      <td>19143.0</td>\n",
       "      <td>0.0</td>\n",
       "      <td>NaN</td>\n",
       "      <td>0.0</td>\n",
       "      <td>NaN</td>\n",
       "      <td>155.0</td>\n",
       "    </tr>\n",
       "    <tr>\n",
       "      <td>7</td>\n",
       "      <td>5</td>\n",
       "      <td>7915000.0</td>\n",
       "      <td>71.60</td>\n",
       "      <td>2019-04-18T00:00:00</td>\n",
       "      <td>2</td>\n",
       "      <td>NaN</td>\n",
       "      <td>24.0</td>\n",
       "      <td>NaN</td>\n",
       "      <td>22</td>\n",
       "      <td>NaN</td>\n",
       "      <td>...</td>\n",
       "      <td>18.90</td>\n",
       "      <td>2.0</td>\n",
       "      <td>Санкт-Петербург</td>\n",
       "      <td>23982.0</td>\n",
       "      <td>11634.0</td>\n",
       "      <td>0.0</td>\n",
       "      <td>NaN</td>\n",
       "      <td>0.0</td>\n",
       "      <td>NaN</td>\n",
       "      <td>NaN</td>\n",
       "    </tr>\n",
       "    <tr>\n",
       "      <td>8</td>\n",
       "      <td>20</td>\n",
       "      <td>2900000.0</td>\n",
       "      <td>33.16</td>\n",
       "      <td>2018-05-23T00:00:00</td>\n",
       "      <td>1</td>\n",
       "      <td>NaN</td>\n",
       "      <td>27.0</td>\n",
       "      <td>15.43</td>\n",
       "      <td>26</td>\n",
       "      <td>NaN</td>\n",
       "      <td>...</td>\n",
       "      <td>8.81</td>\n",
       "      <td>NaN</td>\n",
       "      <td>посёлок Мурино</td>\n",
       "      <td>NaN</td>\n",
       "      <td>NaN</td>\n",
       "      <td>NaN</td>\n",
       "      <td>NaN</td>\n",
       "      <td>NaN</td>\n",
       "      <td>NaN</td>\n",
       "      <td>189.0</td>\n",
       "    </tr>\n",
       "    <tr>\n",
       "      <td>9</td>\n",
       "      <td>18</td>\n",
       "      <td>5400000.0</td>\n",
       "      <td>61.00</td>\n",
       "      <td>2017-02-26T00:00:00</td>\n",
       "      <td>3</td>\n",
       "      <td>2.50</td>\n",
       "      <td>9.0</td>\n",
       "      <td>43.60</td>\n",
       "      <td>7</td>\n",
       "      <td>NaN</td>\n",
       "      <td>...</td>\n",
       "      <td>6.50</td>\n",
       "      <td>2.0</td>\n",
       "      <td>Санкт-Петербург</td>\n",
       "      <td>50898.0</td>\n",
       "      <td>15008.0</td>\n",
       "      <td>0.0</td>\n",
       "      <td>NaN</td>\n",
       "      <td>0.0</td>\n",
       "      <td>NaN</td>\n",
       "      <td>289.0</td>\n",
       "    </tr>\n",
       "  </tbody>\n",
       "</table>\n",
       "<p>10 rows × 22 columns</p>\n",
       "</div>"
      ],
      "text/plain": [
       "   total_images  last_price  total_area first_day_exposition  rooms  \\\n",
       "0            20  13000000.0      108.00  2019-03-07T00:00:00      3   \n",
       "1             7   3350000.0       40.40  2018-12-04T00:00:00      1   \n",
       "2            10   5196000.0       56.00  2015-08-20T00:00:00      2   \n",
       "3             0  64900000.0      159.00  2015-07-24T00:00:00      3   \n",
       "4             2  10000000.0      100.00  2018-06-19T00:00:00      2   \n",
       "5            10   2890000.0       30.40  2018-09-10T00:00:00      1   \n",
       "6             6   3700000.0       37.30  2017-11-02T00:00:00      1   \n",
       "7             5   7915000.0       71.60  2019-04-18T00:00:00      2   \n",
       "8            20   2900000.0       33.16  2018-05-23T00:00:00      1   \n",
       "9            18   5400000.0       61.00  2017-02-26T00:00:00      3   \n",
       "\n",
       "   ceiling_height  floors_total  living_area  floor is_apartment  ...  \\\n",
       "0            2.70          16.0        51.00      8          NaN  ...   \n",
       "1             NaN          11.0        18.60      1          NaN  ...   \n",
       "2             NaN           5.0        34.30      4          NaN  ...   \n",
       "3             NaN          14.0          NaN      9          NaN  ...   \n",
       "4            3.03          14.0        32.00     13          NaN  ...   \n",
       "5             NaN          12.0        14.40      5          NaN  ...   \n",
       "6             NaN          26.0        10.60      6          NaN  ...   \n",
       "7             NaN          24.0          NaN     22          NaN  ...   \n",
       "8             NaN          27.0        15.43     26          NaN  ...   \n",
       "9            2.50           9.0        43.60      7          NaN  ...   \n",
       "\n",
       "   kitchen_area  balcony              locality_name  airports_nearest  \\\n",
       "0         25.00      NaN            Санкт-Петербург           18863.0   \n",
       "1         11.00      2.0             посёлок Шушары           12817.0   \n",
       "2          8.30      0.0            Санкт-Петербург           21741.0   \n",
       "3           NaN      0.0            Санкт-Петербург           28098.0   \n",
       "4         41.00      NaN            Санкт-Петербург           31856.0   \n",
       "5          9.10      NaN  городской посёлок Янино-1               NaN   \n",
       "6         14.40      1.0          посёлок Парголово           52996.0   \n",
       "7         18.90      2.0            Санкт-Петербург           23982.0   \n",
       "8          8.81      NaN             посёлок Мурино               NaN   \n",
       "9          6.50      2.0            Санкт-Петербург           50898.0   \n",
       "\n",
       "  cityCenters_nearest  parks_around3000  parks_nearest  ponds_around3000  \\\n",
       "0             16028.0               1.0          482.0               2.0   \n",
       "1             18603.0               0.0            NaN               0.0   \n",
       "2             13933.0               1.0           90.0               2.0   \n",
       "3              6800.0               2.0           84.0               3.0   \n",
       "4              8098.0               2.0          112.0               1.0   \n",
       "5                 NaN               NaN            NaN               NaN   \n",
       "6             19143.0               0.0            NaN               0.0   \n",
       "7             11634.0               0.0            NaN               0.0   \n",
       "8                 NaN               NaN            NaN               NaN   \n",
       "9             15008.0               0.0            NaN               0.0   \n",
       "\n",
       "   ponds_nearest  days_exposition  \n",
       "0          755.0              NaN  \n",
       "1            NaN             81.0  \n",
       "2          574.0            558.0  \n",
       "3          234.0            424.0  \n",
       "4           48.0            121.0  \n",
       "5            NaN             55.0  \n",
       "6            NaN            155.0  \n",
       "7            NaN              NaN  \n",
       "8            NaN            189.0  \n",
       "9            NaN            289.0  \n",
       "\n",
       "[10 rows x 22 columns]"
      ]
     },
     "execution_count": 3,
     "metadata": {},
     "output_type": "execute_result"
    }
   ],
   "source": [
    "data.head(10)"
   ]
  },
  {
   "cell_type": "markdown",
   "metadata": {},
   "source": [
    "Выведем на экран инофрмацию о таблице."
   ]
  },
  {
   "cell_type": "code",
   "execution_count": 4,
   "metadata": {},
   "outputs": [
    {
     "name": "stdout",
     "output_type": "stream",
     "text": [
      "<class 'pandas.core.frame.DataFrame'>\n",
      "RangeIndex: 23699 entries, 0 to 23698\n",
      "Data columns (total 22 columns):\n",
      "total_images            23699 non-null int64\n",
      "last_price              23699 non-null float64\n",
      "total_area              23699 non-null float64\n",
      "first_day_exposition    23699 non-null object\n",
      "rooms                   23699 non-null int64\n",
      "ceiling_height          14504 non-null float64\n",
      "floors_total            23613 non-null float64\n",
      "living_area             21796 non-null float64\n",
      "floor                   23699 non-null int64\n",
      "is_apartment            2775 non-null object\n",
      "studio                  23699 non-null bool\n",
      "open_plan               23699 non-null bool\n",
      "kitchen_area            21421 non-null float64\n",
      "balcony                 12180 non-null float64\n",
      "locality_name           23650 non-null object\n",
      "airports_nearest        18157 non-null float64\n",
      "cityCenters_nearest     18180 non-null float64\n",
      "parks_around3000        18181 non-null float64\n",
      "parks_nearest           8079 non-null float64\n",
      "ponds_around3000        18181 non-null float64\n",
      "ponds_nearest           9110 non-null float64\n",
      "days_exposition         20518 non-null float64\n",
      "dtypes: bool(2), float64(14), int64(3), object(3)\n",
      "memory usage: 3.7+ MB\n"
     ]
    }
   ],
   "source": [
    "data.info()"
   ]
  },
  {
   "cell_type": "markdown",
   "metadata": {},
   "source": [
    "### Вывод\n",
    "\n",
    "В таблице присутствует 22 столбца:\n",
    "- `airports_nearest` — расстояние до ближайшего аэропорта в метрах (м)\n",
    "- `balcony` — число балконов\n",
    "- `ceiling_height` — высота потолков (м)\n",
    "- `cityCenters_nearest` — расстояние до центра города (м)\n",
    "- `days_exposition` — сколько дней было размещено объявление (от публикации до снятия)\n",
    "- `first_day_exposition` — дата публикации\n",
    "- `floor` — этаж\n",
    "- `floors_total` — всего этажей в доме\n",
    "- `is_apartment` — апартаменты (булев тип)\n",
    "- `kitchen_area` — площадь кухни в квадратных метрах (м²)\n",
    "- `last_price` — цена на момент снятия с публикации\n",
    "- `living_area` — жилая площадь в квадратных метрах (м²)\n",
    "- `locality_name` — название населённого пункта\n",
    "- `open_plan` — свободная планировка (булев тип)\n",
    "- `parks_around3000` — число парков в радиусе 3 км\n",
    "- `parks_nearest` — расстояние до ближайшего парка (м)\n",
    "- `ponds_around3000` — число водоёмов в радиусе 3 км\n",
    "- `ponds_nearest` — расстояние до ближайшего водоёма (м)\n",
    "- `rooms` — число комнат\n",
    "- `studio` — квартира-студия (булев тип)\n",
    "- `total_area` — площадь квартиры в квадратных метрах (м²)\n",
    "- `total_images` — число фотографий квартиры в объявлении\n",
    "\n",
    "В названиях некоторых колонок есть стилистические ошибки. Также данные в некоторых колонках не соответствуют своему типу. Например данные из колонки `first_day_exposition` отображают дату первой загрузки объявления на сервис, однако судя по типу данных представляют собой обычную строку, что не совсем верно. Это нужно будет исправить на этапе предобработки данных."
   ]
  },
  {
   "cell_type": "markdown",
   "metadata": {},
   "source": [
    "## Предобработка данных"
   ]
  },
  {
   "cell_type": "markdown",
   "metadata": {},
   "source": [
    "### Преобразования"
   ]
  },
  {
   "cell_type": "markdown",
   "metadata": {},
   "source": [
    "Для начала переименуем столбец `cityCenters_nearest`, в названии которого допущена стилистическая ошибка. "
   ]
  },
  {
   "cell_type": "code",
   "execution_count": 5,
   "metadata": {},
   "outputs": [],
   "source": [
    "data = data.rename(columns={'cityCenters_nearest': 'city_center_nearest'}) # применим метод rename"
   ]
  },
  {
   "cell_type": "markdown",
   "metadata": {},
   "source": [
    "Вызовем метод `.columns`, чтобы проверить изменения."
   ]
  },
  {
   "cell_type": "code",
   "execution_count": 6,
   "metadata": {},
   "outputs": [
    {
     "data": {
      "text/plain": [
       "Index(['total_images', 'last_price', 'total_area', 'first_day_exposition',\n",
       "       'rooms', 'ceiling_height', 'floors_total', 'living_area', 'floor',\n",
       "       'is_apartment', 'studio', 'open_plan', 'kitchen_area', 'balcony',\n",
       "       'locality_name', 'airports_nearest', 'city_center_nearest',\n",
       "       'parks_around3000', 'parks_nearest', 'ponds_around3000',\n",
       "       'ponds_nearest', 'days_exposition'],\n",
       "      dtype='object')"
      ]
     },
     "execution_count": 6,
     "metadata": {},
     "output_type": "execute_result"
    }
   ],
   "source": [
    "data.columns"
   ]
  },
  {
   "cell_type": "markdown",
   "metadata": {},
   "source": [
    "### Подсчет и удаление пропусков"
   ]
  },
  {
   "cell_type": "markdown",
   "metadata": {},
   "source": [
    "Посчитаем количество пропусков."
   ]
  },
  {
   "cell_type": "code",
   "execution_count": 7,
   "metadata": {},
   "outputs": [
    {
     "data": {
      "text/plain": [
       "total_images                0\n",
       "last_price                  0\n",
       "total_area                  0\n",
       "first_day_exposition        0\n",
       "rooms                       0\n",
       "ceiling_height           9195\n",
       "floors_total               86\n",
       "living_area              1903\n",
       "floor                       0\n",
       "is_apartment            20924\n",
       "studio                      0\n",
       "open_plan                   0\n",
       "kitchen_area             2278\n",
       "balcony                 11519\n",
       "locality_name              49\n",
       "airports_nearest         5542\n",
       "city_center_nearest      5519\n",
       "parks_around3000         5518\n",
       "parks_nearest           15620\n",
       "ponds_around3000         5518\n",
       "ponds_nearest           14589\n",
       "days_exposition          3181\n",
       "dtype: int64"
      ]
     },
     "execution_count": 7,
     "metadata": {},
     "output_type": "execute_result"
    }
   ],
   "source": [
    "data.isna().sum() "
   ]
  },
  {
   "cell_type": "markdown",
   "metadata": {},
   "source": [
    "Заменим пропуски на медианные значения, для дальнейших расчетов этого будет достаточно."
   ]
  },
  {
   "cell_type": "markdown",
   "metadata": {},
   "source": [
    "Обработка пропусков в столбце `ceiling_height`. Для этого создаем список пропущенных значений и змаеняем его медианой."
   ]
  },
  {
   "cell_type": "code",
   "execution_count": 8,
   "metadata": {},
   "outputs": [
    {
     "name": "stdout",
     "output_type": "stream",
     "text": [
      "Пропуски до: 9195\n",
      "Пропуски после: 0\n"
     ]
    }
   ],
   "source": [
    "print('Пропуски до:', data['ceiling_height'].isna().sum())\n",
    "\n",
    "data.loc[data['ceiling_height'].isna(), 'ceiling_height'] = data['ceiling_height'].median()\n",
    "\n",
    "print('Пропуски после:', data['ceiling_height'].isna().sum())"
   ]
  },
  {
   "cell_type": "markdown",
   "metadata": {},
   "source": [
    "Обработка пропусков в столбце `living_area`.\n"
   ]
  },
  {
   "cell_type": "code",
   "execution_count": 9,
   "metadata": {
    "scrolled": true
   },
   "outputs": [
    {
     "name": "stdout",
     "output_type": "stream",
     "text": [
      "Пропуски до: 1903\n",
      "Пропуски после: 0\n"
     ]
    }
   ],
   "source": [
    "print('Пропуски до:', data['living_area'].isna().sum())\n",
    "\n",
    "data.loc[data['living_area'].isna(), 'living_area'] = data['living_area'].median()\n",
    "\n",
    "print('Пропуски после:', data['living_area'].isna().sum())"
   ]
  },
  {
   "cell_type": "markdown",
   "metadata": {},
   "source": [
    "Замена пропущенных значений в толбце `is_apartment`. Для наглядности такая замена вполне подойдет"
   ]
  },
  {
   "cell_type": "code",
   "execution_count": 10,
   "metadata": {
    "scrolled": true
   },
   "outputs": [
    {
     "name": "stdout",
     "output_type": "stream",
     "text": [
      "0\n"
     ]
    }
   ],
   "source": [
    "data['is_apartment'] = data['is_apartment'].fillna('False')\n",
    "\n",
    "print(data['is_apartment'].isna().sum())"
   ]
  },
  {
   "cell_type": "markdown",
   "metadata": {},
   "source": [
    "Замена пропущенных значений в толбце `floors_total`."
   ]
  },
  {
   "cell_type": "code",
   "execution_count": 11,
   "metadata": {
    "scrolled": false
   },
   "outputs": [],
   "source": [
    "data.dropna(subset = ['floors_total'], inplace = True)"
   ]
  },
  {
   "cell_type": "markdown",
   "metadata": {},
   "source": [
    "Замена пропущенных значений в толбце `locality_name`."
   ]
  },
  {
   "cell_type": "code",
   "execution_count": 12,
   "metadata": {},
   "outputs": [],
   "source": [
    "data.dropna(subset = ['locality_name'], inplace = True)"
   ]
  },
  {
   "cell_type": "markdown",
   "metadata": {},
   "source": [
    "Замена пропущенных значений в толбце `kitchen_area`."
   ]
  },
  {
   "cell_type": "code",
   "execution_count": 13,
   "metadata": {},
   "outputs": [
    {
     "name": "stdout",
     "output_type": "stream",
     "text": [
      "Пропуски до: 2222\n",
      "Пропуски после: 0\n"
     ]
    }
   ],
   "source": [
    "print('Пропуски до:', data['kitchen_area'].isna().sum())\n",
    "\n",
    "data.loc[data['kitchen_area'].isna(), 'kitchen_area'] = data['kitchen_area'].median()\n",
    "\n",
    "print('Пропуски после:', data['kitchen_area'].isna().sum())"
   ]
  },
  {
   "cell_type": "markdown",
   "metadata": {},
   "source": [
    "Пропуски в столбце `balcony` заменим на нули.\n"
   ]
  },
  {
   "cell_type": "code",
   "execution_count": 14,
   "metadata": {},
   "outputs": [
    {
     "name": "stdout",
     "output_type": "stream",
     "text": [
      "0\n"
     ]
    }
   ],
   "source": [
    "data['balcony'] = data['balcony'].fillna(0)\n",
    "\n",
    "print(data['balcony'].isna().sum())"
   ]
  },
  {
   "cell_type": "markdown",
   "metadata": {},
   "source": [
    "Заполним пропуски в значениях с расстояниями до объектов инфраструктуры (парков, аэропортов и так далее) на медианные значения."
   ]
  },
  {
   "cell_type": "code",
   "execution_count": 15,
   "metadata": {},
   "outputs": [],
   "source": [
    "data.loc[data['airports_nearest'].isna(), 'airports_nearest'] = data['airports_nearest'].median()\n",
    "\n",
    "data.loc[data['city_center_nearest'].isna(), 'city_center_nearest'] = data['city_center_nearest'].median()\n",
    "\n",
    "data.loc[data['parks_around3000'].isna(), 'parks_around3000'] = data['parks_around3000'].median()\n",
    "\n",
    "data.loc[data['parks_nearest'].isna(), 'parks_nearest'] = data['parks_nearest'].median()\n",
    "\n",
    "data.loc[data['ponds_around3000'].isna(), 'ponds_around3000'] = data['ponds_around3000'].median()\n",
    "\n",
    "data.loc[data['ponds_nearest'].isna(), 'ponds_nearest'] = data['ponds_nearest'].median()"
   ]
  },
  {
   "cell_type": "code",
   "execution_count": 16,
   "metadata": {},
   "outputs": [
    {
     "data": {
      "text/plain": [
       "total_images               0\n",
       "last_price                 0\n",
       "total_area                 0\n",
       "first_day_exposition       0\n",
       "rooms                      0\n",
       "ceiling_height             0\n",
       "floors_total               0\n",
       "living_area                0\n",
       "floor                      0\n",
       "is_apartment               0\n",
       "studio                     0\n",
       "open_plan                  0\n",
       "kitchen_area               0\n",
       "balcony                    0\n",
       "locality_name              0\n",
       "airports_nearest           0\n",
       "city_center_nearest        0\n",
       "parks_around3000           0\n",
       "parks_nearest              0\n",
       "ponds_around3000           0\n",
       "ponds_nearest              0\n",
       "days_exposition         3171\n",
       "dtype: int64"
      ]
     },
     "execution_count": 16,
     "metadata": {},
     "output_type": "execute_result"
    }
   ],
   "source": [
    "data.isna().sum()"
   ]
  },
  {
   "cell_type": "markdown",
   "metadata": {},
   "source": [
    "Пропуски в столбце `days_exposition` заменим медианой.\n"
   ]
  },
  {
   "cell_type": "code",
   "execution_count": 17,
   "metadata": {},
   "outputs": [
    {
     "name": "stdout",
     "output_type": "stream",
     "text": [
      "Пропуски до: 3171\n",
      "Пропуски после: 0\n"
     ]
    }
   ],
   "source": [
    "print('Пропуски до:', data['days_exposition'].isna().sum())\n",
    "\n",
    "data.loc[data['days_exposition'].isna(), 'days_exposition'] = data['days_exposition'].median()\n",
    "\n",
    "print('Пропуски после:', data['days_exposition'].isna().sum())"
   ]
  },
  {
   "cell_type": "markdown",
   "metadata": {},
   "source": [
    "Изменим значения в некоторых столбцах на соответствующие. Для этого применим к столбцу метод `.astype`. "
   ]
  },
  {
   "cell_type": "code",
   "execution_count": 18,
   "metadata": {},
   "outputs": [],
   "source": [
    "data['last_price'] = data['last_price'].astype('int') \n",
    "\n",
    "data['floors_total'] = data['floors_total'].astype('int')\n",
    "\n",
    "data['last_price'] = data['last_price'].astype('int')\n",
    "\n",
    "data['balcony'] = data['balcony'].astype('int')\n",
    "\n",
    "data['airports_nearest'] = data['airports_nearest'].astype('int')\n",
    "\n",
    "data['city_center_nearest'] = data['city_center_nearest'].astype('int')\n",
    "\n",
    "data['parks_around3000'] = data['parks_around3000'].astype('int')\n",
    "\n",
    "data['parks_nearest'] = data['parks_nearest'].astype('int')\n",
    "\n",
    "data['ponds_around3000'] = data['ponds_around3000'].astype('int')\n",
    "\n",
    "data['ponds_nearest'] = data['ponds_nearest'].astype('int')\n",
    "\n",
    "data['days_exposition'] = data['days_exposition'].astype('int')"
   ]
  },
  {
   "cell_type": "markdown",
   "metadata": {},
   "source": [
    "Выведем инофрмацию о таблице, чтобы удостовериться в изменениях."
   ]
  },
  {
   "cell_type": "code",
   "execution_count": 19,
   "metadata": {},
   "outputs": [
    {
     "name": "stdout",
     "output_type": "stream",
     "text": [
      "<class 'pandas.core.frame.DataFrame'>\n",
      "Int64Index: 23565 entries, 0 to 23698\n",
      "Data columns (total 22 columns):\n",
      "total_images            23565 non-null int64\n",
      "last_price              23565 non-null int64\n",
      "total_area              23565 non-null float64\n",
      "first_day_exposition    23565 non-null object\n",
      "rooms                   23565 non-null int64\n",
      "ceiling_height          23565 non-null float64\n",
      "floors_total            23565 non-null int64\n",
      "living_area             23565 non-null float64\n",
      "floor                   23565 non-null int64\n",
      "is_apartment            23565 non-null object\n",
      "studio                  23565 non-null bool\n",
      "open_plan               23565 non-null bool\n",
      "kitchen_area            23565 non-null float64\n",
      "balcony                 23565 non-null int64\n",
      "locality_name           23565 non-null object\n",
      "airports_nearest        23565 non-null int64\n",
      "city_center_nearest     23565 non-null int64\n",
      "parks_around3000        23565 non-null int64\n",
      "parks_nearest           23565 non-null int64\n",
      "ponds_around3000        23565 non-null int64\n",
      "ponds_nearest           23565 non-null int64\n",
      "days_exposition         23565 non-null int64\n",
      "dtypes: bool(2), float64(4), int64(13), object(3)\n",
      "memory usage: 3.8+ MB\n"
     ]
    }
   ],
   "source": [
    "data.info()"
   ]
  },
  {
   "cell_type": "markdown",
   "metadata": {},
   "source": [
    "Переведем данные из столбца с датой первого появления объявления на сервисе в формат `datetime`. Сделаем это методом `pd.to_datetime`."
   ]
  },
  {
   "cell_type": "code",
   "execution_count": 20,
   "metadata": {},
   "outputs": [],
   "source": [
    "data['first_day_exposition'] = pd.to_datetime(data['first_day_exposition'],\n",
    "format='%Y-%m-%dT%H:%M:%S')"
   ]
  },
  {
   "cell_type": "markdown",
   "metadata": {},
   "source": [
    "Проверим изменения."
   ]
  },
  {
   "cell_type": "code",
   "execution_count": 21,
   "metadata": {},
   "outputs": [
    {
     "name": "stdout",
     "output_type": "stream",
     "text": [
      "<class 'pandas.core.frame.DataFrame'>\n",
      "Int64Index: 23565 entries, 0 to 23698\n",
      "Data columns (total 22 columns):\n",
      "total_images            23565 non-null int64\n",
      "last_price              23565 non-null int64\n",
      "total_area              23565 non-null float64\n",
      "first_day_exposition    23565 non-null datetime64[ns]\n",
      "rooms                   23565 non-null int64\n",
      "ceiling_height          23565 non-null float64\n",
      "floors_total            23565 non-null int64\n",
      "living_area             23565 non-null float64\n",
      "floor                   23565 non-null int64\n",
      "is_apartment            23565 non-null object\n",
      "studio                  23565 non-null bool\n",
      "open_plan               23565 non-null bool\n",
      "kitchen_area            23565 non-null float64\n",
      "balcony                 23565 non-null int64\n",
      "locality_name           23565 non-null object\n",
      "airports_nearest        23565 non-null int64\n",
      "city_center_nearest     23565 non-null int64\n",
      "parks_around3000        23565 non-null int64\n",
      "parks_nearest           23565 non-null int64\n",
      "ponds_around3000        23565 non-null int64\n",
      "ponds_nearest           23565 non-null int64\n",
      "days_exposition         23565 non-null int64\n",
      "dtypes: bool(2), datetime64[ns](1), float64(4), int64(13), object(2)\n",
      "memory usage: 3.8+ MB\n"
     ]
    }
   ],
   "source": [
    "data.info()"
   ]
  },
  {
   "cell_type": "markdown",
   "metadata": {},
   "source": [
    "### Работа с дубликатами"
   ]
  },
  {
   "cell_type": "markdown",
   "metadata": {},
   "source": [
    "Посчитаем количество дубликатов в таблице."
   ]
  },
  {
   "cell_type": "code",
   "execution_count": 22,
   "metadata": {},
   "outputs": [
    {
     "data": {
      "text/plain": [
       "0"
      ]
     },
     "execution_count": 22,
     "metadata": {},
     "output_type": "execute_result"
    }
   ],
   "source": [
    "data.duplicated().sum()"
   ]
  },
  {
   "cell_type": "markdown",
   "metadata": {},
   "source": [
    "Явных дубликатов (строк, идентичных друг другу по содержанию) в таблице не найдено. Теперь поищем неявные дубликаты там, где они могли бы оказаться. Получим список уникальных значений столбца методом `.unique()"
   ]
  },
  {
   "cell_type": "code",
   "execution_count": 23,
   "metadata": {},
   "outputs": [
    {
     "data": {
      "text/plain": [
       "array([ 3,  1,  2,  4,  5,  6,  0,  7, 11,  8, 14, 10, 15,  9, 19, 16, 12])"
      ]
     },
     "execution_count": 23,
     "metadata": {},
     "output_type": "execute_result"
    }
   ],
   "source": [
    "data['rooms'].unique()"
   ]
  },
  {
   "cell_type": "code",
   "execution_count": 24,
   "metadata": {},
   "outputs": [],
   "source": [
    "data['rooms'] = data['rooms'].replace(0, 1)"
   ]
  },
  {
   "cell_type": "code",
   "execution_count": 25,
   "metadata": {},
   "outputs": [
    {
     "data": {
      "text/plain": [
       "array([ 3,  1,  2,  4,  5,  6,  7, 11,  8, 14, 10, 15,  9, 19, 16, 12])"
      ]
     },
     "execution_count": 25,
     "metadata": {},
     "output_type": "execute_result"
    }
   ],
   "source": [
    "data['rooms'].unique()"
   ]
  },
  {
   "cell_type": "code",
   "execution_count": 26,
   "metadata": {},
   "outputs": [
    {
     "data": {
      "text/plain": [
       "array([  2.7 ,   2.65,   3.03,   2.5 ,   2.67,   2.56,   3.05,   2.75,\n",
       "         2.6 ,   2.9 ,   2.8 ,   2.55,   3.  ,   3.2 ,   2.61,   3.25,\n",
       "         3.45,   2.77,   2.85,   2.64,   2.57,   4.15,   3.5 ,   3.3 ,\n",
       "         2.71,   4.  ,   2.47,   2.73,   2.84,   3.1 ,   2.34,   3.4 ,\n",
       "         3.06,   2.72,   2.54,   2.51,   2.78,   2.76,  25.  ,   2.58,\n",
       "         3.7 ,   2.52,   5.2 ,   2.87,   2.66,   2.59,   2.  ,   2.45,\n",
       "         3.6 ,   2.92,   3.11,   3.13,   3.8 ,   3.15,   3.55,   3.16,\n",
       "         3.62,   3.12,   2.53,   2.74,   2.96,   2.46,   5.3 ,   5.  ,\n",
       "         2.79,   2.95,   4.06,   2.94,   3.82,   3.54,   3.53,   2.83,\n",
       "         4.7 ,   2.4 ,   3.38,   3.01,   5.6 ,   3.65,   3.9 ,   3.18,\n",
       "         3.35,   2.3 ,   3.57,   2.48,   2.62,   2.82,   3.98,   2.63,\n",
       "         3.83,   3.52,   3.95,   3.75,   2.88,   3.67,   3.87,   3.66,\n",
       "         3.85,   3.86,   4.19,   3.24,   4.8 ,   4.5 ,   4.2 ,   3.36,\n",
       "        32.  ,   3.08,   3.68,   3.07,   3.37,   3.09,   8.  ,   3.26,\n",
       "         3.34,   2.81,   3.44,   2.97,   3.14,   4.37,   2.68,   3.22,\n",
       "         3.27,  27.  ,   4.1 ,   2.93,   3.46,  24.  ,   3.47,   3.33,\n",
       "         3.63,   3.32,  26.  ,   1.2 ,   8.3 ,   2.98,   2.86,   3.17,\n",
       "         4.4 ,   3.28,   3.04,   4.45,   5.5 ,   3.84,   3.23,   3.02,\n",
       "         3.21,   3.43,   3.78,   4.3 ,   3.39,   2.69,   3.31,   4.65,\n",
       "         3.56,   2.2 ,   3.51,   3.93,   3.42,   2.99,   3.49,  14.  ,\n",
       "         4.14,   2.91,   3.88,   1.75,   4.25,   3.29,  20.  ,   2.25,\n",
       "         3.76,   3.69,   6.  ,  22.6 ,   2.89,   3.58,   5.8 ,  27.5 ,\n",
       "         2.49,   4.9 ,   3.48,  10.3 ,   1.  , 100.  ,   3.59])"
      ]
     },
     "execution_count": 26,
     "metadata": {},
     "output_type": "execute_result"
    }
   ],
   "source": [
    "data['ceiling_height'].unique()"
   ]
  },
  {
   "cell_type": "markdown",
   "metadata": {},
   "source": [
    "Видим сомнительные значения высоты потолков, например 25 метров, 27 и так далее."
   ]
  },
  {
   "cell_type": "code",
   "execution_count": 27,
   "metadata": {},
   "outputs": [],
   "source": [
    "filter = (data['ceiling_height'] >= 20) & (data['ceiling_height'] <= 100)\n",
    "data.loc[filter, 'ceiling_height'] = data.loc[filter, 'ceiling_height'] / 10"
   ]
  },
  {
   "cell_type": "code",
   "execution_count": 28,
   "metadata": {},
   "outputs": [
    {
     "data": {
      "text/plain": [
       "array([ 2.7 ,  2.65,  3.03,  2.5 ,  2.67,  2.56,  3.05,  2.75,  2.6 ,\n",
       "        2.9 ,  2.8 ,  2.55,  3.  ,  3.2 ,  2.61,  3.25,  3.45,  2.77,\n",
       "        2.85,  2.64,  2.57,  4.15,  3.5 ,  3.3 ,  2.71,  4.  ,  2.47,\n",
       "        2.73,  2.84,  3.1 ,  2.34,  3.4 ,  3.06,  2.72,  2.54,  2.51,\n",
       "        2.78,  2.76,  2.58,  3.7 ,  2.52,  5.2 ,  2.87,  2.66,  2.59,\n",
       "        2.  ,  2.45,  3.6 ,  2.92,  3.11,  3.13,  3.8 ,  3.15,  3.55,\n",
       "        3.16,  3.62,  3.12,  2.53,  2.74,  2.96,  2.46,  5.3 ,  5.  ,\n",
       "        2.79,  2.95,  4.06,  2.94,  3.82,  3.54,  3.53,  2.83,  4.7 ,\n",
       "        2.4 ,  3.38,  3.01,  5.6 ,  3.65,  3.9 ,  3.18,  3.35,  2.3 ,\n",
       "        3.57,  2.48,  2.62,  2.82,  3.98,  2.63,  3.83,  3.52,  3.95,\n",
       "        3.75,  2.88,  3.67,  3.87,  3.66,  3.85,  3.86,  4.19,  3.24,\n",
       "        4.8 ,  4.5 ,  4.2 ,  3.36,  3.08,  3.68,  3.07,  3.37,  3.09,\n",
       "        8.  ,  3.26,  3.34,  2.81,  3.44,  2.97,  3.14,  4.37,  2.68,\n",
       "        3.22,  3.27,  4.1 ,  2.93,  3.46,  3.47,  3.33,  3.63,  3.32,\n",
       "        1.2 ,  8.3 ,  2.98,  2.86,  3.17,  4.4 ,  3.28,  3.04,  4.45,\n",
       "        5.5 ,  3.84,  3.23,  3.02,  3.21,  3.43,  3.78,  4.3 ,  3.39,\n",
       "        2.69,  3.31,  4.65,  3.56,  2.2 ,  3.51,  3.93,  3.42,  2.99,\n",
       "        3.49, 14.  ,  4.14,  2.91,  3.88,  1.75,  4.25,  3.29,  2.25,\n",
       "        3.76,  3.69,  6.  ,  2.26,  2.89,  3.58,  5.8 ,  2.49,  4.9 ,\n",
       "        3.48, 10.3 ,  1.  , 10.  ,  3.59])"
      ]
     },
     "execution_count": 28,
     "metadata": {},
     "output_type": "execute_result"
    }
   ],
   "source": [
    "data['ceiling_height'].unique()"
   ]
  },
  {
   "cell_type": "markdown",
   "metadata": {},
   "source": [
    "От отдельных значений, скорее всего являющихся выбросами, можно будет избавиться в шаге 4.3, когда датафрейм будет перезаписан с учетом удаления выбросов."
   ]
  },
  {
   "cell_type": "markdown",
   "metadata": {},
   "source": [
    "Переведем расстояние до центра населенного пункта и до аэропорта в километры, для удобства дальнейших расчетов."
   ]
  },
  {
   "cell_type": "code",
   "execution_count": 29,
   "metadata": {},
   "outputs": [],
   "source": [
    "data['city_center_nearest'] = data['city_center_nearest'].astype('int')"
   ]
  },
  {
   "cell_type": "code",
   "execution_count": 30,
   "metadata": {},
   "outputs": [],
   "source": [
    "data['airports_nearest'] = data['airports_nearest'].astype('int')"
   ]
  },
  {
   "cell_type": "markdown",
   "metadata": {},
   "source": [
    "Еще раз выведем на экран первые 5 строк датасета и информацию о нем, чтобы убедиться в изменениях."
   ]
  },
  {
   "cell_type": "code",
   "execution_count": 31,
   "metadata": {},
   "outputs": [
    {
     "data": {
      "text/html": [
       "<div>\n",
       "<style scoped>\n",
       "    .dataframe tbody tr th:only-of-type {\n",
       "        vertical-align: middle;\n",
       "    }\n",
       "\n",
       "    .dataframe tbody tr th {\n",
       "        vertical-align: top;\n",
       "    }\n",
       "\n",
       "    .dataframe thead th {\n",
       "        text-align: right;\n",
       "    }\n",
       "</style>\n",
       "<table border=\"1\" class=\"dataframe\">\n",
       "  <thead>\n",
       "    <tr style=\"text-align: right;\">\n",
       "      <th></th>\n",
       "      <th>total_images</th>\n",
       "      <th>last_price</th>\n",
       "      <th>total_area</th>\n",
       "      <th>first_day_exposition</th>\n",
       "      <th>rooms</th>\n",
       "      <th>ceiling_height</th>\n",
       "      <th>floors_total</th>\n",
       "      <th>living_area</th>\n",
       "      <th>floor</th>\n",
       "      <th>is_apartment</th>\n",
       "      <th>...</th>\n",
       "      <th>kitchen_area</th>\n",
       "      <th>balcony</th>\n",
       "      <th>locality_name</th>\n",
       "      <th>airports_nearest</th>\n",
       "      <th>city_center_nearest</th>\n",
       "      <th>parks_around3000</th>\n",
       "      <th>parks_nearest</th>\n",
       "      <th>ponds_around3000</th>\n",
       "      <th>ponds_nearest</th>\n",
       "      <th>days_exposition</th>\n",
       "    </tr>\n",
       "  </thead>\n",
       "  <tbody>\n",
       "    <tr>\n",
       "      <td>0</td>\n",
       "      <td>20</td>\n",
       "      <td>13000000</td>\n",
       "      <td>108.0</td>\n",
       "      <td>2019-03-07</td>\n",
       "      <td>3</td>\n",
       "      <td>2.70</td>\n",
       "      <td>16</td>\n",
       "      <td>51.0</td>\n",
       "      <td>8</td>\n",
       "      <td>False</td>\n",
       "      <td>...</td>\n",
       "      <td>25.0</td>\n",
       "      <td>0</td>\n",
       "      <td>Санкт-Петербург</td>\n",
       "      <td>18863</td>\n",
       "      <td>16028</td>\n",
       "      <td>1</td>\n",
       "      <td>482</td>\n",
       "      <td>2</td>\n",
       "      <td>755</td>\n",
       "      <td>95</td>\n",
       "    </tr>\n",
       "    <tr>\n",
       "      <td>1</td>\n",
       "      <td>7</td>\n",
       "      <td>3350000</td>\n",
       "      <td>40.4</td>\n",
       "      <td>2018-12-04</td>\n",
       "      <td>1</td>\n",
       "      <td>2.65</td>\n",
       "      <td>11</td>\n",
       "      <td>18.6</td>\n",
       "      <td>1</td>\n",
       "      <td>False</td>\n",
       "      <td>...</td>\n",
       "      <td>11.0</td>\n",
       "      <td>2</td>\n",
       "      <td>посёлок Шушары</td>\n",
       "      <td>12817</td>\n",
       "      <td>18603</td>\n",
       "      <td>0</td>\n",
       "      <td>455</td>\n",
       "      <td>0</td>\n",
       "      <td>503</td>\n",
       "      <td>81</td>\n",
       "    </tr>\n",
       "    <tr>\n",
       "      <td>2</td>\n",
       "      <td>10</td>\n",
       "      <td>5196000</td>\n",
       "      <td>56.0</td>\n",
       "      <td>2015-08-20</td>\n",
       "      <td>2</td>\n",
       "      <td>2.65</td>\n",
       "      <td>5</td>\n",
       "      <td>34.3</td>\n",
       "      <td>4</td>\n",
       "      <td>False</td>\n",
       "      <td>...</td>\n",
       "      <td>8.3</td>\n",
       "      <td>0</td>\n",
       "      <td>Санкт-Петербург</td>\n",
       "      <td>21741</td>\n",
       "      <td>13933</td>\n",
       "      <td>1</td>\n",
       "      <td>90</td>\n",
       "      <td>2</td>\n",
       "      <td>574</td>\n",
       "      <td>558</td>\n",
       "    </tr>\n",
       "    <tr>\n",
       "      <td>3</td>\n",
       "      <td>0</td>\n",
       "      <td>64900000</td>\n",
       "      <td>159.0</td>\n",
       "      <td>2015-07-24</td>\n",
       "      <td>3</td>\n",
       "      <td>2.65</td>\n",
       "      <td>14</td>\n",
       "      <td>30.0</td>\n",
       "      <td>9</td>\n",
       "      <td>False</td>\n",
       "      <td>...</td>\n",
       "      <td>9.1</td>\n",
       "      <td>0</td>\n",
       "      <td>Санкт-Петербург</td>\n",
       "      <td>28098</td>\n",
       "      <td>6800</td>\n",
       "      <td>2</td>\n",
       "      <td>84</td>\n",
       "      <td>3</td>\n",
       "      <td>234</td>\n",
       "      <td>424</td>\n",
       "    </tr>\n",
       "    <tr>\n",
       "      <td>4</td>\n",
       "      <td>2</td>\n",
       "      <td>10000000</td>\n",
       "      <td>100.0</td>\n",
       "      <td>2018-06-19</td>\n",
       "      <td>2</td>\n",
       "      <td>3.03</td>\n",
       "      <td>14</td>\n",
       "      <td>32.0</td>\n",
       "      <td>13</td>\n",
       "      <td>False</td>\n",
       "      <td>...</td>\n",
       "      <td>41.0</td>\n",
       "      <td>0</td>\n",
       "      <td>Санкт-Петербург</td>\n",
       "      <td>31856</td>\n",
       "      <td>8098</td>\n",
       "      <td>2</td>\n",
       "      <td>112</td>\n",
       "      <td>1</td>\n",
       "      <td>48</td>\n",
       "      <td>121</td>\n",
       "    </tr>\n",
       "  </tbody>\n",
       "</table>\n",
       "<p>5 rows × 22 columns</p>\n",
       "</div>"
      ],
      "text/plain": [
       "   total_images  last_price  total_area first_day_exposition  rooms  \\\n",
       "0            20    13000000       108.0           2019-03-07      3   \n",
       "1             7     3350000        40.4           2018-12-04      1   \n",
       "2            10     5196000        56.0           2015-08-20      2   \n",
       "3             0    64900000       159.0           2015-07-24      3   \n",
       "4             2    10000000       100.0           2018-06-19      2   \n",
       "\n",
       "   ceiling_height  floors_total  living_area  floor is_apartment  ...  \\\n",
       "0            2.70            16         51.0      8        False  ...   \n",
       "1            2.65            11         18.6      1        False  ...   \n",
       "2            2.65             5         34.3      4        False  ...   \n",
       "3            2.65            14         30.0      9        False  ...   \n",
       "4            3.03            14         32.0     13        False  ...   \n",
       "\n",
       "   kitchen_area  balcony    locality_name  airports_nearest  \\\n",
       "0          25.0        0  Санкт-Петербург             18863   \n",
       "1          11.0        2   посёлок Шушары             12817   \n",
       "2           8.3        0  Санкт-Петербург             21741   \n",
       "3           9.1        0  Санкт-Петербург             28098   \n",
       "4          41.0        0  Санкт-Петербург             31856   \n",
       "\n",
       "  city_center_nearest  parks_around3000  parks_nearest  ponds_around3000  \\\n",
       "0               16028                 1            482                 2   \n",
       "1               18603                 0            455                 0   \n",
       "2               13933                 1             90                 2   \n",
       "3                6800                 2             84                 3   \n",
       "4                8098                 2            112                 1   \n",
       "\n",
       "   ponds_nearest  days_exposition  \n",
       "0            755               95  \n",
       "1            503               81  \n",
       "2            574              558  \n",
       "3            234              424  \n",
       "4             48              121  \n",
       "\n",
       "[5 rows x 22 columns]"
      ]
     },
     "execution_count": 31,
     "metadata": {},
     "output_type": "execute_result"
    }
   ],
   "source": [
    "data.head()"
   ]
  },
  {
   "cell_type": "code",
   "execution_count": 32,
   "metadata": {},
   "outputs": [
    {
     "name": "stdout",
     "output_type": "stream",
     "text": [
      "<class 'pandas.core.frame.DataFrame'>\n",
      "Int64Index: 23565 entries, 0 to 23698\n",
      "Data columns (total 22 columns):\n",
      "total_images            23565 non-null int64\n",
      "last_price              23565 non-null int64\n",
      "total_area              23565 non-null float64\n",
      "first_day_exposition    23565 non-null datetime64[ns]\n",
      "rooms                   23565 non-null int64\n",
      "ceiling_height          23565 non-null float64\n",
      "floors_total            23565 non-null int64\n",
      "living_area             23565 non-null float64\n",
      "floor                   23565 non-null int64\n",
      "is_apartment            23565 non-null object\n",
      "studio                  23565 non-null bool\n",
      "open_plan               23565 non-null bool\n",
      "kitchen_area            23565 non-null float64\n",
      "balcony                 23565 non-null int64\n",
      "locality_name           23565 non-null object\n",
      "airports_nearest        23565 non-null int64\n",
      "city_center_nearest     23565 non-null int64\n",
      "parks_around3000        23565 non-null int64\n",
      "parks_nearest           23565 non-null int64\n",
      "ponds_around3000        23565 non-null int64\n",
      "ponds_nearest           23565 non-null int64\n",
      "days_exposition         23565 non-null int64\n",
      "dtypes: bool(2), datetime64[ns](1), float64(4), int64(13), object(2)\n",
      "memory usage: 3.8+ MB\n"
     ]
    }
   ],
   "source": [
    "data.info()"
   ]
  },
  {
   "cell_type": "markdown",
   "metadata": {},
   "source": [
    "## Расчёты и добавление результатов в таблицу"
   ]
  },
  {
   "cell_type": "markdown",
   "metadata": {},
   "source": [
    "### Добавление в таблицу столбца с ценой квадратного метра недвижимости"
   ]
  },
  {
   "cell_type": "markdown",
   "metadata": {},
   "source": [
    "Добавим в таблицу цену квадратного метра недвижимости."
   ]
  },
  {
   "cell_type": "code",
   "execution_count": 33,
   "metadata": {},
   "outputs": [],
   "source": [
    "data['sq_meter_cost'] = data['last_price'] / data['total_area']"
   ]
  },
  {
   "cell_type": "code",
   "execution_count": 34,
   "metadata": {},
   "outputs": [],
   "source": [
    "data['sq_meter_cost'] = data['sq_meter_cost'].astype('int')"
   ]
  },
  {
   "cell_type": "code",
   "execution_count": 35,
   "metadata": {},
   "outputs": [
    {
     "data": {
      "text/html": [
       "<div>\n",
       "<style scoped>\n",
       "    .dataframe tbody tr th:only-of-type {\n",
       "        vertical-align: middle;\n",
       "    }\n",
       "\n",
       "    .dataframe tbody tr th {\n",
       "        vertical-align: top;\n",
       "    }\n",
       "\n",
       "    .dataframe thead th {\n",
       "        text-align: right;\n",
       "    }\n",
       "</style>\n",
       "<table border=\"1\" class=\"dataframe\">\n",
       "  <thead>\n",
       "    <tr style=\"text-align: right;\">\n",
       "      <th></th>\n",
       "      <th>total_images</th>\n",
       "      <th>last_price</th>\n",
       "      <th>total_area</th>\n",
       "      <th>first_day_exposition</th>\n",
       "      <th>rooms</th>\n",
       "      <th>ceiling_height</th>\n",
       "      <th>floors_total</th>\n",
       "      <th>living_area</th>\n",
       "      <th>floor</th>\n",
       "      <th>is_apartment</th>\n",
       "      <th>...</th>\n",
       "      <th>balcony</th>\n",
       "      <th>locality_name</th>\n",
       "      <th>airports_nearest</th>\n",
       "      <th>city_center_nearest</th>\n",
       "      <th>parks_around3000</th>\n",
       "      <th>parks_nearest</th>\n",
       "      <th>ponds_around3000</th>\n",
       "      <th>ponds_nearest</th>\n",
       "      <th>days_exposition</th>\n",
       "      <th>sq_meter_cost</th>\n",
       "    </tr>\n",
       "  </thead>\n",
       "  <tbody>\n",
       "    <tr>\n",
       "      <td>0</td>\n",
       "      <td>20</td>\n",
       "      <td>13000000</td>\n",
       "      <td>108.0</td>\n",
       "      <td>2019-03-07</td>\n",
       "      <td>3</td>\n",
       "      <td>2.70</td>\n",
       "      <td>16</td>\n",
       "      <td>51.0</td>\n",
       "      <td>8</td>\n",
       "      <td>False</td>\n",
       "      <td>...</td>\n",
       "      <td>0</td>\n",
       "      <td>Санкт-Петербург</td>\n",
       "      <td>18863</td>\n",
       "      <td>16028</td>\n",
       "      <td>1</td>\n",
       "      <td>482</td>\n",
       "      <td>2</td>\n",
       "      <td>755</td>\n",
       "      <td>95</td>\n",
       "      <td>120370</td>\n",
       "    </tr>\n",
       "    <tr>\n",
       "      <td>1</td>\n",
       "      <td>7</td>\n",
       "      <td>3350000</td>\n",
       "      <td>40.4</td>\n",
       "      <td>2018-12-04</td>\n",
       "      <td>1</td>\n",
       "      <td>2.65</td>\n",
       "      <td>11</td>\n",
       "      <td>18.6</td>\n",
       "      <td>1</td>\n",
       "      <td>False</td>\n",
       "      <td>...</td>\n",
       "      <td>2</td>\n",
       "      <td>посёлок Шушары</td>\n",
       "      <td>12817</td>\n",
       "      <td>18603</td>\n",
       "      <td>0</td>\n",
       "      <td>455</td>\n",
       "      <td>0</td>\n",
       "      <td>503</td>\n",
       "      <td>81</td>\n",
       "      <td>82920</td>\n",
       "    </tr>\n",
       "    <tr>\n",
       "      <td>2</td>\n",
       "      <td>10</td>\n",
       "      <td>5196000</td>\n",
       "      <td>56.0</td>\n",
       "      <td>2015-08-20</td>\n",
       "      <td>2</td>\n",
       "      <td>2.65</td>\n",
       "      <td>5</td>\n",
       "      <td>34.3</td>\n",
       "      <td>4</td>\n",
       "      <td>False</td>\n",
       "      <td>...</td>\n",
       "      <td>0</td>\n",
       "      <td>Санкт-Петербург</td>\n",
       "      <td>21741</td>\n",
       "      <td>13933</td>\n",
       "      <td>1</td>\n",
       "      <td>90</td>\n",
       "      <td>2</td>\n",
       "      <td>574</td>\n",
       "      <td>558</td>\n",
       "      <td>92785</td>\n",
       "    </tr>\n",
       "    <tr>\n",
       "      <td>3</td>\n",
       "      <td>0</td>\n",
       "      <td>64900000</td>\n",
       "      <td>159.0</td>\n",
       "      <td>2015-07-24</td>\n",
       "      <td>3</td>\n",
       "      <td>2.65</td>\n",
       "      <td>14</td>\n",
       "      <td>30.0</td>\n",
       "      <td>9</td>\n",
       "      <td>False</td>\n",
       "      <td>...</td>\n",
       "      <td>0</td>\n",
       "      <td>Санкт-Петербург</td>\n",
       "      <td>28098</td>\n",
       "      <td>6800</td>\n",
       "      <td>2</td>\n",
       "      <td>84</td>\n",
       "      <td>3</td>\n",
       "      <td>234</td>\n",
       "      <td>424</td>\n",
       "      <td>408176</td>\n",
       "    </tr>\n",
       "    <tr>\n",
       "      <td>4</td>\n",
       "      <td>2</td>\n",
       "      <td>10000000</td>\n",
       "      <td>100.0</td>\n",
       "      <td>2018-06-19</td>\n",
       "      <td>2</td>\n",
       "      <td>3.03</td>\n",
       "      <td>14</td>\n",
       "      <td>32.0</td>\n",
       "      <td>13</td>\n",
       "      <td>False</td>\n",
       "      <td>...</td>\n",
       "      <td>0</td>\n",
       "      <td>Санкт-Петербург</td>\n",
       "      <td>31856</td>\n",
       "      <td>8098</td>\n",
       "      <td>2</td>\n",
       "      <td>112</td>\n",
       "      <td>1</td>\n",
       "      <td>48</td>\n",
       "      <td>121</td>\n",
       "      <td>100000</td>\n",
       "    </tr>\n",
       "  </tbody>\n",
       "</table>\n",
       "<p>5 rows × 23 columns</p>\n",
       "</div>"
      ],
      "text/plain": [
       "   total_images  last_price  total_area first_day_exposition  rooms  \\\n",
       "0            20    13000000       108.0           2019-03-07      3   \n",
       "1             7     3350000        40.4           2018-12-04      1   \n",
       "2            10     5196000        56.0           2015-08-20      2   \n",
       "3             0    64900000       159.0           2015-07-24      3   \n",
       "4             2    10000000       100.0           2018-06-19      2   \n",
       "\n",
       "   ceiling_height  floors_total  living_area  floor is_apartment  ...  \\\n",
       "0            2.70            16         51.0      8        False  ...   \n",
       "1            2.65            11         18.6      1        False  ...   \n",
       "2            2.65             5         34.3      4        False  ...   \n",
       "3            2.65            14         30.0      9        False  ...   \n",
       "4            3.03            14         32.0     13        False  ...   \n",
       "\n",
       "   balcony    locality_name  airports_nearest  city_center_nearest  \\\n",
       "0        0  Санкт-Петербург             18863                16028   \n",
       "1        2   посёлок Шушары             12817                18603   \n",
       "2        0  Санкт-Петербург             21741                13933   \n",
       "3        0  Санкт-Петербург             28098                 6800   \n",
       "4        0  Санкт-Петербург             31856                 8098   \n",
       "\n",
       "  parks_around3000  parks_nearest  ponds_around3000  ponds_nearest  \\\n",
       "0                1            482                 2            755   \n",
       "1                0            455                 0            503   \n",
       "2                1             90                 2            574   \n",
       "3                2             84                 3            234   \n",
       "4                2            112                 1             48   \n",
       "\n",
       "   days_exposition  sq_meter_cost  \n",
       "0               95         120370  \n",
       "1               81          82920  \n",
       "2              558          92785  \n",
       "3              424         408176  \n",
       "4              121         100000  \n",
       "\n",
       "[5 rows x 23 columns]"
      ]
     },
     "execution_count": 35,
     "metadata": {},
     "output_type": "execute_result"
    }
   ],
   "source": [
    "data.head()"
   ]
  },
  {
   "cell_type": "markdown",
   "metadata": {},
   "source": [
    "### Добавление в таблицу столбцов с датой публакции объявления по году, месяцу и дню"
   ]
  },
  {
   "cell_type": "markdown",
   "metadata": {},
   "source": [
    "Добавим в таблицу отдельные столбцы с годом, месяцем и днем недели публикации объявления. Получить нужное значение поможет `.dt.year/month/weekday`."
   ]
  },
  {
   "cell_type": "code",
   "execution_count": 36,
   "metadata": {},
   "outputs": [],
   "source": [
    "data['publication_year'] = data['first_day_exposition'].dt.year\n",
    "\n",
    "data['publication_month'] = data['first_day_exposition'].dt.month\n",
    "\n",
    "data['publication_weekday'] = data['first_day_exposition'].dt.weekday\n",
    "#в таблице с днем недели будет отображаться порядковый номер дня публикации объявления."
   ]
  },
  {
   "cell_type": "code",
   "execution_count": 37,
   "metadata": {},
   "outputs": [
    {
     "data": {
      "text/html": [
       "<div>\n",
       "<style scoped>\n",
       "    .dataframe tbody tr th:only-of-type {\n",
       "        vertical-align: middle;\n",
       "    }\n",
       "\n",
       "    .dataframe tbody tr th {\n",
       "        vertical-align: top;\n",
       "    }\n",
       "\n",
       "    .dataframe thead th {\n",
       "        text-align: right;\n",
       "    }\n",
       "</style>\n",
       "<table border=\"1\" class=\"dataframe\">\n",
       "  <thead>\n",
       "    <tr style=\"text-align: right;\">\n",
       "      <th></th>\n",
       "      <th>total_images</th>\n",
       "      <th>last_price</th>\n",
       "      <th>total_area</th>\n",
       "      <th>first_day_exposition</th>\n",
       "      <th>rooms</th>\n",
       "      <th>ceiling_height</th>\n",
       "      <th>floors_total</th>\n",
       "      <th>living_area</th>\n",
       "      <th>floor</th>\n",
       "      <th>is_apartment</th>\n",
       "      <th>...</th>\n",
       "      <th>city_center_nearest</th>\n",
       "      <th>parks_around3000</th>\n",
       "      <th>parks_nearest</th>\n",
       "      <th>ponds_around3000</th>\n",
       "      <th>ponds_nearest</th>\n",
       "      <th>days_exposition</th>\n",
       "      <th>sq_meter_cost</th>\n",
       "      <th>publication_year</th>\n",
       "      <th>publication_month</th>\n",
       "      <th>publication_weekday</th>\n",
       "    </tr>\n",
       "  </thead>\n",
       "  <tbody>\n",
       "    <tr>\n",
       "      <td>0</td>\n",
       "      <td>20</td>\n",
       "      <td>13000000</td>\n",
       "      <td>108.0</td>\n",
       "      <td>2019-03-07</td>\n",
       "      <td>3</td>\n",
       "      <td>2.70</td>\n",
       "      <td>16</td>\n",
       "      <td>51.0</td>\n",
       "      <td>8</td>\n",
       "      <td>False</td>\n",
       "      <td>...</td>\n",
       "      <td>16028</td>\n",
       "      <td>1</td>\n",
       "      <td>482</td>\n",
       "      <td>2</td>\n",
       "      <td>755</td>\n",
       "      <td>95</td>\n",
       "      <td>120370</td>\n",
       "      <td>2019</td>\n",
       "      <td>3</td>\n",
       "      <td>3</td>\n",
       "    </tr>\n",
       "    <tr>\n",
       "      <td>1</td>\n",
       "      <td>7</td>\n",
       "      <td>3350000</td>\n",
       "      <td>40.4</td>\n",
       "      <td>2018-12-04</td>\n",
       "      <td>1</td>\n",
       "      <td>2.65</td>\n",
       "      <td>11</td>\n",
       "      <td>18.6</td>\n",
       "      <td>1</td>\n",
       "      <td>False</td>\n",
       "      <td>...</td>\n",
       "      <td>18603</td>\n",
       "      <td>0</td>\n",
       "      <td>455</td>\n",
       "      <td>0</td>\n",
       "      <td>503</td>\n",
       "      <td>81</td>\n",
       "      <td>82920</td>\n",
       "      <td>2018</td>\n",
       "      <td>12</td>\n",
       "      <td>1</td>\n",
       "    </tr>\n",
       "    <tr>\n",
       "      <td>2</td>\n",
       "      <td>10</td>\n",
       "      <td>5196000</td>\n",
       "      <td>56.0</td>\n",
       "      <td>2015-08-20</td>\n",
       "      <td>2</td>\n",
       "      <td>2.65</td>\n",
       "      <td>5</td>\n",
       "      <td>34.3</td>\n",
       "      <td>4</td>\n",
       "      <td>False</td>\n",
       "      <td>...</td>\n",
       "      <td>13933</td>\n",
       "      <td>1</td>\n",
       "      <td>90</td>\n",
       "      <td>2</td>\n",
       "      <td>574</td>\n",
       "      <td>558</td>\n",
       "      <td>92785</td>\n",
       "      <td>2015</td>\n",
       "      <td>8</td>\n",
       "      <td>3</td>\n",
       "    </tr>\n",
       "    <tr>\n",
       "      <td>3</td>\n",
       "      <td>0</td>\n",
       "      <td>64900000</td>\n",
       "      <td>159.0</td>\n",
       "      <td>2015-07-24</td>\n",
       "      <td>3</td>\n",
       "      <td>2.65</td>\n",
       "      <td>14</td>\n",
       "      <td>30.0</td>\n",
       "      <td>9</td>\n",
       "      <td>False</td>\n",
       "      <td>...</td>\n",
       "      <td>6800</td>\n",
       "      <td>2</td>\n",
       "      <td>84</td>\n",
       "      <td>3</td>\n",
       "      <td>234</td>\n",
       "      <td>424</td>\n",
       "      <td>408176</td>\n",
       "      <td>2015</td>\n",
       "      <td>7</td>\n",
       "      <td>4</td>\n",
       "    </tr>\n",
       "    <tr>\n",
       "      <td>4</td>\n",
       "      <td>2</td>\n",
       "      <td>10000000</td>\n",
       "      <td>100.0</td>\n",
       "      <td>2018-06-19</td>\n",
       "      <td>2</td>\n",
       "      <td>3.03</td>\n",
       "      <td>14</td>\n",
       "      <td>32.0</td>\n",
       "      <td>13</td>\n",
       "      <td>False</td>\n",
       "      <td>...</td>\n",
       "      <td>8098</td>\n",
       "      <td>2</td>\n",
       "      <td>112</td>\n",
       "      <td>1</td>\n",
       "      <td>48</td>\n",
       "      <td>121</td>\n",
       "      <td>100000</td>\n",
       "      <td>2018</td>\n",
       "      <td>6</td>\n",
       "      <td>1</td>\n",
       "    </tr>\n",
       "  </tbody>\n",
       "</table>\n",
       "<p>5 rows × 26 columns</p>\n",
       "</div>"
      ],
      "text/plain": [
       "   total_images  last_price  total_area first_day_exposition  rooms  \\\n",
       "0            20    13000000       108.0           2019-03-07      3   \n",
       "1             7     3350000        40.4           2018-12-04      1   \n",
       "2            10     5196000        56.0           2015-08-20      2   \n",
       "3             0    64900000       159.0           2015-07-24      3   \n",
       "4             2    10000000       100.0           2018-06-19      2   \n",
       "\n",
       "   ceiling_height  floors_total  living_area  floor is_apartment  ...  \\\n",
       "0            2.70            16         51.0      8        False  ...   \n",
       "1            2.65            11         18.6      1        False  ...   \n",
       "2            2.65             5         34.3      4        False  ...   \n",
       "3            2.65            14         30.0      9        False  ...   \n",
       "4            3.03            14         32.0     13        False  ...   \n",
       "\n",
       "   city_center_nearest  parks_around3000  parks_nearest  ponds_around3000  \\\n",
       "0                16028                 1            482                 2   \n",
       "1                18603                 0            455                 0   \n",
       "2                13933                 1             90                 2   \n",
       "3                 6800                 2             84                 3   \n",
       "4                 8098                 2            112                 1   \n",
       "\n",
       "  ponds_nearest  days_exposition  sq_meter_cost  publication_year  \\\n",
       "0           755               95         120370              2019   \n",
       "1           503               81          82920              2018   \n",
       "2           574              558          92785              2015   \n",
       "3           234              424         408176              2015   \n",
       "4            48              121         100000              2018   \n",
       "\n",
       "   publication_month  publication_weekday  \n",
       "0                  3                    3  \n",
       "1                 12                    1  \n",
       "2                  8                    3  \n",
       "3                  7                    4  \n",
       "4                  6                    1  \n",
       "\n",
       "[5 rows x 26 columns]"
      ]
     },
     "execution_count": 37,
     "metadata": {},
     "output_type": "execute_result"
    }
   ],
   "source": [
    "data.head()"
   ]
  },
  {
   "cell_type": "markdown",
   "metadata": {},
   "source": [
    "### Добавление в таблицу столбца с категориями этажей"
   ]
  },
  {
   "cell_type": "markdown",
   "metadata": {},
   "source": [
    "Добвами в таблицу этаж квартиры. Варианты - первый, последний, другой."
   ]
  },
  {
   "cell_type": "code",
   "execution_count": 38,
   "metadata": {},
   "outputs": [],
   "source": [
    "def floor_category(row): #объявим функцию, которая будет принимать на вход значения столбца floor\n",
    "    \n",
    "    if row['floor'] == 1: return 'первый' #если значение в floor равно 1, то функция выведет \"первый\"\n",
    "    \n",
    "    if row['floor'] == row['floors_total']: return 'последний'\n",
    "    #если значение равняется значению столбца \"floors_total\" (всего этажей), функция выведет \"последний\"\n",
    "    \n",
    "    return 'другой' #во всех остальных случаях функция будет выводить \"другой\"\n",
    "\n",
    "data['floor_category'] = data.apply(floor_category, axis = 1)\n",
    "#создадим новый столбец, который будет наполняться результатами работы функции"
   ]
  },
  {
   "cell_type": "code",
   "execution_count": 39,
   "metadata": {},
   "outputs": [
    {
     "data": {
      "text/html": [
       "<div>\n",
       "<style scoped>\n",
       "    .dataframe tbody tr th:only-of-type {\n",
       "        vertical-align: middle;\n",
       "    }\n",
       "\n",
       "    .dataframe tbody tr th {\n",
       "        vertical-align: top;\n",
       "    }\n",
       "\n",
       "    .dataframe thead th {\n",
       "        text-align: right;\n",
       "    }\n",
       "</style>\n",
       "<table border=\"1\" class=\"dataframe\">\n",
       "  <thead>\n",
       "    <tr style=\"text-align: right;\">\n",
       "      <th></th>\n",
       "      <th>total_images</th>\n",
       "      <th>last_price</th>\n",
       "      <th>total_area</th>\n",
       "      <th>first_day_exposition</th>\n",
       "      <th>rooms</th>\n",
       "      <th>ceiling_height</th>\n",
       "      <th>floors_total</th>\n",
       "      <th>living_area</th>\n",
       "      <th>floor</th>\n",
       "      <th>is_apartment</th>\n",
       "      <th>...</th>\n",
       "      <th>parks_around3000</th>\n",
       "      <th>parks_nearest</th>\n",
       "      <th>ponds_around3000</th>\n",
       "      <th>ponds_nearest</th>\n",
       "      <th>days_exposition</th>\n",
       "      <th>sq_meter_cost</th>\n",
       "      <th>publication_year</th>\n",
       "      <th>publication_month</th>\n",
       "      <th>publication_weekday</th>\n",
       "      <th>floor_category</th>\n",
       "    </tr>\n",
       "  </thead>\n",
       "  <tbody>\n",
       "    <tr>\n",
       "      <td>0</td>\n",
       "      <td>20</td>\n",
       "      <td>13000000</td>\n",
       "      <td>108.00</td>\n",
       "      <td>2019-03-07</td>\n",
       "      <td>3</td>\n",
       "      <td>2.70</td>\n",
       "      <td>16</td>\n",
       "      <td>51.00</td>\n",
       "      <td>8</td>\n",
       "      <td>False</td>\n",
       "      <td>...</td>\n",
       "      <td>1</td>\n",
       "      <td>482</td>\n",
       "      <td>2</td>\n",
       "      <td>755</td>\n",
       "      <td>95</td>\n",
       "      <td>120370</td>\n",
       "      <td>2019</td>\n",
       "      <td>3</td>\n",
       "      <td>3</td>\n",
       "      <td>другой</td>\n",
       "    </tr>\n",
       "    <tr>\n",
       "      <td>1</td>\n",
       "      <td>7</td>\n",
       "      <td>3350000</td>\n",
       "      <td>40.40</td>\n",
       "      <td>2018-12-04</td>\n",
       "      <td>1</td>\n",
       "      <td>2.65</td>\n",
       "      <td>11</td>\n",
       "      <td>18.60</td>\n",
       "      <td>1</td>\n",
       "      <td>False</td>\n",
       "      <td>...</td>\n",
       "      <td>0</td>\n",
       "      <td>455</td>\n",
       "      <td>0</td>\n",
       "      <td>503</td>\n",
       "      <td>81</td>\n",
       "      <td>82920</td>\n",
       "      <td>2018</td>\n",
       "      <td>12</td>\n",
       "      <td>1</td>\n",
       "      <td>первый</td>\n",
       "    </tr>\n",
       "    <tr>\n",
       "      <td>2</td>\n",
       "      <td>10</td>\n",
       "      <td>5196000</td>\n",
       "      <td>56.00</td>\n",
       "      <td>2015-08-20</td>\n",
       "      <td>2</td>\n",
       "      <td>2.65</td>\n",
       "      <td>5</td>\n",
       "      <td>34.30</td>\n",
       "      <td>4</td>\n",
       "      <td>False</td>\n",
       "      <td>...</td>\n",
       "      <td>1</td>\n",
       "      <td>90</td>\n",
       "      <td>2</td>\n",
       "      <td>574</td>\n",
       "      <td>558</td>\n",
       "      <td>92785</td>\n",
       "      <td>2015</td>\n",
       "      <td>8</td>\n",
       "      <td>3</td>\n",
       "      <td>другой</td>\n",
       "    </tr>\n",
       "    <tr>\n",
       "      <td>3</td>\n",
       "      <td>0</td>\n",
       "      <td>64900000</td>\n",
       "      <td>159.00</td>\n",
       "      <td>2015-07-24</td>\n",
       "      <td>3</td>\n",
       "      <td>2.65</td>\n",
       "      <td>14</td>\n",
       "      <td>30.00</td>\n",
       "      <td>9</td>\n",
       "      <td>False</td>\n",
       "      <td>...</td>\n",
       "      <td>2</td>\n",
       "      <td>84</td>\n",
       "      <td>3</td>\n",
       "      <td>234</td>\n",
       "      <td>424</td>\n",
       "      <td>408176</td>\n",
       "      <td>2015</td>\n",
       "      <td>7</td>\n",
       "      <td>4</td>\n",
       "      <td>другой</td>\n",
       "    </tr>\n",
       "    <tr>\n",
       "      <td>4</td>\n",
       "      <td>2</td>\n",
       "      <td>10000000</td>\n",
       "      <td>100.00</td>\n",
       "      <td>2018-06-19</td>\n",
       "      <td>2</td>\n",
       "      <td>3.03</td>\n",
       "      <td>14</td>\n",
       "      <td>32.00</td>\n",
       "      <td>13</td>\n",
       "      <td>False</td>\n",
       "      <td>...</td>\n",
       "      <td>2</td>\n",
       "      <td>112</td>\n",
       "      <td>1</td>\n",
       "      <td>48</td>\n",
       "      <td>121</td>\n",
       "      <td>100000</td>\n",
       "      <td>2018</td>\n",
       "      <td>6</td>\n",
       "      <td>1</td>\n",
       "      <td>другой</td>\n",
       "    </tr>\n",
       "    <tr>\n",
       "      <td>5</td>\n",
       "      <td>10</td>\n",
       "      <td>2890000</td>\n",
       "      <td>30.40</td>\n",
       "      <td>2018-09-10</td>\n",
       "      <td>1</td>\n",
       "      <td>2.65</td>\n",
       "      <td>12</td>\n",
       "      <td>14.40</td>\n",
       "      <td>5</td>\n",
       "      <td>False</td>\n",
       "      <td>...</td>\n",
       "      <td>0</td>\n",
       "      <td>455</td>\n",
       "      <td>1</td>\n",
       "      <td>503</td>\n",
       "      <td>55</td>\n",
       "      <td>95065</td>\n",
       "      <td>2018</td>\n",
       "      <td>9</td>\n",
       "      <td>0</td>\n",
       "      <td>другой</td>\n",
       "    </tr>\n",
       "    <tr>\n",
       "      <td>6</td>\n",
       "      <td>6</td>\n",
       "      <td>3700000</td>\n",
       "      <td>37.30</td>\n",
       "      <td>2017-11-02</td>\n",
       "      <td>1</td>\n",
       "      <td>2.65</td>\n",
       "      <td>26</td>\n",
       "      <td>10.60</td>\n",
       "      <td>6</td>\n",
       "      <td>False</td>\n",
       "      <td>...</td>\n",
       "      <td>0</td>\n",
       "      <td>455</td>\n",
       "      <td>0</td>\n",
       "      <td>503</td>\n",
       "      <td>155</td>\n",
       "      <td>99195</td>\n",
       "      <td>2017</td>\n",
       "      <td>11</td>\n",
       "      <td>3</td>\n",
       "      <td>другой</td>\n",
       "    </tr>\n",
       "    <tr>\n",
       "      <td>7</td>\n",
       "      <td>5</td>\n",
       "      <td>7915000</td>\n",
       "      <td>71.60</td>\n",
       "      <td>2019-04-18</td>\n",
       "      <td>2</td>\n",
       "      <td>2.65</td>\n",
       "      <td>24</td>\n",
       "      <td>30.00</td>\n",
       "      <td>22</td>\n",
       "      <td>False</td>\n",
       "      <td>...</td>\n",
       "      <td>0</td>\n",
       "      <td>455</td>\n",
       "      <td>0</td>\n",
       "      <td>503</td>\n",
       "      <td>95</td>\n",
       "      <td>110544</td>\n",
       "      <td>2019</td>\n",
       "      <td>4</td>\n",
       "      <td>3</td>\n",
       "      <td>другой</td>\n",
       "    </tr>\n",
       "    <tr>\n",
       "      <td>8</td>\n",
       "      <td>20</td>\n",
       "      <td>2900000</td>\n",
       "      <td>33.16</td>\n",
       "      <td>2018-05-23</td>\n",
       "      <td>1</td>\n",
       "      <td>2.65</td>\n",
       "      <td>27</td>\n",
       "      <td>15.43</td>\n",
       "      <td>26</td>\n",
       "      <td>False</td>\n",
       "      <td>...</td>\n",
       "      <td>0</td>\n",
       "      <td>455</td>\n",
       "      <td>1</td>\n",
       "      <td>503</td>\n",
       "      <td>189</td>\n",
       "      <td>87454</td>\n",
       "      <td>2018</td>\n",
       "      <td>5</td>\n",
       "      <td>2</td>\n",
       "      <td>другой</td>\n",
       "    </tr>\n",
       "    <tr>\n",
       "      <td>9</td>\n",
       "      <td>18</td>\n",
       "      <td>5400000</td>\n",
       "      <td>61.00</td>\n",
       "      <td>2017-02-26</td>\n",
       "      <td>3</td>\n",
       "      <td>2.50</td>\n",
       "      <td>9</td>\n",
       "      <td>43.60</td>\n",
       "      <td>7</td>\n",
       "      <td>False</td>\n",
       "      <td>...</td>\n",
       "      <td>0</td>\n",
       "      <td>455</td>\n",
       "      <td>0</td>\n",
       "      <td>503</td>\n",
       "      <td>289</td>\n",
       "      <td>88524</td>\n",
       "      <td>2017</td>\n",
       "      <td>2</td>\n",
       "      <td>6</td>\n",
       "      <td>другой</td>\n",
       "    </tr>\n",
       "  </tbody>\n",
       "</table>\n",
       "<p>10 rows × 27 columns</p>\n",
       "</div>"
      ],
      "text/plain": [
       "   total_images  last_price  total_area first_day_exposition  rooms  \\\n",
       "0            20    13000000      108.00           2019-03-07      3   \n",
       "1             7     3350000       40.40           2018-12-04      1   \n",
       "2            10     5196000       56.00           2015-08-20      2   \n",
       "3             0    64900000      159.00           2015-07-24      3   \n",
       "4             2    10000000      100.00           2018-06-19      2   \n",
       "5            10     2890000       30.40           2018-09-10      1   \n",
       "6             6     3700000       37.30           2017-11-02      1   \n",
       "7             5     7915000       71.60           2019-04-18      2   \n",
       "8            20     2900000       33.16           2018-05-23      1   \n",
       "9            18     5400000       61.00           2017-02-26      3   \n",
       "\n",
       "   ceiling_height  floors_total  living_area  floor is_apartment  ...  \\\n",
       "0            2.70            16        51.00      8        False  ...   \n",
       "1            2.65            11        18.60      1        False  ...   \n",
       "2            2.65             5        34.30      4        False  ...   \n",
       "3            2.65            14        30.00      9        False  ...   \n",
       "4            3.03            14        32.00     13        False  ...   \n",
       "5            2.65            12        14.40      5        False  ...   \n",
       "6            2.65            26        10.60      6        False  ...   \n",
       "7            2.65            24        30.00     22        False  ...   \n",
       "8            2.65            27        15.43     26        False  ...   \n",
       "9            2.50             9        43.60      7        False  ...   \n",
       "\n",
       "   parks_around3000  parks_nearest  ponds_around3000  ponds_nearest  \\\n",
       "0                 1            482                 2            755   \n",
       "1                 0            455                 0            503   \n",
       "2                 1             90                 2            574   \n",
       "3                 2             84                 3            234   \n",
       "4                 2            112                 1             48   \n",
       "5                 0            455                 1            503   \n",
       "6                 0            455                 0            503   \n",
       "7                 0            455                 0            503   \n",
       "8                 0            455                 1            503   \n",
       "9                 0            455                 0            503   \n",
       "\n",
       "  days_exposition  sq_meter_cost  publication_year  publication_month  \\\n",
       "0              95         120370              2019                  3   \n",
       "1              81          82920              2018                 12   \n",
       "2             558          92785              2015                  8   \n",
       "3             424         408176              2015                  7   \n",
       "4             121         100000              2018                  6   \n",
       "5              55          95065              2018                  9   \n",
       "6             155          99195              2017                 11   \n",
       "7              95         110544              2019                  4   \n",
       "8             189          87454              2018                  5   \n",
       "9             289          88524              2017                  2   \n",
       "\n",
       "   publication_weekday  floor_category  \n",
       "0                    3          другой  \n",
       "1                    1          первый  \n",
       "2                    3          другой  \n",
       "3                    4          другой  \n",
       "4                    1          другой  \n",
       "5                    0          другой  \n",
       "6                    3          другой  \n",
       "7                    3          другой  \n",
       "8                    2          другой  \n",
       "9                    6          другой  \n",
       "\n",
       "[10 rows x 27 columns]"
      ]
     },
     "execution_count": 39,
     "metadata": {},
     "output_type": "execute_result"
    }
   ],
   "source": [
    "data.head(10)"
   ]
  },
  {
   "cell_type": "markdown",
   "metadata": {},
   "source": [
    "### Добавление в таблицу столбцов с соотношениями жилой площади и площади кухни к общей"
   ]
  },
  {
   "cell_type": "markdown",
   "metadata": {},
   "source": [
    "Добавим в таблицу столбцы с соотношением жилой площади к общей и соотношением площади кухни к общей."
   ]
  },
  {
   "cell_type": "code",
   "execution_count": 40,
   "metadata": {},
   "outputs": [],
   "source": [
    "data['living_to_total_ratio'] = data['living_area'] / data['total_area']"
   ]
  },
  {
   "cell_type": "code",
   "execution_count": 41,
   "metadata": {},
   "outputs": [],
   "source": [
    "data['kitchen_to_total_ratio'] = data['kitchen_area'] / data['total_area']"
   ]
  },
  {
   "cell_type": "markdown",
   "metadata": {},
   "source": [
    "Выведем на экран всю таблицу."
   ]
  },
  {
   "cell_type": "code",
   "execution_count": 42,
   "metadata": {},
   "outputs": [
    {
     "data": {
      "text/html": [
       "<div>\n",
       "<style scoped>\n",
       "    .dataframe tbody tr th:only-of-type {\n",
       "        vertical-align: middle;\n",
       "    }\n",
       "\n",
       "    .dataframe tbody tr th {\n",
       "        vertical-align: top;\n",
       "    }\n",
       "\n",
       "    .dataframe thead th {\n",
       "        text-align: right;\n",
       "    }\n",
       "</style>\n",
       "<table border=\"1\" class=\"dataframe\">\n",
       "  <thead>\n",
       "    <tr style=\"text-align: right;\">\n",
       "      <th></th>\n",
       "      <th>total_images</th>\n",
       "      <th>last_price</th>\n",
       "      <th>total_area</th>\n",
       "      <th>first_day_exposition</th>\n",
       "      <th>rooms</th>\n",
       "      <th>ceiling_height</th>\n",
       "      <th>floors_total</th>\n",
       "      <th>living_area</th>\n",
       "      <th>floor</th>\n",
       "      <th>is_apartment</th>\n",
       "      <th>...</th>\n",
       "      <th>ponds_around3000</th>\n",
       "      <th>ponds_nearest</th>\n",
       "      <th>days_exposition</th>\n",
       "      <th>sq_meter_cost</th>\n",
       "      <th>publication_year</th>\n",
       "      <th>publication_month</th>\n",
       "      <th>publication_weekday</th>\n",
       "      <th>floor_category</th>\n",
       "      <th>living_to_total_ratio</th>\n",
       "      <th>kitchen_to_total_ratio</th>\n",
       "    </tr>\n",
       "  </thead>\n",
       "  <tbody>\n",
       "    <tr>\n",
       "      <td>0</td>\n",
       "      <td>20</td>\n",
       "      <td>13000000</td>\n",
       "      <td>108.0</td>\n",
       "      <td>2019-03-07</td>\n",
       "      <td>3</td>\n",
       "      <td>2.70</td>\n",
       "      <td>16</td>\n",
       "      <td>51.0</td>\n",
       "      <td>8</td>\n",
       "      <td>False</td>\n",
       "      <td>...</td>\n",
       "      <td>2</td>\n",
       "      <td>755</td>\n",
       "      <td>95</td>\n",
       "      <td>120370</td>\n",
       "      <td>2019</td>\n",
       "      <td>3</td>\n",
       "      <td>3</td>\n",
       "      <td>другой</td>\n",
       "      <td>0.472222</td>\n",
       "      <td>0.231481</td>\n",
       "    </tr>\n",
       "    <tr>\n",
       "      <td>1</td>\n",
       "      <td>7</td>\n",
       "      <td>3350000</td>\n",
       "      <td>40.4</td>\n",
       "      <td>2018-12-04</td>\n",
       "      <td>1</td>\n",
       "      <td>2.65</td>\n",
       "      <td>11</td>\n",
       "      <td>18.6</td>\n",
       "      <td>1</td>\n",
       "      <td>False</td>\n",
       "      <td>...</td>\n",
       "      <td>0</td>\n",
       "      <td>503</td>\n",
       "      <td>81</td>\n",
       "      <td>82920</td>\n",
       "      <td>2018</td>\n",
       "      <td>12</td>\n",
       "      <td>1</td>\n",
       "      <td>первый</td>\n",
       "      <td>0.460396</td>\n",
       "      <td>0.272277</td>\n",
       "    </tr>\n",
       "    <tr>\n",
       "      <td>2</td>\n",
       "      <td>10</td>\n",
       "      <td>5196000</td>\n",
       "      <td>56.0</td>\n",
       "      <td>2015-08-20</td>\n",
       "      <td>2</td>\n",
       "      <td>2.65</td>\n",
       "      <td>5</td>\n",
       "      <td>34.3</td>\n",
       "      <td>4</td>\n",
       "      <td>False</td>\n",
       "      <td>...</td>\n",
       "      <td>2</td>\n",
       "      <td>574</td>\n",
       "      <td>558</td>\n",
       "      <td>92785</td>\n",
       "      <td>2015</td>\n",
       "      <td>8</td>\n",
       "      <td>3</td>\n",
       "      <td>другой</td>\n",
       "      <td>0.612500</td>\n",
       "      <td>0.148214</td>\n",
       "    </tr>\n",
       "    <tr>\n",
       "      <td>3</td>\n",
       "      <td>0</td>\n",
       "      <td>64900000</td>\n",
       "      <td>159.0</td>\n",
       "      <td>2015-07-24</td>\n",
       "      <td>3</td>\n",
       "      <td>2.65</td>\n",
       "      <td>14</td>\n",
       "      <td>30.0</td>\n",
       "      <td>9</td>\n",
       "      <td>False</td>\n",
       "      <td>...</td>\n",
       "      <td>3</td>\n",
       "      <td>234</td>\n",
       "      <td>424</td>\n",
       "      <td>408176</td>\n",
       "      <td>2015</td>\n",
       "      <td>7</td>\n",
       "      <td>4</td>\n",
       "      <td>другой</td>\n",
       "      <td>0.188679</td>\n",
       "      <td>0.057233</td>\n",
       "    </tr>\n",
       "    <tr>\n",
       "      <td>4</td>\n",
       "      <td>2</td>\n",
       "      <td>10000000</td>\n",
       "      <td>100.0</td>\n",
       "      <td>2018-06-19</td>\n",
       "      <td>2</td>\n",
       "      <td>3.03</td>\n",
       "      <td>14</td>\n",
       "      <td>32.0</td>\n",
       "      <td>13</td>\n",
       "      <td>False</td>\n",
       "      <td>...</td>\n",
       "      <td>1</td>\n",
       "      <td>48</td>\n",
       "      <td>121</td>\n",
       "      <td>100000</td>\n",
       "      <td>2018</td>\n",
       "      <td>6</td>\n",
       "      <td>1</td>\n",
       "      <td>другой</td>\n",
       "      <td>0.320000</td>\n",
       "      <td>0.410000</td>\n",
       "    </tr>\n",
       "  </tbody>\n",
       "</table>\n",
       "<p>5 rows × 29 columns</p>\n",
       "</div>"
      ],
      "text/plain": [
       "   total_images  last_price  total_area first_day_exposition  rooms  \\\n",
       "0            20    13000000       108.0           2019-03-07      3   \n",
       "1             7     3350000        40.4           2018-12-04      1   \n",
       "2            10     5196000        56.0           2015-08-20      2   \n",
       "3             0    64900000       159.0           2015-07-24      3   \n",
       "4             2    10000000       100.0           2018-06-19      2   \n",
       "\n",
       "   ceiling_height  floors_total  living_area  floor is_apartment  ...  \\\n",
       "0            2.70            16         51.0      8        False  ...   \n",
       "1            2.65            11         18.6      1        False  ...   \n",
       "2            2.65             5         34.3      4        False  ...   \n",
       "3            2.65            14         30.0      9        False  ...   \n",
       "4            3.03            14         32.0     13        False  ...   \n",
       "\n",
       "   ponds_around3000  ponds_nearest  days_exposition  sq_meter_cost  \\\n",
       "0                 2            755               95         120370   \n",
       "1                 0            503               81          82920   \n",
       "2                 2            574              558          92785   \n",
       "3                 3            234              424         408176   \n",
       "4                 1             48              121         100000   \n",
       "\n",
       "  publication_year  publication_month  publication_weekday  floor_category  \\\n",
       "0             2019                  3                    3          другой   \n",
       "1             2018                 12                    1          первый   \n",
       "2             2015                  8                    3          другой   \n",
       "3             2015                  7                    4          другой   \n",
       "4             2018                  6                    1          другой   \n",
       "\n",
       "   living_to_total_ratio  kitchen_to_total_ratio  \n",
       "0               0.472222                0.231481  \n",
       "1               0.460396                0.272277  \n",
       "2               0.612500                0.148214  \n",
       "3               0.188679                0.057233  \n",
       "4               0.320000                0.410000  \n",
       "\n",
       "[5 rows x 29 columns]"
      ]
     },
     "execution_count": 42,
     "metadata": {},
     "output_type": "execute_result"
    }
   ],
   "source": [
    "data.head()"
   ]
  },
  {
   "cell_type": "markdown",
   "metadata": {},
   "source": [
    "## Исследовательский анализ данных"
   ]
  },
  {
   "cell_type": "markdown",
   "metadata": {},
   "source": [
    "### Построение гистограмм"
   ]
  },
  {
   "cell_type": "markdown",
   "metadata": {},
   "source": [
    "Изучим данные по-подробнее. Построим гистограммы для следующих параметров: площадь, цена, число комнат, высота потолков. Для этого воспользуемся методом `.hist`."
   ]
  },
  {
   "cell_type": "code",
   "execution_count": 43,
   "metadata": {
    "scrolled": true
   },
   "outputs": [
    {
     "data": {
      "text/plain": [
       "''"
      ]
     },
     "execution_count": 43,
     "metadata": {},
     "output_type": "execute_result"
    },
    {
     "data": {
      "image/png": "[encoded data removed]",
      "text/plain": [
       "<Figure size 432x288 with 1 Axes>"
      ]
     },
     "metadata": {
      "needs_background": "light"
     },
     "output_type": "display_data"
    }
   ],
   "source": [
    "import matplotlib as plt\n",
    "data.plot(y='total_area', kind='hist', bins=100, range=(0, 450), grid=True, title='Гистограмма площади квартир')\n",
    ";"
   ]
  },
  {
   "cell_type": "markdown",
   "metadata": {},
   "source": [
    "По графику можно сделать вывод, что наибольшее число квартир имеют площадь около 50 квадратных метров. Также заметно небольшое количество значений площади, начинающихся от 300 квадратных метров."
   ]
  },
  {
   "cell_type": "code",
   "execution_count": 44,
   "metadata": {
    "scrolled": true
   },
   "outputs": [
    {
     "data": {
      "text/plain": [
       "''"
      ]
     },
     "execution_count": 44,
     "metadata": {},
     "output_type": "execute_result"
    },
    {
     "data": {
      "image/png": "[encoded data removed]",
      "text/plain": [
       "<Figure size 432x288 with 1 Axes>"
      ]
     },
     "metadata": {
      "needs_background": "light"
     },
     "output_type": "display_data"
    }
   ],
   "source": [
    "data.plot(y='sq_meter_cost', kind='hist', bins=150, range=(0, 600000), grid=True, title='Гистограмма стоимости квадратного метра')\n",
    ";"
   ]
  },
  {
   "cell_type": "markdown",
   "metadata": {},
   "source": [
    "Средняя стоимость квартир составляет около 100 тыс."
   ]
  },
  {
   "cell_type": "code",
   "execution_count": 45,
   "metadata": {},
   "outputs": [
    {
     "data": {
      "text/plain": [
       "''"
      ]
     },
     "execution_count": 45,
     "metadata": {},
     "output_type": "execute_result"
    },
    {
     "data": {
      "image/png": "[encoded data removed]",
      "text/plain": [
       "<Figure size 432x288 with 1 Axes>"
      ]
     },
     "metadata": {
      "needs_background": "light"
     },
     "output_type": "display_data"
    }
   ],
   "source": [
    "data.plot(y='rooms', kind='hist', bins=50, range=(0, 10), grid=True, title='Гистограмма количества комнат')\n",
    ";"
   ]
  },
  {
   "cell_type": "markdown",
   "metadata": {},
   "source": [
    "У наибольшего количества квартир от 1 до 2 комнат."
   ]
  },
  {
   "cell_type": "code",
   "execution_count": 46,
   "metadata": {},
   "outputs": [
    {
     "data": {
      "text/plain": [
       "''"
      ]
     },
     "execution_count": 46,
     "metadata": {},
     "output_type": "execute_result"
    },
    {
     "data": {
      "image/png": "[encoded data removed]",
      "text/plain": [
       "<Figure size 432x288 with 1 Axes>"
      ]
     },
     "metadata": {
      "needs_background": "light"
     },
     "output_type": "display_data"
    }
   ],
   "source": [
    "data.plot(y='ceiling_height', kind='hist', bins=150, range=(2, 4.5), grid=True, title='Гистограмма высоты потолков')\n",
    ";"
   ]
  },
  {
   "cell_type": "markdown",
   "metadata": {},
   "source": [
    "У наибольшего числа квартир высота потолков составляет примерно 2.65 м."
   ]
  },
  {
   "cell_type": "markdown",
   "metadata": {},
   "source": [
    "### Исследовательский анализ"
   ]
  },
  {
   "cell_type": "markdown",
   "metadata": {},
   "source": [
    "Изучим время продажи квартир."
   ]
  },
  {
   "cell_type": "code",
   "execution_count": 47,
   "metadata": {},
   "outputs": [
    {
     "data": {
      "text/plain": [
       "''"
      ]
     },
     "execution_count": 47,
     "metadata": {},
     "output_type": "execute_result"
    },
    {
     "data": {
      "image/png": "[encoded data removed]",
      "text/plain": [
       "<Figure size 432x288 with 1 Axes>"
      ]
     },
     "metadata": {
      "needs_background": "light"
     },
     "output_type": "display_data"
    }
   ],
   "source": [
    "data.plot(y='days_exposition', kind='hist', bins=150, grid=True, title='Гистограмма времени продажи квартир')\n",
    ";"
   ]
  },
  {
   "cell_type": "markdown",
   "metadata": {},
   "source": [
    "Есть большое количество значений, свидетельствующих о том, что наибольшее число квартир были проданы примерно за 80 дней. Также присутствуют значения, показывающие, что несколько квартир продавались очень долго, свыше тысячи дней. Эти значения скорее всего являются выбросами."
   ]
  },
  {
   "cell_type": "markdown",
   "metadata": {},
   "source": [
    "Посчитаем среднее время продажи квартиры и медиану. Для этого нужны методы `.mean` и `.median`."
   ]
  },
  {
   "cell_type": "code",
   "execution_count": 48,
   "metadata": {},
   "outputs": [
    {
     "data": {
      "text/plain": [
       "169.2036919159771"
      ]
     },
     "execution_count": 48,
     "metadata": {},
     "output_type": "execute_result"
    }
   ],
   "source": [
    "data['days_exposition'].mean()"
   ]
  },
  {
   "cell_type": "code",
   "execution_count": 49,
   "metadata": {},
   "outputs": [
    {
     "data": {
      "text/plain": [
       "95.0"
      ]
     },
     "execution_count": 49,
     "metadata": {},
     "output_type": "execute_result"
    }
   ],
   "source": [
    "data['days_exposition'].median()"
   ]
  },
  {
   "cell_type": "markdown",
   "metadata": {},
   "source": [
    "Медиана времени продажи квартир - 95 дней. Чтобы иметь более наглядное представление о слишком быстрой или слишком медленной продаже, применим метод `.describe()`."
   ]
  },
  {
   "cell_type": "code",
   "execution_count": 50,
   "metadata": {},
   "outputs": [
    {
     "data": {
      "text/plain": [
       "count    23565.000000\n",
       "mean       169.203692\n",
       "std        206.497729\n",
       "min          1.000000\n",
       "25%         45.000000\n",
       "50%         95.000000\n",
       "75%        198.000000\n",
       "max       1580.000000\n",
       "Name: days_exposition, dtype: float64"
      ]
     },
     "execution_count": 50,
     "metadata": {},
     "output_type": "execute_result"
    }
   ],
   "source": [
    "data['days_exposition'].describe()"
   ]
  },
  {
   "cell_type": "markdown",
   "metadata": {},
   "source": [
    "В результате применения метода можно увидеть, что среднее значение практически в два раза больше медианного. Это означает, что в данных есть \"длинный хвост\" либо выбросы, а это сильно влияет на среднее значение."
   ]
  },
  {
   "cell_type": "markdown",
   "metadata": {},
   "source": [
    "### Перезапись датасета"
   ]
  },
  {
   "cell_type": "markdown",
   "metadata": {},
   "source": [
    "Уберем редкие и выбивающиеся значения. Для этого создадим переменную, в которую перезапишем исходный датасет, но уже очищенный от выбросов, которые были обнаружены на графиках выше. Сделать срез можно при помощи `.query`."
   ]
  },
  {
   "cell_type": "code",
   "execution_count": 51,
   "metadata": {},
   "outputs": [],
   "source": [
    "clear_data = data.query('30 <= days_exposition < 900 and 2.5 < ceiling_height < 3.5 and 30 < total_area < 250 and 25000 <= sq_meter_cost < 270000')"
   ]
  },
  {
   "cell_type": "markdown",
   "metadata": {},
   "source": [
    "### Выявление зависимостей (корреляции)"
   ]
  },
  {
   "cell_type": "markdown",
   "metadata": {},
   "source": [
    "Разберемся, от каких факторов зависит стоимость квартир. Для этого можно будет посчитать корреляцию. Для этого понадобится метод `.corr`."
   ]
  },
  {
   "cell_type": "code",
   "execution_count": 52,
   "metadata": {},
   "outputs": [
    {
     "data": {
      "text/plain": [
       "0.8129892133087874"
      ]
     },
     "execution_count": 52,
     "metadata": {},
     "output_type": "execute_result"
    }
   ],
   "source": [
    "clear_data['last_price'].corr(clear_data['total_area']) #корреляция стоимости квартиры и ее площади"
   ]
  },
  {
   "cell_type": "code",
   "execution_count": 53,
   "metadata": {},
   "outputs": [
    {
     "data": {
      "text/plain": [
       "0.5302470618805979"
      ]
     },
     "execution_count": 53,
     "metadata": {},
     "output_type": "execute_result"
    }
   ],
   "source": [
    "clear_data['last_price'].corr(clear_data['rooms']) #корреляция стоимости и количества комнат"
   ]
  },
  {
   "cell_type": "code",
   "execution_count": 54,
   "metadata": {},
   "outputs": [
    {
     "data": {
      "text/plain": [
       "-0.2920085645335465"
      ]
     },
     "execution_count": 54,
     "metadata": {},
     "output_type": "execute_result"
    }
   ],
   "source": [
    "clear_data['last_price'].corr(clear_data['city_center_nearest']) #корреляция стоимости и расстояния до центра"
   ]
  },
  {
   "cell_type": "markdown",
   "metadata": {},
   "source": [
    "Для того, чтобы увидеть зависимость стоимости квартир от этажа ее расположения, нужно построить диаграмму размаха. Построить ее можно методом `.boxplot`, который примет на вход два столбца."
   ]
  },
  {
   "cell_type": "code",
   "execution_count": 55,
   "metadata": {
    "scrolled": true
   },
   "outputs": [
    {
     "data": {
      "text/plain": [
       "''"
      ]
     },
     "execution_count": 55,
     "metadata": {},
     "output_type": "execute_result"
    },
    {
     "data": {
      "image/png": "[encoded data removed]",
      "text/plain": [
       "<Figure size 432x288 with 1 Axes>"
      ]
     },
     "metadata": {
      "needs_background": "light"
     },
     "output_type": "display_data"
    }
   ],
   "source": [
    "clear_data.boxplot(column='last_price', by='floor_category')\n",
    ";"
   ]
  },
  {
   "cell_type": "markdown",
   "metadata": {},
   "source": [
    "Больше всего стоимость квартиры коррелирует с площадью, что в принципе логично. Также стоимость квартиры выше, если она находится на любых этажах, кроме первого. С остальными параметрами связи практически нет."
   ]
  },
  {
   "cell_type": "code",
   "execution_count": 56,
   "metadata": {},
   "outputs": [
    {
     "data": {
      "text/plain": [
       "0.011713856280246094"
      ]
     },
     "execution_count": 56,
     "metadata": {},
     "output_type": "execute_result"
    }
   ],
   "source": [
    "clear_data['last_price'].corr(clear_data['publication_year'])"
   ]
  },
  {
   "cell_type": "code",
   "execution_count": 57,
   "metadata": {},
   "outputs": [
    {
     "data": {
      "text/plain": [
       "0.0010482554417992856"
      ]
     },
     "execution_count": 57,
     "metadata": {},
     "output_type": "execute_result"
    }
   ],
   "source": [
    "clear_data['last_price'].corr(clear_data['publication_month'])"
   ]
  },
  {
   "cell_type": "code",
   "execution_count": 58,
   "metadata": {},
   "outputs": [
    {
     "data": {
      "text/plain": [
       "-0.014507732365209913"
      ]
     },
     "execution_count": 58,
     "metadata": {},
     "output_type": "execute_result"
    }
   ],
   "source": [
    "clear_data['last_price'].corr(clear_data['publication_weekday'])"
   ]
  },
  {
   "cell_type": "markdown",
   "metadata": {},
   "source": [
    "Судя по результатам зависимости между ценой недвижимости и годом, месяцем и днем публикации объявления нет."
   ]
  },
  {
   "cell_type": "markdown",
   "metadata": {},
   "source": [
    "Получим топ-10 населенных пунктов с самым большим количеством объявлений."
   ]
  },
  {
   "cell_type": "code",
   "execution_count": 59,
   "metadata": {},
   "outputs": [
    {
     "data": {
      "text/plain": [
       "locality_name\n",
       "Санкт-Петербург      10341\n",
       "посёлок Мурино         340\n",
       "посёлок Шушары         327\n",
       "Всеволожск             311\n",
       "посёлок Парголово      250\n",
       "Пушкин                 228\n",
       "деревня Кудрово        214\n",
       "Гатчина                192\n",
       "Колпино                185\n",
       "Выборг                 158\n",
       "Name: sq_meter_cost, dtype: int64"
      ]
     },
     "execution_count": 59,
     "metadata": {},
     "output_type": "execute_result"
    }
   ],
   "source": [
    "clear_data.groupby('locality_name')['sq_meter_cost'].count().sort_values(ascending=False).head(10)"
   ]
  },
  {
   "cell_type": "markdown",
   "metadata": {},
   "source": [
    "Посчитаем среднюю цену квадратного метра жилья в этих населенных пунктах. Сделать это можно при помощи сводной таблицы."
   ]
  },
  {
   "cell_type": "code",
   "execution_count": 60,
   "metadata": {},
   "outputs": [
    {
     "data": {
      "text/html": [
       "<div>\n",
       "<style scoped>\n",
       "    .dataframe tbody tr th:only-of-type {\n",
       "        vertical-align: middle;\n",
       "    }\n",
       "\n",
       "    .dataframe tbody tr th {\n",
       "        vertical-align: top;\n",
       "    }\n",
       "\n",
       "    .dataframe thead th {\n",
       "        text-align: right;\n",
       "    }\n",
       "</style>\n",
       "<table border=\"1\" class=\"dataframe\">\n",
       "  <thead>\n",
       "    <tr style=\"text-align: right;\">\n",
       "      <th></th>\n",
       "      <th>sq_meter_cost</th>\n",
       "    </tr>\n",
       "    <tr>\n",
       "      <th>locality_name</th>\n",
       "      <th></th>\n",
       "    </tr>\n",
       "  </thead>\n",
       "  <tbody>\n",
       "    <tr>\n",
       "      <td>Всеволожск</td>\n",
       "      <td>67719.414791</td>\n",
       "    </tr>\n",
       "    <tr>\n",
       "      <td>Выборг</td>\n",
       "      <td>58193.455696</td>\n",
       "    </tr>\n",
       "    <tr>\n",
       "      <td>Гатчина</td>\n",
       "      <td>69412.729167</td>\n",
       "    </tr>\n",
       "    <tr>\n",
       "      <td>Колпино</td>\n",
       "      <td>74966.427027</td>\n",
       "    </tr>\n",
       "    <tr>\n",
       "      <td>Пушкин</td>\n",
       "      <td>103854.219298</td>\n",
       "    </tr>\n",
       "    <tr>\n",
       "      <td>Санкт-Петербург</td>\n",
       "      <td>112083.350063</td>\n",
       "    </tr>\n",
       "    <tr>\n",
       "      <td>деревня Кудрово</td>\n",
       "      <td>92051.439252</td>\n",
       "    </tr>\n",
       "    <tr>\n",
       "      <td>посёлок Мурино</td>\n",
       "      <td>84053.714706</td>\n",
       "    </tr>\n",
       "    <tr>\n",
       "      <td>посёлок Парголово</td>\n",
       "      <td>89952.088000</td>\n",
       "    </tr>\n",
       "    <tr>\n",
       "      <td>посёлок Шушары</td>\n",
       "      <td>77538.532110</td>\n",
       "    </tr>\n",
       "  </tbody>\n",
       "</table>\n",
       "</div>"
      ],
      "text/plain": [
       "                   sq_meter_cost\n",
       "locality_name                   \n",
       "Всеволожск          67719.414791\n",
       "Выборг              58193.455696\n",
       "Гатчина             69412.729167\n",
       "Колпино             74966.427027\n",
       "Пушкин             103854.219298\n",
       "Санкт-Петербург    112083.350063\n",
       "деревня Кудрово     92051.439252\n",
       "посёлок Мурино      84053.714706\n",
       "посёлок Парголово   89952.088000\n",
       "посёлок Шушары      77538.532110"
      ]
     },
     "execution_count": 60,
     "metadata": {},
     "output_type": "execute_result"
    }
   ],
   "source": [
    "clear_data.query('locality_name == (\"Санкт-Петербург\", \"посёлок Мурино\", \"посёлок Шушары\", \"Всеволожск\", \"Пушкин\", \"посёлок Парголово\", \"Колпино\", \"Гатчина\", \"деревня Кудрово\", \"Выборг\")').pivot_table(index='locality_name', values='sq_meter_cost')"
   ]
  },
  {
   "cell_type": "markdown",
   "metadata": {},
   "source": [
    "Населённым пунктом с самой низкой стоимостью квадратного метра жилья оказался Выборг (58 тыс.), а самая высокая средняя стоимость квадратного метра жилья - в Санкт-Петербурге (112 тыс.)."
   ]
  },
  {
   "cell_type": "markdown",
   "metadata": {},
   "source": [
    "### Исследование данных по Санкт-Петербургу"
   ]
  },
  {
   "cell_type": "markdown",
   "metadata": {},
   "source": [
    "Определим территориально центральную зону исследования. Создадим переменную, в которую запишем датфрейм, в котором из населенных пунктов будет только Санкт-Петербург."
   ]
  },
  {
   "cell_type": "code",
   "execution_count": 61,
   "metadata": {},
   "outputs": [],
   "source": [
    "peter_objects = clear_data.query('locality_name == \"Санкт-Петербург\"')"
   ]
  },
  {
   "cell_type": "markdown",
   "metadata": {},
   "source": [
    "Добавим в новый датафрейм столбец с расстоянием до центра в километрах. При помощи логического фильтра поделим значения столбца `city_center_nearest` на 1000 и соберем из этого новый столбец."
   ]
  },
  {
   "cell_type": "code",
   "execution_count": 62,
   "metadata": {},
   "outputs": [],
   "source": [
    "filter = (peter_objects['city_center_nearest'] < 30000) & (peter_objects['city_center_nearest'] > 1)\n",
    "peter_objects.loc[filter, 'center_distance_km'] = peter_objects.loc[filter, 'city_center_nearest'] / 1000\n",
    "peter_objects['center_distance_km'] = peter_objects['center_distance_km'].astype('int')"
   ]
  },
  {
   "cell_type": "code",
   "execution_count": 63,
   "metadata": {},
   "outputs": [
    {
     "data": {
      "text/html": [
       "<div>\n",
       "<style scoped>\n",
       "    .dataframe tbody tr th:only-of-type {\n",
       "        vertical-align: middle;\n",
       "    }\n",
       "\n",
       "    .dataframe tbody tr th {\n",
       "        vertical-align: top;\n",
       "    }\n",
       "\n",
       "    .dataframe thead th {\n",
       "        text-align: right;\n",
       "    }\n",
       "</style>\n",
       "<table border=\"1\" class=\"dataframe\">\n",
       "  <thead>\n",
       "    <tr style=\"text-align: right;\">\n",
       "      <th></th>\n",
       "      <th>total_images</th>\n",
       "      <th>last_price</th>\n",
       "      <th>total_area</th>\n",
       "      <th>first_day_exposition</th>\n",
       "      <th>rooms</th>\n",
       "      <th>ceiling_height</th>\n",
       "      <th>floors_total</th>\n",
       "      <th>living_area</th>\n",
       "      <th>floor</th>\n",
       "      <th>is_apartment</th>\n",
       "      <th>...</th>\n",
       "      <th>ponds_nearest</th>\n",
       "      <th>days_exposition</th>\n",
       "      <th>sq_meter_cost</th>\n",
       "      <th>publication_year</th>\n",
       "      <th>publication_month</th>\n",
       "      <th>publication_weekday</th>\n",
       "      <th>floor_category</th>\n",
       "      <th>living_to_total_ratio</th>\n",
       "      <th>kitchen_to_total_ratio</th>\n",
       "      <th>center_distance_km</th>\n",
       "    </tr>\n",
       "  </thead>\n",
       "  <tbody>\n",
       "    <tr>\n",
       "      <td>0</td>\n",
       "      <td>20</td>\n",
       "      <td>13000000</td>\n",
       "      <td>108.0</td>\n",
       "      <td>2019-03-07</td>\n",
       "      <td>3</td>\n",
       "      <td>2.70</td>\n",
       "      <td>16</td>\n",
       "      <td>51.0</td>\n",
       "      <td>8</td>\n",
       "      <td>False</td>\n",
       "      <td>...</td>\n",
       "      <td>755</td>\n",
       "      <td>95</td>\n",
       "      <td>120370</td>\n",
       "      <td>2019</td>\n",
       "      <td>3</td>\n",
       "      <td>3</td>\n",
       "      <td>другой</td>\n",
       "      <td>0.472222</td>\n",
       "      <td>0.231481</td>\n",
       "      <td>16</td>\n",
       "    </tr>\n",
       "    <tr>\n",
       "      <td>2</td>\n",
       "      <td>10</td>\n",
       "      <td>5196000</td>\n",
       "      <td>56.0</td>\n",
       "      <td>2015-08-20</td>\n",
       "      <td>2</td>\n",
       "      <td>2.65</td>\n",
       "      <td>5</td>\n",
       "      <td>34.3</td>\n",
       "      <td>4</td>\n",
       "      <td>False</td>\n",
       "      <td>...</td>\n",
       "      <td>574</td>\n",
       "      <td>558</td>\n",
       "      <td>92785</td>\n",
       "      <td>2015</td>\n",
       "      <td>8</td>\n",
       "      <td>3</td>\n",
       "      <td>другой</td>\n",
       "      <td>0.612500</td>\n",
       "      <td>0.148214</td>\n",
       "      <td>13</td>\n",
       "    </tr>\n",
       "    <tr>\n",
       "      <td>4</td>\n",
       "      <td>2</td>\n",
       "      <td>10000000</td>\n",
       "      <td>100.0</td>\n",
       "      <td>2018-06-19</td>\n",
       "      <td>2</td>\n",
       "      <td>3.03</td>\n",
       "      <td>14</td>\n",
       "      <td>32.0</td>\n",
       "      <td>13</td>\n",
       "      <td>False</td>\n",
       "      <td>...</td>\n",
       "      <td>48</td>\n",
       "      <td>121</td>\n",
       "      <td>100000</td>\n",
       "      <td>2018</td>\n",
       "      <td>6</td>\n",
       "      <td>1</td>\n",
       "      <td>другой</td>\n",
       "      <td>0.320000</td>\n",
       "      <td>0.410000</td>\n",
       "      <td>8</td>\n",
       "    </tr>\n",
       "    <tr>\n",
       "      <td>7</td>\n",
       "      <td>5</td>\n",
       "      <td>7915000</td>\n",
       "      <td>71.6</td>\n",
       "      <td>2019-04-18</td>\n",
       "      <td>2</td>\n",
       "      <td>2.65</td>\n",
       "      <td>24</td>\n",
       "      <td>30.0</td>\n",
       "      <td>22</td>\n",
       "      <td>False</td>\n",
       "      <td>...</td>\n",
       "      <td>503</td>\n",
       "      <td>95</td>\n",
       "      <td>110544</td>\n",
       "      <td>2019</td>\n",
       "      <td>4</td>\n",
       "      <td>3</td>\n",
       "      <td>другой</td>\n",
       "      <td>0.418994</td>\n",
       "      <td>0.263966</td>\n",
       "      <td>11</td>\n",
       "    </tr>\n",
       "    <tr>\n",
       "      <td>10</td>\n",
       "      <td>5</td>\n",
       "      <td>5050000</td>\n",
       "      <td>39.6</td>\n",
       "      <td>2017-11-16</td>\n",
       "      <td>1</td>\n",
       "      <td>2.67</td>\n",
       "      <td>12</td>\n",
       "      <td>20.3</td>\n",
       "      <td>3</td>\n",
       "      <td>False</td>\n",
       "      <td>...</td>\n",
       "      <td>553</td>\n",
       "      <td>137</td>\n",
       "      <td>127525</td>\n",
       "      <td>2017</td>\n",
       "      <td>11</td>\n",
       "      <td>3</td>\n",
       "      <td>другой</td>\n",
       "      <td>0.512626</td>\n",
       "      <td>0.214646</td>\n",
       "      <td>13</td>\n",
       "    </tr>\n",
       "    <tr>\n",
       "      <td>16</td>\n",
       "      <td>11</td>\n",
       "      <td>6700000</td>\n",
       "      <td>82.0</td>\n",
       "      <td>2017-11-23</td>\n",
       "      <td>3</td>\n",
       "      <td>3.05</td>\n",
       "      <td>5</td>\n",
       "      <td>55.6</td>\n",
       "      <td>1</td>\n",
       "      <td>False</td>\n",
       "      <td>...</td>\n",
       "      <td>503</td>\n",
       "      <td>397</td>\n",
       "      <td>81707</td>\n",
       "      <td>2017</td>\n",
       "      <td>11</td>\n",
       "      <td>3</td>\n",
       "      <td>первый</td>\n",
       "      <td>0.678049</td>\n",
       "      <td>0.109756</td>\n",
       "      <td>10</td>\n",
       "    </tr>\n",
       "    <tr>\n",
       "      <td>17</td>\n",
       "      <td>6</td>\n",
       "      <td>4180000</td>\n",
       "      <td>36.0</td>\n",
       "      <td>2016-09-09</td>\n",
       "      <td>1</td>\n",
       "      <td>2.65</td>\n",
       "      <td>17</td>\n",
       "      <td>16.5</td>\n",
       "      <td>7</td>\n",
       "      <td>False</td>\n",
       "      <td>...</td>\n",
       "      <td>859</td>\n",
       "      <td>571</td>\n",
       "      <td>116111</td>\n",
       "      <td>2016</td>\n",
       "      <td>9</td>\n",
       "      <td>4</td>\n",
       "      <td>другой</td>\n",
       "      <td>0.458333</td>\n",
       "      <td>0.305556</td>\n",
       "      <td>14</td>\n",
       "    </tr>\n",
       "    <tr>\n",
       "      <td>19</td>\n",
       "      <td>16</td>\n",
       "      <td>14200000</td>\n",
       "      <td>121.0</td>\n",
       "      <td>2019-01-09</td>\n",
       "      <td>3</td>\n",
       "      <td>2.75</td>\n",
       "      <td>16</td>\n",
       "      <td>76.0</td>\n",
       "      <td>8</td>\n",
       "      <td>False</td>\n",
       "      <td>...</td>\n",
       "      <td>503</td>\n",
       "      <td>97</td>\n",
       "      <td>117355</td>\n",
       "      <td>2019</td>\n",
       "      <td>1</td>\n",
       "      <td>2</td>\n",
       "      <td>другой</td>\n",
       "      <td>0.628099</td>\n",
       "      <td>0.099174</td>\n",
       "      <td>12</td>\n",
       "    </tr>\n",
       "    <tr>\n",
       "      <td>21</td>\n",
       "      <td>13</td>\n",
       "      <td>3200000</td>\n",
       "      <td>31.6</td>\n",
       "      <td>2018-03-14</td>\n",
       "      <td>1</td>\n",
       "      <td>2.65</td>\n",
       "      <td>5</td>\n",
       "      <td>16.9</td>\n",
       "      <td>2</td>\n",
       "      <td>False</td>\n",
       "      <td>...</td>\n",
       "      <td>503</td>\n",
       "      <td>310</td>\n",
       "      <td>101265</td>\n",
       "      <td>2018</td>\n",
       "      <td>3</td>\n",
       "      <td>2</td>\n",
       "      <td>другой</td>\n",
       "      <td>0.534810</td>\n",
       "      <td>0.180380</td>\n",
       "      <td>9</td>\n",
       "    </tr>\n",
       "    <tr>\n",
       "      <td>23</td>\n",
       "      <td>11</td>\n",
       "      <td>2950000</td>\n",
       "      <td>32.0</td>\n",
       "      <td>2016-10-29</td>\n",
       "      <td>1</td>\n",
       "      <td>2.60</td>\n",
       "      <td>9</td>\n",
       "      <td>17.7</td>\n",
       "      <td>9</td>\n",
       "      <td>False</td>\n",
       "      <td>...</td>\n",
       "      <td>190</td>\n",
       "      <td>615</td>\n",
       "      <td>92187</td>\n",
       "      <td>2016</td>\n",
       "      <td>10</td>\n",
       "      <td>5</td>\n",
       "      <td>последний</td>\n",
       "      <td>0.553125</td>\n",
       "      <td>0.190625</td>\n",
       "      <td>14</td>\n",
       "    </tr>\n",
       "  </tbody>\n",
       "</table>\n",
       "<p>10 rows × 30 columns</p>\n",
       "</div>"
      ],
      "text/plain": [
       "    total_images  last_price  total_area first_day_exposition  rooms  \\\n",
       "0             20    13000000       108.0           2019-03-07      3   \n",
       "2             10     5196000        56.0           2015-08-20      2   \n",
       "4              2    10000000       100.0           2018-06-19      2   \n",
       "7              5     7915000        71.6           2019-04-18      2   \n",
       "10             5     5050000        39.6           2017-11-16      1   \n",
       "16            11     6700000        82.0           2017-11-23      3   \n",
       "17             6     4180000        36.0           2016-09-09      1   \n",
       "19            16    14200000       121.0           2019-01-09      3   \n",
       "21            13     3200000        31.6           2018-03-14      1   \n",
       "23            11     2950000        32.0           2016-10-29      1   \n",
       "\n",
       "    ceiling_height  floors_total  living_area  floor is_apartment  ...  \\\n",
       "0             2.70            16         51.0      8        False  ...   \n",
       "2             2.65             5         34.3      4        False  ...   \n",
       "4             3.03            14         32.0     13        False  ...   \n",
       "7             2.65            24         30.0     22        False  ...   \n",
       "10            2.67            12         20.3      3        False  ...   \n",
       "16            3.05             5         55.6      1        False  ...   \n",
       "17            2.65            17         16.5      7        False  ...   \n",
       "19            2.75            16         76.0      8        False  ...   \n",
       "21            2.65             5         16.9      2        False  ...   \n",
       "23            2.60             9         17.7      9        False  ...   \n",
       "\n",
       "    ponds_nearest  days_exposition  sq_meter_cost  publication_year  \\\n",
       "0             755               95         120370              2019   \n",
       "2             574              558          92785              2015   \n",
       "4              48              121         100000              2018   \n",
       "7             503               95         110544              2019   \n",
       "10            553              137         127525              2017   \n",
       "16            503              397          81707              2017   \n",
       "17            859              571         116111              2016   \n",
       "19            503               97         117355              2019   \n",
       "21            503              310         101265              2018   \n",
       "23            190              615          92187              2016   \n",
       "\n",
       "   publication_month  publication_weekday  floor_category  \\\n",
       "0                  3                    3          другой   \n",
       "2                  8                    3          другой   \n",
       "4                  6                    1          другой   \n",
       "7                  4                    3          другой   \n",
       "10                11                    3          другой   \n",
       "16                11                    3          первый   \n",
       "17                 9                    4          другой   \n",
       "19                 1                    2          другой   \n",
       "21                 3                    2          другой   \n",
       "23                10                    5       последний   \n",
       "\n",
       "    living_to_total_ratio  kitchen_to_total_ratio  center_distance_km  \n",
       "0                0.472222                0.231481                  16  \n",
       "2                0.612500                0.148214                  13  \n",
       "4                0.320000                0.410000                   8  \n",
       "7                0.418994                0.263966                  11  \n",
       "10               0.512626                0.214646                  13  \n",
       "16               0.678049                0.109756                  10  \n",
       "17               0.458333                0.305556                  14  \n",
       "19               0.628099                0.099174                  12  \n",
       "21               0.534810                0.180380                   9  \n",
       "23               0.553125                0.190625                  14  \n",
       "\n",
       "[10 rows x 30 columns]"
      ]
     },
     "execution_count": 63,
     "metadata": {},
     "output_type": "execute_result"
    }
   ],
   "source": [
    "peter_objects.head(10)"
   ]
  },
  {
   "cell_type": "markdown",
   "metadata": {},
   "source": [
    "Посчитаем среднюю стоимость жилья относительно растояния до центра города."
   ]
  },
  {
   "cell_type": "code",
   "execution_count": 64,
   "metadata": {},
   "outputs": [
    {
     "data": {
      "text/html": [
       "<div>\n",
       "<style scoped>\n",
       "    .dataframe tbody tr th:only-of-type {\n",
       "        vertical-align: middle;\n",
       "    }\n",
       "\n",
       "    .dataframe tbody tr th {\n",
       "        vertical-align: top;\n",
       "    }\n",
       "\n",
       "    .dataframe thead th {\n",
       "        text-align: right;\n",
       "    }\n",
       "</style>\n",
       "<table border=\"1\" class=\"dataframe\">\n",
       "  <thead>\n",
       "    <tr style=\"text-align: right;\">\n",
       "      <th></th>\n",
       "      <th>sq_meter_cost</th>\n",
       "    </tr>\n",
       "    <tr>\n",
       "      <th>center_distance_km</th>\n",
       "      <th></th>\n",
       "    </tr>\n",
       "  </thead>\n",
       "  <tbody>\n",
       "    <tr>\n",
       "      <td>0</td>\n",
       "      <td>133888.465116</td>\n",
       "    </tr>\n",
       "    <tr>\n",
       "      <td>1</td>\n",
       "      <td>126893.818182</td>\n",
       "    </tr>\n",
       "    <tr>\n",
       "      <td>2</td>\n",
       "      <td>119630.763158</td>\n",
       "    </tr>\n",
       "    <tr>\n",
       "      <td>3</td>\n",
       "      <td>119636.936000</td>\n",
       "    </tr>\n",
       "    <tr>\n",
       "      <td>4</td>\n",
       "      <td>131222.855784</td>\n",
       "    </tr>\n",
       "    <tr>\n",
       "      <td>5</td>\n",
       "      <td>131176.526718</td>\n",
       "    </tr>\n",
       "    <tr>\n",
       "      <td>6</td>\n",
       "      <td>134980.554545</td>\n",
       "    </tr>\n",
       "    <tr>\n",
       "      <td>7</td>\n",
       "      <td>128824.836879</td>\n",
       "    </tr>\n",
       "    <tr>\n",
       "      <td>8</td>\n",
       "      <td>121362.417031</td>\n",
       "    </tr>\n",
       "    <tr>\n",
       "      <td>9</td>\n",
       "      <td>110664.798246</td>\n",
       "    </tr>\n",
       "    <tr>\n",
       "      <td>10</td>\n",
       "      <td>113329.666667</td>\n",
       "    </tr>\n",
       "    <tr>\n",
       "      <td>11</td>\n",
       "      <td>106935.802575</td>\n",
       "    </tr>\n",
       "    <tr>\n",
       "      <td>12</td>\n",
       "      <td>109170.220966</td>\n",
       "    </tr>\n",
       "    <tr>\n",
       "      <td>13</td>\n",
       "      <td>109399.552894</td>\n",
       "    </tr>\n",
       "    <tr>\n",
       "      <td>14</td>\n",
       "      <td>105928.762575</td>\n",
       "    </tr>\n",
       "    <tr>\n",
       "      <td>15</td>\n",
       "      <td>104020.144342</td>\n",
       "    </tr>\n",
       "    <tr>\n",
       "      <td>16</td>\n",
       "      <td>101403.568750</td>\n",
       "    </tr>\n",
       "    <tr>\n",
       "      <td>17</td>\n",
       "      <td>96558.072555</td>\n",
       "    </tr>\n",
       "    <tr>\n",
       "      <td>18</td>\n",
       "      <td>97173.190909</td>\n",
       "    </tr>\n",
       "    <tr>\n",
       "      <td>19</td>\n",
       "      <td>93704.196078</td>\n",
       "    </tr>\n",
       "    <tr>\n",
       "      <td>20</td>\n",
       "      <td>108600.454545</td>\n",
       "    </tr>\n",
       "    <tr>\n",
       "      <td>21</td>\n",
       "      <td>92328.051282</td>\n",
       "    </tr>\n",
       "    <tr>\n",
       "      <td>22</td>\n",
       "      <td>89186.518519</td>\n",
       "    </tr>\n",
       "    <tr>\n",
       "      <td>23</td>\n",
       "      <td>89930.235294</td>\n",
       "    </tr>\n",
       "    <tr>\n",
       "      <td>24</td>\n",
       "      <td>82586.700000</td>\n",
       "    </tr>\n",
       "    <tr>\n",
       "      <td>25</td>\n",
       "      <td>89009.345455</td>\n",
       "    </tr>\n",
       "    <tr>\n",
       "      <td>26</td>\n",
       "      <td>53716.000000</td>\n",
       "    </tr>\n",
       "    <tr>\n",
       "      <td>27</td>\n",
       "      <td>132115.000000</td>\n",
       "    </tr>\n",
       "    <tr>\n",
       "      <td>28</td>\n",
       "      <td>83754.250000</td>\n",
       "    </tr>\n",
       "  </tbody>\n",
       "</table>\n",
       "</div>"
      ],
      "text/plain": [
       "                    sq_meter_cost\n",
       "center_distance_km               \n",
       "0                   133888.465116\n",
       "1                   126893.818182\n",
       "2                   119630.763158\n",
       "3                   119636.936000\n",
       "4                   131222.855784\n",
       "5                   131176.526718\n",
       "6                   134980.554545\n",
       "7                   128824.836879\n",
       "8                   121362.417031\n",
       "9                   110664.798246\n",
       "10                  113329.666667\n",
       "11                  106935.802575\n",
       "12                  109170.220966\n",
       "13                  109399.552894\n",
       "14                  105928.762575\n",
       "15                  104020.144342\n",
       "16                  101403.568750\n",
       "17                   96558.072555\n",
       "18                   97173.190909\n",
       "19                   93704.196078\n",
       "20                  108600.454545\n",
       "21                   92328.051282\n",
       "22                   89186.518519\n",
       "23                   89930.235294\n",
       "24                   82586.700000\n",
       "25                   89009.345455\n",
       "26                   53716.000000\n",
       "27                  132115.000000\n",
       "28                   83754.250000"
      ]
     },
     "execution_count": 64,
     "metadata": {},
     "output_type": "execute_result"
    }
   ],
   "source": [
    "peter_objects.pivot_table(index='center_distance_km', values='sq_meter_cost')"
   ]
  },
  {
   "cell_type": "markdown",
   "metadata": {},
   "source": [
    "Логика прослеживается. В среднем, чем ближе недвижимость расположена к центру, тем выше цена за квадратный метр."
   ]
  },
  {
   "cell_type": "markdown",
   "metadata": {},
   "source": [
    "Построим график по таблице выше. Сделаем это при помощи метода `.plot`, в параметре `kind` которого можно указать, какой тип графика нужно построить."
   ]
  },
  {
   "cell_type": "code",
   "execution_count": 65,
   "metadata": {
    "scrolled": true
   },
   "outputs": [
    {
     "data": {
      "text/plain": [
       "''"
      ]
     },
     "execution_count": 65,
     "metadata": {},
     "output_type": "execute_result"
    },
    {
     "data": {
      "image/png": "[encoded data removed]",
      "text/plain": [
       "<Figure size 432x288 with 1 Axes>"
      ]
     },
     "metadata": {
      "needs_background": "light"
     },
     "output_type": "display_data"
    }
   ],
   "source": [
    "peter_objects.plot(x='center_distance_km', y='sq_meter_cost', kind='scatter', title='Зависимость средней стоимости жилья от удаления от центра')\n",
    ";"
   ]
  },
  {
   "cell_type": "markdown",
   "metadata": {},
   "source": [
    "Судя по графику, центральный район города заканчивается примерно на 14 километрах."
   ]
  },
  {
   "cell_type": "markdown",
   "metadata": {},
   "source": [
    "### Сужение выборки для продолжения исследовательского анализа"
   ]
  },
  {
   "cell_type": "markdown",
   "metadata": {},
   "source": [
    "Выделим сегмент квартир в центре. Проанализируем эту территорию и изучим следующие параметры: площадь, цена, число комнат, высота потолков."
   ]
  },
  {
   "cell_type": "code",
   "execution_count": 66,
   "metadata": {},
   "outputs": [],
   "source": [
    "center_objects = peter_objects.query('center_distance_km <= 14')"
   ]
  },
  {
   "cell_type": "markdown",
   "metadata": {},
   "source": [
    "Построим гистограммы для каждого паратметра."
   ]
  },
  {
   "cell_type": "code",
   "execution_count": 67,
   "metadata": {},
   "outputs": [
    {
     "data": {
      "text/plain": [
       "''"
      ]
     },
     "execution_count": 67,
     "metadata": {},
     "output_type": "execute_result"
    },
    {
     "data": {
      "image/png": "[encoded data removed]",
      "text/plain": [
       "<Figure size 432x288 with 1 Axes>"
      ]
     },
     "metadata": {
      "needs_background": "light"
     },
     "output_type": "display_data"
    }
   ],
   "source": [
    "center_objects.plot(y='total_area', kind='hist', bins=100, grid=True, title='Гистограмма площади квартир')\n",
    ";"
   ]
  },
  {
   "cell_type": "code",
   "execution_count": 68,
   "metadata": {
    "scrolled": true
   },
   "outputs": [
    {
     "data": {
      "text/plain": [
       "''"
      ]
     },
     "execution_count": 68,
     "metadata": {},
     "output_type": "execute_result"
    },
    {
     "data": {
      "image/png": "[encoded data removed]",
      "text/plain": [
       "<Figure size 432x288 with 1 Axes>"
      ]
     },
     "metadata": {
      "needs_background": "light"
     },
     "output_type": "display_data"
    }
   ],
   "source": [
    "center_objects.plot(y='sq_meter_cost', kind='hist', bins=100, grid=True, title='Гистограмма стоимости квадратного метра жилья')\n",
    ";"
   ]
  },
  {
   "cell_type": "code",
   "execution_count": 69,
   "metadata": {},
   "outputs": [
    {
     "data": {
      "text/plain": [
       "''"
      ]
     },
     "execution_count": 69,
     "metadata": {},
     "output_type": "execute_result"
    },
    {
     "data": {
      "image/png": "[encoded data removed]",
      "text/plain": [
       "<Figure size 432x288 with 1 Axes>"
      ]
     },
     "metadata": {
      "needs_background": "light"
     },
     "output_type": "display_data"
    }
   ],
   "source": [
    "center_objects.plot(y='rooms', kind='hist', bins=100, range=(0, 10), grid=True, title='Гистограмма для количества  комнат')\n",
    ";"
   ]
  },
  {
   "cell_type": "code",
   "execution_count": 70,
   "metadata": {},
   "outputs": [
    {
     "data": {
      "text/plain": [
       "''"
      ]
     },
     "execution_count": 70,
     "metadata": {},
     "output_type": "execute_result"
    },
    {
     "data": {
      "image/png": "[encoded data removed]",
      "text/plain": [
       "<Figure size 432x288 with 1 Axes>"
      ]
     },
     "metadata": {
      "needs_background": "light"
     },
     "output_type": "display_data"
    }
   ],
   "source": [
    "center_objects.plot(y='ceiling_height', kind='hist', bins=100, range=(2, 4), grid=True, title='Гистограмма для высоты потолков')\n",
    ";"
   ]
  },
  {
   "cell_type": "markdown",
   "metadata": {},
   "source": [
    "Судя по графикам можно сделать следующие выводы: средняя площадь квартиры, как в Санкт-Петербурге так и во всем исследовании - окло 45-55 квадратных метров; средняя стоимость квадратного метра - окло 100 тыс.; в выборке наибольшее число квартир - с двумя комнатами; в наибольшем количестве квартир высота потолков составляет около 2.65 метров."
   ]
  },
  {
   "cell_type": "markdown",
   "metadata": {},
   "source": [
    "Проверим взаимосвязь стоимости квартиры с такими факторами как число комнат, этаж, удалённость от центра, дата размещения объявления и сравним результаты с результатами исследования по всему городу и области."
   ]
  },
  {
   "cell_type": "code",
   "execution_count": 71,
   "metadata": {},
   "outputs": [
    {
     "data": {
      "text/plain": [
       "0.8367572675805731"
      ]
     },
     "execution_count": 71,
     "metadata": {},
     "output_type": "execute_result"
    }
   ],
   "source": [
    "center_objects['last_price'].corr(center_objects['total_area'])"
   ]
  },
  {
   "cell_type": "code",
   "execution_count": 72,
   "metadata": {},
   "outputs": [
    {
     "data": {
      "text/plain": [
       "0.5463480405607986"
      ]
     },
     "execution_count": 72,
     "metadata": {},
     "output_type": "execute_result"
    }
   ],
   "source": [
    "center_objects['last_price'].corr(center_objects['rooms'])"
   ]
  },
  {
   "cell_type": "code",
   "execution_count": 73,
   "metadata": {},
   "outputs": [
    {
     "data": {
      "text/plain": [
       "-0.3717847798193606"
      ]
     },
     "execution_count": 73,
     "metadata": {},
     "output_type": "execute_result"
    }
   ],
   "source": [
    "center_objects['last_price'].corr(center_objects['city_center_nearest'])"
   ]
  },
  {
   "cell_type": "code",
   "execution_count": 74,
   "metadata": {},
   "outputs": [
    {
     "data": {
      "text/plain": [
       "0.02201860521966366"
      ]
     },
     "execution_count": 74,
     "metadata": {},
     "output_type": "execute_result"
    }
   ],
   "source": [
    "center_objects['last_price'].corr(center_objects['publication_year'])"
   ]
  },
  {
   "cell_type": "code",
   "execution_count": 75,
   "metadata": {},
   "outputs": [
    {
     "data": {
      "text/plain": [
       "-0.004155784371257846"
      ]
     },
     "execution_count": 75,
     "metadata": {},
     "output_type": "execute_result"
    }
   ],
   "source": [
    "center_objects['last_price'].corr(center_objects['publication_month'])"
   ]
  },
  {
   "cell_type": "code",
   "execution_count": 76,
   "metadata": {},
   "outputs": [
    {
     "data": {
      "text/plain": [
       "-0.012786219652036471"
      ]
     },
     "execution_count": 76,
     "metadata": {},
     "output_type": "execute_result"
    }
   ],
   "source": [
    "center_objects['last_price'].corr(center_objects['publication_weekday'])"
   ]
  },
  {
   "cell_type": "code",
   "execution_count": 77,
   "metadata": {},
   "outputs": [
    {
     "data": {
      "text/plain": [
       "''"
      ]
     },
     "execution_count": 77,
     "metadata": {},
     "output_type": "execute_result"
    },
    {
     "data": {
      "image/png": "[encoded data removed]",
      "text/plain": [
       "<Figure size 432x288 with 1 Axes>"
      ]
     },
     "metadata": {
      "needs_background": "light"
     },
     "output_type": "display_data"
    }
   ],
   "source": [
    "center_objects.boxplot(column='last_price', by='floor_category')\n",
    ";"
   ]
  },
  {
   "cell_type": "markdown",
   "metadata": {},
   "source": [
    "По результатм расчетов корреляции и построения диаграммы размаха можно сделать следующие выводы: наиболее сильно стоимость квартиры связана с ее площадью, квартиры на всех этажах кроме первого стоят дороже, значит здесь связь тоже достаточно сильная, чуть слабее взаимосвязь стоимости квартиры и количества комнат. Такие факторы как год, месяц и день загрузки объявления на сервис не влияют на стоимость квартиры.\n",
    "Если сравнивать эти показатели с результатами расчетов зваисимостей по всему городу и области, то за исключением мелких колебаний в ту или другую сторону, они практически идентичны."
   ]
  },
  {
   "cell_type": "markdown",
   "metadata": {},
   "source": [
    "## Общий вывод"
   ]
  },
  {
   "cell_type": "markdown",
   "metadata": {},
   "source": [
    "Было проведено исследование рынка недвижимости по Санк-Петербургу и области. Были выполнены следующие задания: \n",
    "\n",
    "- изучены следующие параметры: площадь, цена, число комнат, высота потолков и построены гистограммы для каждого параметра. Было вяснено, что наибольшее число квартир имеют площадь около 50 квадратных метров, средняя стоимость квартир составляет 100 тыс., наибольшее число квартир имеют одну или две комнаты, наиболее часто встречающаяся высота потолков - 2.65 м;\n",
    "\n",
    "\n",
    "- изучено время продажи квартиры, построена гистограмма, получены среднее и медиана, сделаны выводы о времени продажи квартиры. Так наиболее часто квартиры продаются в среднем за 80 дней;\n",
    "\n",
    "\n",
    "- исходная таблица перезаписана и из нее были удалены редкие и выбивающиеся значения;\n",
    "\n",
    "\n",
    "- определено, какие факторы больше всего влияют на стоимость квартиры, изучена зависимость от даты размещения. Так больше всего на стоимость квартиры влияет ее площадь. Также было выяснено, что квартиры, располагающиеся на всех этажах кроме первого, стоят дороже чем квартиры на первом этаже;\n",
    "\n",
    "\n",
    "- выбрано 10 населенных пунктов с наибольшим количеством объявлений, выделенны населенные пункты с самой высокой и самой низкой стоимостью жилья. Так в Санкт-Петербурге средняя стоимость квадратного метра составляет 110 тыс. а в Выборге - самая низкая средняя стоимость жилья - 58 тыс.; \n",
    "\n",
    "\n",
    "- выделенны квартиры в Санкт-Петербурге. С помощью сводной таблицы было вяснено, как стоимость квадратного метра жилья изменяется с удалением от центра города;\n",
    "\n",
    "\n",
    "- выделен сегмент квартир в центре Санкт-Петербурга. Было определено, что область, являющаяся центром города ограничивается 14 километрами от центра. Было изучено, какие факторы больше всего влияют на стоимость квартиры и на основании исследования был сделан вывод, что исследуемые параметры практически не отличаются от таковых в исследовании по городу и области (в пунктах 4.1-4.3)"
   ]
  },
  {
   "cell_type": "code",
   "execution_count": null,
   "metadata": {},
   "outputs": [],
   "source": []
  }
 ],
 "metadata": {
  "ExecuteTimeLog": [
   {
    "duration": 562,
    "start_time": "2021-12-04T13:16:35.544Z"
   },
   {
    "duration": 17,
    "start_time": "2021-12-04T13:16:58.376Z"
   },
   {
    "duration": 84,
    "start_time": "2021-12-04T13:18:20.096Z"
   },
   {
    "duration": 274,
    "start_time": "2021-12-04T13:18:47.956Z"
   },
   {
    "duration": 612,
    "start_time": "2021-12-04T13:19:06.238Z"
   },
   {
    "duration": 13,
    "start_time": "2021-12-04T13:19:06.852Z"
   },
   {
    "duration": 55,
    "start_time": "2021-12-04T13:19:28.617Z"
   },
   {
    "duration": 6,
    "start_time": "2021-12-04T13:19:31.130Z"
   },
   {
    "duration": 586,
    "start_time": "2021-12-04T13:20:41.622Z"
   },
   {
    "duration": 27,
    "start_time": "2021-12-04T13:20:42.210Z"
   },
   {
    "duration": 364,
    "start_time": "2021-12-05T13:45:51.243Z"
   },
   {
    "duration": 849,
    "start_time": "2021-12-05T13:46:05.888Z"
   },
   {
    "duration": 50,
    "start_time": "2021-12-05T13:46:06.739Z"
   },
   {
    "duration": 37,
    "start_time": "2021-12-05T13:46:06.792Z"
   },
   {
    "duration": 6,
    "start_time": "2021-12-05T13:54:33.596Z"
   },
   {
    "duration": 14,
    "start_time": "2021-12-05T14:09:02.245Z"
   },
   {
    "duration": 6,
    "start_time": "2021-12-05T14:10:05.015Z"
   },
   {
    "duration": 8,
    "start_time": "2021-12-05T14:14:28.795Z"
   },
   {
    "duration": 8980,
    "start_time": "2021-12-05T14:19:53.675Z"
   },
   {
    "duration": 7,
    "start_time": "2021-12-05T14:20:56.946Z"
   },
   {
    "duration": 315,
    "start_time": "2021-12-05T14:23:51.294Z"
   },
   {
    "duration": 808,
    "start_time": "2021-12-05T14:26:43.543Z"
   },
   {
    "duration": 50,
    "start_time": "2021-12-05T14:26:44.354Z"
   },
   {
    "duration": 32,
    "start_time": "2021-12-05T14:26:44.407Z"
   },
   {
    "duration": 13,
    "start_time": "2021-12-05T14:26:44.441Z"
   },
   {
    "duration": 7,
    "start_time": "2021-12-05T14:26:44.457Z"
   },
   {
    "duration": 14,
    "start_time": "2021-12-05T14:26:44.467Z"
   },
   {
    "duration": 11,
    "start_time": "2021-12-05T14:42:43.734Z"
   },
   {
    "duration": 11,
    "start_time": "2021-12-05T14:50:47.175Z"
   },
   {
    "duration": 9,
    "start_time": "2021-12-05T15:15:33.626Z"
   },
   {
    "duration": 8,
    "start_time": "2021-12-05T15:15:44.259Z"
   },
   {
    "duration": 10,
    "start_time": "2021-12-05T15:16:12.028Z"
   },
   {
    "duration": 21,
    "start_time": "2021-12-05T15:34:16.339Z"
   },
   {
    "duration": 20,
    "start_time": "2021-12-05T15:35:11.339Z"
   },
   {
    "duration": 12,
    "start_time": "2021-12-05T15:37:09.900Z"
   },
   {
    "duration": 7,
    "start_time": "2021-12-05T15:37:59.314Z"
   },
   {
    "duration": 16,
    "start_time": "2021-12-05T15:44:36.469Z"
   },
   {
    "duration": 322,
    "start_time": "2021-12-05T15:55:01.811Z"
   },
   {
    "duration": 16,
    "start_time": "2021-12-05T16:29:27.958Z"
   },
   {
    "duration": 407,
    "start_time": "2021-12-05T16:31:50.392Z"
   },
   {
    "duration": 11,
    "start_time": "2021-12-05T16:32:05.239Z"
   },
   {
    "duration": 825,
    "start_time": "2021-12-05T16:32:14.972Z"
   },
   {
    "duration": 57,
    "start_time": "2021-12-05T16:32:15.800Z"
   },
   {
    "duration": 16,
    "start_time": "2021-12-05T16:32:15.860Z"
   },
   {
    "duration": 11,
    "start_time": "2021-12-05T16:32:15.879Z"
   },
   {
    "duration": 29,
    "start_time": "2021-12-05T16:32:15.901Z"
   },
   {
    "duration": 15,
    "start_time": "2021-12-05T16:32:15.935Z"
   },
   {
    "duration": 13,
    "start_time": "2021-12-05T16:32:15.953Z"
   },
   {
    "duration": 14,
    "start_time": "2021-12-05T16:32:15.969Z"
   },
   {
    "duration": 50,
    "start_time": "2021-12-05T16:32:15.985Z"
   },
   {
    "duration": 21,
    "start_time": "2021-12-05T16:32:16.038Z"
   },
   {
    "duration": 23,
    "start_time": "2021-12-05T16:32:16.062Z"
   },
   {
    "duration": 11,
    "start_time": "2021-12-05T16:32:16.129Z"
   },
   {
    "duration": 7,
    "start_time": "2021-12-05T16:32:16.143Z"
   },
   {
    "duration": 14,
    "start_time": "2021-12-05T16:32:16.153Z"
   },
   {
    "duration": 1009,
    "start_time": "2021-12-05T18:15:09.304Z"
   },
   {
    "duration": 50,
    "start_time": "2021-12-05T18:15:10.316Z"
   },
   {
    "duration": 16,
    "start_time": "2021-12-05T18:15:10.370Z"
   },
   {
    "duration": 11,
    "start_time": "2021-12-05T18:15:10.389Z"
   },
   {
    "duration": 28,
    "start_time": "2021-12-05T18:15:10.403Z"
   },
   {
    "duration": 13,
    "start_time": "2021-12-05T18:15:10.433Z"
   },
   {
    "duration": 12,
    "start_time": "2021-12-05T18:15:10.448Z"
   },
   {
    "duration": 12,
    "start_time": "2021-12-05T18:15:10.462Z"
   },
   {
    "duration": 56,
    "start_time": "2021-12-05T18:15:10.477Z"
   },
   {
    "duration": 27,
    "start_time": "2021-12-05T18:15:10.536Z"
   },
   {
    "duration": 22,
    "start_time": "2021-12-05T18:15:10.565Z"
   },
   {
    "duration": 11,
    "start_time": "2021-12-05T18:15:10.589Z"
   },
   {
    "duration": 6,
    "start_time": "2021-12-05T18:15:10.630Z"
   },
   {
    "duration": 17,
    "start_time": "2021-12-05T18:15:10.638Z"
   },
   {
    "duration": 926,
    "start_time": "2021-12-05T18:15:31.303Z"
   },
   {
    "duration": 51,
    "start_time": "2021-12-05T18:15:32.232Z"
   },
   {
    "duration": 32,
    "start_time": "2021-12-05T18:15:32.286Z"
   },
   {
    "duration": 16,
    "start_time": "2021-12-05T18:15:32.321Z"
   },
   {
    "duration": 6,
    "start_time": "2021-12-05T18:15:32.340Z"
   },
   {
    "duration": 16,
    "start_time": "2021-12-05T18:15:32.348Z"
   },
   {
    "duration": 11,
    "start_time": "2021-12-05T18:15:32.368Z"
   },
   {
    "duration": 47,
    "start_time": "2021-12-05T18:15:32.382Z"
   },
   {
    "duration": 9,
    "start_time": "2021-12-05T18:15:32.432Z"
   },
   {
    "duration": 25,
    "start_time": "2021-12-05T18:15:32.443Z"
   },
   {
    "duration": 21,
    "start_time": "2021-12-05T18:15:32.470Z"
   },
   {
    "duration": 45,
    "start_time": "2021-12-05T18:15:32.493Z"
   },
   {
    "duration": 6,
    "start_time": "2021-12-05T18:15:32.541Z"
   },
   {
    "duration": 12,
    "start_time": "2021-12-05T18:15:32.550Z"
   },
   {
    "duration": 13,
    "start_time": "2021-12-05T18:16:32.644Z"
   },
   {
    "duration": 257,
    "start_time": "2021-12-06T06:27:51.662Z"
   },
   {
    "duration": 183,
    "start_time": "2021-12-06T06:28:38.090Z"
   },
   {
    "duration": 198,
    "start_time": "2021-12-06T06:29:12.151Z"
   },
   {
    "duration": 251,
    "start_time": "2021-12-06T06:29:58.334Z"
   },
   {
    "duration": 582,
    "start_time": "2021-12-06T06:30:04.749Z"
   },
   {
    "duration": 31,
    "start_time": "2021-12-06T06:30:05.334Z"
   },
   {
    "duration": 29,
    "start_time": "2021-12-06T06:30:05.367Z"
   },
   {
    "duration": 33,
    "start_time": "2021-12-06T06:30:05.398Z"
   },
   {
    "duration": 35,
    "start_time": "2021-12-06T06:30:05.432Z"
   },
   {
    "duration": 30,
    "start_time": "2021-12-06T06:30:05.469Z"
   },
   {
    "duration": 40,
    "start_time": "2021-12-06T06:30:05.502Z"
   },
   {
    "duration": 26,
    "start_time": "2021-12-06T06:30:05.545Z"
   },
   {
    "duration": 26,
    "start_time": "2021-12-06T06:30:05.574Z"
   },
   {
    "duration": 51,
    "start_time": "2021-12-06T06:30:05.602Z"
   },
   {
    "duration": 31,
    "start_time": "2021-12-06T06:30:05.656Z"
   },
   {
    "duration": 27,
    "start_time": "2021-12-06T06:30:05.689Z"
   },
   {
    "duration": 27,
    "start_time": "2021-12-06T06:30:05.717Z"
   },
   {
    "duration": 31,
    "start_time": "2021-12-06T06:30:05.745Z"
   },
   {
    "duration": 27,
    "start_time": "2021-12-06T06:30:05.777Z"
   },
   {
    "duration": 25,
    "start_time": "2021-12-06T06:30:05.806Z"
   },
   {
    "duration": 16,
    "start_time": "2021-12-06T06:30:05.833Z"
   },
   {
    "duration": 5411,
    "start_time": "2021-12-06T06:30:05.851Z"
   },
   {
    "duration": -4382,
    "start_time": "2021-12-06T06:30:15.646Z"
   },
   {
    "duration": 592,
    "start_time": "2021-12-06T07:13:30.046Z"
   },
   {
    "duration": 31,
    "start_time": "2021-12-06T07:13:30.640Z"
   },
   {
    "duration": 25,
    "start_time": "2021-12-06T07:13:30.673Z"
   },
   {
    "duration": 11,
    "start_time": "2021-12-06T07:13:30.701Z"
   },
   {
    "duration": 6,
    "start_time": "2021-12-06T07:13:30.714Z"
   },
   {
    "duration": 16,
    "start_time": "2021-12-06T07:13:30.721Z"
   },
   {
    "duration": 12,
    "start_time": "2021-12-06T07:13:30.739Z"
   },
   {
    "duration": 25,
    "start_time": "2021-12-06T07:13:30.753Z"
   },
   {
    "duration": 13,
    "start_time": "2021-12-06T07:13:30.781Z"
   },
   {
    "duration": 26,
    "start_time": "2021-12-06T07:13:30.796Z"
   },
   {
    "duration": 14,
    "start_time": "2021-12-06T07:13:30.824Z"
   },
   {
    "duration": 9,
    "start_time": "2021-12-06T07:13:30.840Z"
   },
   {
    "duration": 10,
    "start_time": "2021-12-06T07:13:30.852Z"
   },
   {
    "duration": 1537,
    "start_time": "2021-12-06T07:13:30.864Z"
   },
   {
    "duration": 7,
    "start_time": "2021-12-06T07:13:32.403Z"
   },
   {
    "duration": 7,
    "start_time": "2021-12-06T07:13:32.412Z"
   },
   {
    "duration": 10,
    "start_time": "2021-12-06T07:13:32.420Z"
   },
   {
    "duration": 4652,
    "start_time": "2021-12-06T07:13:32.432Z"
   },
   {
    "duration": -4244,
    "start_time": "2021-12-06T07:13:41.330Z"
   },
   {
    "duration": 606,
    "start_time": "2021-12-06T07:18:53.360Z"
   },
   {
    "duration": 30,
    "start_time": "2021-12-06T07:18:53.968Z"
   },
   {
    "duration": 10,
    "start_time": "2021-12-06T07:18:53.999Z"
   },
   {
    "duration": 6,
    "start_time": "2021-12-06T07:18:54.011Z"
   },
   {
    "duration": 5,
    "start_time": "2021-12-06T07:18:54.019Z"
   },
   {
    "duration": 11,
    "start_time": "2021-12-06T07:18:54.025Z"
   },
   {
    "duration": 8,
    "start_time": "2021-12-06T07:18:54.037Z"
   },
   {
    "duration": 7,
    "start_time": "2021-12-06T07:18:54.048Z"
   },
   {
    "duration": 7,
    "start_time": "2021-12-06T07:18:54.091Z"
   },
   {
    "duration": 13,
    "start_time": "2021-12-06T07:18:54.099Z"
   },
   {
    "duration": 13,
    "start_time": "2021-12-06T07:18:54.113Z"
   },
   {
    "duration": 7,
    "start_time": "2021-12-06T07:18:54.128Z"
   },
   {
    "duration": 7,
    "start_time": "2021-12-06T07:18:54.136Z"
   },
   {
    "duration": 7,
    "start_time": "2021-12-06T07:18:54.144Z"
   },
   {
    "duration": 38,
    "start_time": "2021-12-06T07:18:54.153Z"
   },
   {
    "duration": 7,
    "start_time": "2021-12-06T07:18:54.193Z"
   },
   {
    "duration": 8,
    "start_time": "2021-12-06T07:18:54.201Z"
   },
   {
    "duration": 6237,
    "start_time": "2021-12-06T07:18:54.210Z"
   },
   {
    "duration": -4344,
    "start_time": "2021-12-06T07:19:04.793Z"
   },
   {
    "duration": 607,
    "start_time": "2021-12-06T07:28:31.519Z"
   },
   {
    "duration": 32,
    "start_time": "2021-12-06T07:28:32.128Z"
   },
   {
    "duration": 29,
    "start_time": "2021-12-06T07:28:32.162Z"
   },
   {
    "duration": 7,
    "start_time": "2021-12-06T07:28:32.194Z"
   },
   {
    "duration": 23,
    "start_time": "2021-12-06T07:28:32.203Z"
   },
   {
    "duration": 23,
    "start_time": "2021-12-06T07:28:32.228Z"
   },
   {
    "duration": 20,
    "start_time": "2021-12-06T07:28:32.253Z"
   },
   {
    "duration": 32,
    "start_time": "2021-12-06T07:28:32.275Z"
   },
   {
    "duration": 21,
    "start_time": "2021-12-06T07:28:32.309Z"
   },
   {
    "duration": 45,
    "start_time": "2021-12-06T07:28:32.332Z"
   },
   {
    "duration": 19,
    "start_time": "2021-12-06T07:28:32.378Z"
   },
   {
    "duration": 14,
    "start_time": "2021-12-06T07:28:32.399Z"
   },
   {
    "duration": 29,
    "start_time": "2021-12-06T07:28:32.415Z"
   },
   {
    "duration": 12,
    "start_time": "2021-12-06T07:28:32.446Z"
   },
   {
    "duration": 15,
    "start_time": "2021-12-06T07:28:32.460Z"
   },
   {
    "duration": 20,
    "start_time": "2021-12-06T07:28:32.477Z"
   },
   {
    "duration": 11,
    "start_time": "2021-12-06T07:28:32.499Z"
   },
   {
    "duration": 16,
    "start_time": "2021-12-06T07:28:32.512Z"
   },
   {
    "duration": 8,
    "start_time": "2021-12-06T07:28:32.530Z"
   },
   {
    "duration": 245,
    "start_time": "2021-12-06T07:28:32.540Z"
   },
   {
    "duration": 645,
    "start_time": "2021-12-06T07:28:47.201Z"
   },
   {
    "duration": 32,
    "start_time": "2021-12-06T07:28:47.848Z"
   },
   {
    "duration": 38,
    "start_time": "2021-12-06T07:28:47.882Z"
   },
   {
    "duration": 12,
    "start_time": "2021-12-06T07:28:47.922Z"
   },
   {
    "duration": 9,
    "start_time": "2021-12-06T07:28:47.935Z"
   },
   {
    "duration": 22,
    "start_time": "2021-12-06T07:28:47.946Z"
   },
   {
    "duration": 23,
    "start_time": "2021-12-06T07:28:47.970Z"
   },
   {
    "duration": 14,
    "start_time": "2021-12-06T07:28:47.995Z"
   },
   {
    "duration": 11,
    "start_time": "2021-12-06T07:28:48.012Z"
   },
   {
    "duration": 34,
    "start_time": "2021-12-06T07:28:48.025Z"
   },
   {
    "duration": 13,
    "start_time": "2021-12-06T07:28:48.061Z"
   },
   {
    "duration": 33,
    "start_time": "2021-12-06T07:28:48.076Z"
   },
   {
    "duration": 14,
    "start_time": "2021-12-06T07:28:48.111Z"
   },
   {
    "duration": 22,
    "start_time": "2021-12-06T07:28:48.127Z"
   },
   {
    "duration": 14,
    "start_time": "2021-12-06T07:28:48.151Z"
   },
   {
    "duration": 13,
    "start_time": "2021-12-06T07:28:48.168Z"
   },
   {
    "duration": 16,
    "start_time": "2021-12-06T07:28:48.183Z"
   },
   {
    "duration": 25,
    "start_time": "2021-12-06T07:28:48.201Z"
   },
   {
    "duration": 11,
    "start_time": "2021-12-06T07:28:48.228Z"
   },
   {
    "duration": 37,
    "start_time": "2021-12-06T07:28:48.241Z"
   },
   {
    "duration": 628,
    "start_time": "2021-12-06T07:37:41.076Z"
   },
   {
    "duration": 33,
    "start_time": "2021-12-06T07:37:41.706Z"
   },
   {
    "duration": 10,
    "start_time": "2021-12-06T07:37:41.741Z"
   },
   {
    "duration": 7,
    "start_time": "2021-12-06T07:37:41.753Z"
   },
   {
    "duration": 32,
    "start_time": "2021-12-06T07:37:41.762Z"
   },
   {
    "duration": 14,
    "start_time": "2021-12-06T07:37:41.795Z"
   },
   {
    "duration": 8,
    "start_time": "2021-12-06T07:37:41.810Z"
   },
   {
    "duration": 7,
    "start_time": "2021-12-06T07:37:41.820Z"
   },
   {
    "duration": 6,
    "start_time": "2021-12-06T07:37:41.829Z"
   },
   {
    "duration": 60,
    "start_time": "2021-12-06T07:37:41.836Z"
   },
   {
    "duration": 13,
    "start_time": "2021-12-06T07:37:41.898Z"
   },
   {
    "duration": 7,
    "start_time": "2021-12-06T07:37:41.913Z"
   },
   {
    "duration": 5,
    "start_time": "2021-12-06T07:37:41.921Z"
   },
   {
    "duration": 8,
    "start_time": "2021-12-06T07:37:41.928Z"
   },
   {
    "duration": 7,
    "start_time": "2021-12-06T07:37:41.937Z"
   },
   {
    "duration": 48,
    "start_time": "2021-12-06T07:37:41.945Z"
   },
   {
    "duration": 9,
    "start_time": "2021-12-06T07:37:41.995Z"
   },
   {
    "duration": 7,
    "start_time": "2021-12-06T07:37:42.005Z"
   },
   {
    "duration": 9,
    "start_time": "2021-12-06T07:37:42.014Z"
   },
   {
    "duration": 10,
    "start_time": "2021-12-06T07:37:42.025Z"
   },
   {
    "duration": 59,
    "start_time": "2021-12-06T07:37:42.037Z"
   },
   {
    "duration": 622,
    "start_time": "2021-12-06T07:43:05.595Z"
   },
   {
    "duration": 31,
    "start_time": "2021-12-06T07:43:06.219Z"
   },
   {
    "duration": 11,
    "start_time": "2021-12-06T07:43:06.252Z"
   },
   {
    "duration": 32,
    "start_time": "2021-12-06T07:43:06.265Z"
   },
   {
    "duration": 4,
    "start_time": "2021-12-06T07:43:06.299Z"
   },
   {
    "duration": 12,
    "start_time": "2021-12-06T07:43:06.304Z"
   },
   {
    "duration": 9,
    "start_time": "2021-12-06T07:43:06.318Z"
   },
   {
    "duration": 9,
    "start_time": "2021-12-06T07:43:06.329Z"
   },
   {
    "duration": 6,
    "start_time": "2021-12-06T07:43:06.341Z"
   },
   {
    "duration": 53,
    "start_time": "2021-12-06T07:43:06.348Z"
   },
   {
    "duration": 14,
    "start_time": "2021-12-06T07:43:06.402Z"
   },
   {
    "duration": 7,
    "start_time": "2021-12-06T07:43:06.417Z"
   },
   {
    "duration": 9,
    "start_time": "2021-12-06T07:43:06.426Z"
   },
   {
    "duration": 8,
    "start_time": "2021-12-06T07:43:06.437Z"
   },
   {
    "duration": 49,
    "start_time": "2021-12-06T07:43:06.447Z"
   },
   {
    "duration": 7,
    "start_time": "2021-12-06T07:43:06.497Z"
   },
   {
    "duration": 9,
    "start_time": "2021-12-06T07:43:06.506Z"
   },
   {
    "duration": 8,
    "start_time": "2021-12-06T07:43:06.517Z"
   },
   {
    "duration": 7,
    "start_time": "2021-12-06T07:43:06.527Z"
   },
   {
    "duration": 11,
    "start_time": "2021-12-06T07:43:06.535Z"
   },
   {
    "duration": 50,
    "start_time": "2021-12-06T07:43:06.548Z"
   },
   {
    "duration": 33,
    "start_time": "2021-12-06T07:43:06.599Z"
   },
   {
    "duration": 628,
    "start_time": "2021-12-06T07:50:32.148Z"
   },
   {
    "duration": 32,
    "start_time": "2021-12-06T07:50:32.778Z"
   },
   {
    "duration": 16,
    "start_time": "2021-12-06T07:50:32.812Z"
   },
   {
    "duration": 10,
    "start_time": "2021-12-06T07:50:32.830Z"
   },
   {
    "duration": 5,
    "start_time": "2021-12-06T07:50:32.841Z"
   },
   {
    "duration": 48,
    "start_time": "2021-12-06T07:50:32.848Z"
   },
   {
    "duration": 8,
    "start_time": "2021-12-06T07:50:32.897Z"
   },
   {
    "duration": 8,
    "start_time": "2021-12-06T07:50:32.907Z"
   },
   {
    "duration": 6,
    "start_time": "2021-12-06T07:50:32.917Z"
   },
   {
    "duration": 13,
    "start_time": "2021-12-06T07:50:32.924Z"
   },
   {
    "duration": 58,
    "start_time": "2021-12-06T07:50:32.939Z"
   },
   {
    "duration": 7,
    "start_time": "2021-12-06T07:50:32.999Z"
   },
   {
    "duration": 6,
    "start_time": "2021-12-06T07:50:33.008Z"
   },
   {
    "duration": 8,
    "start_time": "2021-12-06T07:50:33.015Z"
   },
   {
    "duration": 7,
    "start_time": "2021-12-06T07:50:33.025Z"
   },
   {
    "duration": 9,
    "start_time": "2021-12-06T07:50:33.033Z"
   },
   {
    "duration": 10,
    "start_time": "2021-12-06T07:50:33.092Z"
   },
   {
    "duration": 8,
    "start_time": "2021-12-06T07:50:33.104Z"
   },
   {
    "duration": 7,
    "start_time": "2021-12-06T07:50:33.114Z"
   },
   {
    "duration": 9,
    "start_time": "2021-12-06T07:50:33.122Z"
   },
   {
    "duration": 7,
    "start_time": "2021-12-06T07:50:33.133Z"
   },
   {
    "duration": 57,
    "start_time": "2021-12-06T07:50:33.142Z"
   },
   {
    "duration": 12,
    "start_time": "2021-12-06T07:50:33.201Z"
   },
   {
    "duration": 598,
    "start_time": "2021-12-06T07:57:53.316Z"
   },
   {
    "duration": 33,
    "start_time": "2021-12-06T07:57:53.915Z"
   },
   {
    "duration": 10,
    "start_time": "2021-12-06T07:57:53.950Z"
   },
   {
    "duration": 32,
    "start_time": "2021-12-06T07:57:53.962Z"
   },
   {
    "duration": 4,
    "start_time": "2021-12-06T07:57:53.996Z"
   },
   {
    "duration": 11,
    "start_time": "2021-12-06T07:57:54.002Z"
   },
   {
    "duration": 8,
    "start_time": "2021-12-06T07:57:54.014Z"
   },
   {
    "duration": 8,
    "start_time": "2021-12-06T07:57:54.024Z"
   },
   {
    "duration": 58,
    "start_time": "2021-12-06T07:57:54.035Z"
   },
   {
    "duration": 18,
    "start_time": "2021-12-06T07:57:54.095Z"
   },
   {
    "duration": 19,
    "start_time": "2021-12-06T07:57:54.115Z"
   },
   {
    "duration": 8,
    "start_time": "2021-12-06T07:57:54.136Z"
   },
   {
    "duration": 4,
    "start_time": "2021-12-06T07:57:54.146Z"
   },
   {
    "duration": 9,
    "start_time": "2021-12-06T07:57:54.191Z"
   },
   {
    "duration": 8,
    "start_time": "2021-12-06T07:57:54.201Z"
   },
   {
    "duration": 8,
    "start_time": "2021-12-06T07:57:54.210Z"
   },
   {
    "duration": 8,
    "start_time": "2021-12-06T07:57:54.220Z"
   },
   {
    "duration": 7,
    "start_time": "2021-12-06T07:57:54.230Z"
   },
   {
    "duration": 57,
    "start_time": "2021-12-06T07:57:54.239Z"
   },
   {
    "duration": 11,
    "start_time": "2021-12-06T07:57:54.298Z"
   },
   {
    "duration": 8,
    "start_time": "2021-12-06T07:57:54.311Z"
   },
   {
    "duration": 12,
    "start_time": "2021-12-06T07:57:54.321Z"
   },
   {
    "duration": 11,
    "start_time": "2021-12-06T07:57:54.335Z"
   },
   {
    "duration": 50,
    "start_time": "2021-12-06T07:57:54.347Z"
   },
   {
    "duration": 20,
    "start_time": "2021-12-06T07:57:54.399Z"
   },
   {
    "duration": 233,
    "start_time": "2021-12-06T07:57:54.421Z"
   },
   {
    "duration": 657,
    "start_time": "2021-12-06T07:59:20.873Z"
   },
   {
    "duration": 30,
    "start_time": "2021-12-06T07:59:21.532Z"
   },
   {
    "duration": 27,
    "start_time": "2021-12-06T07:59:21.564Z"
   },
   {
    "duration": 7,
    "start_time": "2021-12-06T07:59:21.593Z"
   },
   {
    "duration": 4,
    "start_time": "2021-12-06T07:59:21.601Z"
   },
   {
    "duration": 13,
    "start_time": "2021-12-06T07:59:21.606Z"
   },
   {
    "duration": 7,
    "start_time": "2021-12-06T07:59:21.620Z"
   },
   {
    "duration": 8,
    "start_time": "2021-12-06T07:59:21.629Z"
   },
   {
    "duration": 5,
    "start_time": "2021-12-06T07:59:21.640Z"
   },
   {
    "duration": 55,
    "start_time": "2021-12-06T07:59:21.647Z"
   },
   {
    "duration": 13,
    "start_time": "2021-12-06T07:59:21.704Z"
   },
   {
    "duration": 7,
    "start_time": "2021-12-06T07:59:21.719Z"
   },
   {
    "duration": 4,
    "start_time": "2021-12-06T07:59:21.728Z"
   },
   {
    "duration": 7,
    "start_time": "2021-12-06T07:59:21.734Z"
   },
   {
    "duration": 55,
    "start_time": "2021-12-06T07:59:21.743Z"
   },
   {
    "duration": 7,
    "start_time": "2021-12-06T07:59:21.799Z"
   },
   {
    "duration": 7,
    "start_time": "2021-12-06T07:59:21.808Z"
   },
   {
    "duration": 8,
    "start_time": "2021-12-06T07:59:21.817Z"
   },
   {
    "duration": 6,
    "start_time": "2021-12-06T07:59:21.827Z"
   },
   {
    "duration": 12,
    "start_time": "2021-12-06T07:59:21.835Z"
   },
   {
    "duration": 7,
    "start_time": "2021-12-06T07:59:21.892Z"
   },
   {
    "duration": 13,
    "start_time": "2021-12-06T07:59:21.901Z"
   },
   {
    "duration": 12,
    "start_time": "2021-12-06T07:59:21.915Z"
   },
   {
    "duration": 8,
    "start_time": "2021-12-06T07:59:21.928Z"
   },
   {
    "duration": 234,
    "start_time": "2021-12-06T07:59:21.937Z"
   },
   {
    "duration": 631,
    "start_time": "2021-12-06T08:00:38.464Z"
   },
   {
    "duration": 32,
    "start_time": "2021-12-06T08:00:39.097Z"
   },
   {
    "duration": 12,
    "start_time": "2021-12-06T08:00:39.131Z"
   },
   {
    "duration": 8,
    "start_time": "2021-12-06T08:00:39.145Z"
   },
   {
    "duration": 37,
    "start_time": "2021-12-06T08:00:39.154Z"
   },
   {
    "duration": 9,
    "start_time": "2021-12-06T08:00:39.193Z"
   },
   {
    "duration": 8,
    "start_time": "2021-12-06T08:00:39.204Z"
   },
   {
    "duration": 8,
    "start_time": "2021-12-06T08:00:39.214Z"
   },
   {
    "duration": 6,
    "start_time": "2021-12-06T08:00:39.224Z"
   },
   {
    "duration": 14,
    "start_time": "2021-12-06T08:00:39.232Z"
   },
   {
    "duration": 56,
    "start_time": "2021-12-06T08:00:39.247Z"
   },
   {
    "duration": 8,
    "start_time": "2021-12-06T08:00:39.305Z"
   },
   {
    "duration": 5,
    "start_time": "2021-12-06T08:00:39.314Z"
   },
   {
    "duration": 8,
    "start_time": "2021-12-06T08:00:39.320Z"
   },
   {
    "duration": 7,
    "start_time": "2021-12-06T08:00:39.329Z"
   },
   {
    "duration": 56,
    "start_time": "2021-12-06T08:00:39.338Z"
   },
   {
    "duration": 7,
    "start_time": "2021-12-06T08:00:39.396Z"
   },
   {
    "duration": 9,
    "start_time": "2021-12-06T08:00:39.404Z"
   },
   {
    "duration": 7,
    "start_time": "2021-12-06T08:00:39.414Z"
   },
   {
    "duration": 7,
    "start_time": "2021-12-06T08:00:39.423Z"
   },
   {
    "duration": 7,
    "start_time": "2021-12-06T08:00:39.432Z"
   },
   {
    "duration": 61,
    "start_time": "2021-12-06T08:00:39.440Z"
   },
   {
    "duration": 12,
    "start_time": "2021-12-06T08:00:39.503Z"
   },
   {
    "duration": 5,
    "start_time": "2021-12-06T08:00:39.516Z"
   },
   {
    "duration": 8,
    "start_time": "2021-12-06T08:00:39.522Z"
   },
   {
    "duration": 10,
    "start_time": "2021-12-06T08:01:54.572Z"
   },
   {
    "duration": 20,
    "start_time": "2021-12-06T08:03:16.164Z"
   },
   {
    "duration": 642,
    "start_time": "2021-12-06T08:04:24.373Z"
   },
   {
    "duration": 35,
    "start_time": "2021-12-06T08:04:25.017Z"
   },
   {
    "duration": 37,
    "start_time": "2021-12-06T08:04:25.055Z"
   },
   {
    "duration": 10,
    "start_time": "2021-12-06T08:04:25.095Z"
   },
   {
    "duration": 5,
    "start_time": "2021-12-06T08:04:25.107Z"
   },
   {
    "duration": 15,
    "start_time": "2021-12-06T08:04:25.114Z"
   },
   {
    "duration": 10,
    "start_time": "2021-12-06T08:04:25.131Z"
   },
   {
    "duration": 50,
    "start_time": "2021-12-06T08:04:25.144Z"
   },
   {
    "duration": 7,
    "start_time": "2021-12-06T08:04:25.197Z"
   },
   {
    "duration": 19,
    "start_time": "2021-12-06T08:04:25.206Z"
   },
   {
    "duration": 16,
    "start_time": "2021-12-06T08:04:25.227Z"
   },
   {
    "duration": 7,
    "start_time": "2021-12-06T08:04:25.244Z"
   },
   {
    "duration": 5,
    "start_time": "2021-12-06T08:04:25.291Z"
   },
   {
    "duration": 11,
    "start_time": "2021-12-06T08:04:25.297Z"
   },
   {
    "duration": 7,
    "start_time": "2021-12-06T08:04:25.309Z"
   },
   {
    "duration": 10,
    "start_time": "2021-12-06T08:04:25.318Z"
   },
   {
    "duration": 7,
    "start_time": "2021-12-06T08:04:25.329Z"
   },
   {
    "duration": 10,
    "start_time": "2021-12-06T08:04:25.338Z"
   },
   {
    "duration": 8,
    "start_time": "2021-12-06T08:04:25.391Z"
   },
   {
    "duration": 9,
    "start_time": "2021-12-06T08:04:25.401Z"
   },
   {
    "duration": 7,
    "start_time": "2021-12-06T08:04:25.411Z"
   },
   {
    "duration": 13,
    "start_time": "2021-12-06T08:04:25.420Z"
   },
   {
    "duration": 12,
    "start_time": "2021-12-06T08:04:25.434Z"
   },
   {
    "duration": 49,
    "start_time": "2021-12-06T08:04:25.448Z"
   },
   {
    "duration": 14,
    "start_time": "2021-12-06T08:04:25.498Z"
   },
   {
    "duration": 20,
    "start_time": "2021-12-06T08:04:25.513Z"
   },
   {
    "duration": 5,
    "start_time": "2021-12-06T08:21:44.574Z"
   },
   {
    "duration": 6,
    "start_time": "2021-12-06T08:22:14.154Z"
   },
   {
    "duration": 234,
    "start_time": "2021-12-06T08:27:43.347Z"
   },
   {
    "duration": 8,
    "start_time": "2021-12-06T08:27:55.246Z"
   },
   {
    "duration": 8,
    "start_time": "2021-12-06T08:28:27.498Z"
   },
   {
    "duration": 563,
    "start_time": "2021-12-06T08:28:51.553Z"
   },
   {
    "duration": 31,
    "start_time": "2021-12-06T08:28:52.118Z"
   },
   {
    "duration": 10,
    "start_time": "2021-12-06T08:28:52.150Z"
   },
   {
    "duration": 29,
    "start_time": "2021-12-06T08:28:52.162Z"
   },
   {
    "duration": 4,
    "start_time": "2021-12-06T08:28:52.193Z"
   },
   {
    "duration": 12,
    "start_time": "2021-12-06T08:28:52.199Z"
   },
   {
    "duration": 7,
    "start_time": "2021-12-06T08:28:52.213Z"
   },
   {
    "duration": 6,
    "start_time": "2021-12-06T08:28:52.223Z"
   },
   {
    "duration": 7,
    "start_time": "2021-12-06T08:28:52.231Z"
   },
   {
    "duration": 59,
    "start_time": "2021-12-06T08:28:52.239Z"
   },
   {
    "duration": 14,
    "start_time": "2021-12-06T08:28:52.300Z"
   },
   {
    "duration": 7,
    "start_time": "2021-12-06T08:28:52.316Z"
   },
   {
    "duration": 9,
    "start_time": "2021-12-06T08:28:52.325Z"
   },
   {
    "duration": 9,
    "start_time": "2021-12-06T08:28:52.336Z"
   },
   {
    "duration": 44,
    "start_time": "2021-12-06T08:28:52.347Z"
   },
   {
    "duration": 8,
    "start_time": "2021-12-06T08:28:52.394Z"
   },
   {
    "duration": 8,
    "start_time": "2021-12-06T08:28:52.404Z"
   },
   {
    "duration": 8,
    "start_time": "2021-12-06T08:28:52.414Z"
   },
   {
    "duration": 8,
    "start_time": "2021-12-06T08:28:52.423Z"
   },
   {
    "duration": 8,
    "start_time": "2021-12-06T08:28:52.433Z"
   },
   {
    "duration": 9,
    "start_time": "2021-12-06T08:28:52.492Z"
   },
   {
    "duration": 14,
    "start_time": "2021-12-06T08:28:52.502Z"
   },
   {
    "duration": 12,
    "start_time": "2021-12-06T08:28:52.518Z"
   },
   {
    "duration": 8,
    "start_time": "2021-12-06T08:28:52.531Z"
   },
   {
    "duration": 13,
    "start_time": "2021-12-06T08:28:52.540Z"
   },
   {
    "duration": 53,
    "start_time": "2021-12-06T08:28:52.555Z"
   },
   {
    "duration": 5,
    "start_time": "2021-12-06T08:28:52.610Z"
   },
   {
    "duration": 12,
    "start_time": "2021-12-06T08:28:52.617Z"
   },
   {
    "duration": 6,
    "start_time": "2021-12-06T08:28:52.630Z"
   },
   {
    "duration": 8,
    "start_time": "2021-12-06T08:35:18.852Z"
   },
   {
    "duration": 6,
    "start_time": "2021-12-06T08:35:45.593Z"
   },
   {
    "duration": 8,
    "start_time": "2021-12-06T08:36:50.908Z"
   },
   {
    "duration": 643,
    "start_time": "2021-12-06T08:41:35.175Z"
   },
   {
    "duration": 35,
    "start_time": "2021-12-06T08:41:35.820Z"
   },
   {
    "duration": 34,
    "start_time": "2021-12-06T08:41:35.857Z"
   },
   {
    "duration": 9,
    "start_time": "2021-12-06T08:41:35.894Z"
   },
   {
    "duration": 5,
    "start_time": "2021-12-06T08:41:35.905Z"
   },
   {
    "duration": 16,
    "start_time": "2021-12-06T08:41:35.912Z"
   },
   {
    "duration": 11,
    "start_time": "2021-12-06T08:41:35.930Z"
   },
   {
    "duration": 10,
    "start_time": "2021-12-06T08:41:35.943Z"
   },
   {
    "duration": 8,
    "start_time": "2021-12-06T08:41:35.994Z"
   },
   {
    "duration": 15,
    "start_time": "2021-12-06T08:41:36.005Z"
   },
   {
    "duration": 14,
    "start_time": "2021-12-06T08:41:36.022Z"
   },
   {
    "duration": 7,
    "start_time": "2021-12-06T08:41:36.038Z"
   },
   {
    "duration": 46,
    "start_time": "2021-12-06T08:41:36.046Z"
   },
   {
    "duration": 18,
    "start_time": "2021-12-06T08:41:36.094Z"
   },
   {
    "duration": 8,
    "start_time": "2021-12-06T08:41:36.113Z"
   },
   {
    "duration": 11,
    "start_time": "2021-12-06T08:41:36.122Z"
   },
   {
    "duration": 22,
    "start_time": "2021-12-06T08:41:36.135Z"
   },
   {
    "duration": 41,
    "start_time": "2021-12-06T08:41:36.158Z"
   },
   {
    "duration": 9,
    "start_time": "2021-12-06T08:41:36.200Z"
   },
   {
    "duration": 14,
    "start_time": "2021-12-06T08:41:36.210Z"
   },
   {
    "duration": 20,
    "start_time": "2021-12-06T08:41:36.225Z"
   },
   {
    "duration": 6,
    "start_time": "2021-12-06T08:41:36.246Z"
   },
   {
    "duration": 43,
    "start_time": "2021-12-06T08:41:36.253Z"
   },
   {
    "duration": 5,
    "start_time": "2021-12-06T08:41:36.298Z"
   },
   {
    "duration": 8,
    "start_time": "2021-12-06T08:41:36.305Z"
   },
   {
    "duration": 8,
    "start_time": "2021-12-06T08:41:36.314Z"
   },
   {
    "duration": 20,
    "start_time": "2021-12-06T08:43:15.925Z"
   },
   {
    "duration": 10,
    "start_time": "2021-12-06T08:43:46.408Z"
   },
   {
    "duration": 5,
    "start_time": "2021-12-06T08:45:53.618Z"
   },
   {
    "duration": 22,
    "start_time": "2021-12-06T08:46:13.677Z"
   },
   {
    "duration": 607,
    "start_time": "2021-12-06T08:50:35.739Z"
   },
   {
    "duration": 45,
    "start_time": "2021-12-06T08:50:36.348Z"
   },
   {
    "duration": 11,
    "start_time": "2021-12-06T08:50:36.395Z"
   },
   {
    "duration": 13,
    "start_time": "2021-12-06T08:50:36.407Z"
   },
   {
    "duration": 7,
    "start_time": "2021-12-06T08:50:36.422Z"
   },
   {
    "duration": 15,
    "start_time": "2021-12-06T08:50:36.430Z"
   },
   {
    "duration": 44,
    "start_time": "2021-12-06T08:50:36.447Z"
   },
   {
    "duration": 9,
    "start_time": "2021-12-06T08:50:36.493Z"
   },
   {
    "duration": 7,
    "start_time": "2021-12-06T08:50:36.505Z"
   },
   {
    "duration": 18,
    "start_time": "2021-12-06T08:50:36.514Z"
   },
   {
    "duration": 57,
    "start_time": "2021-12-06T08:50:36.534Z"
   },
   {
    "duration": 9,
    "start_time": "2021-12-06T08:50:36.593Z"
   },
   {
    "duration": 5,
    "start_time": "2021-12-06T08:50:36.603Z"
   },
   {
    "duration": 18,
    "start_time": "2021-12-06T08:50:36.610Z"
   },
   {
    "duration": 8,
    "start_time": "2021-12-06T08:50:36.629Z"
   },
   {
    "duration": 56,
    "start_time": "2021-12-06T08:50:36.639Z"
   },
   {
    "duration": 12,
    "start_time": "2021-12-06T08:50:36.697Z"
   },
   {
    "duration": 11,
    "start_time": "2021-12-06T08:50:36.711Z"
   },
   {
    "duration": 7,
    "start_time": "2021-12-06T08:50:36.724Z"
   },
   {
    "duration": 13,
    "start_time": "2021-12-06T08:50:36.733Z"
   },
   {
    "duration": 59,
    "start_time": "2021-12-06T08:50:36.748Z"
   },
   {
    "duration": 6,
    "start_time": "2021-12-06T08:50:36.808Z"
   },
   {
    "duration": 9,
    "start_time": "2021-12-06T08:50:36.815Z"
   },
   {
    "duration": 5,
    "start_time": "2021-12-06T08:50:36.826Z"
   },
   {
    "duration": 9,
    "start_time": "2021-12-06T08:50:36.833Z"
   },
   {
    "duration": 8,
    "start_time": "2021-12-06T08:50:36.844Z"
   },
   {
    "duration": 22,
    "start_time": "2021-12-06T08:50:36.892Z"
   },
   {
    "duration": 10,
    "start_time": "2021-12-06T08:50:36.915Z"
   },
   {
    "duration": 4,
    "start_time": "2021-12-06T08:50:36.927Z"
   },
   {
    "duration": 7,
    "start_time": "2021-12-06T08:50:36.932Z"
   },
   {
    "duration": 54,
    "start_time": "2021-12-06T08:50:36.941Z"
   },
   {
    "duration": 12,
    "start_time": "2021-12-06T08:56:10.584Z"
   },
   {
    "duration": 19,
    "start_time": "2021-12-06T08:56:24.604Z"
   },
   {
    "duration": 64,
    "start_time": "2021-12-06T09:10:37.203Z"
   },
   {
    "duration": 8,
    "start_time": "2021-12-06T09:10:43.555Z"
   },
   {
    "duration": 8,
    "start_time": "2021-12-06T09:10:53.595Z"
   },
   {
    "duration": 4,
    "start_time": "2021-12-06T09:13:48.739Z"
   },
   {
    "duration": 8,
    "start_time": "2021-12-06T09:16:11.300Z"
   },
   {
    "duration": 21,
    "start_time": "2021-12-06T09:16:22.387Z"
   },
   {
    "duration": 5,
    "start_time": "2021-12-06T09:21:38.425Z"
   },
   {
    "duration": 5,
    "start_time": "2021-12-06T09:21:39.909Z"
   },
   {
    "duration": 22,
    "start_time": "2021-12-06T09:22:22.937Z"
   },
   {
    "duration": 619,
    "start_time": "2021-12-06T09:23:05.013Z"
   },
   {
    "duration": 35,
    "start_time": "2021-12-06T09:23:05.634Z"
   },
   {
    "duration": 26,
    "start_time": "2021-12-06T09:23:05.671Z"
   },
   {
    "duration": 7,
    "start_time": "2021-12-06T09:23:05.700Z"
   },
   {
    "duration": 5,
    "start_time": "2021-12-06T09:23:05.709Z"
   },
   {
    "duration": 10,
    "start_time": "2021-12-06T09:23:05.716Z"
   },
   {
    "duration": 9,
    "start_time": "2021-12-06T09:23:05.728Z"
   },
   {
    "duration": 11,
    "start_time": "2021-12-06T09:23:05.791Z"
   },
   {
    "duration": 8,
    "start_time": "2021-12-06T09:23:05.805Z"
   },
   {
    "duration": 18,
    "start_time": "2021-12-06T09:23:05.815Z"
   },
   {
    "duration": 16,
    "start_time": "2021-12-06T09:23:05.834Z"
   },
   {
    "duration": 41,
    "start_time": "2021-12-06T09:23:05.851Z"
   },
   {
    "duration": 4,
    "start_time": "2021-12-06T09:23:05.894Z"
   },
   {
    "duration": 18,
    "start_time": "2021-12-06T09:23:05.900Z"
   },
   {
    "duration": 8,
    "start_time": "2021-12-06T09:23:05.919Z"
   },
   {
    "duration": 8,
    "start_time": "2021-12-06T09:23:05.929Z"
   },
   {
    "duration": 57,
    "start_time": "2021-12-06T09:23:05.939Z"
   },
   {
    "duration": 13,
    "start_time": "2021-12-06T09:23:05.998Z"
   },
   {
    "duration": 8,
    "start_time": "2021-12-06T09:23:06.013Z"
   },
   {
    "duration": 19,
    "start_time": "2021-12-06T09:23:06.023Z"
   },
   {
    "duration": 23,
    "start_time": "2021-12-06T09:23:06.043Z"
   },
   {
    "duration": 28,
    "start_time": "2021-12-06T09:23:06.068Z"
   },
   {
    "duration": 8,
    "start_time": "2021-12-06T09:23:06.100Z"
   },
   {
    "duration": 10,
    "start_time": "2021-12-06T09:23:06.109Z"
   },
   {
    "duration": 10,
    "start_time": "2021-12-06T09:23:06.121Z"
   },
   {
    "duration": 7,
    "start_time": "2021-12-06T09:23:06.132Z"
   },
   {
    "duration": 58,
    "start_time": "2021-12-06T09:23:06.140Z"
   },
   {
    "duration": 14,
    "start_time": "2021-12-06T09:23:06.201Z"
   },
   {
    "duration": 4,
    "start_time": "2021-12-06T09:23:06.217Z"
   },
   {
    "duration": 6,
    "start_time": "2021-12-06T09:23:06.223Z"
   },
   {
    "duration": 24,
    "start_time": "2021-12-06T09:23:06.231Z"
   },
   {
    "duration": 44,
    "start_time": "2021-12-06T09:23:06.257Z"
   },
   {
    "duration": 18,
    "start_time": "2021-12-06T09:23:06.302Z"
   },
   {
    "duration": 7,
    "start_time": "2021-12-06T09:23:06.322Z"
   },
   {
    "duration": 24,
    "start_time": "2021-12-06T09:23:06.331Z"
   },
   {
    "duration": 4,
    "start_time": "2021-12-06T09:23:06.392Z"
   },
   {
    "duration": 6,
    "start_time": "2021-12-06T09:23:06.397Z"
   },
   {
    "duration": 21,
    "start_time": "2021-12-06T09:23:06.405Z"
   },
   {
    "duration": 239,
    "start_time": "2021-12-06T10:26:29.993Z"
   },
   {
    "duration": 310,
    "start_time": "2021-12-06T10:26:51.825Z"
   },
   {
    "duration": 543,
    "start_time": "2021-12-06T10:27:50.265Z"
   },
   {
    "duration": 556,
    "start_time": "2021-12-06T10:28:11.821Z"
   },
   {
    "duration": 359,
    "start_time": "2021-12-06T10:28:30.321Z"
   },
   {
    "duration": 246,
    "start_time": "2021-12-06T10:29:33.801Z"
   },
   {
    "duration": 444,
    "start_time": "2021-12-06T10:29:41.315Z"
   },
   {
    "duration": 481,
    "start_time": "2021-12-06T10:35:59.461Z"
   },
   {
    "duration": 191,
    "start_time": "2021-12-06T10:36:19.229Z"
   },
   {
    "duration": 281,
    "start_time": "2021-12-06T10:36:37.557Z"
   },
   {
    "duration": 253,
    "start_time": "2021-12-06T10:37:05.811Z"
   },
   {
    "duration": 440,
    "start_time": "2021-12-06T10:37:19.021Z"
   },
   {
    "duration": 475,
    "start_time": "2021-12-06T10:39:02.664Z"
   },
   {
    "duration": 606,
    "start_time": "2021-12-06T10:39:10.124Z"
   },
   {
    "duration": 868,
    "start_time": "2021-12-06T10:39:16.956Z"
   },
   {
    "duration": 762,
    "start_time": "2021-12-06T10:39:26.104Z"
   },
   {
    "duration": 648,
    "start_time": "2021-12-06T10:39:32.743Z"
   },
   {
    "duration": 608,
    "start_time": "2021-12-06T10:41:43.930Z"
   },
   {
    "duration": 32,
    "start_time": "2021-12-06T10:41:44.540Z"
   },
   {
    "duration": 22,
    "start_time": "2021-12-06T10:41:44.574Z"
   },
   {
    "duration": 7,
    "start_time": "2021-12-06T10:41:44.598Z"
   },
   {
    "duration": 4,
    "start_time": "2021-12-06T10:41:44.607Z"
   },
   {
    "duration": 14,
    "start_time": "2021-12-06T10:41:44.613Z"
   },
   {
    "duration": 9,
    "start_time": "2021-12-06T10:41:44.629Z"
   },
   {
    "duration": 54,
    "start_time": "2021-12-06T10:41:44.639Z"
   },
   {
    "duration": 9,
    "start_time": "2021-12-06T10:41:44.697Z"
   },
   {
    "duration": 17,
    "start_time": "2021-12-06T10:41:44.708Z"
   },
   {
    "duration": 15,
    "start_time": "2021-12-06T10:41:44.727Z"
   },
   {
    "duration": 8,
    "start_time": "2021-12-06T10:41:44.744Z"
   },
   {
    "duration": 40,
    "start_time": "2021-12-06T10:41:44.754Z"
   },
   {
    "duration": 17,
    "start_time": "2021-12-06T10:41:44.796Z"
   },
   {
    "duration": 8,
    "start_time": "2021-12-06T10:41:44.815Z"
   },
   {
    "duration": 7,
    "start_time": "2021-12-06T10:41:44.824Z"
   },
   {
    "duration": 14,
    "start_time": "2021-12-06T10:41:44.833Z"
   },
   {
    "duration": 15,
    "start_time": "2021-12-06T10:41:44.890Z"
   },
   {
    "duration": 8,
    "start_time": "2021-12-06T10:41:44.906Z"
   },
   {
    "duration": 13,
    "start_time": "2021-12-06T10:41:44.916Z"
   },
   {
    "duration": 21,
    "start_time": "2021-12-06T10:41:44.931Z"
   },
   {
    "duration": 43,
    "start_time": "2021-12-06T10:41:44.954Z"
   },
   {
    "duration": 8,
    "start_time": "2021-12-06T10:41:44.999Z"
   },
   {
    "duration": 7,
    "start_time": "2021-12-06T10:41:45.009Z"
   },
   {
    "duration": 14,
    "start_time": "2021-12-06T10:41:45.018Z"
   },
   {
    "duration": 9,
    "start_time": "2021-12-06T10:41:45.033Z"
   },
   {
    "duration": 59,
    "start_time": "2021-12-06T10:41:45.045Z"
   },
   {
    "duration": 9,
    "start_time": "2021-12-06T10:41:45.106Z"
   },
   {
    "duration": 4,
    "start_time": "2021-12-06T10:41:45.117Z"
   },
   {
    "duration": 7,
    "start_time": "2021-12-06T10:41:45.122Z"
   },
   {
    "duration": 23,
    "start_time": "2021-12-06T10:41:45.130Z"
   },
   {
    "duration": 40,
    "start_time": "2021-12-06T10:41:45.154Z"
   },
   {
    "duration": 19,
    "start_time": "2021-12-06T10:41:45.196Z"
   },
   {
    "duration": 8,
    "start_time": "2021-12-06T10:41:45.217Z"
   },
   {
    "duration": 23,
    "start_time": "2021-12-06T10:41:45.227Z"
   },
   {
    "duration": 4,
    "start_time": "2021-12-06T10:41:45.251Z"
   },
   {
    "duration": 38,
    "start_time": "2021-12-06T10:41:45.256Z"
   },
   {
    "duration": 23,
    "start_time": "2021-12-06T10:41:45.296Z"
   },
   {
    "duration": 507,
    "start_time": "2021-12-06T10:41:45.320Z"
   },
   {
    "duration": 244,
    "start_time": "2021-12-06T10:41:45.829Z"
   },
   {
    "duration": 607,
    "start_time": "2021-12-06T10:43:34.331Z"
   },
   {
    "duration": 31,
    "start_time": "2021-12-06T10:43:34.940Z"
   },
   {
    "duration": 26,
    "start_time": "2021-12-06T10:43:34.973Z"
   },
   {
    "duration": 9,
    "start_time": "2021-12-06T10:43:35.001Z"
   },
   {
    "duration": 4,
    "start_time": "2021-12-06T10:43:35.012Z"
   },
   {
    "duration": 12,
    "start_time": "2021-12-06T10:43:35.018Z"
   },
   {
    "duration": 11,
    "start_time": "2021-12-06T10:43:35.032Z"
   },
   {
    "duration": 46,
    "start_time": "2021-12-06T10:43:35.045Z"
   },
   {
    "duration": 10,
    "start_time": "2021-12-06T10:43:35.095Z"
   },
   {
    "duration": 15,
    "start_time": "2021-12-06T10:43:35.107Z"
   },
   {
    "duration": 14,
    "start_time": "2021-12-06T10:43:35.124Z"
   },
   {
    "duration": 8,
    "start_time": "2021-12-06T10:43:35.139Z"
   },
   {
    "duration": 6,
    "start_time": "2021-12-06T10:43:35.190Z"
   },
   {
    "duration": 19,
    "start_time": "2021-12-06T10:43:35.197Z"
   },
   {
    "duration": 8,
    "start_time": "2021-12-06T10:43:35.217Z"
   },
   {
    "duration": 8,
    "start_time": "2021-12-06T10:43:35.227Z"
   },
   {
    "duration": 13,
    "start_time": "2021-12-06T10:43:35.236Z"
   },
   {
    "duration": 52,
    "start_time": "2021-12-06T10:43:35.250Z"
   },
   {
    "duration": 9,
    "start_time": "2021-12-06T10:43:35.304Z"
   },
   {
    "duration": 14,
    "start_time": "2021-12-06T10:43:35.315Z"
   },
   {
    "duration": 20,
    "start_time": "2021-12-06T10:43:35.331Z"
   },
   {
    "duration": 40,
    "start_time": "2021-12-06T10:43:35.353Z"
   },
   {
    "duration": 12,
    "start_time": "2021-12-06T10:43:35.394Z"
   },
   {
    "duration": 5,
    "start_time": "2021-12-06T10:43:35.408Z"
   },
   {
    "duration": 17,
    "start_time": "2021-12-06T10:43:35.415Z"
   },
   {
    "duration": 7,
    "start_time": "2021-12-06T10:43:35.434Z"
   },
   {
    "duration": 19,
    "start_time": "2021-12-06T10:43:35.445Z"
   },
   {
    "duration": 35,
    "start_time": "2021-12-06T10:43:35.466Z"
   },
   {
    "duration": 3,
    "start_time": "2021-12-06T10:43:35.503Z"
   },
   {
    "duration": 7,
    "start_time": "2021-12-06T10:43:35.508Z"
   },
   {
    "duration": 26,
    "start_time": "2021-12-06T10:43:35.517Z"
   },
   {
    "duration": 49,
    "start_time": "2021-12-06T10:43:35.544Z"
   },
   {
    "duration": 20,
    "start_time": "2021-12-06T10:43:35.594Z"
   },
   {
    "duration": 10,
    "start_time": "2021-12-06T10:43:35.616Z"
   },
   {
    "duration": 29,
    "start_time": "2021-12-06T10:43:35.628Z"
   },
   {
    "duration": 3,
    "start_time": "2021-12-06T10:43:35.659Z"
   },
   {
    "duration": 27,
    "start_time": "2021-12-06T10:43:35.664Z"
   },
   {
    "duration": 27,
    "start_time": "2021-12-06T10:43:35.693Z"
   },
   {
    "duration": 512,
    "start_time": "2021-12-06T10:43:35.722Z"
   },
   {
    "duration": 604,
    "start_time": "2021-12-06T10:43:36.236Z"
   },
   {
    "duration": 605,
    "start_time": "2021-12-06T10:43:50.918Z"
   },
   {
    "duration": 765,
    "start_time": "2021-12-06T10:43:57.378Z"
   },
   {
    "duration": 672,
    "start_time": "2021-12-06T10:44:02.090Z"
   },
   {
    "duration": 615,
    "start_time": "2021-12-06T10:44:23.290Z"
   },
   {
    "duration": 590,
    "start_time": "2021-12-06T10:44:44.250Z"
   },
   {
    "duration": 592,
    "start_time": "2021-12-06T10:45:17.358Z"
   },
   {
    "duration": 716,
    "start_time": "2021-12-06T10:45:29.930Z"
   },
   {
    "duration": 256,
    "start_time": "2021-12-06T10:45:41.591Z"
   },
   {
    "duration": 639,
    "start_time": "2021-12-06T10:46:29.612Z"
   },
   {
    "duration": 40,
    "start_time": "2021-12-06T10:46:30.253Z"
   },
   {
    "duration": 10,
    "start_time": "2021-12-06T10:46:30.295Z"
   },
   {
    "duration": 12,
    "start_time": "2021-12-06T10:46:30.307Z"
   },
   {
    "duration": 4,
    "start_time": "2021-12-06T10:46:30.321Z"
   },
   {
    "duration": 30,
    "start_time": "2021-12-06T10:46:30.326Z"
   },
   {
    "duration": 17,
    "start_time": "2021-12-06T10:46:30.357Z"
   },
   {
    "duration": 22,
    "start_time": "2021-12-06T10:46:30.376Z"
   },
   {
    "duration": 17,
    "start_time": "2021-12-06T10:46:30.400Z"
   },
   {
    "duration": 27,
    "start_time": "2021-12-06T10:46:30.418Z"
   },
   {
    "duration": 15,
    "start_time": "2021-12-06T10:46:30.447Z"
   },
   {
    "duration": 11,
    "start_time": "2021-12-06T10:46:30.464Z"
   },
   {
    "duration": 23,
    "start_time": "2021-12-06T10:46:30.476Z"
   },
   {
    "duration": 30,
    "start_time": "2021-12-06T10:46:30.501Z"
   },
   {
    "duration": 10,
    "start_time": "2021-12-06T10:46:30.533Z"
   },
   {
    "duration": 7,
    "start_time": "2021-12-06T10:46:30.545Z"
   },
   {
    "duration": 17,
    "start_time": "2021-12-06T10:46:30.554Z"
   },
   {
    "duration": 28,
    "start_time": "2021-12-06T10:46:30.573Z"
   },
   {
    "duration": 7,
    "start_time": "2021-12-06T10:46:30.603Z"
   },
   {
    "duration": 30,
    "start_time": "2021-12-06T10:46:30.612Z"
   },
   {
    "duration": 20,
    "start_time": "2021-12-06T10:46:30.644Z"
   },
   {
    "duration": 5,
    "start_time": "2021-12-06T10:46:30.666Z"
   },
   {
    "duration": 18,
    "start_time": "2021-12-06T10:46:30.693Z"
   },
   {
    "duration": 23,
    "start_time": "2021-12-06T10:46:30.713Z"
   },
   {
    "duration": 21,
    "start_time": "2021-12-06T10:46:30.738Z"
   },
   {
    "duration": 23,
    "start_time": "2021-12-06T10:46:30.761Z"
   },
   {
    "duration": 35,
    "start_time": "2021-12-06T10:46:30.786Z"
   },
   {
    "duration": 30,
    "start_time": "2021-12-06T10:46:30.823Z"
   },
   {
    "duration": 21,
    "start_time": "2021-12-06T10:46:30.855Z"
   },
   {
    "duration": 23,
    "start_time": "2021-12-06T10:46:30.878Z"
   },
   {
    "duration": 19,
    "start_time": "2021-12-06T10:46:30.902Z"
   },
   {
    "duration": 36,
    "start_time": "2021-12-06T10:46:30.922Z"
   },
   {
    "duration": 13,
    "start_time": "2021-12-06T10:46:30.959Z"
   },
   {
    "duration": 22,
    "start_time": "2021-12-06T10:46:30.973Z"
   },
   {
    "duration": 7,
    "start_time": "2021-12-06T10:46:30.997Z"
   },
   {
    "duration": 36,
    "start_time": "2021-12-06T10:46:31.005Z"
   },
   {
    "duration": 4,
    "start_time": "2021-12-06T10:46:31.043Z"
   },
   {
    "duration": 28,
    "start_time": "2021-12-06T10:46:31.048Z"
   },
   {
    "duration": 55,
    "start_time": "2021-12-06T10:46:31.078Z"
   },
   {
    "duration": 516,
    "start_time": "2021-12-06T10:46:31.135Z"
   },
   {
    "duration": 321,
    "start_time": "2021-12-06T10:46:31.653Z"
   },
   {
    "duration": 673,
    "start_time": "2021-12-06T10:47:36.297Z"
   },
   {
    "duration": 35,
    "start_time": "2021-12-06T10:47:36.972Z"
   },
   {
    "duration": 12,
    "start_time": "2021-12-06T10:47:37.009Z"
   },
   {
    "duration": 11,
    "start_time": "2021-12-06T10:47:37.024Z"
   },
   {
    "duration": 6,
    "start_time": "2021-12-06T10:47:37.037Z"
   },
   {
    "duration": 48,
    "start_time": "2021-12-06T10:47:37.044Z"
   },
   {
    "duration": 8,
    "start_time": "2021-12-06T10:47:37.094Z"
   },
   {
    "duration": 12,
    "start_time": "2021-12-06T10:47:37.104Z"
   },
   {
    "duration": 6,
    "start_time": "2021-12-06T10:47:37.119Z"
   },
   {
    "duration": 18,
    "start_time": "2021-12-06T10:47:37.128Z"
   },
   {
    "duration": 15,
    "start_time": "2021-12-06T10:47:37.192Z"
   },
   {
    "duration": 8,
    "start_time": "2021-12-06T10:47:37.208Z"
   },
   {
    "duration": 4,
    "start_time": "2021-12-06T10:47:37.218Z"
   },
   {
    "duration": 21,
    "start_time": "2021-12-06T10:47:37.224Z"
   },
   {
    "duration": 45,
    "start_time": "2021-12-06T10:47:37.247Z"
   },
   {
    "duration": 9,
    "start_time": "2021-12-06T10:47:37.294Z"
   },
   {
    "duration": 13,
    "start_time": "2021-12-06T10:47:37.304Z"
   },
   {
    "duration": 13,
    "start_time": "2021-12-06T10:47:37.319Z"
   },
   {
    "duration": 9,
    "start_time": "2021-12-06T10:47:37.334Z"
   },
   {
    "duration": 54,
    "start_time": "2021-12-06T10:47:37.344Z"
   },
   {
    "duration": 21,
    "start_time": "2021-12-06T10:47:37.400Z"
   },
   {
    "duration": 5,
    "start_time": "2021-12-06T10:47:37.422Z"
   },
   {
    "duration": 9,
    "start_time": "2021-12-06T10:47:37.428Z"
   },
   {
    "duration": 13,
    "start_time": "2021-12-06T10:47:37.439Z"
   },
   {
    "duration": 37,
    "start_time": "2021-12-06T10:47:37.454Z"
   },
   {
    "duration": 10,
    "start_time": "2021-12-06T10:47:37.493Z"
   },
   {
    "duration": 6,
    "start_time": "2021-12-06T10:47:37.506Z"
   },
   {
    "duration": 9,
    "start_time": "2021-12-06T10:47:37.514Z"
   },
   {
    "duration": 5,
    "start_time": "2021-12-06T10:47:37.525Z"
   },
   {
    "duration": 61,
    "start_time": "2021-12-06T10:47:37.532Z"
   },
   {
    "duration": 10,
    "start_time": "2021-12-06T10:47:37.595Z"
   },
   {
    "duration": 5,
    "start_time": "2021-12-06T10:47:37.607Z"
   },
   {
    "duration": 6,
    "start_time": "2021-12-06T10:47:37.614Z"
   },
   {
    "duration": 24,
    "start_time": "2021-12-06T10:47:37.623Z"
   },
   {
    "duration": 56,
    "start_time": "2021-12-06T10:47:37.649Z"
   },
   {
    "duration": 19,
    "start_time": "2021-12-06T10:47:37.707Z"
   },
   {
    "duration": 11,
    "start_time": "2021-12-06T10:47:37.727Z"
   },
   {
    "duration": 23,
    "start_time": "2021-12-06T10:47:37.740Z"
   },
   {
    "duration": 26,
    "start_time": "2021-12-06T10:47:37.765Z"
   },
   {
    "duration": 4,
    "start_time": "2021-12-06T10:47:37.793Z"
   },
   {
    "duration": 25,
    "start_time": "2021-12-06T10:47:37.799Z"
   },
   {
    "duration": 552,
    "start_time": "2021-12-06T10:47:37.826Z"
   },
   {
    "duration": 325,
    "start_time": "2021-12-06T10:47:38.380Z"
   },
   {
    "duration": 316,
    "start_time": "2021-12-06T10:47:54.208Z"
   },
   {
    "duration": 356,
    "start_time": "2021-12-06T10:49:28.844Z"
   },
   {
    "duration": 344,
    "start_time": "2021-12-06T10:49:48.505Z"
   },
   {
    "duration": 255,
    "start_time": "2021-12-06T10:50:00.706Z"
   },
   {
    "duration": 283,
    "start_time": "2021-12-06T10:50:08.526Z"
   },
   {
    "duration": 475,
    "start_time": "2021-12-06T10:50:14.404Z"
   },
   {
    "duration": 252,
    "start_time": "2021-12-06T10:51:33.126Z"
   },
   {
    "duration": 353,
    "start_time": "2021-12-06T10:52:02.627Z"
   },
   {
    "duration": 7,
    "start_time": "2021-12-06T10:54:29.785Z"
   },
   {
    "duration": 227,
    "start_time": "2021-12-06T11:12:24.795Z"
   },
   {
    "duration": 459,
    "start_time": "2021-12-06T11:12:39.817Z"
   },
   {
    "duration": 608,
    "start_time": "2021-12-06T11:28:52.821Z"
   },
   {
    "duration": 33,
    "start_time": "2021-12-06T11:28:53.431Z"
   },
   {
    "duration": 27,
    "start_time": "2021-12-06T11:28:53.466Z"
   },
   {
    "duration": 9,
    "start_time": "2021-12-06T11:28:53.495Z"
   },
   {
    "duration": 4,
    "start_time": "2021-12-06T11:28:53.506Z"
   },
   {
    "duration": 10,
    "start_time": "2021-12-06T11:28:53.512Z"
   },
   {
    "duration": 9,
    "start_time": "2021-12-06T11:28:53.524Z"
   },
   {
    "duration": 8,
    "start_time": "2021-12-06T11:28:53.535Z"
   },
   {
    "duration": 6,
    "start_time": "2021-12-06T11:28:53.546Z"
   },
   {
    "duration": 15,
    "start_time": "2021-12-06T11:28:53.592Z"
   },
   {
    "duration": 15,
    "start_time": "2021-12-06T11:28:53.608Z"
   },
   {
    "duration": 8,
    "start_time": "2021-12-06T11:28:53.625Z"
   },
   {
    "duration": 5,
    "start_time": "2021-12-06T11:28:53.635Z"
   },
   {
    "duration": 62,
    "start_time": "2021-12-06T11:28:53.642Z"
   },
   {
    "duration": 10,
    "start_time": "2021-12-06T11:28:53.706Z"
   },
   {
    "duration": 9,
    "start_time": "2021-12-06T11:28:53.718Z"
   },
   {
    "duration": 12,
    "start_time": "2021-12-06T11:28:53.729Z"
   },
   {
    "duration": 12,
    "start_time": "2021-12-06T11:28:53.743Z"
   },
   {
    "duration": 42,
    "start_time": "2021-12-06T11:28:53.757Z"
   },
   {
    "duration": 11,
    "start_time": "2021-12-06T11:28:53.801Z"
   },
   {
    "duration": 21,
    "start_time": "2021-12-06T11:28:53.814Z"
   },
   {
    "duration": 5,
    "start_time": "2021-12-06T11:28:53.837Z"
   },
   {
    "duration": 6,
    "start_time": "2021-12-06T11:28:53.844Z"
   },
   {
    "duration": 7,
    "start_time": "2021-12-06T11:28:53.852Z"
   },
   {
    "duration": 37,
    "start_time": "2021-12-06T11:28:53.860Z"
   },
   {
    "duration": 7,
    "start_time": "2021-12-06T11:28:53.898Z"
   },
   {
    "duration": 5,
    "start_time": "2021-12-06T11:28:53.909Z"
   },
   {
    "duration": 7,
    "start_time": "2021-12-06T11:28:53.916Z"
   },
   {
    "duration": 5,
    "start_time": "2021-12-06T11:28:53.924Z"
   },
   {
    "duration": 18,
    "start_time": "2021-12-06T11:28:53.930Z"
   },
   {
    "duration": 45,
    "start_time": "2021-12-06T11:28:53.950Z"
   },
   {
    "duration": 4,
    "start_time": "2021-12-06T11:28:53.997Z"
   },
   {
    "duration": 8,
    "start_time": "2021-12-06T11:28:54.002Z"
   },
   {
    "duration": 21,
    "start_time": "2021-12-06T11:28:54.011Z"
   },
   {
    "duration": 12,
    "start_time": "2021-12-06T11:28:54.033Z"
   },
   {
    "duration": 18,
    "start_time": "2021-12-06T11:28:54.046Z"
   },
   {
    "duration": 31,
    "start_time": "2021-12-06T11:28:54.066Z"
   },
   {
    "duration": 23,
    "start_time": "2021-12-06T11:28:54.098Z"
   },
   {
    "duration": 3,
    "start_time": "2021-12-06T11:28:54.123Z"
   },
   {
    "duration": 6,
    "start_time": "2021-12-06T11:28:54.128Z"
   },
   {
    "duration": 21,
    "start_time": "2021-12-06T11:28:54.136Z"
   },
   {
    "duration": 410,
    "start_time": "2021-12-06T11:28:54.158Z"
   },
   {
    "duration": 396,
    "start_time": "2021-12-06T11:28:54.569Z"
   },
   {
    "duration": 263,
    "start_time": "2021-12-06T11:28:54.966Z"
   },
   {
    "duration": 432,
    "start_time": "2021-12-06T11:28:55.231Z"
   },
   {
    "duration": 480,
    "start_time": "2021-12-06T11:28:55.664Z"
   },
   {
    "duration": 437,
    "start_time": "2021-12-06T11:29:08.465Z"
   },
   {
    "duration": 438,
    "start_time": "2021-12-06T11:29:32.668Z"
   },
   {
    "duration": 555,
    "start_time": "2021-12-06T11:29:44.153Z"
   },
   {
    "duration": 5,
    "start_time": "2021-12-06T11:33:29.317Z"
   },
   {
    "duration": 252,
    "start_time": "2021-12-06T11:33:33.097Z"
   },
   {
    "duration": 9,
    "start_time": "2021-12-06T11:46:17.925Z"
   },
   {
    "duration": 5,
    "start_time": "2021-12-06T11:49:56.737Z"
   },
   {
    "duration": 235,
    "start_time": "2021-12-06T11:55:35.793Z"
   },
   {
    "duration": 1003,
    "start_time": "2021-12-06T11:56:44.824Z"
   },
   {
    "duration": 9,
    "start_time": "2021-12-06T11:59:00.283Z"
   },
   {
    "duration": 13,
    "start_time": "2021-12-06T12:17:31.092Z"
   },
   {
    "duration": 20,
    "start_time": "2021-12-06T12:17:46.643Z"
   },
   {
    "duration": 13,
    "start_time": "2021-12-06T12:20:12.619Z"
   },
   {
    "duration": 13,
    "start_time": "2021-12-06T12:23:23.412Z"
   },
   {
    "duration": 11,
    "start_time": "2021-12-06T12:27:04.310Z"
   },
   {
    "duration": 12,
    "start_time": "2021-12-06T12:27:15.797Z"
   },
   {
    "duration": 79,
    "start_time": "2021-12-06T12:27:51.689Z"
   },
   {
    "duration": 10,
    "start_time": "2021-12-06T12:43:15.202Z"
   },
   {
    "duration": 647,
    "start_time": "2021-12-06T12:43:22.879Z"
   },
   {
    "duration": 31,
    "start_time": "2021-12-06T12:43:23.528Z"
   },
   {
    "duration": 16,
    "start_time": "2021-12-06T12:43:23.561Z"
   },
   {
    "duration": 8,
    "start_time": "2021-12-06T12:43:23.592Z"
   },
   {
    "duration": 4,
    "start_time": "2021-12-06T12:43:23.601Z"
   },
   {
    "duration": 10,
    "start_time": "2021-12-06T12:43:23.606Z"
   },
   {
    "duration": 8,
    "start_time": "2021-12-06T12:43:23.618Z"
   },
   {
    "duration": 7,
    "start_time": "2021-12-06T12:43:23.628Z"
   },
   {
    "duration": 7,
    "start_time": "2021-12-06T12:43:23.637Z"
   },
   {
    "duration": 50,
    "start_time": "2021-12-06T12:43:23.646Z"
   },
   {
    "duration": 16,
    "start_time": "2021-12-06T12:43:23.698Z"
   },
   {
    "duration": 9,
    "start_time": "2021-12-06T12:43:23.716Z"
   },
   {
    "duration": 5,
    "start_time": "2021-12-06T12:43:23.727Z"
   },
   {
    "duration": 17,
    "start_time": "2021-12-06T12:43:23.734Z"
   },
   {
    "duration": 40,
    "start_time": "2021-12-06T12:43:23.753Z"
   },
   {
    "duration": 8,
    "start_time": "2021-12-06T12:43:23.795Z"
   },
   {
    "duration": 14,
    "start_time": "2021-12-06T12:43:23.805Z"
   },
   {
    "duration": 13,
    "start_time": "2021-12-06T12:43:23.820Z"
   },
   {
    "duration": 8,
    "start_time": "2021-12-06T12:43:23.834Z"
   },
   {
    "duration": 12,
    "start_time": "2021-12-06T12:43:23.843Z"
   },
   {
    "duration": 52,
    "start_time": "2021-12-06T12:43:23.856Z"
   },
   {
    "duration": 4,
    "start_time": "2021-12-06T12:43:23.910Z"
   },
   {
    "duration": 6,
    "start_time": "2021-12-06T12:43:23.915Z"
   },
   {
    "duration": 6,
    "start_time": "2021-12-06T12:43:23.922Z"
   },
   {
    "duration": 6,
    "start_time": "2021-12-06T12:43:23.930Z"
   },
   {
    "duration": 7,
    "start_time": "2021-12-06T12:43:23.938Z"
   },
   {
    "duration": 5,
    "start_time": "2021-12-06T12:43:23.948Z"
   },
   {
    "duration": 44,
    "start_time": "2021-12-06T12:43:23.955Z"
   },
   {
    "duration": 6,
    "start_time": "2021-12-06T12:43:24.001Z"
   },
   {
    "duration": 25,
    "start_time": "2021-12-06T12:43:24.008Z"
   },
   {
    "duration": 10,
    "start_time": "2021-12-06T12:43:24.035Z"
   },
   {
    "duration": 4,
    "start_time": "2021-12-06T12:43:24.046Z"
   },
   {
    "duration": 9,
    "start_time": "2021-12-06T12:43:24.052Z"
   },
   {
    "duration": 48,
    "start_time": "2021-12-06T12:43:24.063Z"
   },
   {
    "duration": 13,
    "start_time": "2021-12-06T12:43:24.112Z"
   },
   {
    "duration": 19,
    "start_time": "2021-12-06T12:43:24.126Z"
   },
   {
    "duration": 8,
    "start_time": "2021-12-06T12:43:24.146Z"
   },
   {
    "duration": 52,
    "start_time": "2021-12-06T12:43:24.156Z"
   },
   {
    "duration": 4,
    "start_time": "2021-12-06T12:43:24.210Z"
   },
   {
    "duration": 6,
    "start_time": "2021-12-06T12:43:24.216Z"
   },
   {
    "duration": 22,
    "start_time": "2021-12-06T12:43:24.224Z"
   },
   {
    "duration": 432,
    "start_time": "2021-12-06T12:43:24.248Z"
   },
   {
    "duration": 486,
    "start_time": "2021-12-06T12:43:24.681Z"
   },
   {
    "duration": 261,
    "start_time": "2021-12-06T12:43:25.168Z"
   },
   {
    "duration": 425,
    "start_time": "2021-12-06T12:43:25.431Z"
   },
   {
    "duration": 439,
    "start_time": "2021-12-06T12:43:25.857Z"
   },
   {
    "duration": 4,
    "start_time": "2021-12-06T12:43:26.298Z"
   },
   {
    "duration": 8,
    "start_time": "2021-12-06T12:43:26.303Z"
   },
   {
    "duration": 8,
    "start_time": "2021-12-06T12:43:26.312Z"
   },
   {
    "duration": 20,
    "start_time": "2021-12-06T12:43:26.322Z"
   },
   {
    "duration": 14,
    "start_time": "2021-12-06T12:47:03.146Z"
   },
   {
    "duration": 807,
    "start_time": "2021-12-06T12:55:22.541Z"
   },
   {
    "duration": 7,
    "start_time": "2021-12-06T12:56:31.661Z"
   },
   {
    "duration": 6,
    "start_time": "2021-12-06T12:57:02.489Z"
   },
   {
    "duration": 5,
    "start_time": "2021-12-06T12:57:36.901Z"
   },
   {
    "duration": 6,
    "start_time": "2021-12-06T12:57:55.107Z"
   },
   {
    "duration": 898,
    "start_time": "2021-12-06T13:31:36.076Z"
   },
   {
    "duration": 140,
    "start_time": "2021-12-06T13:35:06.207Z"
   },
   {
    "duration": 1427,
    "start_time": "2021-12-06T13:36:32.743Z"
   },
   {
    "duration": 134,
    "start_time": "2021-12-06T13:36:47.904Z"
   },
   {
    "duration": 636,
    "start_time": "2021-12-06T13:37:11.759Z"
   },
   {
    "duration": 33,
    "start_time": "2021-12-06T13:37:12.397Z"
   },
   {
    "duration": 10,
    "start_time": "2021-12-06T13:37:12.432Z"
   },
   {
    "duration": 9,
    "start_time": "2021-12-06T13:37:12.444Z"
   },
   {
    "duration": 5,
    "start_time": "2021-12-06T13:37:12.454Z"
   },
   {
    "duration": 38,
    "start_time": "2021-12-06T13:37:12.460Z"
   },
   {
    "duration": 9,
    "start_time": "2021-12-06T13:37:12.500Z"
   },
   {
    "duration": 8,
    "start_time": "2021-12-06T13:37:12.511Z"
   },
   {
    "duration": 5,
    "start_time": "2021-12-06T13:37:12.521Z"
   },
   {
    "duration": 15,
    "start_time": "2021-12-06T13:37:12.528Z"
   },
   {
    "duration": 47,
    "start_time": "2021-12-06T13:37:12.545Z"
   },
   {
    "duration": 8,
    "start_time": "2021-12-06T13:37:12.594Z"
   },
   {
    "duration": 4,
    "start_time": "2021-12-06T13:37:12.604Z"
   },
   {
    "duration": 18,
    "start_time": "2021-12-06T13:37:12.609Z"
   },
   {
    "duration": 8,
    "start_time": "2021-12-06T13:37:12.628Z"
   },
   {
    "duration": 7,
    "start_time": "2021-12-06T13:37:12.637Z"
   },
   {
    "duration": 53,
    "start_time": "2021-12-06T13:37:12.646Z"
   },
   {
    "duration": 13,
    "start_time": "2021-12-06T13:37:12.700Z"
   },
   {
    "duration": 8,
    "start_time": "2021-12-06T13:37:12.714Z"
   },
   {
    "duration": 12,
    "start_time": "2021-12-06T13:37:12.723Z"
   },
   {
    "duration": 19,
    "start_time": "2021-12-06T13:37:12.736Z"
   },
   {
    "duration": 3,
    "start_time": "2021-12-06T13:37:12.757Z"
   },
   {
    "duration": 27,
    "start_time": "2021-12-06T13:37:12.764Z"
   },
   {
    "duration": 4,
    "start_time": "2021-12-06T13:37:12.793Z"
   },
   {
    "duration": 11,
    "start_time": "2021-12-06T13:37:12.799Z"
   },
   {
    "duration": 9,
    "start_time": "2021-12-06T13:37:12.812Z"
   },
   {
    "duration": 5,
    "start_time": "2021-12-06T13:37:12.822Z"
   },
   {
    "duration": 9,
    "start_time": "2021-12-06T13:37:12.829Z"
   },
   {
    "duration": 8,
    "start_time": "2021-12-06T13:37:12.840Z"
   },
   {
    "duration": 48,
    "start_time": "2021-12-06T13:37:12.850Z"
   },
   {
    "duration": 9,
    "start_time": "2021-12-06T13:37:12.899Z"
   },
   {
    "duration": 4,
    "start_time": "2021-12-06T13:37:12.909Z"
   },
   {
    "duration": 6,
    "start_time": "2021-12-06T13:37:12.914Z"
   },
   {
    "duration": 21,
    "start_time": "2021-12-06T13:37:12.921Z"
   },
   {
    "duration": 11,
    "start_time": "2021-12-06T13:37:12.944Z"
   },
   {
    "duration": 47,
    "start_time": "2021-12-06T13:37:12.957Z"
   },
   {
    "duration": 7,
    "start_time": "2021-12-06T13:37:13.006Z"
   },
   {
    "duration": 23,
    "start_time": "2021-12-06T13:37:13.015Z"
   },
   {
    "duration": 4,
    "start_time": "2021-12-06T13:37:13.039Z"
   },
   {
    "duration": 8,
    "start_time": "2021-12-06T13:37:13.044Z"
   },
   {
    "duration": 42,
    "start_time": "2021-12-06T13:37:13.053Z"
   },
   {
    "duration": 389,
    "start_time": "2021-12-06T13:37:13.097Z"
   },
   {
    "duration": 484,
    "start_time": "2021-12-06T13:37:13.488Z"
   },
   {
    "duration": 264,
    "start_time": "2021-12-06T13:37:13.973Z"
   },
   {
    "duration": 413,
    "start_time": "2021-12-06T13:37:14.239Z"
   },
   {
    "duration": 448,
    "start_time": "2021-12-06T13:37:14.654Z"
   },
   {
    "duration": 4,
    "start_time": "2021-12-06T13:37:15.104Z"
   },
   {
    "duration": 13,
    "start_time": "2021-12-06T13:37:15.109Z"
   },
   {
    "duration": 8,
    "start_time": "2021-12-06T13:37:15.124Z"
   },
   {
    "duration": 19,
    "start_time": "2021-12-06T13:37:15.134Z"
   },
   {
    "duration": 5,
    "start_time": "2021-12-06T13:37:15.154Z"
   },
   {
    "duration": 31,
    "start_time": "2021-12-06T13:37:15.160Z"
   },
   {
    "duration": 5,
    "start_time": "2021-12-06T13:37:15.193Z"
   },
   {
    "duration": 150,
    "start_time": "2021-12-06T13:37:15.200Z"
   },
   {
    "duration": 133,
    "start_time": "2021-12-06T13:37:39.508Z"
   },
   {
    "duration": 695,
    "start_time": "2021-12-06T15:09:07.993Z"
   },
   {
    "duration": 31,
    "start_time": "2021-12-06T15:09:08.690Z"
   },
   {
    "duration": 9,
    "start_time": "2021-12-06T15:09:08.723Z"
   },
   {
    "duration": 7,
    "start_time": "2021-12-06T15:09:08.734Z"
   },
   {
    "duration": 4,
    "start_time": "2021-12-06T15:09:08.743Z"
   },
   {
    "duration": 44,
    "start_time": "2021-12-06T15:09:08.749Z"
   },
   {
    "duration": 9,
    "start_time": "2021-12-06T15:09:08.795Z"
   },
   {
    "duration": 15,
    "start_time": "2021-12-06T15:09:08.806Z"
   },
   {
    "duration": 6,
    "start_time": "2021-12-06T15:09:08.825Z"
   },
   {
    "duration": 12,
    "start_time": "2021-12-06T15:09:08.833Z"
   },
   {
    "duration": 14,
    "start_time": "2021-12-06T15:09:08.847Z"
   },
   {
    "duration": 8,
    "start_time": "2021-12-06T15:09:08.891Z"
   },
   {
    "duration": 4,
    "start_time": "2021-12-06T15:09:08.901Z"
   },
   {
    "duration": 18,
    "start_time": "2021-12-06T15:09:08.907Z"
   },
   {
    "duration": 8,
    "start_time": "2021-12-06T15:09:08.927Z"
   },
   {
    "duration": 9,
    "start_time": "2021-12-06T15:09:08.937Z"
   },
   {
    "duration": 45,
    "start_time": "2021-12-06T15:09:08.947Z"
   },
   {
    "duration": 14,
    "start_time": "2021-12-06T15:09:08.993Z"
   },
   {
    "duration": 8,
    "start_time": "2021-12-06T15:09:09.009Z"
   },
   {
    "duration": 11,
    "start_time": "2021-12-06T15:09:09.019Z"
   },
   {
    "duration": 20,
    "start_time": "2021-12-06T15:09:09.032Z"
   },
   {
    "duration": 41,
    "start_time": "2021-12-06T15:09:09.054Z"
   },
   {
    "duration": 5,
    "start_time": "2021-12-06T15:09:09.097Z"
   },
   {
    "duration": 5,
    "start_time": "2021-12-06T15:09:09.104Z"
   },
   {
    "duration": 6,
    "start_time": "2021-12-06T15:09:09.111Z"
   },
   {
    "duration": 8,
    "start_time": "2021-12-06T15:09:09.119Z"
   },
   {
    "duration": 5,
    "start_time": "2021-12-06T15:09:09.132Z"
   },
   {
    "duration": 54,
    "start_time": "2021-12-06T15:09:09.139Z"
   },
   {
    "duration": 7,
    "start_time": "2021-12-06T15:09:09.195Z"
   },
   {
    "duration": 20,
    "start_time": "2021-12-06T15:09:09.204Z"
   },
   {
    "duration": 11,
    "start_time": "2021-12-06T15:09:09.226Z"
   },
   {
    "duration": 5,
    "start_time": "2021-12-06T15:09:09.238Z"
   },
   {
    "duration": 5,
    "start_time": "2021-12-06T15:09:09.244Z"
   },
   {
    "duration": 58,
    "start_time": "2021-12-06T15:09:09.251Z"
   },
   {
    "duration": 12,
    "start_time": "2021-12-06T15:09:09.310Z"
   },
   {
    "duration": 18,
    "start_time": "2021-12-06T15:09:09.323Z"
   },
   {
    "duration": 7,
    "start_time": "2021-12-06T15:09:09.342Z"
   },
   {
    "duration": 50,
    "start_time": "2021-12-06T15:09:09.351Z"
   },
   {
    "duration": 4,
    "start_time": "2021-12-06T15:09:09.402Z"
   },
   {
    "duration": 10,
    "start_time": "2021-12-06T15:09:09.407Z"
   },
   {
    "duration": 23,
    "start_time": "2021-12-06T15:09:09.419Z"
   },
   {
    "duration": 401,
    "start_time": "2021-12-06T15:09:09.444Z"
   },
   {
    "duration": 530,
    "start_time": "2021-12-06T15:09:09.847Z"
   },
   {
    "duration": 261,
    "start_time": "2021-12-06T15:09:10.379Z"
   },
   {
    "duration": 453,
    "start_time": "2021-12-06T15:09:10.642Z"
   },
   {
    "duration": 455,
    "start_time": "2021-12-06T15:09:11.096Z"
   },
   {
    "duration": 4,
    "start_time": "2021-12-06T15:09:11.553Z"
   },
   {
    "duration": 8,
    "start_time": "2021-12-06T15:09:11.558Z"
   },
   {
    "duration": 10,
    "start_time": "2021-12-06T15:09:11.568Z"
   },
   {
    "duration": 21,
    "start_time": "2021-12-06T15:09:11.591Z"
   },
   {
    "duration": 4,
    "start_time": "2021-12-06T15:09:11.614Z"
   },
   {
    "duration": 5,
    "start_time": "2021-12-06T15:09:11.620Z"
   },
   {
    "duration": 5,
    "start_time": "2021-12-06T15:09:11.627Z"
   },
   {
    "duration": 11,
    "start_time": "2021-12-06T15:09:11.633Z"
   },
   {
    "duration": 173,
    "start_time": "2021-12-06T15:09:11.645Z"
   },
   {
    "duration": 6,
    "start_time": "2021-12-06T16:16:46.646Z"
   },
   {
    "duration": 6,
    "start_time": "2021-12-06T16:17:05.084Z"
   },
   {
    "duration": 6,
    "start_time": "2021-12-06T16:17:21.165Z"
   },
   {
    "duration": 672,
    "start_time": "2021-12-06T16:39:07.671Z"
   },
   {
    "duration": 33,
    "start_time": "2021-12-06T16:39:08.345Z"
   },
   {
    "duration": 20,
    "start_time": "2021-12-06T16:39:08.380Z"
   },
   {
    "duration": 7,
    "start_time": "2021-12-06T16:39:08.402Z"
   },
   {
    "duration": 15,
    "start_time": "2021-12-06T16:39:08.411Z"
   },
   {
    "duration": 23,
    "start_time": "2021-12-06T16:39:08.428Z"
   },
   {
    "duration": 8,
    "start_time": "2021-12-06T16:39:08.453Z"
   },
   {
    "duration": 15,
    "start_time": "2021-12-06T16:39:08.463Z"
   },
   {
    "duration": 14,
    "start_time": "2021-12-06T16:39:08.480Z"
   },
   {
    "duration": 19,
    "start_time": "2021-12-06T16:39:08.495Z"
   },
   {
    "duration": 27,
    "start_time": "2021-12-06T16:39:08.515Z"
   },
   {
    "duration": 7,
    "start_time": "2021-12-06T16:39:08.544Z"
   },
   {
    "duration": 8,
    "start_time": "2021-12-06T16:39:08.553Z"
   },
   {
    "duration": 31,
    "start_time": "2021-12-06T16:39:08.562Z"
   },
   {
    "duration": 8,
    "start_time": "2021-12-06T16:39:08.595Z"
   },
   {
    "duration": 8,
    "start_time": "2021-12-06T16:39:08.604Z"
   },
   {
    "duration": 15,
    "start_time": "2021-12-06T16:39:08.614Z"
   },
   {
    "duration": 13,
    "start_time": "2021-12-06T16:39:08.630Z"
   },
   {
    "duration": 7,
    "start_time": "2021-12-06T16:39:08.645Z"
   },
   {
    "duration": 43,
    "start_time": "2021-12-06T16:39:08.653Z"
   },
   {
    "duration": 19,
    "start_time": "2021-12-06T16:39:08.697Z"
   },
   {
    "duration": 4,
    "start_time": "2021-12-06T16:39:08.718Z"
   },
   {
    "duration": 4,
    "start_time": "2021-12-06T16:39:08.725Z"
   },
   {
    "duration": 7,
    "start_time": "2021-12-06T16:39:08.731Z"
   },
   {
    "duration": 11,
    "start_time": "2021-12-06T16:39:08.740Z"
   },
   {
    "duration": 10,
    "start_time": "2021-12-06T16:39:08.753Z"
   },
   {
    "duration": 30,
    "start_time": "2021-12-06T16:39:08.765Z"
   },
   {
    "duration": 8,
    "start_time": "2021-12-06T16:39:08.797Z"
   },
   {
    "duration": 5,
    "start_time": "2021-12-06T16:39:08.807Z"
   },
   {
    "duration": 22,
    "start_time": "2021-12-06T16:39:08.813Z"
   },
   {
    "duration": 8,
    "start_time": "2021-12-06T16:39:08.837Z"
   },
   {
    "duration": 3,
    "start_time": "2021-12-06T16:39:08.847Z"
   },
   {
    "duration": 41,
    "start_time": "2021-12-06T16:39:08.852Z"
   },
   {
    "duration": 20,
    "start_time": "2021-12-06T16:39:08.894Z"
   },
   {
    "duration": 12,
    "start_time": "2021-12-06T16:39:08.916Z"
   },
   {
    "duration": 19,
    "start_time": "2021-12-06T16:39:08.929Z"
   },
   {
    "duration": 7,
    "start_time": "2021-12-06T16:39:08.950Z"
   },
   {
    "duration": 50,
    "start_time": "2021-12-06T16:39:08.959Z"
   },
   {
    "duration": 4,
    "start_time": "2021-12-06T16:39:09.011Z"
   },
   {
    "duration": 5,
    "start_time": "2021-12-06T16:39:09.017Z"
   },
   {
    "duration": 20,
    "start_time": "2021-12-06T16:39:09.023Z"
   },
   {
    "duration": 427,
    "start_time": "2021-12-06T16:39:09.045Z"
   },
   {
    "duration": 493,
    "start_time": "2021-12-06T16:39:09.474Z"
   },
   {
    "duration": 273,
    "start_time": "2021-12-06T16:39:09.969Z"
   },
   {
    "duration": 420,
    "start_time": "2021-12-06T16:39:10.244Z"
   },
   {
    "duration": 444,
    "start_time": "2021-12-06T16:39:10.666Z"
   },
   {
    "duration": 4,
    "start_time": "2021-12-06T16:39:11.112Z"
   },
   {
    "duration": 7,
    "start_time": "2021-12-06T16:39:11.118Z"
   },
   {
    "duration": 9,
    "start_time": "2021-12-06T16:39:11.126Z"
   },
   {
    "duration": 20,
    "start_time": "2021-12-06T16:39:11.136Z"
   },
   {
    "duration": 34,
    "start_time": "2021-12-06T16:39:11.157Z"
   },
   {
    "duration": 5,
    "start_time": "2021-12-06T16:39:11.193Z"
   },
   {
    "duration": 5,
    "start_time": "2021-12-06T16:39:11.200Z"
   },
   {
    "duration": 11,
    "start_time": "2021-12-06T16:39:11.207Z"
   },
   {
    "duration": 582,
    "start_time": "2021-12-06T18:05:07.638Z"
   },
   {
    "duration": 31,
    "start_time": "2021-12-06T18:05:08.222Z"
   },
   {
    "duration": 10,
    "start_time": "2021-12-06T18:05:08.255Z"
   },
   {
    "duration": 27,
    "start_time": "2021-12-06T18:05:08.267Z"
   },
   {
    "duration": 4,
    "start_time": "2021-12-06T18:05:08.296Z"
   },
   {
    "duration": 11,
    "start_time": "2021-12-06T18:05:08.301Z"
   },
   {
    "duration": 7,
    "start_time": "2021-12-06T18:05:08.314Z"
   },
   {
    "duration": 7,
    "start_time": "2021-12-06T18:05:08.323Z"
   },
   {
    "duration": 6,
    "start_time": "2021-12-06T18:05:08.332Z"
   },
   {
    "duration": 16,
    "start_time": "2021-12-06T18:05:08.340Z"
   },
   {
    "duration": 44,
    "start_time": "2021-12-06T18:05:08.358Z"
   },
   {
    "duration": 8,
    "start_time": "2021-12-06T18:05:08.403Z"
   },
   {
    "duration": 12,
    "start_time": "2021-12-06T18:05:08.412Z"
   },
   {
    "duration": 24,
    "start_time": "2021-12-06T18:05:08.426Z"
   },
   {
    "duration": 8,
    "start_time": "2021-12-06T18:05:08.452Z"
   },
   {
    "duration": 29,
    "start_time": "2021-12-06T18:05:08.462Z"
   },
   {
    "duration": 13,
    "start_time": "2021-12-06T18:05:08.493Z"
   },
   {
    "duration": 13,
    "start_time": "2021-12-06T18:05:08.507Z"
   },
   {
    "duration": 9,
    "start_time": "2021-12-06T18:05:08.521Z"
   },
   {
    "duration": 12,
    "start_time": "2021-12-06T18:05:08.531Z"
   },
   {
    "duration": 18,
    "start_time": "2021-12-06T18:05:08.545Z"
   },
   {
    "duration": 28,
    "start_time": "2021-12-06T18:05:08.565Z"
   },
   {
    "duration": 10,
    "start_time": "2021-12-06T18:05:08.594Z"
   },
   {
    "duration": 13,
    "start_time": "2021-12-06T18:05:08.605Z"
   },
   {
    "duration": 18,
    "start_time": "2021-12-06T18:05:08.619Z"
   },
   {
    "duration": 16,
    "start_time": "2021-12-06T18:05:08.638Z"
   },
   {
    "duration": 7,
    "start_time": "2021-12-06T18:05:08.657Z"
   },
   {
    "duration": 11,
    "start_time": "2021-12-06T18:05:08.666Z"
   },
   {
    "duration": 14,
    "start_time": "2021-12-06T18:05:08.678Z"
   },
   {
    "duration": 28,
    "start_time": "2021-12-06T18:05:08.694Z"
   },
   {
    "duration": 14,
    "start_time": "2021-12-06T18:05:08.723Z"
   },
   {
    "duration": 8,
    "start_time": "2021-12-06T18:05:08.738Z"
   },
   {
    "duration": 10,
    "start_time": "2021-12-06T18:05:08.748Z"
   },
   {
    "duration": 28,
    "start_time": "2021-12-06T18:05:08.759Z"
   },
   {
    "duration": 11,
    "start_time": "2021-12-06T18:05:08.789Z"
   },
   {
    "duration": 19,
    "start_time": "2021-12-06T18:05:08.801Z"
   },
   {
    "duration": 8,
    "start_time": "2021-12-06T18:05:08.822Z"
   },
   {
    "duration": 21,
    "start_time": "2021-12-06T18:05:08.832Z"
   },
   {
    "duration": 4,
    "start_time": "2021-12-06T18:05:08.854Z"
   },
   {
    "duration": 34,
    "start_time": "2021-12-06T18:05:08.860Z"
   },
   {
    "duration": 22,
    "start_time": "2021-12-06T18:05:08.895Z"
   },
   {
    "duration": 410,
    "start_time": "2021-12-06T18:05:08.919Z"
   },
   {
    "duration": 485,
    "start_time": "2021-12-06T18:05:09.331Z"
   },
   {
    "duration": 275,
    "start_time": "2021-12-06T18:05:09.819Z"
   },
   {
    "duration": 434,
    "start_time": "2021-12-06T18:05:10.096Z"
   },
   {
    "duration": 436,
    "start_time": "2021-12-06T18:05:10.531Z"
   },
   {
    "duration": 4,
    "start_time": "2021-12-06T18:05:10.969Z"
   },
   {
    "duration": 19,
    "start_time": "2021-12-06T18:05:10.975Z"
   },
   {
    "duration": 27,
    "start_time": "2021-12-06T18:05:10.995Z"
   },
   {
    "duration": 24,
    "start_time": "2021-12-06T18:05:11.023Z"
   },
   {
    "duration": 5,
    "start_time": "2021-12-06T18:05:11.048Z"
   },
   {
    "duration": 18,
    "start_time": "2021-12-06T18:05:11.054Z"
   },
   {
    "duration": 9,
    "start_time": "2021-12-06T18:05:11.073Z"
   },
   {
    "duration": 21,
    "start_time": "2021-12-06T18:05:11.084Z"
   },
   {
    "duration": 186,
    "start_time": "2021-12-06T18:05:11.107Z"
   },
   {
    "duration": 4,
    "start_time": "2021-12-06T18:05:11.295Z"
   },
   {
    "duration": 12,
    "start_time": "2021-12-06T18:05:11.301Z"
   },
   {
    "duration": 8,
    "start_time": "2021-12-06T18:05:11.315Z"
   },
   {
    "duration": 671,
    "start_time": "2021-12-07T05:25:37.925Z"
   },
   {
    "duration": 30,
    "start_time": "2021-12-07T05:25:38.598Z"
   },
   {
    "duration": 22,
    "start_time": "2021-12-07T05:25:38.630Z"
   },
   {
    "duration": 7,
    "start_time": "2021-12-07T05:25:38.654Z"
   },
   {
    "duration": 4,
    "start_time": "2021-12-07T05:25:38.663Z"
   },
   {
    "duration": 28,
    "start_time": "2021-12-07T05:25:38.669Z"
   },
   {
    "duration": 8,
    "start_time": "2021-12-07T05:25:38.699Z"
   },
   {
    "duration": 7,
    "start_time": "2021-12-07T05:25:38.708Z"
   },
   {
    "duration": 31,
    "start_time": "2021-12-07T05:25:38.717Z"
   },
   {
    "duration": 15,
    "start_time": "2021-12-07T05:25:38.751Z"
   },
   {
    "duration": 17,
    "start_time": "2021-12-07T05:25:38.768Z"
   },
   {
    "duration": 8,
    "start_time": "2021-12-07T05:25:38.787Z"
   },
   {
    "duration": 3,
    "start_time": "2021-12-07T05:25:38.797Z"
   },
   {
    "duration": 58,
    "start_time": "2021-12-07T05:25:38.802Z"
   },
   {
    "duration": 8,
    "start_time": "2021-12-07T05:25:38.862Z"
   },
   {
    "duration": 6,
    "start_time": "2021-12-07T05:25:38.872Z"
   },
   {
    "duration": 14,
    "start_time": "2021-12-07T05:25:38.880Z"
   },
   {
    "duration": 56,
    "start_time": "2021-12-07T05:25:38.896Z"
   },
   {
    "duration": 8,
    "start_time": "2021-12-07T05:25:38.955Z"
   },
   {
    "duration": 13,
    "start_time": "2021-12-07T05:25:38.965Z"
   },
   {
    "duration": 21,
    "start_time": "2021-12-07T05:25:38.980Z"
   },
   {
    "duration": 41,
    "start_time": "2021-12-07T05:25:39.003Z"
   },
   {
    "duration": 4,
    "start_time": "2021-12-07T05:25:39.046Z"
   },
   {
    "duration": 5,
    "start_time": "2021-12-07T05:25:39.051Z"
   },
   {
    "duration": 7,
    "start_time": "2021-12-07T05:25:39.057Z"
   },
   {
    "duration": 6,
    "start_time": "2021-12-07T05:25:39.065Z"
   },
   {
    "duration": 5,
    "start_time": "2021-12-07T05:25:39.075Z"
   },
   {
    "duration": 7,
    "start_time": "2021-12-07T05:25:39.082Z"
   },
   {
    "duration": 5,
    "start_time": "2021-12-07T05:25:39.090Z"
   },
   {
    "duration": 63,
    "start_time": "2021-12-07T05:25:39.096Z"
   },
   {
    "duration": 9,
    "start_time": "2021-12-07T05:25:39.161Z"
   },
   {
    "duration": 3,
    "start_time": "2021-12-07T05:25:39.171Z"
   },
   {
    "duration": 4,
    "start_time": "2021-12-07T05:25:39.176Z"
   },
   {
    "duration": 21,
    "start_time": "2021-12-07T05:25:39.181Z"
   },
   {
    "duration": 44,
    "start_time": "2021-12-07T05:25:39.204Z"
   },
   {
    "duration": 18,
    "start_time": "2021-12-07T05:25:39.249Z"
   },
   {
    "duration": 7,
    "start_time": "2021-12-07T05:25:39.268Z"
   },
   {
    "duration": 20,
    "start_time": "2021-12-07T05:25:39.277Z"
   },
   {
    "duration": 3,
    "start_time": "2021-12-07T05:25:39.299Z"
   },
   {
    "duration": 5,
    "start_time": "2021-12-07T05:25:39.303Z"
   },
   {
    "duration": 19,
    "start_time": "2021-12-07T05:25:39.345Z"
   },
   {
    "duration": 448,
    "start_time": "2021-12-07T05:25:39.366Z"
   },
   {
    "duration": 440,
    "start_time": "2021-12-07T05:25:39.815Z"
   },
   {
    "duration": 243,
    "start_time": "2021-12-07T05:25:40.256Z"
   },
   {
    "duration": 379,
    "start_time": "2021-12-07T05:25:40.501Z"
   },
   {
    "duration": 410,
    "start_time": "2021-12-07T05:25:40.882Z"
   },
   {
    "duration": 4,
    "start_time": "2021-12-07T05:25:41.293Z"
   },
   {
    "duration": 5,
    "start_time": "2021-12-07T05:25:41.299Z"
   },
   {
    "duration": 18,
    "start_time": "2021-12-07T05:25:41.306Z"
   },
   {
    "duration": 31,
    "start_time": "2021-12-07T05:25:41.326Z"
   },
   {
    "duration": 9,
    "start_time": "2021-12-07T05:25:41.359Z"
   },
   {
    "duration": 13,
    "start_time": "2021-12-07T05:25:41.369Z"
   },
   {
    "duration": 17,
    "start_time": "2021-12-07T05:25:41.384Z"
   },
   {
    "duration": 11,
    "start_time": "2021-12-07T05:25:41.402Z"
   },
   {
    "duration": 193,
    "start_time": "2021-12-07T05:25:41.414Z"
   },
   {
    "duration": 5,
    "start_time": "2021-12-07T05:25:41.609Z"
   },
   {
    "duration": 11,
    "start_time": "2021-12-07T05:25:41.616Z"
   },
   {
    "duration": 4,
    "start_time": "2021-12-07T05:25:41.645Z"
   },
   {
    "duration": 15,
    "start_time": "2021-12-07T05:35:57.958Z"
   },
   {
    "duration": 342,
    "start_time": "2021-12-07T05:38:33.235Z"
   },
   {
    "duration": 269,
    "start_time": "2021-12-07T05:38:46.535Z"
   },
   {
    "duration": 8,
    "start_time": "2021-12-07T05:38:58.915Z"
   },
   {
    "duration": 13,
    "start_time": "2021-12-07T05:39:58.823Z"
   },
   {
    "duration": 7,
    "start_time": "2021-12-07T05:44:17.280Z"
   },
   {
    "duration": 8,
    "start_time": "2021-12-07T05:44:47.760Z"
   },
   {
    "duration": 8,
    "start_time": "2021-12-07T05:44:58.640Z"
   },
   {
    "duration": 29,
    "start_time": "2021-12-07T07:08:14.332Z"
   },
   {
    "duration": 8,
    "start_time": "2021-12-07T07:09:43.193Z"
   },
   {
    "duration": 299,
    "start_time": "2021-12-07T07:40:49.266Z"
   },
   {
    "duration": 21,
    "start_time": "2021-12-07T07:42:00.162Z"
   },
   {
    "duration": 22,
    "start_time": "2021-12-07T07:47:54.974Z"
   },
   {
    "duration": 17,
    "start_time": "2021-12-07T08:06:01.483Z"
   },
   {
    "duration": 10,
    "start_time": "2021-12-07T08:06:26.862Z"
   },
   {
    "duration": 9,
    "start_time": "2021-12-07T08:23:14.185Z"
   },
   {
    "duration": 5,
    "start_time": "2021-12-07T08:25:26.991Z"
   },
   {
    "duration": 7396,
    "start_time": "2021-12-07T08:40:14.257Z"
   },
   {
    "duration": 284,
    "start_time": "2021-12-07T08:40:36.197Z"
   },
   {
    "duration": 5,
    "start_time": "2021-12-07T08:43:23.488Z"
   },
   {
    "duration": 679,
    "start_time": "2021-12-07T08:47:11.963Z"
   },
   {
    "duration": 32,
    "start_time": "2021-12-07T08:47:12.644Z"
   },
   {
    "duration": 21,
    "start_time": "2021-12-07T08:47:12.678Z"
   },
   {
    "duration": 13,
    "start_time": "2021-12-07T08:47:12.701Z"
   },
   {
    "duration": 19,
    "start_time": "2021-12-07T08:47:12.715Z"
   },
   {
    "duration": 20,
    "start_time": "2021-12-07T08:47:12.736Z"
   },
   {
    "duration": 15,
    "start_time": "2021-12-07T08:47:12.758Z"
   },
   {
    "duration": 22,
    "start_time": "2021-12-07T08:47:12.775Z"
   },
   {
    "duration": 5,
    "start_time": "2021-12-07T08:47:12.800Z"
   },
   {
    "duration": 14,
    "start_time": "2021-12-07T08:47:12.807Z"
   },
   {
    "duration": 33,
    "start_time": "2021-12-07T08:47:12.823Z"
   },
   {
    "duration": 10,
    "start_time": "2021-12-07T08:47:12.858Z"
   },
   {
    "duration": 6,
    "start_time": "2021-12-07T08:47:12.870Z"
   },
   {
    "duration": 21,
    "start_time": "2021-12-07T08:47:12.879Z"
   },
   {
    "duration": 47,
    "start_time": "2021-12-07T08:47:12.901Z"
   },
   {
    "duration": 8,
    "start_time": "2021-12-07T08:47:12.950Z"
   },
   {
    "duration": 14,
    "start_time": "2021-12-07T08:47:12.959Z"
   },
   {
    "duration": 13,
    "start_time": "2021-12-07T08:47:12.975Z"
   },
   {
    "duration": 8,
    "start_time": "2021-12-07T08:47:12.989Z"
   },
   {
    "duration": 54,
    "start_time": "2021-12-07T08:47:12.999Z"
   },
   {
    "duration": 21,
    "start_time": "2021-12-07T08:47:13.055Z"
   },
   {
    "duration": 4,
    "start_time": "2021-12-07T08:47:13.078Z"
   },
   {
    "duration": 5,
    "start_time": "2021-12-07T08:47:13.083Z"
   },
   {
    "duration": 6,
    "start_time": "2021-12-07T08:47:13.090Z"
   },
   {
    "duration": 48,
    "start_time": "2021-12-07T08:47:13.097Z"
   },
   {
    "duration": 13,
    "start_time": "2021-12-07T08:47:13.147Z"
   },
   {
    "duration": 7,
    "start_time": "2021-12-07T08:47:13.164Z"
   },
   {
    "duration": 9,
    "start_time": "2021-12-07T08:47:13.173Z"
   },
   {
    "duration": 7,
    "start_time": "2021-12-07T08:47:13.184Z"
   },
   {
    "duration": 57,
    "start_time": "2021-12-07T08:47:13.193Z"
   },
   {
    "duration": 10,
    "start_time": "2021-12-07T08:47:13.252Z"
   },
   {
    "duration": 4,
    "start_time": "2021-12-07T08:47:13.264Z"
   },
   {
    "duration": 16,
    "start_time": "2021-12-07T08:47:13.269Z"
   },
   {
    "duration": 20,
    "start_time": "2021-12-07T08:47:13.287Z"
   },
   {
    "duration": 38,
    "start_time": "2021-12-07T08:47:13.309Z"
   },
   {
    "duration": 19,
    "start_time": "2021-12-07T08:47:13.349Z"
   },
   {
    "duration": 8,
    "start_time": "2021-12-07T08:47:13.370Z"
   },
   {
    "duration": 24,
    "start_time": "2021-12-07T08:47:13.380Z"
   },
   {
    "duration": 40,
    "start_time": "2021-12-07T08:47:13.405Z"
   },
   {
    "duration": 5,
    "start_time": "2021-12-07T08:47:13.447Z"
   },
   {
    "duration": 23,
    "start_time": "2021-12-07T08:47:13.454Z"
   },
   {
    "duration": 410,
    "start_time": "2021-12-07T08:47:13.478Z"
   },
   {
    "duration": 488,
    "start_time": "2021-12-07T08:47:13.890Z"
   },
   {
    "duration": 273,
    "start_time": "2021-12-07T08:47:14.381Z"
   },
   {
    "duration": 427,
    "start_time": "2021-12-07T08:47:14.656Z"
   },
   {
    "duration": 437,
    "start_time": "2021-12-07T08:47:15.085Z"
   },
   {
    "duration": 5,
    "start_time": "2021-12-07T08:47:15.523Z"
   },
   {
    "duration": 35,
    "start_time": "2021-12-07T08:47:15.529Z"
   },
   {
    "duration": 23,
    "start_time": "2021-12-07T08:47:15.566Z"
   },
   {
    "duration": 37,
    "start_time": "2021-12-07T08:47:15.591Z"
   },
   {
    "duration": 14,
    "start_time": "2021-12-07T08:47:15.630Z"
   },
   {
    "duration": 40,
    "start_time": "2021-12-07T08:47:15.646Z"
   },
   {
    "duration": 32,
    "start_time": "2021-12-07T08:47:15.687Z"
   },
   {
    "duration": 196,
    "start_time": "2021-12-07T08:47:15.721Z"
   },
   {
    "duration": 5,
    "start_time": "2021-12-07T08:47:15.918Z"
   },
   {
    "duration": 22,
    "start_time": "2021-12-07T08:47:15.925Z"
   },
   {
    "duration": 29,
    "start_time": "2021-12-07T08:47:15.948Z"
   },
   {
    "duration": 35,
    "start_time": "2021-12-07T08:47:15.979Z"
   },
   {
    "duration": 41,
    "start_time": "2021-12-07T08:47:16.015Z"
   },
   {
    "duration": 18,
    "start_time": "2021-12-07T08:47:16.058Z"
   },
   {
    "duration": 678,
    "start_time": "2021-12-07T08:49:19.953Z"
   },
   {
    "duration": 34,
    "start_time": "2021-12-07T08:49:20.633Z"
   },
   {
    "duration": 11,
    "start_time": "2021-12-07T08:49:20.669Z"
   },
   {
    "duration": 7,
    "start_time": "2021-12-07T08:49:20.682Z"
   },
   {
    "duration": 4,
    "start_time": "2021-12-07T08:49:20.691Z"
   },
   {
    "duration": 12,
    "start_time": "2021-12-07T08:49:20.697Z"
   },
   {
    "duration": 10,
    "start_time": "2021-12-07T08:49:20.745Z"
   },
   {
    "duration": 8,
    "start_time": "2021-12-07T08:49:20.758Z"
   },
   {
    "duration": 7,
    "start_time": "2021-12-07T08:49:20.768Z"
   },
   {
    "duration": 21,
    "start_time": "2021-12-07T08:49:20.777Z"
   },
   {
    "duration": 52,
    "start_time": "2021-12-07T08:49:20.800Z"
   },
   {
    "duration": 8,
    "start_time": "2021-12-07T08:49:20.854Z"
   },
   {
    "duration": 5,
    "start_time": "2021-12-07T08:49:20.864Z"
   },
   {
    "duration": 20,
    "start_time": "2021-12-07T08:49:20.871Z"
   },
   {
    "duration": 9,
    "start_time": "2021-12-07T08:49:20.893Z"
   },
   {
    "duration": 47,
    "start_time": "2021-12-07T08:49:20.904Z"
   },
   {
    "duration": 14,
    "start_time": "2021-12-07T08:49:20.952Z"
   },
   {
    "duration": 14,
    "start_time": "2021-12-07T08:49:20.968Z"
   },
   {
    "duration": 8,
    "start_time": "2021-12-07T08:49:20.984Z"
   },
   {
    "duration": 13,
    "start_time": "2021-12-07T08:49:20.994Z"
   },
   {
    "duration": 55,
    "start_time": "2021-12-07T08:49:21.008Z"
   },
   {
    "duration": 4,
    "start_time": "2021-12-07T08:49:21.065Z"
   },
   {
    "duration": 5,
    "start_time": "2021-12-07T08:49:21.073Z"
   },
   {
    "duration": 5,
    "start_time": "2021-12-07T08:49:21.080Z"
   },
   {
    "duration": 10,
    "start_time": "2021-12-07T08:49:21.087Z"
   },
   {
    "duration": 49,
    "start_time": "2021-12-07T08:49:21.099Z"
   },
   {
    "duration": 8,
    "start_time": "2021-12-07T08:49:21.149Z"
   },
   {
    "duration": 10,
    "start_time": "2021-12-07T08:49:21.159Z"
   },
   {
    "duration": 6,
    "start_time": "2021-12-07T08:49:21.171Z"
   },
   {
    "duration": 21,
    "start_time": "2021-12-07T08:49:21.179Z"
   },
   {
    "duration": 49,
    "start_time": "2021-12-07T08:49:21.202Z"
   },
   {
    "duration": 4,
    "start_time": "2021-12-07T08:49:21.252Z"
   },
   {
    "duration": 5,
    "start_time": "2021-12-07T08:49:21.258Z"
   },
   {
    "duration": 21,
    "start_time": "2021-12-07T08:49:21.265Z"
   },
   {
    "duration": 12,
    "start_time": "2021-12-07T08:49:21.288Z"
   },
   {
    "duration": 53,
    "start_time": "2021-12-07T08:49:21.302Z"
   },
   {
    "duration": 7,
    "start_time": "2021-12-07T08:49:21.357Z"
   },
   {
    "duration": 31,
    "start_time": "2021-12-07T08:49:21.366Z"
   },
   {
    "duration": 4,
    "start_time": "2021-12-07T08:49:21.399Z"
   },
   {
    "duration": 7,
    "start_time": "2021-12-07T08:49:21.405Z"
   },
   {
    "duration": 55,
    "start_time": "2021-12-07T08:49:21.413Z"
   },
   {
    "duration": 404,
    "start_time": "2021-12-07T08:49:21.470Z"
   },
   {
    "duration": 485,
    "start_time": "2021-12-07T08:49:21.876Z"
   },
   {
    "duration": 267,
    "start_time": "2021-12-07T08:49:22.363Z"
   },
   {
    "duration": 422,
    "start_time": "2021-12-07T08:49:22.633Z"
   },
   {
    "duration": 439,
    "start_time": "2021-12-07T08:49:23.057Z"
   },
   {
    "duration": 5,
    "start_time": "2021-12-07T08:49:23.498Z"
   },
   {
    "duration": 6,
    "start_time": "2021-12-07T08:49:23.506Z"
   },
   {
    "duration": 37,
    "start_time": "2021-12-07T08:49:23.514Z"
   },
   {
    "duration": 23,
    "start_time": "2021-12-07T08:49:23.554Z"
   },
   {
    "duration": 7,
    "start_time": "2021-12-07T08:49:23.578Z"
   },
   {
    "duration": 6,
    "start_time": "2021-12-07T08:49:23.587Z"
   },
   {
    "duration": 51,
    "start_time": "2021-12-07T08:49:23.595Z"
   },
   {
    "duration": 225,
    "start_time": "2021-12-07T08:49:23.648Z"
   },
   {
    "duration": 5,
    "start_time": "2021-12-07T08:49:23.875Z"
   },
   {
    "duration": 6,
    "start_time": "2021-12-07T08:49:23.882Z"
   },
   {
    "duration": 5,
    "start_time": "2021-12-07T08:49:23.889Z"
   },
   {
    "duration": 9,
    "start_time": "2021-12-07T08:49:23.896Z"
   },
   {
    "duration": 55,
    "start_time": "2021-12-07T08:49:23.907Z"
   },
   {
    "duration": 8,
    "start_time": "2021-12-07T08:49:23.963Z"
   },
   {
    "duration": 668,
    "start_time": "2021-12-07T08:49:57.673Z"
   },
   {
    "duration": 31,
    "start_time": "2021-12-07T08:49:58.343Z"
   },
   {
    "duration": 10,
    "start_time": "2021-12-07T08:49:58.377Z"
   },
   {
    "duration": 7,
    "start_time": "2021-12-07T08:49:58.389Z"
   },
   {
    "duration": 11,
    "start_time": "2021-12-07T08:49:58.398Z"
   },
   {
    "duration": 39,
    "start_time": "2021-12-07T08:49:58.410Z"
   },
   {
    "duration": 8,
    "start_time": "2021-12-07T08:49:58.451Z"
   },
   {
    "duration": 8,
    "start_time": "2021-12-07T08:49:58.461Z"
   },
   {
    "duration": 6,
    "start_time": "2021-12-07T08:49:58.471Z"
   },
   {
    "duration": 16,
    "start_time": "2021-12-07T08:49:58.479Z"
   },
   {
    "duration": 58,
    "start_time": "2021-12-07T08:49:58.497Z"
   },
   {
    "duration": 8,
    "start_time": "2021-12-07T08:49:58.557Z"
   },
   {
    "duration": 5,
    "start_time": "2021-12-07T08:49:58.566Z"
   },
   {
    "duration": 20,
    "start_time": "2021-12-07T08:49:58.572Z"
   },
   {
    "duration": 8,
    "start_time": "2021-12-07T08:49:58.594Z"
   },
   {
    "duration": 48,
    "start_time": "2021-12-07T08:49:58.604Z"
   },
   {
    "duration": 16,
    "start_time": "2021-12-07T08:49:58.654Z"
   },
   {
    "duration": 14,
    "start_time": "2021-12-07T08:49:58.671Z"
   },
   {
    "duration": 9,
    "start_time": "2021-12-07T08:49:58.686Z"
   },
   {
    "duration": 12,
    "start_time": "2021-12-07T08:49:58.697Z"
   },
   {
    "duration": 20,
    "start_time": "2021-12-07T08:49:58.744Z"
   },
   {
    "duration": 4,
    "start_time": "2021-12-07T08:49:58.766Z"
   },
   {
    "duration": 5,
    "start_time": "2021-12-07T08:49:58.774Z"
   },
   {
    "duration": 5,
    "start_time": "2021-12-07T08:49:58.781Z"
   },
   {
    "duration": 7,
    "start_time": "2021-12-07T08:49:58.787Z"
   },
   {
    "duration": 57,
    "start_time": "2021-12-07T08:49:58.796Z"
   },
   {
    "duration": 5,
    "start_time": "2021-12-07T08:49:58.855Z"
   },
   {
    "duration": 9,
    "start_time": "2021-12-07T08:49:58.862Z"
   },
   {
    "duration": 6,
    "start_time": "2021-12-07T08:49:58.873Z"
   },
   {
    "duration": 20,
    "start_time": "2021-12-07T08:49:58.881Z"
   },
   {
    "duration": 47,
    "start_time": "2021-12-07T08:49:58.903Z"
   },
   {
    "duration": 4,
    "start_time": "2021-12-07T08:49:58.952Z"
   },
   {
    "duration": 7,
    "start_time": "2021-12-07T08:49:58.957Z"
   },
   {
    "duration": 20,
    "start_time": "2021-12-07T08:49:58.966Z"
   },
   {
    "duration": 13,
    "start_time": "2021-12-07T08:49:58.987Z"
   },
   {
    "duration": 52,
    "start_time": "2021-12-07T08:49:59.002Z"
   },
   {
    "duration": 8,
    "start_time": "2021-12-07T08:49:59.056Z"
   },
   {
    "duration": 31,
    "start_time": "2021-12-07T08:49:59.066Z"
   },
   {
    "duration": 3,
    "start_time": "2021-12-07T08:49:59.099Z"
   },
   {
    "duration": 6,
    "start_time": "2021-12-07T08:49:59.104Z"
   },
   {
    "duration": 43,
    "start_time": "2021-12-07T08:49:59.112Z"
   },
   {
    "duration": 387,
    "start_time": "2021-12-07T08:49:59.157Z"
   },
   {
    "duration": 464,
    "start_time": "2021-12-07T08:49:59.547Z"
   },
   {
    "duration": 260,
    "start_time": "2021-12-07T08:50:00.013Z"
   },
   {
    "duration": 412,
    "start_time": "2021-12-07T08:50:00.275Z"
   },
   {
    "duration": 447,
    "start_time": "2021-12-07T08:50:00.688Z"
   },
   {
    "duration": 10,
    "start_time": "2021-12-07T08:50:01.138Z"
   },
   {
    "duration": 11,
    "start_time": "2021-12-07T08:50:01.150Z"
   },
   {
    "duration": 13,
    "start_time": "2021-12-07T08:50:01.163Z"
   },
   {
    "duration": 34,
    "start_time": "2021-12-07T08:50:01.177Z"
   },
   {
    "duration": 34,
    "start_time": "2021-12-07T08:50:01.213Z"
   },
   {
    "duration": 5,
    "start_time": "2021-12-07T08:50:01.249Z"
   },
   {
    "duration": 23,
    "start_time": "2021-12-07T08:50:01.255Z"
   },
   {
    "duration": 186,
    "start_time": "2021-12-07T08:50:01.280Z"
   },
   {
    "duration": 5,
    "start_time": "2021-12-07T08:50:01.468Z"
   },
   {
    "duration": 15,
    "start_time": "2021-12-07T08:50:01.475Z"
   },
   {
    "duration": 15,
    "start_time": "2021-12-07T08:50:01.492Z"
   },
   {
    "duration": 20,
    "start_time": "2021-12-07T08:50:01.509Z"
   },
   {
    "duration": 27,
    "start_time": "2021-12-07T08:50:01.530Z"
   },
   {
    "duration": 20,
    "start_time": "2021-12-07T08:50:01.559Z"
   },
   {
    "duration": 660,
    "start_time": "2021-12-07T08:52:41.367Z"
   },
   {
    "duration": 32,
    "start_time": "2021-12-07T08:52:42.029Z"
   },
   {
    "duration": 12,
    "start_time": "2021-12-07T08:52:42.064Z"
   },
   {
    "duration": 9,
    "start_time": "2021-12-07T08:52:42.078Z"
   },
   {
    "duration": 4,
    "start_time": "2021-12-07T08:52:42.089Z"
   },
   {
    "duration": 10,
    "start_time": "2021-12-07T08:52:42.095Z"
   },
   {
    "duration": 10,
    "start_time": "2021-12-07T08:52:42.143Z"
   },
   {
    "duration": 8,
    "start_time": "2021-12-07T08:52:42.156Z"
   },
   {
    "duration": 7,
    "start_time": "2021-12-07T08:52:42.167Z"
   },
   {
    "duration": 20,
    "start_time": "2021-12-07T08:52:42.176Z"
   },
   {
    "duration": 52,
    "start_time": "2021-12-07T08:52:42.198Z"
   },
   {
    "duration": 8,
    "start_time": "2021-12-07T08:52:42.252Z"
   },
   {
    "duration": 4,
    "start_time": "2021-12-07T08:52:42.262Z"
   },
   {
    "duration": 18,
    "start_time": "2021-12-07T08:52:42.268Z"
   },
   {
    "duration": 8,
    "start_time": "2021-12-07T08:52:42.288Z"
   },
   {
    "duration": 49,
    "start_time": "2021-12-07T08:52:42.298Z"
   },
   {
    "duration": 14,
    "start_time": "2021-12-07T08:52:42.349Z"
   },
   {
    "duration": 12,
    "start_time": "2021-12-07T08:52:42.365Z"
   },
   {
    "duration": 8,
    "start_time": "2021-12-07T08:52:42.379Z"
   },
   {
    "duration": 10,
    "start_time": "2021-12-07T08:52:42.389Z"
   },
   {
    "duration": 57,
    "start_time": "2021-12-07T08:52:42.401Z"
   },
   {
    "duration": 4,
    "start_time": "2021-12-07T08:52:42.460Z"
   },
   {
    "duration": 13,
    "start_time": "2021-12-07T08:52:42.468Z"
   },
   {
    "duration": 20,
    "start_time": "2021-12-07T08:52:42.483Z"
   },
   {
    "duration": 9,
    "start_time": "2021-12-07T08:52:42.505Z"
   },
   {
    "duration": 30,
    "start_time": "2021-12-07T08:52:42.516Z"
   },
   {
    "duration": 17,
    "start_time": "2021-12-07T08:52:42.548Z"
   },
   {
    "duration": 18,
    "start_time": "2021-12-07T08:52:42.567Z"
   },
   {
    "duration": 15,
    "start_time": "2021-12-07T08:52:42.587Z"
   },
   {
    "duration": 23,
    "start_time": "2021-12-07T08:52:42.604Z"
   },
   {
    "duration": 20,
    "start_time": "2021-12-07T08:52:42.628Z"
   },
   {
    "duration": 3,
    "start_time": "2021-12-07T08:52:42.650Z"
   },
   {
    "duration": 9,
    "start_time": "2021-12-07T08:52:42.655Z"
   },
   {
    "duration": 24,
    "start_time": "2021-12-07T08:52:42.665Z"
   },
   {
    "duration": 13,
    "start_time": "2021-12-07T08:52:42.690Z"
   },
   {
    "duration": 47,
    "start_time": "2021-12-07T08:52:42.705Z"
   },
   {
    "duration": 8,
    "start_time": "2021-12-07T08:52:42.754Z"
   },
   {
    "duration": 34,
    "start_time": "2021-12-07T08:52:42.763Z"
   },
   {
    "duration": 4,
    "start_time": "2021-12-07T08:52:42.799Z"
   },
   {
    "duration": 26,
    "start_time": "2021-12-07T08:52:42.804Z"
   },
   {
    "duration": 42,
    "start_time": "2021-12-07T08:52:42.832Z"
   },
   {
    "duration": 375,
    "start_time": "2021-12-07T08:52:42.876Z"
   },
   {
    "duration": 458,
    "start_time": "2021-12-07T08:52:43.252Z"
   },
   {
    "duration": 263,
    "start_time": "2021-12-07T08:52:43.712Z"
   },
   {
    "duration": 403,
    "start_time": "2021-12-07T08:52:43.976Z"
   },
   {
    "duration": 432,
    "start_time": "2021-12-07T08:52:44.381Z"
   },
   {
    "duration": 4,
    "start_time": "2021-12-07T08:52:44.815Z"
   },
   {
    "duration": 25,
    "start_time": "2021-12-07T08:52:44.820Z"
   },
   {
    "duration": 9,
    "start_time": "2021-12-07T08:52:44.847Z"
   },
   {
    "duration": 20,
    "start_time": "2021-12-07T08:52:44.858Z"
   },
   {
    "duration": 5,
    "start_time": "2021-12-07T08:52:44.880Z"
   },
   {
    "duration": 4,
    "start_time": "2021-12-07T08:52:44.887Z"
   },
   {
    "duration": 5,
    "start_time": "2021-12-07T08:52:44.893Z"
   },
   {
    "duration": 4986,
    "start_time": "2021-12-07T08:52:44.899Z"
   },
   {
    "duration": -3552,
    "start_time": "2021-12-07T08:52:53.439Z"
   },
   {
    "duration": -3558,
    "start_time": "2021-12-07T08:52:53.446Z"
   },
   {
    "duration": -3568,
    "start_time": "2021-12-07T08:52:53.457Z"
   },
   {
    "duration": -3576,
    "start_time": "2021-12-07T08:52:53.466Z"
   },
   {
    "duration": -3582,
    "start_time": "2021-12-07T08:52:53.472Z"
   },
   {
    "duration": -3588,
    "start_time": "2021-12-07T08:52:53.479Z"
   },
   {
    "duration": 806,
    "start_time": "2021-12-07T09:19:12.065Z"
   },
   {
    "duration": 32,
    "start_time": "2021-12-07T09:19:12.873Z"
   },
   {
    "duration": 20,
    "start_time": "2021-12-07T09:19:12.907Z"
   },
   {
    "duration": 21,
    "start_time": "2021-12-07T09:19:12.928Z"
   },
   {
    "duration": 4,
    "start_time": "2021-12-07T09:19:12.950Z"
   },
   {
    "duration": 12,
    "start_time": "2021-12-07T09:19:12.956Z"
   },
   {
    "duration": 10,
    "start_time": "2021-12-07T09:19:12.970Z"
   },
   {
    "duration": 8,
    "start_time": "2021-12-07T09:19:12.982Z"
   },
   {
    "duration": 11,
    "start_time": "2021-12-07T09:19:12.993Z"
   },
   {
    "duration": 44,
    "start_time": "2021-12-07T09:19:13.007Z"
   },
   {
    "duration": 16,
    "start_time": "2021-12-07T09:19:13.053Z"
   },
   {
    "duration": 8,
    "start_time": "2021-12-07T09:19:13.070Z"
   },
   {
    "duration": 5,
    "start_time": "2021-12-07T09:19:13.079Z"
   },
   {
    "duration": 19,
    "start_time": "2021-12-07T09:19:13.085Z"
   },
   {
    "duration": 39,
    "start_time": "2021-12-07T09:19:13.106Z"
   },
   {
    "duration": 10,
    "start_time": "2021-12-07T09:19:13.147Z"
   },
   {
    "duration": 13,
    "start_time": "2021-12-07T09:19:13.158Z"
   },
   {
    "duration": 13,
    "start_time": "2021-12-07T09:19:13.173Z"
   },
   {
    "duration": 8,
    "start_time": "2021-12-07T09:19:13.188Z"
   },
   {
    "duration": 10,
    "start_time": "2021-12-07T09:19:13.198Z"
   },
   {
    "duration": 52,
    "start_time": "2021-12-07T09:19:13.210Z"
   },
   {
    "duration": 4,
    "start_time": "2021-12-07T09:19:13.264Z"
   },
   {
    "duration": 9,
    "start_time": "2021-12-07T09:19:13.269Z"
   },
   {
    "duration": 16,
    "start_time": "2021-12-07T09:19:13.279Z"
   },
   {
    "duration": 8,
    "start_time": "2021-12-07T09:19:13.297Z"
   },
   {
    "duration": 14,
    "start_time": "2021-12-07T09:19:13.306Z"
   },
   {
    "duration": 6,
    "start_time": "2021-12-07T09:19:13.323Z"
   },
   {
    "duration": 8,
    "start_time": "2021-12-07T09:19:13.344Z"
   },
   {
    "duration": 6,
    "start_time": "2021-12-07T09:19:13.353Z"
   },
   {
    "duration": 24,
    "start_time": "2021-12-07T09:19:13.360Z"
   },
   {
    "duration": 9,
    "start_time": "2021-12-07T09:19:13.386Z"
   },
   {
    "duration": 3,
    "start_time": "2021-12-07T09:19:13.397Z"
   },
   {
    "duration": 8,
    "start_time": "2021-12-07T09:19:13.402Z"
   },
   {
    "duration": 46,
    "start_time": "2021-12-07T09:19:13.412Z"
   },
   {
    "duration": 12,
    "start_time": "2021-12-07T09:19:13.460Z"
   },
   {
    "duration": 18,
    "start_time": "2021-12-07T09:19:13.473Z"
   },
   {
    "duration": 8,
    "start_time": "2021-12-07T09:19:13.493Z"
   },
   {
    "duration": 48,
    "start_time": "2021-12-07T09:19:13.502Z"
   },
   {
    "duration": 3,
    "start_time": "2021-12-07T09:19:13.552Z"
   },
   {
    "duration": 7,
    "start_time": "2021-12-07T09:19:13.557Z"
   },
   {
    "duration": 21,
    "start_time": "2021-12-07T09:19:13.565Z"
   },
   {
    "duration": 398,
    "start_time": "2021-12-07T09:19:13.588Z"
   },
   {
    "duration": 572,
    "start_time": "2021-12-07T09:19:13.988Z"
   },
   {
    "duration": 248,
    "start_time": "2021-12-07T09:19:14.562Z"
   },
   {
    "duration": 389,
    "start_time": "2021-12-07T09:19:14.813Z"
   },
   {
    "duration": 407,
    "start_time": "2021-12-07T09:19:15.204Z"
   },
   {
    "duration": 5,
    "start_time": "2021-12-07T09:19:15.613Z"
   },
   {
    "duration": 8,
    "start_time": "2021-12-07T09:19:15.619Z"
   },
   {
    "duration": 22,
    "start_time": "2021-12-07T09:19:15.629Z"
   },
   {
    "duration": 21,
    "start_time": "2021-12-07T09:19:15.653Z"
   },
   {
    "duration": 5,
    "start_time": "2021-12-07T09:19:15.676Z"
   },
   {
    "duration": 8,
    "start_time": "2021-12-07T09:19:15.683Z"
   },
   {
    "duration": 5,
    "start_time": "2021-12-07T09:19:15.692Z"
   },
   {
    "duration": 201,
    "start_time": "2021-12-07T09:19:15.699Z"
   },
   {
    "duration": 5,
    "start_time": "2021-12-07T09:19:15.902Z"
   },
   {
    "duration": 7,
    "start_time": "2021-12-07T09:19:15.908Z"
   },
   {
    "duration": 8,
    "start_time": "2021-12-07T09:19:15.916Z"
   },
   {
    "duration": 24,
    "start_time": "2021-12-07T09:19:15.925Z"
   },
   {
    "duration": 21,
    "start_time": "2021-12-07T09:19:15.951Z"
   },
   {
    "duration": 6,
    "start_time": "2021-12-07T09:19:15.974Z"
   },
   {
    "duration": 5,
    "start_time": "2021-12-07T11:22:33.372Z"
   },
   {
    "duration": 308,
    "start_time": "2021-12-07T12:52:04.354Z"
   },
   {
    "duration": 690,
    "start_time": "2021-12-07T12:52:17.828Z"
   },
   {
    "duration": 28,
    "start_time": "2021-12-07T12:52:18.520Z"
   },
   {
    "duration": 28,
    "start_time": "2021-12-07T12:52:18.550Z"
   },
   {
    "duration": 14,
    "start_time": "2021-12-07T12:52:18.580Z"
   },
   {
    "duration": 5,
    "start_time": "2021-12-07T12:52:18.596Z"
   },
   {
    "duration": 22,
    "start_time": "2021-12-07T12:52:18.603Z"
   },
   {
    "duration": 22,
    "start_time": "2021-12-07T12:52:18.627Z"
   },
   {
    "duration": 14,
    "start_time": "2021-12-07T12:52:18.651Z"
   },
   {
    "duration": 6,
    "start_time": "2021-12-07T12:52:18.669Z"
   },
   {
    "duration": 20,
    "start_time": "2021-12-07T12:52:18.677Z"
   },
   {
    "duration": 19,
    "start_time": "2021-12-07T12:52:18.699Z"
   },
   {
    "duration": 7,
    "start_time": "2021-12-07T12:52:18.720Z"
   },
   {
    "duration": 28,
    "start_time": "2021-12-07T12:52:18.729Z"
   },
   {
    "duration": 31,
    "start_time": "2021-12-07T12:52:18.759Z"
   },
   {
    "duration": 24,
    "start_time": "2021-12-07T12:52:18.792Z"
   },
   {
    "duration": 34,
    "start_time": "2021-12-07T12:52:18.818Z"
   },
   {
    "duration": 20,
    "start_time": "2021-12-07T12:52:18.854Z"
   },
   {
    "duration": 20,
    "start_time": "2021-12-07T12:52:18.875Z"
   },
   {
    "duration": 9,
    "start_time": "2021-12-07T12:52:18.897Z"
   },
   {
    "duration": 24,
    "start_time": "2021-12-07T12:52:18.907Z"
   },
   {
    "duration": 36,
    "start_time": "2021-12-07T12:52:18.933Z"
   },
   {
    "duration": 4,
    "start_time": "2021-12-07T12:52:18.970Z"
   },
   {
    "duration": 16,
    "start_time": "2021-12-07T12:52:18.976Z"
   },
   {
    "duration": 20,
    "start_time": "2021-12-07T12:52:18.994Z"
   },
   {
    "duration": 13,
    "start_time": "2021-12-07T12:52:19.015Z"
   },
   {
    "duration": 28,
    "start_time": "2021-12-07T12:52:19.030Z"
   },
   {
    "duration": 19,
    "start_time": "2021-12-07T12:52:19.062Z"
   },
   {
    "duration": 24,
    "start_time": "2021-12-07T12:52:19.083Z"
   },
   {
    "duration": 35,
    "start_time": "2021-12-07T12:52:19.109Z"
   },
   {
    "duration": 27,
    "start_time": "2021-12-07T12:52:19.146Z"
   },
   {
    "duration": 12,
    "start_time": "2021-12-07T12:52:19.175Z"
   },
   {
    "duration": 24,
    "start_time": "2021-12-07T12:52:19.188Z"
   },
   {
    "duration": 6,
    "start_time": "2021-12-07T12:52:19.214Z"
   },
   {
    "duration": 27,
    "start_time": "2021-12-07T12:52:19.221Z"
   },
   {
    "duration": 12,
    "start_time": "2021-12-07T12:52:19.249Z"
   },
   {
    "duration": 31,
    "start_time": "2021-12-07T12:52:19.263Z"
   },
   {
    "duration": 8,
    "start_time": "2021-12-07T12:52:19.295Z"
   },
   {
    "duration": 34,
    "start_time": "2021-12-07T12:52:19.305Z"
   },
   {
    "duration": 6,
    "start_time": "2021-12-07T12:52:19.341Z"
   },
   {
    "duration": 13,
    "start_time": "2021-12-07T12:52:19.348Z"
   },
   {
    "duration": 48,
    "start_time": "2021-12-07T12:52:19.363Z"
   },
   {
    "duration": 433,
    "start_time": "2021-12-07T12:52:19.413Z"
   },
   {
    "duration": 458,
    "start_time": "2021-12-07T12:52:19.848Z"
   },
   {
    "duration": 254,
    "start_time": "2021-12-07T12:52:20.308Z"
   },
   {
    "duration": 399,
    "start_time": "2021-12-07T12:52:20.564Z"
   },
   {
    "duration": 442,
    "start_time": "2021-12-07T12:52:20.965Z"
   },
   {
    "duration": 4,
    "start_time": "2021-12-07T12:52:21.408Z"
   },
   {
    "duration": 34,
    "start_time": "2021-12-07T12:52:21.414Z"
   },
   {
    "duration": 14,
    "start_time": "2021-12-07T12:52:21.449Z"
   },
   {
    "duration": 31,
    "start_time": "2021-12-07T12:52:21.465Z"
   },
   {
    "duration": 15,
    "start_time": "2021-12-07T12:52:21.498Z"
   },
   {
    "duration": 36,
    "start_time": "2021-12-07T12:52:21.515Z"
   },
   {
    "duration": 23,
    "start_time": "2021-12-07T12:52:21.552Z"
   },
   {
    "duration": 174,
    "start_time": "2021-12-07T12:52:21.577Z"
   },
   {
    "duration": 4,
    "start_time": "2021-12-07T12:52:21.753Z"
   },
   {
    "duration": 20,
    "start_time": "2021-12-07T12:52:21.759Z"
   },
   {
    "duration": 24,
    "start_time": "2021-12-07T12:52:21.780Z"
   },
   {
    "duration": 18,
    "start_time": "2021-12-07T12:52:21.806Z"
   },
   {
    "duration": 41,
    "start_time": "2021-12-07T12:52:21.826Z"
   },
   {
    "duration": 17,
    "start_time": "2021-12-07T12:52:21.869Z"
   },
   {
    "duration": 20,
    "start_time": "2021-12-07T12:52:21.887Z"
   },
   {
    "duration": 3,
    "start_time": "2021-12-07T12:56:43.387Z"
   },
   {
    "duration": 5,
    "start_time": "2021-12-07T12:57:06.867Z"
   },
   {
    "duration": 95,
    "start_time": "2021-12-07T12:57:45.384Z"
   },
   {
    "duration": 328,
    "start_time": "2021-12-07T12:58:52.175Z"
   },
   {
    "duration": 334,
    "start_time": "2021-12-07T13:00:44.552Z"
   },
   {
    "duration": 2,
    "start_time": "2021-12-07T13:20:36.006Z"
   },
   {
    "duration": 17,
    "start_time": "2021-12-07T13:20:43.633Z"
   },
   {
    "duration": 8,
    "start_time": "2021-12-07T14:08:28.854Z"
   },
   {
    "duration": 676,
    "start_time": "2021-12-07T14:11:50.877Z"
   },
   {
    "duration": 32,
    "start_time": "2021-12-07T14:11:51.555Z"
   },
   {
    "duration": 11,
    "start_time": "2021-12-07T14:11:51.590Z"
   },
   {
    "duration": 8,
    "start_time": "2021-12-07T14:11:51.603Z"
   },
   {
    "duration": 32,
    "start_time": "2021-12-07T14:11:51.613Z"
   },
   {
    "duration": 11,
    "start_time": "2021-12-07T14:11:51.647Z"
   },
   {
    "duration": 9,
    "start_time": "2021-12-07T14:11:51.660Z"
   },
   {
    "duration": 8,
    "start_time": "2021-12-07T14:11:51.670Z"
   },
   {
    "duration": 7,
    "start_time": "2021-12-07T14:11:51.681Z"
   },
   {
    "duration": 16,
    "start_time": "2021-12-07T14:11:51.690Z"
   },
   {
    "duration": 49,
    "start_time": "2021-12-07T14:11:51.708Z"
   },
   {
    "duration": 9,
    "start_time": "2021-12-07T14:11:51.758Z"
   },
   {
    "duration": 14,
    "start_time": "2021-12-07T14:11:51.768Z"
   },
   {
    "duration": 36,
    "start_time": "2021-12-07T14:11:51.784Z"
   },
   {
    "duration": 23,
    "start_time": "2021-12-07T14:11:51.821Z"
   },
   {
    "duration": 10,
    "start_time": "2021-12-07T14:11:51.847Z"
   },
   {
    "duration": 13,
    "start_time": "2021-12-07T14:11:51.859Z"
   },
   {
    "duration": 13,
    "start_time": "2021-12-07T14:11:51.874Z"
   },
   {
    "duration": 8,
    "start_time": "2021-12-07T14:11:51.889Z"
   },
   {
    "duration": 12,
    "start_time": "2021-12-07T14:11:51.899Z"
   },
   {
    "duration": 22,
    "start_time": "2021-12-07T14:11:51.945Z"
   },
   {
    "duration": 5,
    "start_time": "2021-12-07T14:11:51.969Z"
   },
   {
    "duration": 5,
    "start_time": "2021-12-07T14:11:51.975Z"
   },
   {
    "duration": 15,
    "start_time": "2021-12-07T14:11:51.981Z"
   },
   {
    "duration": 7,
    "start_time": "2021-12-07T14:11:51.998Z"
   },
   {
    "duration": 37,
    "start_time": "2021-12-07T14:11:52.007Z"
   },
   {
    "duration": 6,
    "start_time": "2021-12-07T14:11:52.049Z"
   },
   {
    "duration": 8,
    "start_time": "2021-12-07T14:11:52.058Z"
   },
   {
    "duration": 6,
    "start_time": "2021-12-07T14:11:52.068Z"
   },
   {
    "duration": 22,
    "start_time": "2021-12-07T14:11:52.076Z"
   },
   {
    "duration": 48,
    "start_time": "2021-12-07T14:11:52.100Z"
   },
   {
    "duration": 4,
    "start_time": "2021-12-07T14:11:52.150Z"
   },
   {
    "duration": 8,
    "start_time": "2021-12-07T14:11:52.156Z"
   },
   {
    "duration": 27,
    "start_time": "2021-12-07T14:11:52.166Z"
   },
   {
    "duration": 14,
    "start_time": "2021-12-07T14:11:52.195Z"
   },
   {
    "duration": 47,
    "start_time": "2021-12-07T14:11:52.210Z"
   },
   {
    "duration": 9,
    "start_time": "2021-12-07T14:11:52.259Z"
   },
   {
    "duration": 28,
    "start_time": "2021-12-07T14:11:52.270Z"
   },
   {
    "duration": 4,
    "start_time": "2021-12-07T14:11:52.300Z"
   },
   {
    "duration": 8,
    "start_time": "2021-12-07T14:11:52.306Z"
   },
   {
    "duration": 45,
    "start_time": "2021-12-07T14:11:52.316Z"
   },
   {
    "duration": 423,
    "start_time": "2021-12-07T14:11:52.363Z"
   },
   {
    "duration": 488,
    "start_time": "2021-12-07T14:11:52.788Z"
   },
   {
    "duration": 300,
    "start_time": "2021-12-07T14:11:53.278Z"
   },
   {
    "duration": 418,
    "start_time": "2021-12-07T14:11:53.580Z"
   },
   {
    "duration": 438,
    "start_time": "2021-12-07T14:11:53.999Z"
   },
   {
    "duration": 5,
    "start_time": "2021-12-07T14:11:54.444Z"
   },
   {
    "duration": 23,
    "start_time": "2021-12-07T14:11:54.451Z"
   },
   {
    "duration": 29,
    "start_time": "2021-12-07T14:11:54.476Z"
   },
   {
    "duration": 38,
    "start_time": "2021-12-07T14:11:54.507Z"
   },
   {
    "duration": 21,
    "start_time": "2021-12-07T14:11:54.547Z"
   },
   {
    "duration": 32,
    "start_time": "2021-12-07T14:11:54.570Z"
   },
   {
    "duration": 12,
    "start_time": "2021-12-07T14:11:54.604Z"
   },
   {
    "duration": 243,
    "start_time": "2021-12-07T14:11:54.618Z"
   },
   {
    "duration": 7,
    "start_time": "2021-12-07T14:11:54.863Z"
   },
   {
    "duration": 5,
    "start_time": "2021-12-07T14:11:54.872Z"
   },
   {
    "duration": 5,
    "start_time": "2021-12-07T14:11:54.878Z"
   },
   {
    "duration": 11,
    "start_time": "2021-12-07T14:11:54.885Z"
   },
   {
    "duration": 56,
    "start_time": "2021-12-07T14:11:54.898Z"
   },
   {
    "duration": 7,
    "start_time": "2021-12-07T14:11:54.956Z"
   },
   {
    "duration": 11,
    "start_time": "2021-12-07T14:11:54.964Z"
   },
   {
    "duration": 92,
    "start_time": "2021-12-07T14:11:54.977Z"
   },
   {
    "duration": 657,
    "start_time": "2021-12-07T14:13:06.355Z"
   },
   {
    "duration": 30,
    "start_time": "2021-12-07T14:13:07.014Z"
   },
   {
    "duration": 9,
    "start_time": "2021-12-07T14:13:07.046Z"
   },
   {
    "duration": 12,
    "start_time": "2021-12-07T14:13:07.057Z"
   },
   {
    "duration": 12,
    "start_time": "2021-12-07T14:13:07.070Z"
   },
   {
    "duration": 13,
    "start_time": "2021-12-07T14:13:07.083Z"
   },
   {
    "duration": 8,
    "start_time": "2021-12-07T14:13:07.098Z"
   },
   {
    "duration": 7,
    "start_time": "2021-12-07T14:13:07.108Z"
   },
   {
    "duration": 5,
    "start_time": "2021-12-07T14:13:07.117Z"
   },
   {
    "duration": 12,
    "start_time": "2021-12-07T14:13:07.145Z"
   },
   {
    "duration": 13,
    "start_time": "2021-12-07T14:13:07.159Z"
   },
   {
    "duration": 7,
    "start_time": "2021-12-07T14:13:07.174Z"
   },
   {
    "duration": 9,
    "start_time": "2021-12-07T14:13:07.182Z"
   },
   {
    "duration": 22,
    "start_time": "2021-12-07T14:13:07.192Z"
   },
   {
    "duration": 33,
    "start_time": "2021-12-07T14:13:07.216Z"
   },
   {
    "duration": 13,
    "start_time": "2021-12-07T14:13:07.251Z"
   },
   {
    "duration": 12,
    "start_time": "2021-12-07T14:13:07.266Z"
   },
   {
    "duration": 12,
    "start_time": "2021-12-07T14:13:07.280Z"
   },
   {
    "duration": 8,
    "start_time": "2021-12-07T14:13:07.294Z"
   },
   {
    "duration": 41,
    "start_time": "2021-12-07T14:13:07.304Z"
   },
   {
    "duration": 19,
    "start_time": "2021-12-07T14:13:07.347Z"
   },
   {
    "duration": 4,
    "start_time": "2021-12-07T14:13:07.368Z"
   },
   {
    "duration": 5,
    "start_time": "2021-12-07T14:13:07.376Z"
   },
   {
    "duration": 6,
    "start_time": "2021-12-07T14:13:07.383Z"
   },
   {
    "duration": 7,
    "start_time": "2021-12-07T14:13:07.390Z"
   },
   {
    "duration": 7,
    "start_time": "2021-12-07T14:13:07.399Z"
   },
   {
    "duration": 38,
    "start_time": "2021-12-07T14:13:07.407Z"
   },
   {
    "duration": 8,
    "start_time": "2021-12-07T14:13:07.447Z"
   },
   {
    "duration": 6,
    "start_time": "2021-12-07T14:13:07.457Z"
   },
   {
    "duration": 20,
    "start_time": "2021-12-07T14:13:07.465Z"
   },
   {
    "duration": 11,
    "start_time": "2021-12-07T14:13:07.487Z"
   },
   {
    "duration": 4,
    "start_time": "2021-12-07T14:13:07.499Z"
   },
   {
    "duration": 40,
    "start_time": "2021-12-07T14:13:07.504Z"
   },
   {
    "duration": 19,
    "start_time": "2021-12-07T14:13:07.546Z"
   },
   {
    "duration": 12,
    "start_time": "2021-12-07T14:13:07.566Z"
   },
   {
    "duration": 18,
    "start_time": "2021-12-07T14:13:07.580Z"
   },
   {
    "duration": 9,
    "start_time": "2021-12-07T14:13:07.600Z"
   },
   {
    "duration": 51,
    "start_time": "2021-12-07T14:13:07.611Z"
   },
   {
    "duration": 5,
    "start_time": "2021-12-07T14:13:07.664Z"
   },
   {
    "duration": 5,
    "start_time": "2021-12-07T14:13:07.670Z"
   },
   {
    "duration": 20,
    "start_time": "2021-12-07T14:13:07.677Z"
   },
   {
    "duration": 407,
    "start_time": "2021-12-07T14:13:07.699Z"
   },
   {
    "duration": 443,
    "start_time": "2021-12-07T14:13:08.108Z"
   },
   {
    "duration": 263,
    "start_time": "2021-12-07T14:13:08.552Z"
   },
   {
    "duration": 387,
    "start_time": "2021-12-07T14:13:08.817Z"
   },
   {
    "duration": 446,
    "start_time": "2021-12-07T14:13:09.206Z"
   },
   {
    "duration": 4,
    "start_time": "2021-12-07T14:13:09.654Z"
   },
   {
    "duration": 6,
    "start_time": "2021-12-07T14:13:09.660Z"
   },
   {
    "duration": 9,
    "start_time": "2021-12-07T14:13:09.668Z"
   },
   {
    "duration": 22,
    "start_time": "2021-12-07T14:13:09.678Z"
   },
   {
    "duration": 6,
    "start_time": "2021-12-07T14:13:09.702Z"
   },
   {
    "duration": 7,
    "start_time": "2021-12-07T14:13:09.745Z"
   },
   {
    "duration": 14,
    "start_time": "2021-12-07T14:13:09.754Z"
   },
   {
    "duration": 193,
    "start_time": "2021-12-07T14:13:09.770Z"
   },
   {
    "duration": 6,
    "start_time": "2021-12-07T14:13:09.965Z"
   },
   {
    "duration": 6,
    "start_time": "2021-12-07T14:13:09.973Z"
   },
   {
    "duration": 5,
    "start_time": "2021-12-07T14:13:09.981Z"
   },
   {
    "duration": 8,
    "start_time": "2021-12-07T14:13:09.988Z"
   },
   {
    "duration": 53,
    "start_time": "2021-12-07T14:13:09.998Z"
   },
   {
    "duration": 6,
    "start_time": "2021-12-07T14:13:10.053Z"
   },
   {
    "duration": 29,
    "start_time": "2021-12-07T14:13:10.061Z"
   },
   {
    "duration": 22,
    "start_time": "2021-12-07T14:13:10.091Z"
   },
   {
    "duration": 695,
    "start_time": "2021-12-07T14:14:09.824Z"
   },
   {
    "duration": 31,
    "start_time": "2021-12-07T14:14:10.521Z"
   },
   {
    "duration": 13,
    "start_time": "2021-12-07T14:14:10.555Z"
   },
   {
    "duration": 19,
    "start_time": "2021-12-07T14:14:10.570Z"
   },
   {
    "duration": 5,
    "start_time": "2021-12-07T14:14:10.591Z"
   },
   {
    "duration": 27,
    "start_time": "2021-12-07T14:14:10.598Z"
   },
   {
    "duration": 20,
    "start_time": "2021-12-07T14:14:10.627Z"
   },
   {
    "duration": 15,
    "start_time": "2021-12-07T14:14:10.649Z"
   },
   {
    "duration": 18,
    "start_time": "2021-12-07T14:14:10.667Z"
   },
   {
    "duration": 33,
    "start_time": "2021-12-07T14:14:10.687Z"
   },
   {
    "duration": 18,
    "start_time": "2021-12-07T14:14:10.722Z"
   },
   {
    "duration": 23,
    "start_time": "2021-12-07T14:14:10.742Z"
   },
   {
    "duration": 9,
    "start_time": "2021-12-07T14:14:10.767Z"
   },
   {
    "duration": 41,
    "start_time": "2021-12-07T14:14:10.777Z"
   },
   {
    "duration": 21,
    "start_time": "2021-12-07T14:14:10.819Z"
   },
   {
    "duration": 9,
    "start_time": "2021-12-07T14:14:10.842Z"
   },
   {
    "duration": 32,
    "start_time": "2021-12-07T14:14:10.852Z"
   },
   {
    "duration": 24,
    "start_time": "2021-12-07T14:14:10.886Z"
   },
   {
    "duration": 18,
    "start_time": "2021-12-07T14:14:10.911Z"
   },
   {
    "duration": 33,
    "start_time": "2021-12-07T14:14:10.931Z"
   },
   {
    "duration": 29,
    "start_time": "2021-12-07T14:14:10.965Z"
   },
   {
    "duration": 10,
    "start_time": "2021-12-07T14:14:10.996Z"
   },
   {
    "duration": 25,
    "start_time": "2021-12-07T14:14:11.008Z"
   },
   {
    "duration": 18,
    "start_time": "2021-12-07T14:14:11.035Z"
   },
   {
    "duration": 25,
    "start_time": "2021-12-07T14:14:11.054Z"
   },
   {
    "duration": 27,
    "start_time": "2021-12-07T14:14:11.080Z"
   },
   {
    "duration": 10,
    "start_time": "2021-12-07T14:14:11.111Z"
   },
   {
    "duration": 24,
    "start_time": "2021-12-07T14:14:11.123Z"
   },
   {
    "duration": 22,
    "start_time": "2021-12-07T14:14:11.149Z"
   },
   {
    "duration": 44,
    "start_time": "2021-12-07T14:14:11.173Z"
   },
   {
    "duration": 25,
    "start_time": "2021-12-07T14:14:11.219Z"
   },
   {
    "duration": 31,
    "start_time": "2021-12-07T14:14:11.246Z"
   },
   {
    "duration": 29,
    "start_time": "2021-12-07T14:14:11.278Z"
   },
   {
    "duration": 34,
    "start_time": "2021-12-07T14:14:11.309Z"
   },
   {
    "duration": 40,
    "start_time": "2021-12-07T14:14:11.345Z"
   },
   {
    "duration": 48,
    "start_time": "2021-12-07T14:14:11.387Z"
   },
   {
    "duration": 22,
    "start_time": "2021-12-07T14:14:11.437Z"
   },
   {
    "duration": 35,
    "start_time": "2021-12-07T14:14:11.461Z"
   },
   {
    "duration": 8,
    "start_time": "2021-12-07T14:14:11.498Z"
   },
   {
    "duration": 40,
    "start_time": "2021-12-07T14:14:11.507Z"
   },
   {
    "duration": 58,
    "start_time": "2021-12-07T14:14:11.549Z"
   },
   {
    "duration": 380,
    "start_time": "2021-12-07T14:14:11.609Z"
   },
   {
    "duration": 476,
    "start_time": "2021-12-07T14:14:11.991Z"
   },
   {
    "duration": 288,
    "start_time": "2021-12-07T14:14:12.468Z"
   },
   {
    "duration": 417,
    "start_time": "2021-12-07T14:14:12.758Z"
   },
   {
    "duration": 425,
    "start_time": "2021-12-07T14:14:13.177Z"
   },
   {
    "duration": 5,
    "start_time": "2021-12-07T14:14:13.604Z"
   },
   {
    "duration": 24,
    "start_time": "2021-12-07T14:14:13.610Z"
   },
   {
    "duration": 38,
    "start_time": "2021-12-07T14:14:13.636Z"
   },
   {
    "duration": 40,
    "start_time": "2021-12-07T14:14:13.675Z"
   },
   {
    "duration": 18,
    "start_time": "2021-12-07T14:14:13.717Z"
   },
   {
    "duration": 8,
    "start_time": "2021-12-07T14:14:13.737Z"
   },
   {
    "duration": 6,
    "start_time": "2021-12-07T14:14:13.747Z"
   },
   {
    "duration": 176,
    "start_time": "2021-12-07T14:14:13.755Z"
   },
   {
    "duration": 14,
    "start_time": "2021-12-07T14:14:13.932Z"
   },
   {
    "duration": 6,
    "start_time": "2021-12-07T14:14:13.947Z"
   },
   {
    "duration": 6,
    "start_time": "2021-12-07T14:14:13.955Z"
   },
   {
    "duration": 9,
    "start_time": "2021-12-07T14:14:13.962Z"
   },
   {
    "duration": 24,
    "start_time": "2021-12-07T14:14:13.973Z"
   },
   {
    "duration": 45,
    "start_time": "2021-12-07T14:14:14.000Z"
   },
   {
    "duration": 11,
    "start_time": "2021-12-07T14:14:14.047Z"
   },
   {
    "duration": 15,
    "start_time": "2021-12-07T14:14:14.060Z"
   },
   {
    "duration": 341,
    "start_time": "2021-12-07T14:26:03.678Z"
   },
   {
    "duration": 240,
    "start_time": "2021-12-07T14:26:29.286Z"
   },
   {
    "duration": 376,
    "start_time": "2021-12-07T14:31:46.454Z"
   },
   {
    "duration": 401,
    "start_time": "2021-12-07T14:32:16.862Z"
   },
   {
    "duration": 380,
    "start_time": "2021-12-07T14:32:41.937Z"
   },
   {
    "duration": 385,
    "start_time": "2021-12-08T07:03:27.740Z"
   },
   {
    "duration": 934,
    "start_time": "2021-12-08T07:03:36.947Z"
   },
   {
    "duration": 58,
    "start_time": "2021-12-08T07:03:37.884Z"
   },
   {
    "duration": 41,
    "start_time": "2021-12-08T07:03:37.946Z"
   },
   {
    "duration": 11,
    "start_time": "2021-12-08T07:03:37.991Z"
   },
   {
    "duration": 46,
    "start_time": "2021-12-08T07:03:38.005Z"
   },
   {
    "duration": 31,
    "start_time": "2021-12-08T07:03:38.053Z"
   },
   {
    "duration": 40,
    "start_time": "2021-12-08T07:03:38.087Z"
   },
   {
    "duration": 10,
    "start_time": "2021-12-08T07:03:38.130Z"
   },
   {
    "duration": 9,
    "start_time": "2021-12-08T07:03:38.144Z"
   },
   {
    "duration": 23,
    "start_time": "2021-12-08T07:03:38.156Z"
   },
   {
    "duration": 54,
    "start_time": "2021-12-08T07:03:38.181Z"
   },
   {
    "duration": 11,
    "start_time": "2021-12-08T07:03:38.238Z"
   },
   {
    "duration": 6,
    "start_time": "2021-12-08T07:03:38.252Z"
   },
   {
    "duration": 27,
    "start_time": "2021-12-08T07:03:38.260Z"
   },
   {
    "duration": 44,
    "start_time": "2021-12-08T07:03:38.289Z"
   },
   {
    "duration": 14,
    "start_time": "2021-12-08T07:03:38.336Z"
   },
   {
    "duration": 17,
    "start_time": "2021-12-08T07:03:38.352Z"
   },
   {
    "duration": 58,
    "start_time": "2021-12-08T07:03:38.371Z"
   },
   {
    "duration": 12,
    "start_time": "2021-12-08T07:03:38.431Z"
   },
   {
    "duration": 26,
    "start_time": "2021-12-08T07:03:38.446Z"
   },
   {
    "duration": 32,
    "start_time": "2021-12-08T07:03:38.475Z"
   },
   {
    "duration": 6,
    "start_time": "2021-12-08T07:03:38.524Z"
   },
   {
    "duration": 18,
    "start_time": "2021-12-08T07:03:38.536Z"
   },
   {
    "duration": 34,
    "start_time": "2021-12-08T07:03:38.557Z"
   },
   {
    "duration": 25,
    "start_time": "2021-12-08T07:03:38.594Z"
   },
   {
    "duration": 30,
    "start_time": "2021-12-08T07:03:38.621Z"
   },
   {
    "duration": 21,
    "start_time": "2021-12-08T07:03:38.654Z"
   },
   {
    "duration": 24,
    "start_time": "2021-12-08T07:03:38.677Z"
   },
   {
    "duration": 39,
    "start_time": "2021-12-08T07:03:38.703Z"
   },
   {
    "duration": 54,
    "start_time": "2021-12-08T07:03:38.744Z"
   },
   {
    "duration": 42,
    "start_time": "2021-12-08T07:03:38.801Z"
   },
   {
    "duration": 28,
    "start_time": "2021-12-08T07:03:38.846Z"
   },
   {
    "duration": 8,
    "start_time": "2021-12-08T07:03:38.876Z"
   },
   {
    "duration": 32,
    "start_time": "2021-12-08T07:03:38.887Z"
   },
   {
    "duration": 17,
    "start_time": "2021-12-08T07:03:38.922Z"
   },
   {
    "duration": 30,
    "start_time": "2021-12-08T07:03:38.941Z"
   },
   {
    "duration": 19,
    "start_time": "2021-12-08T07:03:38.973Z"
   },
   {
    "duration": 53,
    "start_time": "2021-12-08T07:03:38.994Z"
   },
   {
    "duration": 5,
    "start_time": "2021-12-08T07:03:39.050Z"
   },
   {
    "duration": 36,
    "start_time": "2021-12-08T07:03:39.058Z"
   },
   {
    "duration": 64,
    "start_time": "2021-12-08T07:03:39.097Z"
   },
   {
    "duration": 734,
    "start_time": "2021-12-08T07:03:39.164Z"
   },
   {
    "duration": 738,
    "start_time": "2021-12-08T07:03:39.901Z"
   },
   {
    "duration": 413,
    "start_time": "2021-12-08T07:03:40.641Z"
   },
   {
    "duration": 649,
    "start_time": "2021-12-08T07:03:41.057Z"
   },
   {
    "duration": 709,
    "start_time": "2021-12-08T07:03:41.708Z"
   },
   {
    "duration": 7,
    "start_time": "2021-12-08T07:03:42.423Z"
   },
   {
    "duration": 8,
    "start_time": "2021-12-08T07:03:42.433Z"
   },
   {
    "duration": 10,
    "start_time": "2021-12-08T07:03:42.444Z"
   },
   {
    "duration": 69,
    "start_time": "2021-12-08T07:03:42.457Z"
   },
   {
    "duration": 7,
    "start_time": "2021-12-08T07:03:42.528Z"
   },
   {
    "duration": 9,
    "start_time": "2021-12-08T07:03:42.537Z"
   },
   {
    "duration": 7,
    "start_time": "2021-12-08T07:03:42.548Z"
   },
   {
    "duration": 330,
    "start_time": "2021-12-08T07:03:42.557Z"
   },
   {
    "duration": 7,
    "start_time": "2021-12-08T07:03:42.889Z"
   },
   {
    "duration": 25,
    "start_time": "2021-12-08T07:03:42.899Z"
   },
   {
    "duration": 7,
    "start_time": "2021-12-08T07:03:42.927Z"
   },
   {
    "duration": 12,
    "start_time": "2021-12-08T07:03:42.936Z"
   },
   {
    "duration": 32,
    "start_time": "2021-12-08T07:03:42.951Z"
   },
   {
    "duration": 10,
    "start_time": "2021-12-08T07:03:43.024Z"
   },
   {
    "duration": 16,
    "start_time": "2021-12-08T07:03:43.037Z"
   },
   {
    "duration": 22,
    "start_time": "2021-12-08T07:03:43.056Z"
   },
   {
    "duration": 624,
    "start_time": "2021-12-08T07:03:43.081Z"
   },
   {
    "duration": 683,
    "start_time": "2021-12-08T07:03:43.708Z"
   },
   {
    "duration": 849,
    "start_time": "2021-12-08T07:05:31.300Z"
   },
   {
    "duration": 48,
    "start_time": "2021-12-08T07:05:32.152Z"
   },
   {
    "duration": 31,
    "start_time": "2021-12-08T07:05:32.203Z"
   },
   {
    "duration": 10,
    "start_time": "2021-12-08T07:05:32.237Z"
   },
   {
    "duration": 5,
    "start_time": "2021-12-08T07:05:32.250Z"
   },
   {
    "duration": 22,
    "start_time": "2021-12-08T07:05:32.258Z"
   },
   {
    "duration": 44,
    "start_time": "2021-12-08T07:05:32.283Z"
   },
   {
    "duration": 11,
    "start_time": "2021-12-08T07:05:32.329Z"
   },
   {
    "duration": 9,
    "start_time": "2021-12-08T07:05:32.344Z"
   },
   {
    "duration": 20,
    "start_time": "2021-12-08T07:05:32.357Z"
   },
   {
    "duration": 57,
    "start_time": "2021-12-08T07:05:32.380Z"
   },
   {
    "duration": 10,
    "start_time": "2021-12-08T07:05:32.440Z"
   },
   {
    "duration": 13,
    "start_time": "2021-12-08T07:05:32.453Z"
   },
   {
    "duration": 55,
    "start_time": "2021-12-08T07:05:32.468Z"
   },
   {
    "duration": 12,
    "start_time": "2021-12-08T07:05:32.526Z"
   },
   {
    "duration": 11,
    "start_time": "2021-12-08T07:05:32.541Z"
   },
   {
    "duration": 17,
    "start_time": "2021-12-08T07:05:32.555Z"
   },
   {
    "duration": 58,
    "start_time": "2021-12-08T07:05:32.574Z"
   },
   {
    "duration": 11,
    "start_time": "2021-12-08T07:05:32.634Z"
   },
   {
    "duration": 15,
    "start_time": "2021-12-08T07:05:32.648Z"
   },
   {
    "duration": 57,
    "start_time": "2021-12-08T07:05:32.666Z"
   },
   {
    "duration": 6,
    "start_time": "2021-12-08T07:05:32.725Z"
   },
   {
    "duration": 4,
    "start_time": "2021-12-08T07:05:32.734Z"
   },
   {
    "duration": 8,
    "start_time": "2021-12-08T07:05:32.741Z"
   },
   {
    "duration": 8,
    "start_time": "2021-12-08T07:05:32.751Z"
   },
   {
    "duration": 10,
    "start_time": "2021-12-08T07:05:32.761Z"
   },
   {
    "duration": 52,
    "start_time": "2021-12-08T07:05:32.778Z"
   },
   {
    "duration": 13,
    "start_time": "2021-12-08T07:05:32.833Z"
   },
   {
    "duration": 8,
    "start_time": "2021-12-08T07:05:32.848Z"
   },
   {
    "duration": 29,
    "start_time": "2021-12-08T07:05:32.858Z"
   },
   {
    "duration": 14,
    "start_time": "2021-12-08T07:05:32.923Z"
   },
   {
    "duration": 5,
    "start_time": "2021-12-08T07:05:32.939Z"
   },
   {
    "duration": 6,
    "start_time": "2021-12-08T07:05:32.946Z"
   },
   {
    "duration": 29,
    "start_time": "2021-12-08T07:05:32.954Z"
   },
   {
    "duration": 17,
    "start_time": "2021-12-08T07:05:33.023Z"
   },
   {
    "duration": 29,
    "start_time": "2021-12-08T07:05:33.042Z"
   },
   {
    "duration": 12,
    "start_time": "2021-12-08T07:05:33.073Z"
   },
   {
    "duration": 63,
    "start_time": "2021-12-08T07:05:33.087Z"
   },
   {
    "duration": 5,
    "start_time": "2021-12-08T07:05:33.153Z"
   },
   {
    "duration": 9,
    "start_time": "2021-12-08T07:05:33.161Z"
   },
   {
    "duration": 56,
    "start_time": "2021-12-08T07:05:33.172Z"
   },
   {
    "duration": 619,
    "start_time": "2021-12-08T07:05:33.230Z"
   },
   {
    "duration": 733,
    "start_time": "2021-12-08T07:05:33.851Z"
   },
   {
    "duration": 408,
    "start_time": "2021-12-08T07:05:34.586Z"
   },
   {
    "duration": 702,
    "start_time": "2021-12-08T07:05:34.996Z"
   },
   {
    "duration": 715,
    "start_time": "2021-12-08T07:05:35.701Z"
   },
   {
    "duration": 6,
    "start_time": "2021-12-08T07:05:36.423Z"
   },
   {
    "duration": 7,
    "start_time": "2021-12-08T07:05:36.431Z"
   },
   {
    "duration": 10,
    "start_time": "2021-12-08T07:05:36.440Z"
   },
   {
    "duration": 25,
    "start_time": "2021-12-08T07:05:36.453Z"
   },
   {
    "duration": 48,
    "start_time": "2021-12-08T07:05:36.480Z"
   },
   {
    "duration": 6,
    "start_time": "2021-12-08T07:05:36.530Z"
   },
   {
    "duration": 6,
    "start_time": "2021-12-08T07:05:36.539Z"
   },
   {
    "duration": 295,
    "start_time": "2021-12-08T07:05:36.547Z"
   },
   {
    "duration": 7,
    "start_time": "2021-12-08T07:05:36.845Z"
   },
   {
    "duration": 8,
    "start_time": "2021-12-08T07:05:36.855Z"
   },
   {
    "duration": 7,
    "start_time": "2021-12-08T07:05:36.866Z"
   },
   {
    "duration": 55,
    "start_time": "2021-12-08T07:05:36.875Z"
   },
   {
    "duration": 29,
    "start_time": "2021-12-08T07:05:36.933Z"
   },
   {
    "duration": 9,
    "start_time": "2021-12-08T07:05:36.964Z"
   },
   {
    "duration": 14,
    "start_time": "2021-12-08T07:05:36.976Z"
   },
   {
    "duration": 22,
    "start_time": "2021-12-08T07:05:37.024Z"
   },
   {
    "duration": 587,
    "start_time": "2021-12-08T07:05:37.048Z"
   },
   {
    "duration": 384,
    "start_time": "2021-12-08T07:05:37.637Z"
   },
   {
    "duration": 784,
    "start_time": "2021-12-08T07:15:12.856Z"
   },
   {
    "duration": 50,
    "start_time": "2021-12-08T07:15:13.642Z"
   },
   {
    "duration": 34,
    "start_time": "2021-12-08T07:15:13.695Z"
   },
   {
    "duration": 10,
    "start_time": "2021-12-08T07:15:13.732Z"
   },
   {
    "duration": 6,
    "start_time": "2021-12-08T07:15:13.744Z"
   },
   {
    "duration": 11,
    "start_time": "2021-12-08T07:15:13.753Z"
   },
   {
    "duration": 10,
    "start_time": "2021-12-08T07:15:13.767Z"
   },
   {
    "duration": 10,
    "start_time": "2021-12-08T07:15:13.824Z"
   },
   {
    "duration": 14,
    "start_time": "2021-12-08T07:15:13.837Z"
   },
   {
    "duration": 32,
    "start_time": "2021-12-08T07:15:13.853Z"
   },
   {
    "duration": 18,
    "start_time": "2021-12-08T07:15:13.887Z"
   },
   {
    "duration": 25,
    "start_time": "2021-12-08T07:15:13.908Z"
   },
   {
    "duration": 31,
    "start_time": "2021-12-08T07:15:13.936Z"
   },
   {
    "duration": 34,
    "start_time": "2021-12-08T07:15:13.969Z"
   },
   {
    "duration": 25,
    "start_time": "2021-12-08T07:15:14.006Z"
   },
   {
    "duration": 16,
    "start_time": "2021-12-08T07:15:14.033Z"
   },
   {
    "duration": 26,
    "start_time": "2021-12-08T07:15:14.051Z"
   },
   {
    "duration": 30,
    "start_time": "2021-12-08T07:15:14.079Z"
   },
   {
    "duration": 21,
    "start_time": "2021-12-08T07:15:14.111Z"
   },
   {
    "duration": 65,
    "start_time": "2021-12-08T07:15:14.134Z"
   },
   {
    "duration": 36,
    "start_time": "2021-12-08T07:15:14.202Z"
   },
   {
    "duration": 6,
    "start_time": "2021-12-08T07:15:14.240Z"
   },
   {
    "duration": 6,
    "start_time": "2021-12-08T07:15:14.252Z"
   },
   {
    "duration": 25,
    "start_time": "2021-12-08T07:15:14.261Z"
   },
   {
    "duration": 10,
    "start_time": "2021-12-08T07:15:14.289Z"
   },
   {
    "duration": 32,
    "start_time": "2021-12-08T07:15:14.301Z"
   },
   {
    "duration": 7,
    "start_time": "2021-12-08T07:15:14.335Z"
   },
   {
    "duration": 11,
    "start_time": "2021-12-08T07:15:14.345Z"
   },
   {
    "duration": 8,
    "start_time": "2021-12-08T07:15:14.358Z"
   },
   {
    "duration": 13,
    "start_time": "2021-12-08T07:15:14.368Z"
   },
   {
    "duration": 53,
    "start_time": "2021-12-08T07:15:14.383Z"
   },
   {
    "duration": 33,
    "start_time": "2021-12-08T07:15:14.438Z"
   },
   {
    "duration": 17,
    "start_time": "2021-12-08T07:15:14.474Z"
   },
   {
    "duration": 5,
    "start_time": "2021-12-08T07:15:14.524Z"
   },
   {
    "duration": 7,
    "start_time": "2021-12-08T07:15:14.531Z"
   },
   {
    "duration": 30,
    "start_time": "2021-12-08T07:15:14.541Z"
   },
   {
    "duration": 19,
    "start_time": "2021-12-08T07:15:14.573Z"
   },
   {
    "duration": 55,
    "start_time": "2021-12-08T07:15:14.594Z"
   },
   {
    "duration": 13,
    "start_time": "2021-12-08T07:15:14.652Z"
   },
   {
    "duration": 57,
    "start_time": "2021-12-08T07:15:14.667Z"
   },
   {
    "duration": 5,
    "start_time": "2021-12-08T07:15:14.727Z"
   },
   {
    "duration": 7,
    "start_time": "2021-12-08T07:15:14.735Z"
   },
   {
    "duration": 35,
    "start_time": "2021-12-08T07:15:14.744Z"
   },
   {
    "duration": 644,
    "start_time": "2021-12-08T07:15:14.781Z"
   },
   {
    "duration": 723,
    "start_time": "2021-12-08T07:15:15.428Z"
   },
   {
    "duration": 402,
    "start_time": "2021-12-08T07:15:16.154Z"
   },
   {
    "duration": 643,
    "start_time": "2021-12-08T07:15:16.558Z"
   },
   {
    "duration": 674,
    "start_time": "2021-12-08T07:15:17.203Z"
   },
   {
    "duration": 6,
    "start_time": "2021-12-08T07:15:17.880Z"
   },
   {
    "duration": 8,
    "start_time": "2021-12-08T07:15:17.888Z"
   },
   {
    "duration": 33,
    "start_time": "2021-12-08T07:15:17.899Z"
   },
   {
    "duration": 25,
    "start_time": "2021-12-08T07:15:17.934Z"
   },
   {
    "duration": 7,
    "start_time": "2021-12-08T07:15:17.961Z"
   },
   {
    "duration": 6,
    "start_time": "2021-12-08T07:15:17.971Z"
   },
   {
    "duration": 46,
    "start_time": "2021-12-08T07:15:17.979Z"
   },
   {
    "duration": 275,
    "start_time": "2021-12-08T07:15:18.027Z"
   },
   {
    "duration": 19,
    "start_time": "2021-12-08T07:15:18.305Z"
   },
   {
    "duration": 17,
    "start_time": "2021-12-08T07:15:18.326Z"
   },
   {
    "duration": 10,
    "start_time": "2021-12-08T07:15:18.346Z"
   },
   {
    "duration": 27,
    "start_time": "2021-12-08T07:15:18.358Z"
   },
   {
    "duration": 49,
    "start_time": "2021-12-08T07:15:18.387Z"
   },
   {
    "duration": 8,
    "start_time": "2021-12-08T07:15:18.439Z"
   },
   {
    "duration": 69,
    "start_time": "2021-12-08T07:15:18.449Z"
   },
   {
    "duration": 527,
    "start_time": "2021-12-08T07:15:18.520Z"
   },
   {
    "duration": 592,
    "start_time": "2021-12-08T07:15:19.049Z"
   },
   {
    "duration": 789,
    "start_time": "2021-12-08T07:16:16.868Z"
   },
   {
    "duration": 47,
    "start_time": "2021-12-08T07:16:17.660Z"
   },
   {
    "duration": 14,
    "start_time": "2021-12-08T07:16:17.723Z"
   },
   {
    "duration": 11,
    "start_time": "2021-12-08T07:16:17.740Z"
   },
   {
    "duration": 5,
    "start_time": "2021-12-08T07:16:17.753Z"
   },
   {
    "duration": 12,
    "start_time": "2021-12-08T07:16:17.760Z"
   },
   {
    "duration": 49,
    "start_time": "2021-12-08T07:16:17.774Z"
   },
   {
    "duration": 10,
    "start_time": "2021-12-08T07:16:17.826Z"
   },
   {
    "duration": 8,
    "start_time": "2021-12-08T07:16:17.840Z"
   },
   {
    "duration": 20,
    "start_time": "2021-12-08T07:16:17.851Z"
   },
   {
    "duration": 59,
    "start_time": "2021-12-08T07:16:17.873Z"
   },
   {
    "duration": 10,
    "start_time": "2021-12-08T07:16:17.934Z"
   },
   {
    "duration": 6,
    "start_time": "2021-12-08T07:16:17.947Z"
   },
   {
    "duration": 27,
    "start_time": "2021-12-08T07:16:17.955Z"
   },
   {
    "duration": 41,
    "start_time": "2021-12-08T07:16:17.984Z"
   },
   {
    "duration": 11,
    "start_time": "2021-12-08T07:16:18.027Z"
   },
   {
    "duration": 16,
    "start_time": "2021-12-08T07:16:18.041Z"
   },
   {
    "duration": 16,
    "start_time": "2021-12-08T07:16:18.059Z"
   },
   {
    "duration": 53,
    "start_time": "2021-12-08T07:16:18.078Z"
   },
   {
    "duration": 18,
    "start_time": "2021-12-08T07:16:18.133Z"
   },
   {
    "duration": 40,
    "start_time": "2021-12-08T07:16:18.153Z"
   },
   {
    "duration": 6,
    "start_time": "2021-12-08T07:16:18.195Z"
   },
   {
    "duration": 6,
    "start_time": "2021-12-08T07:16:18.224Z"
   },
   {
    "duration": 11,
    "start_time": "2021-12-08T07:16:18.232Z"
   },
   {
    "duration": 10,
    "start_time": "2021-12-08T07:16:18.245Z"
   },
   {
    "duration": 15,
    "start_time": "2021-12-08T07:16:18.257Z"
   },
   {
    "duration": 9,
    "start_time": "2021-12-08T07:16:18.277Z"
   },
   {
    "duration": 11,
    "start_time": "2021-12-08T07:16:18.326Z"
   },
   {
    "duration": 8,
    "start_time": "2021-12-08T07:16:18.340Z"
   },
   {
    "duration": 12,
    "start_time": "2021-12-08T07:16:18.350Z"
   },
   {
    "duration": 14,
    "start_time": "2021-12-08T07:16:18.364Z"
   },
   {
    "duration": 71,
    "start_time": "2021-12-08T07:16:18.380Z"
   },
   {
    "duration": 15,
    "start_time": "2021-12-08T07:16:18.454Z"
   },
   {
    "duration": 5,
    "start_time": "2021-12-08T07:16:18.471Z"
   },
   {
    "duration": 44,
    "start_time": "2021-12-08T07:16:18.479Z"
   },
   {
    "duration": 32,
    "start_time": "2021-12-08T07:16:18.526Z"
   },
   {
    "duration": 18,
    "start_time": "2021-12-08T07:16:18.561Z"
   },
   {
    "duration": 61,
    "start_time": "2021-12-08T07:16:18.582Z"
   },
   {
    "duration": 13,
    "start_time": "2021-12-08T07:16:18.646Z"
   },
   {
    "duration": 38,
    "start_time": "2021-12-08T07:16:18.662Z"
   },
   {
    "duration": 6,
    "start_time": "2021-12-08T07:16:18.723Z"
   },
   {
    "duration": 8,
    "start_time": "2021-12-08T07:16:18.733Z"
   },
   {
    "duration": 32,
    "start_time": "2021-12-08T07:16:18.744Z"
   },
   {
    "duration": 627,
    "start_time": "2021-12-08T07:16:18.778Z"
   },
   {
    "duration": 738,
    "start_time": "2021-12-08T07:16:19.408Z"
   },
   {
    "duration": 407,
    "start_time": "2021-12-08T07:16:20.149Z"
   },
   {
    "duration": 651,
    "start_time": "2021-12-08T07:16:20.558Z"
   },
   {
    "duration": 686,
    "start_time": "2021-12-08T07:16:21.212Z"
   },
   {
    "duration": 7,
    "start_time": "2021-12-08T07:16:21.901Z"
   },
   {
    "duration": 6,
    "start_time": "2021-12-08T07:16:21.923Z"
   },
   {
    "duration": 10,
    "start_time": "2021-12-08T07:16:21.932Z"
   },
   {
    "duration": 30,
    "start_time": "2021-12-08T07:16:21.944Z"
   },
   {
    "duration": 7,
    "start_time": "2021-12-08T07:16:21.976Z"
   },
   {
    "duration": 41,
    "start_time": "2021-12-08T07:16:21.985Z"
   },
   {
    "duration": 9,
    "start_time": "2021-12-08T07:16:22.028Z"
   },
   {
    "duration": 277,
    "start_time": "2021-12-08T07:16:22.039Z"
   },
   {
    "duration": 8,
    "start_time": "2021-12-08T07:16:22.318Z"
   },
   {
    "duration": 7,
    "start_time": "2021-12-08T07:16:22.328Z"
   },
   {
    "duration": 7,
    "start_time": "2021-12-08T07:16:22.338Z"
   },
   {
    "duration": 12,
    "start_time": "2021-12-08T07:16:22.348Z"
   },
   {
    "duration": 78,
    "start_time": "2021-12-08T07:16:22.363Z"
   },
   {
    "duration": 8,
    "start_time": "2021-12-08T07:16:22.444Z"
   },
   {
    "duration": 18,
    "start_time": "2021-12-08T07:16:22.455Z"
   },
   {
    "duration": 558,
    "start_time": "2021-12-08T07:16:22.475Z"
   },
   {
    "duration": 25,
    "start_time": "2021-12-08T07:16:23.035Z"
   },
   {
    "duration": 9,
    "start_time": "2021-12-08T07:16:39.288Z"
   },
   {
    "duration": 575,
    "start_time": "2021-12-08T07:22:46.089Z"
   },
   {
    "duration": 642,
    "start_time": "2021-12-08T07:24:26.229Z"
   },
   {
    "duration": 551,
    "start_time": "2021-12-08T07:24:44.056Z"
   },
   {
    "duration": 572,
    "start_time": "2021-12-08T07:25:02.270Z"
   },
   {
    "duration": 612,
    "start_time": "2021-12-08T07:25:34.741Z"
   },
   {
    "duration": 832,
    "start_time": "2021-12-08T07:27:06.784Z"
   },
   {
    "duration": 46,
    "start_time": "2021-12-08T07:27:07.619Z"
   },
   {
    "duration": 14,
    "start_time": "2021-12-08T07:27:07.668Z"
   },
   {
    "duration": 38,
    "start_time": "2021-12-08T07:27:07.685Z"
   },
   {
    "duration": 6,
    "start_time": "2021-12-08T07:27:07.725Z"
   },
   {
    "duration": 21,
    "start_time": "2021-12-08T07:27:07.734Z"
   },
   {
    "duration": 17,
    "start_time": "2021-12-08T07:27:07.757Z"
   },
   {
    "duration": 13,
    "start_time": "2021-12-08T07:27:07.779Z"
   },
   {
    "duration": 11,
    "start_time": "2021-12-08T07:27:07.822Z"
   },
   {
    "duration": 21,
    "start_time": "2021-12-08T07:27:07.836Z"
   },
   {
    "duration": 20,
    "start_time": "2021-12-08T07:27:07.860Z"
   },
   {
    "duration": 48,
    "start_time": "2021-12-08T07:27:07.883Z"
   },
   {
    "duration": 7,
    "start_time": "2021-12-08T07:27:07.933Z"
   },
   {
    "duration": 25,
    "start_time": "2021-12-08T07:27:07.943Z"
   },
   {
    "duration": 54,
    "start_time": "2021-12-08T07:27:07.970Z"
   },
   {
    "duration": 11,
    "start_time": "2021-12-08T07:27:08.028Z"
   },
   {
    "duration": 21,
    "start_time": "2021-12-08T07:27:08.041Z"
   },
   {
    "duration": 17,
    "start_time": "2021-12-08T07:27:08.064Z"
   },
   {
    "duration": 43,
    "start_time": "2021-12-08T07:27:08.084Z"
   },
   {
    "duration": 24,
    "start_time": "2021-12-08T07:27:08.130Z"
   },
   {
    "duration": 39,
    "start_time": "2021-12-08T07:27:08.157Z"
   },
   {
    "duration": 30,
    "start_time": "2021-12-08T07:27:08.200Z"
   },
   {
    "duration": 6,
    "start_time": "2021-12-08T07:27:08.240Z"
   },
   {
    "duration": 7,
    "start_time": "2021-12-08T07:27:08.252Z"
   },
   {
    "duration": 11,
    "start_time": "2021-12-08T07:27:08.262Z"
   },
   {
    "duration": 62,
    "start_time": "2021-12-08T07:27:08.275Z"
   },
   {
    "duration": 8,
    "start_time": "2021-12-08T07:27:08.339Z"
   },
   {
    "duration": 13,
    "start_time": "2021-12-08T07:27:08.349Z"
   },
   {
    "duration": 8,
    "start_time": "2021-12-08T07:27:08.364Z"
   },
   {
    "duration": 11,
    "start_time": "2021-12-08T07:27:08.374Z"
   },
   {
    "duration": 17,
    "start_time": "2021-12-08T07:27:08.423Z"
   },
   {
    "duration": 30,
    "start_time": "2021-12-08T07:27:08.442Z"
   },
   {
    "duration": 14,
    "start_time": "2021-12-08T07:27:08.475Z"
   },
   {
    "duration": 35,
    "start_time": "2021-12-08T07:27:08.491Z"
   },
   {
    "duration": 7,
    "start_time": "2021-12-08T07:27:08.528Z"
   },
   {
    "duration": 28,
    "start_time": "2021-12-08T07:27:08.538Z"
   },
   {
    "duration": 16,
    "start_time": "2021-12-08T07:27:08.569Z"
   },
   {
    "duration": 62,
    "start_time": "2021-12-08T07:27:08.587Z"
   },
   {
    "duration": 12,
    "start_time": "2021-12-08T07:27:08.651Z"
   },
   {
    "duration": 33,
    "start_time": "2021-12-08T07:27:08.665Z"
   },
   {
    "duration": 25,
    "start_time": "2021-12-08T07:27:08.700Z"
   },
   {
    "duration": 13,
    "start_time": "2021-12-08T07:27:08.728Z"
   },
   {
    "duration": 41,
    "start_time": "2021-12-08T07:27:08.744Z"
   },
   {
    "duration": 605,
    "start_time": "2021-12-08T07:27:08.788Z"
   },
   {
    "duration": 728,
    "start_time": "2021-12-08T07:27:09.395Z"
   },
   {
    "duration": 379,
    "start_time": "2021-12-08T07:27:10.125Z"
   },
   {
    "duration": 630,
    "start_time": "2021-12-08T07:27:10.506Z"
   },
   {
    "duration": 687,
    "start_time": "2021-12-08T07:27:11.139Z"
   },
   {
    "duration": 6,
    "start_time": "2021-12-08T07:27:11.828Z"
   },
   {
    "duration": 9,
    "start_time": "2021-12-08T07:27:11.836Z"
   },
   {
    "duration": 11,
    "start_time": "2021-12-08T07:27:11.848Z"
   },
   {
    "duration": 62,
    "start_time": "2021-12-08T07:27:11.861Z"
   },
   {
    "duration": 7,
    "start_time": "2021-12-08T07:27:11.926Z"
   },
   {
    "duration": 6,
    "start_time": "2021-12-08T07:27:11.935Z"
   },
   {
    "duration": 7,
    "start_time": "2021-12-08T07:27:11.944Z"
   },
   {
    "duration": 288,
    "start_time": "2021-12-08T07:27:11.953Z"
   },
   {
    "duration": 7,
    "start_time": "2021-12-08T07:27:12.244Z"
   },
   {
    "duration": 22,
    "start_time": "2021-12-08T07:27:12.253Z"
   },
   {
    "duration": 14,
    "start_time": "2021-12-08T07:27:12.277Z"
   },
   {
    "duration": 23,
    "start_time": "2021-12-08T07:27:12.293Z"
   },
   {
    "duration": 34,
    "start_time": "2021-12-08T07:27:12.319Z"
   },
   {
    "duration": 9,
    "start_time": "2021-12-08T07:27:12.355Z"
   },
   {
    "duration": 34,
    "start_time": "2021-12-08T07:27:12.367Z"
   },
   {
    "duration": 522,
    "start_time": "2021-12-08T07:27:12.404Z"
   },
   {
    "duration": 11,
    "start_time": "2021-12-08T07:27:12.929Z"
   },
   {
    "duration": 617,
    "start_time": "2021-12-08T07:27:12.943Z"
   },
   {
    "duration": 660,
    "start_time": "2021-12-08T07:27:13.563Z"
   },
   {
    "duration": 577,
    "start_time": "2021-12-08T07:27:14.231Z"
   },
   {
    "duration": 107,
    "start_time": "2021-12-08T07:27:14.812Z"
   },
   {
    "duration": 572,
    "start_time": "2021-12-08T07:27:28.145Z"
   },
   {
    "duration": 575,
    "start_time": "2021-12-08T07:27:39.153Z"
   },
   {
    "duration": 107,
    "start_time": "2021-12-08T07:41:48.332Z"
   },
   {
    "duration": 8,
    "start_time": "2021-12-08T07:41:55.220Z"
   },
   {
    "duration": 7,
    "start_time": "2021-12-08T07:42:25.312Z"
   },
   {
    "duration": 425,
    "start_time": "2021-12-08T07:43:33.432Z"
   },
   {
    "duration": 7230,
    "start_time": "2021-12-08T07:44:10.993Z"
   },
   {
    "duration": 7,
    "start_time": "2021-12-08T07:44:31.073Z"
   },
   {
    "duration": 7,
    "start_time": "2021-12-08T07:44:46.012Z"
   },
   {
    "duration": 7,
    "start_time": "2021-12-08T07:45:01.573Z"
   },
   {
    "duration": 7,
    "start_time": "2021-12-08T07:45:25.928Z"
   },
   {
    "duration": 316,
    "start_time": "2021-12-08T07:46:09.493Z"
   },
   {
    "duration": 912,
    "start_time": "2021-12-08T07:46:45.555Z"
   },
   {
    "duration": 56,
    "start_time": "2021-12-08T07:46:46.470Z"
   },
   {
    "duration": 20,
    "start_time": "2021-12-08T07:46:46.530Z"
   },
   {
    "duration": 9,
    "start_time": "2021-12-08T07:46:46.553Z"
   },
   {
    "duration": 5,
    "start_time": "2021-12-08T07:46:46.565Z"
   },
   {
    "duration": 53,
    "start_time": "2021-12-08T07:46:46.572Z"
   },
   {
    "duration": 11,
    "start_time": "2021-12-08T07:46:46.627Z"
   },
   {
    "duration": 16,
    "start_time": "2021-12-08T07:46:46.640Z"
   },
   {
    "duration": 36,
    "start_time": "2021-12-08T07:46:46.661Z"
   },
   {
    "duration": 23,
    "start_time": "2021-12-08T07:46:46.700Z"
   },
   {
    "duration": 30,
    "start_time": "2021-12-08T07:46:46.725Z"
   },
   {
    "duration": 17,
    "start_time": "2021-12-08T07:46:46.757Z"
   },
   {
    "duration": 32,
    "start_time": "2021-12-08T07:46:46.776Z"
   },
   {
    "duration": 51,
    "start_time": "2021-12-08T07:46:46.810Z"
   },
   {
    "duration": 22,
    "start_time": "2021-12-08T07:46:46.863Z"
   },
   {
    "duration": 26,
    "start_time": "2021-12-08T07:46:46.887Z"
   },
   {
    "duration": 29,
    "start_time": "2021-12-08T07:46:46.915Z"
   },
   {
    "duration": 22,
    "start_time": "2021-12-08T07:46:46.947Z"
   },
   {
    "duration": 20,
    "start_time": "2021-12-08T07:46:46.972Z"
   },
   {
    "duration": 50,
    "start_time": "2021-12-08T07:46:46.994Z"
   },
   {
    "duration": 38,
    "start_time": "2021-12-08T07:46:47.047Z"
   },
   {
    "duration": 15,
    "start_time": "2021-12-08T07:46:47.088Z"
   },
   {
    "duration": 19,
    "start_time": "2021-12-08T07:46:47.105Z"
   },
   {
    "duration": 42,
    "start_time": "2021-12-08T07:46:47.126Z"
   },
   {
    "duration": 19,
    "start_time": "2021-12-08T07:46:47.170Z"
   },
   {
    "duration": 10,
    "start_time": "2021-12-08T07:46:47.192Z"
   },
   {
    "duration": 7,
    "start_time": "2021-12-08T07:46:47.209Z"
   },
   {
    "duration": 12,
    "start_time": "2021-12-08T07:46:47.220Z"
   },
   {
    "duration": 7,
    "start_time": "2021-12-08T07:46:47.235Z"
   },
   {
    "duration": 13,
    "start_time": "2021-12-08T07:46:47.244Z"
   },
   {
    "duration": 13,
    "start_time": "2021-12-08T07:46:47.259Z"
   },
   {
    "duration": 77,
    "start_time": "2021-12-08T07:46:47.275Z"
   },
   {
    "duration": 14,
    "start_time": "2021-12-08T07:46:47.354Z"
   },
   {
    "duration": 4,
    "start_time": "2021-12-08T07:46:47.371Z"
   },
   {
    "duration": 7,
    "start_time": "2021-12-08T07:46:47.378Z"
   },
   {
    "duration": 58,
    "start_time": "2021-12-08T07:46:47.387Z"
   },
   {
    "duration": 22,
    "start_time": "2021-12-08T07:46:47.448Z"
   },
   {
    "duration": 53,
    "start_time": "2021-12-08T07:46:47.472Z"
   },
   {
    "duration": 12,
    "start_time": "2021-12-08T07:46:47.527Z"
   },
   {
    "duration": 35,
    "start_time": "2021-12-08T07:46:47.541Z"
   },
   {
    "duration": 6,
    "start_time": "2021-12-08T07:46:47.579Z"
   },
   {
    "duration": 36,
    "start_time": "2021-12-08T07:46:47.587Z"
   },
   {
    "duration": 33,
    "start_time": "2021-12-08T07:46:47.625Z"
   },
   {
    "duration": 656,
    "start_time": "2021-12-08T07:46:47.661Z"
   },
   {
    "duration": 758,
    "start_time": "2021-12-08T07:46:48.319Z"
   },
   {
    "duration": 416,
    "start_time": "2021-12-08T07:46:49.080Z"
   },
   {
    "duration": 926,
    "start_time": "2021-12-08T07:46:49.500Z"
   },
   {
    "duration": 713,
    "start_time": "2021-12-08T07:46:50.429Z"
   },
   {
    "duration": 6,
    "start_time": "2021-12-08T07:46:51.144Z"
   },
   {
    "duration": 8,
    "start_time": "2021-12-08T07:46:51.153Z"
   },
   {
    "duration": 10,
    "start_time": "2021-12-08T07:46:51.164Z"
   },
   {
    "duration": 60,
    "start_time": "2021-12-08T07:46:51.176Z"
   },
   {
    "duration": 6,
    "start_time": "2021-12-08T07:46:51.238Z"
   },
   {
    "duration": 8,
    "start_time": "2021-12-08T07:46:51.247Z"
   },
   {
    "duration": 11,
    "start_time": "2021-12-08T07:46:51.257Z"
   },
   {
    "duration": 288,
    "start_time": "2021-12-08T07:46:51.270Z"
   },
   {
    "duration": 6,
    "start_time": "2021-12-08T07:46:51.561Z"
   },
   {
    "duration": 6,
    "start_time": "2021-12-08T07:46:51.569Z"
   },
   {
    "duration": 8,
    "start_time": "2021-12-08T07:46:51.578Z"
   },
   {
    "duration": 11,
    "start_time": "2021-12-08T07:46:51.624Z"
   },
   {
    "duration": 28,
    "start_time": "2021-12-08T07:46:51.638Z"
   },
   {
    "duration": 8,
    "start_time": "2021-12-08T07:46:51.668Z"
   },
   {
    "duration": 51,
    "start_time": "2021-12-08T07:46:51.678Z"
   },
   {
    "duration": 553,
    "start_time": "2021-12-08T07:46:51.731Z"
   },
   {
    "duration": 9,
    "start_time": "2021-12-08T07:46:52.286Z"
   },
   {
    "duration": 591,
    "start_time": "2021-12-08T07:46:52.297Z"
   },
   {
    "duration": 684,
    "start_time": "2021-12-08T07:46:52.891Z"
   },
   {
    "duration": 592,
    "start_time": "2021-12-08T07:46:53.578Z"
   },
   {
    "duration": 631,
    "start_time": "2021-12-08T07:46:54.173Z"
   },
   {
    "duration": 6,
    "start_time": "2021-12-08T07:46:54.807Z"
   },
   {
    "duration": 5,
    "start_time": "2021-12-08T07:46:54.824Z"
   },
   {
    "duration": 11,
    "start_time": "2021-12-08T07:46:54.832Z"
   },
   {
    "duration": 6,
    "start_time": "2021-12-08T07:46:54.846Z"
   },
   {
    "duration": 6,
    "start_time": "2021-12-08T07:46:54.855Z"
   },
   {
    "duration": 7,
    "start_time": "2021-12-08T07:46:54.863Z"
   },
   {
    "duration": 301,
    "start_time": "2021-12-08T07:46:54.872Z"
   },
   {
    "duration": 882,
    "start_time": "2021-12-08T08:32:10.397Z"
   },
   {
    "duration": 49,
    "start_time": "2021-12-08T08:32:11.281Z"
   },
   {
    "duration": 16,
    "start_time": "2021-12-08T08:32:11.333Z"
   },
   {
    "duration": 10,
    "start_time": "2021-12-08T08:32:11.351Z"
   },
   {
    "duration": 7,
    "start_time": "2021-12-08T08:32:11.364Z"
   },
   {
    "duration": 51,
    "start_time": "2021-12-08T08:32:11.374Z"
   },
   {
    "duration": 12,
    "start_time": "2021-12-08T08:32:11.428Z"
   },
   {
    "duration": 11,
    "start_time": "2021-12-08T08:32:11.443Z"
   },
   {
    "duration": 11,
    "start_time": "2021-12-08T08:32:11.458Z"
   },
   {
    "duration": 54,
    "start_time": "2021-12-08T08:32:11.473Z"
   },
   {
    "duration": 20,
    "start_time": "2021-12-08T08:32:11.530Z"
   },
   {
    "duration": 10,
    "start_time": "2021-12-08T08:32:11.552Z"
   },
   {
    "duration": 7,
    "start_time": "2021-12-08T08:32:11.564Z"
   },
   {
    "duration": 2420,
    "start_time": "2021-12-08T08:32:11.573Z"
   },
   {
    "duration": 11,
    "start_time": "2021-12-08T08:32:13.995Z"
   },
   {
    "duration": 30,
    "start_time": "2021-12-08T08:32:14.008Z"
   },
   {
    "duration": 428,
    "start_time": "2021-12-08T08:32:14.040Z"
   },
   {
    "duration": -3009,
    "start_time": "2021-12-08T08:32:17.482Z"
   },
   {
    "duration": -3014,
    "start_time": "2021-12-08T08:32:17.489Z"
   },
   {
    "duration": -3022,
    "start_time": "2021-12-08T08:32:17.498Z"
   },
   {
    "duration": -3036,
    "start_time": "2021-12-08T08:32:17.513Z"
   },
   {
    "duration": -3043,
    "start_time": "2021-12-08T08:32:17.521Z"
   },
   {
    "duration": -3049,
    "start_time": "2021-12-08T08:32:17.528Z"
   },
   {
    "duration": -3055,
    "start_time": "2021-12-08T08:32:17.536Z"
   },
   {
    "duration": -3061,
    "start_time": "2021-12-08T08:32:17.543Z"
   },
   {
    "duration": -3069,
    "start_time": "2021-12-08T08:32:17.552Z"
   },
   {
    "duration": -3076,
    "start_time": "2021-12-08T08:32:17.560Z"
   },
   {
    "duration": -3082,
    "start_time": "2021-12-08T08:32:17.568Z"
   },
   {
    "duration": -3088,
    "start_time": "2021-12-08T08:32:17.575Z"
   },
   {
    "duration": -3105,
    "start_time": "2021-12-08T08:32:17.594Z"
   },
   {
    "duration": -3111,
    "start_time": "2021-12-08T08:32:17.601Z"
   },
   {
    "duration": -3118,
    "start_time": "2021-12-08T08:32:17.609Z"
   },
   {
    "duration": -3124,
    "start_time": "2021-12-08T08:32:17.616Z"
   },
   {
    "duration": -3130,
    "start_time": "2021-12-08T08:32:17.623Z"
   },
   {
    "duration": -3136,
    "start_time": "2021-12-08T08:32:17.631Z"
   },
   {
    "duration": -3143,
    "start_time": "2021-12-08T08:32:17.639Z"
   },
   {
    "duration": -3149,
    "start_time": "2021-12-08T08:32:17.646Z"
   },
   {
    "duration": -3156,
    "start_time": "2021-12-08T08:32:17.654Z"
   },
   {
    "duration": -3161,
    "start_time": "2021-12-08T08:32:17.661Z"
   },
   {
    "duration": -3167,
    "start_time": "2021-12-08T08:32:17.668Z"
   },
   {
    "duration": -3173,
    "start_time": "2021-12-08T08:32:17.675Z"
   },
   {
    "duration": -3161,
    "start_time": "2021-12-08T08:32:17.684Z"
   },
   {
    "duration": -3166,
    "start_time": "2021-12-08T08:32:17.690Z"
   },
   {
    "duration": -3325,
    "start_time": "2021-12-08T08:32:17.851Z"
   },
   {
    "duration": -3332,
    "start_time": "2021-12-08T08:32:17.859Z"
   },
   {
    "duration": -3337,
    "start_time": "2021-12-08T08:32:17.866Z"
   },
   {
    "duration": -3342,
    "start_time": "2021-12-08T08:32:17.872Z"
   },
   {
    "duration": -3348,
    "start_time": "2021-12-08T08:32:17.879Z"
   },
   {
    "duration": -3351,
    "start_time": "2021-12-08T08:32:17.885Z"
   },
   {
    "duration": -3470,
    "start_time": "2021-12-08T08:32:18.006Z"
   },
   {
    "duration": -3474,
    "start_time": "2021-12-08T08:32:18.012Z"
   },
   {
    "duration": -3478,
    "start_time": "2021-12-08T08:32:18.019Z"
   },
   {
    "duration": -3482,
    "start_time": "2021-12-08T08:32:18.025Z"
   },
   {
    "duration": -3509,
    "start_time": "2021-12-08T08:32:18.054Z"
   },
   {
    "duration": -3513,
    "start_time": "2021-12-08T08:32:18.060Z"
   },
   {
    "duration": -3518,
    "start_time": "2021-12-08T08:32:18.067Z"
   },
   {
    "duration": -3522,
    "start_time": "2021-12-08T08:32:18.073Z"
   },
   {
    "duration": -3539,
    "start_time": "2021-12-08T08:32:18.092Z"
   },
   {
    "duration": -3579,
    "start_time": "2021-12-08T08:32:18.134Z"
   },
   {
    "duration": -3585,
    "start_time": "2021-12-08T08:32:18.141Z"
   },
   {
    "duration": -3588,
    "start_time": "2021-12-08T08:32:18.147Z"
   },
   {
    "duration": -3531,
    "start_time": "2021-12-08T08:32:18.154Z"
   },
   {
    "duration": -3535,
    "start_time": "2021-12-08T08:32:18.160Z"
   },
   {
    "duration": -3539,
    "start_time": "2021-12-08T08:32:18.167Z"
   },
   {
    "duration": -3557,
    "start_time": "2021-12-08T08:32:18.187Z"
   },
   {
    "duration": -3647,
    "start_time": "2021-12-08T08:32:18.279Z"
   },
   {
    "duration": -3738,
    "start_time": "2021-12-08T08:32:18.372Z"
   },
   {
    "duration": -3764,
    "start_time": "2021-12-08T08:32:18.400Z"
   },
   {
    "duration": -3768,
    "start_time": "2021-12-08T08:32:18.406Z"
   },
   {
    "duration": -3772,
    "start_time": "2021-12-08T08:32:18.413Z"
   },
   {
    "duration": -3788,
    "start_time": "2021-12-08T08:32:18.430Z"
   },
   {
    "duration": -3793,
    "start_time": "2021-12-08T08:32:18.437Z"
   },
   {
    "duration": -3799,
    "start_time": "2021-12-08T08:32:18.444Z"
   },
   {
    "duration": -3804,
    "start_time": "2021-12-08T08:32:18.451Z"
   },
   {
    "duration": -3810,
    "start_time": "2021-12-08T08:32:18.458Z"
   },
   {
    "duration": -3816,
    "start_time": "2021-12-08T08:32:18.465Z"
   },
   {
    "duration": 5,
    "start_time": "2021-12-08T08:34:27.305Z"
   },
   {
    "duration": 860,
    "start_time": "2021-12-08T08:34:27.312Z"
   },
   {
    "duration": 56,
    "start_time": "2021-12-08T08:34:28.176Z"
   },
   {
    "duration": 17,
    "start_time": "2021-12-08T08:34:28.235Z"
   },
   {
    "duration": 10,
    "start_time": "2021-12-08T08:34:28.254Z"
   },
   {
    "duration": 6,
    "start_time": "2021-12-08T08:34:28.267Z"
   },
   {
    "duration": 57,
    "start_time": "2021-12-08T08:34:28.276Z"
   },
   {
    "duration": 10,
    "start_time": "2021-12-08T08:34:28.337Z"
   },
   {
    "duration": 9,
    "start_time": "2021-12-08T08:34:28.351Z"
   },
   {
    "duration": 8,
    "start_time": "2021-12-08T08:34:28.363Z"
   },
   {
    "duration": 58,
    "start_time": "2021-12-08T08:34:28.373Z"
   },
   {
    "duration": 19,
    "start_time": "2021-12-08T08:34:28.434Z"
   },
   {
    "duration": 11,
    "start_time": "2021-12-08T08:34:28.455Z"
   },
   {
    "duration": 11,
    "start_time": "2021-12-08T08:34:28.468Z"
   },
   {
    "duration": 60,
    "start_time": "2021-12-08T08:34:28.481Z"
   },
   {
    "duration": 12,
    "start_time": "2021-12-08T08:34:28.544Z"
   },
   {
    "duration": 10,
    "start_time": "2021-12-08T08:34:28.559Z"
   },
   {
    "duration": 17,
    "start_time": "2021-12-08T08:34:28.571Z"
   },
   {
    "duration": 19,
    "start_time": "2021-12-08T08:34:28.624Z"
   },
   {
    "duration": 11,
    "start_time": "2021-12-08T08:34:28.645Z"
   },
   {
    "duration": 15,
    "start_time": "2021-12-08T08:34:28.658Z"
   },
   {
    "duration": 62,
    "start_time": "2021-12-08T08:34:28.675Z"
   },
   {
    "duration": 5,
    "start_time": "2021-12-08T08:34:28.743Z"
   },
   {
    "duration": 9,
    "start_time": "2021-12-08T08:34:28.752Z"
   },
   {
    "duration": 8,
    "start_time": "2021-12-08T08:34:28.763Z"
   },
   {
    "duration": 8,
    "start_time": "2021-12-08T08:34:28.773Z"
   },
   {
    "duration": 52,
    "start_time": "2021-12-08T08:34:28.784Z"
   },
   {
    "duration": 8,
    "start_time": "2021-12-08T08:34:28.838Z"
   },
   {
    "duration": 12,
    "start_time": "2021-12-08T08:34:28.848Z"
   },
   {
    "duration": 7,
    "start_time": "2021-12-08T08:34:28.862Z"
   },
   {
    "duration": 11,
    "start_time": "2021-12-08T08:34:28.872Z"
   },
   {
    "duration": 50,
    "start_time": "2021-12-08T08:34:28.886Z"
   },
   {
    "duration": 30,
    "start_time": "2021-12-08T08:34:28.938Z"
   },
   {
    "duration": 18,
    "start_time": "2021-12-08T08:34:28.970Z"
   },
   {
    "duration": 36,
    "start_time": "2021-12-08T08:34:28.990Z"
   },
   {
    "duration": 8,
    "start_time": "2021-12-08T08:34:29.028Z"
   },
   {
    "duration": 30,
    "start_time": "2021-12-08T08:34:29.038Z"
   },
   {
    "duration": 16,
    "start_time": "2021-12-08T08:34:29.071Z"
   },
   {
    "duration": 61,
    "start_time": "2021-12-08T08:34:29.089Z"
   },
   {
    "duration": 13,
    "start_time": "2021-12-08T08:34:29.152Z"
   },
   {
    "duration": 57,
    "start_time": "2021-12-08T08:34:29.167Z"
   },
   {
    "duration": 5,
    "start_time": "2021-12-08T08:34:29.227Z"
   },
   {
    "duration": 8,
    "start_time": "2021-12-08T08:34:29.235Z"
   },
   {
    "duration": 30,
    "start_time": "2021-12-08T08:34:29.245Z"
   },
   {
    "duration": 627,
    "start_time": "2021-12-08T08:34:29.278Z"
   },
   {
    "duration": 728,
    "start_time": "2021-12-08T08:34:29.908Z"
   },
   {
    "duration": 425,
    "start_time": "2021-12-08T08:34:30.638Z"
   },
   {
    "duration": 668,
    "start_time": "2021-12-08T08:34:31.066Z"
   },
   {
    "duration": 703,
    "start_time": "2021-12-08T08:34:31.736Z"
   },
   {
    "duration": 6,
    "start_time": "2021-12-08T08:34:32.441Z"
   },
   {
    "duration": 8,
    "start_time": "2021-12-08T08:34:32.449Z"
   },
   {
    "duration": 10,
    "start_time": "2021-12-08T08:34:32.459Z"
   },
   {
    "duration": 62,
    "start_time": "2021-12-08T08:34:32.471Z"
   },
   {
    "duration": 7,
    "start_time": "2021-12-08T08:34:32.535Z"
   },
   {
    "duration": 7,
    "start_time": "2021-12-08T08:34:32.544Z"
   },
   {
    "duration": 6,
    "start_time": "2021-12-08T08:34:32.553Z"
   },
   {
    "duration": 298,
    "start_time": "2021-12-08T08:34:32.562Z"
   },
   {
    "duration": 6,
    "start_time": "2021-12-08T08:34:32.863Z"
   },
   {
    "duration": 7,
    "start_time": "2021-12-08T08:34:32.872Z"
   },
   {
    "duration": 10,
    "start_time": "2021-12-08T08:34:32.881Z"
   },
   {
    "duration": 43,
    "start_time": "2021-12-08T08:34:32.893Z"
   },
   {
    "duration": 30,
    "start_time": "2021-12-08T08:34:32.939Z"
   },
   {
    "duration": 10,
    "start_time": "2021-12-08T08:34:32.971Z"
   },
   {
    "duration": 46,
    "start_time": "2021-12-08T08:34:32.983Z"
   },
   {
    "duration": 554,
    "start_time": "2021-12-08T08:34:33.031Z"
   },
   {
    "duration": 10,
    "start_time": "2021-12-08T08:34:33.587Z"
   },
   {
    "duration": 584,
    "start_time": "2021-12-08T08:34:33.599Z"
   },
   {
    "duration": 665,
    "start_time": "2021-12-08T08:34:34.190Z"
   },
   {
    "duration": 579,
    "start_time": "2021-12-08T08:34:34.857Z"
   },
   {
    "duration": 608,
    "start_time": "2021-12-08T08:34:35.439Z"
   },
   {
    "duration": 7,
    "start_time": "2021-12-08T08:34:36.050Z"
   },
   {
    "duration": 23,
    "start_time": "2021-12-08T08:34:36.059Z"
   },
   {
    "duration": 33,
    "start_time": "2021-12-08T08:34:36.084Z"
   },
   {
    "duration": 17,
    "start_time": "2021-12-08T08:34:36.119Z"
   },
   {
    "duration": 20,
    "start_time": "2021-12-08T08:34:36.138Z"
   },
   {
    "duration": 21,
    "start_time": "2021-12-08T08:34:36.160Z"
   },
   {
    "duration": 258,
    "start_time": "2021-12-08T08:34:36.184Z"
   },
   {
    "duration": 5,
    "start_time": "2021-12-08T08:40:29.599Z"
   },
   {
    "duration": 910,
    "start_time": "2021-12-08T08:40:29.606Z"
   },
   {
    "duration": 49,
    "start_time": "2021-12-08T08:40:30.519Z"
   },
   {
    "duration": 15,
    "start_time": "2021-12-08T08:40:30.571Z"
   },
   {
    "duration": 35,
    "start_time": "2021-12-08T08:40:30.588Z"
   },
   {
    "duration": 6,
    "start_time": "2021-12-08T08:40:30.625Z"
   },
   {
    "duration": 30,
    "start_time": "2021-12-08T08:40:30.633Z"
   },
   {
    "duration": 44,
    "start_time": "2021-12-08T08:40:30.665Z"
   },
   {
    "duration": 15,
    "start_time": "2021-12-08T08:40:30.713Z"
   },
   {
    "duration": 17,
    "start_time": "2021-12-08T08:40:30.731Z"
   },
   {
    "duration": 33,
    "start_time": "2021-12-08T08:40:30.750Z"
   },
   {
    "duration": 21,
    "start_time": "2021-12-08T08:40:30.786Z"
   },
   {
    "duration": 23,
    "start_time": "2021-12-08T08:40:30.810Z"
   },
   {
    "duration": 25,
    "start_time": "2021-12-08T08:40:30.835Z"
   },
   {
    "duration": 32,
    "start_time": "2021-12-08T08:40:30.863Z"
   },
   {
    "duration": 31,
    "start_time": "2021-12-08T08:40:30.898Z"
   },
   {
    "duration": 12,
    "start_time": "2021-12-08T08:40:30.933Z"
   },
   {
    "duration": 20,
    "start_time": "2021-12-08T08:40:30.948Z"
   },
   {
    "duration": 58,
    "start_time": "2021-12-08T08:40:30.971Z"
   },
   {
    "duration": 11,
    "start_time": "2021-12-08T08:40:31.032Z"
   },
   {
    "duration": 59,
    "start_time": "2021-12-08T08:40:31.046Z"
   },
   {
    "duration": 31,
    "start_time": "2021-12-08T08:40:31.107Z"
   },
   {
    "duration": 10,
    "start_time": "2021-12-08T08:40:31.140Z"
   },
   {
    "duration": 2,
    "start_time": "2021-12-08T08:40:31.153Z"
   },
   {
    "duration": 17,
    "start_time": "2021-12-08T08:40:31.158Z"
   },
   {
    "duration": 16,
    "start_time": "2021-12-08T08:40:31.178Z"
   },
   {
    "duration": 6,
    "start_time": "2021-12-08T08:40:31.225Z"
   },
   {
    "duration": 14,
    "start_time": "2021-12-08T08:40:31.235Z"
   },
   {
    "duration": 14,
    "start_time": "2021-12-08T08:40:31.252Z"
   },
   {
    "duration": 8,
    "start_time": "2021-12-08T08:40:31.268Z"
   },
   {
    "duration": 11,
    "start_time": "2021-12-08T08:40:31.278Z"
   },
   {
    "duration": 38,
    "start_time": "2021-12-08T08:40:31.291Z"
   },
   {
    "duration": 30,
    "start_time": "2021-12-08T08:40:31.331Z"
   },
   {
    "duration": 13,
    "start_time": "2021-12-08T08:40:31.364Z"
   },
   {
    "duration": 45,
    "start_time": "2021-12-08T08:40:31.380Z"
   },
   {
    "duration": 20,
    "start_time": "2021-12-08T08:40:31.428Z"
   },
   {
    "duration": 5,
    "start_time": "2021-12-08T08:40:31.450Z"
   },
   {
    "duration": 24,
    "start_time": "2021-12-08T08:40:31.458Z"
   },
   {
    "duration": 41,
    "start_time": "2021-12-08T08:40:31.485Z"
   },
   {
    "duration": 17,
    "start_time": "2021-12-08T08:40:31.528Z"
   },
   {
    "duration": 29,
    "start_time": "2021-12-08T08:40:31.548Z"
   },
   {
    "duration": 43,
    "start_time": "2021-12-08T08:40:31.580Z"
   },
   {
    "duration": 32,
    "start_time": "2021-12-08T08:40:31.626Z"
   },
   {
    "duration": 8,
    "start_time": "2021-12-08T08:40:31.661Z"
   },
   {
    "duration": 10,
    "start_time": "2021-12-08T08:40:31.671Z"
   },
   {
    "duration": 56,
    "start_time": "2021-12-08T08:40:31.683Z"
   },
   {
    "duration": 632,
    "start_time": "2021-12-08T08:40:31.742Z"
   },
   {
    "duration": 772,
    "start_time": "2021-12-08T08:40:32.376Z"
   },
   {
    "duration": 436,
    "start_time": "2021-12-08T08:40:33.150Z"
   },
   {
    "duration": 691,
    "start_time": "2021-12-08T08:40:33.589Z"
   },
   {
    "duration": 744,
    "start_time": "2021-12-08T08:40:34.283Z"
   },
   {
    "duration": 6,
    "start_time": "2021-12-08T08:40:35.033Z"
   },
   {
    "duration": 35,
    "start_time": "2021-12-08T08:40:35.042Z"
   },
   {
    "duration": 17,
    "start_time": "2021-12-08T08:40:35.079Z"
   },
   {
    "duration": 44,
    "start_time": "2021-12-08T08:40:35.099Z"
   },
   {
    "duration": 7,
    "start_time": "2021-12-08T08:40:35.146Z"
   },
   {
    "duration": 7,
    "start_time": "2021-12-08T08:40:35.156Z"
   },
   {
    "duration": 8,
    "start_time": "2021-12-08T08:40:35.165Z"
   },
   {
    "duration": 311,
    "start_time": "2021-12-08T08:40:35.176Z"
   },
   {
    "duration": 6,
    "start_time": "2021-12-08T08:40:35.489Z"
   },
   {
    "duration": 25,
    "start_time": "2021-12-08T08:40:35.498Z"
   },
   {
    "duration": 6,
    "start_time": "2021-12-08T08:40:35.526Z"
   },
   {
    "duration": 15,
    "start_time": "2021-12-08T08:40:35.535Z"
   },
   {
    "duration": 30,
    "start_time": "2021-12-08T08:40:35.553Z"
   },
   {
    "duration": 12,
    "start_time": "2021-12-08T08:40:35.624Z"
   },
   {
    "duration": 24,
    "start_time": "2021-12-08T08:40:35.638Z"
   },
   {
    "duration": 578,
    "start_time": "2021-12-08T08:40:35.664Z"
   },
   {
    "duration": 10,
    "start_time": "2021-12-08T08:40:36.244Z"
   },
   {
    "duration": 607,
    "start_time": "2021-12-08T08:40:36.256Z"
   },
   {
    "duration": 698,
    "start_time": "2021-12-08T08:40:36.865Z"
   },
   {
    "duration": 622,
    "start_time": "2021-12-08T08:40:37.565Z"
   },
   {
    "duration": 647,
    "start_time": "2021-12-08T08:40:38.190Z"
   },
   {
    "duration": 8,
    "start_time": "2021-12-08T08:40:38.840Z"
   },
   {
    "duration": 7,
    "start_time": "2021-12-08T08:40:38.850Z"
   },
   {
    "duration": 7,
    "start_time": "2021-12-08T08:40:38.859Z"
   },
   {
    "duration": 6,
    "start_time": "2021-12-08T08:40:38.868Z"
   },
   {
    "duration": 51,
    "start_time": "2021-12-08T08:40:38.876Z"
   },
   {
    "duration": 7,
    "start_time": "2021-12-08T08:40:38.930Z"
   },
   {
    "duration": 292,
    "start_time": "2021-12-08T08:40:38.939Z"
   },
   {
    "duration": 5,
    "start_time": "2021-12-08T08:46:10.274Z"
   },
   {
    "duration": 856,
    "start_time": "2021-12-08T08:46:10.289Z"
   },
   {
    "duration": 48,
    "start_time": "2021-12-08T08:46:11.148Z"
   },
   {
    "duration": 32,
    "start_time": "2021-12-08T08:46:11.199Z"
   },
   {
    "duration": 36,
    "start_time": "2021-12-08T08:46:11.234Z"
   },
   {
    "duration": 37,
    "start_time": "2021-12-08T08:46:11.272Z"
   },
   {
    "duration": 43,
    "start_time": "2021-12-08T08:46:11.311Z"
   },
   {
    "duration": 32,
    "start_time": "2021-12-08T08:46:11.357Z"
   },
   {
    "duration": 54,
    "start_time": "2021-12-08T08:46:11.392Z"
   },
   {
    "duration": 26,
    "start_time": "2021-12-08T08:46:11.452Z"
   },
   {
    "duration": 44,
    "start_time": "2021-12-08T08:46:11.481Z"
   },
   {
    "duration": 44,
    "start_time": "2021-12-08T08:46:11.527Z"
   },
   {
    "duration": 27,
    "start_time": "2021-12-08T08:46:11.574Z"
   },
   {
    "duration": 21,
    "start_time": "2021-12-08T08:46:11.604Z"
   },
   {
    "duration": 48,
    "start_time": "2021-12-08T08:46:11.627Z"
   },
   {
    "duration": 22,
    "start_time": "2021-12-08T08:46:11.678Z"
   },
   {
    "duration": 20,
    "start_time": "2021-12-08T08:46:11.702Z"
   },
   {
    "duration": 16,
    "start_time": "2021-12-08T08:46:11.725Z"
   },
   {
    "duration": 16,
    "start_time": "2021-12-08T08:46:11.743Z"
   },
   {
    "duration": 10,
    "start_time": "2021-12-08T08:46:11.762Z"
   },
   {
    "duration": 16,
    "start_time": "2021-12-08T08:46:11.774Z"
   },
   {
    "duration": 29,
    "start_time": "2021-12-08T08:46:11.823Z"
   },
   {
    "duration": 8,
    "start_time": "2021-12-08T08:46:11.854Z"
   },
   {
    "duration": 173,
    "start_time": "2021-12-08T08:46:11.865Z"
   },
   {
    "duration": 10,
    "start_time": "2021-12-08T08:46:12.041Z"
   },
   {
    "duration": 23,
    "start_time": "2021-12-08T08:46:12.053Z"
   },
   {
    "duration": 31,
    "start_time": "2021-12-08T08:46:12.079Z"
   },
   {
    "duration": 36,
    "start_time": "2021-12-08T08:46:12.117Z"
   },
   {
    "duration": 30,
    "start_time": "2021-12-08T08:46:12.157Z"
   },
   {
    "duration": 33,
    "start_time": "2021-12-08T08:46:12.189Z"
   },
   {
    "duration": 26,
    "start_time": "2021-12-08T08:46:12.224Z"
   },
   {
    "duration": 39,
    "start_time": "2021-12-08T08:46:12.253Z"
   },
   {
    "duration": 38,
    "start_time": "2021-12-08T08:46:12.295Z"
   },
   {
    "duration": 19,
    "start_time": "2021-12-08T08:46:12.336Z"
   },
   {
    "duration": 43,
    "start_time": "2021-12-08T08:46:12.357Z"
   },
   {
    "duration": 35,
    "start_time": "2021-12-08T08:46:12.402Z"
   },
   {
    "duration": 17,
    "start_time": "2021-12-08T08:46:12.440Z"
   },
   {
    "duration": 4,
    "start_time": "2021-12-08T08:46:12.460Z"
   },
   {
    "duration": 6,
    "start_time": "2021-12-08T08:46:12.466Z"
   },
   {
    "duration": 53,
    "start_time": "2021-12-08T08:46:12.475Z"
   },
   {
    "duration": 17,
    "start_time": "2021-12-08T08:46:12.531Z"
   },
   {
    "duration": 29,
    "start_time": "2021-12-08T08:46:12.550Z"
   },
   {
    "duration": 12,
    "start_time": "2021-12-08T08:46:12.581Z"
   },
   {
    "duration": 33,
    "start_time": "2021-12-08T08:46:12.624Z"
   },
   {
    "duration": 5,
    "start_time": "2021-12-08T08:46:12.659Z"
   },
   {
    "duration": 7,
    "start_time": "2021-12-08T08:46:12.667Z"
   },
   {
    "duration": 67,
    "start_time": "2021-12-08T08:46:12.677Z"
   },
   {
    "duration": 596,
    "start_time": "2021-12-08T08:46:12.747Z"
   },
   {
    "duration": 696,
    "start_time": "2021-12-08T08:46:13.346Z"
   },
   {
    "duration": 418,
    "start_time": "2021-12-08T08:46:14.044Z"
   },
   {
    "duration": 630,
    "start_time": "2021-12-08T08:46:14.464Z"
   },
   {
    "duration": 878,
    "start_time": "2021-12-08T08:46:15.097Z"
   },
   {
    "duration": 6,
    "start_time": "2021-12-08T08:46:15.977Z"
   },
   {
    "duration": 7,
    "start_time": "2021-12-08T08:46:15.986Z"
   },
   {
    "duration": 32,
    "start_time": "2021-12-08T08:46:15.995Z"
   },
   {
    "duration": 26,
    "start_time": "2021-12-08T08:46:16.030Z"
   },
   {
    "duration": 8,
    "start_time": "2021-12-08T08:46:16.058Z"
   },
   {
    "duration": 8,
    "start_time": "2021-12-08T08:46:16.068Z"
   },
   {
    "duration": 45,
    "start_time": "2021-12-08T08:46:16.079Z"
   },
   {
    "duration": 265,
    "start_time": "2021-12-08T08:46:16.126Z"
   },
   {
    "duration": 7,
    "start_time": "2021-12-08T08:46:16.394Z"
   },
   {
    "duration": 37,
    "start_time": "2021-12-08T08:46:16.403Z"
   },
   {
    "duration": 23,
    "start_time": "2021-12-08T08:46:16.442Z"
   },
   {
    "duration": 39,
    "start_time": "2021-12-08T08:46:16.468Z"
   },
   {
    "duration": 36,
    "start_time": "2021-12-08T08:46:16.510Z"
   },
   {
    "duration": 16,
    "start_time": "2021-12-08T08:46:16.548Z"
   },
   {
    "duration": 48,
    "start_time": "2021-12-08T08:46:16.567Z"
   },
   {
    "duration": 598,
    "start_time": "2021-12-08T08:46:16.617Z"
   },
   {
    "duration": 14,
    "start_time": "2021-12-08T08:46:17.217Z"
   },
   {
    "duration": 583,
    "start_time": "2021-12-08T08:46:17.233Z"
   },
   {
    "duration": 672,
    "start_time": "2021-12-08T08:46:17.823Z"
   },
   {
    "duration": 582,
    "start_time": "2021-12-08T08:46:18.498Z"
   },
   {
    "duration": 584,
    "start_time": "2021-12-08T08:46:19.084Z"
   },
   {
    "duration": 8,
    "start_time": "2021-12-08T08:46:19.671Z"
   },
   {
    "duration": 6,
    "start_time": "2021-12-08T08:46:19.681Z"
   },
   {
    "duration": 39,
    "start_time": "2021-12-08T08:46:19.689Z"
   },
   {
    "duration": 9,
    "start_time": "2021-12-08T08:46:19.730Z"
   },
   {
    "duration": 7,
    "start_time": "2021-12-08T08:46:19.742Z"
   },
   {
    "duration": 6,
    "start_time": "2021-12-08T08:46:19.751Z"
   },
   {
    "duration": 302,
    "start_time": "2021-12-08T08:46:19.760Z"
   },
   {
    "duration": 4,
    "start_time": "2021-12-08T08:47:42.950Z"
   },
   {
    "duration": 804,
    "start_time": "2021-12-08T08:47:42.957Z"
   },
   {
    "duration": 48,
    "start_time": "2021-12-08T08:47:43.763Z"
   },
   {
    "duration": 15,
    "start_time": "2021-12-08T08:47:43.824Z"
   },
   {
    "duration": 9,
    "start_time": "2021-12-08T08:47:43.842Z"
   },
   {
    "duration": 5,
    "start_time": "2021-12-08T08:47:43.854Z"
   },
   {
    "duration": 13,
    "start_time": "2021-12-08T08:47:43.861Z"
   },
   {
    "duration": 52,
    "start_time": "2021-12-08T08:47:43.876Z"
   },
   {
    "duration": 11,
    "start_time": "2021-12-08T08:47:43.931Z"
   },
   {
    "duration": 9,
    "start_time": "2021-12-08T08:47:43.945Z"
   },
   {
    "duration": 23,
    "start_time": "2021-12-08T08:47:43.956Z"
   },
   {
    "duration": 52,
    "start_time": "2021-12-08T08:47:43.981Z"
   },
   {
    "duration": 10,
    "start_time": "2021-12-08T08:47:44.036Z"
   },
   {
    "duration": 9,
    "start_time": "2021-12-08T08:47:44.048Z"
   },
   {
    "duration": 26,
    "start_time": "2021-12-08T08:47:44.059Z"
   },
   {
    "duration": 44,
    "start_time": "2021-12-08T08:47:44.087Z"
   },
   {
    "duration": 9,
    "start_time": "2021-12-08T08:47:44.134Z"
   },
   {
    "duration": 17,
    "start_time": "2021-12-08T08:47:44.146Z"
   },
   {
    "duration": 59,
    "start_time": "2021-12-08T08:47:44.165Z"
   },
   {
    "duration": 10,
    "start_time": "2021-12-08T08:47:44.227Z"
   },
   {
    "duration": 14,
    "start_time": "2021-12-08T08:47:44.240Z"
   },
   {
    "duration": 29,
    "start_time": "2021-12-08T08:47:44.256Z"
   },
   {
    "duration": 37,
    "start_time": "2021-12-08T08:47:44.287Z"
   },
   {
    "duration": 155,
    "start_time": "2021-12-08T08:47:44.327Z"
   },
   {
    "duration": 11,
    "start_time": "2021-12-08T08:47:44.485Z"
   },
   {
    "duration": 6,
    "start_time": "2021-12-08T08:47:44.499Z"
   },
   {
    "duration": 4,
    "start_time": "2021-12-08T08:47:44.527Z"
   },
   {
    "duration": 7,
    "start_time": "2021-12-08T08:47:44.535Z"
   },
   {
    "duration": 8,
    "start_time": "2021-12-08T08:47:44.544Z"
   },
   {
    "duration": 10,
    "start_time": "2021-12-08T08:47:44.555Z"
   },
   {
    "duration": 7,
    "start_time": "2021-12-08T08:47:44.567Z"
   },
   {
    "duration": 11,
    "start_time": "2021-12-08T08:47:44.624Z"
   },
   {
    "duration": 9,
    "start_time": "2021-12-08T08:47:44.637Z"
   },
   {
    "duration": 12,
    "start_time": "2021-12-08T08:47:44.649Z"
   },
   {
    "duration": 15,
    "start_time": "2021-12-08T08:47:44.663Z"
   },
   {
    "duration": 71,
    "start_time": "2021-12-08T08:47:44.680Z"
   },
   {
    "duration": 18,
    "start_time": "2021-12-08T08:47:44.754Z"
   },
   {
    "duration": 5,
    "start_time": "2021-12-08T08:47:44.775Z"
   },
   {
    "duration": 44,
    "start_time": "2021-12-08T08:47:44.783Z"
   },
   {
    "duration": 39,
    "start_time": "2021-12-08T08:47:44.830Z"
   },
   {
    "duration": 19,
    "start_time": "2021-12-08T08:47:44.872Z"
   },
   {
    "duration": 59,
    "start_time": "2021-12-08T08:47:44.893Z"
   },
   {
    "duration": 14,
    "start_time": "2021-12-08T08:47:44.954Z"
   },
   {
    "duration": 63,
    "start_time": "2021-12-08T08:47:44.971Z"
   },
   {
    "duration": 7,
    "start_time": "2021-12-08T08:47:45.037Z"
   },
   {
    "duration": 8,
    "start_time": "2021-12-08T08:47:45.046Z"
   },
   {
    "duration": 32,
    "start_time": "2021-12-08T08:47:45.056Z"
   },
   {
    "duration": 608,
    "start_time": "2021-12-08T08:47:45.123Z"
   },
   {
    "duration": 707,
    "start_time": "2021-12-08T08:47:45.734Z"
   },
   {
    "duration": 404,
    "start_time": "2021-12-08T08:47:46.444Z"
   },
   {
    "duration": 648,
    "start_time": "2021-12-08T08:47:46.850Z"
   },
   {
    "duration": 682,
    "start_time": "2021-12-08T08:47:47.500Z"
   },
   {
    "duration": 7,
    "start_time": "2021-12-08T08:47:48.186Z"
   },
   {
    "duration": 36,
    "start_time": "2021-12-08T08:47:48.196Z"
   },
   {
    "duration": 28,
    "start_time": "2021-12-08T08:47:48.235Z"
   },
   {
    "duration": 59,
    "start_time": "2021-12-08T08:47:48.266Z"
   },
   {
    "duration": 8,
    "start_time": "2021-12-08T08:47:48.327Z"
   },
   {
    "duration": 28,
    "start_time": "2021-12-08T08:47:48.338Z"
   },
   {
    "duration": 19,
    "start_time": "2021-12-08T08:47:48.369Z"
   },
   {
    "duration": 279,
    "start_time": "2021-12-08T08:47:48.391Z"
   },
   {
    "duration": 7,
    "start_time": "2021-12-08T08:47:48.672Z"
   },
   {
    "duration": 7,
    "start_time": "2021-12-08T08:47:48.681Z"
   },
   {
    "duration": 34,
    "start_time": "2021-12-08T08:47:48.690Z"
   },
   {
    "duration": 11,
    "start_time": "2021-12-08T08:47:48.727Z"
   },
   {
    "duration": 30,
    "start_time": "2021-12-08T08:47:48.740Z"
   },
   {
    "duration": 9,
    "start_time": "2021-12-08T08:47:48.773Z"
   },
   {
    "duration": 56,
    "start_time": "2021-12-08T08:47:48.785Z"
   },
   {
    "duration": 592,
    "start_time": "2021-12-08T08:47:48.843Z"
   },
   {
    "duration": 9,
    "start_time": "2021-12-08T08:47:49.437Z"
   },
   {
    "duration": 580,
    "start_time": "2021-12-08T08:47:49.448Z"
   },
   {
    "duration": 692,
    "start_time": "2021-12-08T08:47:50.031Z"
   },
   {
    "duration": 583,
    "start_time": "2021-12-08T08:47:50.726Z"
   },
   {
    "duration": 658,
    "start_time": "2021-12-08T08:47:51.312Z"
   },
   {
    "duration": 8,
    "start_time": "2021-12-08T08:47:51.972Z"
   },
   {
    "duration": 8,
    "start_time": "2021-12-08T08:47:51.982Z"
   },
   {
    "duration": 32,
    "start_time": "2021-12-08T08:47:51.992Z"
   },
   {
    "duration": 6,
    "start_time": "2021-12-08T08:47:52.027Z"
   },
   {
    "duration": 6,
    "start_time": "2021-12-08T08:47:52.036Z"
   },
   {
    "duration": 6,
    "start_time": "2021-12-08T08:47:52.045Z"
   },
   {
    "duration": 310,
    "start_time": "2021-12-08T08:47:52.054Z"
   },
   {
    "duration": 4,
    "start_time": "2021-12-08T08:50:27.514Z"
   },
   {
    "duration": 813,
    "start_time": "2021-12-08T08:50:27.529Z"
   },
   {
    "duration": 46,
    "start_time": "2021-12-08T08:50:28.345Z"
   },
   {
    "duration": 29,
    "start_time": "2021-12-08T08:50:28.395Z"
   },
   {
    "duration": 10,
    "start_time": "2021-12-08T08:50:28.427Z"
   },
   {
    "duration": 5,
    "start_time": "2021-12-08T08:50:28.439Z"
   },
   {
    "duration": 12,
    "start_time": "2021-12-08T08:50:28.447Z"
   },
   {
    "duration": 13,
    "start_time": "2021-12-08T08:50:28.462Z"
   },
   {
    "duration": 58,
    "start_time": "2021-12-08T08:50:28.477Z"
   },
   {
    "duration": 8,
    "start_time": "2021-12-08T08:50:28.541Z"
   },
   {
    "duration": 18,
    "start_time": "2021-12-08T08:50:28.552Z"
   },
   {
    "duration": 59,
    "start_time": "2021-12-08T08:50:28.572Z"
   },
   {
    "duration": 14,
    "start_time": "2021-12-08T08:50:28.634Z"
   },
   {
    "duration": 7,
    "start_time": "2021-12-08T08:50:28.651Z"
   },
   {
    "duration": 64,
    "start_time": "2021-12-08T08:50:28.661Z"
   },
   {
    "duration": 14,
    "start_time": "2021-12-08T08:50:28.728Z"
   },
   {
    "duration": 12,
    "start_time": "2021-12-08T08:50:28.745Z"
   },
   {
    "duration": 18,
    "start_time": "2021-12-08T08:50:28.760Z"
   },
   {
    "duration": 57,
    "start_time": "2021-12-08T08:50:28.780Z"
   },
   {
    "duration": 11,
    "start_time": "2021-12-08T08:50:28.839Z"
   },
   {
    "duration": 17,
    "start_time": "2021-12-08T08:50:28.852Z"
   },
   {
    "duration": 57,
    "start_time": "2021-12-08T08:50:28.871Z"
   },
   {
    "duration": 9,
    "start_time": "2021-12-08T08:50:28.930Z"
   },
   {
    "duration": 147,
    "start_time": "2021-12-08T08:50:28.942Z"
   },
   {
    "duration": 11,
    "start_time": "2021-12-08T08:50:29.092Z"
   },
   {
    "duration": 20,
    "start_time": "2021-12-08T08:50:29.106Z"
   },
   {
    "duration": 5,
    "start_time": "2021-12-08T08:50:29.129Z"
   },
   {
    "duration": 5,
    "start_time": "2021-12-08T08:50:29.141Z"
   },
   {
    "duration": 8,
    "start_time": "2021-12-08T08:50:29.150Z"
   },
   {
    "duration": 14,
    "start_time": "2021-12-08T08:50:29.160Z"
   },
   {
    "duration": 48,
    "start_time": "2021-12-08T08:50:29.176Z"
   },
   {
    "duration": 12,
    "start_time": "2021-12-08T08:50:29.227Z"
   },
   {
    "duration": 8,
    "start_time": "2021-12-08T08:50:29.242Z"
   },
   {
    "duration": 12,
    "start_time": "2021-12-08T08:50:29.252Z"
   },
   {
    "duration": 13,
    "start_time": "2021-12-08T08:50:29.266Z"
   },
   {
    "duration": 71,
    "start_time": "2021-12-08T08:50:29.281Z"
   },
   {
    "duration": 17,
    "start_time": "2021-12-08T08:50:29.355Z"
   },
   {
    "duration": 6,
    "start_time": "2021-12-08T08:50:29.375Z"
   },
   {
    "duration": 43,
    "start_time": "2021-12-08T08:50:29.384Z"
   },
   {
    "duration": 53,
    "start_time": "2021-12-08T08:50:29.429Z"
   },
   {
    "duration": 16,
    "start_time": "2021-12-08T08:50:29.484Z"
   },
   {
    "duration": 30,
    "start_time": "2021-12-08T08:50:29.502Z"
   },
   {
    "duration": 17,
    "start_time": "2021-12-08T08:50:29.535Z"
   },
   {
    "duration": 32,
    "start_time": "2021-12-08T08:50:29.554Z"
   },
   {
    "duration": 5,
    "start_time": "2021-12-08T08:50:29.588Z"
   },
   {
    "duration": 5,
    "start_time": "2021-12-08T08:50:29.623Z"
   },
   {
    "duration": 47,
    "start_time": "2021-12-08T08:50:29.630Z"
   },
   {
    "duration": 617,
    "start_time": "2021-12-08T08:50:29.679Z"
   },
   {
    "duration": 732,
    "start_time": "2021-12-08T08:50:30.298Z"
   },
   {
    "duration": 434,
    "start_time": "2021-12-08T08:50:31.033Z"
   },
   {
    "duration": 646,
    "start_time": "2021-12-08T08:50:31.469Z"
   },
   {
    "duration": 688,
    "start_time": "2021-12-08T08:50:32.123Z"
   },
   {
    "duration": 13,
    "start_time": "2021-12-08T08:50:32.813Z"
   },
   {
    "duration": 6,
    "start_time": "2021-12-08T08:50:32.828Z"
   },
   {
    "duration": 13,
    "start_time": "2021-12-08T08:50:32.837Z"
   },
   {
    "duration": 24,
    "start_time": "2021-12-08T08:50:32.853Z"
   },
   {
    "duration": 43,
    "start_time": "2021-12-08T08:50:32.880Z"
   },
   {
    "duration": 7,
    "start_time": "2021-12-08T08:50:32.925Z"
   },
   {
    "duration": 8,
    "start_time": "2021-12-08T08:50:32.934Z"
   },
   {
    "duration": 293,
    "start_time": "2021-12-08T08:50:32.944Z"
   },
   {
    "duration": 7,
    "start_time": "2021-12-08T08:50:33.239Z"
   },
   {
    "duration": 8,
    "start_time": "2021-12-08T08:50:33.249Z"
   },
   {
    "duration": 8,
    "start_time": "2021-12-08T08:50:33.259Z"
   },
   {
    "duration": 16,
    "start_time": "2021-12-08T08:50:33.269Z"
   },
   {
    "duration": 64,
    "start_time": "2021-12-08T08:50:33.287Z"
   },
   {
    "duration": 10,
    "start_time": "2021-12-08T08:50:33.354Z"
   },
   {
    "duration": 21,
    "start_time": "2021-12-08T08:50:33.366Z"
   },
   {
    "duration": 619,
    "start_time": "2021-12-08T08:50:33.390Z"
   },
   {
    "duration": 25,
    "start_time": "2021-12-08T08:50:34.012Z"
   },
   {
    "duration": 825,
    "start_time": "2021-12-08T08:50:34.040Z"
   },
   {
    "duration": 804,
    "start_time": "2021-12-08T08:50:34.869Z"
   },
   {
    "duration": 595,
    "start_time": "2021-12-08T08:50:35.675Z"
   },
   {
    "duration": 608,
    "start_time": "2021-12-08T08:50:36.272Z"
   },
   {
    "duration": 6,
    "start_time": "2021-12-08T08:50:36.883Z"
   },
   {
    "duration": 6,
    "start_time": "2021-12-08T08:50:36.892Z"
   },
   {
    "duration": 6,
    "start_time": "2021-12-08T08:50:36.924Z"
   },
   {
    "duration": 13,
    "start_time": "2021-12-08T08:50:36.933Z"
   },
   {
    "duration": 7,
    "start_time": "2021-12-08T08:50:36.948Z"
   },
   {
    "duration": 6,
    "start_time": "2021-12-08T08:50:36.958Z"
   },
   {
    "duration": 294,
    "start_time": "2021-12-08T08:50:36.967Z"
   },
   {
    "duration": 4,
    "start_time": "2021-12-08T09:02:52.067Z"
   },
   {
    "duration": 887,
    "start_time": "2021-12-08T09:02:52.075Z"
   },
   {
    "duration": 57,
    "start_time": "2021-12-08T09:02:52.966Z"
   },
   {
    "duration": 17,
    "start_time": "2021-12-08T09:02:53.027Z"
   },
   {
    "duration": 9,
    "start_time": "2021-12-08T09:02:53.046Z"
   },
   {
    "duration": 6,
    "start_time": "2021-12-08T09:02:53.057Z"
   },
   {
    "duration": 13,
    "start_time": "2021-12-08T09:02:53.065Z"
   },
   {
    "duration": 12,
    "start_time": "2021-12-08T09:02:53.124Z"
   },
   {
    "duration": 9,
    "start_time": "2021-12-08T09:02:53.140Z"
   },
   {
    "duration": 10,
    "start_time": "2021-12-08T09:02:53.153Z"
   },
   {
    "duration": 59,
    "start_time": "2021-12-08T09:02:53.165Z"
   },
   {
    "duration": 20,
    "start_time": "2021-12-08T09:02:53.227Z"
   },
   {
    "duration": 11,
    "start_time": "2021-12-08T09:02:53.250Z"
   },
   {
    "duration": 6,
    "start_time": "2021-12-08T09:02:53.263Z"
   },
   {
    "duration": 65,
    "start_time": "2021-12-08T09:02:53.271Z"
   },
   {
    "duration": 11,
    "start_time": "2021-12-08T09:02:53.339Z"
   },
   {
    "duration": 9,
    "start_time": "2021-12-08T09:02:53.353Z"
   },
   {
    "duration": 16,
    "start_time": "2021-12-08T09:02:53.364Z"
   },
   {
    "duration": 50,
    "start_time": "2021-12-08T09:02:53.382Z"
   },
   {
    "duration": 11,
    "start_time": "2021-12-08T09:02:53.434Z"
   },
   {
    "duration": 18,
    "start_time": "2021-12-08T09:02:53.447Z"
   },
   {
    "duration": 28,
    "start_time": "2021-12-08T09:02:53.467Z"
   },
   {
    "duration": 32,
    "start_time": "2021-12-08T09:02:53.497Z"
   },
   {
    "duration": 7,
    "start_time": "2021-12-08T09:02:53.532Z"
   },
   {
    "duration": 7,
    "start_time": "2021-12-08T09:02:53.542Z"
   },
   {
    "duration": 8,
    "start_time": "2021-12-08T09:02:53.552Z"
   },
   {
    "duration": 58,
    "start_time": "2021-12-08T09:02:53.568Z"
   },
   {
    "duration": 8,
    "start_time": "2021-12-08T09:02:53.630Z"
   },
   {
    "duration": 20,
    "start_time": "2021-12-08T09:02:53.640Z"
   },
   {
    "duration": 16,
    "start_time": "2021-12-08T09:02:53.662Z"
   },
   {
    "duration": 6,
    "start_time": "2021-12-08T09:02:53.680Z"
   },
   {
    "duration": 22,
    "start_time": "2021-12-08T09:02:53.688Z"
   },
   {
    "duration": 37,
    "start_time": "2021-12-08T09:02:53.713Z"
   },
   {
    "duration": 36,
    "start_time": "2021-12-08T09:02:53.752Z"
   },
   {
    "duration": 9,
    "start_time": "2021-12-08T09:02:53.791Z"
   },
   {
    "duration": 13,
    "start_time": "2021-12-08T09:02:53.802Z"
   },
   {
    "duration": 47,
    "start_time": "2021-12-08T09:02:53.818Z"
   },
   {
    "duration": 22,
    "start_time": "2021-12-08T09:02:53.868Z"
   },
   {
    "duration": 28,
    "start_time": "2021-12-08T09:02:53.892Z"
   },
   {
    "duration": 942,
    "start_time": "2021-12-08T09:02:53.923Z"
   },
   {
    "duration": 35,
    "start_time": "2021-12-08T09:02:54.868Z"
   },
   {
    "duration": 7,
    "start_time": "2021-12-08T09:02:54.924Z"
   },
   {
    "duration": 12,
    "start_time": "2021-12-08T09:02:54.934Z"
   },
   {
    "duration": 33,
    "start_time": "2021-12-08T09:02:54.949Z"
   },
   {
    "duration": 704,
    "start_time": "2021-12-08T09:02:54.984Z"
   },
   {
    "duration": 718,
    "start_time": "2021-12-08T09:02:55.691Z"
   },
   {
    "duration": 429,
    "start_time": "2021-12-08T09:02:56.412Z"
   },
   {
    "duration": 655,
    "start_time": "2021-12-08T09:02:56.844Z"
   },
   {
    "duration": 959,
    "start_time": "2021-12-08T09:02:57.502Z"
   },
   {
    "duration": 62,
    "start_time": "2021-12-08T09:02:58.463Z"
   },
   {
    "duration": 11,
    "start_time": "2021-12-08T09:02:58.528Z"
   },
   {
    "duration": 14,
    "start_time": "2021-12-08T09:02:58.542Z"
   },
   {
    "duration": 84,
    "start_time": "2021-12-08T09:02:58.559Z"
   },
   {
    "duration": 8,
    "start_time": "2021-12-08T09:02:58.646Z"
   },
   {
    "duration": 67,
    "start_time": "2021-12-08T09:02:58.657Z"
   },
   {
    "duration": 7,
    "start_time": "2021-12-08T09:02:58.726Z"
   },
   {
    "duration": 408,
    "start_time": "2021-12-08T09:02:58.736Z"
   },
   {
    "duration": -2910,
    "start_time": "2021-12-08T09:03:02.057Z"
   },
   {
    "duration": -2914,
    "start_time": "2021-12-08T09:03:02.063Z"
   },
   {
    "duration": -2919,
    "start_time": "2021-12-08T09:03:02.070Z"
   },
   {
    "duration": -2924,
    "start_time": "2021-12-08T09:03:02.077Z"
   },
   {
    "duration": -2930,
    "start_time": "2021-12-08T09:03:02.085Z"
   },
   {
    "duration": -2937,
    "start_time": "2021-12-08T09:03:02.093Z"
   },
   {
    "duration": -2942,
    "start_time": "2021-12-08T09:03:02.100Z"
   },
   {
    "duration": -2947,
    "start_time": "2021-12-08T09:03:02.106Z"
   },
   {
    "duration": -2953,
    "start_time": "2021-12-08T09:03:02.114Z"
   },
   {
    "duration": -2958,
    "start_time": "2021-12-08T09:03:02.120Z"
   },
   {
    "duration": -2975,
    "start_time": "2021-12-08T09:03:02.138Z"
   },
   {
    "duration": -2979,
    "start_time": "2021-12-08T09:03:02.144Z"
   },
   {
    "duration": -2985,
    "start_time": "2021-12-08T09:03:02.151Z"
   },
   {
    "duration": -2990,
    "start_time": "2021-12-08T09:03:02.157Z"
   },
   {
    "duration": -2996,
    "start_time": "2021-12-08T09:03:02.164Z"
   },
   {
    "duration": -3001,
    "start_time": "2021-12-08T09:03:02.171Z"
   },
   {
    "duration": -3006,
    "start_time": "2021-12-08T09:03:02.177Z"
   },
   {
    "duration": -3133,
    "start_time": "2021-12-08T09:03:02.305Z"
   },
   {
    "duration": -3144,
    "start_time": "2021-12-08T09:03:02.318Z"
   },
   {
    "duration": -3218,
    "start_time": "2021-12-08T09:03:02.394Z"
   },
   {
    "duration": -3234,
    "start_time": "2021-12-08T09:03:02.411Z"
   },
   {
    "duration": 5,
    "start_time": "2021-12-08T09:06:57.018Z"
   },
   {
    "duration": 891,
    "start_time": "2021-12-08T09:06:57.026Z"
   },
   {
    "duration": 54,
    "start_time": "2021-12-08T09:06:57.920Z"
   },
   {
    "duration": 15,
    "start_time": "2021-12-08T09:06:57.978Z"
   },
   {
    "duration": 36,
    "start_time": "2021-12-08T09:06:57.996Z"
   },
   {
    "duration": 6,
    "start_time": "2021-12-08T09:06:58.035Z"
   },
   {
    "duration": 14,
    "start_time": "2021-12-08T09:06:58.043Z"
   },
   {
    "duration": 11,
    "start_time": "2021-12-08T09:06:58.060Z"
   },
   {
    "duration": 52,
    "start_time": "2021-12-08T09:06:58.075Z"
   },
   {
    "duration": 9,
    "start_time": "2021-12-08T09:06:58.130Z"
   },
   {
    "duration": 23,
    "start_time": "2021-12-08T09:06:58.142Z"
   },
   {
    "duration": 62,
    "start_time": "2021-12-08T09:06:58.168Z"
   },
   {
    "duration": 13,
    "start_time": "2021-12-08T09:06:58.232Z"
   },
   {
    "duration": 6,
    "start_time": "2021-12-08T09:06:58.248Z"
   },
   {
    "duration": 31,
    "start_time": "2021-12-08T09:06:58.256Z"
   },
   {
    "duration": 46,
    "start_time": "2021-12-08T09:06:58.289Z"
   },
   {
    "duration": 13,
    "start_time": "2021-12-08T09:06:58.339Z"
   },
   {
    "duration": 24,
    "start_time": "2021-12-08T09:06:58.356Z"
   },
   {
    "duration": 58,
    "start_time": "2021-12-08T09:06:58.383Z"
   },
   {
    "duration": 12,
    "start_time": "2021-12-08T09:06:58.444Z"
   },
   {
    "duration": 17,
    "start_time": "2021-12-08T09:06:58.459Z"
   },
   {
    "duration": 73,
    "start_time": "2021-12-08T09:06:58.479Z"
   },
   {
    "duration": 7,
    "start_time": "2021-12-08T09:06:58.554Z"
   },
   {
    "duration": 6,
    "start_time": "2021-12-08T09:06:58.564Z"
   },
   {
    "duration": 9,
    "start_time": "2021-12-08T09:06:58.573Z"
   },
   {
    "duration": 7,
    "start_time": "2021-12-08T09:06:58.624Z"
   },
   {
    "duration": 11,
    "start_time": "2021-12-08T09:06:58.638Z"
   },
   {
    "duration": 9,
    "start_time": "2021-12-08T09:06:58.652Z"
   },
   {
    "duration": 59,
    "start_time": "2021-12-08T09:06:58.664Z"
   },
   {
    "duration": 9,
    "start_time": "2021-12-08T09:06:58.725Z"
   },
   {
    "duration": 5,
    "start_time": "2021-12-08T09:06:58.736Z"
   },
   {
    "duration": 6,
    "start_time": "2021-12-08T09:06:58.743Z"
   },
   {
    "duration": 32,
    "start_time": "2021-12-08T09:06:58.752Z"
   },
   {
    "duration": 50,
    "start_time": "2021-12-08T09:06:58.786Z"
   },
   {
    "duration": 4,
    "start_time": "2021-12-08T09:06:58.839Z"
   },
   {
    "duration": 10,
    "start_time": "2021-12-08T09:06:58.846Z"
   },
   {
    "duration": 65,
    "start_time": "2021-12-08T09:06:58.858Z"
   },
   {
    "duration": 17,
    "start_time": "2021-12-08T09:06:58.925Z"
   },
   {
    "duration": 40,
    "start_time": "2021-12-08T09:06:58.944Z"
   },
   {
    "duration": 1117,
    "start_time": "2021-12-08T09:06:58.987Z"
   },
   {
    "duration": 51,
    "start_time": "2021-12-08T09:07:00.106Z"
   },
   {
    "duration": 7,
    "start_time": "2021-12-08T09:07:00.160Z"
   },
   {
    "duration": 8,
    "start_time": "2021-12-08T09:07:00.169Z"
   },
   {
    "duration": 63,
    "start_time": "2021-12-08T09:07:00.180Z"
   },
   {
    "duration": 745,
    "start_time": "2021-12-08T09:07:00.246Z"
   },
   {
    "duration": 797,
    "start_time": "2021-12-08T09:07:00.994Z"
   },
   {
    "duration": 409,
    "start_time": "2021-12-08T09:07:01.794Z"
   },
   {
    "duration": 658,
    "start_time": "2021-12-08T09:07:02.206Z"
   },
   {
    "duration": 751,
    "start_time": "2021-12-08T09:07:02.867Z"
   },
   {
    "duration": 6,
    "start_time": "2021-12-08T09:07:03.620Z"
   },
   {
    "duration": 6,
    "start_time": "2021-12-08T09:07:03.628Z"
   },
   {
    "duration": 12,
    "start_time": "2021-12-08T09:07:03.636Z"
   },
   {
    "duration": 73,
    "start_time": "2021-12-08T09:07:03.650Z"
   },
   {
    "duration": 9,
    "start_time": "2021-12-08T09:07:03.727Z"
   },
   {
    "duration": 10,
    "start_time": "2021-12-08T09:07:03.739Z"
   },
   {
    "duration": 7,
    "start_time": "2021-12-08T09:07:03.752Z"
   },
   {
    "duration": 329,
    "start_time": "2021-12-08T09:07:03.761Z"
   },
   {
    "duration": 7,
    "start_time": "2021-12-08T09:07:04.092Z"
   },
   {
    "duration": 28,
    "start_time": "2021-12-08T09:07:04.101Z"
   },
   {
    "duration": 13,
    "start_time": "2021-12-08T09:07:04.131Z"
   },
   {
    "duration": 20,
    "start_time": "2021-12-08T09:07:04.146Z"
   },
   {
    "duration": 54,
    "start_time": "2021-12-08T09:07:04.169Z"
   },
   {
    "duration": 9,
    "start_time": "2021-12-08T09:07:04.226Z"
   },
   {
    "duration": 16,
    "start_time": "2021-12-08T09:07:04.238Z"
   },
   {
    "duration": 38,
    "start_time": "2021-12-08T09:07:04.256Z"
   },
   {
    "duration": 23,
    "start_time": "2021-12-08T09:07:04.323Z"
   },
   {
    "duration": 588,
    "start_time": "2021-12-08T09:07:04.349Z"
   },
   {
    "duration": 8,
    "start_time": "2021-12-08T09:07:04.940Z"
   },
   {
    "duration": 503,
    "start_time": "2021-12-08T09:07:04.951Z"
   },
   {
    "duration": -2885,
    "start_time": "2021-12-08T09:07:08.342Z"
   },
   {
    "duration": -2897,
    "start_time": "2021-12-08T09:07:08.355Z"
   },
   {
    "duration": -2905,
    "start_time": "2021-12-08T09:07:08.365Z"
   },
   {
    "duration": -2930,
    "start_time": "2021-12-08T09:07:08.391Z"
   },
   {
    "duration": -2879,
    "start_time": "2021-12-08T09:07:08.412Z"
   },
   {
    "duration": -2887,
    "start_time": "2021-12-08T09:07:08.421Z"
   },
   {
    "duration": -2896,
    "start_time": "2021-12-08T09:07:08.432Z"
   },
   {
    "duration": -2903,
    "start_time": "2021-12-08T09:07:08.441Z"
   },
   {
    "duration": -2911,
    "start_time": "2021-12-08T09:07:08.451Z"
   },
   {
    "duration": -2918,
    "start_time": "2021-12-08T09:07:08.460Z"
   },
   {
    "duration": 6,
    "start_time": "2021-12-08T09:13:39.536Z"
   },
   {
    "duration": 888,
    "start_time": "2021-12-08T09:13:39.546Z"
   },
   {
    "duration": 48,
    "start_time": "2021-12-08T09:13:40.438Z"
   },
   {
    "duration": 43,
    "start_time": "2021-12-08T09:13:40.490Z"
   },
   {
    "duration": 12,
    "start_time": "2021-12-08T09:13:40.537Z"
   },
   {
    "duration": 7,
    "start_time": "2021-12-08T09:13:40.552Z"
   },
   {
    "duration": 16,
    "start_time": "2021-12-08T09:13:40.562Z"
   },
   {
    "duration": 16,
    "start_time": "2021-12-08T09:13:40.627Z"
   },
   {
    "duration": 14,
    "start_time": "2021-12-08T09:13:40.647Z"
   },
   {
    "duration": 36,
    "start_time": "2021-12-08T09:13:40.664Z"
   },
   {
    "duration": 51,
    "start_time": "2021-12-08T09:13:40.703Z"
   },
   {
    "duration": 22,
    "start_time": "2021-12-08T09:13:40.757Z"
   },
   {
    "duration": 16,
    "start_time": "2021-12-08T09:13:40.781Z"
   },
   {
    "duration": 13,
    "start_time": "2021-12-08T09:13:40.800Z"
   },
   {
    "duration": 38,
    "start_time": "2021-12-08T09:13:40.824Z"
   },
   {
    "duration": 17,
    "start_time": "2021-12-08T09:13:40.864Z"
   },
   {
    "duration": 21,
    "start_time": "2021-12-08T09:13:40.883Z"
   },
   {
    "duration": 35,
    "start_time": "2021-12-08T09:13:40.907Z"
   },
   {
    "duration": 42,
    "start_time": "2021-12-08T09:13:40.945Z"
   },
   {
    "duration": 35,
    "start_time": "2021-12-08T09:13:40.990Z"
   },
   {
    "duration": 42,
    "start_time": "2021-12-08T09:13:41.028Z"
   },
   {
    "duration": 36,
    "start_time": "2021-12-08T09:13:41.073Z"
   },
   {
    "duration": 5,
    "start_time": "2021-12-08T09:13:41.115Z"
   },
   {
    "duration": 21,
    "start_time": "2021-12-08T09:13:41.124Z"
   },
   {
    "duration": 17,
    "start_time": "2021-12-08T09:13:41.148Z"
   },
   {
    "duration": 13,
    "start_time": "2021-12-08T09:13:41.168Z"
   },
   {
    "duration": 23,
    "start_time": "2021-12-08T09:13:41.184Z"
   },
   {
    "duration": 24,
    "start_time": "2021-12-08T09:13:41.210Z"
   },
   {
    "duration": 14,
    "start_time": "2021-12-08T09:13:41.238Z"
   },
   {
    "duration": 25,
    "start_time": "2021-12-08T09:13:41.255Z"
   },
   {
    "duration": 32,
    "start_time": "2021-12-08T09:13:41.283Z"
   },
   {
    "duration": 14,
    "start_time": "2021-12-08T09:13:41.317Z"
   },
   {
    "duration": 64,
    "start_time": "2021-12-08T09:13:41.334Z"
   },
   {
    "duration": 20,
    "start_time": "2021-12-08T09:13:41.402Z"
   },
   {
    "duration": 7,
    "start_time": "2021-12-08T09:13:41.425Z"
   },
   {
    "duration": 5,
    "start_time": "2021-12-08T09:13:41.435Z"
   },
   {
    "duration": 32,
    "start_time": "2021-12-08T09:13:41.443Z"
   },
   {
    "duration": 54,
    "start_time": "2021-12-08T09:13:41.478Z"
   },
   {
    "duration": 31,
    "start_time": "2021-12-08T09:13:41.534Z"
   },
   {
    "duration": 1505,
    "start_time": "2021-12-08T09:13:41.568Z"
   },
   {
    "duration": 53,
    "start_time": "2021-12-08T09:13:43.076Z"
   },
   {
    "duration": 42,
    "start_time": "2021-12-08T09:13:43.131Z"
   },
   {
    "duration": 13,
    "start_time": "2021-12-08T09:13:43.176Z"
   },
   {
    "duration": 65,
    "start_time": "2021-12-08T09:13:43.191Z"
   },
   {
    "duration": 721,
    "start_time": "2021-12-08T09:13:43.259Z"
   },
   {
    "duration": 889,
    "start_time": "2021-12-08T09:13:43.983Z"
   },
   {
    "duration": 469,
    "start_time": "2021-12-08T09:13:44.874Z"
   },
   {
    "duration": 685,
    "start_time": "2021-12-08T09:13:45.347Z"
   },
   {
    "duration": 853,
    "start_time": "2021-12-08T09:13:46.035Z"
   },
   {
    "duration": 7,
    "start_time": "2021-12-08T09:13:46.892Z"
   },
   {
    "duration": 26,
    "start_time": "2021-12-08T09:13:46.903Z"
   },
   {
    "duration": 18,
    "start_time": "2021-12-08T09:13:46.933Z"
   },
   {
    "duration": 24,
    "start_time": "2021-12-08T09:13:46.954Z"
   },
   {
    "duration": 45,
    "start_time": "2021-12-08T09:13:46.981Z"
   },
   {
    "duration": 22,
    "start_time": "2021-12-08T09:13:47.029Z"
   },
   {
    "duration": 8,
    "start_time": "2021-12-08T09:13:47.054Z"
   },
   {
    "duration": 462,
    "start_time": "2021-12-08T09:13:47.065Z"
   },
   {
    "duration": 24,
    "start_time": "2021-12-08T09:13:47.530Z"
   },
   {
    "duration": 9,
    "start_time": "2021-12-08T09:13:47.556Z"
   },
   {
    "duration": 9,
    "start_time": "2021-12-08T09:13:47.568Z"
   },
   {
    "duration": 16,
    "start_time": "2021-12-08T09:13:47.580Z"
   },
   {
    "duration": 41,
    "start_time": "2021-12-08T09:13:47.624Z"
   },
   {
    "duration": 13,
    "start_time": "2021-12-08T09:13:47.668Z"
   },
   {
    "duration": 47,
    "start_time": "2021-12-08T09:13:47.684Z"
   },
   {
    "duration": 45,
    "start_time": "2021-12-08T09:13:47.735Z"
   },
   {
    "duration": 52,
    "start_time": "2021-12-08T09:13:47.783Z"
   },
   {
    "duration": 760,
    "start_time": "2021-12-08T09:13:47.838Z"
   },
   {
    "duration": 22,
    "start_time": "2021-12-08T09:13:48.609Z"
   },
   {
    "duration": 792,
    "start_time": "2021-12-08T09:13:48.634Z"
   },
   {
    "duration": 686,
    "start_time": "2021-12-08T09:13:49.428Z"
   },
   {
    "duration": 677,
    "start_time": "2021-12-08T09:13:50.124Z"
   },
   {
    "duration": 653,
    "start_time": "2021-12-08T09:13:50.804Z"
   },
   {
    "duration": 8,
    "start_time": "2021-12-08T09:13:51.460Z"
   },
   {
    "duration": 8,
    "start_time": "2021-12-08T09:13:51.470Z"
   },
   {
    "duration": 44,
    "start_time": "2021-12-08T09:13:51.480Z"
   },
   {
    "duration": 7,
    "start_time": "2021-12-08T09:13:51.527Z"
   },
   {
    "duration": 14,
    "start_time": "2021-12-08T09:13:51.537Z"
   },
   {
    "duration": 9,
    "start_time": "2021-12-08T09:13:51.554Z"
   },
   {
    "duration": 411,
    "start_time": "2021-12-08T09:13:51.565Z"
   },
   {
    "duration": 4,
    "start_time": "2021-12-08T09:51:02.092Z"
   },
   {
    "duration": 1077,
    "start_time": "2021-12-08T09:51:02.099Z"
   },
   {
    "duration": 61,
    "start_time": "2021-12-08T09:51:03.180Z"
   },
   {
    "duration": 21,
    "start_time": "2021-12-08T09:51:03.244Z"
   },
   {
    "duration": 27,
    "start_time": "2021-12-08T09:51:03.268Z"
   },
   {
    "duration": 28,
    "start_time": "2021-12-08T09:51:03.298Z"
   },
   {
    "duration": 51,
    "start_time": "2021-12-08T09:51:03.329Z"
   },
   {
    "duration": 42,
    "start_time": "2021-12-08T09:51:03.382Z"
   },
   {
    "duration": 31,
    "start_time": "2021-12-08T09:51:03.429Z"
   },
   {
    "duration": 39,
    "start_time": "2021-12-08T09:51:03.463Z"
   },
   {
    "duration": 51,
    "start_time": "2021-12-08T09:51:03.505Z"
   },
   {
    "duration": 38,
    "start_time": "2021-12-08T09:51:03.559Z"
   },
   {
    "duration": 19,
    "start_time": "2021-12-08T09:51:03.600Z"
   },
   {
    "duration": 61,
    "start_time": "2021-12-08T09:51:03.621Z"
   },
   {
    "duration": 56,
    "start_time": "2021-12-08T09:51:03.685Z"
   },
   {
    "duration": 28,
    "start_time": "2021-12-08T09:51:03.744Z"
   },
   {
    "duration": 33,
    "start_time": "2021-12-08T09:51:03.774Z"
   },
   {
    "duration": 42,
    "start_time": "2021-12-08T09:51:03.810Z"
   },
   {
    "duration": 39,
    "start_time": "2021-12-08T09:51:03.855Z"
   },
   {
    "duration": 24,
    "start_time": "2021-12-08T09:51:03.897Z"
   },
   {
    "duration": 67,
    "start_time": "2021-12-08T09:51:03.923Z"
   },
   {
    "duration": 49,
    "start_time": "2021-12-08T09:51:03.993Z"
   },
   {
    "duration": 11,
    "start_time": "2021-12-08T09:51:04.044Z"
   },
   {
    "duration": 30,
    "start_time": "2021-12-08T09:51:04.058Z"
   },
   {
    "duration": 27,
    "start_time": "2021-12-08T09:51:04.091Z"
   },
   {
    "duration": 43,
    "start_time": "2021-12-08T09:51:04.121Z"
   },
   {
    "duration": 42,
    "start_time": "2021-12-08T09:51:04.172Z"
   },
   {
    "duration": 35,
    "start_time": "2021-12-08T09:51:04.217Z"
   },
   {
    "duration": 40,
    "start_time": "2021-12-08T09:51:04.255Z"
   },
   {
    "duration": 32,
    "start_time": "2021-12-08T09:51:04.298Z"
   },
   {
    "duration": 34,
    "start_time": "2021-12-08T09:51:04.332Z"
   },
   {
    "duration": 33,
    "start_time": "2021-12-08T09:51:04.368Z"
   },
   {
    "duration": 59,
    "start_time": "2021-12-08T09:51:04.403Z"
   },
   {
    "duration": 39,
    "start_time": "2021-12-08T09:51:04.465Z"
   },
   {
    "duration": 34,
    "start_time": "2021-12-08T09:51:04.506Z"
   },
   {
    "duration": 37,
    "start_time": "2021-12-08T09:51:04.543Z"
   },
   {
    "duration": 61,
    "start_time": "2021-12-08T09:51:04.582Z"
   },
   {
    "duration": 19,
    "start_time": "2021-12-08T09:51:04.645Z"
   },
   {
    "duration": 41,
    "start_time": "2021-12-08T09:51:04.667Z"
   },
   {
    "duration": 1218,
    "start_time": "2021-12-08T09:51:04.711Z"
   },
   {
    "duration": 46,
    "start_time": "2021-12-08T09:51:05.932Z"
   },
   {
    "duration": 30,
    "start_time": "2021-12-08T09:51:05.981Z"
   },
   {
    "duration": 32,
    "start_time": "2021-12-08T09:51:06.015Z"
   },
   {
    "duration": 54,
    "start_time": "2021-12-08T09:51:06.051Z"
   },
   {
    "duration": 779,
    "start_time": "2021-12-08T09:51:06.109Z"
   },
   {
    "duration": 792,
    "start_time": "2021-12-08T09:51:06.890Z"
   },
   {
    "duration": 96,
    "start_time": "2021-12-08T09:51:07.685Z"
   },
   {
    "duration": -2808,
    "start_time": "2021-12-08T09:51:10.592Z"
   },
   {
    "duration": -2844,
    "start_time": "2021-12-08T09:51:10.629Z"
   },
   {
    "duration": -2851,
    "start_time": "2021-12-08T09:51:10.638Z"
   },
   {
    "duration": -2858,
    "start_time": "2021-12-08T09:51:10.647Z"
   },
   {
    "duration": -2920,
    "start_time": "2021-12-08T09:51:10.710Z"
   },
   {
    "duration": -2925,
    "start_time": "2021-12-08T09:51:10.717Z"
   },
   {
    "duration": -2934,
    "start_time": "2021-12-08T09:51:10.728Z"
   },
   {
    "duration": -2941,
    "start_time": "2021-12-08T09:51:10.736Z"
   },
   {
    "duration": -2948,
    "start_time": "2021-12-08T09:51:10.745Z"
   },
   {
    "duration": -2954,
    "start_time": "2021-12-08T09:51:10.752Z"
   },
   {
    "duration": -2960,
    "start_time": "2021-12-08T09:51:10.760Z"
   },
   {
    "duration": -2966,
    "start_time": "2021-12-08T09:51:10.767Z"
   },
   {
    "duration": -3045,
    "start_time": "2021-12-08T09:51:10.848Z"
   },
   {
    "duration": -3051,
    "start_time": "2021-12-08T09:51:10.856Z"
   },
   {
    "duration": -3057,
    "start_time": "2021-12-08T09:51:10.864Z"
   },
   {
    "duration": -3064,
    "start_time": "2021-12-08T09:51:10.872Z"
   },
   {
    "duration": -3071,
    "start_time": "2021-12-08T09:51:10.880Z"
   },
   {
    "duration": -3078,
    "start_time": "2021-12-08T09:51:10.888Z"
   },
   {
    "duration": -3084,
    "start_time": "2021-12-08T09:51:10.896Z"
   },
   {
    "duration": -3090,
    "start_time": "2021-12-08T09:51:10.903Z"
   },
   {
    "duration": -3097,
    "start_time": "2021-12-08T09:51:10.912Z"
   },
   {
    "duration": -3101,
    "start_time": "2021-12-08T09:51:10.918Z"
   },
   {
    "duration": -3109,
    "start_time": "2021-12-08T09:51:10.927Z"
   },
   {
    "duration": -3114,
    "start_time": "2021-12-08T09:51:10.934Z"
   },
   {
    "duration": -3146,
    "start_time": "2021-12-08T09:51:10.968Z"
   },
   {
    "duration": -3153,
    "start_time": "2021-12-08T09:51:10.976Z"
   },
   {
    "duration": -3159,
    "start_time": "2021-12-08T09:51:10.984Z"
   },
   {
    "duration": -3166,
    "start_time": "2021-12-08T09:51:10.993Z"
   },
   {
    "duration": -3172,
    "start_time": "2021-12-08T09:51:11.001Z"
   },
   {
    "duration": -3178,
    "start_time": "2021-12-08T09:51:11.008Z"
   },
   {
    "duration": -3188,
    "start_time": "2021-12-08T09:51:11.020Z"
   },
   {
    "duration": -3193,
    "start_time": "2021-12-08T09:51:11.027Z"
   },
   {
    "duration": 5,
    "start_time": "2021-12-08T23:14:20.116Z"
   },
   {
    "duration": 941,
    "start_time": "2021-12-08T23:14:20.124Z"
   },
   {
    "duration": 52,
    "start_time": "2021-12-08T23:14:21.068Z"
   },
   {
    "duration": 40,
    "start_time": "2021-12-08T23:14:21.123Z"
   },
   {
    "duration": 10,
    "start_time": "2021-12-08T23:14:21.166Z"
   },
   {
    "duration": 6,
    "start_time": "2021-12-08T23:14:21.179Z"
   },
   {
    "duration": 16,
    "start_time": "2021-12-08T23:14:21.189Z"
   },
   {
    "duration": 12,
    "start_time": "2021-12-08T23:14:21.208Z"
   },
   {
    "duration": 11,
    "start_time": "2021-12-08T23:14:21.260Z"
   },
   {
    "duration": 9,
    "start_time": "2021-12-08T23:14:21.273Z"
   },
   {
    "duration": 24,
    "start_time": "2021-12-08T23:14:21.284Z"
   },
   {
    "duration": 53,
    "start_time": "2021-12-08T23:14:21.310Z"
   },
   {
    "duration": 12,
    "start_time": "2021-12-08T23:14:21.365Z"
   },
   {
    "duration": 6,
    "start_time": "2021-12-08T23:14:21.379Z"
   },
   {
    "duration": 30,
    "start_time": "2021-12-08T23:14:21.387Z"
   },
   {
    "duration": 49,
    "start_time": "2021-12-08T23:14:21.420Z"
   },
   {
    "duration": 11,
    "start_time": "2021-12-08T23:14:21.471Z"
   },
   {
    "duration": 18,
    "start_time": "2021-12-08T23:14:21.484Z"
   },
   {
    "duration": 18,
    "start_time": "2021-12-08T23:14:21.507Z"
   },
   {
    "duration": 12,
    "start_time": "2021-12-08T23:14:21.561Z"
   },
   {
    "duration": 17,
    "start_time": "2021-12-08T23:14:21.575Z"
   },
   {
    "duration": 29,
    "start_time": "2021-12-08T23:14:21.595Z"
   },
   {
    "duration": 35,
    "start_time": "2021-12-08T23:14:21.626Z"
   },
   {
    "duration": 6,
    "start_time": "2021-12-08T23:14:21.663Z"
   },
   {
    "duration": 6,
    "start_time": "2021-12-08T23:14:21.671Z"
   },
   {
    "duration": 8,
    "start_time": "2021-12-08T23:14:21.679Z"
   },
   {
    "duration": 16,
    "start_time": "2021-12-08T23:14:21.689Z"
   },
   {
    "duration": 8,
    "start_time": "2021-12-08T23:14:21.707Z"
   },
   {
    "duration": 53,
    "start_time": "2021-12-08T23:14:21.717Z"
   },
   {
    "duration": 11,
    "start_time": "2021-12-08T23:14:21.772Z"
   },
   {
    "duration": 5,
    "start_time": "2021-12-08T23:14:21.785Z"
   },
   {
    "duration": 8,
    "start_time": "2021-12-08T23:14:21.792Z"
   },
   {
    "duration": 66,
    "start_time": "2021-12-08T23:14:21.802Z"
   },
   {
    "duration": 24,
    "start_time": "2021-12-08T23:14:21.871Z"
   },
   {
    "duration": 5,
    "start_time": "2021-12-08T23:14:21.897Z"
   },
   {
    "duration": 17,
    "start_time": "2021-12-08T23:14:21.905Z"
   },
   {
    "duration": 43,
    "start_time": "2021-12-08T23:14:21.924Z"
   },
   {
    "duration": 18,
    "start_time": "2021-12-08T23:14:21.969Z"
   },
   {
    "duration": 29,
    "start_time": "2021-12-08T23:14:21.989Z"
   },
   {
    "duration": 922,
    "start_time": "2021-12-08T23:14:22.020Z"
   },
   {
    "duration": 36,
    "start_time": "2021-12-08T23:14:22.944Z"
   },
   {
    "duration": 5,
    "start_time": "2021-12-08T23:14:22.983Z"
   },
   {
    "duration": 6,
    "start_time": "2021-12-08T23:14:22.990Z"
   },
   {
    "duration": 61,
    "start_time": "2021-12-08T23:14:22.998Z"
   },
   {
    "duration": 674,
    "start_time": "2021-12-08T23:14:23.062Z"
   },
   {
    "duration": 729,
    "start_time": "2021-12-08T23:14:23.738Z"
   },
   {
    "duration": 97,
    "start_time": "2021-12-08T23:14:24.470Z"
   },
   {
    "duration": 783,
    "start_time": "2021-12-08T23:14:23.788Z"
   },
   {
    "duration": 779,
    "start_time": "2021-12-08T23:14:23.793Z"
   },
   {
    "duration": 776,
    "start_time": "2021-12-08T23:14:23.798Z"
   },
   {
    "duration": 772,
    "start_time": "2021-12-08T23:14:23.804Z"
   },
   {
    "duration": 768,
    "start_time": "2021-12-08T23:14:23.809Z"
   },
   {
    "duration": 763,
    "start_time": "2021-12-08T23:14:23.815Z"
   },
   {
    "duration": 758,
    "start_time": "2021-12-08T23:14:23.822Z"
   },
   {
    "duration": 754,
    "start_time": "2021-12-08T23:14:23.827Z"
   },
   {
    "duration": 750,
    "start_time": "2021-12-08T23:14:23.833Z"
   },
   {
    "duration": 746,
    "start_time": "2021-12-08T23:14:23.838Z"
   },
   {
    "duration": 744,
    "start_time": "2021-12-08T23:14:23.842Z"
   },
   {
    "duration": 740,
    "start_time": "2021-12-08T23:14:23.847Z"
   },
   {
    "duration": 737,
    "start_time": "2021-12-08T23:14:23.852Z"
   },
   {
    "duration": 733,
    "start_time": "2021-12-08T23:14:23.857Z"
   },
   {
    "duration": 731,
    "start_time": "2021-12-08T23:14:23.861Z"
   },
   {
    "duration": 727,
    "start_time": "2021-12-08T23:14:23.866Z"
   },
   {
    "duration": 722,
    "start_time": "2021-12-08T23:14:23.873Z"
   },
   {
    "duration": 716,
    "start_time": "2021-12-08T23:14:23.880Z"
   },
   {
    "duration": 713,
    "start_time": "2021-12-08T23:14:23.885Z"
   },
   {
    "duration": 709,
    "start_time": "2021-12-08T23:14:23.890Z"
   },
   {
    "duration": 706,
    "start_time": "2021-12-08T23:14:23.895Z"
   },
   {
    "duration": 701,
    "start_time": "2021-12-08T23:14:23.901Z"
   },
   {
    "duration": 698,
    "start_time": "2021-12-08T23:14:23.906Z"
   },
   {
    "duration": 693,
    "start_time": "2021-12-08T23:14:23.912Z"
   },
   {
    "duration": 690,
    "start_time": "2021-12-08T23:14:23.917Z"
   },
   {
    "duration": 737,
    "start_time": "2021-12-08T23:14:23.922Z"
   },
   {
    "duration": 735,
    "start_time": "2021-12-08T23:14:23.926Z"
   },
   {
    "duration": 730,
    "start_time": "2021-12-08T23:14:23.932Z"
   },
   {
    "duration": 728,
    "start_time": "2021-12-08T23:14:23.936Z"
   },
   {
    "duration": 723,
    "start_time": "2021-12-08T23:14:23.942Z"
   },
   {
    "duration": 721,
    "start_time": "2021-12-08T23:14:23.946Z"
   },
   {
    "duration": 717,
    "start_time": "2021-12-08T23:14:23.951Z"
   },
   {
    "duration": 4,
    "start_time": "2021-12-09T04:57:07.054Z"
   },
   {
    "duration": 851,
    "start_time": "2021-12-09T04:57:07.061Z"
   },
   {
    "duration": 50,
    "start_time": "2021-12-09T04:57:07.917Z"
   },
   {
    "duration": 16,
    "start_time": "2021-12-09T04:57:07.969Z"
   },
   {
    "duration": 12,
    "start_time": "2021-12-09T04:57:08.018Z"
   },
   {
    "duration": 6,
    "start_time": "2021-12-09T04:57:08.032Z"
   },
   {
    "duration": 12,
    "start_time": "2021-12-09T04:57:08.041Z"
   },
   {
    "duration": 60,
    "start_time": "2021-12-09T04:57:08.057Z"
   },
   {
    "duration": 14,
    "start_time": "2021-12-09T04:57:08.121Z"
   },
   {
    "duration": 9,
    "start_time": "2021-12-09T04:57:08.137Z"
   },
   {
    "duration": 26,
    "start_time": "2021-12-09T04:57:08.148Z"
   },
   {
    "duration": 20,
    "start_time": "2021-12-09T04:57:08.218Z"
   },
   {
    "duration": 10,
    "start_time": "2021-12-09T04:57:08.241Z"
   },
   {
    "duration": 6,
    "start_time": "2021-12-09T04:57:08.253Z"
   },
   {
    "duration": 75,
    "start_time": "2021-12-09T04:57:08.261Z"
   },
   {
    "duration": 12,
    "start_time": "2021-12-09T04:57:08.338Z"
   },
   {
    "duration": 11,
    "start_time": "2021-12-09T04:57:08.352Z"
   },
   {
    "duration": 55,
    "start_time": "2021-12-09T04:57:08.365Z"
   },
   {
    "duration": 18,
    "start_time": "2021-12-09T04:57:08.422Z"
   },
   {
    "duration": 11,
    "start_time": "2021-12-09T04:57:08.443Z"
   },
   {
    "duration": 17,
    "start_time": "2021-12-09T04:57:08.456Z"
   },
   {
    "duration": 69,
    "start_time": "2021-12-09T04:57:08.475Z"
   },
   {
    "duration": 7,
    "start_time": "2021-12-09T04:57:08.546Z"
   },
   {
    "duration": 7,
    "start_time": "2021-12-09T04:57:08.555Z"
   },
   {
    "duration": 8,
    "start_time": "2021-12-09T04:57:08.564Z"
   },
   {
    "duration": 48,
    "start_time": "2021-12-09T04:57:08.578Z"
   },
   {
    "duration": 22,
    "start_time": "2021-12-09T04:57:08.630Z"
   },
   {
    "duration": 14,
    "start_time": "2021-12-09T04:57:08.654Z"
   },
   {
    "duration": 21,
    "start_time": "2021-12-09T04:57:08.670Z"
   },
   {
    "duration": 8,
    "start_time": "2021-12-09T04:57:08.717Z"
   },
   {
    "duration": 19,
    "start_time": "2021-12-09T04:57:08.727Z"
   },
   {
    "duration": 16,
    "start_time": "2021-12-09T04:57:08.748Z"
   },
   {
    "duration": 57,
    "start_time": "2021-12-09T04:57:08.767Z"
   },
   {
    "duration": 22,
    "start_time": "2021-12-09T04:57:08.827Z"
   },
   {
    "duration": 7,
    "start_time": "2021-12-09T04:57:08.852Z"
   },
   {
    "duration": 7,
    "start_time": "2021-12-09T04:57:08.862Z"
   },
   {
    "duration": 72,
    "start_time": "2021-12-09T04:57:08.873Z"
   },
   {
    "duration": 21,
    "start_time": "2021-12-09T04:57:08.948Z"
   },
   {
    "duration": 70,
    "start_time": "2021-12-09T04:57:08.972Z"
   },
   {
    "duration": 953,
    "start_time": "2021-12-09T04:57:09.045Z"
   },
   {
    "duration": 36,
    "start_time": "2021-12-09T04:57:10.001Z"
   },
   {
    "duration": 5,
    "start_time": "2021-12-09T04:57:10.040Z"
   },
   {
    "duration": 6,
    "start_time": "2021-12-09T04:57:10.047Z"
   },
   {
    "duration": 69,
    "start_time": "2021-12-09T04:57:10.056Z"
   },
   {
    "duration": 674,
    "start_time": "2021-12-09T04:57:10.127Z"
   },
   {
    "duration": 702,
    "start_time": "2021-12-09T04:57:10.803Z"
   },
   {
    "duration": 102,
    "start_time": "2021-12-09T04:57:11.507Z"
   },
   {
    "duration": -5684,
    "start_time": "2021-12-09T04:57:17.295Z"
   },
   {
    "duration": -5739,
    "start_time": "2021-12-09T04:57:17.352Z"
   },
   {
    "duration": -5745,
    "start_time": "2021-12-09T04:57:17.359Z"
   },
   {
    "duration": -5751,
    "start_time": "2021-12-09T04:57:17.366Z"
   },
   {
    "duration": -5757,
    "start_time": "2021-12-09T04:57:17.373Z"
   },
   {
    "duration": -5762,
    "start_time": "2021-12-09T04:57:17.380Z"
   },
   {
    "duration": -5770,
    "start_time": "2021-12-09T04:57:17.389Z"
   },
   {
    "duration": -5776,
    "start_time": "2021-12-09T04:57:17.396Z"
   },
   {
    "duration": -5783,
    "start_time": "2021-12-09T04:57:17.404Z"
   },
   {
    "duration": -5798,
    "start_time": "2021-12-09T04:57:17.420Z"
   },
   {
    "duration": -5804,
    "start_time": "2021-12-09T04:57:17.428Z"
   },
   {
    "duration": -5811,
    "start_time": "2021-12-09T04:57:17.436Z"
   },
   {
    "duration": -5820,
    "start_time": "2021-12-09T04:57:17.446Z"
   },
   {
    "duration": -5827,
    "start_time": "2021-12-09T04:57:17.454Z"
   },
   {
    "duration": -5836,
    "start_time": "2021-12-09T04:57:17.464Z"
   },
   {
    "duration": -5867,
    "start_time": "2021-12-09T04:57:17.496Z"
   },
   {
    "duration": -5872,
    "start_time": "2021-12-09T04:57:17.503Z"
   },
   {
    "duration": -5877,
    "start_time": "2021-12-09T04:57:17.509Z"
   },
   {
    "duration": -5883,
    "start_time": "2021-12-09T04:57:17.516Z"
   },
   {
    "duration": -5899,
    "start_time": "2021-12-09T04:57:17.533Z"
   },
   {
    "duration": -5905,
    "start_time": "2021-12-09T04:57:17.540Z"
   },
   {
    "duration": -5911,
    "start_time": "2021-12-09T04:57:17.547Z"
   },
   {
    "duration": -5917,
    "start_time": "2021-12-09T04:57:17.554Z"
   },
   {
    "duration": -5921,
    "start_time": "2021-12-09T04:57:17.560Z"
   },
   {
    "duration": -5940,
    "start_time": "2021-12-09T04:57:17.580Z"
   },
   {
    "duration": -5945,
    "start_time": "2021-12-09T04:57:17.586Z"
   },
   {
    "duration": -5951,
    "start_time": "2021-12-09T04:57:17.593Z"
   },
   {
    "duration": -5957,
    "start_time": "2021-12-09T04:57:17.600Z"
   },
   {
    "duration": -5962,
    "start_time": "2021-12-09T04:57:17.607Z"
   },
   {
    "duration": -5968,
    "start_time": "2021-12-09T04:57:17.614Z"
   },
   {
    "duration": -5974,
    "start_time": "2021-12-09T04:57:17.621Z"
   },
   {
    "duration": -5979,
    "start_time": "2021-12-09T04:57:17.627Z"
   },
   {
    "duration": 5,
    "start_time": "2021-12-09T04:57:52.394Z"
   },
   {
    "duration": 883,
    "start_time": "2021-12-09T04:57:52.401Z"
   },
   {
    "duration": 57,
    "start_time": "2021-12-09T04:57:53.286Z"
   },
   {
    "duration": 16,
    "start_time": "2021-12-09T04:57:53.347Z"
   },
   {
    "duration": 10,
    "start_time": "2021-12-09T04:57:53.366Z"
   },
   {
    "duration": 43,
    "start_time": "2021-12-09T04:57:53.378Z"
   },
   {
    "duration": 32,
    "start_time": "2021-12-09T04:57:53.423Z"
   },
   {
    "duration": 12,
    "start_time": "2021-12-09T04:57:53.459Z"
   },
   {
    "duration": 10,
    "start_time": "2021-12-09T04:57:53.474Z"
   },
   {
    "duration": 38,
    "start_time": "2021-12-09T04:57:53.486Z"
   },
   {
    "duration": 21,
    "start_time": "2021-12-09T04:57:53.526Z"
   },
   {
    "duration": 20,
    "start_time": "2021-12-09T04:57:53.549Z"
   },
   {
    "duration": 51,
    "start_time": "2021-12-09T04:57:53.572Z"
   },
   {
    "duration": 7,
    "start_time": "2021-12-09T04:57:53.626Z"
   },
   {
    "duration": 30,
    "start_time": "2021-12-09T04:57:53.635Z"
   },
   {
    "duration": 56,
    "start_time": "2021-12-09T04:57:53.667Z"
   },
   {
    "duration": 11,
    "start_time": "2021-12-09T04:57:53.726Z"
   },
   {
    "duration": 17,
    "start_time": "2021-12-09T04:57:53.739Z"
   },
   {
    "duration": 58,
    "start_time": "2021-12-09T04:57:53.759Z"
   },
   {
    "duration": 11,
    "start_time": "2021-12-09T04:57:53.819Z"
   },
   {
    "duration": 15,
    "start_time": "2021-12-09T04:57:53.832Z"
   },
   {
    "duration": 68,
    "start_time": "2021-12-09T04:57:53.850Z"
   },
   {
    "duration": 6,
    "start_time": "2021-12-09T04:57:53.924Z"
   },
   {
    "duration": 4,
    "start_time": "2021-12-09T04:57:53.934Z"
   },
   {
    "duration": 7,
    "start_time": "2021-12-09T04:57:53.941Z"
   },
   {
    "duration": 8,
    "start_time": "2021-12-09T04:57:53.950Z"
   },
   {
    "duration": 60,
    "start_time": "2021-12-09T04:57:53.960Z"
   },
   {
    "duration": 8,
    "start_time": "2021-12-09T04:57:54.023Z"
   },
   {
    "duration": 18,
    "start_time": "2021-12-09T04:57:54.033Z"
   },
   {
    "duration": 11,
    "start_time": "2021-12-09T04:57:54.054Z"
   },
   {
    "duration": 49,
    "start_time": "2021-12-09T04:57:54.068Z"
   },
   {
    "duration": 7,
    "start_time": "2021-12-09T04:57:54.120Z"
   },
   {
    "duration": 38,
    "start_time": "2021-12-09T04:57:54.130Z"
   },
   {
    "duration": 55,
    "start_time": "2021-12-09T04:57:54.171Z"
   },
   {
    "duration": 5,
    "start_time": "2021-12-09T04:57:54.229Z"
   },
   {
    "duration": 8,
    "start_time": "2021-12-09T04:57:54.237Z"
   },
   {
    "duration": 31,
    "start_time": "2021-12-09T04:57:54.247Z"
   },
   {
    "duration": 51,
    "start_time": "2021-12-09T04:57:54.280Z"
   },
   {
    "duration": 28,
    "start_time": "2021-12-09T04:57:54.333Z"
   },
   {
    "duration": 949,
    "start_time": "2021-12-09T04:57:54.363Z"
   },
   {
    "duration": 32,
    "start_time": "2021-12-09T04:57:55.316Z"
   },
   {
    "duration": 4,
    "start_time": "2021-12-09T04:57:55.350Z"
   },
   {
    "duration": 9,
    "start_time": "2021-12-09T04:57:55.357Z"
   },
   {
    "duration": 67,
    "start_time": "2021-12-09T04:57:55.368Z"
   },
   {
    "duration": 675,
    "start_time": "2021-12-09T04:57:55.438Z"
   },
   {
    "duration": 695,
    "start_time": "2021-12-09T04:57:56.115Z"
   },
   {
    "duration": 426,
    "start_time": "2021-12-09T04:57:56.812Z"
   },
   {
    "duration": 710,
    "start_time": "2021-12-09T04:57:57.241Z"
   },
   {
    "duration": 728,
    "start_time": "2021-12-09T04:57:57.955Z"
   },
   {
    "duration": 5,
    "start_time": "2021-12-09T04:57:58.686Z"
   },
   {
    "duration": 25,
    "start_time": "2021-12-09T04:57:58.693Z"
   },
   {
    "duration": 11,
    "start_time": "2021-12-09T04:57:58.721Z"
   },
   {
    "duration": 21,
    "start_time": "2021-12-09T04:57:58.734Z"
   },
   {
    "duration": 7,
    "start_time": "2021-12-09T04:57:58.757Z"
   },
   {
    "duration": 55,
    "start_time": "2021-12-09T04:57:58.766Z"
   },
   {
    "duration": 6,
    "start_time": "2021-12-09T04:57:58.823Z"
   },
   {
    "duration": 317,
    "start_time": "2021-12-09T04:57:58.832Z"
   },
   {
    "duration": 6,
    "start_time": "2021-12-09T04:57:59.151Z"
   },
   {
    "duration": 7,
    "start_time": "2021-12-09T04:57:59.159Z"
   },
   {
    "duration": 7,
    "start_time": "2021-12-09T04:57:59.168Z"
   },
   {
    "duration": 51,
    "start_time": "2021-12-09T04:57:59.177Z"
   },
   {
    "duration": 30,
    "start_time": "2021-12-09T04:57:59.230Z"
   },
   {
    "duration": 9,
    "start_time": "2021-12-09T04:57:59.262Z"
   },
   {
    "duration": 54,
    "start_time": "2021-12-09T04:57:59.273Z"
   },
   {
    "duration": 34,
    "start_time": "2021-12-09T04:57:59.329Z"
   },
   {
    "duration": 56,
    "start_time": "2021-12-09T04:57:59.366Z"
   },
   {
    "duration": 615,
    "start_time": "2021-12-09T04:57:59.425Z"
   },
   {
    "duration": 10,
    "start_time": "2021-12-09T04:58:00.047Z"
   },
   {
    "duration": 707,
    "start_time": "2021-12-09T04:58:00.059Z"
   },
   {
    "duration": 621,
    "start_time": "2021-12-09T04:58:00.769Z"
   },
   {
    "duration": 615,
    "start_time": "2021-12-09T04:58:01.393Z"
   },
   {
    "duration": 668,
    "start_time": "2021-12-09T04:58:02.018Z"
   },
   {
    "duration": 27,
    "start_time": "2021-12-09T04:58:02.689Z"
   },
   {
    "duration": 9,
    "start_time": "2021-12-09T04:58:02.719Z"
   },
   {
    "duration": 8,
    "start_time": "2021-12-09T04:58:02.731Z"
   },
   {
    "duration": 8,
    "start_time": "2021-12-09T04:58:02.742Z"
   },
   {
    "duration": 63,
    "start_time": "2021-12-09T04:58:02.753Z"
   },
   {
    "duration": 9,
    "start_time": "2021-12-09T04:58:02.820Z"
   },
   {
    "duration": 341,
    "start_time": "2021-12-09T04:58:02.832Z"
   },
   {
    "duration": 886,
    "start_time": "2021-12-09T08:22:31.781Z"
   },
   {
    "duration": 93,
    "start_time": "2021-12-09T08:22:32.670Z"
   },
   {
    "duration": 64,
    "start_time": "2021-12-09T08:22:32.766Z"
   },
   {
    "duration": 18,
    "start_time": "2021-12-09T08:22:32.834Z"
   },
   {
    "duration": 28,
    "start_time": "2021-12-09T08:22:32.855Z"
   },
   {
    "duration": 36,
    "start_time": "2021-12-09T08:22:32.885Z"
   },
   {
    "duration": 28,
    "start_time": "2021-12-09T08:22:32.923Z"
   },
   {
    "duration": 28,
    "start_time": "2021-12-09T08:22:32.953Z"
   },
   {
    "duration": 27,
    "start_time": "2021-12-09T08:22:32.985Z"
   },
   {
    "duration": 45,
    "start_time": "2021-12-09T08:22:33.015Z"
   },
   {
    "duration": 48,
    "start_time": "2021-12-09T08:22:33.062Z"
   },
   {
    "duration": 25,
    "start_time": "2021-12-09T08:22:33.113Z"
   },
   {
    "duration": 24,
    "start_time": "2021-12-09T08:22:33.141Z"
   },
   {
    "duration": 28,
    "start_time": "2021-12-09T08:22:33.167Z"
   },
   {
    "duration": 64,
    "start_time": "2021-12-09T08:22:33.197Z"
   },
   {
    "duration": 15,
    "start_time": "2021-12-09T08:22:33.263Z"
   },
   {
    "duration": 28,
    "start_time": "2021-12-09T08:22:33.280Z"
   },
   {
    "duration": 29,
    "start_time": "2021-12-09T08:22:33.311Z"
   },
   {
    "duration": 37,
    "start_time": "2021-12-09T08:22:33.342Z"
   },
   {
    "duration": 18,
    "start_time": "2021-12-09T08:22:33.382Z"
   },
   {
    "duration": 50,
    "start_time": "2021-12-09T08:22:33.402Z"
   },
   {
    "duration": 43,
    "start_time": "2021-12-09T08:22:33.454Z"
   },
   {
    "duration": 6,
    "start_time": "2021-12-09T08:22:33.500Z"
   },
   {
    "duration": 28,
    "start_time": "2021-12-09T08:22:33.508Z"
   },
   {
    "duration": 24,
    "start_time": "2021-12-09T08:22:33.538Z"
   },
   {
    "duration": 36,
    "start_time": "2021-12-09T08:22:33.565Z"
   },
   {
    "duration": 17,
    "start_time": "2021-12-09T08:22:33.607Z"
   },
   {
    "duration": 41,
    "start_time": "2021-12-09T08:22:33.627Z"
   },
   {
    "duration": 39,
    "start_time": "2021-12-09T08:22:33.670Z"
   },
   {
    "duration": 8,
    "start_time": "2021-12-09T08:22:33.711Z"
   },
   {
    "duration": 16,
    "start_time": "2021-12-09T08:22:33.722Z"
   },
   {
    "duration": 9,
    "start_time": "2021-12-09T08:22:33.740Z"
   },
   {
    "duration": 41,
    "start_time": "2021-12-09T08:22:33.751Z"
   },
   {
    "duration": 36,
    "start_time": "2021-12-09T08:22:33.794Z"
   },
   {
    "duration": 5,
    "start_time": "2021-12-09T08:22:33.833Z"
   },
   {
    "duration": 13,
    "start_time": "2021-12-09T08:22:33.840Z"
   },
   {
    "duration": 38,
    "start_time": "2021-12-09T08:22:33.856Z"
   },
   {
    "duration": 17,
    "start_time": "2021-12-09T08:22:33.917Z"
   },
   {
    "duration": 29,
    "start_time": "2021-12-09T08:22:33.936Z"
   },
   {
    "duration": 969,
    "start_time": "2021-12-09T08:22:33.968Z"
   },
   {
    "duration": 32,
    "start_time": "2021-12-09T08:22:34.939Z"
   },
   {
    "duration": 29,
    "start_time": "2021-12-09T08:22:34.974Z"
   },
   {
    "duration": 11,
    "start_time": "2021-12-09T08:22:35.006Z"
   },
   {
    "duration": 44,
    "start_time": "2021-12-09T08:22:35.019Z"
   },
   {
    "duration": 105,
    "start_time": "2021-12-09T08:22:35.066Z"
   },
   {
    "duration": -6468,
    "start_time": "2021-12-09T08:22:41.641Z"
   },
   {
    "duration": -6474,
    "start_time": "2021-12-09T08:22:41.648Z"
   },
   {
    "duration": -6484,
    "start_time": "2021-12-09T08:22:41.660Z"
   },
   {
    "duration": -6490,
    "start_time": "2021-12-09T08:22:41.667Z"
   },
   {
    "duration": -6496,
    "start_time": "2021-12-09T08:22:41.674Z"
   },
   {
    "duration": -6502,
    "start_time": "2021-12-09T08:22:41.681Z"
   },
   {
    "duration": -6507,
    "start_time": "2021-12-09T08:22:41.688Z"
   },
   {
    "duration": -6513,
    "start_time": "2021-12-09T08:22:41.695Z"
   },
   {
    "duration": -6518,
    "start_time": "2021-12-09T08:22:41.701Z"
   },
   {
    "duration": -6524,
    "start_time": "2021-12-09T08:22:41.709Z"
   },
   {
    "duration": -6529,
    "start_time": "2021-12-09T08:22:41.715Z"
   },
   {
    "duration": -6536,
    "start_time": "2021-12-09T08:22:41.723Z"
   },
   {
    "duration": -6540,
    "start_time": "2021-12-09T08:22:41.729Z"
   },
   {
    "duration": -6547,
    "start_time": "2021-12-09T08:22:41.737Z"
   },
   {
    "duration": -6560,
    "start_time": "2021-12-09T08:22:41.752Z"
   },
   {
    "duration": -6567,
    "start_time": "2021-12-09T08:22:41.760Z"
   },
   {
    "duration": -6572,
    "start_time": "2021-12-09T08:22:41.767Z"
   },
   {
    "duration": -6578,
    "start_time": "2021-12-09T08:22:41.774Z"
   },
   {
    "duration": -6584,
    "start_time": "2021-12-09T08:22:41.781Z"
   },
   {
    "duration": -6590,
    "start_time": "2021-12-09T08:22:41.789Z"
   },
   {
    "duration": -6599,
    "start_time": "2021-12-09T08:22:41.799Z"
   },
   {
    "duration": -6605,
    "start_time": "2021-12-09T08:22:41.806Z"
   },
   {
    "duration": -6610,
    "start_time": "2021-12-09T08:22:41.813Z"
   },
   {
    "duration": -6616,
    "start_time": "2021-12-09T08:22:41.820Z"
   },
   {
    "duration": -6622,
    "start_time": "2021-12-09T08:22:41.827Z"
   },
   {
    "duration": -6628,
    "start_time": "2021-12-09T08:22:41.834Z"
   },
   {
    "duration": -6633,
    "start_time": "2021-12-09T08:22:41.841Z"
   },
   {
    "duration": -6639,
    "start_time": "2021-12-09T08:22:41.848Z"
   },
   {
    "duration": -6653,
    "start_time": "2021-12-09T08:22:41.863Z"
   },
   {
    "duration": -6655,
    "start_time": "2021-12-09T08:22:41.871Z"
   },
   {
    "duration": -6661,
    "start_time": "2021-12-09T08:22:41.878Z"
   },
   {
    "duration": -6667,
    "start_time": "2021-12-09T08:22:41.886Z"
   },
   {
    "duration": -6673,
    "start_time": "2021-12-09T08:22:41.893Z"
   },
   {
    "duration": -6679,
    "start_time": "2021-12-09T08:22:41.900Z"
   },
   {
    "duration": 1115,
    "start_time": "2021-12-09T08:24:44.015Z"
   },
   {
    "duration": 143,
    "start_time": "2021-12-09T08:24:45.134Z"
   },
   {
    "duration": 72,
    "start_time": "2021-12-09T08:24:45.282Z"
   },
   {
    "duration": 20,
    "start_time": "2021-12-09T08:24:45.358Z"
   },
   {
    "duration": 43,
    "start_time": "2021-12-09T08:24:45.381Z"
   },
   {
    "duration": 8,
    "start_time": "2021-12-09T08:24:45.427Z"
   },
   {
    "duration": 18,
    "start_time": "2021-12-09T08:24:45.438Z"
   },
   {
    "duration": 62,
    "start_time": "2021-12-09T08:24:45.459Z"
   },
   {
    "duration": 12,
    "start_time": "2021-12-09T08:24:45.525Z"
   },
   {
    "duration": 15,
    "start_time": "2021-12-09T08:24:45.540Z"
   },
   {
    "duration": 63,
    "start_time": "2021-12-09T08:24:45.557Z"
   },
   {
    "duration": 14,
    "start_time": "2021-12-09T08:24:45.622Z"
   },
   {
    "duration": 11,
    "start_time": "2021-12-09T08:24:45.638Z"
   },
   {
    "duration": 6,
    "start_time": "2021-12-09T08:24:45.651Z"
   },
   {
    "duration": 80,
    "start_time": "2021-12-09T08:24:45.660Z"
   },
   {
    "duration": 12,
    "start_time": "2021-12-09T08:24:45.742Z"
   },
   {
    "duration": 10,
    "start_time": "2021-12-09T08:24:45.757Z"
   },
   {
    "duration": 17,
    "start_time": "2021-12-09T08:24:45.819Z"
   },
   {
    "duration": 19,
    "start_time": "2021-12-09T08:24:45.839Z"
   },
   {
    "duration": 11,
    "start_time": "2021-12-09T08:24:45.860Z"
   },
   {
    "duration": 58,
    "start_time": "2021-12-09T08:24:45.873Z"
   },
   {
    "duration": 31,
    "start_time": "2021-12-09T08:24:45.934Z"
   },
   {
    "duration": 52,
    "start_time": "2021-12-09T08:24:45.967Z"
   },
   {
    "duration": 7,
    "start_time": "2021-12-09T08:24:46.021Z"
   },
   {
    "duration": 11,
    "start_time": "2021-12-09T08:24:46.030Z"
   },
   {
    "duration": 8,
    "start_time": "2021-12-09T08:24:46.044Z"
   },
   {
    "duration": 69,
    "start_time": "2021-12-09T08:24:46.059Z"
   },
   {
    "duration": 8,
    "start_time": "2021-12-09T08:24:46.132Z"
   },
   {
    "duration": 13,
    "start_time": "2021-12-09T08:24:46.142Z"
   },
   {
    "duration": 7,
    "start_time": "2021-12-09T08:24:46.157Z"
   },
   {
    "duration": 53,
    "start_time": "2021-12-09T08:24:46.167Z"
   },
   {
    "duration": 6,
    "start_time": "2021-12-09T08:24:46.223Z"
   },
   {
    "duration": 32,
    "start_time": "2021-12-09T08:24:46.232Z"
   },
   {
    "duration": 62,
    "start_time": "2021-12-09T08:24:46.267Z"
   },
   {
    "duration": 7,
    "start_time": "2021-12-09T08:24:46.332Z"
   },
   {
    "duration": 9,
    "start_time": "2021-12-09T08:24:46.342Z"
   },
   {
    "duration": 78,
    "start_time": "2021-12-09T08:24:46.354Z"
   },
   {
    "duration": 19,
    "start_time": "2021-12-09T08:24:46.435Z"
   },
   {
    "duration": 67,
    "start_time": "2021-12-09T08:24:46.456Z"
   },
   {
    "duration": 953,
    "start_time": "2021-12-09T08:24:46.526Z"
   },
   {
    "duration": 46,
    "start_time": "2021-12-09T08:24:47.482Z"
   },
   {
    "duration": 5,
    "start_time": "2021-12-09T08:24:47.530Z"
   },
   {
    "duration": 7,
    "start_time": "2021-12-09T08:24:47.538Z"
   },
   {
    "duration": 81,
    "start_time": "2021-12-09T08:24:47.548Z"
   },
   {
    "duration": 102,
    "start_time": "2021-12-09T08:24:47.631Z"
   },
   {
    "duration": -6508,
    "start_time": "2021-12-09T08:24:54.243Z"
   },
   {
    "duration": -6514,
    "start_time": "2021-12-09T08:24:54.251Z"
   },
   {
    "duration": -6520,
    "start_time": "2021-12-09T08:24:54.258Z"
   },
   {
    "duration": -6527,
    "start_time": "2021-12-09T08:24:54.267Z"
   },
   {
    "duration": -6578,
    "start_time": "2021-12-09T08:24:54.319Z"
   },
   {
    "duration": -6586,
    "start_time": "2021-12-09T08:24:54.328Z"
   },
   {
    "duration": -6591,
    "start_time": "2021-12-09T08:24:54.335Z"
   },
   {
    "duration": -6598,
    "start_time": "2021-12-09T08:24:54.343Z"
   },
   {
    "duration": -6604,
    "start_time": "2021-12-09T08:24:54.350Z"
   },
   {
    "duration": -6610,
    "start_time": "2021-12-09T08:24:54.358Z"
   },
   {
    "duration": -6615,
    "start_time": "2021-12-09T08:24:54.364Z"
   },
   {
    "duration": -6620,
    "start_time": "2021-12-09T08:24:54.371Z"
   },
   {
    "duration": -6626,
    "start_time": "2021-12-09T08:24:54.378Z"
   },
   {
    "duration": -6633,
    "start_time": "2021-12-09T08:24:54.386Z"
   },
   {
    "duration": -6638,
    "start_time": "2021-12-09T08:24:54.393Z"
   },
   {
    "duration": -6644,
    "start_time": "2021-12-09T08:24:54.400Z"
   },
   {
    "duration": -6649,
    "start_time": "2021-12-09T08:24:54.407Z"
   },
   {
    "duration": -6656,
    "start_time": "2021-12-09T08:24:54.415Z"
   },
   {
    "duration": -6670,
    "start_time": "2021-12-09T08:24:54.431Z"
   },
   {
    "duration": -6677,
    "start_time": "2021-12-09T08:24:54.439Z"
   },
   {
    "duration": -6684,
    "start_time": "2021-12-09T08:24:54.447Z"
   },
   {
    "duration": -6689,
    "start_time": "2021-12-09T08:24:54.454Z"
   },
   {
    "duration": -6696,
    "start_time": "2021-12-09T08:24:54.462Z"
   },
   {
    "duration": -6701,
    "start_time": "2021-12-09T08:24:54.469Z"
   },
   {
    "duration": -6707,
    "start_time": "2021-12-09T08:24:54.476Z"
   },
   {
    "duration": -6714,
    "start_time": "2021-12-09T08:24:54.484Z"
   },
   {
    "duration": -6719,
    "start_time": "2021-12-09T08:24:54.491Z"
   },
   {
    "duration": -6725,
    "start_time": "2021-12-09T08:24:54.498Z"
   },
   {
    "duration": -6731,
    "start_time": "2021-12-09T08:24:54.505Z"
   },
   {
    "duration": -6738,
    "start_time": "2021-12-09T08:24:54.513Z"
   },
   {
    "duration": -6703,
    "start_time": "2021-12-09T08:24:54.520Z"
   },
   {
    "duration": -6710,
    "start_time": "2021-12-09T08:24:54.528Z"
   },
   {
    "duration": -6730,
    "start_time": "2021-12-09T08:24:54.549Z"
   },
   {
    "duration": -6736,
    "start_time": "2021-12-09T08:24:54.557Z"
   },
   {
    "duration": 843,
    "start_time": "2021-12-09T08:25:14.697Z"
   },
   {
    "duration": 96,
    "start_time": "2021-12-09T08:25:15.543Z"
   },
   {
    "duration": 51,
    "start_time": "2021-12-09T08:25:15.642Z"
   },
   {
    "duration": 33,
    "start_time": "2021-12-09T08:25:15.696Z"
   },
   {
    "duration": 16,
    "start_time": "2021-12-09T08:25:15.732Z"
   },
   {
    "duration": 9,
    "start_time": "2021-12-09T08:25:15.750Z"
   },
   {
    "duration": 20,
    "start_time": "2021-12-09T08:25:15.761Z"
   },
   {
    "duration": 15,
    "start_time": "2021-12-09T08:25:15.818Z"
   },
   {
    "duration": 13,
    "start_time": "2021-12-09T08:25:15.839Z"
   },
   {
    "duration": 11,
    "start_time": "2021-12-09T08:25:15.855Z"
   },
   {
    "duration": 61,
    "start_time": "2021-12-09T08:25:15.868Z"
   },
   {
    "duration": 18,
    "start_time": "2021-12-09T08:25:15.932Z"
   },
   {
    "duration": 17,
    "start_time": "2021-12-09T08:25:15.953Z"
   },
   {
    "duration": 48,
    "start_time": "2021-12-09T08:25:15.973Z"
   },
   {
    "duration": 72,
    "start_time": "2021-12-09T08:25:16.024Z"
   },
   {
    "duration": 23,
    "start_time": "2021-12-09T08:25:16.099Z"
   },
   {
    "duration": 15,
    "start_time": "2021-12-09T08:25:16.125Z"
   },
   {
    "duration": 40,
    "start_time": "2021-12-09T08:25:16.143Z"
   },
   {
    "duration": 36,
    "start_time": "2021-12-09T08:25:16.186Z"
   },
   {
    "duration": 13,
    "start_time": "2021-12-09T08:25:16.224Z"
   },
   {
    "duration": 22,
    "start_time": "2021-12-09T08:25:16.239Z"
   },
   {
    "duration": 64,
    "start_time": "2021-12-09T08:25:16.264Z"
   },
   {
    "duration": 7,
    "start_time": "2021-12-09T08:25:16.330Z"
   },
   {
    "duration": 58,
    "start_time": "2021-12-09T08:25:16.340Z"
   },
   {
    "duration": 27,
    "start_time": "2021-12-09T08:25:16.401Z"
   },
   {
    "duration": 28,
    "start_time": "2021-12-09T08:25:16.431Z"
   },
   {
    "duration": 19,
    "start_time": "2021-12-09T08:25:16.469Z"
   },
   {
    "duration": 16,
    "start_time": "2021-12-09T08:25:16.492Z"
   },
   {
    "duration": 17,
    "start_time": "2021-12-09T08:25:16.512Z"
   },
   {
    "duration": 15,
    "start_time": "2021-12-09T08:25:16.532Z"
   },
   {
    "duration": 12,
    "start_time": "2021-12-09T08:25:16.550Z"
   },
   {
    "duration": 25,
    "start_time": "2021-12-09T08:25:16.565Z"
   },
   {
    "duration": 56,
    "start_time": "2021-12-09T08:25:16.592Z"
   },
   {
    "duration": 28,
    "start_time": "2021-12-09T08:25:16.651Z"
   },
   {
    "duration": 7,
    "start_time": "2021-12-09T08:25:16.682Z"
   },
   {
    "duration": 29,
    "start_time": "2021-12-09T08:25:16.691Z"
   },
   {
    "duration": 39,
    "start_time": "2021-12-09T08:25:16.723Z"
   },
   {
    "duration": 18,
    "start_time": "2021-12-09T08:25:16.764Z"
   },
   {
    "duration": 30,
    "start_time": "2021-12-09T08:25:16.819Z"
   },
   {
    "duration": 969,
    "start_time": "2021-12-09T08:25:16.852Z"
   },
   {
    "duration": 35,
    "start_time": "2021-12-09T08:25:17.823Z"
   },
   {
    "duration": 17,
    "start_time": "2021-12-09T08:25:17.860Z"
   },
   {
    "duration": 22,
    "start_time": "2021-12-09T08:25:17.879Z"
   },
   {
    "duration": 43,
    "start_time": "2021-12-09T08:25:17.904Z"
   },
   {
    "duration": 113,
    "start_time": "2021-12-09T08:25:17.949Z"
   },
   {
    "duration": -6463,
    "start_time": "2021-12-09T08:25:24.527Z"
   },
   {
    "duration": -6469,
    "start_time": "2021-12-09T08:25:24.534Z"
   },
   {
    "duration": -6475,
    "start_time": "2021-12-09T08:25:24.542Z"
   },
   {
    "duration": -6481,
    "start_time": "2021-12-09T08:25:24.549Z"
   },
   {
    "duration": -6487,
    "start_time": "2021-12-09T08:25:24.557Z"
   },
   {
    "duration": -6494,
    "start_time": "2021-12-09T08:25:24.565Z"
   },
   {
    "duration": -6500,
    "start_time": "2021-12-09T08:25:24.573Z"
   },
   {
    "duration": -6545,
    "start_time": "2021-12-09T08:25:24.619Z"
   },
   {
    "duration": -6552,
    "start_time": "2021-12-09T08:25:24.628Z"
   },
   {
    "duration": -6558,
    "start_time": "2021-12-09T08:25:24.635Z"
   },
   {
    "duration": -6565,
    "start_time": "2021-12-09T08:25:24.644Z"
   },
   {
    "duration": -6571,
    "start_time": "2021-12-09T08:25:24.651Z"
   },
   {
    "duration": -6578,
    "start_time": "2021-12-09T08:25:24.659Z"
   },
   {
    "duration": -6584,
    "start_time": "2021-12-09T08:25:24.666Z"
   },
   {
    "duration": -6590,
    "start_time": "2021-12-09T08:25:24.674Z"
   },
   {
    "duration": -6596,
    "start_time": "2021-12-09T08:25:24.682Z"
   },
   {
    "duration": -6603,
    "start_time": "2021-12-09T08:25:24.690Z"
   },
   {
    "duration": -6608,
    "start_time": "2021-12-09T08:25:24.697Z"
   },
   {
    "duration": -6615,
    "start_time": "2021-12-09T08:25:24.705Z"
   },
   {
    "duration": -6621,
    "start_time": "2021-12-09T08:25:24.712Z"
   },
   {
    "duration": -6637,
    "start_time": "2021-12-09T08:25:24.730Z"
   },
   {
    "duration": -6644,
    "start_time": "2021-12-09T08:25:24.738Z"
   },
   {
    "duration": -6650,
    "start_time": "2021-12-09T08:25:24.746Z"
   },
   {
    "duration": -6655,
    "start_time": "2021-12-09T08:25:24.753Z"
   },
   {
    "duration": -6662,
    "start_time": "2021-12-09T08:25:24.761Z"
   },
   {
    "duration": -6668,
    "start_time": "2021-12-09T08:25:24.769Z"
   },
   {
    "duration": -6674,
    "start_time": "2021-12-09T08:25:24.776Z"
   },
   {
    "duration": -6680,
    "start_time": "2021-12-09T08:25:24.784Z"
   },
   {
    "duration": -6687,
    "start_time": "2021-12-09T08:25:24.792Z"
   },
   {
    "duration": -6693,
    "start_time": "2021-12-09T08:25:24.799Z"
   },
   {
    "duration": -6700,
    "start_time": "2021-12-09T08:25:24.807Z"
   },
   {
    "duration": -6707,
    "start_time": "2021-12-09T08:25:24.814Z"
   },
   {
    "duration": -6704,
    "start_time": "2021-12-09T08:25:24.822Z"
   },
   {
    "duration": -6720,
    "start_time": "2021-12-09T08:25:24.839Z"
   },
   {
    "duration": 801,
    "start_time": "2021-12-09T08:26:03.549Z"
   },
   {
    "duration": 92,
    "start_time": "2021-12-09T08:26:04.353Z"
   },
   {
    "duration": 50,
    "start_time": "2021-12-09T08:26:04.448Z"
   },
   {
    "duration": 30,
    "start_time": "2021-12-09T08:26:04.501Z"
   },
   {
    "duration": 11,
    "start_time": "2021-12-09T08:26:04.534Z"
   },
   {
    "duration": 6,
    "start_time": "2021-12-09T08:26:04.547Z"
   },
   {
    "duration": 63,
    "start_time": "2021-12-09T08:26:04.555Z"
   },
   {
    "duration": 12,
    "start_time": "2021-12-09T08:26:04.622Z"
   },
   {
    "duration": 12,
    "start_time": "2021-12-09T08:26:04.637Z"
   },
   {
    "duration": 10,
    "start_time": "2021-12-09T08:26:04.651Z"
   },
   {
    "duration": 58,
    "start_time": "2021-12-09T08:26:04.663Z"
   },
   {
    "duration": 13,
    "start_time": "2021-12-09T08:26:04.724Z"
   },
   {
    "duration": 20,
    "start_time": "2021-12-09T08:26:04.739Z"
   },
   {
    "duration": 8,
    "start_time": "2021-12-09T08:26:04.762Z"
   },
   {
    "duration": 30,
    "start_time": "2021-12-09T08:26:04.816Z"
   },
   {
    "duration": 16,
    "start_time": "2021-12-09T08:26:04.849Z"
   },
   {
    "duration": 55,
    "start_time": "2021-12-09T08:26:04.868Z"
   },
   {
    "duration": 24,
    "start_time": "2021-12-09T08:26:04.926Z"
   },
   {
    "duration": 25,
    "start_time": "2021-12-09T08:26:04.953Z"
   },
   {
    "duration": 21,
    "start_time": "2021-12-09T08:26:05.017Z"
   },
   {
    "duration": 17,
    "start_time": "2021-12-09T08:26:05.041Z"
   },
   {
    "duration": 71,
    "start_time": "2021-12-09T08:26:05.060Z"
   },
   {
    "duration": 5,
    "start_time": "2021-12-09T08:26:05.139Z"
   },
   {
    "duration": 5,
    "start_time": "2021-12-09T08:26:05.148Z"
   },
   {
    "duration": 6,
    "start_time": "2021-12-09T08:26:05.156Z"
   },
   {
    "duration": 56,
    "start_time": "2021-12-09T08:26:05.164Z"
   },
   {
    "duration": 14,
    "start_time": "2021-12-09T08:26:05.224Z"
   },
   {
    "duration": 12,
    "start_time": "2021-12-09T08:26:05.240Z"
   },
   {
    "duration": 32,
    "start_time": "2021-12-09T08:26:05.254Z"
   },
   {
    "duration": 38,
    "start_time": "2021-12-09T08:26:05.289Z"
   },
   {
    "duration": 8,
    "start_time": "2021-12-09T08:26:05.332Z"
   },
   {
    "duration": 21,
    "start_time": "2021-12-09T08:26:05.343Z"
   },
   {
    "duration": 64,
    "start_time": "2021-12-09T08:26:05.367Z"
   },
   {
    "duration": 20,
    "start_time": "2021-12-09T08:26:05.433Z"
   },
   {
    "duration": 5,
    "start_time": "2021-12-09T08:26:05.456Z"
   },
   {
    "duration": 23,
    "start_time": "2021-12-09T08:26:05.463Z"
   },
   {
    "duration": 36,
    "start_time": "2021-12-09T08:26:05.518Z"
   },
   {
    "duration": 18,
    "start_time": "2021-12-09T08:26:05.557Z"
   },
   {
    "duration": 72,
    "start_time": "2021-12-09T08:26:05.577Z"
   },
   {
    "duration": 1127,
    "start_time": "2021-12-09T08:26:05.652Z"
   },
   {
    "duration": 50,
    "start_time": "2021-12-09T08:26:06.782Z"
   },
   {
    "duration": 7,
    "start_time": "2021-12-09T08:26:06.835Z"
   },
   {
    "duration": 7,
    "start_time": "2021-12-09T08:26:06.845Z"
   },
   {
    "duration": 79,
    "start_time": "2021-12-09T08:26:06.855Z"
   },
   {
    "duration": 805,
    "start_time": "2021-12-09T08:26:06.937Z"
   },
   {
    "duration": 702,
    "start_time": "2021-12-09T08:26:07.745Z"
   },
   {
    "duration": 443,
    "start_time": "2021-12-09T08:26:08.450Z"
   },
   {
    "duration": 786,
    "start_time": "2021-12-09T08:26:08.896Z"
   },
   {
    "duration": 822,
    "start_time": "2021-12-09T08:26:09.684Z"
   },
   {
    "duration": 9,
    "start_time": "2021-12-09T08:26:10.508Z"
   },
   {
    "duration": 8,
    "start_time": "2021-12-09T08:26:10.520Z"
   },
   {
    "duration": 14,
    "start_time": "2021-12-09T08:26:10.531Z"
   },
   {
    "duration": 19,
    "start_time": "2021-12-09T08:26:10.549Z"
   },
   {
    "duration": 6,
    "start_time": "2021-12-09T08:26:10.571Z"
   },
   {
    "duration": 6,
    "start_time": "2021-12-09T08:26:10.580Z"
   },
   {
    "duration": 6,
    "start_time": "2021-12-09T08:26:10.588Z"
   },
   {
    "duration": 460,
    "start_time": "2021-12-09T08:26:10.597Z"
   },
   {
    "duration": 9,
    "start_time": "2021-12-09T08:26:11.060Z"
   },
   {
    "duration": 8,
    "start_time": "2021-12-09T08:26:11.072Z"
   },
   {
    "duration": 8,
    "start_time": "2021-12-09T08:26:11.083Z"
   },
   {
    "duration": 26,
    "start_time": "2021-12-09T08:26:11.093Z"
   },
   {
    "duration": 31,
    "start_time": "2021-12-09T08:26:11.121Z"
   },
   {
    "duration": 9,
    "start_time": "2021-12-09T08:26:11.154Z"
   },
   {
    "duration": 13,
    "start_time": "2021-12-09T08:26:11.166Z"
   },
   {
    "duration": 49,
    "start_time": "2021-12-09T08:26:11.181Z"
   },
   {
    "duration": 26,
    "start_time": "2021-12-09T08:26:11.234Z"
   },
   {
    "duration": 878,
    "start_time": "2021-12-09T08:26:11.262Z"
   },
   {
    "duration": 10,
    "start_time": "2021-12-09T08:26:12.151Z"
   },
   {
    "duration": 1042,
    "start_time": "2021-12-09T08:26:12.163Z"
   },
   {
    "duration": 681,
    "start_time": "2021-12-09T08:26:13.208Z"
   },
   {
    "duration": 627,
    "start_time": "2021-12-09T08:26:13.892Z"
   },
   {
    "duration": 660,
    "start_time": "2021-12-09T08:26:14.522Z"
   },
   {
    "duration": 8,
    "start_time": "2021-12-09T08:26:15.184Z"
   },
   {
    "duration": 24,
    "start_time": "2021-12-09T08:26:15.194Z"
   },
   {
    "duration": 10,
    "start_time": "2021-12-09T08:26:15.221Z"
   },
   {
    "duration": 9,
    "start_time": "2021-12-09T08:26:15.234Z"
   },
   {
    "duration": 9,
    "start_time": "2021-12-09T08:26:15.246Z"
   },
   {
    "duration": 60,
    "start_time": "2021-12-09T08:26:15.257Z"
   },
   {
    "duration": 326,
    "start_time": "2021-12-09T08:26:15.320Z"
   },
   {
    "duration": 767,
    "start_time": "2021-12-09T08:36:59.949Z"
   },
   {
    "duration": 100,
    "start_time": "2021-12-09T08:37:00.720Z"
   },
   {
    "duration": 54,
    "start_time": "2021-12-09T08:37:00.823Z"
   },
   {
    "duration": 48,
    "start_time": "2021-12-09T08:37:00.881Z"
   },
   {
    "duration": 14,
    "start_time": "2021-12-09T08:37:00.932Z"
   },
   {
    "duration": 10,
    "start_time": "2021-12-09T08:37:00.949Z"
   },
   {
    "duration": 61,
    "start_time": "2021-12-09T08:37:00.962Z"
   },
   {
    "duration": 15,
    "start_time": "2021-12-09T08:37:01.028Z"
   },
   {
    "duration": 13,
    "start_time": "2021-12-09T08:37:01.046Z"
   },
   {
    "duration": 9,
    "start_time": "2021-12-09T08:37:01.062Z"
   },
   {
    "duration": 55,
    "start_time": "2021-12-09T08:37:01.073Z"
   },
   {
    "duration": 14,
    "start_time": "2021-12-09T08:37:01.131Z"
   },
   {
    "duration": 14,
    "start_time": "2021-12-09T08:37:01.147Z"
   },
   {
    "duration": 54,
    "start_time": "2021-12-09T08:37:01.163Z"
   },
   {
    "duration": 38,
    "start_time": "2021-12-09T08:37:01.219Z"
   },
   {
    "duration": 13,
    "start_time": "2021-12-09T08:37:01.259Z"
   },
   {
    "duration": 41,
    "start_time": "2021-12-09T08:37:01.275Z"
   },
   {
    "duration": 20,
    "start_time": "2021-12-09T08:37:01.319Z"
   },
   {
    "duration": 22,
    "start_time": "2021-12-09T08:37:01.342Z"
   },
   {
    "duration": 55,
    "start_time": "2021-12-09T08:37:01.367Z"
   },
   {
    "duration": 20,
    "start_time": "2021-12-09T08:37:01.425Z"
   },
   {
    "duration": 70,
    "start_time": "2021-12-09T08:37:01.447Z"
   },
   {
    "duration": 5,
    "start_time": "2021-12-09T08:37:01.523Z"
   },
   {
    "duration": 10,
    "start_time": "2021-12-09T08:37:01.532Z"
   },
   {
    "duration": 25,
    "start_time": "2021-12-09T08:37:01.544Z"
   },
   {
    "duration": 22,
    "start_time": "2021-12-09T08:37:01.571Z"
   },
   {
    "duration": 24,
    "start_time": "2021-12-09T08:37:01.595Z"
   },
   {
    "duration": 7,
    "start_time": "2021-12-09T08:37:01.622Z"
   },
   {
    "duration": 12,
    "start_time": "2021-12-09T08:37:01.631Z"
   },
   {
    "duration": 13,
    "start_time": "2021-12-09T08:37:01.645Z"
   },
   {
    "duration": 4,
    "start_time": "2021-12-09T08:37:01.661Z"
   },
   {
    "duration": 4,
    "start_time": "2021-12-09T08:37:01.718Z"
   },
   {
    "duration": 40,
    "start_time": "2021-12-09T08:37:01.725Z"
   },
   {
    "duration": 16,
    "start_time": "2021-12-09T08:37:01.767Z"
   },
   {
    "duration": 6,
    "start_time": "2021-12-09T08:37:01.818Z"
   },
   {
    "duration": 11,
    "start_time": "2021-12-09T08:37:01.826Z"
   },
   {
    "duration": 46,
    "start_time": "2021-12-09T08:37:01.841Z"
   },
   {
    "duration": 41,
    "start_time": "2021-12-09T08:37:01.890Z"
   },
   {
    "duration": 30,
    "start_time": "2021-12-09T08:37:01.934Z"
   },
   {
    "duration": 1139,
    "start_time": "2021-12-09T08:37:01.966Z"
   },
   {
    "duration": 37,
    "start_time": "2021-12-09T08:37:03.107Z"
   },
   {
    "duration": 16,
    "start_time": "2021-12-09T08:37:03.146Z"
   },
   {
    "duration": 9,
    "start_time": "2021-12-09T08:37:03.165Z"
   },
   {
    "duration": 75,
    "start_time": "2021-12-09T08:37:03.177Z"
   },
   {
    "duration": 795,
    "start_time": "2021-12-09T08:37:03.255Z"
   },
   {
    "duration": 922,
    "start_time": "2021-12-09T08:37:04.053Z"
   },
   {
    "duration": 913,
    "start_time": "2021-12-09T08:37:04.979Z"
   },
   {
    "duration": 1578,
    "start_time": "2021-12-09T08:37:05.895Z"
   },
   {
    "duration": 1636,
    "start_time": "2021-12-09T08:37:07.475Z"
   },
   {
    "duration": 7,
    "start_time": "2021-12-09T08:37:09.116Z"
   },
   {
    "duration": 7,
    "start_time": "2021-12-09T08:37:09.126Z"
   },
   {
    "duration": 13,
    "start_time": "2021-12-09T08:37:09.136Z"
   },
   {
    "duration": 77,
    "start_time": "2021-12-09T08:37:09.153Z"
   },
   {
    "duration": 9,
    "start_time": "2021-12-09T08:37:09.232Z"
   },
   {
    "duration": 14,
    "start_time": "2021-12-09T08:37:09.243Z"
   },
   {
    "duration": 17,
    "start_time": "2021-12-09T08:37:09.260Z"
   },
   {
    "duration": 312,
    "start_time": "2021-12-09T08:37:09.317Z"
   },
   {
    "duration": 7,
    "start_time": "2021-12-09T08:37:09.631Z"
   },
   {
    "duration": 6,
    "start_time": "2021-12-09T08:37:09.640Z"
   },
   {
    "duration": 7,
    "start_time": "2021-12-09T08:37:09.648Z"
   },
   {
    "duration": 59,
    "start_time": "2021-12-09T08:37:09.658Z"
   },
   {
    "duration": 32,
    "start_time": "2021-12-09T08:37:09.720Z"
   },
   {
    "duration": 9,
    "start_time": "2021-12-09T08:37:09.754Z"
   },
   {
    "duration": 58,
    "start_time": "2021-12-09T08:37:09.765Z"
   },
   {
    "duration": 37,
    "start_time": "2021-12-09T08:37:09.826Z"
   },
   {
    "duration": 51,
    "start_time": "2021-12-09T08:37:09.865Z"
   },
   {
    "duration": 575,
    "start_time": "2021-12-09T08:37:09.919Z"
   },
   {
    "duration": 20,
    "start_time": "2021-12-09T08:37:10.501Z"
   },
   {
    "duration": 625,
    "start_time": "2021-12-09T08:37:10.524Z"
   },
   {
    "duration": 610,
    "start_time": "2021-12-09T08:37:11.152Z"
   },
   {
    "duration": 717,
    "start_time": "2021-12-09T08:37:11.765Z"
   },
   {
    "duration": 641,
    "start_time": "2021-12-09T08:37:12.484Z"
   },
   {
    "duration": 7,
    "start_time": "2021-12-09T08:37:13.127Z"
   },
   {
    "duration": 7,
    "start_time": "2021-12-09T08:37:13.137Z"
   },
   {
    "duration": 7,
    "start_time": "2021-12-09T08:37:13.146Z"
   },
   {
    "duration": 6,
    "start_time": "2021-12-09T08:37:13.156Z"
   },
   {
    "duration": 58,
    "start_time": "2021-12-09T08:37:13.164Z"
   },
   {
    "duration": 6,
    "start_time": "2021-12-09T08:37:13.224Z"
   },
   {
    "duration": 353,
    "start_time": "2021-12-09T08:37:13.233Z"
   },
   {
    "duration": 811,
    "start_time": "2021-12-09T08:42:39.502Z"
   },
   {
    "duration": 90,
    "start_time": "2021-12-09T08:42:40.315Z"
   },
   {
    "duration": 68,
    "start_time": "2021-12-09T08:42:40.407Z"
   },
   {
    "duration": 14,
    "start_time": "2021-12-09T08:42:40.479Z"
   },
   {
    "duration": 10,
    "start_time": "2021-12-09T08:42:40.518Z"
   },
   {
    "duration": 5,
    "start_time": "2021-12-09T08:42:40.531Z"
   },
   {
    "duration": 14,
    "start_time": "2021-12-09T08:42:40.538Z"
   },
   {
    "duration": 10,
    "start_time": "2021-12-09T08:42:40.554Z"
   },
   {
    "duration": 11,
    "start_time": "2021-12-09T08:42:40.618Z"
   },
   {
    "duration": 9,
    "start_time": "2021-12-09T08:42:40.632Z"
   },
   {
    "duration": 11,
    "start_time": "2021-12-09T08:42:40.643Z"
   },
   {
    "duration": 13,
    "start_time": "2021-12-09T08:42:40.656Z"
   },
   {
    "duration": 10,
    "start_time": "2021-12-09T08:42:40.718Z"
   },
   {
    "duration": 5,
    "start_time": "2021-12-09T08:42:40.731Z"
   },
   {
    "duration": 27,
    "start_time": "2021-12-09T08:42:40.739Z"
   },
   {
    "duration": 54,
    "start_time": "2021-12-09T08:42:40.768Z"
   },
   {
    "duration": 10,
    "start_time": "2021-12-09T08:42:40.825Z"
   },
   {
    "duration": 17,
    "start_time": "2021-12-09T08:42:40.838Z"
   },
   {
    "duration": 63,
    "start_time": "2021-12-09T08:42:40.858Z"
   },
   {
    "duration": 16,
    "start_time": "2021-12-09T08:42:40.924Z"
   },
   {
    "duration": 18,
    "start_time": "2021-12-09T08:42:40.942Z"
   },
   {
    "duration": 81,
    "start_time": "2021-12-09T08:42:40.963Z"
   },
   {
    "duration": 7,
    "start_time": "2021-12-09T08:42:41.047Z"
   },
   {
    "duration": 11,
    "start_time": "2021-12-09T08:42:41.058Z"
   },
   {
    "duration": 47,
    "start_time": "2021-12-09T08:42:41.072Z"
   },
   {
    "duration": 12,
    "start_time": "2021-12-09T08:42:41.122Z"
   },
   {
    "duration": 15,
    "start_time": "2021-12-09T08:42:41.146Z"
   },
   {
    "duration": 60,
    "start_time": "2021-12-09T08:42:41.166Z"
   },
   {
    "duration": 15,
    "start_time": "2021-12-09T08:42:41.229Z"
   },
   {
    "duration": 10,
    "start_time": "2021-12-09T08:42:41.247Z"
   },
   {
    "duration": 58,
    "start_time": "2021-12-09T08:42:41.261Z"
   },
   {
    "duration": 12,
    "start_time": "2021-12-09T08:42:41.321Z"
   },
   {
    "duration": 67,
    "start_time": "2021-12-09T08:42:41.335Z"
   },
   {
    "duration": 31,
    "start_time": "2021-12-09T08:42:41.404Z"
   },
   {
    "duration": 10,
    "start_time": "2021-12-09T08:42:41.438Z"
   },
   {
    "duration": 31,
    "start_time": "2021-12-09T08:42:41.450Z"
   },
   {
    "duration": 48,
    "start_time": "2021-12-09T08:42:41.483Z"
   },
   {
    "duration": 18,
    "start_time": "2021-12-09T08:42:41.533Z"
   },
   {
    "duration": 36,
    "start_time": "2021-12-09T08:42:41.553Z"
   },
   {
    "duration": 973,
    "start_time": "2021-12-09T08:42:41.591Z"
   },
   {
    "duration": 50,
    "start_time": "2021-12-09T08:42:42.567Z"
   },
   {
    "duration": 5,
    "start_time": "2021-12-09T08:42:42.620Z"
   },
   {
    "duration": 7,
    "start_time": "2021-12-09T08:42:42.627Z"
   },
   {
    "duration": 33,
    "start_time": "2021-12-09T08:42:42.637Z"
   },
   {
    "duration": 815,
    "start_time": "2021-12-09T08:42:42.672Z"
   },
   {
    "duration": 809,
    "start_time": "2021-12-09T08:42:43.490Z"
   },
   {
    "duration": 924,
    "start_time": "2021-12-09T08:42:44.301Z"
   },
   {
    "duration": 821,
    "start_time": "2021-12-09T08:42:45.228Z"
   },
   {
    "duration": 915,
    "start_time": "2021-12-09T08:42:46.052Z"
   },
   {
    "duration": 7,
    "start_time": "2021-12-09T08:42:46.970Z"
   },
   {
    "duration": 39,
    "start_time": "2021-12-09T08:42:46.980Z"
   },
   {
    "duration": 12,
    "start_time": "2021-12-09T08:42:47.022Z"
   },
   {
    "duration": 16,
    "start_time": "2021-12-09T08:42:47.036Z"
   },
   {
    "duration": 7,
    "start_time": "2021-12-09T08:42:47.054Z"
   },
   {
    "duration": 54,
    "start_time": "2021-12-09T08:42:47.063Z"
   },
   {
    "duration": 7,
    "start_time": "2021-12-09T08:42:47.119Z"
   },
   {
    "duration": 319,
    "start_time": "2021-12-09T08:42:47.128Z"
   },
   {
    "duration": 7,
    "start_time": "2021-12-09T08:42:47.450Z"
   },
   {
    "duration": 7,
    "start_time": "2021-12-09T08:42:47.459Z"
   },
   {
    "duration": 48,
    "start_time": "2021-12-09T08:42:47.469Z"
   },
   {
    "duration": 12,
    "start_time": "2021-12-09T08:42:47.520Z"
   },
   {
    "duration": 30,
    "start_time": "2021-12-09T08:42:47.534Z"
   },
   {
    "duration": 51,
    "start_time": "2021-12-09T08:42:47.566Z"
   },
   {
    "duration": 15,
    "start_time": "2021-12-09T08:42:47.619Z"
   },
   {
    "duration": 36,
    "start_time": "2021-12-09T08:42:47.636Z"
   },
   {
    "duration": 62,
    "start_time": "2021-12-09T08:42:47.675Z"
   },
   {
    "duration": 600,
    "start_time": "2021-12-09T08:42:47.739Z"
   },
   {
    "duration": 9,
    "start_time": "2021-12-09T08:42:48.342Z"
   },
   {
    "duration": 756,
    "start_time": "2021-12-09T08:42:48.353Z"
   },
   {
    "duration": 646,
    "start_time": "2021-12-09T08:42:49.112Z"
   },
   {
    "duration": 637,
    "start_time": "2021-12-09T08:42:49.761Z"
   },
   {
    "duration": 699,
    "start_time": "2021-12-09T08:42:50.401Z"
   },
   {
    "duration": 19,
    "start_time": "2021-12-09T08:42:51.102Z"
   },
   {
    "duration": 16,
    "start_time": "2021-12-09T08:42:51.123Z"
   },
   {
    "duration": 16,
    "start_time": "2021-12-09T08:42:51.141Z"
   },
   {
    "duration": 14,
    "start_time": "2021-12-09T08:42:51.159Z"
   },
   {
    "duration": 16,
    "start_time": "2021-12-09T08:42:51.175Z"
   },
   {
    "duration": 6,
    "start_time": "2021-12-09T08:42:51.218Z"
   },
   {
    "duration": 400,
    "start_time": "2021-12-09T08:42:51.226Z"
   },
   {
    "duration": 855,
    "start_time": "2021-12-09T08:44:32.118Z"
   },
   {
    "duration": 91,
    "start_time": "2021-12-09T08:44:32.977Z"
   },
   {
    "duration": 64,
    "start_time": "2021-12-09T08:44:33.071Z"
   },
   {
    "duration": 16,
    "start_time": "2021-12-09T08:44:33.138Z"
   },
   {
    "duration": 10,
    "start_time": "2021-12-09T08:44:33.156Z"
   },
   {
    "duration": 50,
    "start_time": "2021-12-09T08:44:33.168Z"
   },
   {
    "duration": 11,
    "start_time": "2021-12-09T08:44:33.220Z"
   },
   {
    "duration": 11,
    "start_time": "2021-12-09T08:44:33.235Z"
   },
   {
    "duration": 10,
    "start_time": "2021-12-09T08:44:33.249Z"
   },
   {
    "duration": 57,
    "start_time": "2021-12-09T08:44:33.262Z"
   },
   {
    "duration": 12,
    "start_time": "2021-12-09T08:44:33.322Z"
   },
   {
    "duration": 13,
    "start_time": "2021-12-09T08:44:33.337Z"
   },
   {
    "duration": 12,
    "start_time": "2021-12-09T08:44:33.352Z"
   },
   {
    "duration": 55,
    "start_time": "2021-12-09T08:44:33.367Z"
   },
   {
    "duration": 28,
    "start_time": "2021-12-09T08:44:33.425Z"
   },
   {
    "duration": 13,
    "start_time": "2021-12-09T08:44:33.455Z"
   },
   {
    "duration": 54,
    "start_time": "2021-12-09T08:44:33.471Z"
   },
   {
    "duration": 18,
    "start_time": "2021-12-09T08:44:33.528Z"
   },
   {
    "duration": 19,
    "start_time": "2021-12-09T08:44:33.548Z"
   },
   {
    "duration": 57,
    "start_time": "2021-12-09T08:44:33.570Z"
   },
   {
    "duration": 15,
    "start_time": "2021-12-09T08:44:33.629Z"
   },
   {
    "duration": 69,
    "start_time": "2021-12-09T08:44:33.647Z"
   },
   {
    "duration": 6,
    "start_time": "2021-12-09T08:44:33.722Z"
   },
   {
    "duration": 5,
    "start_time": "2021-12-09T08:44:33.732Z"
   },
   {
    "duration": 10,
    "start_time": "2021-12-09T08:44:33.740Z"
   },
   {
    "duration": 13,
    "start_time": "2021-12-09T08:44:33.753Z"
   },
   {
    "duration": 57,
    "start_time": "2021-12-09T08:44:33.768Z"
   },
   {
    "duration": 8,
    "start_time": "2021-12-09T08:44:33.828Z"
   },
   {
    "duration": 20,
    "start_time": "2021-12-09T08:44:33.838Z"
   },
   {
    "duration": 8,
    "start_time": "2021-12-09T08:44:33.860Z"
   },
   {
    "duration": 8,
    "start_time": "2021-12-09T08:44:33.871Z"
   },
   {
    "duration": 5,
    "start_time": "2021-12-09T08:44:33.917Z"
   },
   {
    "duration": 36,
    "start_time": "2021-12-09T08:44:33.924Z"
   },
   {
    "duration": 54,
    "start_time": "2021-12-09T08:44:33.963Z"
   },
   {
    "duration": 6,
    "start_time": "2021-12-09T08:44:34.020Z"
   },
   {
    "duration": 12,
    "start_time": "2021-12-09T08:44:34.028Z"
   },
   {
    "duration": 44,
    "start_time": "2021-12-09T08:44:34.043Z"
   },
   {
    "duration": 39,
    "start_time": "2021-12-09T08:44:34.090Z"
   },
   {
    "duration": 33,
    "start_time": "2021-12-09T08:44:34.132Z"
   },
   {
    "duration": 1004,
    "start_time": "2021-12-09T08:44:34.169Z"
   },
   {
    "duration": 45,
    "start_time": "2021-12-09T08:44:35.176Z"
   },
   {
    "duration": 15,
    "start_time": "2021-12-09T08:44:35.223Z"
   },
   {
    "duration": 14,
    "start_time": "2021-12-09T08:44:35.241Z"
   },
   {
    "duration": 36,
    "start_time": "2021-12-09T08:44:35.257Z"
   },
   {
    "duration": 1186,
    "start_time": "2021-12-09T08:44:35.295Z"
   },
   {
    "duration": -5784,
    "start_time": "2021-12-09T08:44:42.268Z"
   },
   {
    "duration": -5792,
    "start_time": "2021-12-09T08:44:42.277Z"
   },
   {
    "duration": -5797,
    "start_time": "2021-12-09T08:44:42.284Z"
   },
   {
    "duration": -5803,
    "start_time": "2021-12-09T08:44:42.291Z"
   },
   {
    "duration": -5808,
    "start_time": "2021-12-09T08:44:42.298Z"
   },
   {
    "duration": -5814,
    "start_time": "2021-12-09T08:44:42.305Z"
   },
   {
    "duration": -5820,
    "start_time": "2021-12-09T08:44:42.313Z"
   },
   {
    "duration": -5802,
    "start_time": "2021-12-09T08:44:42.319Z"
   },
   {
    "duration": -5809,
    "start_time": "2021-12-09T08:44:42.327Z"
   },
   {
    "duration": -5814,
    "start_time": "2021-12-09T08:44:42.334Z"
   },
   {
    "duration": -5821,
    "start_time": "2021-12-09T08:44:42.342Z"
   },
   {
    "duration": -5825,
    "start_time": "2021-12-09T08:44:42.348Z"
   },
   {
    "duration": -5831,
    "start_time": "2021-12-09T08:44:42.356Z"
   },
   {
    "duration": -5860,
    "start_time": "2021-12-09T08:44:42.386Z"
   },
   {
    "duration": -5867,
    "start_time": "2021-12-09T08:44:42.394Z"
   },
   {
    "duration": -5873,
    "start_time": "2021-12-09T08:44:42.401Z"
   },
   {
    "duration": -5878,
    "start_time": "2021-12-09T08:44:42.408Z"
   },
   {
    "duration": -5888,
    "start_time": "2021-12-09T08:44:42.419Z"
   },
   {
    "duration": -5894,
    "start_time": "2021-12-09T08:44:42.427Z"
   },
   {
    "duration": -5899,
    "start_time": "2021-12-09T08:44:42.433Z"
   },
   {
    "duration": -5905,
    "start_time": "2021-12-09T08:44:42.441Z"
   },
   {
    "duration": -5910,
    "start_time": "2021-12-09T08:44:42.447Z"
   },
   {
    "duration": -5917,
    "start_time": "2021-12-09T08:44:42.455Z"
   },
   {
    "duration": -5922,
    "start_time": "2021-12-09T08:44:42.462Z"
   },
   {
    "duration": -5928,
    "start_time": "2021-12-09T08:44:42.469Z"
   },
   {
    "duration": -5935,
    "start_time": "2021-12-09T08:44:42.477Z"
   },
   {
    "duration": -5950,
    "start_time": "2021-12-09T08:44:42.494Z"
   },
   {
    "duration": -5955,
    "start_time": "2021-12-09T08:44:42.500Z"
   },
   {
    "duration": -5962,
    "start_time": "2021-12-09T08:44:42.508Z"
   },
   {
    "duration": -5967,
    "start_time": "2021-12-09T08:44:42.515Z"
   },
   {
    "duration": -5974,
    "start_time": "2021-12-09T08:44:42.523Z"
   },
   {
    "duration": -5980,
    "start_time": "2021-12-09T08:44:42.530Z"
   },
   {
    "duration": -5986,
    "start_time": "2021-12-09T08:44:42.537Z"
   },
   {
    "duration": -5992,
    "start_time": "2021-12-09T08:44:42.544Z"
   },
   {
    "duration": 821,
    "start_time": "2021-12-09T08:46:07.913Z"
   },
   {
    "duration": 106,
    "start_time": "2021-12-09T08:46:08.737Z"
   },
   {
    "duration": 68,
    "start_time": "2021-12-09T08:46:08.849Z"
   },
   {
    "duration": 15,
    "start_time": "2021-12-09T08:46:08.920Z"
   },
   {
    "duration": 10,
    "start_time": "2021-12-09T08:46:08.938Z"
   },
   {
    "duration": 6,
    "start_time": "2021-12-09T08:46:08.950Z"
   },
   {
    "duration": 63,
    "start_time": "2021-12-09T08:46:08.959Z"
   },
   {
    "duration": 11,
    "start_time": "2021-12-09T08:46:09.025Z"
   },
   {
    "duration": 10,
    "start_time": "2021-12-09T08:46:09.039Z"
   },
   {
    "duration": 11,
    "start_time": "2021-12-09T08:46:09.051Z"
   },
   {
    "duration": 69,
    "start_time": "2021-12-09T08:46:09.065Z"
   },
   {
    "duration": 18,
    "start_time": "2021-12-09T08:46:09.137Z"
   },
   {
    "duration": 14,
    "start_time": "2021-12-09T08:46:09.158Z"
   },
   {
    "duration": 8,
    "start_time": "2021-12-09T08:46:09.175Z"
   },
   {
    "duration": 38,
    "start_time": "2021-12-09T08:46:09.219Z"
   },
   {
    "duration": 17,
    "start_time": "2021-12-09T08:46:09.260Z"
   },
   {
    "duration": 15,
    "start_time": "2021-12-09T08:46:09.317Z"
   },
   {
    "duration": 31,
    "start_time": "2021-12-09T08:46:09.336Z"
   },
   {
    "duration": 51,
    "start_time": "2021-12-09T08:46:09.369Z"
   },
   {
    "duration": 11,
    "start_time": "2021-12-09T08:46:09.422Z"
   },
   {
    "duration": 15,
    "start_time": "2021-12-09T08:46:09.436Z"
   },
   {
    "duration": 74,
    "start_time": "2021-12-09T08:46:09.459Z"
   },
   {
    "duration": 5,
    "start_time": "2021-12-09T08:46:09.537Z"
   },
   {
    "duration": 9,
    "start_time": "2021-12-09T08:46:09.544Z"
   },
   {
    "duration": 6,
    "start_time": "2021-12-09T08:46:09.556Z"
   },
   {
    "duration": 9,
    "start_time": "2021-12-09T08:46:09.616Z"
   },
   {
    "duration": 20,
    "start_time": "2021-12-09T08:46:09.627Z"
   },
   {
    "duration": 7,
    "start_time": "2021-12-09T08:46:09.649Z"
   },
   {
    "duration": 12,
    "start_time": "2021-12-09T08:46:09.659Z"
   },
   {
    "duration": 8,
    "start_time": "2021-12-09T08:46:09.673Z"
   },
   {
    "duration": 6,
    "start_time": "2021-12-09T08:46:09.683Z"
   },
   {
    "duration": 6,
    "start_time": "2021-12-09T08:46:09.691Z"
   },
   {
    "duration": 41,
    "start_time": "2021-12-09T08:46:09.699Z"
   },
   {
    "duration": 15,
    "start_time": "2021-12-09T08:46:09.742Z"
   },
   {
    "duration": 5,
    "start_time": "2021-12-09T08:46:09.759Z"
   },
   {
    "duration": 6,
    "start_time": "2021-12-09T08:46:09.766Z"
   },
   {
    "duration": 42,
    "start_time": "2021-12-09T08:46:09.774Z"
   },
   {
    "duration": 17,
    "start_time": "2021-12-09T08:46:09.819Z"
   },
   {
    "duration": 29,
    "start_time": "2021-12-09T08:46:09.839Z"
   },
   {
    "duration": 942,
    "start_time": "2021-12-09T08:46:09.871Z"
   },
   {
    "duration": 40,
    "start_time": "2021-12-09T08:46:10.815Z"
   },
   {
    "duration": 5,
    "start_time": "2021-12-09T08:46:10.858Z"
   },
   {
    "duration": 53,
    "start_time": "2021-12-09T08:46:10.866Z"
   },
   {
    "duration": 40,
    "start_time": "2021-12-09T08:46:10.921Z"
   },
   {
    "duration": 1395,
    "start_time": "2021-12-09T08:46:10.963Z"
   },
   {
    "duration": 874,
    "start_time": "2021-12-09T08:46:12.361Z"
   },
   {
    "duration": 1007,
    "start_time": "2021-12-09T08:46:13.237Z"
   },
   {
    "duration": 917,
    "start_time": "2021-12-09T08:46:14.246Z"
   },
   {
    "duration": 1019,
    "start_time": "2021-12-09T08:46:15.165Z"
   },
   {
    "duration": 8,
    "start_time": "2021-12-09T08:46:16.187Z"
   },
   {
    "duration": 21,
    "start_time": "2021-12-09T08:46:16.198Z"
   },
   {
    "duration": 16,
    "start_time": "2021-12-09T08:46:16.222Z"
   },
   {
    "duration": 80,
    "start_time": "2021-12-09T08:46:16.241Z"
   },
   {
    "duration": 10,
    "start_time": "2021-12-09T08:46:16.323Z"
   },
   {
    "duration": 9,
    "start_time": "2021-12-09T08:46:16.336Z"
   },
   {
    "duration": 10,
    "start_time": "2021-12-09T08:46:16.348Z"
   },
   {
    "duration": 358,
    "start_time": "2021-12-09T08:46:16.360Z"
   },
   {
    "duration": 7,
    "start_time": "2021-12-09T08:46:16.721Z"
   },
   {
    "duration": 6,
    "start_time": "2021-12-09T08:46:16.731Z"
   },
   {
    "duration": 8,
    "start_time": "2021-12-09T08:46:16.739Z"
   },
   {
    "duration": 12,
    "start_time": "2021-12-09T08:46:16.749Z"
   },
   {
    "duration": 34,
    "start_time": "2021-12-09T08:46:16.819Z"
   },
   {
    "duration": 10,
    "start_time": "2021-12-09T08:46:16.855Z"
   },
   {
    "duration": 54,
    "start_time": "2021-12-09T08:46:16.867Z"
   },
   {
    "duration": 34,
    "start_time": "2021-12-09T08:46:16.923Z"
   },
   {
    "duration": 23,
    "start_time": "2021-12-09T08:46:16.959Z"
   },
   {
    "duration": 756,
    "start_time": "2021-12-09T08:46:17.018Z"
   },
   {
    "duration": 10,
    "start_time": "2021-12-09T08:46:17.776Z"
   },
   {
    "duration": 651,
    "start_time": "2021-12-09T08:46:17.789Z"
   },
   {
    "duration": 638,
    "start_time": "2021-12-09T08:46:18.442Z"
   },
   {
    "duration": 748,
    "start_time": "2021-12-09T08:46:19.083Z"
   },
   {
    "duration": 677,
    "start_time": "2021-12-09T08:46:19.834Z"
   },
   {
    "duration": 7,
    "start_time": "2021-12-09T08:46:20.517Z"
   },
   {
    "duration": 9,
    "start_time": "2021-12-09T08:46:20.527Z"
   },
   {
    "duration": 7,
    "start_time": "2021-12-09T08:46:20.538Z"
   },
   {
    "duration": 7,
    "start_time": "2021-12-09T08:46:20.547Z"
   },
   {
    "duration": 63,
    "start_time": "2021-12-09T08:46:20.557Z"
   },
   {
    "duration": 8,
    "start_time": "2021-12-09T08:46:20.623Z"
   },
   {
    "duration": 424,
    "start_time": "2021-12-09T08:46:20.633Z"
   },
   {
    "duration": 800,
    "start_time": "2021-12-09T09:32:51.252Z"
   },
   {
    "duration": 90,
    "start_time": "2021-12-09T09:32:52.055Z"
   },
   {
    "duration": 51,
    "start_time": "2021-12-09T09:32:52.148Z"
   },
   {
    "duration": 20,
    "start_time": "2021-12-09T09:32:52.217Z"
   },
   {
    "duration": 13,
    "start_time": "2021-12-09T09:32:52.240Z"
   },
   {
    "duration": 5,
    "start_time": "2021-12-09T09:32:52.256Z"
   },
   {
    "duration": 59,
    "start_time": "2021-12-09T09:32:52.264Z"
   },
   {
    "duration": 15,
    "start_time": "2021-12-09T09:32:52.329Z"
   },
   {
    "duration": 11,
    "start_time": "2021-12-09T09:32:52.347Z"
   },
   {
    "duration": 64,
    "start_time": "2021-12-09T09:32:52.360Z"
   },
   {
    "duration": 11,
    "start_time": "2021-12-09T09:32:52.426Z"
   },
   {
    "duration": 13,
    "start_time": "2021-12-09T09:32:52.440Z"
   },
   {
    "duration": 62,
    "start_time": "2021-12-09T09:32:52.456Z"
   },
   {
    "duration": 7,
    "start_time": "2021-12-09T09:32:52.521Z"
   },
   {
    "duration": 31,
    "start_time": "2021-12-09T09:32:52.530Z"
   },
   {
    "duration": 12,
    "start_time": "2021-12-09T09:32:52.563Z"
   },
   {
    "duration": 49,
    "start_time": "2021-12-09T09:32:52.578Z"
   },
   {
    "duration": 19,
    "start_time": "2021-12-09T09:32:52.629Z"
   },
   {
    "duration": 18,
    "start_time": "2021-12-09T09:32:52.650Z"
   },
   {
    "duration": 11,
    "start_time": "2021-12-09T09:32:52.718Z"
   },
   {
    "duration": 21,
    "start_time": "2021-12-09T09:32:52.732Z"
   },
   {
    "duration": 43,
    "start_time": "2021-12-09T09:32:52.756Z"
   },
   {
    "duration": 7,
    "start_time": "2021-12-09T09:32:52.820Z"
   },
   {
    "duration": 9,
    "start_time": "2021-12-09T09:32:52.833Z"
   },
   {
    "duration": 19,
    "start_time": "2021-12-09T09:32:52.844Z"
   },
   {
    "duration": 21,
    "start_time": "2021-12-09T09:32:52.866Z"
   },
   {
    "duration": 11,
    "start_time": "2021-12-09T09:32:52.917Z"
   },
   {
    "duration": 15,
    "start_time": "2021-12-09T09:32:52.930Z"
   },
   {
    "duration": 13,
    "start_time": "2021-12-09T09:32:52.947Z"
   },
   {
    "duration": 19,
    "start_time": "2021-12-09T09:32:52.962Z"
   },
   {
    "duration": 39,
    "start_time": "2021-12-09T09:32:52.983Z"
   },
   {
    "duration": 19,
    "start_time": "2021-12-09T09:32:53.024Z"
   },
   {
    "duration": 37,
    "start_time": "2021-12-09T09:32:53.046Z"
   },
   {
    "duration": 32,
    "start_time": "2021-12-09T09:32:53.085Z"
   },
   {
    "duration": 6,
    "start_time": "2021-12-09T09:32:53.119Z"
   },
   {
    "duration": 7,
    "start_time": "2021-12-09T09:32:53.128Z"
   },
   {
    "duration": 36,
    "start_time": "2021-12-09T09:32:53.137Z"
   },
   {
    "duration": 58,
    "start_time": "2021-12-09T09:32:53.175Z"
   },
   {
    "duration": 30,
    "start_time": "2021-12-09T09:32:53.235Z"
   },
   {
    "duration": 1042,
    "start_time": "2021-12-09T09:32:53.267Z"
   },
   {
    "duration": 38,
    "start_time": "2021-12-09T09:32:54.311Z"
   },
   {
    "duration": 6,
    "start_time": "2021-12-09T09:32:54.351Z"
   },
   {
    "duration": 6,
    "start_time": "2021-12-09T09:32:54.360Z"
   },
   {
    "duration": 71,
    "start_time": "2021-12-09T09:32:54.369Z"
   },
   {
    "duration": 1282,
    "start_time": "2021-12-09T09:32:54.443Z"
   },
   {
    "duration": -5614,
    "start_time": "2021-12-09T09:33:01.342Z"
   },
   {
    "duration": -5620,
    "start_time": "2021-12-09T09:33:01.350Z"
   },
   {
    "duration": -5626,
    "start_time": "2021-12-09T09:33:01.358Z"
   },
   {
    "duration": -5631,
    "start_time": "2021-12-09T09:33:01.365Z"
   },
   {
    "duration": -5647,
    "start_time": "2021-12-09T09:33:01.383Z"
   },
   {
    "duration": -5655,
    "start_time": "2021-12-09T09:33:01.392Z"
   },
   {
    "duration": -5659,
    "start_time": "2021-12-09T09:33:01.398Z"
   },
   {
    "duration": -5666,
    "start_time": "2021-12-09T09:33:01.407Z"
   },
   {
    "duration": -5672,
    "start_time": "2021-12-09T09:33:01.415Z"
   },
   {
    "duration": -5680,
    "start_time": "2021-12-09T09:33:01.424Z"
   },
   {
    "duration": -5686,
    "start_time": "2021-12-09T09:33:01.431Z"
   },
   {
    "duration": -5694,
    "start_time": "2021-12-09T09:33:01.440Z"
   },
   {
    "duration": -5699,
    "start_time": "2021-12-09T09:33:01.447Z"
   },
   {
    "duration": -5706,
    "start_time": "2021-12-09T09:33:01.456Z"
   },
   {
    "duration": -5749,
    "start_time": "2021-12-09T09:33:01.501Z"
   },
   {
    "duration": -5757,
    "start_time": "2021-12-09T09:33:01.511Z"
   },
   {
    "duration": -5762,
    "start_time": "2021-12-09T09:33:01.518Z"
   },
   {
    "duration": -5769,
    "start_time": "2021-12-09T09:33:01.526Z"
   },
   {
    "duration": -5774,
    "start_time": "2021-12-09T09:33:01.533Z"
   },
   {
    "duration": -5781,
    "start_time": "2021-12-09T09:33:01.541Z"
   },
   {
    "duration": -5787,
    "start_time": "2021-12-09T09:33:01.548Z"
   },
   {
    "duration": -5793,
    "start_time": "2021-12-09T09:33:01.555Z"
   },
   {
    "duration": -5799,
    "start_time": "2021-12-09T09:33:01.562Z"
   },
   {
    "duration": -5753,
    "start_time": "2021-12-09T09:33:01.570Z"
   },
   {
    "duration": -5758,
    "start_time": "2021-12-09T09:33:01.576Z"
   },
   {
    "duration": -5765,
    "start_time": "2021-12-09T09:33:01.584Z"
   },
   {
    "duration": -5769,
    "start_time": "2021-12-09T09:33:01.590Z"
   },
   {
    "duration": -5784,
    "start_time": "2021-12-09T09:33:01.606Z"
   },
   {
    "duration": -5790,
    "start_time": "2021-12-09T09:33:01.613Z"
   },
   {
    "duration": -5796,
    "start_time": "2021-12-09T09:33:01.620Z"
   },
   {
    "duration": -5801,
    "start_time": "2021-12-09T09:33:01.627Z"
   },
   {
    "duration": -5807,
    "start_time": "2021-12-09T09:33:01.634Z"
   },
   {
    "duration": -5812,
    "start_time": "2021-12-09T09:33:01.640Z"
   },
   {
    "duration": -5819,
    "start_time": "2021-12-09T09:33:01.648Z"
   },
   {
    "duration": 784,
    "start_time": "2021-12-09T09:33:11.635Z"
   },
   {
    "duration": 93,
    "start_time": "2021-12-09T09:33:12.423Z"
   },
   {
    "duration": 51,
    "start_time": "2021-12-09T09:33:12.519Z"
   },
   {
    "duration": 46,
    "start_time": "2021-12-09T09:33:12.572Z"
   },
   {
    "duration": 10,
    "start_time": "2021-12-09T09:33:12.621Z"
   },
   {
    "duration": 6,
    "start_time": "2021-12-09T09:33:12.634Z"
   },
   {
    "duration": 14,
    "start_time": "2021-12-09T09:33:12.642Z"
   },
   {
    "duration": 61,
    "start_time": "2021-12-09T09:33:12.658Z"
   },
   {
    "duration": 12,
    "start_time": "2021-12-09T09:33:12.723Z"
   },
   {
    "duration": 10,
    "start_time": "2021-12-09T09:33:12.738Z"
   },
   {
    "duration": 12,
    "start_time": "2021-12-09T09:33:12.751Z"
   },
   {
    "duration": 54,
    "start_time": "2021-12-09T09:33:12.766Z"
   },
   {
    "duration": 11,
    "start_time": "2021-12-09T09:33:12.823Z"
   },
   {
    "duration": 5,
    "start_time": "2021-12-09T09:33:12.837Z"
   },
   {
    "duration": 82,
    "start_time": "2021-12-09T09:33:12.845Z"
   },
   {
    "duration": 12,
    "start_time": "2021-12-09T09:33:12.929Z"
   },
   {
    "duration": 12,
    "start_time": "2021-12-09T09:33:12.944Z"
   },
   {
    "duration": 16,
    "start_time": "2021-12-09T09:33:12.958Z"
   },
   {
    "duration": 56,
    "start_time": "2021-12-09T09:33:12.976Z"
   },
   {
    "duration": 10,
    "start_time": "2021-12-09T09:33:13.034Z"
   },
   {
    "duration": 15,
    "start_time": "2021-12-09T09:33:13.046Z"
   },
   {
    "duration": 77,
    "start_time": "2021-12-09T09:33:13.064Z"
   },
   {
    "duration": 6,
    "start_time": "2021-12-09T09:33:13.143Z"
   },
   {
    "duration": 5,
    "start_time": "2021-12-09T09:33:13.151Z"
   },
   {
    "duration": 7,
    "start_time": "2021-12-09T09:33:13.158Z"
   },
   {
    "duration": 51,
    "start_time": "2021-12-09T09:33:13.168Z"
   },
   {
    "duration": 11,
    "start_time": "2021-12-09T09:33:13.225Z"
   },
   {
    "duration": 8,
    "start_time": "2021-12-09T09:33:13.239Z"
   },
   {
    "duration": 12,
    "start_time": "2021-12-09T09:33:13.249Z"
   },
   {
    "duration": 54,
    "start_time": "2021-12-09T09:33:13.263Z"
   },
   {
    "duration": 4,
    "start_time": "2021-12-09T09:33:13.320Z"
   },
   {
    "duration": 10,
    "start_time": "2021-12-09T09:33:13.327Z"
   },
   {
    "duration": 30,
    "start_time": "2021-12-09T09:33:13.339Z"
   },
   {
    "duration": 54,
    "start_time": "2021-12-09T09:33:13.372Z"
   },
   {
    "duration": 6,
    "start_time": "2021-12-09T09:33:13.428Z"
   },
   {
    "duration": 11,
    "start_time": "2021-12-09T09:33:13.436Z"
   },
   {
    "duration": 32,
    "start_time": "2021-12-09T09:33:13.450Z"
   },
   {
    "duration": 50,
    "start_time": "2021-12-09T09:33:13.485Z"
   },
   {
    "duration": 33,
    "start_time": "2021-12-09T09:33:13.538Z"
   },
   {
    "duration": 996,
    "start_time": "2021-12-09T09:33:13.574Z"
   },
   {
    "duration": 54,
    "start_time": "2021-12-09T09:33:14.573Z"
   },
   {
    "duration": 5,
    "start_time": "2021-12-09T09:33:14.629Z"
   },
   {
    "duration": 7,
    "start_time": "2021-12-09T09:33:14.637Z"
   },
   {
    "duration": 73,
    "start_time": "2021-12-09T09:33:14.646Z"
   },
   {
    "duration": 936,
    "start_time": "2021-12-09T09:33:14.721Z"
   },
   {
    "duration": 952,
    "start_time": "2021-12-09T09:33:15.660Z"
   },
   {
    "duration": 910,
    "start_time": "2021-12-09T09:33:16.617Z"
   },
   {
    "duration": 820,
    "start_time": "2021-12-09T09:33:17.530Z"
   },
   {
    "duration": 1003,
    "start_time": "2021-12-09T09:33:18.352Z"
   },
   {
    "duration": 7,
    "start_time": "2021-12-09T09:33:19.358Z"
   },
   {
    "duration": 12,
    "start_time": "2021-12-09T09:33:19.367Z"
   },
   {
    "duration": 40,
    "start_time": "2021-12-09T09:33:19.382Z"
   },
   {
    "duration": 17,
    "start_time": "2021-12-09T09:33:19.424Z"
   },
   {
    "duration": 6,
    "start_time": "2021-12-09T09:33:19.443Z"
   },
   {
    "duration": 7,
    "start_time": "2021-12-09T09:33:19.451Z"
   },
   {
    "duration": 6,
    "start_time": "2021-12-09T09:33:19.460Z"
   },
   {
    "duration": 372,
    "start_time": "2021-12-09T09:33:19.468Z"
   },
   {
    "duration": 7,
    "start_time": "2021-12-09T09:33:19.843Z"
   },
   {
    "duration": 7,
    "start_time": "2021-12-09T09:33:19.852Z"
   },
   {
    "duration": 7,
    "start_time": "2021-12-09T09:33:19.862Z"
   },
   {
    "duration": 53,
    "start_time": "2021-12-09T09:33:19.871Z"
   },
   {
    "duration": 31,
    "start_time": "2021-12-09T09:33:19.926Z"
   },
   {
    "duration": 10,
    "start_time": "2021-12-09T09:33:19.959Z"
   },
   {
    "duration": 57,
    "start_time": "2021-12-09T09:33:19.971Z"
   },
   {
    "duration": 35,
    "start_time": "2021-12-09T09:33:20.030Z"
   },
   {
    "duration": 57,
    "start_time": "2021-12-09T09:33:20.068Z"
   },
   {
    "duration": 622,
    "start_time": "2021-12-09T09:33:20.127Z"
   },
   {
    "duration": 9,
    "start_time": "2021-12-09T09:33:20.751Z"
   },
   {
    "duration": 659,
    "start_time": "2021-12-09T09:33:20.762Z"
   },
   {
    "duration": 627,
    "start_time": "2021-12-09T09:33:21.424Z"
   },
   {
    "duration": 837,
    "start_time": "2021-12-09T09:33:22.054Z"
   },
   {
    "duration": 758,
    "start_time": "2021-12-09T09:33:22.894Z"
   },
   {
    "duration": 6,
    "start_time": "2021-12-09T09:33:23.654Z"
   },
   {
    "duration": 6,
    "start_time": "2021-12-09T09:33:23.718Z"
   },
   {
    "duration": 6,
    "start_time": "2021-12-09T09:33:23.727Z"
   },
   {
    "duration": 6,
    "start_time": "2021-12-09T09:33:23.735Z"
   },
   {
    "duration": 8,
    "start_time": "2021-12-09T09:33:23.743Z"
   },
   {
    "duration": 5,
    "start_time": "2021-12-09T09:33:23.753Z"
   },
   {
    "duration": 712,
    "start_time": "2021-12-09T09:33:23.761Z"
   },
   {
    "duration": 1021,
    "start_time": "2021-12-09T09:39:07.374Z"
   },
   {
    "duration": 120,
    "start_time": "2021-12-09T09:39:08.398Z"
   },
   {
    "duration": 52,
    "start_time": "2021-12-09T09:39:08.521Z"
   },
   {
    "duration": 52,
    "start_time": "2021-12-09T09:39:08.576Z"
   },
   {
    "duration": 14,
    "start_time": "2021-12-09T09:39:08.631Z"
   },
   {
    "duration": 7,
    "start_time": "2021-12-09T09:39:08.648Z"
   },
   {
    "duration": 59,
    "start_time": "2021-12-09T09:39:08.658Z"
   },
   {
    "duration": 14,
    "start_time": "2021-12-09T09:39:08.722Z"
   },
   {
    "duration": 13,
    "start_time": "2021-12-09T09:39:08.740Z"
   },
   {
    "duration": 9,
    "start_time": "2021-12-09T09:39:08.756Z"
   },
   {
    "duration": 61,
    "start_time": "2021-12-09T09:39:08.768Z"
   },
   {
    "duration": 17,
    "start_time": "2021-12-09T09:39:08.833Z"
   },
   {
    "duration": 13,
    "start_time": "2021-12-09T09:39:08.853Z"
   },
   {
    "duration": 50,
    "start_time": "2021-12-09T09:39:08.868Z"
   },
   {
    "duration": 27,
    "start_time": "2021-12-09T09:39:08.921Z"
   },
   {
    "duration": 12,
    "start_time": "2021-12-09T09:39:08.950Z"
   },
   {
    "duration": 56,
    "start_time": "2021-12-09T09:39:08.965Z"
   },
   {
    "duration": 17,
    "start_time": "2021-12-09T09:39:09.024Z"
   },
   {
    "duration": 27,
    "start_time": "2021-12-09T09:39:09.044Z"
   },
   {
    "duration": 13,
    "start_time": "2021-12-09T09:39:09.122Z"
   },
   {
    "duration": 24,
    "start_time": "2021-12-09T09:39:09.138Z"
   },
   {
    "duration": 69,
    "start_time": "2021-12-09T09:39:09.165Z"
   },
   {
    "duration": 8,
    "start_time": "2021-12-09T09:39:09.244Z"
   },
   {
    "duration": 6,
    "start_time": "2021-12-09T09:39:09.258Z"
   },
   {
    "duration": 50,
    "start_time": "2021-12-09T09:39:09.267Z"
   },
   {
    "duration": 12,
    "start_time": "2021-12-09T09:39:09.321Z"
   },
   {
    "duration": 15,
    "start_time": "2021-12-09T09:39:09.336Z"
   },
   {
    "duration": 11,
    "start_time": "2021-12-09T09:39:09.354Z"
   },
   {
    "duration": 64,
    "start_time": "2021-12-09T09:39:09.368Z"
   },
   {
    "duration": 12,
    "start_time": "2021-12-09T09:39:09.435Z"
   },
   {
    "duration": 5,
    "start_time": "2021-12-09T09:39:09.450Z"
   },
   {
    "duration": 8,
    "start_time": "2021-12-09T09:39:09.457Z"
   },
   {
    "duration": 71,
    "start_time": "2021-12-09T09:39:09.467Z"
   },
   {
    "duration": 15,
    "start_time": "2021-12-09T09:39:09.541Z"
   },
   {
    "duration": 6,
    "start_time": "2021-12-09T09:39:09.558Z"
   },
   {
    "duration": 49,
    "start_time": "2021-12-09T09:39:09.568Z"
   },
   {
    "duration": 34,
    "start_time": "2021-12-09T09:39:09.620Z"
   },
   {
    "duration": 27,
    "start_time": "2021-12-09T09:39:09.657Z"
   },
   {
    "duration": 59,
    "start_time": "2021-12-09T09:39:09.686Z"
   },
   {
    "duration": 1706,
    "start_time": "2021-12-09T09:39:09.748Z"
   },
   {
    "duration": 62,
    "start_time": "2021-12-09T09:39:11.457Z"
   },
   {
    "duration": 6,
    "start_time": "2021-12-09T09:39:11.522Z"
   },
   {
    "duration": 7,
    "start_time": "2021-12-09T09:39:11.531Z"
   },
   {
    "duration": 82,
    "start_time": "2021-12-09T09:39:11.541Z"
   },
   {
    "duration": 1221,
    "start_time": "2021-12-09T09:39:11.626Z"
   },
   {
    "duration": 1311,
    "start_time": "2021-12-09T09:39:12.850Z"
   },
   {
    "duration": 969,
    "start_time": "2021-12-09T09:39:14.164Z"
   },
   {
    "duration": 864,
    "start_time": "2021-12-09T09:39:15.135Z"
   },
   {
    "duration": 958,
    "start_time": "2021-12-09T09:39:16.002Z"
   },
   {
    "duration": 8,
    "start_time": "2021-12-09T09:39:16.963Z"
   },
   {
    "duration": 9,
    "start_time": "2021-12-09T09:39:16.974Z"
   },
   {
    "duration": 14,
    "start_time": "2021-12-09T09:39:17.019Z"
   },
   {
    "duration": 19,
    "start_time": "2021-12-09T09:39:17.037Z"
   },
   {
    "duration": 8,
    "start_time": "2021-12-09T09:39:17.058Z"
   },
   {
    "duration": 54,
    "start_time": "2021-12-09T09:39:17.069Z"
   },
   {
    "duration": 7,
    "start_time": "2021-12-09T09:39:17.125Z"
   },
   {
    "duration": 357,
    "start_time": "2021-12-09T09:39:17.134Z"
   },
   {
    "duration": 7,
    "start_time": "2021-12-09T09:39:17.493Z"
   },
   {
    "duration": 8,
    "start_time": "2021-12-09T09:39:17.518Z"
   },
   {
    "duration": 7,
    "start_time": "2021-12-09T09:39:17.529Z"
   },
   {
    "duration": 15,
    "start_time": "2021-12-09T09:39:17.539Z"
   },
   {
    "duration": 91,
    "start_time": "2021-12-09T09:39:17.557Z"
   },
   {
    "duration": 12,
    "start_time": "2021-12-09T09:39:17.651Z"
   },
   {
    "duration": 51,
    "start_time": "2021-12-09T09:39:17.666Z"
   },
   {
    "duration": 55,
    "start_time": "2021-12-09T09:39:17.720Z"
   },
   {
    "duration": 60,
    "start_time": "2021-12-09T09:39:17.777Z"
   },
   {
    "duration": 841,
    "start_time": "2021-12-09T09:39:17.840Z"
   },
   {
    "duration": 25,
    "start_time": "2021-12-09T09:39:18.693Z"
   },
   {
    "duration": 1128,
    "start_time": "2021-12-09T09:39:18.721Z"
   },
   {
    "duration": 987,
    "start_time": "2021-12-09T09:39:19.852Z"
   },
   {
    "duration": 1013,
    "start_time": "2021-12-09T09:39:20.842Z"
   },
   {
    "duration": 1059,
    "start_time": "2021-12-09T09:39:21.858Z"
   },
   {
    "duration": 8,
    "start_time": "2021-12-09T09:39:22.920Z"
   },
   {
    "duration": 11,
    "start_time": "2021-12-09T09:39:22.930Z"
   },
   {
    "duration": 8,
    "start_time": "2021-12-09T09:39:22.943Z"
   },
   {
    "duration": 7,
    "start_time": "2021-12-09T09:39:22.954Z"
   },
   {
    "duration": 57,
    "start_time": "2021-12-09T09:39:22.964Z"
   },
   {
    "duration": 9,
    "start_time": "2021-12-09T09:39:23.024Z"
   },
   {
    "duration": 606,
    "start_time": "2021-12-09T09:39:23.036Z"
   },
   {
    "duration": 776,
    "start_time": "2021-12-09T09:49:33.149Z"
   },
   {
    "duration": 90,
    "start_time": "2021-12-09T09:49:33.928Z"
   },
   {
    "duration": 50,
    "start_time": "2021-12-09T09:49:34.023Z"
   },
   {
    "duration": 48,
    "start_time": "2021-12-09T09:49:34.075Z"
   },
   {
    "duration": 10,
    "start_time": "2021-12-09T09:49:34.125Z"
   },
   {
    "duration": 5,
    "start_time": "2021-12-09T09:49:34.137Z"
   },
   {
    "duration": 14,
    "start_time": "2021-12-09T09:49:34.145Z"
   },
   {
    "duration": 12,
    "start_time": "2021-12-09T09:49:34.219Z"
   },
   {
    "duration": 12,
    "start_time": "2021-12-09T09:49:34.234Z"
   },
   {
    "duration": 10,
    "start_time": "2021-12-09T09:49:34.248Z"
   },
   {
    "duration": 66,
    "start_time": "2021-12-09T09:49:34.260Z"
   },
   {
    "duration": 13,
    "start_time": "2021-12-09T09:49:34.328Z"
   },
   {
    "duration": 10,
    "start_time": "2021-12-09T09:49:34.344Z"
   },
   {
    "duration": 6,
    "start_time": "2021-12-09T09:49:34.356Z"
   },
   {
    "duration": 74,
    "start_time": "2021-12-09T09:49:34.364Z"
   },
   {
    "duration": 12,
    "start_time": "2021-12-09T09:49:34.440Z"
   },
   {
    "duration": 10,
    "start_time": "2021-12-09T09:49:34.454Z"
   },
   {
    "duration": 17,
    "start_time": "2021-12-09T09:49:34.518Z"
   },
   {
    "duration": 35,
    "start_time": "2021-12-09T09:49:34.538Z"
   },
   {
    "duration": 42,
    "start_time": "2021-12-09T09:49:34.575Z"
   },
   {
    "duration": 14,
    "start_time": "2021-12-09T09:49:34.620Z"
   },
   {
    "duration": 31,
    "start_time": "2021-12-09T09:49:34.637Z"
   },
   {
    "duration": 48,
    "start_time": "2021-12-09T09:49:34.670Z"
   },
   {
    "duration": 6,
    "start_time": "2021-12-09T09:49:34.720Z"
   },
   {
    "duration": 12,
    "start_time": "2021-12-09T09:49:34.728Z"
   },
   {
    "duration": 13,
    "start_time": "2021-12-09T09:49:34.747Z"
   },
   {
    "duration": 16,
    "start_time": "2021-12-09T09:49:34.816Z"
   },
   {
    "duration": 7,
    "start_time": "2021-12-09T09:49:34.835Z"
   },
   {
    "duration": 13,
    "start_time": "2021-12-09T09:49:34.845Z"
   },
   {
    "duration": 6,
    "start_time": "2021-12-09T09:49:34.860Z"
   },
   {
    "duration": 73,
    "start_time": "2021-12-09T09:49:34.869Z"
   },
   {
    "duration": 15,
    "start_time": "2021-12-09T09:49:34.944Z"
   },
   {
    "duration": 5,
    "start_time": "2021-12-09T09:49:34.961Z"
   },
   {
    "duration": 50,
    "start_time": "2021-12-09T09:49:34.969Z"
   },
   {
    "duration": 33,
    "start_time": "2021-12-09T09:49:35.022Z"
   },
   {
    "duration": 59,
    "start_time": "2021-12-09T09:49:35.058Z"
   },
   {
    "duration": 31,
    "start_time": "2021-12-09T09:49:35.119Z"
   },
   {
    "duration": 986,
    "start_time": "2021-12-09T09:49:35.152Z"
   },
   {
    "duration": 42,
    "start_time": "2021-12-09T09:49:36.141Z"
   },
   {
    "duration": 33,
    "start_time": "2021-12-09T09:49:36.186Z"
   },
   {
    "duration": 5,
    "start_time": "2021-12-09T09:49:36.222Z"
   },
   {
    "duration": 33,
    "start_time": "2021-12-09T09:49:36.229Z"
   },
   {
    "duration": 799,
    "start_time": "2021-12-09T09:49:36.264Z"
   },
   {
    "duration": 819,
    "start_time": "2021-12-09T09:49:37.066Z"
   },
   {
    "duration": 917,
    "start_time": "2021-12-09T09:49:37.887Z"
   },
   {
    "duration": 920,
    "start_time": "2021-12-09T09:49:38.807Z"
   },
   {
    "duration": 935,
    "start_time": "2021-12-09T09:49:39.729Z"
   },
   {
    "duration": 6,
    "start_time": "2021-12-09T09:49:40.667Z"
   },
   {
    "duration": 8,
    "start_time": "2021-12-09T09:49:40.676Z"
   },
   {
    "duration": 39,
    "start_time": "2021-12-09T09:49:40.687Z"
   },
   {
    "duration": 116,
    "start_time": "2021-12-09T09:49:40.728Z"
   },
   {
    "duration": -5556,
    "start_time": "2021-12-09T09:49:46.403Z"
   },
   {
    "duration": -5566,
    "start_time": "2021-12-09T09:49:46.415Z"
   },
   {
    "duration": -5605,
    "start_time": "2021-12-09T09:49:46.456Z"
   },
   {
    "duration": -5615,
    "start_time": "2021-12-09T09:49:46.467Z"
   },
   {
    "duration": -5736,
    "start_time": "2021-12-09T09:49:46.590Z"
   },
   {
    "duration": -5741,
    "start_time": "2021-12-09T09:49:46.597Z"
   },
   {
    "duration": -5747,
    "start_time": "2021-12-09T09:49:46.604Z"
   },
   {
    "duration": -5753,
    "start_time": "2021-12-09T09:49:46.611Z"
   },
   {
    "duration": -5758,
    "start_time": "2021-12-09T09:49:46.618Z"
   },
   {
    "duration": -5763,
    "start_time": "2021-12-09T09:49:46.625Z"
   },
   {
    "duration": -5769,
    "start_time": "2021-12-09T09:49:46.632Z"
   },
   {
    "duration": -5775,
    "start_time": "2021-12-09T09:49:46.638Z"
   },
   {
    "duration": -5784,
    "start_time": "2021-12-09T09:49:46.648Z"
   },
   {
    "duration": -5797,
    "start_time": "2021-12-09T09:49:46.662Z"
   },
   {
    "duration": -5804,
    "start_time": "2021-12-09T09:49:46.670Z"
   },
   {
    "duration": -5808,
    "start_time": "2021-12-09T09:49:46.676Z"
   },
   {
    "duration": -5814,
    "start_time": "2021-12-09T09:49:46.683Z"
   },
   {
    "duration": -5819,
    "start_time": "2021-12-09T09:49:46.689Z"
   },
   {
    "duration": -5848,
    "start_time": "2021-12-09T09:49:46.719Z"
   },
   {
    "duration": -5854,
    "start_time": "2021-12-09T09:49:46.726Z"
   },
   {
    "duration": -5860,
    "start_time": "2021-12-09T09:49:46.733Z"
   },
   {
    "duration": -5865,
    "start_time": "2021-12-09T09:49:46.739Z"
   },
   {
    "duration": -5871,
    "start_time": "2021-12-09T09:49:46.746Z"
   },
   {
    "duration": -5877,
    "start_time": "2021-12-09T09:49:46.753Z"
   },
   {
    "duration": -5883,
    "start_time": "2021-12-09T09:49:46.760Z"
   },
   {
    "duration": -5896,
    "start_time": "2021-12-09T09:49:46.774Z"
   },
   {
    "duration": 825,
    "start_time": "2021-12-09T09:53:31.418Z"
   },
   {
    "duration": 89,
    "start_time": "2021-12-09T09:53:32.246Z"
   },
   {
    "duration": 49,
    "start_time": "2021-12-09T09:53:32.338Z"
   },
   {
    "duration": 43,
    "start_time": "2021-12-09T09:53:32.391Z"
   },
   {
    "duration": 14,
    "start_time": "2021-12-09T09:53:32.437Z"
   },
   {
    "duration": 7,
    "start_time": "2021-12-09T09:53:32.453Z"
   },
   {
    "duration": 58,
    "start_time": "2021-12-09T09:53:32.464Z"
   },
   {
    "duration": 16,
    "start_time": "2021-12-09T09:53:32.528Z"
   },
   {
    "duration": 14,
    "start_time": "2021-12-09T09:53:32.548Z"
   },
   {
    "duration": 53,
    "start_time": "2021-12-09T09:53:32.565Z"
   },
   {
    "duration": 19,
    "start_time": "2021-12-09T09:53:32.621Z"
   },
   {
    "duration": 17,
    "start_time": "2021-12-09T09:53:32.643Z"
   },
   {
    "duration": 58,
    "start_time": "2021-12-09T09:53:32.663Z"
   },
   {
    "duration": 8,
    "start_time": "2021-12-09T09:53:32.724Z"
   },
   {
    "duration": 39,
    "start_time": "2021-12-09T09:53:32.735Z"
   },
   {
    "duration": 49,
    "start_time": "2021-12-09T09:53:32.776Z"
   },
   {
    "duration": 14,
    "start_time": "2021-12-09T09:53:32.828Z"
   },
   {
    "duration": 23,
    "start_time": "2021-12-09T09:53:32.846Z"
   },
   {
    "duration": 62,
    "start_time": "2021-12-09T09:53:32.872Z"
   },
   {
    "duration": 19,
    "start_time": "2021-12-09T09:53:32.937Z"
   },
   {
    "duration": 18,
    "start_time": "2021-12-09T09:53:32.959Z"
   },
   {
    "duration": 32,
    "start_time": "2021-12-09T09:53:33.016Z"
   },
   {
    "duration": 6,
    "start_time": "2021-12-09T09:53:33.054Z"
   },
   {
    "duration": 5,
    "start_time": "2021-12-09T09:53:33.067Z"
   },
   {
    "duration": 47,
    "start_time": "2021-12-09T09:53:33.074Z"
   },
   {
    "duration": 11,
    "start_time": "2021-12-09T09:53:33.124Z"
   },
   {
    "duration": 13,
    "start_time": "2021-12-09T09:53:33.138Z"
   },
   {
    "duration": 63,
    "start_time": "2021-12-09T09:53:33.155Z"
   },
   {
    "duration": 4,
    "start_time": "2021-12-09T09:53:33.221Z"
   },
   {
    "duration": 6,
    "start_time": "2021-12-09T09:53:33.227Z"
   },
   {
    "duration": 33,
    "start_time": "2021-12-09T09:53:33.235Z"
   },
   {
    "duration": 57,
    "start_time": "2021-12-09T09:53:33.271Z"
   },
   {
    "duration": 6,
    "start_time": "2021-12-09T09:53:33.331Z"
   },
   {
    "duration": 11,
    "start_time": "2021-12-09T09:53:33.339Z"
   },
   {
    "duration": 80,
    "start_time": "2021-12-09T09:53:33.353Z"
   },
   {
    "duration": 18,
    "start_time": "2021-12-09T09:53:33.435Z"
   },
   {
    "duration": 69,
    "start_time": "2021-12-09T09:53:33.456Z"
   },
   {
    "duration": 1018,
    "start_time": "2021-12-09T09:53:33.528Z"
   },
   {
    "duration": 34,
    "start_time": "2021-12-09T09:53:34.549Z"
   },
   {
    "duration": 30,
    "start_time": "2021-12-09T09:53:34.587Z"
   },
   {
    "duration": 11,
    "start_time": "2021-12-09T09:53:34.620Z"
   },
   {
    "duration": 34,
    "start_time": "2021-12-09T09:53:34.634Z"
   },
   {
    "duration": 951,
    "start_time": "2021-12-09T09:53:34.671Z"
   },
   {
    "duration": 876,
    "start_time": "2021-12-09T09:53:35.625Z"
   },
   {
    "duration": 508,
    "start_time": "2021-12-09T09:53:36.504Z"
   },
   {
    "duration": 1352,
    "start_time": "2021-12-09T09:53:37.017Z"
   },
   {
    "duration": 1311,
    "start_time": "2021-12-09T09:53:38.372Z"
   },
   {
    "duration": 6,
    "start_time": "2021-12-09T09:53:39.686Z"
   },
   {
    "duration": 25,
    "start_time": "2021-12-09T09:53:39.695Z"
   },
   {
    "duration": 15,
    "start_time": "2021-12-09T09:53:39.724Z"
   },
   {
    "duration": 26,
    "start_time": "2021-12-09T09:53:39.742Z"
   },
   {
    "duration": 9,
    "start_time": "2021-12-09T09:53:39.817Z"
   },
   {
    "duration": 8,
    "start_time": "2021-12-09T09:53:39.829Z"
   },
   {
    "duration": 9,
    "start_time": "2021-12-09T09:53:39.840Z"
   },
   {
    "duration": 347,
    "start_time": "2021-12-09T09:53:39.852Z"
   },
   {
    "duration": 17,
    "start_time": "2021-12-09T09:53:40.202Z"
   },
   {
    "duration": 8,
    "start_time": "2021-12-09T09:53:40.222Z"
   },
   {
    "duration": 8,
    "start_time": "2021-12-09T09:53:40.234Z"
   },
   {
    "duration": 14,
    "start_time": "2021-12-09T09:53:40.245Z"
   },
   {
    "duration": 77,
    "start_time": "2021-12-09T09:53:40.261Z"
   },
   {
    "duration": 9,
    "start_time": "2021-12-09T09:53:40.340Z"
   },
   {
    "duration": 13,
    "start_time": "2021-12-09T09:53:40.351Z"
   },
   {
    "duration": 76,
    "start_time": "2021-12-09T09:53:40.366Z"
   },
   {
    "duration": 22,
    "start_time": "2021-12-09T09:53:40.444Z"
   },
   {
    "duration": 584,
    "start_time": "2021-12-09T09:53:40.469Z"
   },
   {
    "duration": 14,
    "start_time": "2021-12-09T09:53:41.057Z"
   },
   {
    "duration": 974,
    "start_time": "2021-12-09T09:53:41.074Z"
   },
   {
    "duration": 865,
    "start_time": "2021-12-09T09:53:42.059Z"
   },
   {
    "duration": 651,
    "start_time": "2021-12-09T09:53:42.926Z"
   },
   {
    "duration": 668,
    "start_time": "2021-12-09T09:53:43.580Z"
   },
   {
    "duration": 9,
    "start_time": "2021-12-09T09:53:44.251Z"
   },
   {
    "duration": 8,
    "start_time": "2021-12-09T09:53:44.264Z"
   },
   {
    "duration": 44,
    "start_time": "2021-12-09T09:53:44.275Z"
   },
   {
    "duration": 9,
    "start_time": "2021-12-09T09:53:44.322Z"
   },
   {
    "duration": 12,
    "start_time": "2021-12-09T09:53:44.334Z"
   },
   {
    "duration": 7,
    "start_time": "2021-12-09T09:53:44.349Z"
   },
   {
    "duration": 467,
    "start_time": "2021-12-09T09:53:44.360Z"
   },
   {
    "duration": 777,
    "start_time": "2021-12-09T10:43:53.127Z"
   },
   {
    "duration": 101,
    "start_time": "2021-12-09T10:43:53.907Z"
   },
   {
    "duration": 61,
    "start_time": "2021-12-09T10:43:54.012Z"
   },
   {
    "duration": 49,
    "start_time": "2021-12-09T10:43:54.076Z"
   },
   {
    "duration": 12,
    "start_time": "2021-12-09T10:43:54.128Z"
   },
   {
    "duration": 6,
    "start_time": "2021-12-09T10:43:54.143Z"
   },
   {
    "duration": 64,
    "start_time": "2021-12-09T10:43:54.155Z"
   },
   {
    "duration": 19,
    "start_time": "2021-12-09T10:43:54.222Z"
   },
   {
    "duration": 14,
    "start_time": "2021-12-09T10:43:54.247Z"
   },
   {
    "duration": 52,
    "start_time": "2021-12-09T10:43:54.265Z"
   },
   {
    "duration": 12,
    "start_time": "2021-12-09T10:43:54.320Z"
   },
   {
    "duration": 13,
    "start_time": "2021-12-09T10:43:54.335Z"
   },
   {
    "duration": 12,
    "start_time": "2021-12-09T10:43:54.351Z"
   },
   {
    "duration": 56,
    "start_time": "2021-12-09T10:43:54.366Z"
   },
   {
    "duration": 37,
    "start_time": "2021-12-09T10:43:54.425Z"
   },
   {
    "duration": 12,
    "start_time": "2021-12-09T10:43:54.465Z"
   },
   {
    "duration": 12,
    "start_time": "2021-12-09T10:43:54.518Z"
   },
   {
    "duration": 19,
    "start_time": "2021-12-09T10:43:54.533Z"
   },
   {
    "duration": 63,
    "start_time": "2021-12-09T10:43:54.555Z"
   },
   {
    "duration": 17,
    "start_time": "2021-12-09T10:43:54.621Z"
   },
   {
    "duration": 17,
    "start_time": "2021-12-09T10:43:54.641Z"
   },
   {
    "duration": 75,
    "start_time": "2021-12-09T10:43:54.660Z"
   },
   {
    "duration": 8,
    "start_time": "2021-12-09T10:43:54.739Z"
   },
   {
    "duration": 10,
    "start_time": "2021-12-09T10:43:54.750Z"
   },
   {
    "duration": 13,
    "start_time": "2021-12-09T10:43:54.763Z"
   },
   {
    "duration": 8,
    "start_time": "2021-12-09T10:43:54.818Z"
   },
   {
    "duration": 29,
    "start_time": "2021-12-09T10:43:54.835Z"
   },
   {
    "duration": 11,
    "start_time": "2021-12-09T10:43:54.869Z"
   },
   {
    "duration": 34,
    "start_time": "2021-12-09T10:43:54.883Z"
   },
   {
    "duration": 5,
    "start_time": "2021-12-09T10:43:54.919Z"
   },
   {
    "duration": 32,
    "start_time": "2021-12-09T10:43:54.926Z"
   },
   {
    "duration": 63,
    "start_time": "2021-12-09T10:43:54.961Z"
   },
   {
    "duration": 6,
    "start_time": "2021-12-09T10:43:55.026Z"
   },
   {
    "duration": 8,
    "start_time": "2021-12-09T10:43:55.034Z"
   },
   {
    "duration": 77,
    "start_time": "2021-12-09T10:43:55.045Z"
   },
   {
    "duration": 18,
    "start_time": "2021-12-09T10:43:55.125Z"
   },
   {
    "duration": 30,
    "start_time": "2021-12-09T10:43:55.145Z"
   },
   {
    "duration": 1734,
    "start_time": "2021-12-09T10:43:55.177Z"
   },
   {
    "duration": 43,
    "start_time": "2021-12-09T10:43:56.916Z"
   },
   {
    "duration": 7,
    "start_time": "2021-12-09T10:43:56.963Z"
   },
   {
    "duration": 43,
    "start_time": "2021-12-09T10:43:56.973Z"
   },
   {
    "duration": 32,
    "start_time": "2021-12-09T10:43:57.019Z"
   },
   {
    "duration": 794,
    "start_time": "2021-12-09T10:43:57.053Z"
   },
   {
    "duration": 926,
    "start_time": "2021-12-09T10:43:57.849Z"
   },
   {
    "duration": 525,
    "start_time": "2021-12-09T10:43:58.777Z"
   },
   {
    "duration": 904,
    "start_time": "2021-12-09T10:43:59.305Z"
   },
   {
    "duration": 912,
    "start_time": "2021-12-09T10:44:00.211Z"
   },
   {
    "duration": 5,
    "start_time": "2021-12-09T10:44:01.126Z"
   },
   {
    "duration": 22,
    "start_time": "2021-12-09T10:44:01.134Z"
   },
   {
    "duration": 22,
    "start_time": "2021-12-09T10:44:01.158Z"
   },
   {
    "duration": 47,
    "start_time": "2021-12-09T10:44:01.182Z"
   },
   {
    "duration": 7,
    "start_time": "2021-12-09T10:44:01.232Z"
   },
   {
    "duration": 8,
    "start_time": "2021-12-09T10:44:01.241Z"
   },
   {
    "duration": 15,
    "start_time": "2021-12-09T10:44:01.251Z"
   },
   {
    "duration": 469,
    "start_time": "2021-12-09T10:44:01.268Z"
   },
   {
    "duration": 7,
    "start_time": "2021-12-09T10:44:01.740Z"
   },
   {
    "duration": 29,
    "start_time": "2021-12-09T10:44:01.749Z"
   },
   {
    "duration": 37,
    "start_time": "2021-12-09T10:44:01.781Z"
   },
   {
    "duration": 10,
    "start_time": "2021-12-09T10:44:01.821Z"
   },
   {
    "duration": 37,
    "start_time": "2021-12-09T10:44:01.834Z"
   },
   {
    "duration": 47,
    "start_time": "2021-12-09T10:44:01.873Z"
   },
   {
    "duration": 19,
    "start_time": "2021-12-09T10:44:01.922Z"
   },
   {
    "duration": 44,
    "start_time": "2021-12-09T10:44:01.944Z"
   },
   {
    "duration": 42,
    "start_time": "2021-12-09T10:44:01.990Z"
   },
   {
    "duration": 601,
    "start_time": "2021-12-09T10:44:02.034Z"
   },
   {
    "duration": 9,
    "start_time": "2021-12-09T10:44:02.638Z"
   },
   {
    "duration": 631,
    "start_time": "2021-12-09T10:44:02.650Z"
   },
   {
    "duration": 633,
    "start_time": "2021-12-09T10:44:03.284Z"
   },
   {
    "duration": 978,
    "start_time": "2021-12-09T10:44:03.919Z"
   },
   {
    "duration": 649,
    "start_time": "2021-12-09T10:44:04.900Z"
   },
   {
    "duration": 9,
    "start_time": "2021-12-09T10:44:05.552Z"
   },
   {
    "duration": 15,
    "start_time": "2021-12-09T10:44:05.565Z"
   },
   {
    "duration": 37,
    "start_time": "2021-12-09T10:44:05.583Z"
   },
   {
    "duration": 7,
    "start_time": "2021-12-09T10:44:05.623Z"
   },
   {
    "duration": 9,
    "start_time": "2021-12-09T10:44:05.632Z"
   },
   {
    "duration": 8,
    "start_time": "2021-12-09T10:44:05.643Z"
   },
   {
    "duration": 456,
    "start_time": "2021-12-09T10:44:05.654Z"
   },
   {
    "duration": 858,
    "start_time": "2021-12-09T10:45:24.957Z"
   },
   {
    "duration": 108,
    "start_time": "2021-12-09T10:45:25.818Z"
   },
   {
    "duration": 52,
    "start_time": "2021-12-09T10:45:25.929Z"
   },
   {
    "duration": 40,
    "start_time": "2021-12-09T10:45:25.984Z"
   },
   {
    "duration": 11,
    "start_time": "2021-12-09T10:45:26.026Z"
   },
   {
    "duration": 5,
    "start_time": "2021-12-09T10:45:26.039Z"
   },
   {
    "duration": 14,
    "start_time": "2021-12-09T10:45:26.047Z"
   },
   {
    "duration": 60,
    "start_time": "2021-12-09T10:45:26.064Z"
   },
   {
    "duration": 13,
    "start_time": "2021-12-09T10:45:26.128Z"
   },
   {
    "duration": 9,
    "start_time": "2021-12-09T10:45:26.144Z"
   },
   {
    "duration": 13,
    "start_time": "2021-12-09T10:45:26.156Z"
   },
   {
    "duration": 14,
    "start_time": "2021-12-09T10:45:26.218Z"
   },
   {
    "duration": 12,
    "start_time": "2021-12-09T10:45:26.235Z"
   },
   {
    "duration": 8,
    "start_time": "2021-12-09T10:45:26.249Z"
   },
   {
    "duration": 78,
    "start_time": "2021-12-09T10:45:26.260Z"
   },
   {
    "duration": 12,
    "start_time": "2021-12-09T10:45:26.341Z"
   },
   {
    "duration": 16,
    "start_time": "2021-12-09T10:45:26.357Z"
   },
   {
    "duration": 24,
    "start_time": "2021-12-09T10:45:26.417Z"
   },
   {
    "duration": 19,
    "start_time": "2021-12-09T10:45:26.444Z"
   },
   {
    "duration": 11,
    "start_time": "2021-12-09T10:45:26.465Z"
   },
   {
    "duration": 15,
    "start_time": "2021-12-09T10:45:26.518Z"
   },
   {
    "duration": 32,
    "start_time": "2021-12-09T10:45:26.535Z"
   },
   {
    "duration": 6,
    "start_time": "2021-12-09T10:45:26.569Z"
   },
   {
    "duration": 6,
    "start_time": "2021-12-09T10:45:26.617Z"
   },
   {
    "duration": 9,
    "start_time": "2021-12-09T10:45:26.626Z"
   },
   {
    "duration": 10,
    "start_time": "2021-12-09T10:45:26.638Z"
   },
   {
    "duration": 11,
    "start_time": "2021-12-09T10:45:26.655Z"
   },
   {
    "duration": 55,
    "start_time": "2021-12-09T10:45:26.671Z"
   },
   {
    "duration": 11,
    "start_time": "2021-12-09T10:45:26.728Z"
   },
   {
    "duration": 7,
    "start_time": "2021-12-09T10:45:26.742Z"
   },
   {
    "duration": 72,
    "start_time": "2021-12-09T10:45:26.752Z"
   },
   {
    "duration": 19,
    "start_time": "2021-12-09T10:45:26.826Z"
   },
   {
    "duration": 9,
    "start_time": "2021-12-09T10:45:26.848Z"
   },
   {
    "duration": 7,
    "start_time": "2021-12-09T10:45:26.860Z"
   },
   {
    "duration": 32,
    "start_time": "2021-12-09T10:45:26.919Z"
   },
   {
    "duration": 21,
    "start_time": "2021-12-09T10:45:26.954Z"
   },
   {
    "duration": 72,
    "start_time": "2021-12-09T10:45:26.978Z"
   },
   {
    "duration": 1012,
    "start_time": "2021-12-09T10:45:27.053Z"
   },
   {
    "duration": 51,
    "start_time": "2021-12-09T10:45:28.068Z"
   },
   {
    "duration": 6,
    "start_time": "2021-12-09T10:45:28.121Z"
   },
   {
    "duration": 9,
    "start_time": "2021-12-09T10:45:28.130Z"
   },
   {
    "duration": 39,
    "start_time": "2021-12-09T10:45:28.142Z"
   },
   {
    "duration": 867,
    "start_time": "2021-12-09T10:45:28.184Z"
   },
   {
    "duration": 901,
    "start_time": "2021-12-09T10:45:29.053Z"
   },
   {
    "duration": 517,
    "start_time": "2021-12-09T10:45:29.957Z"
   },
   {
    "duration": 868,
    "start_time": "2021-12-09T10:45:30.477Z"
   },
   {
    "duration": 957,
    "start_time": "2021-12-09T10:45:31.348Z"
   },
   {
    "duration": 7,
    "start_time": "2021-12-09T10:45:32.316Z"
   },
   {
    "duration": 20,
    "start_time": "2021-12-09T10:45:32.326Z"
   },
   {
    "duration": 16,
    "start_time": "2021-12-09T10:45:32.349Z"
   },
   {
    "duration": 57,
    "start_time": "2021-12-09T10:45:32.367Z"
   },
   {
    "duration": 6,
    "start_time": "2021-12-09T10:45:32.427Z"
   },
   {
    "duration": 10,
    "start_time": "2021-12-09T10:45:32.436Z"
   },
   {
    "duration": 21,
    "start_time": "2021-12-09T10:45:32.448Z"
   },
   {
    "duration": 347,
    "start_time": "2021-12-09T10:45:32.472Z"
   },
   {
    "duration": 8,
    "start_time": "2021-12-09T10:45:32.823Z"
   },
   {
    "duration": 8,
    "start_time": "2021-12-09T10:45:32.833Z"
   },
   {
    "duration": 10,
    "start_time": "2021-12-09T10:45:32.844Z"
   },
   {
    "duration": 64,
    "start_time": "2021-12-09T10:45:32.858Z"
   },
   {
    "duration": 32,
    "start_time": "2021-12-09T10:45:32.925Z"
   },
   {
    "duration": 9,
    "start_time": "2021-12-09T10:45:32.960Z"
   },
   {
    "duration": 60,
    "start_time": "2021-12-09T10:45:32.971Z"
   },
   {
    "duration": 47,
    "start_time": "2021-12-09T10:45:33.033Z"
   },
   {
    "duration": 24,
    "start_time": "2021-12-09T10:45:33.116Z"
   },
   {
    "duration": 598,
    "start_time": "2021-12-09T10:45:33.142Z"
   },
   {
    "duration": 10,
    "start_time": "2021-12-09T10:45:33.742Z"
   },
   {
    "duration": 644,
    "start_time": "2021-12-09T10:45:33.754Z"
   },
   {
    "duration": 657,
    "start_time": "2021-12-09T10:45:34.400Z"
   },
   {
    "duration": 645,
    "start_time": "2021-12-09T10:45:35.059Z"
   },
   {
    "duration": 813,
    "start_time": "2021-12-09T10:45:35.707Z"
   },
   {
    "duration": 6,
    "start_time": "2021-12-09T10:45:36.523Z"
   },
   {
    "duration": 15,
    "start_time": "2021-12-09T10:45:36.532Z"
   },
   {
    "duration": 10,
    "start_time": "2021-12-09T10:45:36.549Z"
   },
   {
    "duration": 59,
    "start_time": "2021-12-09T10:45:36.561Z"
   },
   {
    "duration": 13,
    "start_time": "2021-12-09T10:45:36.623Z"
   },
   {
    "duration": 11,
    "start_time": "2021-12-09T10:45:36.639Z"
   },
   {
    "duration": 678,
    "start_time": "2021-12-09T10:45:36.652Z"
   },
   {
    "duration": 1006,
    "start_time": "2021-12-09T10:51:19.574Z"
   },
   {
    "duration": 127,
    "start_time": "2021-12-09T10:51:20.583Z"
   },
   {
    "duration": 74,
    "start_time": "2021-12-09T10:51:20.714Z"
   },
   {
    "duration": 38,
    "start_time": "2021-12-09T10:51:20.791Z"
   },
   {
    "duration": 10,
    "start_time": "2021-12-09T10:51:20.832Z"
   },
   {
    "duration": 13,
    "start_time": "2021-12-09T10:51:20.845Z"
   },
   {
    "duration": 21,
    "start_time": "2021-12-09T10:51:20.861Z"
   },
   {
    "duration": 41,
    "start_time": "2021-12-09T10:51:20.885Z"
   },
   {
    "duration": 12,
    "start_time": "2021-12-09T10:51:20.931Z"
   },
   {
    "duration": 26,
    "start_time": "2021-12-09T10:51:20.946Z"
   },
   {
    "duration": 50,
    "start_time": "2021-12-09T10:51:20.975Z"
   },
   {
    "duration": 17,
    "start_time": "2021-12-09T10:51:21.028Z"
   },
   {
    "duration": 15,
    "start_time": "2021-12-09T10:51:21.048Z"
   },
   {
    "duration": 52,
    "start_time": "2021-12-09T10:51:21.067Z"
   },
   {
    "duration": 28,
    "start_time": "2021-12-09T10:51:21.121Z"
   },
   {
    "duration": 12,
    "start_time": "2021-12-09T10:51:21.152Z"
   },
   {
    "duration": 50,
    "start_time": "2021-12-09T10:51:21.167Z"
   },
   {
    "duration": 17,
    "start_time": "2021-12-09T10:51:21.220Z"
   },
   {
    "duration": 18,
    "start_time": "2021-12-09T10:51:21.239Z"
   },
   {
    "duration": 11,
    "start_time": "2021-12-09T10:51:21.259Z"
   },
   {
    "duration": 53,
    "start_time": "2021-12-09T10:51:21.272Z"
   },
   {
    "duration": 30,
    "start_time": "2021-12-09T10:51:21.328Z"
   },
   {
    "duration": 6,
    "start_time": "2021-12-09T10:51:21.360Z"
   },
   {
    "duration": 50,
    "start_time": "2021-12-09T10:51:21.368Z"
   },
   {
    "duration": 8,
    "start_time": "2021-12-09T10:51:21.421Z"
   },
   {
    "duration": 11,
    "start_time": "2021-12-09T10:51:21.432Z"
   },
   {
    "duration": 11,
    "start_time": "2021-12-09T10:51:21.450Z"
   },
   {
    "duration": 54,
    "start_time": "2021-12-09T10:51:21.465Z"
   },
   {
    "duration": 18,
    "start_time": "2021-12-09T10:51:21.521Z"
   },
   {
    "duration": 9,
    "start_time": "2021-12-09T10:51:21.541Z"
   },
   {
    "duration": 37,
    "start_time": "2021-12-09T10:51:21.552Z"
   },
   {
    "duration": 38,
    "start_time": "2021-12-09T10:51:21.592Z"
   },
   {
    "duration": 5,
    "start_time": "2021-12-09T10:51:21.633Z"
   },
   {
    "duration": 19,
    "start_time": "2021-12-09T10:51:21.641Z"
   },
   {
    "duration": 55,
    "start_time": "2021-12-09T10:51:21.663Z"
   },
   {
    "duration": 18,
    "start_time": "2021-12-09T10:51:21.721Z"
   },
   {
    "duration": 31,
    "start_time": "2021-12-09T10:51:21.741Z"
   },
   {
    "duration": 999,
    "start_time": "2021-12-09T10:51:21.774Z"
   },
   {
    "duration": 49,
    "start_time": "2021-12-09T10:51:22.775Z"
   },
   {
    "duration": 8,
    "start_time": "2021-12-09T10:51:22.827Z"
   },
   {
    "duration": 18,
    "start_time": "2021-12-09T10:51:22.837Z"
   },
   {
    "duration": 38,
    "start_time": "2021-12-09T10:51:22.857Z"
   },
   {
    "duration": 1166,
    "start_time": "2021-12-09T10:51:22.898Z"
   },
   {
    "duration": 854,
    "start_time": "2021-12-09T10:51:24.068Z"
   },
   {
    "duration": 496,
    "start_time": "2021-12-09T10:51:24.925Z"
   },
   {
    "duration": 827,
    "start_time": "2021-12-09T10:51:25.423Z"
   },
   {
    "duration": 1095,
    "start_time": "2021-12-09T10:51:26.253Z"
   },
   {
    "duration": 6,
    "start_time": "2021-12-09T10:51:27.351Z"
   },
   {
    "duration": 62,
    "start_time": "2021-12-09T10:51:27.359Z"
   },
   {
    "duration": 11,
    "start_time": "2021-12-09T10:51:27.424Z"
   },
   {
    "duration": 19,
    "start_time": "2021-12-09T10:51:27.438Z"
   },
   {
    "duration": 58,
    "start_time": "2021-12-09T10:51:27.459Z"
   },
   {
    "duration": 6,
    "start_time": "2021-12-09T10:51:27.520Z"
   },
   {
    "duration": 7,
    "start_time": "2021-12-09T10:51:27.529Z"
   },
   {
    "duration": 485,
    "start_time": "2021-12-09T10:51:27.538Z"
   },
   {
    "duration": 8,
    "start_time": "2021-12-09T10:51:28.026Z"
   },
   {
    "duration": 8,
    "start_time": "2021-12-09T10:51:28.037Z"
   },
   {
    "duration": 7,
    "start_time": "2021-12-09T10:51:28.047Z"
   },
   {
    "duration": 64,
    "start_time": "2021-12-09T10:51:28.056Z"
   },
   {
    "duration": 27,
    "start_time": "2021-12-09T10:51:28.123Z"
   },
   {
    "duration": 9,
    "start_time": "2021-12-09T10:51:28.153Z"
   },
   {
    "duration": 55,
    "start_time": "2021-12-09T10:51:28.165Z"
   },
   {
    "duration": 38,
    "start_time": "2021-12-09T10:51:28.222Z"
   },
   {
    "duration": 53,
    "start_time": "2021-12-09T10:51:28.263Z"
   },
   {
    "duration": 542,
    "start_time": "2021-12-09T10:51:28.319Z"
   },
   {
    "duration": 9,
    "start_time": "2021-12-09T10:51:28.864Z"
   },
   {
    "duration": 625,
    "start_time": "2021-12-09T10:51:28.876Z"
   },
   {
    "duration": 913,
    "start_time": "2021-12-09T10:51:29.504Z"
   },
   {
    "duration": 884,
    "start_time": "2021-12-09T10:51:30.420Z"
   },
   {
    "duration": 965,
    "start_time": "2021-12-09T10:51:31.307Z"
   },
   {
    "duration": 9,
    "start_time": "2021-12-09T10:51:32.275Z"
   },
   {
    "duration": 35,
    "start_time": "2021-12-09T10:51:32.287Z"
   },
   {
    "duration": 8,
    "start_time": "2021-12-09T10:51:32.325Z"
   },
   {
    "duration": 7,
    "start_time": "2021-12-09T10:51:32.336Z"
   },
   {
    "duration": 12,
    "start_time": "2021-12-09T10:51:32.346Z"
   },
   {
    "duration": 59,
    "start_time": "2021-12-09T10:51:32.361Z"
   },
   {
    "duration": 807,
    "start_time": "2021-12-09T10:51:32.422Z"
   },
   {
    "duration": 798,
    "start_time": "2021-12-09T10:53:10.675Z"
   },
   {
    "duration": 97,
    "start_time": "2021-12-09T10:53:11.476Z"
   },
   {
    "duration": 56,
    "start_time": "2021-12-09T10:53:11.575Z"
   },
   {
    "duration": 20,
    "start_time": "2021-12-09T10:53:11.635Z"
   },
   {
    "duration": 59,
    "start_time": "2021-12-09T10:53:11.658Z"
   },
   {
    "duration": 7,
    "start_time": "2021-12-09T10:53:11.720Z"
   },
   {
    "duration": 18,
    "start_time": "2021-12-09T10:53:11.731Z"
   },
   {
    "duration": 62,
    "start_time": "2021-12-09T10:53:11.755Z"
   },
   {
    "duration": 14,
    "start_time": "2021-12-09T10:53:11.822Z"
   },
   {
    "duration": 13,
    "start_time": "2021-12-09T10:53:11.839Z"
   },
   {
    "duration": 62,
    "start_time": "2021-12-09T10:53:11.855Z"
   },
   {
    "duration": 17,
    "start_time": "2021-12-09T10:53:11.920Z"
   },
   {
    "duration": 15,
    "start_time": "2021-12-09T10:53:11.940Z"
   },
   {
    "duration": 7,
    "start_time": "2021-12-09T10:53:11.958Z"
   },
   {
    "duration": 85,
    "start_time": "2021-12-09T10:53:11.967Z"
   },
   {
    "duration": 15,
    "start_time": "2021-12-09T10:53:12.055Z"
   },
   {
    "duration": 50,
    "start_time": "2021-12-09T10:53:12.073Z"
   },
   {
    "duration": 20,
    "start_time": "2021-12-09T10:53:12.126Z"
   },
   {
    "duration": 18,
    "start_time": "2021-12-09T10:53:12.149Z"
   },
   {
    "duration": 48,
    "start_time": "2021-12-09T10:53:12.170Z"
   },
   {
    "duration": 27,
    "start_time": "2021-12-09T10:53:12.221Z"
   },
   {
    "duration": 29,
    "start_time": "2021-12-09T10:53:12.251Z"
   },
   {
    "duration": 6,
    "start_time": "2021-12-09T10:53:12.316Z"
   },
   {
    "duration": 5,
    "start_time": "2021-12-09T10:53:12.327Z"
   },
   {
    "duration": 7,
    "start_time": "2021-12-09T10:53:12.334Z"
   },
   {
    "duration": 8,
    "start_time": "2021-12-09T10:53:12.344Z"
   },
   {
    "duration": 66,
    "start_time": "2021-12-09T10:53:12.355Z"
   },
   {
    "duration": 9,
    "start_time": "2021-12-09T10:53:12.424Z"
   },
   {
    "duration": 8,
    "start_time": "2021-12-09T10:53:12.435Z"
   },
   {
    "duration": 5,
    "start_time": "2021-12-09T10:53:12.446Z"
   },
   {
    "duration": 80,
    "start_time": "2021-12-09T10:53:12.453Z"
   },
   {
    "duration": 27,
    "start_time": "2021-12-09T10:53:12.535Z"
   },
   {
    "duration": 5,
    "start_time": "2021-12-09T10:53:12.565Z"
   },
   {
    "duration": 7,
    "start_time": "2021-12-09T10:53:12.572Z"
   },
   {
    "duration": 62,
    "start_time": "2021-12-09T10:53:12.582Z"
   },
   {
    "duration": 17,
    "start_time": "2021-12-09T10:53:12.646Z"
   },
   {
    "duration": 58,
    "start_time": "2021-12-09T10:53:12.666Z"
   },
   {
    "duration": 972,
    "start_time": "2021-12-09T10:53:12.727Z"
   },
   {
    "duration": 45,
    "start_time": "2021-12-09T10:53:13.702Z"
   },
   {
    "duration": 7,
    "start_time": "2021-12-09T10:53:13.750Z"
   },
   {
    "duration": 7,
    "start_time": "2021-12-09T10:53:13.760Z"
   },
   {
    "duration": 77,
    "start_time": "2021-12-09T10:53:13.770Z"
   },
   {
    "duration": 795,
    "start_time": "2021-12-09T10:53:13.850Z"
   },
   {
    "duration": 825,
    "start_time": "2021-12-09T10:53:14.648Z"
   },
   {
    "duration": 479,
    "start_time": "2021-12-09T10:53:15.476Z"
   },
   {
    "duration": 1562,
    "start_time": "2021-12-09T10:53:15.959Z"
   },
   {
    "duration": 1268,
    "start_time": "2021-12-09T10:53:17.524Z"
   },
   {
    "duration": 7,
    "start_time": "2021-12-09T10:53:18.795Z"
   },
   {
    "duration": 17,
    "start_time": "2021-12-09T10:53:18.805Z"
   },
   {
    "duration": 15,
    "start_time": "2021-12-09T10:53:18.825Z"
   },
   {
    "duration": 194,
    "start_time": "2021-12-09T10:53:18.843Z"
   },
   {
    "duration": 9,
    "start_time": "2021-12-09T10:53:19.040Z"
   },
   {
    "duration": 8,
    "start_time": "2021-12-09T10:53:19.053Z"
   },
   {
    "duration": 54,
    "start_time": "2021-12-09T10:53:19.065Z"
   },
   {
    "duration": 326,
    "start_time": "2021-12-09T10:53:19.122Z"
   },
   {
    "duration": 9,
    "start_time": "2021-12-09T10:53:19.451Z"
   },
   {
    "duration": 9,
    "start_time": "2021-12-09T10:53:19.463Z"
   },
   {
    "duration": 46,
    "start_time": "2021-12-09T10:53:19.474Z"
   },
   {
    "duration": 14,
    "start_time": "2021-12-09T10:53:19.524Z"
   },
   {
    "duration": 36,
    "start_time": "2021-12-09T10:53:19.541Z"
   },
   {
    "duration": 12,
    "start_time": "2021-12-09T10:53:19.618Z"
   },
   {
    "duration": 16,
    "start_time": "2021-12-09T10:53:19.633Z"
   },
   {
    "duration": 85,
    "start_time": "2021-12-09T10:53:19.652Z"
   },
   {
    "duration": 28,
    "start_time": "2021-12-09T10:53:19.740Z"
   },
   {
    "duration": 555,
    "start_time": "2021-12-09T10:53:19.772Z"
   },
   {
    "duration": 10,
    "start_time": "2021-12-09T10:53:20.329Z"
   },
   {
    "duration": 638,
    "start_time": "2021-12-09T10:53:20.341Z"
   },
   {
    "duration": 617,
    "start_time": "2021-12-09T10:53:20.987Z"
   },
   {
    "duration": 642,
    "start_time": "2021-12-09T10:53:21.607Z"
   },
   {
    "duration": 660,
    "start_time": "2021-12-09T10:53:22.252Z"
   },
   {
    "duration": 9,
    "start_time": "2021-12-09T10:53:22.918Z"
   },
   {
    "duration": 9,
    "start_time": "2021-12-09T10:53:22.930Z"
   },
   {
    "duration": 8,
    "start_time": "2021-12-09T10:53:22.942Z"
   },
   {
    "duration": 66,
    "start_time": "2021-12-09T10:53:22.953Z"
   },
   {
    "duration": 9,
    "start_time": "2021-12-09T10:53:23.022Z"
   },
   {
    "duration": 8,
    "start_time": "2021-12-09T10:53:23.034Z"
   },
   {
    "duration": 689,
    "start_time": "2021-12-09T10:53:23.046Z"
   },
   {
    "duration": 1028,
    "start_time": "2021-12-09T10:53:58.211Z"
   },
   {
    "duration": 126,
    "start_time": "2021-12-09T10:53:59.242Z"
   },
   {
    "duration": 80,
    "start_time": "2021-12-09T10:53:59.372Z"
   },
   {
    "duration": 23,
    "start_time": "2021-12-09T10:53:59.456Z"
   },
   {
    "duration": 38,
    "start_time": "2021-12-09T10:53:59.482Z"
   },
   {
    "duration": 8,
    "start_time": "2021-12-09T10:53:59.523Z"
   },
   {
    "duration": 13,
    "start_time": "2021-12-09T10:53:59.535Z"
   },
   {
    "duration": 11,
    "start_time": "2021-12-09T10:53:59.551Z"
   },
   {
    "duration": 62,
    "start_time": "2021-12-09T10:53:59.565Z"
   },
   {
    "duration": 9,
    "start_time": "2021-12-09T10:53:59.630Z"
   },
   {
    "duration": 15,
    "start_time": "2021-12-09T10:53:59.642Z"
   },
   {
    "duration": 61,
    "start_time": "2021-12-09T10:53:59.659Z"
   },
   {
    "duration": 12,
    "start_time": "2021-12-09T10:53:59.723Z"
   },
   {
    "duration": 7,
    "start_time": "2021-12-09T10:53:59.737Z"
   },
   {
    "duration": 73,
    "start_time": "2021-12-09T10:53:59.747Z"
   },
   {
    "duration": 13,
    "start_time": "2021-12-09T10:53:59.822Z"
   },
   {
    "duration": 12,
    "start_time": "2021-12-09T10:53:59.837Z"
   },
   {
    "duration": 18,
    "start_time": "2021-12-09T10:53:59.853Z"
   },
   {
    "duration": 59,
    "start_time": "2021-12-09T10:53:59.873Z"
   },
   {
    "duration": 12,
    "start_time": "2021-12-09T10:53:59.934Z"
   },
   {
    "duration": 16,
    "start_time": "2021-12-09T10:53:59.949Z"
   },
   {
    "duration": 73,
    "start_time": "2021-12-09T10:53:59.967Z"
   },
   {
    "duration": 6,
    "start_time": "2021-12-09T10:54:00.042Z"
   },
   {
    "duration": 9,
    "start_time": "2021-12-09T10:54:00.051Z"
   },
   {
    "duration": 14,
    "start_time": "2021-12-09T10:54:00.063Z"
   },
   {
    "duration": 44,
    "start_time": "2021-12-09T10:54:00.079Z"
   },
   {
    "duration": 12,
    "start_time": "2021-12-09T10:54:00.130Z"
   },
   {
    "duration": 8,
    "start_time": "2021-12-09T10:54:00.145Z"
   },
   {
    "duration": 10,
    "start_time": "2021-12-09T10:54:00.156Z"
   },
   {
    "duration": 49,
    "start_time": "2021-12-09T10:54:00.168Z"
   },
   {
    "duration": 33,
    "start_time": "2021-12-09T10:54:00.220Z"
   },
   {
    "duration": 16,
    "start_time": "2021-12-09T10:54:00.256Z"
   },
   {
    "duration": 42,
    "start_time": "2021-12-09T10:54:00.275Z"
   },
   {
    "duration": 10,
    "start_time": "2021-12-09T10:54:00.319Z"
   },
   {
    "duration": 49,
    "start_time": "2021-12-09T10:54:00.332Z"
   },
   {
    "duration": 51,
    "start_time": "2021-12-09T10:54:00.384Z"
   },
   {
    "duration": 43,
    "start_time": "2021-12-09T10:54:00.438Z"
   },
   {
    "duration": 983,
    "start_time": "2021-12-09T10:54:00.485Z"
   },
   {
    "duration": 47,
    "start_time": "2021-12-09T10:54:01.470Z"
   },
   {
    "duration": 6,
    "start_time": "2021-12-09T10:54:01.520Z"
   },
   {
    "duration": 11,
    "start_time": "2021-12-09T10:54:01.529Z"
   },
   {
    "duration": 47,
    "start_time": "2021-12-09T10:54:01.542Z"
   },
   {
    "duration": 839,
    "start_time": "2021-12-09T10:54:01.592Z"
   },
   {
    "duration": 808,
    "start_time": "2021-12-09T10:54:02.433Z"
   },
   {
    "duration": 532,
    "start_time": "2021-12-09T10:54:03.243Z"
   },
   {
    "duration": 863,
    "start_time": "2021-12-09T10:54:03.777Z"
   },
   {
    "duration": 875,
    "start_time": "2021-12-09T10:54:04.642Z"
   },
   {
    "duration": 7,
    "start_time": "2021-12-09T10:54:05.519Z"
   },
   {
    "duration": 13,
    "start_time": "2021-12-09T10:54:05.529Z"
   },
   {
    "duration": 14,
    "start_time": "2021-12-09T10:54:05.545Z"
   },
   {
    "duration": 163,
    "start_time": "2021-12-09T10:54:05.562Z"
   },
   {
    "duration": 6,
    "start_time": "2021-12-09T10:54:05.728Z"
   },
   {
    "duration": 12,
    "start_time": "2021-12-09T10:54:05.737Z"
   },
   {
    "duration": 11,
    "start_time": "2021-12-09T10:54:05.751Z"
   },
   {
    "duration": 354,
    "start_time": "2021-12-09T10:54:05.765Z"
   },
   {
    "duration": 7,
    "start_time": "2021-12-09T10:54:06.123Z"
   },
   {
    "duration": 10,
    "start_time": "2021-12-09T10:54:06.132Z"
   },
   {
    "duration": 8,
    "start_time": "2021-12-09T10:54:06.144Z"
   },
   {
    "duration": 11,
    "start_time": "2021-12-09T10:54:06.154Z"
   },
   {
    "duration": 77,
    "start_time": "2021-12-09T10:54:06.168Z"
   },
   {
    "duration": 12,
    "start_time": "2021-12-09T10:54:06.248Z"
   },
   {
    "duration": 56,
    "start_time": "2021-12-09T10:54:06.263Z"
   },
   {
    "duration": 40,
    "start_time": "2021-12-09T10:54:06.322Z"
   },
   {
    "duration": 66,
    "start_time": "2021-12-09T10:54:06.365Z"
   },
   {
    "duration": 639,
    "start_time": "2021-12-09T10:54:06.434Z"
   },
   {
    "duration": 10,
    "start_time": "2021-12-09T10:54:07.075Z"
   },
   {
    "duration": 729,
    "start_time": "2021-12-09T10:54:07.088Z"
   },
   {
    "duration": 694,
    "start_time": "2021-12-09T10:54:07.819Z"
   },
   {
    "duration": 813,
    "start_time": "2021-12-09T18:09:42.524Z"
   },
   {
    "duration": 84,
    "start_time": "2021-12-09T18:09:43.340Z"
   },
   {
    "duration": 50,
    "start_time": "2021-12-09T18:09:43.427Z"
   },
   {
    "duration": 16,
    "start_time": "2021-12-09T18:09:43.480Z"
   },
   {
    "duration": 32,
    "start_time": "2021-12-09T18:09:43.498Z"
   },
   {
    "duration": 6,
    "start_time": "2021-12-09T18:09:43.533Z"
   },
   {
    "duration": 16,
    "start_time": "2021-12-09T18:09:43.541Z"
   },
   {
    "duration": 11,
    "start_time": "2021-12-09T18:09:43.560Z"
   },
   {
    "duration": 57,
    "start_time": "2021-12-09T18:09:43.575Z"
   },
   {
    "duration": 9,
    "start_time": "2021-12-09T18:09:43.635Z"
   },
   {
    "duration": 14,
    "start_time": "2021-12-09T18:09:43.647Z"
   },
   {
    "duration": 13,
    "start_time": "2021-12-09T18:09:43.664Z"
   },
   {
    "duration": 45,
    "start_time": "2021-12-09T18:09:43.679Z"
   },
   {
    "duration": 8,
    "start_time": "2021-12-09T18:09:43.726Z"
   },
   {
    "duration": 26,
    "start_time": "2021-12-09T18:09:43.738Z"
   },
   {
    "duration": 11,
    "start_time": "2021-12-09T18:09:43.767Z"
   },
   {
    "duration": 15,
    "start_time": "2021-12-09T18:09:43.823Z"
   },
   {
    "duration": 23,
    "start_time": "2021-12-09T18:09:43.841Z"
   },
   {
    "duration": 19,
    "start_time": "2021-12-09T18:09:43.866Z"
   },
   {
    "duration": 42,
    "start_time": "2021-12-09T18:09:43.888Z"
   },
   {
    "duration": 13,
    "start_time": "2021-12-09T18:09:43.933Z"
   },
   {
    "duration": 29,
    "start_time": "2021-12-09T18:09:43.948Z"
   },
   {
    "duration": 5,
    "start_time": "2021-12-09T18:09:43.979Z"
   },
   {
    "duration": 39,
    "start_time": "2021-12-09T18:09:43.987Z"
   },
   {
    "duration": 7,
    "start_time": "2021-12-09T18:09:44.029Z"
   },
   {
    "duration": 12,
    "start_time": "2021-12-09T18:09:44.039Z"
   },
   {
    "duration": 13,
    "start_time": "2021-12-09T18:09:44.059Z"
   },
   {
    "duration": 8,
    "start_time": "2021-12-09T18:09:44.075Z"
   },
   {
    "duration": 41,
    "start_time": "2021-12-09T18:09:44.085Z"
   },
   {
    "duration": 9,
    "start_time": "2021-12-09T18:09:44.128Z"
   },
   {
    "duration": 29,
    "start_time": "2021-12-09T18:09:44.139Z"
   },
   {
    "duration": 15,
    "start_time": "2021-12-09T18:09:44.171Z"
   },
   {
    "duration": 5,
    "start_time": "2021-12-09T18:09:44.188Z"
   },
   {
    "duration": 4,
    "start_time": "2021-12-09T18:09:44.223Z"
   },
   {
    "duration": 32,
    "start_time": "2021-12-09T18:09:44.229Z"
   },
   {
    "duration": 18,
    "start_time": "2021-12-09T18:09:44.264Z"
   },
   {
    "duration": 48,
    "start_time": "2021-12-09T18:09:44.284Z"
   },
   {
    "duration": 900,
    "start_time": "2021-12-09T18:09:44.334Z"
   },
   {
    "duration": 32,
    "start_time": "2021-12-09T18:09:45.236Z"
   },
   {
    "duration": 9,
    "start_time": "2021-12-09T18:09:45.270Z"
   },
   {
    "duration": 5,
    "start_time": "2021-12-09T18:09:45.281Z"
   },
   {
    "duration": 59,
    "start_time": "2021-12-09T18:09:45.288Z"
   },
   {
    "duration": 727,
    "start_time": "2021-12-09T18:09:45.349Z"
   },
   {
    "duration": 763,
    "start_time": "2021-12-09T18:09:46.079Z"
   },
   {
    "duration": 445,
    "start_time": "2021-12-09T18:09:46.844Z"
   },
   {
    "duration": 853,
    "start_time": "2021-12-09T18:09:47.292Z"
   },
   {
    "duration": 792,
    "start_time": "2021-12-09T18:09:48.149Z"
   },
   {
    "duration": 7,
    "start_time": "2021-12-09T18:09:48.945Z"
   },
   {
    "duration": 7,
    "start_time": "2021-12-09T18:09:48.955Z"
   },
   {
    "duration": 13,
    "start_time": "2021-12-09T18:09:48.965Z"
   },
   {
    "duration": 127,
    "start_time": "2021-12-09T18:09:48.980Z"
   },
   {
    "duration": 19,
    "start_time": "2021-12-09T18:09:49.109Z"
   },
   {
    "duration": 7,
    "start_time": "2021-12-09T18:09:49.130Z"
   },
   {
    "duration": 8,
    "start_time": "2021-12-09T18:09:49.140Z"
   },
   {
    "duration": 320,
    "start_time": "2021-12-09T18:09:49.150Z"
   },
   {
    "duration": 7,
    "start_time": "2021-12-09T18:09:49.472Z"
   },
   {
    "duration": 7,
    "start_time": "2021-12-09T18:09:49.482Z"
   },
   {
    "duration": 36,
    "start_time": "2021-12-09T18:09:49.491Z"
   },
   {
    "duration": 15,
    "start_time": "2021-12-09T18:09:49.529Z"
   },
   {
    "duration": 29,
    "start_time": "2021-12-09T18:09:49.547Z"
   },
   {
    "duration": 8,
    "start_time": "2021-12-09T18:09:49.578Z"
   },
   {
    "duration": 12,
    "start_time": "2021-12-09T18:09:49.623Z"
   },
   {
    "duration": 35,
    "start_time": "2021-12-09T18:09:49.637Z"
   },
   {
    "duration": 20,
    "start_time": "2021-12-09T18:09:49.674Z"
   },
   {
    "duration": 567,
    "start_time": "2021-12-09T18:09:49.696Z"
   },
   {
    "duration": 8,
    "start_time": "2021-12-09T18:09:50.266Z"
   },
   {
    "duration": 591,
    "start_time": "2021-12-09T18:09:50.277Z"
   },
   {
    "duration": 594,
    "start_time": "2021-12-09T18:09:50.871Z"
   },
   {
    "duration": 596,
    "start_time": "2021-12-09T18:09:51.468Z"
   },
   {
    "duration": 785,
    "start_time": "2021-12-09T18:09:52.067Z"
   },
   {
    "duration": 7,
    "start_time": "2021-12-09T18:09:52.855Z"
   },
   {
    "duration": 7,
    "start_time": "2021-12-09T18:09:52.864Z"
   },
   {
    "duration": 7,
    "start_time": "2021-12-09T18:09:52.874Z"
   },
   {
    "duration": 44,
    "start_time": "2021-12-09T18:09:52.884Z"
   },
   {
    "duration": 6,
    "start_time": "2021-12-09T18:09:52.931Z"
   },
   {
    "duration": 7,
    "start_time": "2021-12-09T18:09:52.939Z"
   },
   {
    "duration": 386,
    "start_time": "2021-12-09T18:09:52.948Z"
   }
  ],
  "kernelspec": {
   "display_name": "Python 3 (ipykernel)",
   "language": "python",
   "name": "python3"
  },
  "language_info": {
   "codemirror_mode": {
    "name": "ipython",
    "version": 3
   },
   "file_extension": ".py",
   "mimetype": "text/x-python",
   "name": "python",
   "nbconvert_exporter": "python",
   "pygments_lexer": "ipython3",
   "version": "3.9.5"
  },
  "toc": {
   "base_numbering": 1,
   "nav_menu": {},
   "number_sections": true,
   "sideBar": true,
   "skip_h1_title": true,
   "title_cell": "Содержание",
   "title_sidebar": "Contents",
   "toc_cell": true,
   "toc_position": {},
   "toc_section_display": true,
   "toc_window_display": true
  }
 },
 "nbformat": 4,
 "nbformat_minor": 2
}
