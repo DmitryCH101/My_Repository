{
 "cells": [
  {
   "cell_type": "markdown",
   "metadata": {},
   "source": [
    "# Принятие решений в бизнесе. Приоритизация гипотез."
   ]
  },
  {
   "cell_type": "markdown",
   "metadata": {},
   "source": [
    "# Введение.\n",
    "\n",
    "В данном проекте наша задача - приоритизировать гипотезы, запустить A/B-тест и верно интерпретировать его результаты."
   ]
  },
  {
   "cell_type": "markdown",
   "metadata": {},
   "source": [
    "Глобально порядок действий будет таков:\n",
    "\n",
    "1. Приоритизировать гипотезы посредством применения фреймворков `ICE` (от англ. impact, confidence, effort / ease «влияние, уверенность, усилия / простота») и `RICE` (R от англ. reach, «охват»).\n",
    "2. Проанализировать результаты A/B-теста, опираясь на различные метрики."
   ]
  },
  {
   "cell_type": "markdown",
   "metadata": {},
   "source": [
    "## Обзор данных."
   ]
  },
  {
   "cell_type": "markdown",
   "metadata": {},
   "source": [
    "Посмотрим на данные. В отдельной ячейке импортируем все необходимые библиотеки."
   ]
  },
  {
   "cell_type": "code",
   "execution_count": 1,
   "metadata": {},
   "outputs": [],
   "source": [
    "import pandas as pd\n",
    "import datetime as dt\n",
    "import numpy as np\n",
    "import scipy.stats as stats\n",
    "import matplotlib.pyplot as plt\n",
    "from pandas.plotting import register_matplotlib_converters\n",
    "import warnings\n",
    "# конвертеры, которые позволяют использовать типы pandas в matplotlib  \n",
    "register_matplotlib_converters()"
   ]
  },
  {
   "cell_type": "markdown",
   "metadata": {},
   "source": [
    "Выгрузим датасеты, присвоим их переменным и выведем на экран."
   ]
  },
  {
   "cell_type": "markdown",
   "metadata": {},
   "source": [
    "Датасет для первой части исследования."
   ]
  },
  {
   "cell_type": "code",
   "execution_count": 2,
   "metadata": {},
   "outputs": [
    {
     "data": {
      "text/html": [
       "<div>\n",
       "<style scoped>\n",
       "    .dataframe tbody tr th:only-of-type {\n",
       "        vertical-align: middle;\n",
       "    }\n",
       "\n",
       "    .dataframe tbody tr th {\n",
       "        vertical-align: top;\n",
       "    }\n",
       "\n",
       "    .dataframe thead th {\n",
       "        text-align: right;\n",
       "    }\n",
       "</style>\n",
       "<table border=\"1\" class=\"dataframe\">\n",
       "  <thead>\n",
       "    <tr style=\"text-align: right;\">\n",
       "      <th></th>\n",
       "      <th>Hypothesis</th>\n",
       "      <th>Reach</th>\n",
       "      <th>Impact</th>\n",
       "      <th>Confidence</th>\n",
       "      <th>Efforts</th>\n",
       "    </tr>\n",
       "  </thead>\n",
       "  <tbody>\n",
       "    <tr>\n",
       "      <td>0</td>\n",
       "      <td>Добавить два новых канала привлечения трафика, что позволит привлекать на 30% больше пользователей</td>\n",
       "      <td>3</td>\n",
       "      <td>10</td>\n",
       "      <td>8</td>\n",
       "      <td>6</td>\n",
       "    </tr>\n",
       "    <tr>\n",
       "      <td>1</td>\n",
       "      <td>Запустить собственную службу доставки, что сократит срок доставки заказов</td>\n",
       "      <td>2</td>\n",
       "      <td>5</td>\n",
       "      <td>4</td>\n",
       "      <td>10</td>\n",
       "    </tr>\n",
       "    <tr>\n",
       "      <td>2</td>\n",
       "      <td>Добавить блоки рекомендаций товаров на сайт интернет магазина, чтобы повысить конверсию и средний чек заказа</td>\n",
       "      <td>8</td>\n",
       "      <td>3</td>\n",
       "      <td>7</td>\n",
       "      <td>3</td>\n",
       "    </tr>\n",
       "    <tr>\n",
       "      <td>3</td>\n",
       "      <td>Изменить структура категорий, что увеличит конверсию, т.к. пользователи быстрее найдут нужный товар</td>\n",
       "      <td>8</td>\n",
       "      <td>3</td>\n",
       "      <td>3</td>\n",
       "      <td>8</td>\n",
       "    </tr>\n",
       "    <tr>\n",
       "      <td>4</td>\n",
       "      <td>Изменить цвет фона главной страницы, чтобы увеличить вовлеченность пользователей</td>\n",
       "      <td>3</td>\n",
       "      <td>1</td>\n",
       "      <td>1</td>\n",
       "      <td>1</td>\n",
       "    </tr>\n",
       "  </tbody>\n",
       "</table>\n",
       "</div>"
      ],
      "text/plain": [
       "                                                                                                     Hypothesis  \\\n",
       "0            Добавить два новых канала привлечения трафика, что позволит привлекать на 30% больше пользователей   \n",
       "1                                     Запустить собственную службу доставки, что сократит срок доставки заказов   \n",
       "2  Добавить блоки рекомендаций товаров на сайт интернет магазина, чтобы повысить конверсию и средний чек заказа   \n",
       "3           Изменить структура категорий, что увеличит конверсию, т.к. пользователи быстрее найдут нужный товар   \n",
       "4                              Изменить цвет фона главной страницы, чтобы увеличить вовлеченность пользователей   \n",
       "\n",
       "   Reach  Impact  Confidence  Efforts  \n",
       "0      3      10           8        6  \n",
       "1      2       5           4       10  \n",
       "2      8       3           7        3  \n",
       "3      8       3           3        8  \n",
       "4      3       1           1        1  "
      ]
     },
     "execution_count": 2,
     "metadata": {},
     "output_type": "execute_result"
    }
   ],
   "source": [
    "hyp_data = pd.read_csv('/datasets/hypothesis.csv')\n",
    "pd.options.display.max_colwidth = 110\n",
    "hyp_data.head()"
   ]
  },
  {
   "cell_type": "markdown",
   "metadata": {},
   "source": [
    "Приведем названия колонок датасета к нижнему регистру."
   ]
  },
  {
   "cell_type": "code",
   "execution_count": 3,
   "metadata": {},
   "outputs": [],
   "source": [
    "hyp_data.columns = map(str.lower, hyp_data.columns)"
   ]
  },
  {
   "cell_type": "markdown",
   "metadata": {},
   "source": [
    "Датасеты для второй части исследования."
   ]
  },
  {
   "cell_type": "code",
   "execution_count": 4,
   "metadata": {},
   "outputs": [
    {
     "data": {
      "text/html": [
       "<div>\n",
       "<style scoped>\n",
       "    .dataframe tbody tr th:only-of-type {\n",
       "        vertical-align: middle;\n",
       "    }\n",
       "\n",
       "    .dataframe tbody tr th {\n",
       "        vertical-align: top;\n",
       "    }\n",
       "\n",
       "    .dataframe thead th {\n",
       "        text-align: right;\n",
       "    }\n",
       "</style>\n",
       "<table border=\"1\" class=\"dataframe\">\n",
       "  <thead>\n",
       "    <tr style=\"text-align: right;\">\n",
       "      <th></th>\n",
       "      <th>transactionId</th>\n",
       "      <th>visitorId</th>\n",
       "      <th>date</th>\n",
       "      <th>revenue</th>\n",
       "      <th>group</th>\n",
       "    </tr>\n",
       "  </thead>\n",
       "  <tbody>\n",
       "    <tr>\n",
       "      <td>0</td>\n",
       "      <td>3667963787</td>\n",
       "      <td>3312258926</td>\n",
       "      <td>2019-08-15</td>\n",
       "      <td>1650</td>\n",
       "      <td>B</td>\n",
       "    </tr>\n",
       "    <tr>\n",
       "      <td>1</td>\n",
       "      <td>2804400009</td>\n",
       "      <td>3642806036</td>\n",
       "      <td>2019-08-15</td>\n",
       "      <td>730</td>\n",
       "      <td>B</td>\n",
       "    </tr>\n",
       "    <tr>\n",
       "      <td>2</td>\n",
       "      <td>2961555356</td>\n",
       "      <td>4069496402</td>\n",
       "      <td>2019-08-15</td>\n",
       "      <td>400</td>\n",
       "      <td>A</td>\n",
       "    </tr>\n",
       "    <tr>\n",
       "      <td>3</td>\n",
       "      <td>3797467345</td>\n",
       "      <td>1196621759</td>\n",
       "      <td>2019-08-15</td>\n",
       "      <td>9759</td>\n",
       "      <td>B</td>\n",
       "    </tr>\n",
       "    <tr>\n",
       "      <td>4</td>\n",
       "      <td>2282983706</td>\n",
       "      <td>2322279887</td>\n",
       "      <td>2019-08-15</td>\n",
       "      <td>2308</td>\n",
       "      <td>B</td>\n",
       "    </tr>\n",
       "  </tbody>\n",
       "</table>\n",
       "</div>"
      ],
      "text/plain": [
       "   transactionId   visitorId        date  revenue group\n",
       "0     3667963787  3312258926  2019-08-15     1650     B\n",
       "1     2804400009  3642806036  2019-08-15      730     B\n",
       "2     2961555356  4069496402  2019-08-15      400     A\n",
       "3     3797467345  1196621759  2019-08-15     9759     B\n",
       "4     2282983706  2322279887  2019-08-15     2308     B"
      ]
     },
     "metadata": {},
     "output_type": "display_data"
    },
    {
     "data": {
      "text/html": [
       "<div>\n",
       "<style scoped>\n",
       "    .dataframe tbody tr th:only-of-type {\n",
       "        vertical-align: middle;\n",
       "    }\n",
       "\n",
       "    .dataframe tbody tr th {\n",
       "        vertical-align: top;\n",
       "    }\n",
       "\n",
       "    .dataframe thead th {\n",
       "        text-align: right;\n",
       "    }\n",
       "</style>\n",
       "<table border=\"1\" class=\"dataframe\">\n",
       "  <thead>\n",
       "    <tr style=\"text-align: right;\">\n",
       "      <th></th>\n",
       "      <th>date</th>\n",
       "      <th>group</th>\n",
       "      <th>visitors</th>\n",
       "    </tr>\n",
       "  </thead>\n",
       "  <tbody>\n",
       "    <tr>\n",
       "      <td>0</td>\n",
       "      <td>2019-08-01</td>\n",
       "      <td>A</td>\n",
       "      <td>719</td>\n",
       "    </tr>\n",
       "    <tr>\n",
       "      <td>1</td>\n",
       "      <td>2019-08-02</td>\n",
       "      <td>A</td>\n",
       "      <td>619</td>\n",
       "    </tr>\n",
       "    <tr>\n",
       "      <td>2</td>\n",
       "      <td>2019-08-03</td>\n",
       "      <td>A</td>\n",
       "      <td>507</td>\n",
       "    </tr>\n",
       "    <tr>\n",
       "      <td>3</td>\n",
       "      <td>2019-08-04</td>\n",
       "      <td>A</td>\n",
       "      <td>717</td>\n",
       "    </tr>\n",
       "    <tr>\n",
       "      <td>4</td>\n",
       "      <td>2019-08-05</td>\n",
       "      <td>A</td>\n",
       "      <td>756</td>\n",
       "    </tr>\n",
       "  </tbody>\n",
       "</table>\n",
       "</div>"
      ],
      "text/plain": [
       "         date group  visitors\n",
       "0  2019-08-01     A       719\n",
       "1  2019-08-02     A       619\n",
       "2  2019-08-03     A       507\n",
       "3  2019-08-04     A       717\n",
       "4  2019-08-05     A       756"
      ]
     },
     "execution_count": 4,
     "metadata": {},
     "output_type": "execute_result"
    }
   ],
   "source": [
    "orders = pd.read_csv('/datasets/orders.csv')\n",
    "visitors = pd.read_csv('/datasets/visitors.csv')\n",
    "display(orders.head())\n",
    "visitors.head()"
   ]
  },
  {
   "cell_type": "markdown",
   "metadata": {},
   "source": [
    "Проверим датасеты на наличие пропусков и дубликатов."
   ]
  },
  {
   "cell_type": "code",
   "execution_count": 5,
   "metadata": {},
   "outputs": [
    {
     "data": {
      "text/plain": [
       "hypothesis    0\n",
       "reach         0\n",
       "impact        0\n",
       "confidence    0\n",
       "efforts       0\n",
       "dtype: int64"
      ]
     },
     "execution_count": 5,
     "metadata": {},
     "output_type": "execute_result"
    }
   ],
   "source": [
    "hyp_data.isna().sum()"
   ]
  },
  {
   "cell_type": "code",
   "execution_count": 6,
   "metadata": {},
   "outputs": [
    {
     "data": {
      "text/plain": [
       "0"
      ]
     },
     "execution_count": 6,
     "metadata": {},
     "output_type": "execute_result"
    }
   ],
   "source": [
    "hyp_data.duplicated().sum()"
   ]
  },
  {
   "cell_type": "code",
   "execution_count": 7,
   "metadata": {},
   "outputs": [
    {
     "data": {
      "text/plain": [
       "transactionId    0\n",
       "visitorId        0\n",
       "date             0\n",
       "revenue          0\n",
       "group            0\n",
       "dtype: int64"
      ]
     },
     "metadata": {},
     "output_type": "display_data"
    },
    {
     "data": {
      "text/plain": [
       "date        0\n",
       "group       0\n",
       "visitors    0\n",
       "dtype: int64"
      ]
     },
     "execution_count": 7,
     "metadata": {},
     "output_type": "execute_result"
    }
   ],
   "source": [
    "display(orders.isna().sum())\n",
    "visitors.isna().sum()"
   ]
  },
  {
   "cell_type": "code",
   "execution_count": 8,
   "metadata": {},
   "outputs": [
    {
     "data": {
      "text/plain": [
       "0"
      ]
     },
     "metadata": {},
     "output_type": "display_data"
    },
    {
     "data": {
      "text/plain": [
       "0"
      ]
     },
     "execution_count": 8,
     "metadata": {},
     "output_type": "execute_result"
    }
   ],
   "source": [
    "display(orders.duplicated().sum())\n",
    "visitors.duplicated().sum()"
   ]
  },
  {
   "cell_type": "markdown",
   "metadata": {},
   "source": [
    "Описание данных."
   ]
  },
  {
   "cell_type": "code",
   "execution_count": 9,
   "metadata": {},
   "outputs": [
    {
     "name": "stdout",
     "output_type": "stream",
     "text": [
      "<class 'pandas.core.frame.DataFrame'>\n",
      "RangeIndex: 9 entries, 0 to 8\n",
      "Data columns (total 5 columns):\n",
      "hypothesis    9 non-null object\n",
      "reach         9 non-null int64\n",
      "impact        9 non-null int64\n",
      "confidence    9 non-null int64\n",
      "efforts       9 non-null int64\n",
      "dtypes: int64(4), object(1)\n",
      "memory usage: 488.0+ bytes\n"
     ]
    }
   ],
   "source": [
    "hyp_data.info()"
   ]
  },
  {
   "cell_type": "markdown",
   "metadata": {},
   "source": [
    "- `Hypothesis` — краткое описание гипотезы;\n",
    "- `Reach` — охват пользователей по 10-балльной шкале;\n",
    "- `Impact` — влияние на пользователей по 10-балльной шкале;\n",
    "- `Confidence` — уверенность в гипотезе по 10-балльной шкале;\n",
    "- `Efforts` — затраты ресурсов на проверку гипотезы по 10-балльной шкале. Чем больше значение Efforts, тем дороже проверка гипотезы."
   ]
  },
  {
   "cell_type": "code",
   "execution_count": 10,
   "metadata": {
    "scrolled": true
   },
   "outputs": [
    {
     "name": "stdout",
     "output_type": "stream",
     "text": [
      "<class 'pandas.core.frame.DataFrame'>\n",
      "RangeIndex: 1197 entries, 0 to 1196\n",
      "Data columns (total 5 columns):\n",
      "transactionId    1197 non-null int64\n",
      "visitorId        1197 non-null int64\n",
      "date             1197 non-null object\n",
      "revenue          1197 non-null int64\n",
      "group            1197 non-null object\n",
      "dtypes: int64(3), object(2)\n",
      "memory usage: 46.9+ KB\n"
     ]
    }
   ],
   "source": [
    "orders.info()"
   ]
  },
  {
   "cell_type": "markdown",
   "metadata": {},
   "source": [
    "- `transactionId` — идентификатор заказа;\n",
    "- `visitorId` — идентификатор пользователя, совершившего заказ;\n",
    "- `date` — дата, когда был совершён заказ;\n",
    "- `revenue` — выручка заказа;\n",
    "- `group` — группа A/B-теста, в которую попал заказ."
   ]
  },
  {
   "cell_type": "code",
   "execution_count": 11,
   "metadata": {
    "scrolled": true
   },
   "outputs": [
    {
     "name": "stdout",
     "output_type": "stream",
     "text": [
      "<class 'pandas.core.frame.DataFrame'>\n",
      "RangeIndex: 62 entries, 0 to 61\n",
      "Data columns (total 3 columns):\n",
      "date        62 non-null object\n",
      "group       62 non-null object\n",
      "visitors    62 non-null int64\n",
      "dtypes: int64(1), object(2)\n",
      "memory usage: 1.6+ KB\n"
     ]
    }
   ],
   "source": [
    "visitors.info()"
   ]
  },
  {
   "cell_type": "markdown",
   "metadata": {},
   "source": [
    "- `date` — дата;\n",
    "- `group` — группа A/B-теста;\n",
    "- `visitors` — количество пользователей в указанную дату в указанной группе A/B-теста"
   ]
  },
  {
   "cell_type": "markdown",
   "metadata": {},
   "source": [
    "За исклбчением приведения названий колонок датасета `hyp_data` к нижнему регистру, проблем в данных не обнаружено. Можно переходить к первому шагу исследования."
   ]
  },
  {
   "cell_type": "markdown",
   "metadata": {},
   "source": [
    "## Часть 1. Приоритизация гипотез."
   ]
  },
  {
   "cell_type": "markdown",
   "metadata": {},
   "source": [
    "Для приоритизации гипотез будем применять фреймворки `ICE` и `RICE`."
   ]
  },
  {
   "cell_type": "markdown",
   "metadata": {},
   "source": [
    "### Фреймворк `ICE`."
   ]
  },
  {
   "cell_type": "code",
   "execution_count": 12,
   "metadata": {},
   "outputs": [
    {
     "data": {
      "text/html": [
       "<div>\n",
       "<style scoped>\n",
       "    .dataframe tbody tr th:only-of-type {\n",
       "        vertical-align: middle;\n",
       "    }\n",
       "\n",
       "    .dataframe tbody tr th {\n",
       "        vertical-align: top;\n",
       "    }\n",
       "\n",
       "    .dataframe thead th {\n",
       "        text-align: right;\n",
       "    }\n",
       "</style>\n",
       "<table border=\"1\" class=\"dataframe\">\n",
       "  <thead>\n",
       "    <tr style=\"text-align: right;\">\n",
       "      <th></th>\n",
       "      <th>hypothesis</th>\n",
       "      <th>ICE</th>\n",
       "    </tr>\n",
       "  </thead>\n",
       "  <tbody>\n",
       "    <tr>\n",
       "      <td>8</td>\n",
       "      <td>Запустить акцию, дающую скидку на товар в день рождения</td>\n",
       "      <td>16.200000</td>\n",
       "    </tr>\n",
       "    <tr>\n",
       "      <td>0</td>\n",
       "      <td>Добавить два новых канала привлечения трафика, что позволит привлекать на 30% больше пользователей</td>\n",
       "      <td>13.333333</td>\n",
       "    </tr>\n",
       "    <tr>\n",
       "      <td>7</td>\n",
       "      <td>Добавить форму подписки на все основные страницы, чтобы собрать базу клиентов для email-рассылок</td>\n",
       "      <td>11.200000</td>\n",
       "    </tr>\n",
       "    <tr>\n",
       "      <td>6</td>\n",
       "      <td>Показать на главной странице баннеры с актуальными акциями и распродажами, чтобы увеличить конверсию</td>\n",
       "      <td>8.000000</td>\n",
       "    </tr>\n",
       "    <tr>\n",
       "      <td>2</td>\n",
       "      <td>Добавить блоки рекомендаций товаров на сайт интернет магазина, чтобы повысить конверсию и средний чек заказа</td>\n",
       "      <td>7.000000</td>\n",
       "    </tr>\n",
       "    <tr>\n",
       "      <td>1</td>\n",
       "      <td>Запустить собственную службу доставки, что сократит срок доставки заказов</td>\n",
       "      <td>2.000000</td>\n",
       "    </tr>\n",
       "    <tr>\n",
       "      <td>5</td>\n",
       "      <td>Добавить страницу отзывов клиентов о магазине, что позволит увеличить количество заказов</td>\n",
       "      <td>1.333333</td>\n",
       "    </tr>\n",
       "    <tr>\n",
       "      <td>3</td>\n",
       "      <td>Изменить структура категорий, что увеличит конверсию, т.к. пользователи быстрее найдут нужный товар</td>\n",
       "      <td>1.125000</td>\n",
       "    </tr>\n",
       "    <tr>\n",
       "      <td>4</td>\n",
       "      <td>Изменить цвет фона главной страницы, чтобы увеличить вовлеченность пользователей</td>\n",
       "      <td>1.000000</td>\n",
       "    </tr>\n",
       "  </tbody>\n",
       "</table>\n",
       "</div>"
      ],
      "text/plain": [
       "                                                                                                     hypothesis  \\\n",
       "8                                                       Запустить акцию, дающую скидку на товар в день рождения   \n",
       "0            Добавить два новых канала привлечения трафика, что позволит привлекать на 30% больше пользователей   \n",
       "7              Добавить форму подписки на все основные страницы, чтобы собрать базу клиентов для email-рассылок   \n",
       "6          Показать на главной странице баннеры с актуальными акциями и распродажами, чтобы увеличить конверсию   \n",
       "2  Добавить блоки рекомендаций товаров на сайт интернет магазина, чтобы повысить конверсию и средний чек заказа   \n",
       "1                                     Запустить собственную службу доставки, что сократит срок доставки заказов   \n",
       "5                      Добавить страницу отзывов клиентов о магазине, что позволит увеличить количество заказов   \n",
       "3           Изменить структура категорий, что увеличит конверсию, т.к. пользователи быстрее найдут нужный товар   \n",
       "4                              Изменить цвет фона главной страницы, чтобы увеличить вовлеченность пользователей   \n",
       "\n",
       "         ICE  \n",
       "8  16.200000  \n",
       "0  13.333333  \n",
       "7  11.200000  \n",
       "6   8.000000  \n",
       "2   7.000000  \n",
       "1   2.000000  \n",
       "5   1.333333  \n",
       "3   1.125000  \n",
       "4   1.000000  "
      ]
     },
     "execution_count": 12,
     "metadata": {},
     "output_type": "execute_result"
    }
   ],
   "source": [
    "hyp_data['ICE'] = (hyp_data['impact'] * hyp_data['confidence']) / hyp_data['efforts']\n",
    "\n",
    "hyp_data[['hypothesis', 'ICE']].sort_values(by='ICE', ascending=False)"
   ]
  },
  {
   "cell_type": "markdown",
   "metadata": {},
   "source": [
    "Судя по полученным результатам работы фреймворка `ICE` наиболее перспективными гипотезами являются гипотезы под номерами **8**, **0** и **7**. Проверим, что изменится, если вместо фреймворка `ICE` применить фреймворк `RICE`."
   ]
  },
  {
   "cell_type": "markdown",
   "metadata": {},
   "source": [
    "### Фреймворк `RICE`."
   ]
  },
  {
   "cell_type": "code",
   "execution_count": 13,
   "metadata": {},
   "outputs": [
    {
     "name": "stdout",
     "output_type": "stream",
     "text": [
      "                                                                                                     hypothesis  \\\n",
      "7              Добавить форму подписки на все основные страницы, чтобы собрать базу клиентов для email-рассылок   \n",
      "2  Добавить блоки рекомендаций товаров на сайт интернет магазина, чтобы повысить конверсию и средний чек заказа   \n",
      "0            Добавить два новых канала привлечения трафика, что позволит привлекать на 30% больше пользователей   \n",
      "6          Показать на главной странице баннеры с актуальными акциями и распродажами, чтобы увеличить конверсию   \n",
      "8                                                       Запустить акцию, дающую скидку на товар в день рождения   \n",
      "3           Изменить структура категорий, что увеличит конверсию, т.к. пользователи быстрее найдут нужный товар   \n",
      "1                                     Запустить собственную службу доставки, что сократит срок доставки заказов   \n",
      "5                      Добавить страницу отзывов клиентов о магазине, что позволит увеличить количество заказов   \n",
      "4                              Изменить цвет фона главной страницы, чтобы увеличить вовлеченность пользователей   \n",
      "\n",
      "    RICE  \n",
      "7  112.0  \n",
      "2   56.0  \n",
      "0   40.0  \n",
      "6   40.0  \n",
      "8   16.2  \n",
      "3    9.0  \n",
      "1    4.0  \n",
      "5    4.0  \n",
      "4    3.0  \n"
     ]
    }
   ],
   "source": [
    "hyp_data['RICE'] = (hyp_data['reach'] * hyp_data['impact'] * hyp_data['confidence']) / hyp_data['efforts']\n",
    "\n",
    "print(hyp_data[['hypothesis', 'RICE']].sort_values(by='RICE', ascending=False))"
   ]
  },
  {
   "cell_type": "markdown",
   "metadata": {},
   "source": [
    "Судя по результатам работы `RICE` наиболее преспективной гипотезой является гипотеза под номером **7**. В прошлых результатх она тоже присутствовала, но была на \"третьем месте\". А сейчас она лидирует.\n",
    "Это произошло потому, что ее параметр `reach` (от англ. \"охват\") **больше**, чем у остальных гипотез. Можно сделать вывод, что **седьмая** гипотеза наиболее перспективная. "
   ]
  },
  {
   "cell_type": "markdown",
   "metadata": {},
   "source": [
    "Анализ работы фреймворков `ICE` и `RICE` завершен, можно переходить к анализам A/B-теста."
   ]
  },
  {
   "cell_type": "markdown",
   "metadata": {},
   "source": [
    "## Часть 2. Анализ результатов A/B-тестирования."
   ]
  },
  {
   "cell_type": "markdown",
   "metadata": {},
   "source": [
    "### График кумулятивной выручки по группам."
   ]
  },
  {
   "cell_type": "code",
   "execution_count": 14,
   "metadata": {},
   "outputs": [
    {
     "data": {
      "text/plain": [
       "<matplotlib.legend.Legend at 0x7f43187ea0d0>"
      ]
     },
     "execution_count": 14,
     "metadata": {},
     "output_type": "execute_result"
    },
    {
     "data": {
      "image/png": "[encoded data removed]",
      "text/plain": [
       "<Figure size 432x288 with 1 Axes>"
      ]
     },
     "metadata": {
      "needs_background": "light"
     },
     "output_type": "display_data"
    }
   ],
   "source": [
    "orders['date'] = orders['date'].map(\n",
    "    lambda x: dt.datetime.strptime(x, '%Y-%m-%d') # переводим даты в правильный формат\n",
    ")\n",
    "\n",
    "visitors['date'] = visitors['date'].map(\n",
    "    lambda x: dt.datetime.strptime(x, '%Y-%m-%d')\n",
    ")\n",
    "\n",
    "datesGroups = orders[['date', 'group']].drop_duplicates() # создаем массив уникальных пар значений дат и групп теста\n",
    "\n",
    "# получаем агрегированные кумулятивные по дням данные о заказах \n",
    "\n",
    "ordersAggregated = datesGroups.apply(\n",
    "    lambda x: orders[\n",
    "        np.logical_and(\n",
    "            orders['date'] <= x['date'], orders['group'] == x['group']\n",
    "        )\n",
    "    ].agg(\n",
    "        {\n",
    "            'date': 'max',\n",
    "            'group': 'max',\n",
    "            'transactionId': 'nunique',\n",
    "            'visitorId': 'nunique',\n",
    "            'revenue': 'sum',\n",
    "        }\n",
    "    ),\n",
    "    axis=1,\n",
    ").sort_values(by=['date', 'group'])\n",
    "\n",
    "# получаем агрегированные кумулятивные по дням данные о посетителях интернет-магазина \n",
    "\n",
    "visitorsAggregated = datesGroups.apply(\n",
    "    lambda x: visitors[\n",
    "        np.logical_and(\n",
    "            visitors['date'] <= x['date'], visitors['group'] == x['group']\n",
    "        )\n",
    "    ].agg({'date': 'max', 'group': 'max', 'visitors': 'sum'}),\n",
    "    axis=1,\n",
    ").sort_values(by=['date', 'group'])\n",
    "\n",
    "# объединяем кумулятивные данные в одной таблице и присваиваем ее столбцам понятные названия\n",
    "\n",
    "cumulativeData = ordersAggregated.merge(\n",
    "    visitorsAggregated, left_on=['date', 'group'], right_on=['date', 'group']\n",
    ")\n",
    "cumulativeData.columns = [\n",
    "    'date',\n",
    "    'group',\n",
    "    'orders',\n",
    "    'buyers',\n",
    "    'revenue',\n",
    "    'visitors',\n",
    "]\n",
    "# датафрейм с кумулятивным количеством заказов и кумулятивной выручкой по дням в группе А\n",
    "\n",
    "cumulativeRevenueA = cumulativeData[cumulativeData['group']=='A'][['date','revenue', 'orders']]\n",
    "\n",
    "# датафрейм с кумулятивным количеством заказов и кумулятивной выручкой по дням в группе В\n",
    "\n",
    "cumulativeRevenueB = cumulativeData[cumulativeData['group']=='B'][['date','revenue', 'orders']]\n",
    "\n",
    "# Строим график выручки группы А\n",
    "plt.plot(cumulativeRevenueA['date'], cumulativeRevenueA['revenue'], label='A')\n",
    "\n",
    "# Строим график выручки группы B\n",
    "plt.plot(cumulativeRevenueB['date'], cumulativeRevenueB['revenue'], label='B')\n",
    "\n",
    "plt.xticks(rotation = 45)\n",
    "\n",
    "plt.legend()"
   ]
  },
  {
   "cell_type": "markdown",
   "metadata": {},
   "source": [
    "Чуть позже середины теста сегмент В занчительно вырывается вперед и остается лидировать до конца теста. Возможно, что в данных есть выбросы (аномально большие заказаы)."
   ]
  },
  {
   "cell_type": "markdown",
   "metadata": {},
   "source": [
    "### График кумулятивного среднего чека по группам."
   ]
  },
  {
   "cell_type": "code",
   "execution_count": 15,
   "metadata": {},
   "outputs": [
    {
     "data": {
      "text/plain": [
       "<matplotlib.legend.Legend at 0x7f43103fd3d0>"
      ]
     },
     "execution_count": 15,
     "metadata": {},
     "output_type": "execute_result"
    },
    {
     "data": {
      "image/png": "[encoded data removed]",
      "text/plain": [
       "<Figure size 432x288 with 1 Axes>"
      ]
     },
     "metadata": {
      "needs_background": "light"
     },
     "output_type": "display_data"
    }
   ],
   "source": [
    "plt.plot(cumulativeRevenueA['date'], cumulativeRevenueA['revenue']/cumulativeRevenueA['orders'], label='A')\n",
    "plt.plot(cumulativeRevenueB['date'], cumulativeRevenueB['revenue']/cumulativeRevenueB['orders'], label='B')\n",
    "plt.xticks(rotation = 45)\n",
    "plt.legend()"
   ]
  },
  {
   "cell_type": "markdown",
   "metadata": {},
   "source": [
    "Судя по графику, делать какие-либо выводы пока рано, графики слишком сильно колеблются. Возможно эти колебания также происходят из-за выбросов."
   ]
  },
  {
   "cell_type": "markdown",
   "metadata": {},
   "source": [
    "### График относительного изменения кумулятивного среднего чека группы B к группе A."
   ]
  },
  {
   "cell_type": "code",
   "execution_count": 16,
   "metadata": {},
   "outputs": [
    {
     "data": {
      "text/plain": [
       "(array([737272., 737276., 737280., 737284., 737288., 737292., 737296.,\n",
       "        737300., 737303.]),\n",
       " <a list of 9 Text xticklabel objects>)"
      ]
     },
     "execution_count": 16,
     "metadata": {},
     "output_type": "execute_result"
    },
    {
     "data": {
      "image/png": "[encoded data removed]",
      "text/plain": [
       "<Figure size 432x288 with 1 Axes>"
      ]
     },
     "metadata": {
      "needs_background": "light"
     },
     "output_type": "display_data"
    }
   ],
   "source": [
    "# собираем данные в одном датафрейме\n",
    "mergedCumulativeRevenue = cumulativeRevenueA.merge(cumulativeRevenueB, left_on='date', right_on='date', how='left', suffixes=['A', 'B'])\n",
    "\n",
    "# cтроим отношение средних чеков\n",
    "plt.plot(mergedCumulativeRevenue['date'], (mergedCumulativeRevenue['revenueB']/mergedCumulativeRevenue['ordersB'])/(mergedCumulativeRevenue['revenueA']/mergedCumulativeRevenue['ordersA'])-1)\n",
    "\n",
    "# добавляем ось X\n",
    "plt.axhline(y=0, color='black', linestyle='--') \n",
    "plt.xticks(rotation = 45)"
   ]
  },
  {
   "cell_type": "markdown",
   "metadata": {},
   "source": [
    "Судя по графику, \"аномальные\" заказы были совершены именно в те даты, в момент которых на графике наиболее сильные колебания."
   ]
  },
  {
   "cell_type": "markdown",
   "metadata": {},
   "source": [
    "### График кумулятивной конверсии по группам. "
   ]
  },
  {
   "cell_type": "code",
   "execution_count": 17,
   "metadata": {},
   "outputs": [
    {
     "data": {
      "text/plain": [
       "[datetime.datetime(2019, 8, 1, 0, 0),\n",
       " datetime.datetime(2019, 9, 1, 0, 0),\n",
       " 0,\n",
       " 0.05]"
      ]
     },
     "execution_count": 17,
     "metadata": {},
     "output_type": "execute_result"
    },
    {
     "data": {
      "image/png": "[encoded data removed]",
      "text/plain": [
       "<Figure size 432x288 with 1 Axes>"
      ]
     },
     "metadata": {
      "needs_background": "light"
     },
     "output_type": "display_data"
    }
   ],
   "source": [
    "# добавим в датафрейм столбец conversion с отношением числа заказов к количеству пользователей\n",
    "cumulativeData['conversion'] = cumulativeData['orders']/cumulativeData['visitors']\n",
    "\n",
    "# отделяем данные по группе A\n",
    "cumulativeDataA = cumulativeData[cumulativeData['group']=='A']\n",
    "\n",
    "# отделяем данные по группе B\n",
    "cumulativeDataB = cumulativeData[cumulativeData['group']=='B']\n",
    "\n",
    "# строим графики\n",
    "plt.plot(cumulativeDataA['date'], cumulativeDataA['conversion'], label='A')\n",
    "plt.plot(cumulativeDataB['date'], cumulativeDataB['conversion'], label='B')\n",
    "plt.xticks(rotation = 45)\n",
    "plt.legend()\n",
    "\n",
    "# задаем масштаб осей\n",
    "plt.axis([dt.datetime(2019, 8, 1), dt.datetime(2019, 9, 1), 0, 0.05])"
   ]
  },
  {
   "cell_type": "markdown",
   "metadata": {},
   "source": [
    "Если бы мы не задали масштаб графиков, было видно, что колебания продолжаются. С установленным масштабом видно, что величина колебаний не превышает 1%. Что же относительно самого графика, то на нем видно, что группа А в начале лидировала, затем конверсия группы В превысила конверсию группы А и была стаибильна на протяжении всего теста. "
   ]
  },
  {
   "cell_type": "markdown",
   "metadata": {},
   "source": [
    "### График относительного изменения кумулятивной конверсии группы B к группе A."
   ]
  },
  {
   "cell_type": "code",
   "execution_count": 18,
   "metadata": {},
   "outputs": [
    {
     "data": {
      "text/plain": [
       "(array([737272., 737276., 737280., 737284., 737288., 737292., 737296.,\n",
       "        737300., 737303.]),\n",
       " <a list of 9 Text xticklabel objects>)"
      ]
     },
     "execution_count": 18,
     "metadata": {},
     "output_type": "execute_result"
    },
    {
     "data": {
      "image/png": "[encoded data removed]",
      "text/plain": [
       "<Figure size 432x288 with 1 Axes>"
      ]
     },
     "metadata": {
      "needs_background": "light"
     },
     "output_type": "display_data"
    }
   ],
   "source": [
    "mergedCumulativeConversions = cumulativeDataA[['date','conversion']].merge(cumulativeDataB[['date','conversion']], left_on='date', right_on='date', how='left', suffixes=['A', 'B'])\n",
    "\n",
    "plt.plot(mergedCumulativeConversions['date'], mergedCumulativeConversions['conversionB']/mergedCumulativeConversions['conversionA']-1, label=\"Относительный прирост конверсии группы B относительно группы A\")\n",
    "plt.legend()\n",
    "\n",
    "plt.axhline(y=0, color='black', linestyle='--')\n",
    "plt.axhline(y=0.2, color='grey', linestyle='--')\n",
    "plt.axis([\"2019-08-01\", '2019-09-01', -0.5, 0.5]) \n",
    "plt.xticks(rotation = 45)"
   ]
  },
  {
   "cell_type": "markdown",
   "metadata": {},
   "source": [
    "Практически сразу же после начала теста группа В вырывается вперед и лидирует до самого конца теста. "
   ]
  },
  {
   "cell_type": "markdown",
   "metadata": {},
   "source": [
    "### Точечный график количества заказов по пользователям."
   ]
  },
  {
   "cell_type": "code",
   "execution_count": 19,
   "metadata": {},
   "outputs": [
    {
     "name": "stdout",
     "output_type": "stream",
     "text": [
      "       visitorId  orders\n",
      "1023  4256040402      11\n",
      "591   2458001652      11\n",
      "569   2378935119       9\n",
      "487   2038680547       8\n",
      "44     199603092       5\n",
      "744   3062433592       5\n",
      "55     237748145       5\n",
      "917   3803269165       5\n",
      "299   1230306981       5\n",
      "897   3717692402       5\n"
     ]
    },
    {
     "data": {
      "text/plain": [
       "<matplotlib.collections.PathCollection at 0x7f430faeca90>"
      ]
     },
     "execution_count": 19,
     "metadata": {},
     "output_type": "execute_result"
    },
    {
     "data": {
      "image/png": "[encoded data removed]",
      "text/plain": [
       "<Figure size 432x288 with 1 Axes>"
      ]
     },
     "metadata": {
      "needs_background": "light"
     },
     "output_type": "display_data"
    }
   ],
   "source": [
    "ordersByUsers = (\n",
    "    orders.groupby('visitorId', as_index=False)\n",
    "    .agg({'transactionId': pd.Series.nunique})\n",
    ")\n",
    "ordersByUsers.columns = ['visitorId', 'orders']\n",
    "\n",
    "print(ordersByUsers.sort_values(by='orders', ascending=False).head(10))\n",
    "\n",
    "# серия из чисел от 0 до количества наблюдений в ordersByUsers\n",
    "x_values = pd.Series(range(0, len(ordersByUsers)))\n",
    "plt.scatter(x_values, ordersByUsers['orders']) "
   ]
  },
  {
   "cell_type": "markdown",
   "metadata": {},
   "source": [
    "На графике выидно, что пользователей, сделавших более двух заказщов совсем мало. Это вполне может быть аномальным значением."
   ]
  },
  {
   "cell_type": "markdown",
   "metadata": {},
   "source": [
    "### 95-й и 99-й перцентили количества заказов на пользователя. Граница для определения аномальных пользователей."
   ]
  },
  {
   "cell_type": "code",
   "execution_count": 20,
   "metadata": {},
   "outputs": [
    {
     "data": {
      "text/html": [
       "<div>\n",
       "<style scoped>\n",
       "    .dataframe tbody tr th:only-of-type {\n",
       "        vertical-align: middle;\n",
       "    }\n",
       "\n",
       "    .dataframe tbody tr th {\n",
       "        vertical-align: top;\n",
       "    }\n",
       "\n",
       "    .dataframe thead th {\n",
       "        text-align: right;\n",
       "    }\n",
       "</style>\n",
       "<table border=\"1\" class=\"dataframe\">\n",
       "  <thead>\n",
       "    <tr style=\"text-align: right;\">\n",
       "      <th></th>\n",
       "      <th>visitorId</th>\n",
       "      <th>orders</th>\n",
       "    </tr>\n",
       "  </thead>\n",
       "  <tbody>\n",
       "    <tr>\n",
       "      <td>1023</td>\n",
       "      <td>4256040402</td>\n",
       "      <td>11</td>\n",
       "    </tr>\n",
       "    <tr>\n",
       "      <td>591</td>\n",
       "      <td>2458001652</td>\n",
       "      <td>11</td>\n",
       "    </tr>\n",
       "    <tr>\n",
       "      <td>569</td>\n",
       "      <td>2378935119</td>\n",
       "      <td>9</td>\n",
       "    </tr>\n",
       "    <tr>\n",
       "      <td>487</td>\n",
       "      <td>2038680547</td>\n",
       "      <td>8</td>\n",
       "    </tr>\n",
       "    <tr>\n",
       "      <td>44</td>\n",
       "      <td>199603092</td>\n",
       "      <td>5</td>\n",
       "    </tr>\n",
       "    <tr>\n",
       "      <td>744</td>\n",
       "      <td>3062433592</td>\n",
       "      <td>5</td>\n",
       "    </tr>\n",
       "    <tr>\n",
       "      <td>55</td>\n",
       "      <td>237748145</td>\n",
       "      <td>5</td>\n",
       "    </tr>\n",
       "    <tr>\n",
       "      <td>917</td>\n",
       "      <td>3803269165</td>\n",
       "      <td>5</td>\n",
       "    </tr>\n",
       "    <tr>\n",
       "      <td>299</td>\n",
       "      <td>1230306981</td>\n",
       "      <td>5</td>\n",
       "    </tr>\n",
       "    <tr>\n",
       "      <td>897</td>\n",
       "      <td>3717692402</td>\n",
       "      <td>5</td>\n",
       "    </tr>\n",
       "  </tbody>\n",
       "</table>\n",
       "</div>"
      ],
      "text/plain": [
       "       visitorId  orders\n",
       "1023  4256040402      11\n",
       "591   2458001652      11\n",
       "569   2378935119       9\n",
       "487   2038680547       8\n",
       "44     199603092       5\n",
       "744   3062433592       5\n",
       "55     237748145       5\n",
       "917   3803269165       5\n",
       "299   1230306981       5\n",
       "897   3717692402       5"
      ]
     },
     "metadata": {},
     "output_type": "display_data"
    },
    {
     "data": {
      "text/plain": [
       "array([2., 4.])"
      ]
     },
     "execution_count": 20,
     "metadata": {},
     "output_type": "execute_result"
    }
   ],
   "source": [
    "display(ordersByUsers.sort_values(by='orders', ascending=False).head(10))\n",
    "np.percentile(ordersByUsers['orders'], [95, 99]) \n",
    " # Метод np.percentile('column', [percentile1, percentile2, percentile3]) находит перцентили."
   ]
  },
  {
   "cell_type": "markdown",
   "metadata": {},
   "source": [
    "Не более 1% пользователей совершили более четырех заказов и не более 5% пользователй соврешили более 2 заказов."
   ]
  },
  {
   "cell_type": "markdown",
   "metadata": {},
   "source": [
    "### Точечный график стоимостей заказов."
   ]
  },
  {
   "cell_type": "code",
   "execution_count": 21,
   "metadata": {},
   "outputs": [
    {
     "data": {
      "text/html": [
       "<div>\n",
       "<style scoped>\n",
       "    .dataframe tbody tr th:only-of-type {\n",
       "        vertical-align: middle;\n",
       "    }\n",
       "\n",
       "    .dataframe tbody tr th {\n",
       "        vertical-align: top;\n",
       "    }\n",
       "\n",
       "    .dataframe thead th {\n",
       "        text-align: right;\n",
       "    }\n",
       "</style>\n",
       "<table border=\"1\" class=\"dataframe\">\n",
       "  <thead>\n",
       "    <tr style=\"text-align: right;\">\n",
       "      <th></th>\n",
       "      <th>transactionId</th>\n",
       "      <th>visitorId</th>\n",
       "      <th>date</th>\n",
       "      <th>revenue</th>\n",
       "      <th>group</th>\n",
       "    </tr>\n",
       "  </thead>\n",
       "  <tbody>\n",
       "    <tr>\n",
       "      <td>425</td>\n",
       "      <td>590470918</td>\n",
       "      <td>1920142716</td>\n",
       "      <td>2019-08-19</td>\n",
       "      <td>1294500</td>\n",
       "      <td>B</td>\n",
       "    </tr>\n",
       "    <tr>\n",
       "      <td>1196</td>\n",
       "      <td>3936777065</td>\n",
       "      <td>2108080724</td>\n",
       "      <td>2019-08-15</td>\n",
       "      <td>202740</td>\n",
       "      <td>B</td>\n",
       "    </tr>\n",
       "    <tr>\n",
       "      <td>858</td>\n",
       "      <td>192721366</td>\n",
       "      <td>1316129916</td>\n",
       "      <td>2019-08-27</td>\n",
       "      <td>93940</td>\n",
       "      <td>A</td>\n",
       "    </tr>\n",
       "    <tr>\n",
       "      <td>1136</td>\n",
       "      <td>666610489</td>\n",
       "      <td>1307669133</td>\n",
       "      <td>2019-08-13</td>\n",
       "      <td>92550</td>\n",
       "      <td>A</td>\n",
       "    </tr>\n",
       "    <tr>\n",
       "      <td>744</td>\n",
       "      <td>3668308183</td>\n",
       "      <td>888512513</td>\n",
       "      <td>2019-08-27</td>\n",
       "      <td>86620</td>\n",
       "      <td>B</td>\n",
       "    </tr>\n",
       "    <tr>\n",
       "      <td>682</td>\n",
       "      <td>1216533772</td>\n",
       "      <td>4266935830</td>\n",
       "      <td>2019-08-29</td>\n",
       "      <td>78990</td>\n",
       "      <td>B</td>\n",
       "    </tr>\n",
       "    <tr>\n",
       "      <td>662</td>\n",
       "      <td>1811671147</td>\n",
       "      <td>4266935830</td>\n",
       "      <td>2019-08-29</td>\n",
       "      <td>78990</td>\n",
       "      <td>A</td>\n",
       "    </tr>\n",
       "    <tr>\n",
       "      <td>743</td>\n",
       "      <td>3603576309</td>\n",
       "      <td>4133034833</td>\n",
       "      <td>2019-08-09</td>\n",
       "      <td>67990</td>\n",
       "      <td>A</td>\n",
       "    </tr>\n",
       "    <tr>\n",
       "      <td>1103</td>\n",
       "      <td>1348774318</td>\n",
       "      <td>1164614297</td>\n",
       "      <td>2019-08-12</td>\n",
       "      <td>66350</td>\n",
       "      <td>A</td>\n",
       "    </tr>\n",
       "    <tr>\n",
       "      <td>1099</td>\n",
       "      <td>316924019</td>\n",
       "      <td>148427295</td>\n",
       "      <td>2019-08-12</td>\n",
       "      <td>65710</td>\n",
       "      <td>A</td>\n",
       "    </tr>\n",
       "  </tbody>\n",
       "</table>\n",
       "</div>"
      ],
      "text/plain": [
       "      transactionId   visitorId       date  revenue group\n",
       "425       590470918  1920142716 2019-08-19  1294500     B\n",
       "1196     3936777065  2108080724 2019-08-15   202740     B\n",
       "858       192721366  1316129916 2019-08-27    93940     A\n",
       "1136      666610489  1307669133 2019-08-13    92550     A\n",
       "744      3668308183   888512513 2019-08-27    86620     B\n",
       "682      1216533772  4266935830 2019-08-29    78990     B\n",
       "662      1811671147  4266935830 2019-08-29    78990     A\n",
       "743      3603576309  4133034833 2019-08-09    67990     A\n",
       "1103     1348774318  1164614297 2019-08-12    66350     A\n",
       "1099      316924019   148427295 2019-08-12    65710     A"
      ]
     },
     "metadata": {},
     "output_type": "display_data"
    },
    {
     "data": {
      "text/plain": [
       "<matplotlib.collections.PathCollection at 0x7f430fae1710>"
      ]
     },
     "execution_count": 21,
     "metadata": {},
     "output_type": "execute_result"
    },
    {
     "data": {
      "image/png": "[encoded data removed]",
      "text/plain": [
       "<Figure size 720x720 with 1 Axes>"
      ]
     },
     "metadata": {
      "needs_background": "light"
     },
     "output_type": "display_data"
    }
   ],
   "source": [
    "display(orders.sort_values(by='revenue', ascending=False).head(10))\n",
    "\n",
    "x_values = pd.Series(range(0, len(orders['revenue'])))\n",
    "\n",
    "plt.figure(figsize=(10, 10))\n",
    "plt.ylim([0, 200000])\n",
    "plt.scatter(x_values, orders['revenue']) "
   ]
  },
  {
   "cell_type": "markdown",
   "metadata": {},
   "source": [
    "Есть аномальный заказ на сумму около полутора миллионов. В целом суммы не превышают 100 000."
   ]
  },
  {
   "cell_type": "markdown",
   "metadata": {},
   "source": [
    "### 95-й и 99-й перцентили стоимости заказов. Граница для определения аномальных заказов."
   ]
  },
  {
   "cell_type": "code",
   "execution_count": 22,
   "metadata": {},
   "outputs": [
    {
     "data": {
      "text/html": [
       "<div>\n",
       "<style scoped>\n",
       "    .dataframe tbody tr th:only-of-type {\n",
       "        vertical-align: middle;\n",
       "    }\n",
       "\n",
       "    .dataframe tbody tr th {\n",
       "        vertical-align: top;\n",
       "    }\n",
       "\n",
       "    .dataframe thead th {\n",
       "        text-align: right;\n",
       "    }\n",
       "</style>\n",
       "<table border=\"1\" class=\"dataframe\">\n",
       "  <thead>\n",
       "    <tr style=\"text-align: right;\">\n",
       "      <th></th>\n",
       "      <th>transactionId</th>\n",
       "      <th>visitorId</th>\n",
       "      <th>date</th>\n",
       "      <th>revenue</th>\n",
       "      <th>group</th>\n",
       "    </tr>\n",
       "  </thead>\n",
       "  <tbody>\n",
       "    <tr>\n",
       "      <td>0</td>\n",
       "      <td>3667963787</td>\n",
       "      <td>3312258926</td>\n",
       "      <td>2019-08-15</td>\n",
       "      <td>1650</td>\n",
       "      <td>B</td>\n",
       "    </tr>\n",
       "    <tr>\n",
       "      <td>1</td>\n",
       "      <td>2804400009</td>\n",
       "      <td>3642806036</td>\n",
       "      <td>2019-08-15</td>\n",
       "      <td>730</td>\n",
       "      <td>B</td>\n",
       "    </tr>\n",
       "    <tr>\n",
       "      <td>2</td>\n",
       "      <td>2961555356</td>\n",
       "      <td>4069496402</td>\n",
       "      <td>2019-08-15</td>\n",
       "      <td>400</td>\n",
       "      <td>A</td>\n",
       "    </tr>\n",
       "    <tr>\n",
       "      <td>3</td>\n",
       "      <td>3797467345</td>\n",
       "      <td>1196621759</td>\n",
       "      <td>2019-08-15</td>\n",
       "      <td>9759</td>\n",
       "      <td>B</td>\n",
       "    </tr>\n",
       "    <tr>\n",
       "      <td>4</td>\n",
       "      <td>2282983706</td>\n",
       "      <td>2322279887</td>\n",
       "      <td>2019-08-15</td>\n",
       "      <td>2308</td>\n",
       "      <td>B</td>\n",
       "    </tr>\n",
       "    <tr>\n",
       "      <td>5</td>\n",
       "      <td>182168103</td>\n",
       "      <td>935554773</td>\n",
       "      <td>2019-08-15</td>\n",
       "      <td>2210</td>\n",
       "      <td>B</td>\n",
       "    </tr>\n",
       "    <tr>\n",
       "      <td>6</td>\n",
       "      <td>398296753</td>\n",
       "      <td>2900797465</td>\n",
       "      <td>2019-08-15</td>\n",
       "      <td>1860</td>\n",
       "      <td>B</td>\n",
       "    </tr>\n",
       "    <tr>\n",
       "      <td>7</td>\n",
       "      <td>2626614568</td>\n",
       "      <td>78758296</td>\n",
       "      <td>2019-08-15</td>\n",
       "      <td>1044</td>\n",
       "      <td>A</td>\n",
       "    </tr>\n",
       "    <tr>\n",
       "      <td>8</td>\n",
       "      <td>1576988021</td>\n",
       "      <td>295230930</td>\n",
       "      <td>2019-08-15</td>\n",
       "      <td>13710</td>\n",
       "      <td>A</td>\n",
       "    </tr>\n",
       "    <tr>\n",
       "      <td>9</td>\n",
       "      <td>1506739906</td>\n",
       "      <td>1882260405</td>\n",
       "      <td>2019-08-15</td>\n",
       "      <td>1855</td>\n",
       "      <td>B</td>\n",
       "    </tr>\n",
       "  </tbody>\n",
       "</table>\n",
       "</div>"
      ],
      "text/plain": [
       "   transactionId   visitorId       date  revenue group\n",
       "0     3667963787  3312258926 2019-08-15     1650     B\n",
       "1     2804400009  3642806036 2019-08-15      730     B\n",
       "2     2961555356  4069496402 2019-08-15      400     A\n",
       "3     3797467345  1196621759 2019-08-15     9759     B\n",
       "4     2282983706  2322279887 2019-08-15     2308     B\n",
       "5      182168103   935554773 2019-08-15     2210     B\n",
       "6      398296753  2900797465 2019-08-15     1860     B\n",
       "7     2626614568    78758296 2019-08-15     1044     A\n",
       "8     1576988021   295230930 2019-08-15    13710     A\n",
       "9     1506739906  1882260405 2019-08-15     1855     B"
      ]
     },
     "metadata": {},
     "output_type": "display_data"
    },
    {
     "data": {
      "text/plain": [
       "array([28000. , 58233.2])"
      ]
     },
     "execution_count": 22,
     "metadata": {},
     "output_type": "execute_result"
    }
   ],
   "source": [
    "display(orders.head(10))\n",
    "\n",
    "np.percentile(orders['revenue'], [95, 99]) "
   ]
  },
  {
   "cell_type": "markdown",
   "metadata": {},
   "source": [
    "Не более чем у 5% заказов чек больше 28000. У 1% заказов чек больше 58233."
   ]
  },
  {
   "cell_type": "markdown",
   "metadata": {},
   "source": [
    "### Статистическая значимость различий в конверсии между группами по «сырым» данным."
   ]
  },
  {
   "cell_type": "markdown",
   "metadata": {},
   "source": [
    "Сформулируем нулевую и альтернативную гипотезы.\n",
    "\n",
    "**Нулевая гипотеза** - статистически значимых различий между группами нет.\n",
    "**Альтернативная** - статистически значимые различия между группами есть."
   ]
  },
  {
   "cell_type": "code",
   "execution_count": 23,
   "metadata": {},
   "outputs": [
    {
     "data": {
      "text/html": [
       "<div>\n",
       "<style scoped>\n",
       "    .dataframe tbody tr th:only-of-type {\n",
       "        vertical-align: middle;\n",
       "    }\n",
       "\n",
       "    .dataframe tbody tr th {\n",
       "        vertical-align: top;\n",
       "    }\n",
       "\n",
       "    .dataframe thead th {\n",
       "        text-align: right;\n",
       "    }\n",
       "</style>\n",
       "<table border=\"1\" class=\"dataframe\">\n",
       "  <thead>\n",
       "    <tr style=\"text-align: right;\">\n",
       "      <th></th>\n",
       "      <th>date</th>\n",
       "      <th>ordersPerDateA</th>\n",
       "      <th>revenuePerDateA</th>\n",
       "      <th>ordersPerDateB</th>\n",
       "      <th>revenuePerDateB</th>\n",
       "      <th>ordersCummulativeA</th>\n",
       "      <th>revenueCummulativeA</th>\n",
       "      <th>ordersCummulativeB</th>\n",
       "      <th>revenueCummulativeB</th>\n",
       "      <th>visitorsPerDateA</th>\n",
       "      <th>visitorsPerDateB</th>\n",
       "      <th>visitorsCummulativeA</th>\n",
       "      <th>visitorsCummulativeB</th>\n",
       "    </tr>\n",
       "  </thead>\n",
       "  <tbody>\n",
       "    <tr>\n",
       "      <td>0</td>\n",
       "      <td>2019-08-01</td>\n",
       "      <td>24</td>\n",
       "      <td>148579</td>\n",
       "      <td>21</td>\n",
       "      <td>101217</td>\n",
       "      <td>24</td>\n",
       "      <td>148579</td>\n",
       "      <td>21</td>\n",
       "      <td>101217</td>\n",
       "      <td>719</td>\n",
       "      <td>713</td>\n",
       "      <td>719</td>\n",
       "      <td>713</td>\n",
       "    </tr>\n",
       "    <tr>\n",
       "      <td>1</td>\n",
       "      <td>2019-08-02</td>\n",
       "      <td>20</td>\n",
       "      <td>93822</td>\n",
       "      <td>24</td>\n",
       "      <td>165531</td>\n",
       "      <td>44</td>\n",
       "      <td>242401</td>\n",
       "      <td>45</td>\n",
       "      <td>266748</td>\n",
       "      <td>619</td>\n",
       "      <td>581</td>\n",
       "      <td>1338</td>\n",
       "      <td>1294</td>\n",
       "    </tr>\n",
       "    <tr>\n",
       "      <td>2</td>\n",
       "      <td>2019-08-03</td>\n",
       "      <td>24</td>\n",
       "      <td>112473</td>\n",
       "      <td>16</td>\n",
       "      <td>114248</td>\n",
       "      <td>68</td>\n",
       "      <td>354874</td>\n",
       "      <td>61</td>\n",
       "      <td>380996</td>\n",
       "      <td>507</td>\n",
       "      <td>509</td>\n",
       "      <td>1845</td>\n",
       "      <td>1803</td>\n",
       "    </tr>\n",
       "    <tr>\n",
       "      <td>3</td>\n",
       "      <td>2019-08-04</td>\n",
       "      <td>16</td>\n",
       "      <td>70825</td>\n",
       "      <td>17</td>\n",
       "      <td>108571</td>\n",
       "      <td>84</td>\n",
       "      <td>425699</td>\n",
       "      <td>78</td>\n",
       "      <td>489567</td>\n",
       "      <td>717</td>\n",
       "      <td>770</td>\n",
       "      <td>2562</td>\n",
       "      <td>2573</td>\n",
       "    </tr>\n",
       "    <tr>\n",
       "      <td>4</td>\n",
       "      <td>2019-08-05</td>\n",
       "      <td>25</td>\n",
       "      <td>124218</td>\n",
       "      <td>23</td>\n",
       "      <td>92428</td>\n",
       "      <td>109</td>\n",
       "      <td>549917</td>\n",
       "      <td>101</td>\n",
       "      <td>581995</td>\n",
       "      <td>756</td>\n",
       "      <td>707</td>\n",
       "      <td>3318</td>\n",
       "      <td>3280</td>\n",
       "    </tr>\n",
       "  </tbody>\n",
       "</table>\n",
       "</div>"
      ],
      "text/plain": [
       "        date  ordersPerDateA  revenuePerDateA  ordersPerDateB  \\\n",
       "0 2019-08-01              24           148579              21   \n",
       "1 2019-08-02              20            93822              24   \n",
       "2 2019-08-03              24           112473              16   \n",
       "3 2019-08-04              16            70825              17   \n",
       "4 2019-08-05              25           124218              23   \n",
       "\n",
       "   revenuePerDateB  ordersCummulativeA  revenueCummulativeA  \\\n",
       "0           101217                  24               148579   \n",
       "1           165531                  44               242401   \n",
       "2           114248                  68               354874   \n",
       "3           108571                  84               425699   \n",
       "4            92428                 109               549917   \n",
       "\n",
       "   ordersCummulativeB  revenueCummulativeB  visitorsPerDateA  \\\n",
       "0                  21               101217               719   \n",
       "1                  45               266748               619   \n",
       "2                  61               380996               507   \n",
       "3                  78               489567               717   \n",
       "4                 101               581995               756   \n",
       "\n",
       "   visitorsPerDateB  visitorsCummulativeA  visitorsCummulativeB  \n",
       "0               713                   719                   713  \n",
       "1               581                  1338                  1294  \n",
       "2               509                  1845                  1803  \n",
       "3               770                  2562                  2573  \n",
       "4               707                  3318                  3280  "
      ]
     },
     "metadata": {},
     "output_type": "display_data"
    },
    {
     "data": {
      "text/plain": [
       "'0.00840'"
      ]
     },
     "metadata": {},
     "output_type": "display_data"
    },
    {
     "data": {
      "text/plain": [
       "'0.138'"
      ]
     },
     "execution_count": 23,
     "metadata": {},
     "output_type": "execute_result"
    }
   ],
   "source": [
    "visitorsADaily = visitors[visitors['group'] == 'A'][['date', 'visitors']]\n",
    "visitorsADaily.columns = ['date', 'visitorsPerDateA']\n",
    "\n",
    "visitorsACummulative = visitorsADaily.apply(\n",
    "    lambda x: visitorsADaily[visitorsADaily['date'] <= x['date']].agg(\n",
    "        {'date': 'max', 'visitorsPerDateA': 'sum'}\n",
    "    ),\n",
    "    axis=1,\n",
    ")\n",
    "visitorsACummulative.columns = ['date', 'visitorsCummulativeA']\n",
    "\n",
    "visitorsBDaily = visitors[visitors['group'] == 'B'][['date', 'visitors']]\n",
    "visitorsBDaily.columns = ['date', 'visitorsPerDateB']\n",
    "\n",
    "visitorsBCummulative = visitorsBDaily.apply(\n",
    "    lambda x: visitorsBDaily[visitorsBDaily['date'] <= x['date']].agg(\n",
    "        {'date': 'max', 'visitorsPerDateB': 'sum'}\n",
    "    ),\n",
    "    axis=1,\n",
    ")\n",
    "visitorsBCummulative.columns = ['date', 'visitorsCummulativeB']\n",
    "\n",
    "ordersADaily = (\n",
    "    orders[orders['group'] == 'A'][['date', 'transactionId', 'visitorId', 'revenue']]\n",
    "    .groupby('date', as_index=False)\n",
    "    .agg({'transactionId': pd.Series.nunique, 'revenue': 'sum'})\n",
    ")\n",
    "ordersADaily.columns = ['date', 'ordersPerDateA', 'revenuePerDateA']\n",
    "\n",
    "ordersACummulative = ordersADaily.apply(\n",
    "    lambda x: ordersADaily[ordersADaily['date'] <= x['date']].agg(\n",
    "        {'date': 'max', 'ordersPerDateA': 'sum', 'revenuePerDateA': 'sum'}\n",
    "    ),\n",
    "    axis=1,\n",
    ").sort_values(by=['date'])\n",
    "ordersACummulative.columns = [\n",
    "    'date',\n",
    "    'ordersCummulativeA',\n",
    "    'revenueCummulativeA',\n",
    "]\n",
    "\n",
    "ordersBDaily = (\n",
    "    orders[orders['group'] == 'B'][['date', 'transactionId', 'visitorId', 'revenue']]\n",
    "    .groupby('date', as_index=False)\n",
    "    .agg({'transactionId': pd.Series.nunique, 'revenue': 'sum'})\n",
    ")\n",
    "ordersBDaily.columns = ['date', 'ordersPerDateB', 'revenuePerDateB']\n",
    "\n",
    "ordersBCummulative = ordersBDaily.apply(\n",
    "    lambda x: ordersBDaily[ordersBDaily['date'] <= x['date']].agg(\n",
    "        {'date': 'max', 'ordersPerDateB': 'sum', 'revenuePerDateB': 'sum'}\n",
    "    ),\n",
    "    axis=1,\n",
    ").sort_values(by=['date'])\n",
    "ordersBCummulative.columns = [\n",
    "    'date',\n",
    "    'ordersCummulativeB',\n",
    "    'revenueCummulativeB',\n",
    "]\n",
    "\n",
    "data = (\n",
    "    ordersADaily.merge(\n",
    "        ordersBDaily, left_on='date', right_on='date', how='left'\n",
    "    )\n",
    "    .merge(ordersACummulative, left_on='date', right_on='date', how='left')\n",
    "    .merge(ordersBCummulative, left_on='date', right_on='date', how='left')\n",
    "    .merge(visitorsADaily, left_on='date', right_on='date', how='left')\n",
    "    .merge(visitorsBDaily, left_on='date', right_on='date', how='left')\n",
    "    .merge(visitorsACummulative, left_on='date', right_on='date', how='left')\n",
    "    .merge(visitorsBCummulative, left_on='date', right_on='date', how='left')\n",
    ")\n",
    "\n",
    "display(data.head(5))\n",
    "\n",
    "ordersByUsersA = (\n",
    "    orders[orders['group'] == 'A']\n",
    "    .groupby('visitorId', as_index=False)\n",
    "    .agg({'transactionId': pd.Series.nunique})\n",
    ")\n",
    "ordersByUsersA.columns = ['visitorId', 'orders']\n",
    "\n",
    "ordersByUsersB = (\n",
    "    orders[orders['group'] == 'B']\n",
    "    .groupby('visitorId', as_index=False)\n",
    "    .agg({'transactionId': pd.Series.nunique})\n",
    ")\n",
    "ordersByUsersB.columns = ['visitorId', 'orders'] \n",
    "\n",
    "sampleA = pd.concat(\n",
    "    [\n",
    "        ordersByUsersA['orders'],\n",
    "        pd.Series(\n",
    "            0,\n",
    "            index=np.arange(\n",
    "                data['visitorsPerDateA'].sum() - len(ordersByUsersA['orders'])\n",
    "            ),\n",
    "            name='orders',\n",
    "        ),\n",
    "    ],\n",
    "    axis=0,\n",
    ")\n",
    "\n",
    "sampleB = pd.concat(\n",
    "    [\n",
    "        ordersByUsersB['orders'],\n",
    "        pd.Series(\n",
    "            0,\n",
    "            index=np.arange(\n",
    "                data['visitorsPerDateB'].sum() - len(ordersByUsersB['orders'])\n",
    "            ),\n",
    "            name='orders',\n",
    "        ),\n",
    "    ],\n",
    "    axis=0,\n",
    ")\n",
    "\n",
    "display(\"{0:.5f}\".format(stats.mannwhitneyu(sampleA, sampleB)[1]))\n",
    " \n",
    "\"{0:.3f}\".format((data['ordersPerDateB'].sum()/data['visitorsPerDateB'].sum())/(data['ordersPerDateA'].sum()/data['visitorsPerDateA'].sum())-1)"
   ]
  },
  {
   "cell_type": "markdown",
   "metadata": {},
   "source": [
    "Значение p-value намного  меньше 5%. Нулевую гипотезу можно отвергнуть в том смысле, что анализ \"сырых данных\" показывает, что в конверсии между группами есть значимые раздичия. Относительный прирост конверсии сегмента В по отношению к конверсии сегмента А составляет 13.8%."
   ]
  },
  {
   "cell_type": "markdown",
   "metadata": {},
   "source": [
    "### Статистическая значимость различий в среднем чеке заказа между группами по «сырым» данным."
   ]
  },
  {
   "cell_type": "markdown",
   "metadata": {},
   "source": [
    "На данном шаге также объявим гипотезы:\n",
    "\n",
    "**Нулевая** - статистически значимых различий в плане среднего чека заказов между группами нет.\n",
    "**Альтернативная** - статистически значимые различия в плане среднего чека между группами есть."
   ]
  },
  {
   "cell_type": "code",
   "execution_count": 24,
   "metadata": {},
   "outputs": [
    {
     "data": {
      "text/plain": [
       "'0.365'"
      ]
     },
     "metadata": {},
     "output_type": "display_data"
    },
    {
     "data": {
      "text/plain": [
       "'0.259'"
      ]
     },
     "execution_count": 24,
     "metadata": {},
     "output_type": "execute_result"
    }
   ],
   "source": [
    "display('{0:.3f}'.format(stats.mannwhitneyu(orders[orders['group']=='A']['revenue'], orders[orders['group']=='B']['revenue'])[1]))\n",
    "'{0:.3f}'.format(orders[orders['group']=='B']['revenue'].mean()/orders[orders['group']=='A']['revenue'].mean()-1)"
   ]
  },
  {
   "cell_type": "markdown",
   "metadata": {},
   "source": [
    "P-value намного больше 5%, значит значимых различий в среднем чеке между группами нет. Однако прирост среднего чека группы В составляет 25%."
   ]
  },
  {
   "cell_type": "markdown",
   "metadata": {},
   "source": [
    "### Статистическая значимость различий в конверсии между группами по «очищенным» данным."
   ]
  },
  {
   "cell_type": "code",
   "execution_count": 25,
   "metadata": {},
   "outputs": [
    {
     "data": {
      "text/plain": [
       "'0.01147'"
      ]
     },
     "metadata": {},
     "output_type": "display_data"
    },
    {
     "data": {
      "text/plain": [
       "'0.149'"
      ]
     },
     "execution_count": 25,
     "metadata": {},
     "output_type": "execute_result"
    }
   ],
   "source": [
    "usersWithManyOrders = pd.concat(\n",
    "    [\n",
    "        ordersByUsersA[ordersByUsersA['orders'] > 4]['visitorId'],\n",
    "        ordersByUsersB[ordersByUsersB['orders'] > 4]['visitorId'],\n",
    "    ],\n",
    "    axis=0,\n",
    ")\n",
    "usersWithExpensiveOrders = orders[orders['revenue'] > 20000]['visitorId']\n",
    "abnormalUsers = (\n",
    "    pd.concat([usersWithManyOrders, usersWithExpensiveOrders], axis=0)\n",
    "    .drop_duplicates()\n",
    "    .sort_values()\n",
    ")\n",
    "\n",
    "sampleAFiltered = pd.concat(\n",
    "    [\n",
    "        ordersByUsersA[\n",
    "            np.logical_not(ordersByUsersA['visitorId'].isin(abnormalUsers))\n",
    "        ]['orders'],\n",
    "        pd.Series(\n",
    "            0,\n",
    "            index=np.arange(\n",
    "                data['visitorsPerDateA'].sum() - len(ordersByUsersA['orders'])\n",
    "            ),\n",
    "            name='orders',\n",
    "        ),\n",
    "    ],\n",
    "    axis=0,\n",
    ")\n",
    "\n",
    "sampleBFiltered = pd.concat(\n",
    "    [\n",
    "        ordersByUsersB[\n",
    "            np.logical_not(ordersByUsersB['visitorId'].isin(abnormalUsers))\n",
    "        ]['orders'],\n",
    "        pd.Series(\n",
    "            0,\n",
    "            index=np.arange(\n",
    "                data['visitorsPerDateB'].sum() - len(ordersByUsersB['orders'])\n",
    "            ),\n",
    "            name='orders',\n",
    "        ),\n",
    "    ],\n",
    "    axis=0,\n",
    ") \n",
    "\n",
    "display('{0:.5f}'.format(stats.mannwhitneyu(sampleAFiltered, sampleBFiltered)[1]))\n",
    "'{0:.3f}'.format(sampleBFiltered.mean()/sampleAFiltered.mean()-1)"
   ]
  },
  {
   "cell_type": "markdown",
   "metadata": {},
   "source": [
    "Проверка коэффициентов по \"очищенным\" практически не отличается от проверки по \"сырым\". Сегмент В показывает себя лучше сегмента А."
   ]
  },
  {
   "cell_type": "markdown",
   "metadata": {},
   "source": [
    "### Статистическая значимость различий в среднем чеке заказа между группами по «очищенным» данным."
   ]
  },
  {
   "cell_type": "code",
   "execution_count": 26,
   "metadata": {},
   "outputs": [
    {
     "data": {
      "text/plain": [
       "'0.433'"
      ]
     },
     "metadata": {},
     "output_type": "display_data"
    },
    {
     "data": {
      "text/plain": [
       "'-0.002'"
      ]
     },
     "metadata": {},
     "output_type": "display_data"
    }
   ],
   "source": [
    "display(\n",
    "    '{0:.3f}'.format(\n",
    "        stats.mannwhitneyu(\n",
    "            orders[\n",
    "                np.logical_and(\n",
    "                    orders['group'] == 'A',\n",
    "                    np.logical_not(orders['visitorId'].isin(abnormalUsers)),\n",
    "                )\n",
    "            ]['revenue'],\n",
    "            orders[\n",
    "                np.logical_and(\n",
    "                    orders['group'] == 'B',\n",
    "                    np.logical_not(orders['visitorId'].isin(abnormalUsers)),\n",
    "                )\n",
    "            ]['revenue'],\n",
    "        )[1]\n",
    "    )\n",
    ")\n",
    "\n",
    "display(\n",
    "    \"{0:.3f}\".format(\n",
    "        orders[\n",
    "            np.logical_and(\n",
    "                orders['group'] == 'B',\n",
    "                np.logical_not(orders['visitorId'].isin(abnormalUsers)),\n",
    "            )\n",
    "        ]['revenue'].mean()\n",
    "        / orders[\n",
    "            np.logical_and(\n",
    "                orders['group'] == 'A',\n",
    "                np.logical_not(orders['visitorId'].isin(abnormalUsers)),\n",
    "            )\n",
    "        ]['revenue'].mean()\n",
    "        - 1\n",
    "    )\n",
    ") "
   ]
  },
  {
   "cell_type": "markdown",
   "metadata": {},
   "source": [
    "P-value увеличился а статистическое различие между группами снизилось."
   ]
  },
  {
   "cell_type": "markdown",
   "metadata": {},
   "source": [
    "<div class=\"alert alert-success\">\n",
    "\n",
    "<b>✔️ Комментарий ревьюера:</b> По \"сырым\" данным сегмент B вел по среднему чеку на 26%, а теперь он проигрывает на 2%. Но при этом в обоих случаях эта разница статистически незначима\n",
    "\n",
    "</div>"
   ]
  },
  {
   "cell_type": "markdown",
   "metadata": {},
   "source": [
    "## Вывод."
   ]
  },
  {
   "cell_type": "markdown",
   "metadata": {},
   "source": [
    "Судя по \"чистым\" результатам теста можно сказать что статистически значимого различия между группами нет. Следовательно, можно сделать вывод, что **A/B-тест можно заврешить, так как по чистым данным различий между группами нет**."
   ]
  }
 ],
 "metadata": {
  "ExecuteTimeLog": [
   {
    "duration": 1396,
    "start_time": "2022-02-22T05:15:51.890Z"
   },
   {
    "duration": 34,
    "start_time": "2022-02-22T05:16:39.812Z"
   },
   {
    "duration": 408,
    "start_time": "2022-02-22T05:20:25.290Z"
   },
   {
    "duration": 47,
    "start_time": "2022-02-22T05:20:32.779Z"
   },
   {
    "duration": 8,
    "start_time": "2022-02-22T05:21:18.658Z"
   },
   {
    "duration": 9,
    "start_time": "2022-02-22T05:21:52.340Z"
   },
   {
    "duration": 13,
    "start_time": "2022-02-22T05:22:55.938Z"
   },
   {
    "duration": 18,
    "start_time": "2022-02-22T05:23:24.041Z"
   },
   {
    "duration": 1401,
    "start_time": "2022-02-22T05:32:43.850Z"
   },
   {
    "duration": 32,
    "start_time": "2022-02-22T05:32:45.254Z"
   },
   {
    "duration": 6,
    "start_time": "2022-02-22T05:32:45.289Z"
   },
   {
    "duration": 51,
    "start_time": "2022-02-22T05:32:45.297Z"
   },
   {
    "duration": 7,
    "start_time": "2022-02-22T05:32:45.351Z"
   },
   {
    "duration": 11,
    "start_time": "2022-02-22T05:32:45.360Z"
   },
   {
    "duration": 29,
    "start_time": "2022-02-22T05:32:45.374Z"
   },
   {
    "duration": 19,
    "start_time": "2022-02-22T05:32:45.408Z"
   },
   {
    "duration": 86,
    "start_time": "2022-02-22T05:32:45.430Z"
   },
   {
    "duration": 20,
    "start_time": "2022-02-22T05:32:54.669Z"
   },
   {
    "duration": 13,
    "start_time": "2022-02-22T05:37:17.293Z"
   },
   {
    "duration": 14,
    "start_time": "2022-02-22T05:46:42.779Z"
   },
   {
    "duration": 1478,
    "start_time": "2022-02-22T05:47:01.217Z"
   },
   {
    "duration": 31,
    "start_time": "2022-02-22T05:47:02.698Z"
   },
   {
    "duration": 4,
    "start_time": "2022-02-22T05:47:02.733Z"
   },
   {
    "duration": 64,
    "start_time": "2022-02-22T05:47:02.741Z"
   },
   {
    "duration": 11,
    "start_time": "2022-02-22T05:47:02.809Z"
   },
   {
    "duration": 16,
    "start_time": "2022-02-22T05:47:02.822Z"
   },
   {
    "duration": 58,
    "start_time": "2022-02-22T05:47:02.841Z"
   },
   {
    "duration": 12,
    "start_time": "2022-02-22T05:47:02.901Z"
   },
   {
    "duration": 8,
    "start_time": "2022-02-22T05:47:02.918Z"
   },
   {
    "duration": 67,
    "start_time": "2022-02-22T05:47:02.928Z"
   },
   {
    "duration": 13,
    "start_time": "2022-02-22T05:47:02.998Z"
   },
   {
    "duration": 10,
    "start_time": "2022-02-22T05:48:23.770Z"
   },
   {
    "duration": 10,
    "start_time": "2022-02-22T05:49:14.559Z"
   },
   {
    "duration": 1399,
    "start_time": "2022-02-22T06:11:01.458Z"
   },
   {
    "duration": 940,
    "start_time": "2022-02-22T06:11:30.860Z"
   },
   {
    "duration": 512,
    "start_time": "2022-02-22T06:19:07.444Z"
   },
   {
    "duration": 447,
    "start_time": "2022-02-22T06:23:34.876Z"
   },
   {
    "duration": 11,
    "start_time": "2022-02-22T06:30:04.663Z"
   },
   {
    "duration": 15,
    "start_time": "2022-02-22T06:30:54.455Z"
   },
   {
    "duration": 348,
    "start_time": "2022-02-22T06:31:30.483Z"
   },
   {
    "duration": 421,
    "start_time": "2022-02-22T06:41:15.773Z"
   },
   {
    "duration": 442,
    "start_time": "2022-02-22T06:41:52.592Z"
   },
   {
    "duration": 288,
    "start_time": "2022-02-22T06:46:05.679Z"
   },
   {
    "duration": 739,
    "start_time": "2022-02-22T06:46:22.373Z"
   },
   {
    "duration": 5,
    "start_time": "2022-02-22T06:49:34.082Z"
   },
   {
    "duration": 16,
    "start_time": "2022-02-22T06:50:06.421Z"
   },
   {
    "duration": 15,
    "start_time": "2022-02-22T07:31:39.663Z"
   },
   {
    "duration": 425,
    "start_time": "2022-02-22T07:35:12.133Z"
   },
   {
    "duration": 11,
    "start_time": "2022-02-22T07:37:56.841Z"
   },
   {
    "duration": 12,
    "start_time": "2022-02-22T07:38:06.121Z"
   },
   {
    "duration": 528,
    "start_time": "2022-02-22T07:46:21.028Z"
   },
   {
    "duration": 945,
    "start_time": "2022-02-22T07:48:27.380Z"
   },
   {
    "duration": 17,
    "start_time": "2022-02-22T08:01:20.387Z"
   },
   {
    "duration": 28,
    "start_time": "2022-02-22T08:14:01.752Z"
   },
   {
    "duration": 44,
    "start_time": "2022-02-22T08:16:14.412Z"
   },
   {
    "duration": 29,
    "start_time": "2022-02-22T08:16:32.073Z"
   },
   {
    "duration": 27,
    "start_time": "2022-02-22T08:18:03.629Z"
   },
   {
    "duration": 7504,
    "start_time": "2022-02-22T08:22:02.409Z"
   },
   {
    "duration": 37,
    "start_time": "2022-02-22T08:22:38.630Z"
   },
   {
    "duration": 33,
    "start_time": "2022-02-22T08:39:03.760Z"
   },
   {
    "duration": 26,
    "start_time": "2022-02-22T08:39:11.338Z"
   },
   {
    "duration": 11,
    "start_time": "2022-02-22T08:42:10.318Z"
   },
   {
    "duration": 28,
    "start_time": "2022-02-22T08:42:30.167Z"
   },
   {
    "duration": 1400,
    "start_time": "2022-02-22T08:50:55.300Z"
   },
   {
    "duration": 41,
    "start_time": "2022-02-22T08:50:56.703Z"
   },
   {
    "duration": 5,
    "start_time": "2022-02-22T08:50:56.747Z"
   },
   {
    "duration": 81,
    "start_time": "2022-02-22T08:50:56.755Z"
   },
   {
    "duration": 8,
    "start_time": "2022-02-22T08:50:56.839Z"
   },
   {
    "duration": 15,
    "start_time": "2022-02-22T08:50:56.850Z"
   },
   {
    "duration": 35,
    "start_time": "2022-02-22T08:50:56.867Z"
   },
   {
    "duration": 17,
    "start_time": "2022-02-22T08:50:56.906Z"
   },
   {
    "duration": 13,
    "start_time": "2022-02-22T08:50:56.929Z"
   },
   {
    "duration": 55,
    "start_time": "2022-02-22T08:50:56.947Z"
   },
   {
    "duration": 28,
    "start_time": "2022-02-22T08:50:57.005Z"
   },
   {
    "duration": 24,
    "start_time": "2022-02-22T08:50:57.036Z"
   },
   {
    "duration": 46,
    "start_time": "2022-02-22T08:50:57.062Z"
   },
   {
    "duration": 970,
    "start_time": "2022-02-22T08:50:57.111Z"
   },
   {
    "duration": 340,
    "start_time": "2022-02-22T08:50:58.084Z"
   },
   {
    "duration": 503,
    "start_time": "2022-02-22T08:50:58.427Z"
   },
   {
    "duration": 360,
    "start_time": "2022-02-22T08:50:58.933Z"
   },
   {
    "duration": 460,
    "start_time": "2022-02-22T08:50:59.296Z"
   },
   {
    "duration": 616,
    "start_time": "2022-02-22T08:50:59.758Z"
   },
   {
    "duration": 26,
    "start_time": "2022-02-22T08:51:00.378Z"
   },
   {
    "duration": 431,
    "start_time": "2022-02-22T08:51:00.407Z"
   },
   {
    "duration": 21,
    "start_time": "2022-02-22T08:51:00.840Z"
   },
   {
    "duration": 1146,
    "start_time": "2022-02-22T08:51:00.865Z"
   },
   {
    "duration": 26,
    "start_time": "2022-02-22T08:51:02.014Z"
   },
   {
    "duration": 80,
    "start_time": "2022-02-22T08:51:02.042Z"
   },
   {
    "duration": 49,
    "start_time": "2022-02-22T08:51:02.125Z"
   },
   {
    "duration": 1373,
    "start_time": "2022-02-22T14:03:34.257Z"
   },
   {
    "duration": 32,
    "start_time": "2022-02-22T14:03:35.633Z"
   },
   {
    "duration": 14,
    "start_time": "2022-02-22T14:03:35.668Z"
   },
   {
    "duration": 58,
    "start_time": "2022-02-22T14:03:35.685Z"
   },
   {
    "duration": 9,
    "start_time": "2022-02-22T14:03:35.745Z"
   },
   {
    "duration": 23,
    "start_time": "2022-02-22T14:03:35.756Z"
   },
   {
    "duration": 32,
    "start_time": "2022-02-22T14:03:35.782Z"
   },
   {
    "duration": 23,
    "start_time": "2022-02-22T14:03:35.818Z"
   },
   {
    "duration": 9,
    "start_time": "2022-02-22T14:03:35.844Z"
   },
   {
    "duration": 19,
    "start_time": "2022-02-22T14:03:35.855Z"
   },
   {
    "duration": 10,
    "start_time": "2022-02-22T14:03:35.877Z"
   },
   {
    "duration": 49,
    "start_time": "2022-02-22T14:03:35.890Z"
   },
   {
    "duration": 14,
    "start_time": "2022-02-22T14:03:35.941Z"
   },
   {
    "duration": 957,
    "start_time": "2022-02-22T14:03:35.958Z"
   },
   {
    "duration": 355,
    "start_time": "2022-02-22T14:03:36.918Z"
   },
   {
    "duration": 461,
    "start_time": "2022-02-22T14:03:37.275Z"
   },
   {
    "duration": 340,
    "start_time": "2022-02-22T14:03:37.739Z"
   },
   {
    "duration": 485,
    "start_time": "2022-02-22T14:03:38.081Z"
   },
   {
    "duration": 577,
    "start_time": "2022-02-22T14:03:38.569Z"
   },
   {
    "duration": 14,
    "start_time": "2022-02-22T14:03:39.148Z"
   },
   {
    "duration": 417,
    "start_time": "2022-02-22T14:03:39.165Z"
   },
   {
    "duration": -7604,
    "start_time": "2022-02-22T14:03:47.189Z"
   },
   {
    "duration": -7610,
    "start_time": "2022-02-22T14:03:47.197Z"
   },
   {
    "duration": -7615,
    "start_time": "2022-02-22T14:03:47.203Z"
   },
   {
    "duration": -7620,
    "start_time": "2022-02-22T14:03:47.209Z"
   },
   {
    "duration": -7624,
    "start_time": "2022-02-22T14:03:47.215Z"
   },
   {
    "duration": 1365,
    "start_time": "2022-02-22T14:09:38.581Z"
   },
   {
    "duration": 32,
    "start_time": "2022-02-22T14:09:39.949Z"
   },
   {
    "duration": 5,
    "start_time": "2022-02-22T14:09:39.988Z"
   },
   {
    "duration": 59,
    "start_time": "2022-02-22T14:09:39.996Z"
   },
   {
    "duration": 9,
    "start_time": "2022-02-22T14:09:40.057Z"
   },
   {
    "duration": 15,
    "start_time": "2022-02-22T14:09:40.069Z"
   },
   {
    "duration": 37,
    "start_time": "2022-02-22T14:09:40.088Z"
   },
   {
    "duration": 14,
    "start_time": "2022-02-22T14:09:40.129Z"
   },
   {
    "duration": 10,
    "start_time": "2022-02-22T14:09:40.145Z"
   },
   {
    "duration": 14,
    "start_time": "2022-02-22T14:09:40.157Z"
   },
   {
    "duration": 52,
    "start_time": "2022-02-22T14:09:40.174Z"
   },
   {
    "duration": 18,
    "start_time": "2022-02-22T14:09:40.229Z"
   },
   {
    "duration": 15,
    "start_time": "2022-02-22T14:09:40.249Z"
   },
   {
    "duration": 963,
    "start_time": "2022-02-22T14:09:40.266Z"
   },
   {
    "duration": 337,
    "start_time": "2022-02-22T14:09:41.231Z"
   },
   {
    "duration": 464,
    "start_time": "2022-02-22T14:09:41.571Z"
   },
   {
    "duration": 346,
    "start_time": "2022-02-22T14:09:42.038Z"
   },
   {
    "duration": 458,
    "start_time": "2022-02-22T14:09:42.387Z"
   },
   {
    "duration": 573,
    "start_time": "2022-02-22T14:09:42.847Z"
   },
   {
    "duration": 14,
    "start_time": "2022-02-22T14:09:43.427Z"
   },
   {
    "duration": 92,
    "start_time": "2022-02-22T14:09:43.443Z"
   },
   {
    "duration": -7601,
    "start_time": "2022-02-22T14:09:51.139Z"
   },
   {
    "duration": -7606,
    "start_time": "2022-02-22T14:09:51.146Z"
   },
   {
    "duration": -7610,
    "start_time": "2022-02-22T14:09:51.151Z"
   },
   {
    "duration": -7614,
    "start_time": "2022-02-22T14:09:51.156Z"
   },
   {
    "duration": -7620,
    "start_time": "2022-02-22T14:09:51.163Z"
   },
   {
    "duration": 1445,
    "start_time": "2022-02-22T14:10:30.971Z"
   },
   {
    "duration": 28,
    "start_time": "2022-02-22T14:10:32.419Z"
   },
   {
    "duration": 6,
    "start_time": "2022-02-22T14:10:32.450Z"
   },
   {
    "duration": 52,
    "start_time": "2022-02-22T14:10:32.459Z"
   },
   {
    "duration": 16,
    "start_time": "2022-02-22T14:10:32.514Z"
   },
   {
    "duration": 16,
    "start_time": "2022-02-22T14:10:32.533Z"
   },
   {
    "duration": 16,
    "start_time": "2022-02-22T14:10:32.551Z"
   },
   {
    "duration": 12,
    "start_time": "2022-02-22T14:10:32.570Z"
   },
   {
    "duration": 43,
    "start_time": "2022-02-22T14:10:32.586Z"
   },
   {
    "duration": 15,
    "start_time": "2022-02-22T14:10:32.633Z"
   },
   {
    "duration": 11,
    "start_time": "2022-02-22T14:10:32.650Z"
   },
   {
    "duration": 19,
    "start_time": "2022-02-22T14:10:32.663Z"
   },
   {
    "duration": 41,
    "start_time": "2022-02-22T14:10:32.684Z"
   },
   {
    "duration": 1104,
    "start_time": "2022-02-22T14:10:32.728Z"
   },
   {
    "duration": 359,
    "start_time": "2022-02-22T14:10:33.835Z"
   },
   {
    "duration": 437,
    "start_time": "2022-02-22T14:10:34.197Z"
   },
   {
    "duration": 345,
    "start_time": "2022-02-22T14:10:34.637Z"
   },
   {
    "duration": 480,
    "start_time": "2022-02-22T14:10:34.985Z"
   },
   {
    "duration": 640,
    "start_time": "2022-02-22T14:10:35.468Z"
   },
   {
    "duration": 24,
    "start_time": "2022-02-22T14:10:36.110Z"
   },
   {
    "duration": 536,
    "start_time": "2022-02-22T14:10:36.136Z"
   },
   {
    "duration": 17,
    "start_time": "2022-02-22T14:10:36.674Z"
   },
   {
    "duration": 704,
    "start_time": "2022-02-22T14:10:36.694Z"
   },
   {
    "duration": 31,
    "start_time": "2022-02-22T14:10:37.401Z"
   },
   {
    "duration": 29,
    "start_time": "2022-02-22T14:10:37.434Z"
   },
   {
    "duration": 22,
    "start_time": "2022-02-22T14:10:37.465Z"
   },
   {
    "duration": 1460,
    "start_time": "2022-02-22T14:12:49.571Z"
   },
   {
    "duration": 26,
    "start_time": "2022-02-22T14:12:51.033Z"
   },
   {
    "duration": 5,
    "start_time": "2022-02-22T14:12:51.066Z"
   },
   {
    "duration": 52,
    "start_time": "2022-02-22T14:12:51.074Z"
   },
   {
    "duration": 7,
    "start_time": "2022-02-22T14:12:51.128Z"
   },
   {
    "duration": 9,
    "start_time": "2022-02-22T14:12:51.138Z"
   },
   {
    "duration": 12,
    "start_time": "2022-02-22T14:12:51.151Z"
   },
   {
    "duration": 64,
    "start_time": "2022-02-22T14:12:51.167Z"
   },
   {
    "duration": 9,
    "start_time": "2022-02-22T14:12:51.233Z"
   },
   {
    "duration": 14,
    "start_time": "2022-02-22T14:12:51.245Z"
   },
   {
    "duration": 14,
    "start_time": "2022-02-22T14:12:51.262Z"
   },
   {
    "duration": 52,
    "start_time": "2022-02-22T14:12:51.279Z"
   },
   {
    "duration": 13,
    "start_time": "2022-02-22T14:12:51.334Z"
   },
   {
    "duration": 980,
    "start_time": "2022-02-22T14:12:51.350Z"
   },
   {
    "duration": 332,
    "start_time": "2022-02-22T14:12:52.332Z"
   },
   {
    "duration": 497,
    "start_time": "2022-02-22T14:12:52.667Z"
   },
   {
    "duration": 333,
    "start_time": "2022-02-22T14:12:53.166Z"
   },
   {
    "duration": 452,
    "start_time": "2022-02-22T14:12:53.501Z"
   },
   {
    "duration": 568,
    "start_time": "2022-02-22T14:12:53.955Z"
   },
   {
    "duration": 15,
    "start_time": "2022-02-22T14:12:54.526Z"
   },
   {
    "duration": 543,
    "start_time": "2022-02-22T14:12:54.544Z"
   },
   {
    "duration": 33,
    "start_time": "2022-02-22T14:12:55.093Z"
   },
   {
    "duration": 706,
    "start_time": "2022-02-22T14:12:55.129Z"
   },
   {
    "duration": 17,
    "start_time": "2022-02-22T14:12:55.837Z"
   },
   {
    "duration": 31,
    "start_time": "2022-02-22T14:12:55.856Z"
   },
   {
    "duration": 56,
    "start_time": "2022-02-22T14:12:55.890Z"
   },
   {
    "duration": 1381,
    "start_time": "2022-02-22T14:16:41.346Z"
   },
   {
    "duration": 26,
    "start_time": "2022-02-22T14:16:42.730Z"
   },
   {
    "duration": 7,
    "start_time": "2022-02-22T14:16:42.759Z"
   },
   {
    "duration": 50,
    "start_time": "2022-02-22T14:16:42.769Z"
   },
   {
    "duration": 9,
    "start_time": "2022-02-22T14:16:42.826Z"
   },
   {
    "duration": 10,
    "start_time": "2022-02-22T14:16:42.838Z"
   },
   {
    "duration": 13,
    "start_time": "2022-02-22T14:16:42.851Z"
   },
   {
    "duration": 13,
    "start_time": "2022-02-22T14:16:42.868Z"
   },
   {
    "duration": 9,
    "start_time": "2022-02-22T14:16:42.926Z"
   },
   {
    "duration": 11,
    "start_time": "2022-02-22T14:16:42.938Z"
   },
   {
    "duration": 15,
    "start_time": "2022-02-22T14:16:42.951Z"
   },
   {
    "duration": 23,
    "start_time": "2022-02-22T14:16:42.968Z"
   },
   {
    "duration": 43,
    "start_time": "2022-02-22T14:16:42.993Z"
   },
   {
    "duration": 981,
    "start_time": "2022-02-22T14:16:43.038Z"
   },
   {
    "duration": 344,
    "start_time": "2022-02-22T14:16:44.026Z"
   },
   {
    "duration": 460,
    "start_time": "2022-02-22T14:16:44.373Z"
   },
   {
    "duration": 340,
    "start_time": "2022-02-22T14:16:44.835Z"
   },
   {
    "duration": 478,
    "start_time": "2022-02-22T14:16:45.179Z"
   },
   {
    "duration": 594,
    "start_time": "2022-02-22T14:16:45.660Z"
   },
   {
    "duration": 15,
    "start_time": "2022-02-22T14:16:46.256Z"
   },
   {
    "duration": 600,
    "start_time": "2022-02-22T14:16:46.274Z"
   },
   {
    "duration": 17,
    "start_time": "2022-02-22T14:16:46.876Z"
   },
   {
    "duration": 784,
    "start_time": "2022-02-22T14:16:46.897Z"
   },
   {
    "duration": 43,
    "start_time": "2022-02-22T14:16:47.684Z"
   },
   {
    "duration": 32,
    "start_time": "2022-02-22T14:16:47.730Z"
   },
   {
    "duration": 23,
    "start_time": "2022-02-22T14:16:47.764Z"
   },
   {
    "duration": 1464,
    "start_time": "2022-02-22T14:17:17.728Z"
   },
   {
    "duration": 26,
    "start_time": "2022-02-22T14:17:19.195Z"
   },
   {
    "duration": 6,
    "start_time": "2022-02-22T14:17:19.224Z"
   },
   {
    "duration": 48,
    "start_time": "2022-02-22T14:17:19.233Z"
   },
   {
    "duration": 8,
    "start_time": "2022-02-22T14:17:19.283Z"
   },
   {
    "duration": 15,
    "start_time": "2022-02-22T14:17:19.293Z"
   },
   {
    "duration": 24,
    "start_time": "2022-02-22T14:17:19.310Z"
   },
   {
    "duration": 13,
    "start_time": "2022-02-22T14:17:19.338Z"
   },
   {
    "duration": 9,
    "start_time": "2022-02-22T14:17:19.354Z"
   },
   {
    "duration": 14,
    "start_time": "2022-02-22T14:17:19.365Z"
   },
   {
    "duration": 9,
    "start_time": "2022-02-22T14:17:19.382Z"
   },
   {
    "duration": 26,
    "start_time": "2022-02-22T14:17:19.393Z"
   },
   {
    "duration": 12,
    "start_time": "2022-02-22T14:17:19.421Z"
   },
   {
    "duration": 1211,
    "start_time": "2022-02-22T14:17:19.437Z"
   },
   {
    "duration": 335,
    "start_time": "2022-02-22T14:17:20.650Z"
   },
   {
    "duration": 543,
    "start_time": "2022-02-22T14:17:20.988Z"
   },
   {
    "duration": 352,
    "start_time": "2022-02-22T14:17:21.534Z"
   },
   {
    "duration": 455,
    "start_time": "2022-02-22T14:17:21.889Z"
   },
   {
    "duration": 582,
    "start_time": "2022-02-22T14:17:22.347Z"
   },
   {
    "duration": 16,
    "start_time": "2022-02-22T14:17:22.931Z"
   },
   {
    "duration": 600,
    "start_time": "2022-02-22T14:17:22.949Z"
   },
   {
    "duration": 17,
    "start_time": "2022-02-22T14:17:23.551Z"
   },
   {
    "duration": 704,
    "start_time": "2022-02-22T14:17:23.572Z"
   },
   {
    "duration": 17,
    "start_time": "2022-02-22T14:17:24.279Z"
   },
   {
    "duration": 51,
    "start_time": "2022-02-22T14:17:24.299Z"
   },
   {
    "duration": 23,
    "start_time": "2022-02-22T14:17:24.352Z"
   },
   {
    "duration": 1534,
    "start_time": "2022-02-22T14:18:21.775Z"
   },
   {
    "duration": 28,
    "start_time": "2022-02-22T14:18:23.312Z"
   },
   {
    "duration": 18,
    "start_time": "2022-02-22T14:18:23.345Z"
   },
   {
    "duration": 57,
    "start_time": "2022-02-22T14:18:23.366Z"
   },
   {
    "duration": 9,
    "start_time": "2022-02-22T14:18:23.426Z"
   },
   {
    "duration": 21,
    "start_time": "2022-02-22T14:18:23.437Z"
   },
   {
    "duration": 13,
    "start_time": "2022-02-22T14:18:23.460Z"
   },
   {
    "duration": 50,
    "start_time": "2022-02-22T14:18:23.478Z"
   },
   {
    "duration": 9,
    "start_time": "2022-02-22T14:18:23.533Z"
   },
   {
    "duration": 11,
    "start_time": "2022-02-22T14:18:23.544Z"
   },
   {
    "duration": 11,
    "start_time": "2022-02-22T14:18:23.558Z"
   },
   {
    "duration": 59,
    "start_time": "2022-02-22T14:18:23.572Z"
   },
   {
    "duration": 14,
    "start_time": "2022-02-22T14:18:23.633Z"
   },
   {
    "duration": 1491,
    "start_time": "2022-02-22T14:18:23.650Z"
   },
   {
    "duration": 477,
    "start_time": "2022-02-22T14:18:25.145Z"
   },
   {
    "duration": 428,
    "start_time": "2022-02-22T14:18:25.627Z"
   },
   {
    "duration": 347,
    "start_time": "2022-02-22T14:18:26.058Z"
   },
   {
    "duration": 480,
    "start_time": "2022-02-22T14:18:26.407Z"
   },
   {
    "duration": 636,
    "start_time": "2022-02-22T14:18:26.890Z"
   },
   {
    "duration": 16,
    "start_time": "2022-02-22T14:18:27.529Z"
   },
   {
    "duration": 591,
    "start_time": "2022-02-22T14:18:27.547Z"
   },
   {
    "duration": 18,
    "start_time": "2022-02-22T14:18:28.140Z"
   },
   {
    "duration": 732,
    "start_time": "2022-02-22T14:18:28.163Z"
   },
   {
    "duration": 34,
    "start_time": "2022-02-22T14:18:28.898Z"
   },
   {
    "duration": 33,
    "start_time": "2022-02-22T14:18:28.934Z"
   },
   {
    "duration": 61,
    "start_time": "2022-02-22T14:18:28.970Z"
   },
   {
    "duration": 1400,
    "start_time": "2022-02-22T14:20:03.234Z"
   },
   {
    "duration": 28,
    "start_time": "2022-02-22T14:20:04.636Z"
   },
   {
    "duration": 5,
    "start_time": "2022-02-22T14:20:04.667Z"
   },
   {
    "duration": 65,
    "start_time": "2022-02-22T14:20:04.675Z"
   },
   {
    "duration": 8,
    "start_time": "2022-02-22T14:20:04.742Z"
   },
   {
    "duration": 12,
    "start_time": "2022-02-22T14:20:04.753Z"
   },
   {
    "duration": 21,
    "start_time": "2022-02-22T14:20:04.768Z"
   },
   {
    "duration": 43,
    "start_time": "2022-02-22T14:20:04.792Z"
   },
   {
    "duration": 9,
    "start_time": "2022-02-22T14:20:04.838Z"
   },
   {
    "duration": 18,
    "start_time": "2022-02-22T14:20:04.850Z"
   },
   {
    "duration": 17,
    "start_time": "2022-02-22T14:20:04.870Z"
   },
   {
    "duration": 53,
    "start_time": "2022-02-22T14:20:04.890Z"
   },
   {
    "duration": 13,
    "start_time": "2022-02-22T14:20:04.947Z"
   },
   {
    "duration": 1083,
    "start_time": "2022-02-22T14:20:04.963Z"
   },
   {
    "duration": 349,
    "start_time": "2022-02-22T14:20:06.048Z"
   },
   {
    "duration": 462,
    "start_time": "2022-02-22T14:20:06.400Z"
   },
   {
    "duration": 351,
    "start_time": "2022-02-22T14:20:06.865Z"
   },
   {
    "duration": 463,
    "start_time": "2022-02-22T14:20:07.219Z"
   },
   {
    "duration": 602,
    "start_time": "2022-02-22T14:20:07.685Z"
   },
   {
    "duration": 36,
    "start_time": "2022-02-22T14:20:08.289Z"
   },
   {
    "duration": 664,
    "start_time": "2022-02-22T14:20:08.329Z"
   },
   {
    "duration": 31,
    "start_time": "2022-02-22T14:20:08.996Z"
   },
   {
    "duration": 695,
    "start_time": "2022-02-22T14:20:09.032Z"
   },
   {
    "duration": 16,
    "start_time": "2022-02-22T14:20:09.730Z"
   },
   {
    "duration": 30,
    "start_time": "2022-02-22T14:20:09.748Z"
   },
   {
    "duration": 60,
    "start_time": "2022-02-22T14:20:09.780Z"
   },
   {
    "duration": 1782,
    "start_time": "2022-02-22T14:21:18.798Z"
   },
   {
    "duration": 30,
    "start_time": "2022-02-22T14:21:20.583Z"
   },
   {
    "duration": 12,
    "start_time": "2022-02-22T14:21:20.616Z"
   },
   {
    "duration": 49,
    "start_time": "2022-02-22T14:21:20.631Z"
   },
   {
    "duration": 8,
    "start_time": "2022-02-22T14:21:20.682Z"
   },
   {
    "duration": 14,
    "start_time": "2022-02-22T14:21:20.692Z"
   },
   {
    "duration": 36,
    "start_time": "2022-02-22T14:21:20.708Z"
   },
   {
    "duration": 19,
    "start_time": "2022-02-22T14:21:20.748Z"
   },
   {
    "duration": 12,
    "start_time": "2022-02-22T14:21:20.769Z"
   },
   {
    "duration": 15,
    "start_time": "2022-02-22T14:21:20.783Z"
   },
   {
    "duration": 30,
    "start_time": "2022-02-22T14:21:20.800Z"
   },
   {
    "duration": 23,
    "start_time": "2022-02-22T14:21:20.833Z"
   },
   {
    "duration": 13,
    "start_time": "2022-02-22T14:21:20.858Z"
   },
   {
    "duration": 982,
    "start_time": "2022-02-22T14:21:20.873Z"
   },
   {
    "duration": 348,
    "start_time": "2022-02-22T14:21:21.858Z"
   },
   {
    "duration": 445,
    "start_time": "2022-02-22T14:21:22.208Z"
   },
   {
    "duration": 351,
    "start_time": "2022-02-22T14:21:22.656Z"
   },
   {
    "duration": 523,
    "start_time": "2022-02-22T14:21:23.010Z"
   },
   {
    "duration": 570,
    "start_time": "2022-02-22T14:21:23.536Z"
   },
   {
    "duration": 25,
    "start_time": "2022-02-22T14:21:24.110Z"
   },
   {
    "duration": 535,
    "start_time": "2022-02-22T14:21:24.138Z"
   },
   {
    "duration": 21,
    "start_time": "2022-02-22T14:21:24.675Z"
   },
   {
    "duration": 713,
    "start_time": "2022-02-22T14:21:24.700Z"
   },
   {
    "duration": 20,
    "start_time": "2022-02-22T14:21:25.427Z"
   },
   {
    "duration": 34,
    "start_time": "2022-02-22T14:21:25.450Z"
   },
   {
    "duration": 24,
    "start_time": "2022-02-22T14:21:25.527Z"
   }
  ],
  "kernelspec": {
   "display_name": "Python 3 (ipykernel)",
   "language": "python",
   "name": "python3"
  },
  "language_info": {
   "codemirror_mode": {
    "name": "ipython",
    "version": 3
   },
   "file_extension": ".py",
   "mimetype": "text/x-python",
   "name": "python",
   "nbconvert_exporter": "python",
   "pygments_lexer": "ipython3",
   "version": "3.9.7"
  },
  "toc": {
   "base_numbering": 1,
   "nav_menu": {},
   "number_sections": true,
   "sideBar": true,
   "skip_h1_title": true,
   "title_cell": "Table of Contents",
   "title_sidebar": "Contents",
   "toc_cell": false,
   "toc_position": {},
   "toc_section_display": true,
   "toc_window_display": false
  }
 },
 "nbformat": 4,
 "nbformat_minor": 2
}
